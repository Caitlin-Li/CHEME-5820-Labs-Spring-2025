{
 "cells": [
  {
   "cell_type": "markdown",
   "id": "8ad43c13-6cb6-43ba-90b5-4688aa087375",
   "metadata": {},
   "source": [
    "# Lab 2b: Eigendecomposition of Stoichiometric Matrices\n",
    "In this lab, we'll explore the eigendecomposition of a standard matrix in chemical systems: the stoichiometric matrix $\\mathbf{S}$. The stoichiometric matrix is the digital representation of a chemical reaction system.\n",
    "\n",
    "__What is a stoichiometric matrix?__\n",
    "\n",
    "Suppose we have a set of chemical (or biochemical) reactions $\\mathcal{R}$ involving the chemical species (metabolite) set $\\mathcal{M}$. Then, the stoichiometric matrix is a $\\mathbf{S}\\in\\mathbb{R}^{|\\mathcal{M}|\\times|\\mathcal{R}|}$ matrix that holds the stoichiometric coefficients $\\sigma_{ij}\\in\\mathbf{S}$ such that:\n",
    "* $\\sigma_{ij}>0$: Chemical species (metabolite) $i$ is _produced_ by reaction $j$. Species $i$ is a product of reaction $j$.\n",
    "* $\\sigma_{ij} = 0$: Chemical species (metabolite) $i$ is not connected with reaction $j$\n",
    "* $\\sigma_{ij}<0$: Chemical species (metabolite) $i$ is _consumed_ by reaction $j$. Species $i$ is a reactant of reaction $j$."
   ]
  },
  {
   "cell_type": "markdown",
   "id": "d1018fc3-c3b2-4c66-9c03-17e4b0a1d8fa",
   "metadata": {},
   "source": [
    "## Setup, Data and Prerequisites\n",
    "We set up the computational environment by including the `Include.jl` file, loading any needed resources, such as sample datasets, and setting up any required constants. The `Include.jl` file loads external packages, various functions that we will use in the exercise, and custom types to model the components of our problem."
   ]
  },
  {
   "cell_type": "code",
   "execution_count": 3,
   "id": "a955d0e5-44a6-43c2-9e19-690e523d2068",
   "metadata": {},
   "outputs": [],
   "source": [
    "include(\"Include.jl\");"
   ]
  },
  {
   "cell_type": "markdown",
   "id": "8e164a9e-f226-4120-a7cf-5575f73296bf",
   "metadata": {},
   "source": [
    "### Data\n",
    "We developed a simple software development kit (SDK) against [the BiGG Models application programming interface at the University of California, San Diego](http://bigg.ucsd.edu/).\n",
    "* [The BiGG models API](http://bigg.ucsd.edu/data_access) allows users to programmatically access genome-scale stoichiometric model reconstructions using a simple web API. There are `108` models of intracellular biochemistry occurring in various organisms (including humans) in the database (so far).\n",
    "* Here, we'll explore the [core metabolic model of Palsson and coworkers](https://pubmed.ncbi.nlm.nih.gov/26443778/), which is a scaled-down model of [carbohydrate metabolism](https://en.wikipedia.org/wiki/Carbohydrate_metabolism) in _E.coli_. This model has 72 metabolites and 95 reactions."
   ]
  },
  {
   "cell_type": "code",
   "execution_count": 5,
   "id": "5651b4e0-a56f-43d7-b350-3caeb68bed66",
   "metadata": {},
   "outputs": [
    {
     "data": {
      "text/plain": [
       "Dict{String, Any} with 6 entries:\n",
       "  \"metabolites\"  => Any[Dict{String, Any}(\"compartment\"=>\"e\", \"name\"=>\"D-Glucos…\n",
       "  \"id\"           => \"e_coli_core\"\n",
       "  \"compartments\" => Dict{String, Any}(\"c\"=>\"cytosol\", \"e\"=>\"extracellular space…\n",
       "  \"reactions\"    => Any[Dict{String, Any}(\"name\"=>\"Phosphofructokinase\", \"metab…\n",
       "  \"version\"      => \"1\"\n",
       "  \"genes\"        => Any[Dict{String, Any}(\"name\"=>\"adhE\", \"id\"=>\"b1241\", \"notes…"
      ]
     },
     "execution_count": 5,
     "metadata": {},
     "output_type": "execute_result"
    }
   ],
   "source": [
    "model = let\n",
    "\n",
    "    # build download endpoint -\n",
    "    baseurl = \"http://bigg.ucsd.edu\"; # base url to download model\n",
    "    modelid = \"e_coli_core\"; # model id to download\n",
    "    path_to_saved_model_file = joinpath(_PATH_TO_DATA, \"saved-model-$(modelid).jld2\");\n",
    "\n",
    "    # check: do we have a model file saved?\n",
    "    model = nothing;\n",
    "    if (isfile(path_to_saved_model_file) == false)\n",
    "        \n",
    "        endpoint = MyBiggModelsDownloadModelEndpointModel();\n",
    "        endpoint.bigg_id = modelid;\n",
    "        url = build(baseurl, endpoint)\n",
    "        model = MyBiggModelsDownloadModelEndpointModel(url);\n",
    "\n",
    "        # Before we move on, save this model for later (so we don't keep hitting the API)\n",
    "        save(path_to_saved_model_file, Dict(\"model\" => model));\n",
    "    else\n",
    "        model = load(path_to_saved_model_file)[\"model\"];\n",
    "    end\n",
    "    model; # return the model (either saved, or downloaded)\n",
    "end"
   ]
  },
  {
   "cell_type": "markdown",
   "id": "fddedbf8-8031-492f-89ee-cfce4a37facc",
   "metadata": {},
   "source": [
    "Next, let's build a stoichiometric matrix."
   ]
  },
  {
   "cell_type": "code",
   "execution_count": 7,
   "id": "9afddf7b-38d8-4330-8334-5bdf7fdea790",
   "metadata": {},
   "outputs": [
    {
     "data": {
      "text/plain": [
       "Dict{String, Any} with 7 entries:\n",
       "  \"compartment\" => \"e\"\n",
       "  \"name\"        => \"D-Glucose\"\n",
       "  \"formula\"     => \"C6H12O6\"\n",
       "  \"id\"          => \"glc__D_e\"\n",
       "  \"charge\"      => 0\n",
       "  \"notes\"       => Dict{String, Any}(\"original_bigg_ids\"=>Any[\"glc_D_e\"])\n",
       "  \"annotation\"  => Dict{String, Any}(\"kegg.drug\"=>Any[\"D00009\"], \"sabiork\"=>Any…"
      ]
     },
     "execution_count": 7,
     "metadata": {},
     "output_type": "execute_result"
    }
   ],
   "source": [
    "model[\"metabolites\"][1] # example metabolite record"
   ]
  },
  {
   "cell_type": "code",
   "execution_count": 8,
   "id": "9a972ff2-5203-4aca-ab7c-3fda49f8162c",
   "metadata": {},
   "outputs": [
    {
     "data": {
      "text/plain": [
       "Dict{String, Any} with 9 entries:\n",
       "  \"name\"               => \"Phosphofructokinase\"\n",
       "  \"metabolites\"        => Dict{String, Any}(\"adp_c\"=>1.0, \"atp_c\"=>-1.0, \"f6p_c…\n",
       "  \"lower_bound\"        => 0.0\n",
       "  \"id\"                 => \"PFK\"\n",
       "  \"notes\"              => Dict{String, Any}(\"original_bigg_ids\"=>Any[\"PFK\"])\n",
       "  \"gene_reaction_rule\" => \"b3916 or b1723\"\n",
       "  \"upper_bound\"        => 1000.0\n",
       "  \"subsystem\"          => \"Glycolysis/Gluconeogenesis\"\n",
       "  \"annotation\"         => Dict{String, Any}(\"bigg.reaction\"=>Any[\"PFK\"], \"metan…"
      ]
     },
     "execution_count": 8,
     "metadata": {},
     "output_type": "execute_result"
    }
   ],
   "source": [
    "model[\"reactions\"][1] # example reaction record"
   ]
  },
  {
   "cell_type": "code",
   "execution_count": 9,
   "id": "59ccfc68-3498-4cac-bed6-846ad7281736",
   "metadata": {},
   "outputs": [],
   "source": [
    "S = let\n",
    "\n",
    "    # get some data from the model -\n",
    "    m = model[\"metabolites\"]; # get list of metabolites\n",
    "    r = model[\"reactions\"]; # get list of reactions\n",
    "    number_of_rows = length(m); # how many metabolites do we have? (rows)\n",
    "    number_of_cols = length(r); # how many reactions do we have? (cols)\n",
    "    S = zeros(number_of_rows,number_of_cols); # initialize an empty stoichiometric matrix\n",
    "\n",
    "    # let's build a stm -\n",
    "    for i ∈ eachindex(m)\n",
    "        metabolite = m[i][\"id\"]; # we are checking if this metabolite is in the reaction record\n",
    "        for j ∈ eachindex(r)\n",
    "            reaction = r[j];\n",
    "            if (haskey(reaction[\"metabolites\"], metabolite) == true)\n",
    "                S[i,j] = reaction[\"metabolites\"][metabolite];\n",
    "            end\n",
    "        end\n",
    "    end\n",
    "    S;\n",
    "\n",
    "    \n",
    "end;"
   ]
  },
  {
   "cell_type": "markdown",
   "id": "9d6a9108-39ef-47f2-9a52-c37621761e40",
   "metadata": {},
   "source": [
    "Binary stoichiometric array."
   ]
  },
  {
   "cell_type": "code",
   "execution_count": 11,
   "id": "1c9cc289-ca72-4372-bbda-67a1533d1257",
   "metadata": {},
   "outputs": [
    {
     "data": {
      "text/plain": [
       "72×95 Matrix{Float64}:\n",
       " 0.0  0.0  0.0  0.0  0.0  0.0  0.0  0.0  …  0.0  0.0  0.0  0.0  0.0  0.0  0.0\n",
       " 0.0  0.0  0.0  0.0  0.0  0.0  0.0  0.0     0.0  0.0  0.0  0.0  0.0  0.0  0.0\n",
       " 0.0  0.0  0.0  0.0  0.0  0.0  0.0  0.0     0.0  0.0  0.0  0.0  0.0  0.0  0.0\n",
       " 0.0  0.0  0.0  0.0  0.0  0.0  0.0  0.0     0.0  0.0  0.0  0.0  0.0  0.0  0.0\n",
       " 0.0  0.0  0.0  0.0  0.0  0.0  0.0  0.0     0.0  0.0  0.0  0.0  0.0  0.0  0.0\n",
       " 0.0  0.0  0.0  0.0  0.0  0.0  0.0  0.0  …  0.0  0.0  0.0  0.0  0.0  0.0  0.0\n",
       " 0.0  0.0  0.0  0.0  1.0  0.0  0.0  0.0     0.0  0.0  0.0  0.0  0.0  0.0  0.0\n",
       " 0.0  0.0  0.0  0.0  0.0  0.0  0.0  0.0     0.0  0.0  0.0  0.0  0.0  0.0  0.0\n",
       " 1.0  0.0  0.0  0.0  1.0  1.0  1.0  0.0     0.0  0.0  1.0  0.0  0.0  0.0  0.0\n",
       " 0.0  0.0  0.0  0.0  0.0  0.0  1.0  0.0     0.0  0.0  1.0  0.0  0.0  0.0  0.0\n",
       " 0.0  0.0  0.0  0.0  0.0  0.0  0.0  0.0  …  0.0  0.0  0.0  0.0  0.0  0.0  0.0\n",
       " 0.0  0.0  0.0  0.0  0.0  0.0  0.0  0.0     0.0  0.0  0.0  0.0  0.0  0.0  0.0\n",
       " 0.0  0.0  0.0  0.0  0.0  0.0  0.0  0.0     0.0  0.0  0.0  0.0  0.0  0.0  0.0\n",
       " ⋮                        ⋮              ⋱            ⋮                   \n",
       " 0.0  0.0  0.0  0.0  0.0  0.0  0.0  0.0  …  0.0  0.0  0.0  0.0  0.0  0.0  0.0\n",
       " 0.0  0.0  0.0  0.0  0.0  0.0  0.0  0.0     0.0  0.0  0.0  0.0  0.0  0.0  0.0\n",
       " 0.0  0.0  0.0  0.0  0.0  0.0  0.0  0.0     0.0  0.0  0.0  0.0  0.0  0.0  0.0\n",
       " 1.0  0.0  1.0  0.0  0.0  0.0  0.0  0.0     0.0  0.0  0.0  0.0  0.0  0.0  0.0\n",
       " 1.0  0.0  0.0  0.0  0.0  0.0  0.0  0.0     0.0  0.0  0.0  0.0  0.0  0.0  0.0\n",
       " 0.0  1.0  0.0  0.0  0.0  0.0  0.0  0.0  …  0.0  0.0  0.0  0.0  0.0  0.0  0.0\n",
       " 0.0  0.0  0.0  0.0  0.0  0.0  0.0  0.0     0.0  0.0  0.0  0.0  0.0  0.0  0.0\n",
       " 0.0  0.0  0.0  0.0  0.0  0.0  0.0  0.0     0.0  0.0  0.0  0.0  0.0  0.0  0.0\n",
       " 0.0  0.0  0.0  0.0  0.0  0.0  0.0  0.0     0.0  0.0  0.0  0.0  0.0  0.0  0.0\n",
       " 0.0  0.0  0.0  0.0  0.0  0.0  0.0  0.0     0.0  0.0  0.0  0.0  0.0  0.0  0.0\n",
       " 0.0  0.0  0.0  0.0  0.0  0.0  0.0  0.0  …  0.0  0.0  0.0  0.0  0.0  0.0  0.0\n",
       " 0.0  0.0  1.0  0.0  0.0  0.0  0.0  0.0     0.0  0.0  0.0  0.0  0.0  0.0  0.0"
      ]
     },
     "execution_count": 11,
     "metadata": {},
     "output_type": "execute_result"
    }
   ],
   "source": [
    "Ŝ = let\n",
    "\n",
    "    (m,r) = size(S);\n",
    "    Ŝ = zeros(m,r);\n",
    "\n",
    "    for i ∈ 1:m\n",
    "        for j ∈ 1:r\n",
    "            if (S[i,j] != 0.0)\n",
    "                Ŝ[i,j] = 1.0;\n",
    "            end\n",
    "        end\n",
    "    end    \n",
    "    Ŝ;\n",
    "end"
   ]
  },
  {
   "cell_type": "code",
   "execution_count": 12,
   "id": "ad83683e-e022-4aba-b82e-6ca3ed559c37",
   "metadata": {},
   "outputs": [
    {
     "data": {
      "text/plain": [
       "5-element Vector{String}:\n",
       " \"h_c\"\n",
       " \"adp_c\"\n",
       " \"atp_c\"\n",
       " \"f6p_c\"\n",
       " \"fdp_c\""
      ]
     },
     "execution_count": 12,
     "metadata": {},
     "output_type": "execute_result"
    }
   ],
   "source": [
    "i = S[:,1] |> x -> findall(m -> m != 0.0, x);\n",
    "m = model[\"metabolites\"][i] .|> m -> m[\"id\"]"
   ]
  },
  {
   "cell_type": "code",
   "execution_count": 13,
   "id": "95dca22c-b087-4587-a9d9-df1502671041",
   "metadata": {},
   "outputs": [
    {
     "data": {
      "text/plain": [
       "95×95 Matrix{Float64}:\n",
       "  5.0   0.0  -1.0   2.0   1.0   1.0  …   0.0   -4.0   0.0  0.0  0.0   0.0\n",
       "  0.0   4.0   0.0   0.0   0.0   2.0     -1.0    0.0   0.0  0.0  0.0   3.0\n",
       " -1.0   0.0   2.0   0.0   0.0   0.0      0.0    0.0   0.0  0.0  0.0   0.0\n",
       "  2.0   0.0   0.0   4.0   0.0   0.0      0.0    0.0   0.0  0.0  0.0   0.0\n",
       "  1.0   0.0   0.0   0.0   4.0   1.0      0.0   -4.0   0.0  0.0  0.0   0.0\n",
       "  1.0   2.0   0.0   0.0   1.0   6.0  …   0.0   -6.0   2.0  0.0  0.0   4.0\n",
       "  1.0   0.0   0.0   0.0   1.0   1.0      0.0   -7.0   0.0  0.0  0.0   0.0\n",
       "  0.0   0.0   0.0  -1.0   0.0   0.0      0.0    0.0   0.0  0.0  0.0   0.0\n",
       "  1.0   0.0   0.0   0.0   1.0   1.0      0.0   -7.0   0.0  0.0  0.0   0.0\n",
       "  1.0   0.0   0.0   0.0   1.0   2.0      0.0   -6.0   2.0  0.0  0.0   2.0\n",
       "  0.0   0.0   0.0   0.0   0.0  -1.0  …   0.0    0.0   0.0  0.0  0.0   0.0\n",
       "  2.0   0.0   0.0   2.0   0.0   0.0      0.0    0.0   0.0  0.0  0.0   0.0\n",
       "  1.0   0.0   0.0   0.0   2.0   1.0     -1.0   -4.0   0.0  0.0  0.0  -1.0\n",
       "  ⋮                             ⋮    ⋱          ⋮                    \n",
       "  0.0   0.0   0.0   0.0   0.0   0.0      0.0    0.0   0.0  0.0  0.0   0.0\n",
       "  1.0  -1.0   0.0   0.0   1.0   3.0      1.0   -6.0   2.0  0.0  0.0   1.0\n",
       "  1.0  -2.0   0.0   0.0   2.0  -1.0  …  -1.0   -4.0   0.0  0.0  0.0  -2.0\n",
       "  2.0   0.0   0.0   0.0   2.0   2.0     -1.0  -14.0   0.0  0.0  0.0   0.0\n",
       "  1.0   0.0   0.0   0.0   1.0   3.0      1.0   -6.0   2.0  0.0  0.0   2.0\n",
       "  0.0  -1.0   0.0   0.0   0.0   2.0      3.0   -2.0   2.0  0.0  0.0   2.0\n",
       "  0.0  -1.0   0.0   0.0   0.0   0.0      5.0    0.0  -2.0  0.0  0.0   0.0\n",
       " -4.0   0.0   0.0   0.0  -4.0  -6.0  …   0.0   29.0  -2.0  0.0  0.0  -2.0\n",
       "  0.0   0.0   0.0   0.0   0.0   2.0     -2.0   -2.0   4.0  0.0  0.0   2.0\n",
       "  0.0   0.0   0.0   0.0   0.0   0.0      0.0    0.0   0.0  2.0  0.0   0.0\n",
       "  0.0   0.0   0.0   0.0   0.0   0.0      0.0    0.0   0.0  0.0  2.0   0.0\n",
       "  0.0   3.0   0.0   0.0   0.0   4.0      0.0   -2.0   2.0  0.0  0.0   6.0"
      ]
     },
     "execution_count": 13,
     "metadata": {},
     "output_type": "execute_result"
    }
   ],
   "source": [
    "A = transpose(S)*S"
   ]
  },
  {
   "cell_type": "code",
   "execution_count": 14,
   "id": "b7561591-026c-49fe-b8e7-33619f4eafdf",
   "metadata": {},
   "outputs": [],
   "source": [
    "(λ, V) = let\n",
    "    F = eigen(A)\n",
    "    λ = F.values\n",
    "    V = F.vectors;\n",
    "    λ,V\n",
    "end;"
   ]
  },
  {
   "cell_type": "code",
   "execution_count": 15,
   "id": "19bbb025-3688-4938-be93-b3a32358a837",
   "metadata": {},
   "outputs": [
    {
     "data": {
      "text/plain": [
       "95-element Vector{Float64}:\n",
       "    -5.43916732781253e-13\n",
       "    -3.1345029002727397e-13\n",
       "    -1.4368964136799667e-13\n",
       "    -2.4609023408405857e-14\n",
       "    -1.9085291125109742e-14\n",
       "    -1.605095040435873e-14\n",
       "    -9.5011692322834e-15\n",
       "    -9.43459782200966e-15\n",
       "    -8.218911057864698e-15\n",
       "    -6.650847310648314e-15\n",
       "    -6.604102758255699e-15\n",
       "    -5.7953895714569975e-15\n",
       "    -5.3013149425851225e-15\n",
       "     ⋮\n",
       "     7.179651550389857\n",
       "     7.981251263708931\n",
       "     9.303622040338322\n",
       "    11.409865219522086\n",
       "    12.527717460707946\n",
       "    14.051747930083371\n",
       "    14.948791470915314\n",
       "    20.036045187910993\n",
       "    23.11730912834329\n",
       "    28.587080267156356\n",
       "   110.07704573669785\n",
       " 18380.95463382443"
      ]
     },
     "execution_count": 15,
     "metadata": {},
     "output_type": "execute_result"
    }
   ],
   "source": [
    "λ"
   ]
  },
  {
   "cell_type": "code",
   "execution_count": 16,
   "id": "437ebf68-84c8-4b3d-9a9f-0c691ef2bb3a",
   "metadata": {},
   "outputs": [],
   "source": [
    "imax = argmax(abs.(V[:,92]));"
   ]
  },
  {
   "cell_type": "code",
   "execution_count": 17,
   "id": "048a3e1a-2ac0-4033-a559-e3d0c1394afb",
   "metadata": {},
   "outputs": [
    {
     "data": {
      "text/plain": [
       "Dict{String, Any} with 9 entries:\n",
       "  \"name\"               => \"Glutamate synthase (NADPH)\"\n",
       "  \"metabolites\"        => Dict{String, Any}(\"glu__L_c\"=>2.0, \"nadph_c\"=>-1.0, \"…\n",
       "  \"lower_bound\"        => 0.0\n",
       "  \"id\"                 => \"GLUSy\"\n",
       "  \"notes\"              => Dict{String, Any}(\"original_bigg_ids\"=>Any[\"GLUSy\"])\n",
       "  \"gene_reaction_rule\" => \"b3212 and b3213\"\n",
       "  \"upper_bound\"        => 1000.0\n",
       "  \"subsystem\"          => \"Glutamate Metabolism\"\n",
       "  \"annotation\"         => Dict{String, Any}(\"bigg.reaction\"=>Any[\"GLUSy\"], \"sab…"
      ]
     },
     "execution_count": 17,
     "metadata": {},
     "output_type": "execute_result"
    }
   ],
   "source": [
    "model[\"reactions\"][imax]"
   ]
  },
  {
   "cell_type": "code",
   "execution_count": 18,
   "id": "c658c77b-621f-4508-bc00-6e4b30fa3bd4",
   "metadata": {},
   "outputs": [
    {
     "data": {
      "text/plain": [
       "95-element Vector{Float64}:\n",
       "    -5.43916732781253e-13\n",
       "    -3.1345029002727397e-13\n",
       "    -1.4368964136799667e-13\n",
       "    -2.4609023408405857e-14\n",
       "    -1.9085291125109742e-14\n",
       "    -1.605095040435873e-14\n",
       "    -9.5011692322834e-15\n",
       "    -9.43459782200966e-15\n",
       "    -8.218911057864698e-15\n",
       "    -6.650847310648314e-15\n",
       "    -6.604102758255699e-15\n",
       "    -5.7953895714569975e-15\n",
       "    -5.3013149425851225e-15\n",
       "     ⋮\n",
       "     7.179651550389857\n",
       "     7.981251263708931\n",
       "     9.303622040338322\n",
       "    11.409865219522086\n",
       "    12.527717460707946\n",
       "    14.051747930083371\n",
       "    14.948791470915314\n",
       "    20.036045187910993\n",
       "    23.11730912834329\n",
       "    28.587080267156356\n",
       "   110.07704573669785\n",
       " 18380.95463382443"
      ]
     },
     "execution_count": 18,
     "metadata": {},
     "output_type": "execute_result"
    }
   ],
   "source": [
    "λ"
   ]
  },
  {
   "cell_type": "code",
   "execution_count": 19,
   "id": "1df47baf-6243-445e-b8de-2be7438b5826",
   "metadata": {},
   "outputs": [
    {
     "data": {
      "text/plain": [
       "72×72 Matrix{Float64}:\n",
       "  2.0    0.0         0.0     0.0       …   0.0   0.0   0.0         -1.0\n",
       "  0.0    4.06538    -1.0    -2.73648       0.0   0.0   0.0329853    0.0524185\n",
       "  0.0   -1.0         2.0     0.0           0.0   0.0   0.0          0.0\n",
       "  0.0   -2.73648     0.0    32.4174        0.0   0.0   0.637441     1.01299\n",
       "  0.0    0.0         0.0    -1.0           0.0   0.0   0.0          0.0\n",
       "  0.0    0.0         0.0     0.0       …   0.0   0.0   0.0          0.0\n",
       "  0.0   15.2934      1.0   295.545         1.0   0.0   7.71549     12.261\n",
       "  0.0    0.0         0.0     0.0           0.0   0.0   0.0          0.0\n",
       "  0.0  -12.2934     -1.0  -298.545         2.0  -2.0  -8.71549    -13.261\n",
       "  0.0    0.0         0.0    -1.0          -2.0   2.0   0.0          0.0\n",
       "  0.0    0.0         0.0     0.0       …   0.0   0.0   0.0          0.0\n",
       "  0.0    0.0         0.0     0.0           0.0   0.0   0.0          0.0\n",
       "  0.0    0.0         0.0     0.0           0.0   0.0   0.0          0.0\n",
       "  ⋮                                    ⋱               ⋮          \n",
       "  0.0    0.0923077   0.0     1.78385   …   0.0   0.0  -1.95343      0.074005\n",
       "  0.0    0.0         0.0     0.0           0.0   0.0   0.0          0.0\n",
       "  0.0    0.0         0.0     0.0           0.0   0.0   0.0          0.0\n",
       "  0.0    0.0181291   0.0     0.350345      0.0   0.0   0.0091461   -0.985465\n",
       "  0.0    0.0         0.0     0.0           0.0   0.0  -1.0          0.0\n",
       "  0.0    0.0         0.0     0.0       …   0.0   0.0   0.0          0.0\n",
       "  0.0    0.0         0.0     0.0           0.0   0.0   0.0          0.0\n",
       "  0.0    0.0         0.0     0.0           0.0   0.0   0.0          0.0\n",
       "  0.0    0.0         0.0     0.0           4.0  -1.0   0.0          0.0\n",
       "  0.0    0.0         0.0     0.0          -1.0   2.0   0.0          0.0\n",
       "  0.0    0.0329853   0.0     0.637441  …   0.0   0.0   6.01664      0.026445\n",
       " -1.0    0.0524185   0.0     1.01299       0.0   0.0   0.026445     3.04202"
      ]
     },
     "execution_count": 19,
     "metadata": {},
     "output_type": "execute_result"
    }
   ],
   "source": [
    "B = S*transpose(S)"
   ]
  },
  {
   "cell_type": "code",
   "execution_count": 20,
   "id": "b3c868ab-ce23-479f-98a8-67a7af883e0f",
   "metadata": {},
   "outputs": [],
   "source": [
    "(λ̂, V̂) = let\n",
    "    F = eigen(B)\n",
    "    λ = F.values\n",
    "    V = F.vectors;\n",
    "    λ,V\n",
    "end;"
   ]
  },
  {
   "cell_type": "code",
   "execution_count": 21,
   "id": "8fdbb890-0f39-406e-92eb-906b57f98b8f",
   "metadata": {},
   "outputs": [
    {
     "data": {
      "text/plain": [
       "72-element Vector{Float64}:\n",
       "    -2.5139842438751256e-13\n",
       "    -1.036257577237626e-15\n",
       "    -7.912576699525912e-16\n",
       "    -1.0359315354547157e-16\n",
       "     8.296695395685386e-13\n",
       "     0.013482156741456438\n",
       "     0.11584214049426257\n",
       "     0.1547500835845582\n",
       "     0.2003211061826032\n",
       "     0.29949893101043173\n",
       "     0.3725051995305418\n",
       "     0.40158399313598475\n",
       "     0.4321113939614752\n",
       "     ⋮\n",
       "     7.179651550389532\n",
       "     7.981251263708104\n",
       "     9.303622040337865\n",
       "    11.409865219521995\n",
       "    12.527717460707915\n",
       "    14.051747930083273\n",
       "    14.94879147091537\n",
       "    20.03604518791126\n",
       "    23.117309128343408\n",
       "    28.58708026715736\n",
       "   110.0770457366979\n",
       " 18380.95463382443"
      ]
     },
     "execution_count": 21,
     "metadata": {},
     "output_type": "execute_result"
    }
   ],
   "source": [
    "λ̂"
   ]
  },
  {
   "cell_type": "code",
   "execution_count": 51,
   "id": "95f133b9-fca1-4812-af87-8f9f195b7127",
   "metadata": {},
   "outputs": [],
   "source": [
    "imax = argmax(abs.(V̂[:,70]));"
   ]
  },
  {
   "cell_type": "code",
   "execution_count": 53,
   "id": "63d251c7-55f6-4cf7-af40-0dfaff3263ed",
   "metadata": {},
   "outputs": [
    {
     "data": {
      "text/plain": [
       "Dict{String, Any} with 7 entries:\n",
       "  \"compartment\" => \"c\"\n",
       "  \"name\"        => \"Nicotinamide adenine dinucleotide\"\n",
       "  \"formula\"     => \"C21H26N7O14P2\"\n",
       "  \"id\"          => \"nad_c\"\n",
       "  \"charge\"      => -1\n",
       "  \"notes\"       => Dict{String, Any}(\"original_bigg_ids\"=>Any[\"nad_c\"])\n",
       "  \"annotation\"  => Dict{String, Any}(\"kegg.drug\"=>Any[\"D00002\"], \"sabiork\"=>Any…"
      ]
     },
     "execution_count": 53,
     "metadata": {},
     "output_type": "execute_result"
    }
   ],
   "source": [
    "model[\"metabolites\"][imax]"
   ]
  },
  {
   "cell_type": "code",
   "execution_count": null,
   "id": "647b58f6-361c-4463-bcd7-a0aa86e10c94",
   "metadata": {},
   "outputs": [],
   "source": []
  }
 ],
 "metadata": {
  "kernelspec": {
   "display_name": "Julia 1.11.3",
   "language": "julia",
   "name": "julia-1.11"
  },
  "language_info": {
   "file_extension": ".jl",
   "mimetype": "application/julia",
   "name": "julia",
   "version": "1.11.3"
  }
 },
 "nbformat": 4,
 "nbformat_minor": 5
}
