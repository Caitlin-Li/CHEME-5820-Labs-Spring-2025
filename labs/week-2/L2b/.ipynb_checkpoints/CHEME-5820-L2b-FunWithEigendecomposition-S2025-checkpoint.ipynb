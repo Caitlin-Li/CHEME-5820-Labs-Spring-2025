{
 "cells": [
  {
   "cell_type": "markdown",
   "id": "8ad43c13-6cb6-43ba-90b5-4688aa087375",
   "metadata": {},
   "source": [
    "# Lab 2b: Eigendecomposition of Stoichiometric Matrices\n",
    "In this lab, we'll explore the eigendecomposition of a standard matrix in chemical systems: the stoichiometric matrix $\\mathbf{S}$. The stoichiometric matrix is the digital representation of a chemical reaction system.\n",
    "\n",
    "__What is a stoichiometric matrix?__\n",
    "\n",
    "Suppose we have a set of chemical (or biochemical) reactions $\\mathcal{R}$ involving the chemical species (metabolite) set $\\mathcal{M}$. Then, the stoichiometric matrix is a $\\mathbf{S}\\in\\mathbb{R}^{|\\mathcal{M}|\\times|\\mathcal{R}|}$ matrix that holds the stoichiometric coefficients $\\sigma_{ij}\\in\\mathbf{S}$ such that:\n",
    "* $\\sigma_{ij}>0$: Chemical species (metabolite) $i$ is _produced_ by reaction $j$. Species $i$ is a product of reaction $j$.\n",
    "* $\\sigma_{ij} = 0$: Chemical species (metabolite) $i$ is not connected with reaction $j$\n",
    "* $\\sigma_{ij}<0$: Chemical species (metabolite) $i$ is _consumed_ by reaction $j$. Species $i$ is a reactant of reaction $j$."
   ]
  },
  {
   "cell_type": "markdown",
   "id": "d1018fc3-c3b2-4c66-9c03-17e4b0a1d8fa",
   "metadata": {},
   "source": [
    "## Setup, Data and Prerequisites\n",
    "We set up the computational environment by including the `Include.jl` file, loading any needed resources, such as sample datasets, and setting up any required constants. The `Include.jl` file loads external packages, various functions that we will use in the exercise, and custom types to model the components of our problem."
   ]
  },
  {
   "cell_type": "code",
   "execution_count": 60,
   "id": "a955d0e5-44a6-43c2-9e19-690e523d2068",
   "metadata": {},
   "outputs": [],
   "source": [
    "include(\"Include.jl\");"
   ]
  },
  {
   "cell_type": "markdown",
   "id": "8e164a9e-f226-4120-a7cf-5575f73296bf",
   "metadata": {},
   "source": [
    "### Data\n",
    "We developed a simple software development kit (SDK) against [the BiGG Models application programming interface at the University of California, San Diego](http://bigg.ucsd.edu/).\n",
    "* [The BiGG models API](http://bigg.ucsd.edu/data_access) allows users to programmatically access genome-scale stoichiometric model reconstructions using a simple web API. There are `108` models of intracellular biochemistry occurring in various organisms (including humans) in the database (so far).\n",
    "* Here, we'll explore the [core metabolic model of Palsson and coworkers](https://pubmed.ncbi.nlm.nih.gov/26443778/), which is a scaled-down model of [carbohydrate metabolism](https://en.wikipedia.org/wiki/Carbohydrate_metabolism) in _E.coli_. This model has 72 metabolites and 95 reactions.\n",
    "\n",
    "We call the model download endpoint of [the BiGG models API](http://bigg.ucsd.edu/data_access) and then save the model file to disk (so we don't hit the API unless we have to). This call returns model information organized as [a Julia dictionary](https://docs.julialang.org/en/v1/base/collections/#Base.Dict) in the `model::Dict{String, Any}` variable. If a model file is saved, we use the cached file instead of making an API call."
   ]
  },
  {
   "cell_type": "code",
   "execution_count": 62,
   "id": "5651b4e0-a56f-43d7-b350-3caeb68bed66",
   "metadata": {},
   "outputs": [
    {
     "data": {
      "text/plain": [
       "Dict{String, Any} with 6 entries:\n",
       "  \"metabolites\"  => Any[Dict{String, Any}(\"compartment\"=>\"e\", \"name\"=>\"D-Glucos…\n",
       "  \"id\"           => \"e_coli_core\"\n",
       "  \"compartments\" => Dict{String, Any}(\"c\"=>\"cytosol\", \"e\"=>\"extracellular space…\n",
       "  \"reactions\"    => Any[Dict{String, Any}(\"name\"=>\"Phosphofructokinase\", \"metab…\n",
       "  \"version\"      => \"1\"\n",
       "  \"genes\"        => Any[Dict{String, Any}(\"name\"=>\"adhE\", \"id\"=>\"b1241\", \"notes…"
      ]
     },
     "execution_count": 62,
     "metadata": {},
     "output_type": "execute_result"
    }
   ],
   "source": [
    "model = let\n",
    "\n",
    "    # build download endpoint -\n",
    "    baseurl = \"http://bigg.ucsd.edu\"; # base url to download model\n",
    "    modelid = \"e_coli_core\"; # model id to download\n",
    "    path_to_saved_model_file = joinpath(_PATH_TO_DATA, \"saved-model-$(modelid).jld2\");\n",
    "\n",
    "    # check: do we have a model file saved?\n",
    "    model = nothing;\n",
    "    if (isfile(path_to_saved_model_file) == false)\n",
    "        \n",
    "        endpoint = MyBiggModelsDownloadModelEndpointModel();\n",
    "        endpoint.bigg_id = modelid;\n",
    "        url = build(baseurl, endpoint)\n",
    "        model = MyBiggModelsDownloadModelEndpointModel(url);\n",
    "\n",
    "        # Before we move on, save this model for later (so we don't keep hitting the API)\n",
    "        save(path_to_saved_model_file, Dict(\"model\" => model));\n",
    "    else\n",
    "        model = load(path_to_saved_model_file)[\"model\"];\n",
    "    end\n",
    "    model; # return the model (either saved, or downloaded)\n",
    "end"
   ]
  },
  {
   "cell_type": "markdown",
   "id": "fddedbf8-8031-492f-89ee-cfce4a37facc",
   "metadata": {},
   "source": [
    "Next, let's build a stoichiometric matrix $\\mathbf{S}$."
   ]
  },
  {
   "cell_type": "code",
   "execution_count": 64,
   "id": "9afddf7b-38d8-4330-8334-5bdf7fdea790",
   "metadata": {},
   "outputs": [
    {
     "data": {
      "text/plain": [
       "Dict{String, Any} with 7 entries:\n",
       "  \"compartment\" => \"e\"\n",
       "  \"name\"        => \"D-Glucose\"\n",
       "  \"formula\"     => \"C6H12O6\"\n",
       "  \"id\"          => \"glc__D_e\"\n",
       "  \"charge\"      => 0\n",
       "  \"notes\"       => Dict{String, Any}(\"original_bigg_ids\"=>Any[\"glc_D_e\"])\n",
       "  \"annotation\"  => Dict{String, Any}(\"kegg.drug\"=>Any[\"D00009\"], \"sabiork\"=>Any…"
      ]
     },
     "execution_count": 64,
     "metadata": {},
     "output_type": "execute_result"
    }
   ],
   "source": [
    "model[\"metabolites\"][1] # example metabolite record"
   ]
  },
  {
   "cell_type": "code",
   "execution_count": 65,
   "id": "9a972ff2-5203-4aca-ab7c-3fda49f8162c",
   "metadata": {},
   "outputs": [
    {
     "data": {
      "text/plain": [
       "Dict{String, Any} with 9 entries:\n",
       "  \"name\"               => \"Phosphofructokinase\"\n",
       "  \"metabolites\"        => Dict{String, Any}(\"adp_c\"=>1.0, \"atp_c\"=>-1.0, \"f6p_c…\n",
       "  \"lower_bound\"        => 0.0\n",
       "  \"id\"                 => \"PFK\"\n",
       "  \"notes\"              => Dict{String, Any}(\"original_bigg_ids\"=>Any[\"PFK\"])\n",
       "  \"gene_reaction_rule\" => \"b3916 or b1723\"\n",
       "  \"upper_bound\"        => 1000.0\n",
       "  \"subsystem\"          => \"Glycolysis/Gluconeogenesis\"\n",
       "  \"annotation\"         => Dict{String, Any}(\"bigg.reaction\"=>Any[\"PFK\"], \"metan…"
      ]
     },
     "execution_count": 65,
     "metadata": {},
     "output_type": "execute_result"
    }
   ],
   "source": [
    "model[\"reactions\"][1] # example reaction record"
   ]
  },
  {
   "cell_type": "code",
   "execution_count": 66,
   "id": "59ccfc68-3498-4cac-bed6-846ad7281736",
   "metadata": {},
   "outputs": [],
   "source": [
    "S = let\n",
    "\n",
    "    # get some data from the model -\n",
    "    m = model[\"metabolites\"]; # get list of metabolites\n",
    "    r = model[\"reactions\"]; # get list of reactions\n",
    "    number_of_rows = length(m); # how many metabolites do we have? (rows)\n",
    "    number_of_cols = length(r); # how many reactions do we have? (cols)\n",
    "    S = zeros(number_of_rows,number_of_cols); # initialize an empty stoichiometric matrix\n",
    "\n",
    "    # let's build a stm -\n",
    "    for i ∈ eachindex(m)\n",
    "        metabolite = m[i][\"id\"]; # we are checking if this metabolite is in the reaction record\n",
    "        for j ∈ eachindex(r)\n",
    "            reaction = r[j];\n",
    "            if (haskey(reaction[\"metabolites\"], metabolite) == true)\n",
    "                S[i,j] = reaction[\"metabolites\"][metabolite];\n",
    "            end\n",
    "        end\n",
    "    end\n",
    "    S; \n",
    "end;"
   ]
  },
  {
   "cell_type": "code",
   "execution_count": 67,
   "id": "ad83683e-e022-4aba-b82e-6ca3ed559c37",
   "metadata": {},
   "outputs": [
    {
     "data": {
      "text/plain": [
       "5-element Vector{String}:\n",
       " \"h_c\"\n",
       " \"adp_c\"\n",
       " \"atp_c\"\n",
       " \"f6p_c\"\n",
       " \"fdp_c\""
      ]
     },
     "execution_count": 67,
     "metadata": {},
     "output_type": "execute_result"
    }
   ],
   "source": [
    "i = S[:,1] |> x -> findall(m -> m != 0.0, x);\n",
    "m = model[\"metabolites\"][i] .|> m -> m[\"id\"]"
   ]
  },
  {
   "cell_type": "markdown",
   "id": "76127959-ad13-491e-9103-761da278908f",
   "metadata": {},
   "source": [
    "### Covariance matrix $\\mathbf{\\Sigma}$\n",
    "Fill me in."
   ]
  },
  {
   "cell_type": "code",
   "execution_count": 87,
   "id": "5ee14d17-cdd9-4e91-8194-9b19a48bc13a",
   "metadata": {},
   "outputs": [
    {
     "data": {
      "text/plain": [
       "95×95 Matrix{Float64}:\n",
       "  0.0702269     0.0        -0.0140845  …  0.0       0.0        0.0\n",
       "  0.0           0.056338    0.0           0.0       0.0        0.0422535\n",
       " -0.0140845     0.0         0.028169      0.0       0.0        0.0\n",
       "  0.028169      0.0         0.0           0.0       0.0        0.0\n",
       "  0.0140845     0.0         0.0           0.0       0.0        0.0\n",
       "  0.0140845     0.028169    0.0        …  0.0       0.0        0.056338\n",
       "  0.0140845     0.0         0.0           0.0       0.0        0.0\n",
       "  0.0           0.0         0.0           0.0       0.0        0.0\n",
       "  0.0140845     0.0         0.0           0.0       0.0        0.0\n",
       "  0.0138889     0.0         0.0           0.0       0.0        0.028169\n",
       "  0.0           0.0         0.0        …  0.0       0.0        0.0\n",
       "  0.028169      0.0         0.0           0.0       0.0        0.0\n",
       "  0.0140845     0.0         0.0           0.0       0.0       -0.0140845\n",
       "  ⋮                                    ⋱                      \n",
       " -0.000195618   0.0         0.0           0.0       0.0        0.0\n",
       "  0.0138889    -0.0140845   0.0           0.0       0.0        0.0140845\n",
       "  0.0140845    -0.028169    0.0        …  0.0       0.0       -0.028169\n",
       "  0.028169      0.0         0.0           0.0       0.0        0.0\n",
       "  0.0138889     0.0         0.0           0.0       0.0        0.028169\n",
       " -0.000195618  -0.0140845   0.0           0.0       0.0        0.028169\n",
       " -0.000195618  -0.0140845   0.0           0.0       0.0        6.84116e-19\n",
       " -0.0561424     0.0         0.0        …  0.0       0.0       -0.028169\n",
       "  0.0           0.0         0.0           0.0       0.0        0.028169\n",
       "  0.0           0.0         0.0           0.028169  0.0        0.0\n",
       "  0.0           0.0         0.0           0.0       0.028169   0.0\n",
       "  0.0           0.0422535   0.0           0.0       0.0        0.084507"
      ]
     },
     "execution_count": 87,
     "metadata": {},
     "output_type": "execute_result"
    }
   ],
   "source": [
    "Σ = cov(S)"
   ]
  },
  {
   "cell_type": "markdown",
   "id": "5dff4973-cd20-4b13-a888-46f1c8adc65d",
   "metadata": {},
   "source": [
    "## Task 1: Compute the largest eigenvalue, eigenvector pair\n",
    "Fill me in"
   ]
  },
  {
   "cell_type": "code",
   "execution_count": 71,
   "id": "19bbb025-3688-4938-be93-b3a32358a837",
   "metadata": {},
   "outputs": [],
   "source": [
    "Λ,V = let\n",
    "\n",
    "    # initialize -\n",
    "    A = Σ; # this is the matrix that we will decompose\n",
    "    (n,m) = size(A); # what is the dimension of A?\n",
    "    Λ = Matrix{Float64}(1.0*I, n, n); # builds the I matrix, we'll update with λ -\n",
    "    \n",
    "    # Decompose using the built-in function\n",
    "    F = eigen(A);   # eigenvalues and vectors in F of type Eigen\n",
    "    λ = F.values;   # vector of eigenvalues\n",
    "    V = F.vectors;  # n x n matrix of eigenvectors, each col is an eigenvector\n",
    "\n",
    "    # package the eigenvalues into Λ -\n",
    "    for i ∈ 1:n\n",
    "        Λ[i,i] = λ[i];\n",
    "    end\n",
    "\n",
    "    Λ,V\n",
    "end;"
   ]
  },
  {
   "cell_type": "markdown",
   "id": "5e374f30-ed20-4416-8800-a795d6ca1f1d",
   "metadata": {},
   "source": [
    "### Check: Are the magical properties of $\\mathbf{\\Sigma}$ true?\n",
    "The covariance matrix $\\mathbf{\\Sigma}$ is a real-valued, symmetric matrix. So, it's eigenvalues and eigenvectors should have two important properties:\n",
    "* __Property 1__: All the eigenvalues $\\left\\{\\lambda_{1},\\lambda_{2},\\dots,\\lambda_{m}\\right\\}$ of the matrix $\\mathbf{\\Sigma}$ are real-valued.\n",
    "* __Property 2__: The eigenvectors $\\left\\{\\mathbf{v}_{1},\\mathbf{v}_{2},\\dots,\\mathbf{v}_{m}\\right\\}$ of the matrix $\\mathbf{A}$ are orthogonal, i.e., $\\left<\\mathbf{v}_{i},\\mathbf{v}_{j}\\right> = 0$ for $i\\neq{j}$. Further, the (normalized) eigenvectors $\\hat{\\mathbf{v}}_{j} = \\mathbf{v}_{j}/\\lVert\\mathbf{v}_{j}\\rVert$ of a symmetric real-valued matrix are orthonormal $\\left<\\hat{\\mathbf{v}}_{i},\\hat{\\mathbf{v}}_{j}\\right> = \\delta_{ij}\\,\\text{for}\\,{i,j\\in\\mathbf{A}}$ where $\\delta_{ij}$ is the [Kronecker delta function](https://en.wikipedia.org/wiki/Kronecker_delta).\n",
    "\n",
    "Let's start by checking __Property 1__:"
   ]
  },
  {
   "cell_type": "code",
   "execution_count": 99,
   "id": "437ebf68-84c8-4b3d-9a9f-0c691ef2bb3a",
   "metadata": {},
   "outputs": [],
   "source": [
    "let\n",
    "    λ = diag(Λ); # get the elements of the diagonal matrix; this will be the eigenvalues\n",
    "    for λᵢ ∈ λ\n",
    "        @assert isreal(λᵢ) == true; # if we fail this test, an AssertionError will be thrown\n",
    "    end\n",
    "end"
   ]
  },
  {
   "cell_type": "markdown",
   "id": "9818b5fb-a618-430c-ae58-7714457887d3",
   "metadata": {},
   "source": [
    "Next, let's check __Property 2__:"
   ]
  },
  {
   "cell_type": "code",
   "execution_count": 103,
   "id": "169b6ac2-9754-4e71-a946-c50a64171e8f",
   "metadata": {},
   "outputs": [
    {
     "ename": "LoadError",
     "evalue": "AssertionError: dot(vᵢ, vⱼ) ≈ 0.0",
     "output_type": "error",
     "traceback": [
      "AssertionError: dot(vᵢ, vⱼ) ≈ 0.0",
      "",
      "Stacktrace:",
      " [1] top-level scope",
      "   @ ./In[103]:14"
     ]
    }
   ],
   "source": [
    "let\n",
    "    # initialize -\n",
    "    (number_of_rows, number_of_cols) = size(V);\n",
    "\n",
    "    for i ∈ 1:number_of_rows\n",
    "        vᵢ = V[:,i]; # get eigenvector i\n",
    "        for j ∈ 1:number_of_cols\n",
    "            vⱼ = V[:,j]; # get eigenvector j\n",
    "\n",
    "            # check:\n",
    "            if (i == j)\n",
    "                @assert dot(vᵢ,vⱼ) ≈ 1.0;\n",
    "            else\n",
    "                @assert dot(vᵢ,vⱼ) ≈ 0.0;\n",
    "            end\n",
    "        end\n",
    "    end\n",
    "end"
   ]
  },
  {
   "cell_type": "markdown",
   "id": "aafaf9b2-611d-4bde-9b06-d11ab4020efd",
   "metadata": {},
   "source": [
    "## Task 2: What does the largest eigenvalue/eigenvector tell us?\n",
    "Fill me in"
   ]
  },
  {
   "cell_type": "code",
   "execution_count": 92,
   "id": "34616ff5-421d-4b11-9946-7ebef4179671",
   "metadata": {},
   "outputs": [
    {
     "data": {
      "text/plain": [
       "95-element Vector{Float64}:\n",
       "  0.009763763213526724\n",
       " -0.00025287542582659643\n",
       "  7.22408836423028e-6\n",
       "  0.0066075858402704826\n",
       "  0.006535921381242146\n",
       "  0.0032528674240290953\n",
       "  0.0035043554202608637\n",
       " -8.199419437096755e-5\n",
       "  0.0065413272548499445\n",
       "  0.0036231221633804193\n",
       "  2.226833956396824e-8\n",
       "  0.0065257723370922395\n",
       "  0.009727074537621342\n",
       "  ⋮\n",
       " -3.919931819712713e-5\n",
       "  0.0034677147420648403\n",
       "  0.006944830228414585\n",
       "  0.006559948356308672\n",
       "  0.0035249934719771346\n",
       "  0.00019414338265223667\n",
       " -0.0016123581121367126\n",
       " -0.01346165910851154\n",
       "  0.0018065014947889614\n",
       " -2.541445793813324e-7\n",
       "  2.703116621094459e-7\n",
       "  0.0001355065386042769"
      ]
     },
     "execution_count": 92,
     "metadata": {},
     "output_type": "execute_result"
    }
   ],
   "source": [
    "i = argmax(diag(Λ)); # index of the largest eigenvalue\n",
    "v̂ = V[:,i] # largest eigen vector"
   ]
  },
  {
   "cell_type": "code",
   "execution_count": 74,
   "id": "647b58f6-361c-4463-bcd7-a0aa86e10c94",
   "metadata": {},
   "outputs": [
    {
     "data": {
      "text/plain": [
       "Dict{String, Any} with 10 entries:\n",
       "  \"name\"                  => \"Biomass Objective Function with GAM\"\n",
       "  \"metabolites\"           => Dict{String, Any}(\"glu__L_c\"=>-4.9414, \"nadph_c\"=>…\n",
       "  \"lower_bound\"           => 0.0\n",
       "  \"id\"                    => \"BIOMASS_Ecoli_core_w_GAM\"\n",
       "  \"notes\"                 => Dict{String, Any}(\"original_bigg_ids\"=>Any[\"Biomas…\n",
       "  \"gene_reaction_rule\"    => \"\"\n",
       "  \"upper_bound\"           => 1000.0\n",
       "  \"subsystem\"             => \"Biomass and maintenance functions\"\n",
       "  \"objective_coefficient\" => 1.0\n",
       "  \"annotation\"            => Dict{String, Any}(\"metanetx.reaction\"=>Any[\"MNXR96…"
      ]
     },
     "execution_count": 74,
     "metadata": {},
     "output_type": "execute_result"
    }
   ],
   "source": [
    "abs.(v̂) |> argmax |> i-> model[\"reactions\"][i] "
   ]
  },
  {
   "cell_type": "code",
   "execution_count": 75,
   "id": "c8acc252-f5ee-43bd-b752-b642e0102105",
   "metadata": {},
   "outputs": [
    {
     "data": {
      "text/plain": [
       "Dict{String, Any} with 10 entries:\n",
       "  \"name\"                  => \"Biomass Objective Function with GAM\"\n",
       "  \"metabolites\"           => Dict{String, Any}(\"glu__L_c\"=>-4.9414, \"nadph_c\"=>…\n",
       "  \"lower_bound\"           => 0.0\n",
       "  \"id\"                    => \"BIOMASS_Ecoli_core_w_GAM\"\n",
       "  \"notes\"                 => Dict{String, Any}(\"original_bigg_ids\"=>Any[\"Biomas…\n",
       "  \"gene_reaction_rule\"    => \"\"\n",
       "  \"upper_bound\"           => 1000.0\n",
       "  \"subsystem\"             => \"Biomass and maintenance functions\"\n",
       "  \"objective_coefficient\" => 1.0\n",
       "  \"annotation\"            => Dict{String, Any}(\"metanetx.reaction\"=>Any[\"MNXR96…"
      ]
     },
     "execution_count": 75,
     "metadata": {},
     "output_type": "execute_result"
    }
   ],
   "source": [
    "v̂ |> softmax |> argmax |> i-> model[\"reactions\"][i]"
   ]
  }
 ],
 "metadata": {
  "kernelspec": {
   "display_name": "Julia 1.11.3",
   "language": "julia",
   "name": "julia-1.11"
  },
  "language_info": {
   "file_extension": ".jl",
   "mimetype": "application/julia",
   "name": "julia",
   "version": "1.11.3"
  }
 },
 "nbformat": 4,
 "nbformat_minor": 5
}
