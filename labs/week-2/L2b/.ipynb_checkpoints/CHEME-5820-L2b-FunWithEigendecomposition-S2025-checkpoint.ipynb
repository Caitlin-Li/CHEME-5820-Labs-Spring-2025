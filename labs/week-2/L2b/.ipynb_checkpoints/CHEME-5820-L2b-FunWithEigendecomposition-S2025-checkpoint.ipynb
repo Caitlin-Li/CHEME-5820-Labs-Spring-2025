{
 "cells": [
  {
   "cell_type": "markdown",
   "id": "8ad43c13-6cb6-43ba-90b5-4688aa087375",
   "metadata": {},
   "source": [
    "# Lab 2b: Eigendecomposition of Stoichiometric Matrices\n",
    "Fill me in"
   ]
  },
  {
   "cell_type": "markdown",
   "id": "d1018fc3-c3b2-4c66-9c03-17e4b0a1d8fa",
   "metadata": {},
   "source": [
    "## Setup, Data and Prerequisites\n",
    "We set up the computational environment by including the `Include.jl` file, loading any needed resources, such as sample datasets, and setting up any required constants. The `Include.jl` file loads external packages, various functions that we will use in the exercise, and custom types to model the components of our problem."
   ]
  },
  {
   "cell_type": "code",
   "execution_count": 10,
   "id": "a955d0e5-44a6-43c2-9e19-690e523d2068",
   "metadata": {},
   "outputs": [],
   "source": [
    "include(\"Include.jl\");"
   ]
  },
  {
   "cell_type": "markdown",
   "id": "8e164a9e-f226-4120-a7cf-5575f73296bf",
   "metadata": {},
   "source": [
    "Download a model."
   ]
  },
  {
   "cell_type": "code",
   "execution_count": 14,
   "id": "5651b4e0-a56f-43d7-b350-3caeb68bed66",
   "metadata": {},
   "outputs": [
    {
     "data": {
      "text/plain": [
       "Dict{String, Any} with 6 entries:\n",
       "  \"metabolites\"  => Any[Dict{String, Any}(\"compartment\"=>\"e\", \"name\"=>\"D-Glucos…\n",
       "  \"id\"           => \"e_coli_core\"\n",
       "  \"compartments\" => Dict{String, Any}(\"c\"=>\"cytosol\", \"e\"=>\"extracellular space…\n",
       "  \"reactions\"    => Any[Dict{String, Any}(\"name\"=>\"Phosphofructokinase\", \"metab…\n",
       "  \"version\"      => \"1\"\n",
       "  \"genes\"        => Any[Dict{String, Any}(\"name\"=>\"adhE\", \"id\"=>\"b1241\", \"notes…"
      ]
     },
     "execution_count": 14,
     "metadata": {},
     "output_type": "execute_result"
    }
   ],
   "source": [
    "model = let\n",
    "\n",
    "    # build download endpoint -\n",
    "    baseurl = \"http://bigg.ucsd.edu\"; # base url to download model\n",
    "    modelid = \"e_coli_core\"; # model id to download\n",
    "    path_to_saved_model_file = joinpath(_PATH_TO_DATA, \"saved-model-$(modelid).jld2\");\n",
    "\n",
    "    # check: do we have a model file saved?\n",
    "    model = nothing;\n",
    "    if (isfile(path_to_saved_model_file) == false)\n",
    "        \n",
    "        endpoint = MyBiggModelsDownloadModelEndpointModel();\n",
    "        endpoint.bigg_id = modelid;\n",
    "        url = build(baseurl, endpoint)\n",
    "        model = MyBiggModelsDownloadModelEndpointModel(url);\n",
    "\n",
    "        # Before we move on, save this model for later (so we don't keep hitting the API)\n",
    "        save(path_to_saved_model_file, Dict(\"model\" => model));\n",
    "    else\n",
    "        model = load(path_to_saved_model_file)[\"model\"];\n",
    "    end\n",
    "    model; # return the model (either saved, or downloaded)\n",
    "end"
   ]
  },
  {
   "cell_type": "markdown",
   "id": "fddedbf8-8031-492f-89ee-cfce4a37facc",
   "metadata": {},
   "source": [
    "Next, let's build a stoichiometric matrix."
   ]
  },
  {
   "cell_type": "code",
   "execution_count": 18,
   "id": "9afddf7b-38d8-4330-8334-5bdf7fdea790",
   "metadata": {},
   "outputs": [
    {
     "data": {
      "text/plain": [
       "Dict{String, Any} with 7 entries:\n",
       "  \"compartment\" => \"e\"\n",
       "  \"name\"        => \"D-Glucose\"\n",
       "  \"formula\"     => \"C6H12O6\"\n",
       "  \"id\"          => \"glc__D_e\"\n",
       "  \"charge\"      => 0\n",
       "  \"notes\"       => Dict{String, Any}(\"original_bigg_ids\"=>Any[\"glc_D_e\"])\n",
       "  \"annotation\"  => Dict{String, Any}(\"kegg.drug\"=>Any[\"D00009\"], \"sabiork\"=>Any…"
      ]
     },
     "execution_count": 18,
     "metadata": {},
     "output_type": "execute_result"
    }
   ],
   "source": [
    "model[\"metabolites\"][1] # example metabolite record"
   ]
  },
  {
   "cell_type": "code",
   "execution_count": 20,
   "id": "9a972ff2-5203-4aca-ab7c-3fda49f8162c",
   "metadata": {},
   "outputs": [
    {
     "data": {
      "text/plain": [
       "Dict{String, Any} with 9 entries:\n",
       "  \"name\"               => \"Phosphofructokinase\"\n",
       "  \"metabolites\"        => Dict{String, Any}(\"adp_c\"=>1.0, \"atp_c\"=>-1.0, \"f6p_c…\n",
       "  \"lower_bound\"        => 0.0\n",
       "  \"id\"                 => \"PFK\"\n",
       "  \"notes\"              => Dict{String, Any}(\"original_bigg_ids\"=>Any[\"PFK\"])\n",
       "  \"gene_reaction_rule\" => \"b3916 or b1723\"\n",
       "  \"upper_bound\"        => 1000.0\n",
       "  \"subsystem\"          => \"Glycolysis/Gluconeogenesis\"\n",
       "  \"annotation\"         => Dict{String, Any}(\"bigg.reaction\"=>Any[\"PFK\"], \"metan…"
      ]
     },
     "execution_count": 20,
     "metadata": {},
     "output_type": "execute_result"
    }
   ],
   "source": [
    "model[\"reactions\"][1] # example reaction record"
   ]
  },
  {
   "cell_type": "code",
   "execution_count": 28,
   "id": "59ccfc68-3498-4cac-bed6-846ad7281736",
   "metadata": {},
   "outputs": [],
   "source": [
    "S = let\n",
    "\n",
    "    # get some data from the model -\n",
    "    m = model[\"metabolites\"];\n",
    "    r = model[\"reactions\"];\n",
    "    number_of_rows = length(m); # how many metabolites do we have? (rows)\n",
    "    number_of_cols = length(r); # how many reactions do we have? (cols)\n",
    "    S = zeros(number_of_rows,number_of_cols); # initialize an empty stoichiometric matrix\n",
    "\n",
    "    # let's build a stm -\n",
    "    for i ∈ eachindex(m)\n",
    "        metabolite = m[i][\"id\"]; # we are checking if this metabolite is in the reaction record\n",
    "        for j ∈ eachindex(r)\n",
    "            reaction = r[j];\n",
    "            if (haskey(reaction[\"metabolites\"], metabolite) == true)\n",
    "                S[i,j] = reaction[\"metabolites\"][metabolite];\n",
    "            end\n",
    "        end\n",
    "    end\n",
    "    S;\n",
    "end"
   ]
  },
  {
   "cell_type": "code",
   "execution_count": null,
   "id": "ad83683e-e022-4aba-b82e-6ca3ed559c37",
   "metadata": {},
   "outputs": [],
   "source": []
  }
 ],
 "metadata": {
  "kernelspec": {
   "display_name": "Julia 1.11.2",
   "language": "julia",
   "name": "julia-1.11"
  },
  "language_info": {
   "file_extension": ".jl",
   "mimetype": "application/julia",
   "name": "julia",
   "version": "1.11.2"
  }
 },
 "nbformat": 4,
 "nbformat_minor": 5
}
