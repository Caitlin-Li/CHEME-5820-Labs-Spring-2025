{
 "cells": [
  {
   "cell_type": "markdown",
   "id": "ebde9e09-1316-4f75-a15e-eb3130e4e235",
   "metadata": {},
   "source": [
    "# Lab 2d: Fun With Principle Component Analysis (PCA)\n",
    "Fill me in"
   ]
  },
  {
   "cell_type": "markdown",
   "id": "9202a6d8-eae1-4d84-9fb1-7953add91311",
   "metadata": {},
   "source": [
    "## Task 1: Setup, Data and Prerequisites\n",
    "We set up the computational environment by including the `Include.jl` file, loading any needed resources, such as sample datasets, and setting up any required constants. The `Include.jl` file loads external packages, various functions that we will use in the exercise, and custom types to model the components of our problem."
   ]
  },
  {
   "cell_type": "code",
   "execution_count": 3,
   "id": "54ccb906-0324-4392-9690-2329aa63e0a9",
   "metadata": {},
   "outputs": [
    {
     "name": "stderr",
     "output_type": "stream",
     "text": [
      "\u001b[36m\u001b[1m[ \u001b[22m\u001b[39m\u001b[36m\u001b[1mInfo: \u001b[22m\u001b[39mPrecompiling IJuliaExt [2f4121a4-3b3a-5ce6-9c5e-1f2673ce168a] (cache misses: wrong dep version loaded (6), incompatible header (12))\n"
     ]
    }
   ],
   "source": [
    "include(\"Include.jl\")"
   ]
  },
  {
   "cell_type": "markdown",
   "id": "734029f7-dfe9-4b76-9da1-299c8b750b97",
   "metadata": {},
   "source": [
    "### Data\n",
    "We developed a simple software development kit (SDK) against [the BiGG Models application programming interface at the University of California, San Diego](http://bigg.ucsd.edu/). The [BiGG Models database](http://bigg.ucsd.edu/) integrates published genome-scale metabolic networks into a single database with standardized nomenclature and structure. \n",
    "* [The BiGG models API](http://bigg.ucsd.edu/data_access) allows users to programmatically access genome-scale stoichiometric model reconstructions using a simple web API. There are `108` models of intracellular biochemistry occurring in various organisms (including humans) in the database (so far); [see here for a list of models](http://bigg.ucsd.edu/models).\n",
    "* Here, we'll first explore the [core metabolic model of Palsson and coworkers](https://pubmed.ncbi.nlm.nih.gov/26443778/), which is a scaled-down model of [carbohydrate metabolism](https://en.wikipedia.org/wiki/Carbohydrate_metabolism) in _E.coli_. This model has 72 metabolites and 95 reactions. We'll then look at other models, and see what is going on with these.\n",
    "\n",
    "We call the model download endpoint of [the BiGG models API](http://bigg.ucsd.edu/data_access) and then save the model file to disk (so we don't hit the API unless we have to). This call returns model information organized as [a Julia dictionary](https://docs.julialang.org/en/v1/base/collections/#Base.Dict) in the `model::Dict{String, Any}` variable. If a model file is saved, we use the cached file instead of making an API call."
   ]
  },
  {
   "cell_type": "code",
   "execution_count": 10,
   "id": "2e03dfc2-3c9a-4350-92ae-42324d3607a3",
   "metadata": {},
   "outputs": [
    {
     "data": {
      "text/plain": [
       "Dict{String, Any} with 6 entries:\n",
       "  \"metabolites\"  => Any[Dict{String, Any}(\"compartment\"=>\"c\", \"name\"=>\"3-Phosph…\n",
       "  \"id\"           => \"iAB_RBC_283\"\n",
       "  \"compartments\" => Dict{String, Any}(\"c\"=>\"cytosol\", \"e\"=>\"extracellular space…\n",
       "  \"reactions\"    => Any[Dict{String, Any}(\"name\"=>\"Sink pchol hs 18 1 18 1(c)\",…\n",
       "  \"version\"      => \"1\"\n",
       "  \"genes\"        => Any[Dict{String, Any}(\"name\"=>\"NMRK1\", \"id\"=>\"Nrk1_AT1\", \"n…"
      ]
     },
     "execution_count": 10,
     "metadata": {},
     "output_type": "execute_result"
    }
   ],
   "source": [
    "model = let\n",
    "\n",
    "    # build download endpoint -\n",
    "    baseurl = \"http://bigg.ucsd.edu\"; # base url to download model\n",
    "    modelid = \"iAB_RBC_283\"; # model id to download\n",
    "    path_to_saved_model_file = joinpath(_PATH_TO_DATA, \"saved-model-$(modelid).jld2\");\n",
    "\n",
    "    # check: do we have a model file saved?\n",
    "    model = nothing;\n",
    "    if (isfile(path_to_saved_model_file) == false)\n",
    "        \n",
    "        endpoint = MyBiggModelsDownloadModelEndpointModel();\n",
    "        endpoint.bigg_id = modelid;\n",
    "        url = build(baseurl, endpoint)\n",
    "        model = MyBiggModelsDownloadModelEndpointModel(url);\n",
    "\n",
    "        # Before we move on, save this model for later (so we don't keep hitting the API)\n",
    "        save(path_to_saved_model_file, Dict(\"model\" => model));\n",
    "    else\n",
    "        model = load(path_to_saved_model_file)[\"model\"];\n",
    "    end\n",
    "    model; # return the model (either saved, or downloaded)\n",
    "end"
   ]
  },
  {
   "cell_type": "markdown",
   "id": "04fda0f0-d1f9-466f-a728-0238b9023f6d",
   "metadata": {},
   "source": [
    "__Stoichiometric matrix__: Next, let's build a stoichiometric matrix $\\mathbf{S}$ using the metabolite and reaction records. We'll do this using two for loops. \n",
    "* __Strategy__: In the outer loop, we iterate over the system's metabolites (chemical species) and select the `id` from the metabolites record for each metabolite. In the inner loop, we iterate over each reaction. For each reaction record, we ask if this reaction has an entry for the current metabolite `id` value; if it does, we grab the stoichiometric coefficient $\\sigma_{ij}$ corresponding to this metabolite and reaction."
   ]
  },
  {
   "cell_type": "code",
   "execution_count": 12,
   "id": "5b8a1033-1b3c-4641-96c0-2bc1066bec06",
   "metadata": {},
   "outputs": [],
   "source": [
    "S = let\n",
    "\n",
    "    # get some data from the model -\n",
    "    m = model[\"metabolites\"]; # get list of metabolites\n",
    "    r = model[\"reactions\"]; # get list of reactions\n",
    "    number_of_rows = length(m); # how many metabolites do we have? (rows)\n",
    "    number_of_cols = length(r); # how many reactions do we have? (cols)\n",
    "    S = zeros(number_of_rows,number_of_cols); # initialize an empty stoichiometric matrix\n",
    "\n",
    "    # let's build a stm -\n",
    "    for i ∈ eachindex(m)\n",
    "        metabolite = m[i][\"id\"]; # we are checking if this metabolite is in the reaction record\n",
    "        for j ∈ eachindex(r)\n",
    "            reaction = r[j];\n",
    "            if (haskey(reaction[\"metabolites\"], metabolite) == true)\n",
    "                S[i,j] = reaction[\"metabolites\"][metabolite];\n",
    "            end\n",
    "        end\n",
    "    end\n",
    "    S; \n",
    "end;"
   ]
  },
  {
   "cell_type": "markdown",
   "id": "8bdfb0d8-6a85-42fe-8dd2-62d013c67f0d",
   "metadata": {},
   "source": [
    "Z-score center the stoichiometrix matrix $\\mathbf{S}$"
   ]
  },
  {
   "cell_type": "code",
   "execution_count": null,
   "id": "83d0bb72-f379-4d5c-acb3-d2c949e6c39e",
   "metadata": {},
   "outputs": [],
   "source": [
    "Ŝ = let\n",
    "    \n",
    "    # get some data from the system -\n",
    "    m = model[\"metabolites\"] |> length # get the number of metabolites\n",
    "    r = model[\"reactions\"] |> length # get the number of reactions\n",
    "    \n",
    "\n",
    "    for j ∈ 1:r\n",
    "        col = S[:,j]; # get the jth col (reaction)\n",
    "        μⱼ = mean(col); # mean of the col\n",
    "        σⱼ = std(col); # std of the col\n",
    "    end\n",
    "\n",
    "end"
   ]
  },
  {
   "cell_type": "code",
   "execution_count": 14,
   "id": "e881d5e5-6a4d-413a-a5fc-4da595ffda5a",
   "metadata": {},
   "outputs": [
    {
     "data": {
      "text/plain": [
       "469×469 Matrix{Float64}:\n",
       "  0.00292398  -8.57471e-6  -8.57471e-6  …   8.57471e-6   8.57471e-6\n",
       " -8.57471e-6   0.00292398  -8.57471e-6      8.57471e-6   8.57471e-6\n",
       " -8.57471e-6  -8.57471e-6   0.00292398      8.57471e-6   8.57471e-6\n",
       " -8.57471e-6  -8.57471e-6  -8.57471e-6      8.57471e-6   8.57471e-6\n",
       " -8.57471e-6  -8.57471e-6  -8.57471e-6      8.57471e-6   8.57471e-6\n",
       " -8.57471e-6  -8.57471e-6  -8.57471e-6  …   8.57471e-6   8.57471e-6\n",
       " -8.57471e-6  -8.57471e-6  -8.57471e-6     -0.00292398   8.57471e-6\n",
       " -8.57471e-6  -8.57471e-6  -8.57471e-6      8.57471e-6  -0.00292398\n",
       " -8.57471e-6  -8.57471e-6  -8.57471e-6      8.57471e-6   8.57471e-6\n",
       " -8.57471e-6  -8.57471e-6  -8.57471e-6      8.57471e-6   8.57471e-6\n",
       " -8.57471e-6  -8.57471e-6  -8.57471e-6  …   8.57471e-6   8.57471e-6\n",
       "  0.0          0.0          0.0             0.0          0.0\n",
       "  1.71494e-5   1.71494e-5   1.71494e-5      0.00584795   0.00584795\n",
       "  ⋮                                     ⋱               \n",
       "  0.0          0.0          0.0             0.0          0.0\n",
       "  0.0          0.0          0.0             0.0          0.0\n",
       "  8.57471e-6   8.57471e-6   8.57471e-6      0.00292398   0.00292398\n",
       "  8.57471e-6   8.57471e-6   8.57471e-6  …   0.00292398   0.00292398\n",
       " -8.57471e-6  -8.57471e-6  -8.57471e-6     -0.00292398  -0.00292398\n",
       "  1.71494e-5   1.71494e-5   1.71494e-5      0.00584795   0.00584795\n",
       "  8.57471e-6  -0.00292398   8.57471e-6      0.00585653   0.00585653\n",
       "  8.57471e-6   8.57471e-6  -0.00292398      0.00585653   0.00585653\n",
       "  8.57471e-6   8.57471e-6   8.57471e-6  …   0.00585653   0.00585653\n",
       "  8.57471e-6   8.57471e-6   8.57471e-6      0.00878908   0.00878908\n",
       "  8.57471e-6   8.57471e-6   8.57471e-6      0.0146542    0.00878908\n",
       "  8.57471e-6   8.57471e-6   8.57471e-6      0.00878908   0.0146542"
      ]
     },
     "execution_count": 14,
     "metadata": {},
     "output_type": "execute_result"
    }
   ],
   "source": [
    "Σ = cov(S)"
   ]
  },
  {
   "cell_type": "code",
   "execution_count": 18,
   "id": "e4828d91-76f1-4603-91ed-a5e60f83f96c",
   "metadata": {},
   "outputs": [
    {
     "data": {
      "text/plain": [
       "469×469 Matrix{Float64}:\n",
       " 1.0   0.0   0.0   0.0  0.0   0.0  …   0.0   0.0   0.0   0.0   0.0   0.0\n",
       " 0.0   1.0   0.0   0.0  0.0   0.0     -1.0   0.0   0.0   0.0   0.0   0.0\n",
       " 0.0   0.0   1.0   0.0  0.0   0.0      0.0  -1.0   0.0   0.0   0.0   0.0\n",
       " 0.0   0.0   0.0   1.0  0.0   0.0      0.0   0.0  -1.0   0.0   0.0   0.0\n",
       " 0.0   0.0   0.0   0.0  1.0   0.0      0.0   0.0   0.0   0.0   0.0   0.0\n",
       " 0.0   0.0   0.0   0.0  0.0   1.0  …   0.0   0.0   0.0  -1.0   0.0   0.0\n",
       " 0.0   0.0   0.0   0.0  0.0   0.0      0.0   0.0   0.0   0.0  -1.0   0.0\n",
       " 0.0   0.0   0.0   0.0  0.0   0.0      0.0   0.0   0.0   0.0   0.0  -1.0\n",
       " 0.0   0.0   0.0   0.0  0.0   0.0      0.0   0.0   0.0   0.0   0.0   0.0\n",
       " 0.0   0.0   0.0   0.0  0.0   0.0      0.0   0.0   0.0   0.0   0.0   0.0\n",
       " 0.0   0.0   0.0   0.0  0.0   0.0  …   0.0   0.0   0.0   0.0   0.0   0.0\n",
       " 0.0   0.0   0.0   0.0  0.0   0.0      0.0   0.0   0.0   0.0   0.0   0.0\n",
       " 0.0   0.0   0.0   0.0  0.0   0.0      2.0   2.0   2.0   2.0   2.0   2.0\n",
       " ⋮                            ⋮    ⋱               ⋮                \n",
       " 0.0   0.0   0.0   0.0  0.0   0.0      0.0   0.0   0.0   0.0   0.0   0.0\n",
       " 0.0   0.0   0.0   0.0  0.0   0.0      0.0   0.0   0.0   0.0   0.0   0.0\n",
       " 0.0   0.0   0.0   0.0  0.0   0.0      1.0   1.0   1.0   1.0   1.0   1.0\n",
       " 0.0   0.0   0.0   0.0  0.0   0.0  …   1.0   1.0   1.0   1.0   1.0   1.0\n",
       " 0.0   0.0   0.0   0.0  0.0   0.0     -1.0  -1.0  -1.0  -1.0  -1.0  -1.0\n",
       " 0.0   0.0   0.0   0.0  0.0   0.0      2.0   2.0   2.0   2.0   2.0   2.0\n",
       " 0.0  -1.0   0.0   0.0  0.0   0.0      5.0   3.0   3.0   2.0   2.0   2.0\n",
       " 0.0   0.0  -1.0   0.0  0.0   0.0      3.0   5.0   3.0   2.0   2.0   2.0\n",
       " 0.0   0.0   0.0  -1.0  0.0   0.0  …   3.0   3.0   5.0   2.0   2.0   2.0\n",
       " 0.0   0.0   0.0   0.0  0.0  -1.0      2.0   2.0   2.0   5.0   3.0   3.0\n",
       " 0.0   0.0   0.0   0.0  0.0   0.0      2.0   2.0   2.0   3.0   5.0   3.0\n",
       " 0.0   0.0   0.0   0.0  0.0   0.0      2.0   2.0   2.0   3.0   3.0   5.0"
      ]
     },
     "execution_count": 18,
     "metadata": {},
     "output_type": "execute_result"
    }
   ],
   "source": [
    "T = transpose(S)*S"
   ]
  },
  {
   "cell_type": "code",
   "execution_count": null,
   "id": "c76753fa-566c-4009-8233-d2ae48f4394a",
   "metadata": {},
   "outputs": [],
   "source": []
  }
 ],
 "metadata": {
  "kernelspec": {
   "display_name": "Julia 1.11.3",
   "language": "julia",
   "name": "julia-1.11"
  },
  "language_info": {
   "file_extension": ".jl",
   "mimetype": "application/julia",
   "name": "julia",
   "version": "1.11.3"
  }
 },
 "nbformat": 4,
 "nbformat_minor": 5
}
