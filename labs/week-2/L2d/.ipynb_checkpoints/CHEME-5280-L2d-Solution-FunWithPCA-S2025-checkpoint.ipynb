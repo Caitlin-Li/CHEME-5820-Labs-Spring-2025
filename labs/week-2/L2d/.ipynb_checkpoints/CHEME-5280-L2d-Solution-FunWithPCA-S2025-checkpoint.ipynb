{
 "cells": [
  {
   "cell_type": "markdown",
   "id": "ebde9e09-1316-4f75-a15e-eb3130e4e235",
   "metadata": {},
   "source": [
    "# Lab 2d: Fun With Principle Component Analysis (PCA)\n",
    "Fill me in"
   ]
  },
  {
   "cell_type": "markdown",
   "id": "9202a6d8-eae1-4d84-9fb1-7953add91311",
   "metadata": {},
   "source": [
    "## Task 1: Setup, Data and Prerequisites\n",
    "We set up the computational environment by including the `Include.jl` file, loading any needed resources, such as sample datasets, and setting up any required constants. The `Include.jl` file loads external packages, various functions that we will use in the exercise, and custom types to model the components of our problem."
   ]
  },
  {
   "cell_type": "code",
   "execution_count": 3,
   "id": "54ccb906-0324-4392-9690-2329aa63e0a9",
   "metadata": {},
   "outputs": [],
   "source": [
    "include(\"Include.jl\")"
   ]
  },
  {
   "cell_type": "markdown",
   "id": "734029f7-dfe9-4b76-9da1-299c8b750b97",
   "metadata": {},
   "source": [
    "### Data\n",
    "We developed a simple software development kit (SDK) against [the BiGG Models application programming interface at the University of California, San Diego](http://bigg.ucsd.edu/). The [BiGG Models database](http://bigg.ucsd.edu/) integrates published genome-scale metabolic networks into a single database with standardized nomenclature and structure. \n",
    "* [The BiGG models API](http://bigg.ucsd.edu/data_access) allows users to programmatically access genome-scale stoichiometric model reconstructions using a simple web API. There are `108` models of intracellular biochemistry occurring in various organisms (including humans) in the database (so far); [see here for a list of models](http://bigg.ucsd.edu/models).\n",
    "* Here, we'll first explore the [core metabolic model of Palsson and coworkers](https://pubmed.ncbi.nlm.nih.gov/26443778/), which is a scaled-down model of [carbohydrate metabolism](https://en.wikipedia.org/wiki/Carbohydrate_metabolism) in _E.coli_. This model has 72 metabolites and 95 reactions. We'll then look at other models, and see what is going on with these.\n",
    "\n",
    "We call the model download endpoint of [the BiGG models API](http://bigg.ucsd.edu/data_access) and then save the model file to disk (so we don't hit the API unless we have to). This call returns model information organized as [a Julia dictionary](https://docs.julialang.org/en/v1/base/collections/#Base.Dict) in the `model::Dict{String, Any}` variable. If a model file is saved, we use the cached file instead of making an API call."
   ]
  },
  {
   "cell_type": "code",
   "execution_count": 5,
   "id": "2e03dfc2-3c9a-4350-92ae-42324d3607a3",
   "metadata": {},
   "outputs": [
    {
     "data": {
      "text/plain": [
       "Dict{String, Any} with 6 entries:\n",
       "  \"metabolites\"  => Any[Dict{String, Any}(\"compartment\"=>\"c\", \"name\"=>\"3-Phosph…\n",
       "  \"id\"           => \"iAB_RBC_283\"\n",
       "  \"compartments\" => Dict{String, Any}(\"c\"=>\"cytosol\", \"e\"=>\"extracellular space…\n",
       "  \"reactions\"    => Any[Dict{String, Any}(\"name\"=>\"Sink pchol hs 18 1 18 1(c)\",…\n",
       "  \"version\"      => \"1\"\n",
       "  \"genes\"        => Any[Dict{String, Any}(\"name\"=>\"NMRK1\", \"id\"=>\"Nrk1_AT1\", \"n…"
      ]
     },
     "execution_count": 5,
     "metadata": {},
     "output_type": "execute_result"
    }
   ],
   "source": [
    "model = let\n",
    "\n",
    "    # build download endpoint -\n",
    "    baseurl = \"http://bigg.ucsd.edu\"; # base url to download model\n",
    "    modelid = \"iAB_RBC_283\"; # model id to download\n",
    "    path_to_saved_model_file = joinpath(_PATH_TO_DATA, \"saved-model-$(modelid).jld2\");\n",
    "\n",
    "    # check: do we have a model file saved?\n",
    "    model = nothing;\n",
    "    if (isfile(path_to_saved_model_file) == false)\n",
    "        \n",
    "        endpoint = MyBiggModelsDownloadModelEndpointModel();\n",
    "        endpoint.bigg_id = modelid;\n",
    "        url = build(baseurl, endpoint)\n",
    "        model = MyBiggModelsDownloadModelEndpointModel(url);\n",
    "\n",
    "        # Before we move on, save this model for later (so we don't keep hitting the API)\n",
    "        save(path_to_saved_model_file, Dict(\"model\" => model));\n",
    "    else\n",
    "        model = load(path_to_saved_model_file)[\"model\"];\n",
    "    end\n",
    "    model; # return the model (either saved, or downloaded)\n",
    "end"
   ]
  },
  {
   "cell_type": "markdown",
   "id": "04fda0f0-d1f9-466f-a728-0238b9023f6d",
   "metadata": {},
   "source": [
    "__Stoichiometric matrix__: Next, let's build a stoichiometric matrix $\\mathbf{S}$ using the metabolite and reaction records. We'll do this using two for loops. \n",
    "* __Strategy__: In the outer loop, we iterate over the system's metabolites (chemical species) and select the `id` from the metabolites record for each metabolite. In the inner loop, we iterate over each reaction. For each reaction record, we ask if this reaction has an entry for the current metabolite `id` value; if it does, we grab the stoichiometric coefficient $\\sigma_{ij}$ corresponding to this metabolite and reaction."
   ]
  },
  {
   "cell_type": "code",
   "execution_count": 7,
   "id": "5b8a1033-1b3c-4641-96c0-2bc1066bec06",
   "metadata": {},
   "outputs": [],
   "source": [
    "S = let\n",
    "\n",
    "    # get some data from the model -\n",
    "    m = model[\"metabolites\"]; # get list of metabolites\n",
    "    r = model[\"reactions\"]; # get list of reactions\n",
    "    number_of_rows = length(m); # how many metabolites do we have? (rows)\n",
    "    number_of_cols = length(r); # how many reactions do we have? (cols)\n",
    "    S = zeros(number_of_rows,number_of_cols); # initialize an empty stoichiometric matrix\n",
    "\n",
    "    # let's build a stm -\n",
    "    for i ∈ eachindex(m)\n",
    "        metabolite = m[i][\"id\"]; # we are checking if this metabolite is in the reaction record\n",
    "        for j ∈ eachindex(r)\n",
    "            reaction = r[j];\n",
    "            if (haskey(reaction[\"metabolites\"], metabolite) == true)\n",
    "                S[i,j] = reaction[\"metabolites\"][metabolite];\n",
    "            end\n",
    "        end\n",
    "    end\n",
    "    S; \n",
    "end;"
   ]
  },
  {
   "cell_type": "markdown",
   "id": "8bdfb0d8-6a85-42fe-8dd2-62d013c67f0d",
   "metadata": {},
   "source": [
    "Z-score center the stoichiometrix matrix $\\mathbf{S}$"
   ]
  },
  {
   "cell_type": "code",
   "execution_count": 9,
   "id": "83d0bb72-f379-4d5c-acb3-d2c949e6c39e",
   "metadata": {},
   "outputs": [
    {
     "data": {
      "text/plain": [
       "342×469 Matrix{Float64}:\n",
       " 0.0540738  0.0540738  0.0540738  …  -0.0241542  -0.0241542  -0.0241542\n",
       " 0.0540738  0.0540738  0.0540738     -0.0241542  -0.0241542  -0.0241542\n",
       " 0.0540738  0.0540738  0.0540738     -0.0241542  -0.0241542  -0.0241542\n",
       " 0.0540738  0.0540738  0.0540738     -0.0241542  -0.0241542  -0.0241542\n",
       " 0.0540738  0.0540738  0.0540738     -0.0241542  -0.0241542  -0.0241542\n",
       " 0.0540738  0.0540738  0.0540738  …  -0.0241542  -0.0241542  -0.0241542\n",
       " 0.0540738  0.0540738  0.0540738     -0.0241542  -0.0241542  -0.0241542\n",
       " 0.0540738  0.0540738  0.0540738     -0.0241542  -0.0241542  -0.0241542\n",
       " 0.0540738  0.0540738  0.0540738     -0.0241542  -0.0241542  -0.0241542\n",
       " 0.0540738  0.0540738  0.0540738     -0.0241542  -0.0241542  -0.0241542\n",
       " 0.0540738  0.0540738  0.0540738  …  -0.0241542  -0.0241542  -0.0241542\n",
       " 0.0540738  0.0540738  0.0540738     -0.0241542  -0.0241542  -0.0241542\n",
       " 0.0540738  0.0540738  0.0540738     -0.0241542  -0.0241542  -0.0241542\n",
       " ⋮                                ⋱                          \n",
       " 0.0540738  0.0540738  0.0540738  …  -0.0241542  -0.0241542  -0.0241542\n",
       " 0.0540738  0.0540738  0.0540738     -0.0241542  -0.0241542  -0.0241542\n",
       " 0.0540738  0.0540738  0.0540738     -0.0241542  -0.0241542  -0.0241542\n",
       " 0.0540738  0.0540738  0.0540738     -0.0241542  -0.0241542  -0.0241542\n",
       " 0.0540738  0.0540738  0.0540738     -0.0241542  -0.0241542  -0.0241542\n",
       " 0.0540738  0.0540738  0.0540738  …  -0.0241542  -0.0241542  -0.0241542\n",
       " 0.0540738  0.0540738  0.0540738     -0.0241542  -0.0241542  -0.0241542\n",
       " 0.0540738  0.0540738  0.0540738     -0.0241542  -0.0241542  -0.0241542\n",
       " 0.0540738  0.0540738  0.0540738     -0.0241542  -0.0241542  -0.0241542\n",
       " 0.0540738  0.0540738  0.0540738     -0.0241542  -0.0241542  -0.0241542\n",
       " 0.0540738  0.0540738  0.0540738  …  -0.0241542  -0.0241542  -0.0241542\n",
       " 0.0540738  0.0540738  0.0540738     -0.0241542  -0.0241542  -0.0241542"
      ]
     },
     "execution_count": 9,
     "metadata": {},
     "output_type": "execute_result"
    }
   ],
   "source": [
    "Ŝ = let\n",
    "    \n",
    "    # get some data from the system -\n",
    "    m = model[\"metabolites\"] |> length # get the number of metabolites\n",
    "    r = model[\"reactions\"] |> length # get the number of reactions\n",
    "    Ŝ = zeros(m,r); # create a scaled stoichiometric matrix\n",
    "\n",
    "    for j ∈ 1:r\n",
    "        col = S[:,j]; # get the jth col (reaction)\n",
    "        μⱼ = mean(col); # mean of the col\n",
    "        σⱼ = std(col); # std of the col\n",
    "\n",
    "        for i ∈ 1:m\n",
    "            Ŝ[i,j] = (col[i] - μⱼ)/σⱼ;\n",
    "        end\n",
    "    end\n",
    "\n",
    "    Ŝ\n",
    "end"
   ]
  },
  {
   "cell_type": "code",
   "execution_count": 10,
   "id": "e881d5e5-6a4d-413a-a5fc-4da595ffda5a",
   "metadata": {},
   "outputs": [
    {
     "data": {
      "text/plain": [
       "469×469 Matrix{Float64}:\n",
       "  1.0          -0.00293255  -0.00293255   …   0.00130994    0.00130994\n",
       " -0.00293255    1.0         -0.00293255       0.00130994    0.00130994\n",
       " -0.00293255   -0.00293255   1.0              0.00130994    0.00130994\n",
       " -0.00293255   -0.00293255  -0.00293255       0.00130994    0.00130994\n",
       " -0.00293255   -0.00293255  -0.00293255       0.00130994    0.00130994\n",
       " -0.00293255   -0.00293255  -0.00293255   …   0.00130994    0.00130994\n",
       " -0.00293255   -0.00293255  -0.00293255      -0.44669       0.00130994\n",
       " -0.00293255   -0.00293255  -0.00293255       0.00130994   -0.44669\n",
       " -0.00293255   -0.00293255  -0.00293255       0.00130994    0.00130994\n",
       " -0.00293255   -0.00293255  -0.00293255       0.00130994    0.00130994\n",
       " -0.00293255   -0.00293255  -0.00293255   …   0.00130994    0.00130994\n",
       "  0.0           0.0          0.0              0.0           0.0\n",
       "  0.0009502     0.0009502    0.0009502        0.144736      0.144736\n",
       "  ⋮                                       ⋱                \n",
       " -1.32894e-20   1.0646e-19  -1.32894e-20     -6.83021e-20  -3.4633e-20\n",
       " -1.32894e-20   1.0646e-19  -1.32894e-20     -6.83021e-20  -3.4633e-20\n",
       "  0.00130994    0.00130994   0.00130994       0.199532      0.199532\n",
       "  0.00130994    0.00130994   0.00130994   …   0.199532      0.199532\n",
       " -0.00130994   -0.00130994  -0.00130994      -0.199532     -0.199532\n",
       "  0.00207211    0.00207211   0.00207211       0.315626      0.315626\n",
       "  0.00130994   -0.44669      0.00130994       0.399649      0.399649\n",
       "  0.00130994    0.00130994  -0.44669          0.399649      0.399649\n",
       "  0.00130994    0.00130994   0.00130994   …   0.399649      0.399649\n",
       "  0.00130994    0.00130994   0.00130994       0.599766      0.599766\n",
       "  0.00130994    0.00130994   0.00130994       1.0           0.599766\n",
       "  0.00130994    0.00130994   0.00130994       0.599766      1.0"
      ]
     },
     "execution_count": 10,
     "metadata": {},
     "output_type": "execute_result"
    }
   ],
   "source": [
    "Σ̂ = cov(Ŝ) # covariance"
   ]
  },
  {
   "cell_type": "markdown",
   "id": "46aa8d60-89e4-44ea-ad8a-134121800fff",
   "metadata": {},
   "source": [
    "### Constants"
   ]
  },
  {
   "cell_type": "code",
   "execution_count": 142,
   "id": "bfa3af26-2d24-4533-a372-819c7f93b9c7",
   "metadata": {},
   "outputs": [],
   "source": [
    "ϵ = -5; # exponent below which we consider 0"
   ]
  },
  {
   "cell_type": "markdown",
   "id": "11393cac-cb4b-4062-a157-428fbb7b37a7",
   "metadata": {},
   "source": [
    "## Task 2: Let's test some of the theoretical claims from the SVD lecture\n",
    "In this task, let's test a few of the claims about singular value decomposition. The singular Value Decomposition (SVD) decomposes a matrix $\\mathbf{A}\\in\\mathbb{C}^{n\\times{m}}$ into three distinct matrices, $\\mathbf{A} = \\mathbf{U}\\mathbf{\\Sigma}\\mathbf{V}^{\\top}$. The matrices $\\mathbf{U}$ and $\\mathbf{V}$  are orthogonal matrices containing the left and right singular vectors, respectively, while the $\\mathbf{\\Sigma}$ is a diagonal matrix containing the singular values.\n",
    " In cases where $\\mathbf{A}$ is symmetric (square) and positive definite (positive eigenvalues), the left and right singular vectors align with the eigenvectors.\n",
    "* __Singular values__ of a matrix $\\mathbf{A}$ are the square roots of the non-zero eigenvalues of either $\\mathbf{A}\\mathbf{A}^{\\top}$ or $\\mathbf{A}^{\\top}\\mathbf{A}$, establishing a direct connection between these two values. In cases where $\\mathbf{A}$ is symmetric (square) and positive definite (positive eigenvalues), the singular values correspond directly to the absolute values of the eigenvalues."
   ]
  },
  {
   "cell_type": "markdown",
   "id": "7d6afa9a-6452-422e-845c-2a9ca3c24deb",
   "metadata": {},
   "source": [
    "### Claim 1: Singular vectors are eigenvectors of matrix products\n",
    "The singular vectors contained in the columns of the $\\mathbf{U}$ and $\\mathbf{V}$ are the eigenvectors of the matrix product $\\mathbf{S}\\mathbf{S}^{\\top}$ and $\\mathbf{S}^{\\top}\\mathbf{S}$, respectively for the _non-zero_ eigenvalues. We start by testing the left singular matrix $\\mathbf{U}$ by computing the SVD of the matrix product $\\mathbf{S}\\mathbf{S}^{\\top}$ and compare it to the eigendecomposition. Then, we'll do the same for the product $\\mathbf{S}^{\\top}\\mathbf{S}$ compared to right-singular matrix $\\mathbf{V}$."
   ]
  },
  {
   "cell_type": "code",
   "execution_count": 236,
   "id": "4ee96ad9-f9cd-493c-94ae-ccaf39eea2d7",
   "metadata": {},
   "outputs": [],
   "source": [
    "U₁,Σ₁,VT₁ = let\n",
    "\n",
    "    # compute SVD -\n",
    "    A = S*transpose(S); # matrix we want to decompose\n",
    "    (n,m) = size(A); # what is the dimension of A? (this should be square)\n",
    "    F = svd(A, full = true, alg=LinearAlgebra.QRIteration()); # notice we are using QR iteration!\n",
    "    U = F.U;\n",
    "    Σ = F.S;\n",
    "    V = F.V;\n",
    "\n",
    "    U, Σ, V\n",
    "end;"
   ]
  },
  {
   "cell_type": "markdown",
   "id": "e96f1f7d-101e-423a-9412-56a53cc13c7b",
   "metadata": {},
   "source": [
    "Compute the eigendecomposition for the matrix $\\mathbf{S}\\mathbf{S}^{\\top}$."
   ]
  },
  {
   "cell_type": "code",
   "execution_count": 244,
   "id": "b10eccba-6b52-4275-9a54-802c38fb79aa",
   "metadata": {},
   "outputs": [],
   "source": [
    "Λ₁,V₁ = let\n",
    "\n",
    "    # initialize -\n",
    "    A = S*transpose(S); # matrix we want to decompose\n",
    "    (n,m) = size(A); # what is the dimension of A?\n",
    "    Λ = Matrix{Float64}(1.0*I, n, n); # builds the I matrix, we'll update with λ -\n",
    "    \n",
    "    # Decompose using the built-in function\n",
    "    F = eigen(A);   # eigenvalues and vectors in F of type Eigen (biggest first)\n",
    "    λ = F.values;   # vector of eigenvalues\n",
    "    V = F.vectors;  # n x n matrix of eigenvectors, each col is an eigenvector\n",
    "\n",
    "    # package the eigenvalues into Λ -\n",
    "    reverse!(λ)\n",
    "    for i ∈ 1:n\n",
    "        Λ[i,i] = λ[i];\n",
    "    end\n",
    "\n",
    "    Λ,V\n",
    "end;"
   ]
  },
  {
   "cell_type": "markdown",
   "id": "6a4ab389-d17c-4570-aeee-d6b0ed178704",
   "metadata": {},
   "source": [
    "Compute the test"
   ]
  },
  {
   "cell_type": "code",
   "execution_count": 301,
   "id": "aee75aba-f5dc-4a08-85fb-c82c22e3c761",
   "metadata": {},
   "outputs": [
    {
     "data": {
      "text/plain": [
       "0.9999999999999999"
      ]
     },
     "execution_count": 301,
     "metadata": {},
     "output_type": "execute_result"
    }
   ],
   "source": [
    "let \n",
    "    index = 339; # index of the vector we want to look at \n",
    "    uᵢ = U₁[:,index];\n",
    "    vᵢ = V₁[:,end - (index-1)]; # DQ: why are we going from the end?\n",
    "    dot(uᵢ,vᵢ)\n",
    "end"
   ]
  },
  {
   "cell_type": "markdown",
   "id": "00e9d1eb-cdce-44ed-80d0-1dff52686bce",
   "metadata": {},
   "source": [
    "### Claim 2: Singular vectors of a symmetric real positive definite matrix are the eigenvectors\n",
    "In cases where $\\mathbf{A}$ is symmetric (square) and positive definite (positive eigenvalues), the left and right singular vectors align with the eigenvectors. Let's test this claim by first computing the singular value decomposition of the covariance matrix $\\mathbf{\\Sigma}$, then we'll compute the eigenvalues and eigenvectors of $\\mathbf{\\Sigma}$, and finally, we'll compare the singular vectors with the eigenvectors."
   ]
  },
  {
   "cell_type": "code",
   "execution_count": 309,
   "id": "5c40f450-d5df-422e-b22b-c98ee44a10f5",
   "metadata": {},
   "outputs": [],
   "source": [
    "U₂,Σ₂,VT₂ = let\n",
    "\n",
    "    # compute SVD -\n",
    "    A = Σ̂; # matrix we want to decompose\n",
    "    (n,m) = size(A); # what is the dimension of A? (this should be square)\n",
    "    F = svd(A, full = true, alg=LinearAlgebra.QRIteration()); # notice we are using QR iteration!\n",
    "    U = F.U;\n",
    "    Σ = F.S;\n",
    "    V = F.V;\n",
    "\n",
    "    U, Σ, V\n",
    "end;"
   ]
  },
  {
   "cell_type": "markdown",
   "id": "7a47538e-7b12-4b05-bf3c-58abb6177d2e",
   "metadata": {},
   "source": [
    "Next, compute the eigendecomposition of the covariance matrix $\\mathbf{\\Sigma}$ using [the `eigen(...)` method exported by the `LinearAlgebra.jl` package](https://docs.julialang.org/en/v1/stdlib/LinearAlgebra/#LinearAlgebra.eigen)"
   ]
  },
  {
   "cell_type": "code",
   "execution_count": 384,
   "id": "89b3cfdc-5749-4aa1-b839-3c2cdb1d0c20",
   "metadata": {},
   "outputs": [],
   "source": [
    "Λ₂,V₂ = let\n",
    "\n",
    "    # initialize -\n",
    "    A = Σ̂; # matrix we want to decompose\n",
    "    (n,m) = size(A); # what is the dimension of A?\n",
    "    Λ = Matrix{Float64}(1.0*I, n, n); # builds the I matrix, we'll update with λ -\n",
    "    \n",
    "    # Decompose using the built-in function\n",
    "    F = eigen(A) ;   # eigenvalues and vectors in F of type Eigen (biggest first)\n",
    "    λ = F.values;   # vector of eigenvalues\n",
    "    V = F.vectors;  # n x n matrix of eigenvectors, each col is an eigenvector\n",
    "\n",
    "    # package the eigenvalues into Λ -\n",
    "    reverse!(λ)\n",
    "    for i ∈ 1:n\n",
    "        Λ[i,i] = λ[i];\n",
    "    end\n",
    "\n",
    "    Λ,V\n",
    "end;"
   ]
  },
  {
   "cell_type": "markdown",
   "id": "1d7fee58-f5e8-49ed-b580-aea4abe9b912",
   "metadata": {},
   "source": [
    "Compute"
   ]
  },
  {
   "cell_type": "code",
   "execution_count": 388,
   "id": "aa45ab24-7884-4e9d-9db2-ba35b0438bf8",
   "metadata": {},
   "outputs": [
    {
     "data": {
      "text/plain": [
       "5.316029316858653e-17"
      ]
     },
     "execution_count": 388,
     "metadata": {},
     "output_type": "execute_result"
    }
   ],
   "source": [
    "δ₂ = let \n",
    "    index = 4; # index of the vector we want to look at \n",
    "    uᵢ = U₂[:,index];\n",
    "    #vᵢ = V₂[:,end - (index-1)]; # DQ: why are we going from the end?\n",
    "    vᵢ = V₂[:,index]; # DQ: why are we going from the end?\n",
    "    dot(uᵢ,vᵢ)\n",
    "end"
   ]
  },
  {
   "cell_type": "code",
   "execution_count": 338,
   "id": "96d0289a-88df-42fd-afc6-778bfe343ce6",
   "metadata": {},
   "outputs": [
    {
     "data": {
      "text/plain": [
       "469×2 Matrix{Float64}:\n",
       " -0.000418497   0.000418497\n",
       " -0.000416429   0.000416429\n",
       " -0.000416429   0.000416429\n",
       " -0.000418504   0.000418504\n",
       "  0.000153178  -0.000153178\n",
       "  0.000153178  -0.000153178\n",
       "  0.000153178  -0.000153178\n",
       "  0.000153178  -0.000153178\n",
       "  0.000153178  -0.000153178\n",
       "  0.000153178  -0.000153178\n",
       "  0.000153178  -0.000153178\n",
       "  0.000569968  -0.000569968\n",
       " -0.085201      0.085201\n",
       "  ⋮            \n",
       " -0.000175824   0.000175824\n",
       " -0.000252893   0.000252893\n",
       " -0.0825653     0.0825653\n",
       " -0.0492508     0.0492508\n",
       "  0.0493045    -0.0493045\n",
       " -0.0727806     0.0727806\n",
       " -0.050529      0.050529\n",
       " -0.050529      0.050529\n",
       " -0.0505281     0.0505281\n",
       " -0.0507899     0.0507899\n",
       " -0.0507899     0.0507899\n",
       " -0.0507899     0.0507899"
      ]
     },
     "execution_count": 338,
     "metadata": {},
     "output_type": "execute_result"
    }
   ],
   "source": [
    "index = 1\n",
    "uᵢ = U₂[:,index];\n",
    "vᵢ = V₂[:,end - (index-1)]; # DQ: why are we going from the end?\n",
    "[uᵢ vᵢ]"
   ]
  },
  {
   "cell_type": "code",
   "execution_count": null,
   "id": "a2315904-bc77-4465-97c4-339fab4aa1d9",
   "metadata": {},
   "outputs": [],
   "source": []
  }
 ],
 "metadata": {
  "kernelspec": {
   "display_name": "Julia 1.11.3",
   "language": "julia",
   "name": "julia-1.11"
  },
  "language_info": {
   "file_extension": ".jl",
   "mimetype": "application/julia",
   "name": "julia",
   "version": "1.11.3"
  }
 },
 "nbformat": 4,
 "nbformat_minor": 5
}
