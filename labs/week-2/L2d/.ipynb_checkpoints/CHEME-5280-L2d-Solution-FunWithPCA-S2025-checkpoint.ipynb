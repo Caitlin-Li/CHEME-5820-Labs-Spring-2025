{
 "cells": [
  {
   "cell_type": "markdown",
   "id": "ebde9e09-1316-4f75-a15e-eb3130e4e235",
   "metadata": {},
   "source": [
    "# Lab 2d: Fun With Principle Component Analysis (PCA)\n",
    "In this lab, we'll explore the [principle component analysis (PCA)](https://en.wikipedia.org/wiki/Principal_component_analysis) of a standard matrix in chemical systems: the stoichiometric matrix $\\mathbf{S}$. The stoichiometric matrix is the digital representation of a chemical reaction system.\n",
    "\n",
    "#### What is a stoichiometric matrix?\n",
    "Suppose we have a set of chemical (or biochemical) reactions $\\mathcal{R}$ involving the chemical species (metabolite) set $\\mathcal{M}$. Then, the stoichiometric matrix is a $\\mathbf{S}\\in\\mathbb{R}^{|\\mathcal{M}|\\times|\\mathcal{R}|}$ matrix that holds the stoichiometric coefficients $\\sigma_{ij}\\in\\mathbf{S}$ such that:\n",
    "* $\\sigma_{ij}>0$: Chemical species (metabolite) $i$ is _produced_ by reaction $j$. Species $i$ is a product of reaction $j$.\n",
    "* $\\sigma_{ij} = 0$: Chemical species (metabolite) $i$ is not connected with reaction $j$\n",
    "* $\\sigma_{ij}<0$: Chemical species (metabolite) $i$ is _consumed_ by reaction $j$. Species $i$ is a reactant of reaction $j$.\n",
    "\n",
    "We'll explore some stoichiometric matrices downloaded from [the BiGG Models database from the Palsson lab at UCSD](http://bigg.ucsd.edu/).\n",
    "\n",
    "#### What is PCA?\n",
    "Fill me in\n",
    "\n",
    "### Tasks\n",
    "Before we start, divide into teams and familiarize yourself with the lab. Then, execute the `Run All Cells` command to check if you (or your neighbor) have any code or setup issues. Code issues, then raise your hands - and let's get those fixed!\n",
    "\n",
    "* __Task 1: Setup, Data, Constants (10 min)__: Let's take 10 minutes to review the dataset we'll explore today and set up some values we'll use in the other tasks. We'll load the data and do some initial _data munging_ (also called [data wrangling](https://en.wikipedia.org/wiki/Data_wrangling)) to get the dataset in a form that we'll use in our analysis.\n",
    "* __Task 2: Test some of the theoretical claims from the SVD lecture (10 min)__: In this task, let's test a few of the claims about singular value decomposition and its relationship with eigendecomposition [using the `eigen(...)` and `svd(...)` methods exported by the `LinearAlgebra.jl` package](https://docs.julialang.org/en/v1/stdlib/LinearAlgebra/#LinearAlgebra.eigen).\n",
    "* __Task 3: Dimensionality reduction with Principle Component Analysis (PCA) (30 min)?__: In this task, we'll construct the matrix $\\mathbf{P}$ which transforms our original feature vectors into lower dimensional composite features, and then explore some of the properties of the composite features. _Is there something interesting here?_"
   ]
  },
  {
   "cell_type": "markdown",
   "id": "9202a6d8-eae1-4d84-9fb1-7953add91311",
   "metadata": {},
   "source": [
    "## Task 1: Setup, Data and Prerequisites\n",
    "We set up the computational environment by including the `Include.jl` file, loading any needed resources, such as sample datasets, and setting up any required constants. The `Include.jl` file loads external packages, various functions that we will use in the exercise, and custom types to model the components of our problem."
   ]
  },
  {
   "cell_type": "code",
   "execution_count": 258,
   "id": "54ccb906-0324-4392-9690-2329aa63e0a9",
   "metadata": {},
   "outputs": [],
   "source": [
    "include(\"Include.jl\")"
   ]
  },
  {
   "cell_type": "markdown",
   "id": "734029f7-dfe9-4b76-9da1-299c8b750b97",
   "metadata": {},
   "source": [
    "### Data\n",
    "We developed a simple software development kit (SDK) against [the BiGG Models application programming interface at the University of California, San Diego](http://bigg.ucsd.edu/). The [BiGG Models database](http://bigg.ucsd.edu/) integrates published genome-scale metabolic networks into a single database with standardized nomenclature and structure. \n",
    "* [The BiGG models API](http://bigg.ucsd.edu/data_access) allows users to programmatically access genome-scale stoichiometric model reconstructions using a simple web API. There are `108` models of intracellular biochemistry occurring in various organisms (including humans) in the database (so far); [see here for a list of models](http://bigg.ucsd.edu/models).\n",
    "* Here, we'll first explore the [core metabolic model of Palsson and coworkers](https://pubmed.ncbi.nlm.nih.gov/26443778/), which is a scaled-down model of [carbohydrate metabolism](https://en.wikipedia.org/wiki/Carbohydrate_metabolism) in _E.coli_. This model has 72 metabolites and 95 reactions. We'll then look at other models, and see what is going on with these.\n",
    "\n",
    "We call the model download endpoint of [the BiGG models API](http://bigg.ucsd.edu/data_access) and then save the model file to disk (so we don't hit the API unless we have to). This call returns model information organized as [a Julia dictionary](https://docs.julialang.org/en/v1/base/collections/#Base.Dict) in the `model::Dict{String, Any}` variable. If a model file is saved, we use the cached file instead of making an API call."
   ]
  },
  {
   "cell_type": "code",
   "execution_count": 260,
   "id": "2e03dfc2-3c9a-4350-92ae-42324d3607a3",
   "metadata": {},
   "outputs": [
    {
     "data": {
      "text/plain": [
       "Dict{String, Any} with 6 entries:\n",
       "  \"metabolites\"  => Any[Dict{String, Any}(\"compartment\"=>\"e\", \"name\"=>\"D-Glucos…\n",
       "  \"id\"           => \"e_coli_core\"\n",
       "  \"compartments\" => Dict{String, Any}(\"c\"=>\"cytosol\", \"e\"=>\"extracellular space…\n",
       "  \"reactions\"    => Any[Dict{String, Any}(\"name\"=>\"Phosphofructokinase\", \"metab…\n",
       "  \"version\"      => \"1\"\n",
       "  \"genes\"        => Any[Dict{String, Any}(\"name\"=>\"adhE\", \"id\"=>\"b1241\", \"notes…"
      ]
     },
     "execution_count": 260,
     "metadata": {},
     "output_type": "execute_result"
    }
   ],
   "source": [
    "model = let\n",
    "\n",
    "    # build download endpoint -\n",
    "    baseurl = \"http://bigg.ucsd.edu\"; # base url to download model\n",
    "    modelid = \"e_coli_core\"; # model id to download\n",
    "    path_to_saved_model_file = joinpath(_PATH_TO_DATA, \"saved-model-$(modelid).jld2\");\n",
    "\n",
    "    # check: do we have a model file saved?\n",
    "    model = nothing;\n",
    "    if (isfile(path_to_saved_model_file) == false)\n",
    "        \n",
    "        endpoint = MyBiggModelsDownloadModelEndpointModel();\n",
    "        endpoint.bigg_id = modelid;\n",
    "        url = build(baseurl, endpoint)\n",
    "        model = MyBiggModelsDownloadModelEndpointModel(url);\n",
    "\n",
    "        # Before we move on, save this model for later (so we don't keep hitting the API)\n",
    "        save(path_to_saved_model_file, Dict(\"model\" => model));\n",
    "    else\n",
    "        model = load(path_to_saved_model_file)[\"model\"];\n",
    "    end\n",
    "    model; # return the model (either saved, or downloaded)\n",
    "end"
   ]
  },
  {
   "cell_type": "markdown",
   "id": "04fda0f0-d1f9-466f-a728-0238b9023f6d",
   "metadata": {},
   "source": [
    "__Stoichiometric matrix__: Next, let's build a stoichiometric matrix $\\mathbf{S}$ using the metabolite and reaction records. We'll do this using nested [`for` loops](https://docs.julialang.org/en/v1/base/base/#for). \n",
    "* __Strategy__: In the outer loop, we iterate over the system's metabolites (chemical species) and select the `id` from the metabolites record for each metabolite. In the inner loop, we iterate over each reaction. For each reaction record, we ask if this reaction has an entry for the current metabolite `id` value; if it does, we grab the stoichiometric coefficient $\\sigma_{ij}$ corresponding to this metabolite and reaction."
   ]
  },
  {
   "cell_type": "code",
   "execution_count": 262,
   "id": "5b8a1033-1b3c-4641-96c0-2bc1066bec06",
   "metadata": {},
   "outputs": [],
   "source": [
    "S = let\n",
    "\n",
    "    # get some data from the model -\n",
    "    m = model[\"metabolites\"]; # get list of metabolites\n",
    "    r = model[\"reactions\"]; # get list of reactions\n",
    "    number_of_rows = length(m); # how many metabolites do we have? (rows)\n",
    "    number_of_cols = length(r); # how many reactions do we have? (cols)\n",
    "    S = zeros(number_of_rows,number_of_cols); # initialize an empty stoichiometric matrix\n",
    "\n",
    "    # let's build a stm -\n",
    "    for i ∈ eachindex(m)\n",
    "        metabolite = m[i][\"id\"]; # we are checking if this metabolite is in the reaction record\n",
    "        for j ∈ eachindex(r)\n",
    "            reaction = r[j];\n",
    "            if (haskey(reaction[\"metabolites\"], metabolite) == true)\n",
    "                S[i,j] = reaction[\"metabolites\"][metabolite];\n",
    "            end\n",
    "        end\n",
    "    end\n",
    "    S; \n",
    "end;"
   ]
  },
  {
   "cell_type": "code",
   "execution_count": 264,
   "id": "83d0bb72-f379-4d5c-acb3-d2c949e6c39e",
   "metadata": {},
   "outputs": [
    {
     "data": {
      "text/plain": [
       "72×95 Matrix{Float64}:\n",
       " -0.0524102  0.0       0.0      0.0  …   0.0217371  0.0  0.0  0.0  0.0\n",
       " -0.0524102  0.0       0.0      0.0      0.0217371  0.0  0.0  0.0  0.0\n",
       " -0.0524102  0.0       0.0      0.0      0.0217371  0.0  0.0  0.0  0.0\n",
       " -0.0524102  0.0       0.0      0.0      0.0217371  0.0  0.0  0.0  0.0\n",
       " -0.0524102  0.0       0.0      0.0      0.0217371  0.0  0.0  0.0  0.0\n",
       " -0.0524102  0.0       0.0      0.0  …   0.0217371  0.0  0.0  0.0  0.0\n",
       " -0.0524102  0.0       0.0      0.0      0.0217371  0.0  0.0  0.0  0.0\n",
       " -0.0524102  0.0       0.0      0.0      0.0217371  0.0  0.0  0.0  0.0\n",
       "  3.72112    0.0       0.0      0.0     -6.23855    0.0  0.0  0.0  0.0\n",
       " -0.0524102  0.0       0.0      0.0      4.71695    0.0  0.0  0.0  0.0\n",
       " -0.0524102  0.0       0.0      0.0  …   0.0217371  0.0  0.0  0.0  0.0\n",
       " -0.0524102  0.0       0.0      0.0      0.0217371  0.0  0.0  0.0  0.0\n",
       " -0.0524102  0.0       0.0      0.0      0.0217371  0.0  0.0  0.0  0.0\n",
       "  ⋮                                  ⋱   ⋮                         \n",
       " -0.0524102  0.0       0.0      0.0  …   0.0217371  0.0  0.0  0.0  0.0\n",
       " -0.0524102  0.0       0.0      0.0      0.0217371  0.0  0.0  0.0  0.0\n",
       " -0.0524102  0.0       0.0      0.0      0.0217371  0.0  0.0  0.0  0.0\n",
       " -3.82594    0.0       5.95819  0.0      0.0217371  0.0  0.0  0.0  0.0\n",
       "  3.72112    0.0       0.0      0.0      0.0217371  0.0  0.0  0.0  0.0\n",
       " -0.0524102  4.21307   0.0      0.0  …   0.0217371  0.0  0.0  0.0  0.0\n",
       " -0.0524102  0.0       0.0      0.0      0.0217371  0.0  0.0  0.0  0.0\n",
       " -0.0524102  0.0       0.0      0.0      0.0217371  0.0  0.0  0.0  0.0\n",
       " -0.0524102  0.0       0.0      0.0      0.0217371  0.0  0.0  0.0  0.0\n",
       " -0.0524102  0.0       0.0      0.0      0.0217371  0.0  0.0  0.0  0.0\n",
       " -0.0524102  0.0       0.0      0.0  …   0.0217371  0.0  0.0  0.0  0.0\n",
       " -0.0524102  0.0      -5.95819  0.0      0.0217371  0.0  0.0  0.0  0.0"
      ]
     },
     "execution_count": 264,
     "metadata": {},
     "output_type": "execute_result"
    }
   ],
   "source": [
    "# Ŝ = let\n",
    "    \n",
    "#     # get some data from the system -\n",
    "#     m = model[\"metabolites\"] |> length # get the number of metabolites\n",
    "#     r = model[\"reactions\"] |> length # get the number of reactions\n",
    "#     Ŝ = zeros(m,r); # create a scaled stoichiometric matrix\n",
    "\n",
    "#     for j ∈ 1:r\n",
    "#         col = S[:,j]; # get the jth col (reaction)\n",
    "#         μⱼ = mean(col); # mean of the col\n",
    "#         σⱼ = std(col); # std of the col\n",
    "\n",
    "#         for i ∈ 1:m\n",
    "#             Ŝ[i,j] = (col[i] - μⱼ)/σⱼ\n",
    "#         end\n",
    "#     end\n",
    "\n",
    "#     Ŝ\n",
    "# end"
   ]
  },
  {
   "cell_type": "code",
   "execution_count": 265,
   "id": "e881d5e5-6a4d-413a-a5fc-4da595ffda5a",
   "metadata": {},
   "outputs": [
    {
     "data": {
      "text/plain": [
       "95×95 Matrix{Float64}:\n",
       "  0.0702269     0.0        -0.0140845  …  0.0       0.0        0.0\n",
       "  0.0           0.056338    0.0           0.0       0.0        0.0422535\n",
       " -0.0140845     0.0         0.028169      0.0       0.0        0.0\n",
       "  0.028169      0.0         0.0           0.0       0.0        0.0\n",
       "  0.0140845     0.0         0.0           0.0       0.0        0.0\n",
       "  0.0140845     0.028169    0.0        …  0.0       0.0        0.056338\n",
       "  0.0140845     0.0         0.0           0.0       0.0        0.0\n",
       "  0.0           0.0         0.0           0.0       0.0        0.0\n",
       "  0.0140845     0.0         0.0           0.0       0.0        0.0\n",
       "  0.0138889     0.0         0.0           0.0       0.0        0.028169\n",
       "  0.0           0.0         0.0        …  0.0       0.0        0.0\n",
       "  0.028169      0.0         0.0           0.0       0.0        0.0\n",
       "  0.0140845     0.0         0.0           0.0       0.0       -0.0140845\n",
       "  ⋮                                    ⋱                      \n",
       " -0.000195618   0.0         0.0           0.0       0.0        0.0\n",
       "  0.0138889    -0.0140845   0.0           0.0       0.0        0.0140845\n",
       "  0.0140845    -0.028169    0.0        …  0.0       0.0       -0.028169\n",
       "  0.028169      0.0         0.0           0.0       0.0        0.0\n",
       "  0.0138889     0.0         0.0           0.0       0.0        0.028169\n",
       " -0.000195618  -0.0140845   0.0           0.0       0.0        0.028169\n",
       " -0.000195618  -0.0140845   0.0           0.0       0.0        6.84116e-19\n",
       " -0.0561424     0.0         0.0        …  0.0       0.0       -0.028169\n",
       "  0.0           0.0         0.0           0.0       0.0        0.028169\n",
       "  0.0           0.0         0.0           0.028169  0.0        0.0\n",
       "  0.0           0.0         0.0           0.0       0.028169   0.0\n",
       "  0.0           0.0422535   0.0           0.0       0.0        0.084507"
      ]
     },
     "execution_count": 265,
     "metadata": {},
     "output_type": "execute_result"
    }
   ],
   "source": [
    "Σ̂ = cov(S) # covariance of the mean-centered stoichiometric array"
   ]
  },
  {
   "cell_type": "markdown",
   "id": "11393cac-cb4b-4062-a157-428fbb7b37a7",
   "metadata": {},
   "source": [
    "## Task 2: Let's test some of the theoretical claims from the SVD lecture\n",
    "In this task, let's test a few of the claims about singular value decomposition. The singular Value Decomposition (SVD) decomposes a matrix $\\mathbf{A}\\in\\mathbb{C}^{n\\times{m}}$ into three distinct matrices, $\\mathbf{A} = \\mathbf{U}\\mathbf{\\Sigma}\\mathbf{V}^{\\top}$. The matrices $\\mathbf{U}$ and $\\mathbf{V}$  are orthogonal matrices containing the left and right singular vectors, respectively, while the $\\mathbf{\\Sigma}$ is a diagonal matrix containing the singular values."
   ]
  },
  {
   "cell_type": "markdown",
   "id": "7d6afa9a-6452-422e-845c-2a9ca3c24deb",
   "metadata": {},
   "source": [
    "### Claim 1: Singular vectors are eigenvectors of matrix products\n",
    "The singular vectors contained in the columns of the $\\mathbf{U}$ and $\\mathbf{V}$ are the eigenvectors of the matrix product $\\mathbf{S}\\mathbf{S}^{\\top}$ and $\\mathbf{S}^{\\top}\\mathbf{S}$, respectively for the _non-zero_ eigenvalues. We start by testing the left singular matrix $\\mathbf{U}$ by computing the SVD of the matrix product $\\mathbf{S}\\mathbf{S}^{\\top}$ and compare it to the eigendecomposition. Then, we'll do the same for the product $\\mathbf{S}^{\\top}\\mathbf{S}$ compared to right-singular matrix $\\mathbf{V}$."
   ]
  },
  {
   "cell_type": "code",
   "execution_count": 268,
   "id": "4ee96ad9-f9cd-493c-94ae-ccaf39eea2d7",
   "metadata": {},
   "outputs": [],
   "source": [
    "U₁,Σ₁,VT₁ = let\n",
    "\n",
    "    # compute SVD -\n",
    "    A = S*transpose(S); # matrix we want to decompose\n",
    "    (n,m) = size(A); # what is the dimension of A? (this should be square)\n",
    "    F = svd(A, full = true, alg=LinearAlgebra.QRIteration()); # notice we are using QR iteration!\n",
    "    U = F.U;\n",
    "    Σ = F.S;\n",
    "    V = F.V;\n",
    "\n",
    "    U, Σ, V\n",
    "end;"
   ]
  },
  {
   "cell_type": "code",
   "execution_count": 269,
   "id": "d37b8abf-b79b-44ad-b638-7e5c7d380b3e",
   "metadata": {},
   "outputs": [
    {
     "data": {
      "text/plain": [
       "72-element Vector{Float64}:\n",
       " 18380.954633824444\n",
       "   110.07704573669804\n",
       "    28.58708026715725\n",
       "    23.11730912834334\n",
       "    20.03604518791097\n",
       "    14.948791470915404\n",
       "    14.05174793008338\n",
       "    12.527717460708006\n",
       "    11.409865219522096\n",
       "     9.303622040338366\n",
       "     7.98125126370893\n",
       "     7.179651550389819\n",
       "     6.60218517291446\n",
       "     ⋮\n",
       "     0.4015839931359503\n",
       "     0.3725051995310318\n",
       "     0.2994989310103324\n",
       "     0.20032110618296936\n",
       "     0.1547500835846053\n",
       "     0.11584214049422989\n",
       "     0.013482156741460362\n",
       "     1.669665689984258e-15\n",
       "     3.8166428357613776e-16\n",
       "     2.578293415504675e-16\n",
       "     1.2486106019112515e-16\n",
       "     9.184645887634113e-17"
      ]
     },
     "execution_count": 269,
     "metadata": {},
     "output_type": "execute_result"
    }
   ],
   "source": [
    "Σ₁"
   ]
  },
  {
   "cell_type": "markdown",
   "id": "e96f1f7d-101e-423a-9412-56a53cc13c7b",
   "metadata": {},
   "source": [
    "Compute the eigendecomposition for the matrix $\\mathbf{S}\\mathbf{S}^{\\top}$."
   ]
  },
  {
   "cell_type": "code",
   "execution_count": 271,
   "id": "b10eccba-6b52-4275-9a54-802c38fb79aa",
   "metadata": {},
   "outputs": [],
   "source": [
    "Λ₁,V₁ = let\n",
    "\n",
    "    # initialize -\n",
    "    A = S*transpose(S); # matrix we want to decompose\n",
    "    (n,m) = size(A); # what is the dimension of A?\n",
    "    Λ = Matrix{Float64}(1.0*I, n, n); # builds the I matrix, we'll update with λ -\n",
    "    \n",
    "    # Decompose using the built-in function\n",
    "    F = eigen(A);   # eigenvalues and vectors in F of type Eigen (biggest first)\n",
    "    λ = F.values;   # vector of eigenvalues\n",
    "    V = F.vectors;  # n x n matrix of eigenvectors, each col is an eigenvector\n",
    "\n",
    "    # package the eigenvalues into Λ -\n",
    "    reverse!(λ)\n",
    "    for i ∈ 1:n\n",
    "        Λ[i,i] = λ[i];\n",
    "    end\n",
    "\n",
    "    Λ,V\n",
    "end;"
   ]
  },
  {
   "cell_type": "markdown",
   "id": "6a4ab389-d17c-4570-aeee-d6b0ed178704",
   "metadata": {},
   "source": [
    "Compute the test"
   ]
  },
  {
   "cell_type": "code",
   "execution_count": 273,
   "id": "aee75aba-f5dc-4a08-85fb-c82c22e3c761",
   "metadata": {},
   "outputs": [
    {
     "data": {
      "text/plain": [
       "1.0000000000000002"
      ]
     },
     "execution_count": 273,
     "metadata": {},
     "output_type": "execute_result"
    }
   ],
   "source": [
    "let \n",
    "    index = 10; # index of the vector we want to look at \n",
    "    uᵢ = U₁[:,index];\n",
    "    vᵢ = V₁[:,end - (index-1)]; # DQ: why are we going from the end?\n",
    "    dot(uᵢ,vᵢ)\n",
    "end"
   ]
  },
  {
   "cell_type": "markdown",
   "id": "00e9d1eb-cdce-44ed-80d0-1dff52686bce",
   "metadata": {},
   "source": [
    "### Claim 2: Singular vectors of a symmetric real positive definite matrix are the eigenvectors\n",
    "In cases where $\\mathbf{A}$ is symmetric (square) and positive definite (positive eigenvalues), the left and right singular vectors align with the eigenvectors. Let's test this claim by first computing the singular value decomposition of the covariance matrix $\\mathbf{\\Sigma}$, then we'll compute the eigenvalues and eigenvectors of $\\mathbf{\\Sigma}$, and finally, we'll compare the singular vectors with the eigenvectors."
   ]
  },
  {
   "cell_type": "code",
   "execution_count": 275,
   "id": "5c40f450-d5df-422e-b22b-c98ee44a10f5",
   "metadata": {},
   "outputs": [],
   "source": [
    "U₂,Σ₂,VT₂ = let\n",
    "\n",
    "    # compute SVD -\n",
    "    A = Σ̂; # matrix we want to decompose\n",
    "    (n,m) = size(A); # what is the dimension of A? (this should be square)\n",
    "    F = svd(A, full = true, alg=LinearAlgebra.QRIteration()); # notice we are using QR iteration!\n",
    "    U = F.U;\n",
    "    Σ = F.S;\n",
    "    V = F.V;\n",
    "\n",
    "    U, Σ, V\n",
    "end;"
   ]
  },
  {
   "cell_type": "markdown",
   "id": "7a47538e-7b12-4b05-bf3c-58abb6177d2e",
   "metadata": {},
   "source": [
    "Next, compute the eigendecomposition of the covariance matrix $\\mathbf{\\Sigma}$ using [the `eigen(...)` method exported by the `LinearAlgebra.jl` package](https://docs.julialang.org/en/v1/stdlib/LinearAlgebra/#LinearAlgebra.eigen)"
   ]
  },
  {
   "cell_type": "code",
   "execution_count": 277,
   "id": "89b3cfdc-5749-4aa1-b839-3c2cdb1d0c20",
   "metadata": {},
   "outputs": [],
   "source": [
    "Λ₂,V₂ = let\n",
    "\n",
    "    # initialize -\n",
    "    A = Σ̂; # matrix we want to decompose\n",
    "    (n,m) = size(A); # what is the dimension of A?\n",
    "    Λ = Matrix{Float64}(1.0*I, n, n); # builds the I matrix, we'll update with λ -\n",
    "    \n",
    "    # Decompose using the built-in function\n",
    "    F = eigen(A) ;   # eigenvalues and vectors in F of type Eigen (biggest first)\n",
    "    λ = F.values;   # vector of eigenvalues\n",
    "    V = F.vectors;  # n x n matrix of eigenvectors, each col is an eigenvector\n",
    "\n",
    "    # package the eigenvalues into Λ -\n",
    "    reverse!(λ)\n",
    "    for i ∈ 1:n\n",
    "        Λ[i,i] = λ[i];\n",
    "    end\n",
    "\n",
    "    Λ,V\n",
    "end;"
   ]
  },
  {
   "cell_type": "markdown",
   "id": "1d7fee58-f5e8-49ed-b580-aea4abe9b912",
   "metadata": {},
   "source": [
    "Compute"
   ]
  },
  {
   "cell_type": "code",
   "execution_count": 279,
   "id": "aa45ab24-7884-4e9d-9db2-ba35b0438bf8",
   "metadata": {},
   "outputs": [
    {
     "data": {
      "text/plain": [
       "-0.9999999999999989"
      ]
     },
     "execution_count": 279,
     "metadata": {},
     "output_type": "execute_result"
    }
   ],
   "source": [
    "δ₂ = let \n",
    "    index = 4; # index of the vector we want to look at \n",
    "    uᵢ = U₂[:,index];\n",
    "    vᵢ = V₂[:,end - (index-1)]; # DQ: why are we going from the end?\n",
    "    dot(uᵢ,vᵢ)\n",
    "end"
   ]
  },
  {
   "cell_type": "markdown",
   "id": "f4624ed5-9ddd-4d91-95bb-421a48715f22",
   "metadata": {},
   "source": [
    "### Claim 3: Connection between singular values and eigenvalues\n",
    "The singular values of a matrix $\\mathbf{A}$ are the square roots of the non-zero eigenvalues of either $\\mathbf{A}\\mathbf{A}^{\\top}$ or $\\mathbf{A}^{\\top}\\mathbf{A}$, establishing a direct connection between these two values. In cases where $\\mathbf{A}$ is symmetric (square) and positive definite (positive eigenvalues), the singular values correspond directly to the absolute values of the eigenvalues."
   ]
  },
  {
   "cell_type": "code",
   "execution_count": 281,
   "id": "ed125db9-3060-410c-a9b4-43ba7f507449",
   "metadata": {},
   "outputs": [],
   "source": [
    "U₃,Σ₃,VT₃ = let\n",
    "\n",
    "    # compute SVD -\n",
    "    A = S; # matrix we want to decompose\n",
    "    (n,m) = size(A); # what is the dimension of A? (this should be square)\n",
    "    F = svd(A, full = true, alg=LinearAlgebra.QRIteration()); # notice we are using QR iteration!\n",
    "    U = F.U;\n",
    "    Σ = F.S;\n",
    "    V = F.V;\n",
    "\n",
    "    U, Σ, V\n",
    "end;"
   ]
  },
  {
   "cell_type": "markdown",
   "id": "056c30ac-dfea-4475-85c9-4dd945033c28",
   "metadata": {},
   "source": [
    "Next, let's compare the singular values of $\\mathbf{S}$ with the eigenvalues of $\\mathbf{S}\\mathbf{S}^{\\top}$. If _claim 3_ is true, then we should see $\\sigma_{i}=\\sqrt{\\lambda_{i}}$ for all non-zero eigenvalues."
   ]
  },
  {
   "cell_type": "code",
   "execution_count": 283,
   "id": "2a6f2bb8-defd-48aa-867c-425770e741d5",
   "metadata": {},
   "outputs": [],
   "source": [
    "let\n",
    "    λ = diag(Λ₁); # get list of eigenvalues of SS^T\n",
    "    σ = Σ₃; # signular values of S\n",
    "    index = 10;\n",
    "    @assert σ[index] ≈ √λ[index]\n",
    "end"
   ]
  },
  {
   "cell_type": "markdown",
   "id": "c262177a-702b-43a7-b403-fefb34223ea7",
   "metadata": {},
   "source": [
    "## Task 3: Dimensionality reduction with Principle Component Analysis (PCA)\n",
    "In this task, we'll construct the matrix $\\mathbf{P}$ which transforms our original feature vectors into a lower dimension, i.e., it takes a vector that was originally $m$-dimensional and reduces it to $k$-dimensions, where $k\\ll{m}$ such the reconstruction error is minimized and the variance is captured."
   ]
  },
  {
   "cell_type": "code",
   "execution_count": 285,
   "id": "4a06fcd3-6a8a-4d8e-b07f-dd7a8af91bb6",
   "metadata": {},
   "outputs": [],
   "source": [
    "y, P = let\n",
    "\n",
    "    # initialize -\n",
    "    k = 2; # reduced dimension\n",
    "    number_of_cols = size(U₂,2);\n",
    "    P = zeros(k,number_of_cols); # transformation matrix\n",
    "\n",
    "    # build P -\n",
    "    for i ∈ 1:k\n",
    "        for j ∈ 1:number_of_cols\n",
    "            P[i,j] = U₂[i,j];\n",
    "        end\n",
    "    end\n",
    "    y = P*transpose(S) |> transpose |> Matrix, P\n",
    "end;"
   ]
  },
  {
   "cell_type": "markdown",
   "id": "b92d84b9-4ab8-4df0-962a-0c28124b682e",
   "metadata": {},
   "source": [
    "### Visualize the reduced column space"
   ]
  },
  {
   "cell_type": "code",
   "execution_count": 287,
   "id": "15d50e8a-b8f9-4994-9a4e-aabaff9849d8",
   "metadata": {},
   "outputs": [
    {
     "data": {
      "image/png": "[encoded data removed]",
      "image/svg+xml": [
       "<?xml version=\"1.0\" encoding=\"utf-8\"?>\n",
       "<svg xmlns=\"http://www.w3.org/2000/svg\" xmlns:xlink=\"http://www.w3.org/1999/xlink\" width=\"600\" height=\"400\" viewBox=\"0 0 2400 1600\">\n",
       "<defs>\n",
       "  <clipPath id=\"clip000\">\n",
       "    <rect x=\"0\" y=\"0\" width=\"2400\" height=\"1600\"/>\n",
       "  </clipPath>\n",
       "</defs>\n",
       "<path clip-path=\"url(#clip000)\" d=\"M0 1600 L2400 1600 L2400 8.88178e-14 L0 8.88178e-14  Z\" fill=\"#ffffff\" fill-rule=\"evenodd\" fill-opacity=\"1\"/>\n",
       "<defs>\n",
       "  <clipPath id=\"clip001\">\n",
       "    <rect x=\"480\" y=\"0\" width=\"1681\" height=\"1600\"/>\n",
       "  </clipPath>\n",
       "</defs>\n",
       "<path clip-path=\"url(#clip000)\" d=\"M212.459 1423.18 L2352.76 1423.18 L2352.76 47.2441 L212.459 47.2441  Z\" fill=\"#ffffff\" fill-rule=\"evenodd\" fill-opacity=\"1\"/>\n",
       "<defs>\n",
       "  <clipPath id=\"clip002\">\n",
       "    <rect x=\"212\" y=\"47\" width=\"2141\" height=\"1377\"/>\n",
       "  </clipPath>\n",
       "</defs>\n",
       "<polyline clip-path=\"url(#clip002)\" style=\"stroke:#000000; stroke-linecap:round; stroke-linejoin:round; stroke-width:2; stroke-opacity:0.1; fill:none\" points=\"345.553,1423.18 345.553,47.2441 \"/>\n",
       "<polyline clip-path=\"url(#clip002)\" style=\"stroke:#000000; stroke-linecap:round; stroke-linejoin:round; stroke-width:2; stroke-opacity:0.1; fill:none\" points=\"736.644,1423.18 736.644,47.2441 \"/>\n",
       "<polyline clip-path=\"url(#clip002)\" style=\"stroke:#000000; stroke-linecap:round; stroke-linejoin:round; stroke-width:2; stroke-opacity:0.1; fill:none\" points=\"1127.73,1423.18 1127.73,47.2441 \"/>\n",
       "<polyline clip-path=\"url(#clip002)\" style=\"stroke:#000000; stroke-linecap:round; stroke-linejoin:round; stroke-width:2; stroke-opacity:0.1; fill:none\" points=\"1518.83,1423.18 1518.83,47.2441 \"/>\n",
       "<polyline clip-path=\"url(#clip002)\" style=\"stroke:#000000; stroke-linecap:round; stroke-linejoin:round; stroke-width:2; stroke-opacity:0.1; fill:none\" points=\"1909.92,1423.18 1909.92,47.2441 \"/>\n",
       "<polyline clip-path=\"url(#clip002)\" style=\"stroke:#000000; stroke-linecap:round; stroke-linejoin:round; stroke-width:2; stroke-opacity:0.1; fill:none\" points=\"2301.01,1423.18 2301.01,47.2441 \"/>\n",
       "<polyline clip-path=\"url(#clip002)\" style=\"stroke:#000000; stroke-linecap:round; stroke-linejoin:round; stroke-width:2; stroke-opacity:0.1; fill:none\" points=\"212.459,1290.44 2352.76,1290.44 \"/>\n",
       "<polyline clip-path=\"url(#clip002)\" style=\"stroke:#000000; stroke-linecap:round; stroke-linejoin:round; stroke-width:2; stroke-opacity:0.1; fill:none\" points=\"212.459,1110.03 2352.76,1110.03 \"/>\n",
       "<polyline clip-path=\"url(#clip002)\" style=\"stroke:#000000; stroke-linecap:round; stroke-linejoin:round; stroke-width:2; stroke-opacity:0.1; fill:none\" points=\"212.459,929.617 2352.76,929.617 \"/>\n",
       "<polyline clip-path=\"url(#clip002)\" style=\"stroke:#000000; stroke-linecap:round; stroke-linejoin:round; stroke-width:2; stroke-opacity:0.1; fill:none\" points=\"212.459,749.204 2352.76,749.204 \"/>\n",
       "<polyline clip-path=\"url(#clip002)\" style=\"stroke:#000000; stroke-linecap:round; stroke-linejoin:round; stroke-width:2; stroke-opacity:0.1; fill:none\" points=\"212.459,568.792 2352.76,568.792 \"/>\n",
       "<polyline clip-path=\"url(#clip002)\" style=\"stroke:#000000; stroke-linecap:round; stroke-linejoin:round; stroke-width:2; stroke-opacity:0.1; fill:none\" points=\"212.459,388.38 2352.76,388.38 \"/>\n",
       "<polyline clip-path=\"url(#clip002)\" style=\"stroke:#000000; stroke-linecap:round; stroke-linejoin:round; stroke-width:2; stroke-opacity:0.1; fill:none\" points=\"212.459,207.968 2352.76,207.968 \"/>\n",
       "<polyline clip-path=\"url(#clip000)\" style=\"stroke:#000000; stroke-linecap:round; stroke-linejoin:round; stroke-width:4; stroke-opacity:1; fill:none\" points=\"212.459,1423.18 2352.76,1423.18 \"/>\n",
       "<polyline clip-path=\"url(#clip000)\" style=\"stroke:#000000; stroke-linecap:round; stroke-linejoin:round; stroke-width:4; stroke-opacity:1; fill:none\" points=\"345.553,1423.18 345.553,1404.28 \"/>\n",
       "<polyline clip-path=\"url(#clip000)\" style=\"stroke:#000000; stroke-linecap:round; stroke-linejoin:round; stroke-width:4; stroke-opacity:1; fill:none\" points=\"736.644,1423.18 736.644,1404.28 \"/>\n",
       "<polyline clip-path=\"url(#clip000)\" style=\"stroke:#000000; stroke-linecap:round; stroke-linejoin:round; stroke-width:4; stroke-opacity:1; fill:none\" points=\"1127.73,1423.18 1127.73,1404.28 \"/>\n",
       "<polyline clip-path=\"url(#clip000)\" style=\"stroke:#000000; stroke-linecap:round; stroke-linejoin:round; stroke-width:4; stroke-opacity:1; fill:none\" points=\"1518.83,1423.18 1518.83,1404.28 \"/>\n",
       "<polyline clip-path=\"url(#clip000)\" style=\"stroke:#000000; stroke-linecap:round; stroke-linejoin:round; stroke-width:4; stroke-opacity:1; fill:none\" points=\"1909.92,1423.18 1909.92,1404.28 \"/>\n",
       "<polyline clip-path=\"url(#clip000)\" style=\"stroke:#000000; stroke-linecap:round; stroke-linejoin:round; stroke-width:4; stroke-opacity:1; fill:none\" points=\"2301.01,1423.18 2301.01,1404.28 \"/>\n",
       "<path clip-path=\"url(#clip000)\" d=\"M292.081 1468.75 L321.756 1468.75 L321.756 1472.69 L292.081 1472.69 L292.081 1468.75 Z\" fill=\"#000000\" fill-rule=\"nonzero\" fill-opacity=\"1\" /><path clip-path=\"url(#clip000)\" d=\"M332.659 1481.64 L340.298 1481.64 L340.298 1455.28 L331.988 1456.95 L331.988 1452.69 L340.252 1451.02 L344.928 1451.02 L344.928 1481.64 L352.566 1481.64 L352.566 1485.58 L332.659 1485.58 L332.659 1481.64 Z\" fill=\"#000000\" fill-rule=\"nonzero\" fill-opacity=\"1\" /><path clip-path=\"url(#clip000)\" d=\"M362.011 1479.7 L366.895 1479.7 L366.895 1485.58 L362.011 1485.58 L362.011 1479.7 Z\" fill=\"#000000\" fill-rule=\"nonzero\" fill-opacity=\"1\" /><path clip-path=\"url(#clip000)\" d=\"M387.08 1454.1 Q383.469 1454.1 381.64 1457.66 Q379.835 1461.2 379.835 1468.33 Q379.835 1475.44 381.64 1479.01 Q383.469 1482.55 387.08 1482.55 Q390.714 1482.55 392.52 1479.01 Q394.349 1475.44 394.349 1468.33 Q394.349 1461.2 392.52 1457.66 Q390.714 1454.1 387.08 1454.1 M387.08 1450.39 Q392.89 1450.39 395.946 1455 Q399.025 1459.58 399.025 1468.33 Q399.025 1477.06 395.946 1481.67 Q392.89 1486.25 387.08 1486.25 Q381.27 1486.25 378.191 1481.67 Q375.136 1477.06 375.136 1468.33 Q375.136 1459.58 378.191 1455 Q381.27 1450.39 387.08 1450.39 Z\" fill=\"#000000\" fill-rule=\"nonzero\" fill-opacity=\"1\" /><path clip-path=\"url(#clip000)\" d=\"M683.67 1468.75 L713.345 1468.75 L713.345 1472.69 L683.67 1472.69 L683.67 1468.75 Z\" fill=\"#000000\" fill-rule=\"nonzero\" fill-opacity=\"1\" /><path clip-path=\"url(#clip000)\" d=\"M733.438 1454.1 Q729.827 1454.1 727.998 1457.66 Q726.192 1461.2 726.192 1468.33 Q726.192 1475.44 727.998 1479.01 Q729.827 1482.55 733.438 1482.55 Q737.072 1482.55 738.878 1479.01 Q740.706 1475.44 740.706 1468.33 Q740.706 1461.2 738.878 1457.66 Q737.072 1454.1 733.438 1454.1 M733.438 1450.39 Q739.248 1450.39 742.304 1455 Q745.382 1459.58 745.382 1468.33 Q745.382 1477.06 742.304 1481.67 Q739.248 1486.25 733.438 1486.25 Q727.628 1486.25 724.549 1481.67 Q721.493 1477.06 721.493 1468.33 Q721.493 1459.58 724.549 1455 Q727.628 1450.39 733.438 1450.39 Z\" fill=\"#000000\" fill-rule=\"nonzero\" fill-opacity=\"1\" /><path clip-path=\"url(#clip000)\" d=\"M753.6 1479.7 L758.484 1479.7 L758.484 1485.58 L753.6 1485.58 L753.6 1479.7 Z\" fill=\"#000000\" fill-rule=\"nonzero\" fill-opacity=\"1\" /><path clip-path=\"url(#clip000)\" d=\"M768.715 1451.02 L787.072 1451.02 L787.072 1454.96 L772.998 1454.96 L772.998 1463.43 Q774.016 1463.08 775.035 1462.92 Q776.053 1462.73 777.072 1462.73 Q782.859 1462.73 786.238 1465.9 Q789.618 1469.08 789.618 1474.49 Q789.618 1480.07 786.146 1483.17 Q782.674 1486.25 776.354 1486.25 Q774.178 1486.25 771.91 1485.88 Q769.664 1485.51 767.257 1484.77 L767.257 1480.07 Q769.34 1481.2 771.563 1481.76 Q773.785 1482.32 776.262 1482.32 Q780.266 1482.32 782.604 1480.21 Q784.942 1478.1 784.942 1474.49 Q784.942 1470.88 782.604 1468.77 Q780.266 1466.67 776.262 1466.67 Q774.387 1466.67 772.512 1467.08 Q770.66 1467.5 768.715 1468.38 L768.715 1451.02 Z\" fill=\"#000000\" fill-rule=\"nonzero\" fill-opacity=\"1\" /><path clip-path=\"url(#clip000)\" d=\"M1105.12 1454.1 Q1101.51 1454.1 1099.68 1457.66 Q1097.87 1461.2 1097.87 1468.33 Q1097.87 1475.44 1099.68 1479.01 Q1101.51 1482.55 1105.12 1482.55 Q1108.75 1482.55 1110.56 1479.01 Q1112.39 1475.44 1112.39 1468.33 Q1112.39 1461.2 1110.56 1457.66 Q1108.75 1454.1 1105.12 1454.1 M1105.12 1450.39 Q1110.93 1450.39 1113.99 1455 Q1117.06 1459.58 1117.06 1468.33 Q1117.06 1477.06 1113.99 1481.67 Q1110.93 1486.25 1105.12 1486.25 Q1099.31 1486.25 1096.23 1481.67 Q1093.17 1477.06 1093.17 1468.33 Q1093.17 1459.58 1096.23 1455 Q1099.31 1450.39 1105.12 1450.39 Z\" fill=\"#000000\" fill-rule=\"nonzero\" fill-opacity=\"1\" /><path clip-path=\"url(#clip000)\" d=\"M1125.28 1479.7 L1130.17 1479.7 L1130.17 1485.58 L1125.28 1485.58 L1125.28 1479.7 Z\" fill=\"#000000\" fill-rule=\"nonzero\" fill-opacity=\"1\" /><path clip-path=\"url(#clip000)\" d=\"M1150.35 1454.1 Q1146.74 1454.1 1144.91 1457.66 Q1143.11 1461.2 1143.11 1468.33 Q1143.11 1475.44 1144.91 1479.01 Q1146.74 1482.55 1150.35 1482.55 Q1153.98 1482.55 1155.79 1479.01 Q1157.62 1475.44 1157.62 1468.33 Q1157.62 1461.2 1155.79 1457.66 Q1153.98 1454.1 1150.35 1454.1 M1150.35 1450.39 Q1156.16 1450.39 1159.22 1455 Q1162.29 1459.58 1162.29 1468.33 Q1162.29 1477.06 1159.22 1481.67 Q1156.16 1486.25 1150.35 1486.25 Q1144.54 1486.25 1141.46 1481.67 Q1138.41 1477.06 1138.41 1468.33 Q1138.41 1459.58 1141.46 1455 Q1144.54 1450.39 1150.35 1450.39 Z\" fill=\"#000000\" fill-rule=\"nonzero\" fill-opacity=\"1\" /><path clip-path=\"url(#clip000)\" d=\"M1496.71 1454.1 Q1493.1 1454.1 1491.27 1457.66 Q1489.46 1461.2 1489.46 1468.33 Q1489.46 1475.44 1491.27 1479.01 Q1493.1 1482.55 1496.71 1482.55 Q1500.34 1482.55 1502.15 1479.01 Q1503.98 1475.44 1503.98 1468.33 Q1503.98 1461.2 1502.15 1457.66 Q1500.34 1454.1 1496.71 1454.1 M1496.71 1450.39 Q1502.52 1450.39 1505.57 1455 Q1508.65 1459.58 1508.65 1468.33 Q1508.65 1477.06 1505.57 1481.67 Q1502.52 1486.25 1496.71 1486.25 Q1490.9 1486.25 1487.82 1481.67 Q1484.76 1477.06 1484.76 1468.33 Q1484.76 1459.58 1487.82 1455 Q1490.9 1450.39 1496.71 1450.39 Z\" fill=\"#000000\" fill-rule=\"nonzero\" fill-opacity=\"1\" /><path clip-path=\"url(#clip000)\" d=\"M1516.87 1479.7 L1521.75 1479.7 L1521.75 1485.58 L1516.87 1485.58 L1516.87 1479.7 Z\" fill=\"#000000\" fill-rule=\"nonzero\" fill-opacity=\"1\" /><path clip-path=\"url(#clip000)\" d=\"M1531.99 1451.02 L1550.34 1451.02 L1550.34 1454.96 L1536.27 1454.96 L1536.27 1463.43 Q1537.29 1463.08 1538.31 1462.92 Q1539.32 1462.73 1540.34 1462.73 Q1546.13 1462.73 1549.51 1465.9 Q1552.89 1469.08 1552.89 1474.49 Q1552.89 1480.07 1549.42 1483.17 Q1545.94 1486.25 1539.62 1486.25 Q1537.45 1486.25 1535.18 1485.88 Q1532.93 1485.51 1530.53 1484.77 L1530.53 1480.07 Q1532.61 1481.2 1534.83 1481.76 Q1537.06 1482.32 1539.53 1482.32 Q1543.54 1482.32 1545.87 1480.21 Q1548.21 1478.1 1548.21 1474.49 Q1548.21 1470.88 1545.87 1468.77 Q1543.54 1466.67 1539.53 1466.67 Q1537.66 1466.67 1535.78 1467.08 Q1533.93 1467.5 1531.99 1468.38 L1531.99 1451.02 Z\" fill=\"#000000\" fill-rule=\"nonzero\" fill-opacity=\"1\" /><path clip-path=\"url(#clip000)\" d=\"M1877.07 1481.64 L1884.71 1481.64 L1884.71 1455.28 L1876.4 1456.95 L1876.4 1452.69 L1884.66 1451.02 L1889.34 1451.02 L1889.34 1481.64 L1896.98 1481.64 L1896.98 1485.58 L1877.07 1485.58 L1877.07 1481.64 Z\" fill=\"#000000\" fill-rule=\"nonzero\" fill-opacity=\"1\" /><path clip-path=\"url(#clip000)\" d=\"M1906.42 1479.7 L1911.31 1479.7 L1911.31 1485.58 L1906.42 1485.58 L1906.42 1479.7 Z\" fill=\"#000000\" fill-rule=\"nonzero\" fill-opacity=\"1\" /><path clip-path=\"url(#clip000)\" d=\"M1931.49 1454.1 Q1927.88 1454.1 1926.05 1457.66 Q1924.25 1461.2 1924.25 1468.33 Q1924.25 1475.44 1926.05 1479.01 Q1927.88 1482.55 1931.49 1482.55 Q1935.13 1482.55 1936.93 1479.01 Q1938.76 1475.44 1938.76 1468.33 Q1938.76 1461.2 1936.93 1457.66 Q1935.13 1454.1 1931.49 1454.1 M1931.49 1450.39 Q1937.3 1450.39 1940.36 1455 Q1943.44 1459.58 1943.44 1468.33 Q1943.44 1477.06 1940.36 1481.67 Q1937.3 1486.25 1931.49 1486.25 Q1925.68 1486.25 1922.6 1481.67 Q1919.55 1477.06 1919.55 1468.33 Q1919.55 1459.58 1922.6 1455 Q1925.68 1450.39 1931.49 1450.39 Z\" fill=\"#000000\" fill-rule=\"nonzero\" fill-opacity=\"1\" /><path clip-path=\"url(#clip000)\" d=\"M2268.66 1481.64 L2276.3 1481.64 L2276.3 1455.28 L2267.99 1456.95 L2267.99 1452.69 L2276.25 1451.02 L2280.93 1451.02 L2280.93 1481.64 L2288.57 1481.64 L2288.57 1485.58 L2268.66 1485.58 L2268.66 1481.64 Z\" fill=\"#000000\" fill-rule=\"nonzero\" fill-opacity=\"1\" /><path clip-path=\"url(#clip000)\" d=\"M2298.01 1479.7 L2302.9 1479.7 L2302.9 1485.58 L2298.01 1485.58 L2298.01 1479.7 Z\" fill=\"#000000\" fill-rule=\"nonzero\" fill-opacity=\"1\" /><path clip-path=\"url(#clip000)\" d=\"M2313.13 1451.02 L2331.48 1451.02 L2331.48 1454.96 L2317.41 1454.96 L2317.41 1463.43 Q2318.43 1463.08 2319.45 1462.92 Q2320.46 1462.73 2321.48 1462.73 Q2327.27 1462.73 2330.65 1465.9 Q2334.03 1469.08 2334.03 1474.49 Q2334.03 1480.07 2330.56 1483.17 Q2327.08 1486.25 2320.77 1486.25 Q2318.59 1486.25 2316.32 1485.88 Q2314.08 1485.51 2311.67 1484.77 L2311.67 1480.07 Q2313.75 1481.2 2315.97 1481.76 Q2318.2 1482.32 2320.67 1482.32 Q2324.68 1482.32 2327.02 1480.21 Q2329.35 1478.1 2329.35 1474.49 Q2329.35 1470.88 2327.02 1468.77 Q2324.68 1466.67 2320.67 1466.67 Q2318.8 1466.67 2316.92 1467.08 Q2315.07 1467.5 2313.13 1468.38 L2313.13 1451.02 Z\" fill=\"#000000\" fill-rule=\"nonzero\" fill-opacity=\"1\" /><path clip-path=\"url(#clip000)\" d=\"M992.697 1524.18 L992.697 1530.96 Q989.451 1527.94 985.759 1526.44 Q982.098 1524.95 977.961 1524.95 Q969.812 1524.95 965.484 1529.95 Q961.155 1534.91 961.155 1544.33 Q961.155 1553.72 965.484 1558.72 Q969.812 1563.68 977.961 1563.68 Q982.098 1563.68 985.759 1562.19 Q989.451 1560.69 992.697 1557.67 L992.697 1564.38 Q989.323 1566.68 985.536 1567.82 Q981.78 1568.97 977.579 1568.97 Q966.789 1568.97 960.582 1562.38 Q954.376 1555.76 954.376 1544.33 Q954.376 1532.87 960.582 1526.28 Q966.789 1519.66 977.579 1519.66 Q981.844 1519.66 985.599 1520.81 Q989.387 1521.92 992.697 1524.18 Z\" fill=\"#000000\" fill-rule=\"nonzero\" fill-opacity=\"1\" /><path clip-path=\"url(#clip000)\" d=\"M1016.19 1536.5 Q1011.48 1536.5 1008.74 1540.19 Q1006 1543.85 1006 1550.25 Q1006 1556.65 1008.71 1560.34 Q1011.44 1564 1016.19 1564 Q1020.87 1564 1023.6 1560.31 Q1026.34 1556.62 1026.34 1550.25 Q1026.34 1543.92 1023.6 1540.23 Q1020.87 1536.5 1016.19 1536.5 M1016.19 1531.54 Q1023.83 1531.54 1028.19 1536.5 Q1032.55 1541.47 1032.55 1550.25 Q1032.55 1559 1028.19 1564 Q1023.83 1568.97 1016.19 1568.97 Q1008.52 1568.97 1004.16 1564 Q999.827 1559 999.827 1550.25 Q999.827 1541.47 1004.16 1536.5 Q1008.52 1531.54 1016.19 1531.54 Z\" fill=\"#000000\" fill-rule=\"nonzero\" fill-opacity=\"1\" /><path clip-path=\"url(#clip000)\" d=\"M1070.01 1539.24 Q1072.2 1535.29 1075.26 1533.41 Q1078.32 1531.54 1082.45 1531.54 Q1088.02 1531.54 1091.05 1535.45 Q1094.07 1539.33 1094.07 1546.53 L1094.07 1568.04 L1088.18 1568.04 L1088.18 1546.72 Q1088.18 1541.59 1086.37 1539.11 Q1084.55 1536.63 1080.83 1536.63 Q1076.28 1536.63 1073.64 1539.65 Q1071 1542.68 1071 1547.9 L1071 1568.04 L1065.11 1568.04 L1065.11 1546.72 Q1065.11 1541.56 1063.29 1539.11 Q1061.48 1536.63 1057.69 1536.63 Q1053.2 1536.63 1050.56 1539.68 Q1047.92 1542.71 1047.92 1547.9 L1047.92 1568.04 L1042.03 1568.04 L1042.03 1532.4 L1047.92 1532.4 L1047.92 1537.93 Q1049.92 1534.66 1052.73 1533.1 Q1055.53 1531.54 1059.38 1531.54 Q1063.26 1531.54 1065.97 1533.51 Q1068.7 1535.48 1070.01 1539.24 Z\" fill=\"#000000\" fill-rule=\"nonzero\" fill-opacity=\"1\" /><path clip-path=\"url(#clip000)\" d=\"M1111.42 1562.7 L1111.42 1581.6 L1105.53 1581.6 L1105.53 1532.4 L1111.42 1532.4 L1111.42 1537.81 Q1113.26 1534.62 1116.06 1533.1 Q1118.9 1531.54 1122.81 1531.54 Q1129.31 1531.54 1133.35 1536.69 Q1137.42 1541.85 1137.42 1550.25 Q1137.42 1558.65 1133.35 1563.81 Q1129.31 1568.97 1122.81 1568.97 Q1118.9 1568.97 1116.06 1567.44 Q1113.26 1565.88 1111.42 1562.7 M1131.34 1550.25 Q1131.34 1543.79 1128.67 1540.13 Q1126.03 1536.44 1121.38 1536.44 Q1116.73 1536.44 1114.06 1540.13 Q1111.42 1543.79 1111.42 1550.25 Q1111.42 1556.71 1114.06 1560.4 Q1116.73 1564.07 1121.38 1564.07 Q1126.03 1564.07 1128.67 1560.4 Q1131.34 1556.71 1131.34 1550.25 Z\" fill=\"#000000\" fill-rule=\"nonzero\" fill-opacity=\"1\" /><path clip-path=\"url(#clip000)\" d=\"M1160.94 1536.5 Q1156.23 1536.5 1153.49 1540.19 Q1150.76 1543.85 1150.76 1550.25 Q1150.76 1556.65 1153.46 1560.34 Q1156.2 1564 1160.94 1564 Q1165.62 1564 1168.36 1560.31 Q1171.1 1556.62 1171.1 1550.25 Q1171.1 1543.92 1168.36 1540.23 Q1165.62 1536.5 1160.94 1536.5 M1160.94 1531.54 Q1168.58 1531.54 1172.94 1536.5 Q1177.3 1541.47 1177.3 1550.25 Q1177.3 1559 1172.94 1564 Q1168.58 1568.97 1160.94 1568.97 Q1153.27 1568.97 1148.91 1564 Q1144.58 1559 1144.58 1550.25 Q1144.58 1541.47 1148.91 1536.5 Q1153.27 1531.54 1160.94 1531.54 Z\" fill=\"#000000\" fill-rule=\"nonzero\" fill-opacity=\"1\" /><path clip-path=\"url(#clip000)\" d=\"M1209.74 1533.45 L1209.74 1538.98 Q1207.25 1537.71 1204.58 1537.07 Q1201.91 1536.44 1199.04 1536.44 Q1194.68 1536.44 1192.48 1537.77 Q1190.32 1539.11 1190.32 1541.79 Q1190.32 1543.82 1191.88 1545 Q1193.44 1546.15 1198.15 1547.2 L1200.16 1547.64 Q1206.39 1548.98 1209 1551.43 Q1211.65 1553.85 1211.65 1558.21 Q1211.65 1563.17 1207.7 1566.07 Q1203.78 1568.97 1196.91 1568.97 Q1194.04 1568.97 1190.93 1568.39 Q1187.84 1567.85 1184.4 1566.74 L1184.4 1560.69 Q1187.65 1562.38 1190.8 1563.24 Q1193.95 1564.07 1197.04 1564.07 Q1201.17 1564.07 1203.4 1562.66 Q1205.63 1561.23 1205.63 1558.65 Q1205.63 1556.27 1204.01 1554.99 Q1202.42 1553.72 1196.97 1552.54 L1194.94 1552.07 Q1189.49 1550.92 1187.07 1548.56 Q1184.66 1546.18 1184.66 1542.04 Q1184.66 1537.01 1188.22 1534.27 Q1191.78 1531.54 1198.34 1531.54 Q1201.59 1531.54 1204.45 1532.01 Q1207.32 1532.49 1209.74 1533.45 Z\" fill=\"#000000\" fill-rule=\"nonzero\" fill-opacity=\"1\" /><path clip-path=\"url(#clip000)\" d=\"M1220.97 1532.4 L1226.83 1532.4 L1226.83 1568.04 L1220.97 1568.04 L1220.97 1532.4 M1220.97 1518.52 L1226.83 1518.52 L1226.83 1525.93 L1220.97 1525.93 L1220.97 1518.52 Z\" fill=\"#000000\" fill-rule=\"nonzero\" fill-opacity=\"1\" /><path clip-path=\"url(#clip000)\" d=\"M1244.87 1522.27 L1244.87 1532.4 L1256.94 1532.4 L1256.94 1536.95 L1244.87 1536.95 L1244.87 1556.3 Q1244.87 1560.66 1246.05 1561.9 Q1247.26 1563.14 1250.92 1563.14 L1256.94 1563.14 L1256.94 1568.04 L1250.92 1568.04 Q1244.14 1568.04 1241.56 1565.53 Q1238.99 1562.98 1238.99 1556.3 L1238.99 1536.95 L1234.69 1536.95 L1234.69 1532.4 L1238.99 1532.4 L1238.99 1522.27 L1244.87 1522.27 Z\" fill=\"#000000\" fill-rule=\"nonzero\" fill-opacity=\"1\" /><path clip-path=\"url(#clip000)\" d=\"M1295.13 1548.76 L1295.13 1551.62 L1268.2 1551.62 Q1268.59 1557.67 1271.83 1560.85 Q1275.11 1564 1280.94 1564 Q1284.31 1564 1287.46 1563.17 Q1290.64 1562.35 1293.76 1560.69 L1293.76 1566.23 Q1290.61 1567.57 1287.3 1568.27 Q1283.99 1568.97 1280.59 1568.97 Q1272.06 1568.97 1267.06 1564 Q1262.09 1559.04 1262.09 1550.57 Q1262.09 1541.82 1266.8 1536.69 Q1271.55 1531.54 1279.57 1531.54 Q1286.76 1531.54 1290.93 1536.18 Q1295.13 1540.8 1295.13 1548.76 M1289.28 1547.04 Q1289.21 1542.23 1286.57 1539.37 Q1283.96 1536.5 1279.63 1536.5 Q1274.73 1536.5 1271.77 1539.27 Q1268.84 1542.04 1268.4 1547.07 L1289.28 1547.04 Z\" fill=\"#000000\" fill-rule=\"nonzero\" fill-opacity=\"1\" /><path clip-path=\"url(#clip000)\" d=\"M1343.51 1518.52 L1343.51 1523.39 L1337.91 1523.39 Q1334.76 1523.39 1333.52 1524.66 Q1332.31 1525.93 1332.31 1529.24 L1332.31 1532.4 L1341.95 1532.4 L1341.95 1536.95 L1332.31 1536.95 L1332.31 1568.04 L1326.42 1568.04 L1326.42 1536.95 L1320.82 1536.95 L1320.82 1532.4 L1326.42 1532.4 L1326.42 1529.91 Q1326.42 1523.96 1329.19 1521.26 Q1331.96 1518.52 1337.97 1518.52 L1343.51 1518.52 Z\" fill=\"#000000\" fill-rule=\"nonzero\" fill-opacity=\"1\" /><path clip-path=\"url(#clip000)\" d=\"M1378.9 1548.76 L1378.9 1551.62 L1351.98 1551.62 Q1352.36 1557.67 1355.61 1560.85 Q1358.88 1564 1364.71 1564 Q1368.08 1564 1371.23 1563.17 Q1374.42 1562.35 1377.54 1560.69 L1377.54 1566.23 Q1374.38 1567.57 1371.07 1568.27 Q1367.76 1568.97 1364.36 1568.97 Q1355.83 1568.97 1350.83 1564 Q1345.87 1559.04 1345.87 1550.57 Q1345.87 1541.82 1350.58 1536.69 Q1355.32 1531.54 1363.34 1531.54 Q1370.53 1531.54 1374.7 1536.18 Q1378.9 1540.8 1378.9 1548.76 M1373.05 1547.04 Q1372.98 1542.23 1370.34 1539.37 Q1367.73 1536.5 1363.4 1536.5 Q1358.5 1536.5 1355.54 1539.27 Q1352.61 1542.04 1352.17 1547.07 L1373.05 1547.04 Z\" fill=\"#000000\" fill-rule=\"nonzero\" fill-opacity=\"1\" /><path clip-path=\"url(#clip000)\" d=\"M1404.72 1550.12 Q1397.62 1550.12 1394.88 1551.75 Q1392.15 1553.37 1392.15 1557.29 Q1392.15 1560.4 1394.18 1562.25 Q1396.25 1564.07 1399.78 1564.07 Q1404.65 1564.07 1407.58 1560.63 Q1410.54 1557.16 1410.54 1551.43 L1410.54 1550.12 L1404.72 1550.12 M1416.4 1547.71 L1416.4 1568.04 L1410.54 1568.04 L1410.54 1562.63 Q1408.54 1565.88 1405.55 1567.44 Q1402.55 1568.97 1398.22 1568.97 Q1392.75 1568.97 1389.5 1565.91 Q1386.29 1562.82 1386.29 1557.67 Q1386.29 1551.65 1390.3 1548.6 Q1394.34 1545.54 1402.33 1545.54 L1410.54 1545.54 L1410.54 1544.97 Q1410.54 1540.93 1407.87 1538.73 Q1405.23 1536.5 1400.42 1536.5 Q1397.37 1536.5 1394.47 1537.23 Q1391.57 1537.97 1388.9 1539.43 L1388.9 1534.02 Q1392.11 1532.78 1395.14 1532.17 Q1398.16 1531.54 1401.03 1531.54 Q1408.76 1531.54 1412.58 1535.55 Q1416.4 1539.56 1416.4 1547.71 Z\" fill=\"#000000\" fill-rule=\"nonzero\" fill-opacity=\"1\" /><path clip-path=\"url(#clip000)\" d=\"M1434.25 1522.27 L1434.25 1532.4 L1446.32 1532.4 L1446.32 1536.95 L1434.25 1536.95 L1434.25 1556.3 Q1434.25 1560.66 1435.43 1561.9 Q1436.64 1563.14 1440.3 1563.14 L1446.32 1563.14 L1446.32 1568.04 L1440.3 1568.04 Q1433.52 1568.04 1430.94 1565.53 Q1428.37 1562.98 1428.37 1556.3 L1428.37 1536.95 L1424.07 1536.95 L1424.07 1532.4 L1428.37 1532.4 L1428.37 1522.27 L1434.25 1522.27 Z\" fill=\"#000000\" fill-rule=\"nonzero\" fill-opacity=\"1\" /><path clip-path=\"url(#clip000)\" d=\"M1453.42 1553.98 L1453.42 1532.4 L1459.27 1532.4 L1459.27 1553.75 Q1459.27 1558.81 1461.25 1561.36 Q1463.22 1563.87 1467.17 1563.87 Q1471.91 1563.87 1474.64 1560.85 Q1477.41 1557.83 1477.41 1552.61 L1477.41 1532.4 L1483.27 1532.4 L1483.27 1568.04 L1477.41 1568.04 L1477.41 1562.57 Q1475.28 1565.82 1472.45 1567.41 Q1469.65 1568.97 1465.92 1568.97 Q1459.78 1568.97 1456.6 1565.15 Q1453.42 1561.33 1453.42 1553.98 M1468.15 1531.54 L1468.15 1531.54 Z\" fill=\"#000000\" fill-rule=\"nonzero\" fill-opacity=\"1\" /><path clip-path=\"url(#clip000)\" d=\"M1515.99 1537.87 Q1515 1537.3 1513.83 1537.04 Q1512.68 1536.76 1511.28 1536.76 Q1506.31 1536.76 1503.64 1540 Q1501 1543.22 1501 1549.27 L1501 1568.04 L1495.11 1568.04 L1495.11 1532.4 L1501 1532.4 L1501 1537.93 Q1502.84 1534.69 1505.8 1533.13 Q1508.77 1531.54 1513 1531.54 Q1513.6 1531.54 1514.34 1531.63 Q1515.07 1531.7 1515.96 1531.85 L1515.99 1537.87 Z\" fill=\"#000000\" fill-rule=\"nonzero\" fill-opacity=\"1\" /><path clip-path=\"url(#clip000)\" d=\"M1551.19 1548.76 L1551.19 1551.62 L1524.27 1551.62 Q1524.65 1557.67 1527.89 1560.85 Q1531.17 1564 1537 1564 Q1540.37 1564 1543.52 1563.17 Q1546.7 1562.35 1549.82 1560.69 L1549.82 1566.23 Q1546.67 1567.57 1543.36 1568.27 Q1540.05 1568.97 1536.65 1568.97 Q1528.12 1568.97 1523.12 1564 Q1518.15 1559.04 1518.15 1550.57 Q1518.15 1541.82 1522.87 1536.69 Q1527.61 1531.54 1535.63 1531.54 Q1542.82 1531.54 1546.99 1536.18 Q1551.19 1540.8 1551.19 1548.76 M1545.34 1547.04 Q1545.27 1542.23 1542.63 1539.37 Q1540.02 1536.5 1535.69 1536.5 Q1530.79 1536.5 1527.83 1539.27 Q1524.9 1542.04 1524.46 1547.07 L1545.34 1547.04 Z\" fill=\"#000000\" fill-rule=\"nonzero\" fill-opacity=\"1\" /><path clip-path=\"url(#clip000)\" d=\"M1583.47 1562.63 L1593.97 1562.63 L1593.97 1526.38 L1582.54 1528.67 L1582.54 1522.82 L1593.91 1520.52 L1600.34 1520.52 L1600.34 1562.63 L1610.84 1562.63 L1610.84 1568.04 L1583.47 1568.04 L1583.47 1562.63 Z\" fill=\"#000000\" fill-rule=\"nonzero\" fill-opacity=\"1\" /><polyline clip-path=\"url(#clip000)\" style=\"stroke:#000000; stroke-linecap:round; stroke-linejoin:round; stroke-width:4; stroke-opacity:1; fill:none\" points=\"212.459,1423.18 212.459,47.2441 \"/>\n",
       "<polyline clip-path=\"url(#clip000)\" style=\"stroke:#000000; stroke-linecap:round; stroke-linejoin:round; stroke-width:4; stroke-opacity:1; fill:none\" points=\"212.459,1290.44 231.357,1290.44 \"/>\n",
       "<polyline clip-path=\"url(#clip000)\" style=\"stroke:#000000; stroke-linecap:round; stroke-linejoin:round; stroke-width:4; stroke-opacity:1; fill:none\" points=\"212.459,1110.03 231.357,1110.03 \"/>\n",
       "<polyline clip-path=\"url(#clip000)\" style=\"stroke:#000000; stroke-linecap:round; stroke-linejoin:round; stroke-width:4; stroke-opacity:1; fill:none\" points=\"212.459,929.617 231.357,929.617 \"/>\n",
       "<polyline clip-path=\"url(#clip000)\" style=\"stroke:#000000; stroke-linecap:round; stroke-linejoin:round; stroke-width:4; stroke-opacity:1; fill:none\" points=\"212.459,749.204 231.357,749.204 \"/>\n",
       "<polyline clip-path=\"url(#clip000)\" style=\"stroke:#000000; stroke-linecap:round; stroke-linejoin:round; stroke-width:4; stroke-opacity:1; fill:none\" points=\"212.459,568.792 231.357,568.792 \"/>\n",
       "<polyline clip-path=\"url(#clip000)\" style=\"stroke:#000000; stroke-linecap:round; stroke-linejoin:round; stroke-width:4; stroke-opacity:1; fill:none\" points=\"212.459,388.38 231.357,388.38 \"/>\n",
       "<polyline clip-path=\"url(#clip000)\" style=\"stroke:#000000; stroke-linecap:round; stroke-linejoin:round; stroke-width:4; stroke-opacity:1; fill:none\" points=\"212.459,207.968 231.357,207.968 \"/>\n",
       "<path clip-path=\"url(#clip000)\" d=\"M114.584 1290.89 L144.26 1290.89 L144.26 1294.83 L114.584 1294.83 L114.584 1290.89 Z\" fill=\"#000000\" fill-rule=\"nonzero\" fill-opacity=\"1\" /><path clip-path=\"url(#clip000)\" d=\"M164.931 1288.58 Q161.783 1288.58 159.931 1290.73 Q158.103 1292.88 158.103 1296.63 Q158.103 1300.36 159.931 1302.54 Q161.783 1304.69 164.931 1304.69 Q168.079 1304.69 169.908 1302.54 Q171.76 1300.36 171.76 1296.63 Q171.76 1292.88 169.908 1290.73 Q168.079 1288.58 164.931 1288.58 M174.214 1273.93 L174.214 1278.18 Q172.454 1277.35 170.649 1276.91 Q168.866 1276.47 167.107 1276.47 Q162.477 1276.47 160.024 1279.6 Q157.593 1282.72 157.246 1289.04 Q158.612 1287.03 160.672 1285.96 Q162.732 1284.87 165.209 1284.87 Q170.417 1284.87 173.427 1288.05 Q176.459 1291.19 176.459 1296.63 Q176.459 1301.96 173.311 1305.18 Q170.163 1308.39 164.931 1308.39 Q158.936 1308.39 155.765 1303.81 Q152.593 1299.2 152.593 1290.48 Q152.593 1282.28 156.482 1277.42 Q160.371 1272.54 166.922 1272.54 Q168.681 1272.54 170.464 1272.88 Q172.269 1273.23 174.214 1273.93 Z\" fill=\"#000000\" fill-rule=\"nonzero\" fill-opacity=\"1\" /><path clip-path=\"url(#clip000)\" d=\"M114.26 1110.48 L143.936 1110.48 L143.936 1114.42 L114.26 1114.42 L114.26 1110.48 Z\" fill=\"#000000\" fill-rule=\"nonzero\" fill-opacity=\"1\" /><path clip-path=\"url(#clip000)\" d=\"M166.876 1096.82 L155.07 1115.27 L166.876 1115.27 L166.876 1096.82 M165.649 1092.75 L171.528 1092.75 L171.528 1115.27 L176.459 1115.27 L176.459 1119.16 L171.528 1119.16 L171.528 1127.31 L166.876 1127.31 L166.876 1119.16 L151.274 1119.16 L151.274 1114.65 L165.649 1092.75 Z\" fill=\"#000000\" fill-rule=\"nonzero\" fill-opacity=\"1\" /><path clip-path=\"url(#clip000)\" d=\"M116.343 930.068 L146.019 930.068 L146.019 934.003 L116.343 934.003 L116.343 930.068 Z\" fill=\"#000000\" fill-rule=\"nonzero\" fill-opacity=\"1\" /><path clip-path=\"url(#clip000)\" d=\"M160.14 942.962 L176.459 942.962 L176.459 946.897 L154.515 946.897 L154.515 942.962 Q157.177 940.207 161.76 935.577 Q166.366 930.925 167.547 929.582 Q169.792 927.059 170.672 925.323 Q171.575 923.564 171.575 921.874 Q171.575 919.119 169.63 917.383 Q167.709 915.647 164.607 915.647 Q162.408 915.647 159.954 916.411 Q157.524 917.175 154.746 918.726 L154.746 914.003 Q157.57 912.869 160.024 912.29 Q162.477 911.712 164.515 911.712 Q169.885 911.712 173.079 914.397 Q176.274 917.082 176.274 921.573 Q176.274 923.702 175.464 925.624 Q174.677 927.522 172.57 930.114 Q171.991 930.786 168.889 934.003 Q165.788 937.198 160.14 942.962 Z\" fill=\"#000000\" fill-rule=\"nonzero\" fill-opacity=\"1\" /><path clip-path=\"url(#clip000)\" d=\"M164.515 735.003 Q160.903 735.003 159.075 738.568 Q157.269 742.11 157.269 749.239 Q157.269 756.346 159.075 759.91 Q160.903 763.452 164.515 763.452 Q168.149 763.452 169.954 759.91 Q171.783 756.346 171.783 749.239 Q171.783 742.11 169.954 738.568 Q168.149 735.003 164.515 735.003 M164.515 731.299 Q170.325 731.299 173.38 735.906 Q176.459 740.489 176.459 749.239 Q176.459 757.966 173.38 762.572 Q170.325 767.156 164.515 767.156 Q158.704 767.156 155.626 762.572 Q152.57 757.966 152.57 749.239 Q152.57 740.489 155.626 735.906 Q158.704 731.299 164.515 731.299 Z\" fill=\"#000000\" fill-rule=\"nonzero\" fill-opacity=\"1\" /><path clip-path=\"url(#clip000)\" d=\"M160.14 582.137 L176.459 582.137 L176.459 586.072 L154.515 586.072 L154.515 582.137 Q157.177 579.382 161.76 574.753 Q166.366 570.1 167.547 568.757 Q169.792 566.234 170.672 564.498 Q171.575 562.739 171.575 561.049 Q171.575 558.295 169.63 556.558 Q167.709 554.822 164.607 554.822 Q162.408 554.822 159.954 555.586 Q157.524 556.35 154.746 557.901 L154.746 553.179 Q157.57 552.045 160.024 551.466 Q162.477 550.887 164.515 550.887 Q169.885 550.887 173.079 553.572 Q176.274 556.258 176.274 560.748 Q176.274 562.878 175.464 564.799 Q174.677 566.697 172.57 569.29 Q171.991 569.961 168.889 573.179 Q165.788 576.373 160.14 582.137 Z\" fill=\"#000000\" fill-rule=\"nonzero\" fill-opacity=\"1\" /><path clip-path=\"url(#clip000)\" d=\"M166.876 375.174 L155.07 393.623 L166.876 393.623 L166.876 375.174 M165.649 371.1 L171.528 371.1 L171.528 393.623 L176.459 393.623 L176.459 397.512 L171.528 397.512 L171.528 405.66 L166.876 405.66 L166.876 397.512 L151.274 397.512 L151.274 392.998 L165.649 371.1 Z\" fill=\"#000000\" fill-rule=\"nonzero\" fill-opacity=\"1\" /><path clip-path=\"url(#clip000)\" d=\"M164.931 206.104 Q161.783 206.104 159.931 208.257 Q158.103 210.41 158.103 214.16 Q158.103 217.886 159.931 220.062 Q161.783 222.215 164.931 222.215 Q168.079 222.215 169.908 220.062 Q171.76 217.886 171.76 214.16 Q171.76 210.41 169.908 208.257 Q168.079 206.104 164.931 206.104 M174.214 191.451 L174.214 195.711 Q172.454 194.877 170.649 194.438 Q168.866 193.998 167.107 193.998 Q162.477 193.998 160.024 197.123 Q157.593 200.248 157.246 206.567 Q158.612 204.553 160.672 203.488 Q162.732 202.4 165.209 202.4 Q170.417 202.4 173.427 205.572 Q176.459 208.72 176.459 214.16 Q176.459 219.484 173.311 222.701 Q170.163 225.919 164.931 225.919 Q158.936 225.919 155.765 221.336 Q152.593 216.729 152.593 208.002 Q152.593 199.808 156.482 194.947 Q160.371 190.063 166.922 190.063 Q168.681 190.063 170.464 190.41 Q172.269 190.757 174.214 191.451 Z\" fill=\"#000000\" fill-rule=\"nonzero\" fill-opacity=\"1\" /><path clip-path=\"url(#clip000)\" d=\"M20.1444 1024.87 L26.9239 1024.87 Q23.9002 1028.11 22.4043 1031.81 Q20.9083 1035.47 20.9083 1039.6 Q20.9083 1047.75 25.9054 1052.08 Q30.8707 1056.41 40.2919 1056.41 Q49.6813 1056.41 54.6784 1052.08 Q59.6436 1047.75 59.6436 1039.6 Q59.6436 1035.47 58.1477 1031.81 Q56.6518 1028.11 53.6281 1024.87 L60.3439 1024.87 Q62.6355 1028.24 63.7814 1032.03 Q64.9272 1035.78 64.9272 1039.99 Q64.9272 1050.78 58.3387 1056.98 Q51.7183 1063.19 40.2919 1063.19 Q28.8336 1063.19 22.2451 1056.98 Q15.6248 1050.78 15.6248 1039.99 Q15.6248 1035.72 16.7706 1031.97 Q17.8846 1028.18 20.1444 1024.87 Z\" fill=\"#000000\" fill-rule=\"nonzero\" fill-opacity=\"1\" /><path clip-path=\"url(#clip000)\" d=\"M32.4621 1001.38 Q32.4621 1006.09 36.1542 1008.83 Q39.8145 1011.56 46.212 1011.56 Q52.6095 1011.56 56.3017 1008.86 Q59.9619 1006.12 59.9619 1001.38 Q59.9619 996.699 56.2698 993.962 Q52.5777 991.225 46.212 991.225 Q39.8781 991.225 36.186 993.962 Q32.4621 996.699 32.4621 1001.38 M27.4968 1001.38 Q27.4968 993.739 32.4621 989.379 Q37.4273 985.018 46.212 985.018 Q54.9649 985.018 59.9619 989.379 Q64.9272 993.739 64.9272 1001.38 Q64.9272 1009.05 59.9619 1013.41 Q54.9649 1017.74 46.212 1017.74 Q37.4273 1017.74 32.4621 1013.41 Q27.4968 1009.05 27.4968 1001.38 Z\" fill=\"#000000\" fill-rule=\"nonzero\" fill-opacity=\"1\" /><path clip-path=\"url(#clip000)\" d=\"M35.1993 947.556 Q31.2526 945.36 29.3747 942.304 Q27.4968 939.249 27.4968 935.111 Q27.4968 929.541 31.4117 926.517 Q35.2948 923.494 42.4881 923.494 L64.0042 923.494 L64.0042 929.382 L42.679 929.382 Q37.5546 929.382 35.072 931.196 Q32.5894 933.01 32.5894 936.734 Q32.5894 941.286 35.6131 943.928 Q38.6368 946.569 43.8567 946.569 L64.0042 946.569 L64.0042 952.458 L42.679 952.458 Q37.5228 952.458 35.072 954.272 Q32.5894 956.086 32.5894 959.874 Q32.5894 964.361 35.6449 967.003 Q38.6686 969.645 43.8567 969.645 L64.0042 969.645 L64.0042 975.533 L28.3562 975.533 L28.3562 969.645 L33.8944 969.645 Q30.616 967.64 29.0564 964.839 Q27.4968 962.038 27.4968 958.187 Q27.4968 954.304 29.4702 951.598 Q31.4436 948.861 35.1993 947.556 Z\" fill=\"#000000\" fill-rule=\"nonzero\" fill-opacity=\"1\" /><path clip-path=\"url(#clip000)\" d=\"M58.657 906.147 L77.5631 906.147 L77.5631 912.035 L28.3562 912.035 L28.3562 906.147 L33.7671 906.147 Q30.5842 904.301 29.0564 901.5 Q27.4968 898.667 27.4968 894.752 Q27.4968 888.259 32.6531 884.217 Q37.8093 880.143 46.212 880.143 Q54.6147 880.143 59.771 884.217 Q64.9272 888.259 64.9272 894.752 Q64.9272 898.667 63.3994 901.5 Q61.8398 904.301 58.657 906.147 M46.212 886.222 Q39.7508 886.222 36.0905 888.896 Q32.3984 891.538 32.3984 896.185 Q32.3984 900.832 36.0905 903.505 Q39.7508 906.147 46.212 906.147 Q52.6732 906.147 56.3653 903.505 Q60.0256 900.832 60.0256 896.185 Q60.0256 891.538 56.3653 888.896 Q52.6732 886.222 46.212 886.222 Z\" fill=\"#000000\" fill-rule=\"nonzero\" fill-opacity=\"1\" /><path clip-path=\"url(#clip000)\" d=\"M32.4621 856.622 Q32.4621 861.333 36.1542 864.07 Q39.8145 866.807 46.212 866.807 Q52.6095 866.807 56.3017 864.102 Q59.9619 861.364 59.9619 856.622 Q59.9619 851.943 56.2698 849.206 Q52.5777 846.469 46.212 846.469 Q39.8781 846.469 36.186 849.206 Q32.4621 851.943 32.4621 856.622 M27.4968 856.622 Q27.4968 848.983 32.4621 844.623 Q37.4273 840.262 46.212 840.262 Q54.9649 840.262 59.9619 844.623 Q64.9272 848.983 64.9272 856.622 Q64.9272 864.293 59.9619 868.653 Q54.9649 872.982 46.212 872.982 Q37.4273 872.982 32.4621 868.653 Q27.4968 864.293 27.4968 856.622 Z\" fill=\"#000000\" fill-rule=\"nonzero\" fill-opacity=\"1\" /><path clip-path=\"url(#clip000)\" d=\"M29.4065 807.829 L34.9447 807.829 Q33.6716 810.311 33.035 812.985 Q32.3984 815.659 32.3984 818.523 Q32.3984 822.884 33.7352 825.08 Q35.072 827.244 37.7456 827.244 Q39.7826 827.244 40.9603 825.685 Q42.1061 824.125 43.1565 819.414 L43.6021 817.409 Q44.9389 811.171 47.3897 808.561 Q49.8086 805.919 54.1691 805.919 Q59.1344 805.919 62.0308 809.866 Q64.9272 813.781 64.9272 820.656 Q64.9272 823.52 64.3543 826.639 Q63.8132 829.727 62.6992 833.164 L56.6518 833.164 Q58.3387 829.918 59.198 826.767 Q60.0256 823.616 60.0256 820.528 Q60.0256 816.391 58.6251 814.163 Q57.1929 811.935 54.6147 811.935 Q52.2276 811.935 50.9545 813.558 Q49.6813 815.149 48.5037 820.592 L48.0262 822.629 Q46.8804 828.072 44.5251 830.491 Q42.138 832.91 38.0002 832.91 Q32.9713 832.91 30.2341 829.345 Q27.4968 825.78 27.4968 819.223 Q27.4968 815.977 27.9743 813.112 Q28.4517 810.248 29.4065 807.829 Z\" fill=\"#000000\" fill-rule=\"nonzero\" fill-opacity=\"1\" /><path clip-path=\"url(#clip000)\" d=\"M28.3562 796.593 L28.3562 790.737 L64.0042 790.737 L64.0042 796.593 L28.3562 796.593 M14.479 796.593 L14.479 790.737 L21.895 790.737 L21.895 796.593 L14.479 796.593 Z\" fill=\"#000000\" fill-rule=\"nonzero\" fill-opacity=\"1\" /><path clip-path=\"url(#clip000)\" d=\"M18.2347 772.69 L28.3562 772.69 L28.3562 760.627 L32.9077 760.627 L32.9077 772.69 L52.2594 772.69 Q56.6199 772.69 57.8613 771.512 Q59.1026 770.303 59.1026 766.643 L59.1026 760.627 L64.0042 760.627 L64.0042 766.643 Q64.0042 773.422 61.4897 776 Q58.9434 778.578 52.2594 778.578 L32.9077 778.578 L32.9077 782.875 L28.3562 782.875 L28.3562 778.578 L18.2347 778.578 L18.2347 772.69 Z\" fill=\"#000000\" fill-rule=\"nonzero\" fill-opacity=\"1\" /><path clip-path=\"url(#clip000)\" d=\"M44.7161 722.433 L47.5806 722.433 L47.5806 749.36 Q53.6281 748.978 56.8109 745.731 Q59.9619 742.453 59.9619 736.628 Q59.9619 733.255 59.1344 730.103 Q58.3069 726.921 56.6518 723.801 L62.1899 723.801 Q63.5267 726.952 64.227 730.263 Q64.9272 733.573 64.9272 736.978 Q64.9272 745.508 59.9619 750.506 Q54.9967 755.471 46.5303 755.471 Q37.7774 755.471 32.6531 750.76 Q27.4968 746.018 27.4968 737.997 Q27.4968 730.804 32.1438 726.634 Q36.7589 722.433 44.7161 722.433 M42.9973 728.289 Q38.1912 728.353 35.3266 730.995 Q32.4621 733.605 32.4621 737.933 Q32.4621 742.835 35.2312 745.795 Q38.0002 748.723 43.0292 749.169 L42.9973 728.289 Z\" fill=\"#000000\" fill-rule=\"nonzero\" fill-opacity=\"1\" /><path clip-path=\"url(#clip000)\" d=\"M14.479 674.053 L19.3487 674.053 L19.3487 679.655 Q19.3487 682.806 20.6219 684.048 Q21.895 685.257 25.2052 685.257 L28.3562 685.257 L28.3562 675.613 L32.9077 675.613 L32.9077 685.257 L64.0042 685.257 L64.0042 691.145 L32.9077 691.145 L32.9077 696.747 L28.3562 696.747 L28.3562 691.145 L25.8736 691.145 Q19.9216 691.145 17.2162 688.376 Q14.479 685.607 14.479 679.592 L14.479 674.053 Z\" fill=\"#000000\" fill-rule=\"nonzero\" fill-opacity=\"1\" /><path clip-path=\"url(#clip000)\" d=\"M44.7161 638.66 L47.5806 638.66 L47.5806 665.587 Q53.6281 665.205 56.8109 661.959 Q59.9619 658.68 59.9619 652.856 Q59.9619 649.482 59.1344 646.331 Q58.3069 643.148 56.6518 640.029 L62.1899 640.029 Q63.5267 643.18 64.227 646.49 Q64.9272 649.8 64.9272 653.206 Q64.9272 661.736 59.9619 666.733 Q54.9967 671.698 46.5303 671.698 Q37.7774 671.698 32.6531 666.988 Q27.4968 662.245 27.4968 654.224 Q27.4968 647.031 32.1438 642.861 Q36.7589 638.66 44.7161 638.66 M42.9973 644.517 Q38.1912 644.58 35.3266 647.222 Q32.4621 649.832 32.4621 654.161 Q32.4621 659.062 35.2312 662.022 Q38.0002 664.95 43.0292 665.396 L42.9973 644.517 Z\" fill=\"#000000\" fill-rule=\"nonzero\" fill-opacity=\"1\" /><path clip-path=\"url(#clip000)\" d=\"M46.0847 612.847 Q46.0847 619.945 47.7079 622.682 Q49.3312 625.419 53.2461 625.419 Q56.3653 625.419 58.2114 623.382 Q60.0256 621.314 60.0256 617.781 Q60.0256 612.911 56.5881 609.983 Q53.1188 607.023 47.3897 607.023 L46.0847 607.023 L46.0847 612.847 M43.6657 601.166 L64.0042 601.166 L64.0042 607.023 L58.5933 607.023 Q61.8398 609.028 63.3994 612.02 Q64.9272 615.012 64.9272 619.34 Q64.9272 624.815 61.8716 628.061 Q58.7843 631.276 53.6281 631.276 Q47.6125 631.276 44.5569 627.265 Q41.5014 623.223 41.5014 615.234 L41.5014 607.023 L40.9285 607.023 Q36.8862 607.023 34.6901 609.696 Q32.4621 612.338 32.4621 617.144 Q32.4621 620.2 33.1941 623.096 Q33.9262 625.992 35.3903 628.666 L29.9795 628.666 Q28.7381 625.451 28.1334 622.428 Q27.4968 619.404 27.4968 616.539 Q27.4968 608.805 31.5072 604.986 Q35.5176 601.166 43.6657 601.166 Z\" fill=\"#000000\" fill-rule=\"nonzero\" fill-opacity=\"1\" /><path clip-path=\"url(#clip000)\" d=\"M18.2347 583.31 L28.3562 583.31 L28.3562 571.247 L32.9077 571.247 L32.9077 583.31 L52.2594 583.31 Q56.6199 583.31 57.8613 582.133 Q59.1026 580.923 59.1026 577.263 L59.1026 571.247 L64.0042 571.247 L64.0042 577.263 Q64.0042 584.042 61.4897 586.62 Q58.9434 589.199 52.2594 589.199 L32.9077 589.199 L32.9077 593.495 L28.3562 593.495 L28.3562 589.199 L18.2347 589.199 L18.2347 583.31 Z\" fill=\"#000000\" fill-rule=\"nonzero\" fill-opacity=\"1\" /><path clip-path=\"url(#clip000)\" d=\"M49.9359 564.15 L28.3562 564.15 L28.3562 558.293 L49.7131 558.293 Q54.7739 558.293 57.3202 556.32 Q59.8346 554.346 59.8346 550.4 Q59.8346 545.657 56.8109 542.92 Q53.7872 540.151 48.5673 540.151 L28.3562 540.151 L28.3562 534.294 L64.0042 534.294 L64.0042 540.151 L58.5296 540.151 Q61.7762 542.283 63.3676 545.116 Q64.9272 547.917 64.9272 551.641 Q64.9272 557.784 61.1078 560.967 Q57.2883 564.15 49.9359 564.15 M27.4968 549.413 L27.4968 549.413 Z\" fill=\"#000000\" fill-rule=\"nonzero\" fill-opacity=\"1\" /><path clip-path=\"url(#clip000)\" d=\"M33.8307 501.575 Q33.2578 502.561 33.0032 503.739 Q32.7167 504.885 32.7167 506.285 Q32.7167 511.25 35.9632 513.924 Q39.1779 516.566 45.2253 516.566 L64.0042 516.566 L64.0042 522.454 L28.3562 522.454 L28.3562 516.566 L33.8944 516.566 Q30.6479 514.72 29.0883 511.76 Q27.4968 508.8 27.4968 504.567 Q27.4968 503.962 27.5923 503.23 Q27.656 502.498 27.8151 501.606 L33.8307 501.575 Z\" fill=\"#000000\" fill-rule=\"nonzero\" fill-opacity=\"1\" /><path clip-path=\"url(#clip000)\" d=\"M44.7161 466.372 L47.5806 466.372 L47.5806 493.299 Q53.6281 492.917 56.8109 489.671 Q59.9619 486.392 59.9619 480.568 Q59.9619 477.194 59.1344 474.043 Q58.3069 470.86 56.6518 467.741 L62.1899 467.741 Q63.5267 470.892 64.227 474.202 Q64.9272 477.512 64.9272 480.918 Q64.9272 489.448 59.9619 494.445 Q54.9967 499.41 46.5303 499.41 Q37.7774 499.41 32.6531 494.7 Q27.4968 489.957 27.4968 481.936 Q27.4968 474.743 32.1438 470.574 Q36.7589 466.372 44.7161 466.372 M42.9973 472.229 Q38.1912 472.292 35.3266 474.934 Q32.4621 477.544 32.4621 481.873 Q32.4621 486.774 35.2312 489.734 Q38.0002 492.663 43.0292 493.108 L42.9973 472.229 Z\" fill=\"#000000\" fill-rule=\"nonzero\" fill-opacity=\"1\" /><path clip-path=\"url(#clip000)\" d=\"M58.5933 429.674 L58.5933 407.235 L64.0042 407.235 L64.0042 437.408 L58.5933 437.408 Q54.8057 433.748 48.44 427.446 Q42.0425 421.112 40.1964 419.489 Q36.7271 416.401 34.34 415.192 Q31.921 413.951 29.5975 413.951 Q25.8099 413.951 23.4228 416.624 Q21.0356 419.266 21.0356 423.531 Q21.0356 426.555 22.086 429.929 Q23.1363 433.271 25.2688 437.09 L18.7758 437.09 Q17.2162 433.207 16.4205 429.833 Q15.6248 426.459 15.6248 423.658 Q15.6248 416.274 19.3169 411.882 Q23.009 407.489 29.1837 407.489 Q32.112 407.489 34.7537 408.603 Q37.3637 409.686 40.9285 412.582 Q41.8515 413.378 46.2757 417.643 Q50.668 421.908 58.5933 429.674 Z\" fill=\"#000000\" fill-rule=\"nonzero\" fill-opacity=\"1\" /><circle clip-path=\"url(#clip002)\" cx=\"1147.97\" cy=\"710.115\" r=\"14.4\" fill=\"#009af9\" fill-rule=\"evenodd\" fill-opacity=\"1\" stroke=\"#000000\" stroke-opacity=\"1\" stroke-width=\"3.2\"/>\n",
       "<circle clip-path=\"url(#clip002)\" cx=\"1121.14\" cy=\"733.031\" r=\"14.4\" fill=\"#009af9\" fill-rule=\"evenodd\" fill-opacity=\"1\" stroke=\"#000000\" stroke-opacity=\"1\" stroke-width=\"3.2\"/>\n",
       "<circle clip-path=\"url(#clip002)\" cx=\"1045.68\" cy=\"746.749\" r=\"14.4\" fill=\"#009af9\" fill-rule=\"evenodd\" fill-opacity=\"1\" stroke=\"#000000\" stroke-opacity=\"1\" stroke-width=\"3.2\"/>\n",
       "<circle clip-path=\"url(#clip002)\" cx=\"1062.64\" cy=\"738.285\" r=\"14.4\" fill=\"#009af9\" fill-rule=\"evenodd\" fill-opacity=\"1\" stroke=\"#000000\" stroke-opacity=\"1\" stroke-width=\"3.2\"/>\n",
       "<circle clip-path=\"url(#clip002)\" cx=\"1046.49\" cy=\"721.355\" r=\"14.4\" fill=\"#009af9\" fill-rule=\"evenodd\" fill-opacity=\"1\" stroke=\"#000000\" stroke-opacity=\"1\" stroke-width=\"3.2\"/>\n",
       "<circle clip-path=\"url(#clip002)\" cx=\"1129.96\" cy=\"739.336\" r=\"14.4\" fill=\"#009af9\" fill-rule=\"evenodd\" fill-opacity=\"1\" stroke=\"#000000\" stroke-opacity=\"1\" stroke-width=\"3.2\"/>\n",
       "<circle clip-path=\"url(#clip002)\" cx=\"316.614\" cy=\"86.1857\" r=\"14.4\" fill=\"#009af9\" fill-rule=\"evenodd\" fill-opacity=\"1\" stroke=\"#000000\" stroke-opacity=\"1\" stroke-width=\"3.2\"/>\n",
       "<circle clip-path=\"url(#clip002)\" cx=\"1141.24\" cy=\"748.378\" r=\"14.4\" fill=\"#009af9\" fill-rule=\"evenodd\" fill-opacity=\"1\" stroke=\"#000000\" stroke-opacity=\"1\" stroke-width=\"3.2\"/>\n",
       "<circle clip-path=\"url(#clip002)\" cx=\"2292.18\" cy=\"1286.78\" r=\"14.4\" fill=\"#009af9\" fill-rule=\"evenodd\" fill-opacity=\"1\" stroke=\"#000000\" stroke-opacity=\"1\" stroke-width=\"3.2\"/>\n",
       "<circle clip-path=\"url(#clip002)\" cx=\"613.675\" cy=\"771.54\" r=\"14.4\" fill=\"#009af9\" fill-rule=\"evenodd\" fill-opacity=\"1\" stroke=\"#000000\" stroke-opacity=\"1\" stroke-width=\"3.2\"/>\n",
       "<circle clip-path=\"url(#clip002)\" cx=\"1056.33\" cy=\"759.304\" r=\"14.4\" fill=\"#009af9\" fill-rule=\"evenodd\" fill-opacity=\"1\" stroke=\"#000000\" stroke-opacity=\"1\" stroke-width=\"3.2\"/>\n",
       "<circle clip-path=\"url(#clip002)\" cx=\"1126.98\" cy=\"734.98\" r=\"14.4\" fill=\"#009af9\" fill-rule=\"evenodd\" fill-opacity=\"1\" stroke=\"#000000\" stroke-opacity=\"1\" stroke-width=\"3.2\"/>\n",
       "<circle clip-path=\"url(#clip002)\" cx=\"1152.96\" cy=\"747.633\" r=\"14.4\" fill=\"#009af9\" fill-rule=\"evenodd\" fill-opacity=\"1\" stroke=\"#000000\" stroke-opacity=\"1\" stroke-width=\"3.2\"/>\n",
       "<circle clip-path=\"url(#clip002)\" cx=\"1155.97\" cy=\"778.771\" r=\"14.4\" fill=\"#009af9\" fill-rule=\"evenodd\" fill-opacity=\"1\" stroke=\"#000000\" stroke-opacity=\"1\" stroke-width=\"3.2\"/>\n",
       "<circle clip-path=\"url(#clip002)\" cx=\"1142.27\" cy=\"737.447\" r=\"14.4\" fill=\"#009af9\" fill-rule=\"evenodd\" fill-opacity=\"1\" stroke=\"#000000\" stroke-opacity=\"1\" stroke-width=\"3.2\"/>\n",
       "<circle clip-path=\"url(#clip002)\" cx=\"1059.06\" cy=\"783.479\" r=\"14.4\" fill=\"#009af9\" fill-rule=\"evenodd\" fill-opacity=\"1\" stroke=\"#000000\" stroke-opacity=\"1\" stroke-width=\"3.2\"/>\n",
       "<circle clip-path=\"url(#clip002)\" cx=\"1196.41\" cy=\"714.93\" r=\"14.4\" fill=\"#009af9\" fill-rule=\"evenodd\" fill-opacity=\"1\" stroke=\"#000000\" stroke-opacity=\"1\" stroke-width=\"3.2\"/>\n",
       "<circle clip-path=\"url(#clip002)\" cx=\"1297.79\" cy=\"879.294\" r=\"14.4\" fill=\"#009af9\" fill-rule=\"evenodd\" fill-opacity=\"1\" stroke=\"#000000\" stroke-opacity=\"1\" stroke-width=\"3.2\"/>\n",
       "<circle clip-path=\"url(#clip002)\" cx=\"957.683\" cy=\"619.115\" r=\"14.4\" fill=\"#009af9\" fill-rule=\"evenodd\" fill-opacity=\"1\" stroke=\"#000000\" stroke-opacity=\"1\" stroke-width=\"3.2\"/>\n",
       "<circle clip-path=\"url(#clip002)\" cx=\"1133.28\" cy=\"770.767\" r=\"14.4\" fill=\"#009af9\" fill-rule=\"evenodd\" fill-opacity=\"1\" stroke=\"#000000\" stroke-opacity=\"1\" stroke-width=\"3.2\"/>\n",
       "<circle clip-path=\"url(#clip002)\" cx=\"1203.54\" cy=\"740.227\" r=\"14.4\" fill=\"#009af9\" fill-rule=\"evenodd\" fill-opacity=\"1\" stroke=\"#000000\" stroke-opacity=\"1\" stroke-width=\"3.2\"/>\n",
       "<circle clip-path=\"url(#clip002)\" cx=\"1185.38\" cy=\"746.846\" r=\"14.4\" fill=\"#009af9\" fill-rule=\"evenodd\" fill-opacity=\"1\" stroke=\"#000000\" stroke-opacity=\"1\" stroke-width=\"3.2\"/>\n",
       "<circle clip-path=\"url(#clip002)\" cx=\"1131.42\" cy=\"767.343\" r=\"14.4\" fill=\"#009af9\" fill-rule=\"evenodd\" fill-opacity=\"1\" stroke=\"#000000\" stroke-opacity=\"1\" stroke-width=\"3.2\"/>\n",
       "<circle clip-path=\"url(#clip002)\" cx=\"1111.58\" cy=\"755.019\" r=\"14.4\" fill=\"#009af9\" fill-rule=\"evenodd\" fill-opacity=\"1\" stroke=\"#000000\" stroke-opacity=\"1\" stroke-width=\"3.2\"/>\n",
       "<circle clip-path=\"url(#clip002)\" cx=\"1151.11\" cy=\"728.689\" r=\"14.4\" fill=\"#009af9\" fill-rule=\"evenodd\" fill-opacity=\"1\" stroke=\"#000000\" stroke-opacity=\"1\" stroke-width=\"3.2\"/>\n",
       "<circle clip-path=\"url(#clip002)\" cx=\"1023.05\" cy=\"738.489\" r=\"14.4\" fill=\"#009af9\" fill-rule=\"evenodd\" fill-opacity=\"1\" stroke=\"#000000\" stroke-opacity=\"1\" stroke-width=\"3.2\"/>\n",
       "<circle clip-path=\"url(#clip002)\" cx=\"1220.88\" cy=\"706.785\" r=\"14.4\" fill=\"#009af9\" fill-rule=\"evenodd\" fill-opacity=\"1\" stroke=\"#000000\" stroke-opacity=\"1\" stroke-width=\"3.2\"/>\n",
       "<circle clip-path=\"url(#clip002)\" cx=\"955.093\" cy=\"751.152\" r=\"14.4\" fill=\"#009af9\" fill-rule=\"evenodd\" fill-opacity=\"1\" stroke=\"#000000\" stroke-opacity=\"1\" stroke-width=\"3.2\"/>\n",
       "<circle clip-path=\"url(#clip002)\" cx=\"1002.78\" cy=\"753.659\" r=\"14.4\" fill=\"#009af9\" fill-rule=\"evenodd\" fill-opacity=\"1\" stroke=\"#000000\" stroke-opacity=\"1\" stroke-width=\"3.2\"/>\n",
       "<circle clip-path=\"url(#clip002)\" cx=\"2174.24\" cy=\"1370.67\" r=\"14.4\" fill=\"#009af9\" fill-rule=\"evenodd\" fill-opacity=\"1\" stroke=\"#000000\" stroke-opacity=\"1\" stroke-width=\"3.2\"/>\n",
       "<circle clip-path=\"url(#clip002)\" cx=\"1261.93\" cy=\"738.778\" r=\"14.4\" fill=\"#009af9\" fill-rule=\"evenodd\" fill-opacity=\"1\" stroke=\"#000000\" stroke-opacity=\"1\" stroke-width=\"3.2\"/>\n",
       "<circle clip-path=\"url(#clip002)\" cx=\"1000.74\" cy=\"745.975\" r=\"14.4\" fill=\"#009af9\" fill-rule=\"evenodd\" fill-opacity=\"1\" stroke=\"#000000\" stroke-opacity=\"1\" stroke-width=\"3.2\"/>\n",
       "<circle clip-path=\"url(#clip002)\" cx=\"1172.29\" cy=\"735.034\" r=\"14.4\" fill=\"#009af9\" fill-rule=\"evenodd\" fill-opacity=\"1\" stroke=\"#000000\" stroke-opacity=\"1\" stroke-width=\"3.2\"/>\n",
       "<circle clip-path=\"url(#clip002)\" cx=\"1240.53\" cy=\"717.143\" r=\"14.4\" fill=\"#009af9\" fill-rule=\"evenodd\" fill-opacity=\"1\" stroke=\"#000000\" stroke-opacity=\"1\" stroke-width=\"3.2\"/>\n",
       "<circle clip-path=\"url(#clip002)\" cx=\"1147.32\" cy=\"745.183\" r=\"14.4\" fill=\"#009af9\" fill-rule=\"evenodd\" fill-opacity=\"1\" stroke=\"#000000\" stroke-opacity=\"1\" stroke-width=\"3.2\"/>\n",
       "<circle clip-path=\"url(#clip002)\" cx=\"544.452\" cy=\"745.041\" r=\"14.4\" fill=\"#009af9\" fill-rule=\"evenodd\" fill-opacity=\"1\" stroke=\"#000000\" stroke-opacity=\"1\" stroke-width=\"3.2\"/>\n",
       "<circle clip-path=\"url(#clip002)\" cx=\"1711.02\" cy=\"753.368\" r=\"14.4\" fill=\"#009af9\" fill-rule=\"evenodd\" fill-opacity=\"1\" stroke=\"#000000\" stroke-opacity=\"1\" stroke-width=\"3.2\"/>\n",
       "<circle clip-path=\"url(#clip002)\" cx=\"1114.5\" cy=\"739.804\" r=\"14.4\" fill=\"#009af9\" fill-rule=\"evenodd\" fill-opacity=\"1\" stroke=\"#000000\" stroke-opacity=\"1\" stroke-width=\"3.2\"/>\n",
       "<circle clip-path=\"url(#clip002)\" cx=\"1119.29\" cy=\"763.623\" r=\"14.4\" fill=\"#009af9\" fill-rule=\"evenodd\" fill-opacity=\"1\" stroke=\"#000000\" stroke-opacity=\"1\" stroke-width=\"3.2\"/>\n",
       "<circle clip-path=\"url(#clip002)\" cx=\"1013.19\" cy=\"742.434\" r=\"14.4\" fill=\"#009af9\" fill-rule=\"evenodd\" fill-opacity=\"1\" stroke=\"#000000\" stroke-opacity=\"1\" stroke-width=\"3.2\"/>\n",
       "<circle clip-path=\"url(#clip002)\" cx=\"1066.2\" cy=\"780.716\" r=\"14.4\" fill=\"#009af9\" fill-rule=\"evenodd\" fill-opacity=\"1\" stroke=\"#000000\" stroke-opacity=\"1\" stroke-width=\"3.2\"/>\n",
       "<circle clip-path=\"url(#clip002)\" cx=\"1122.26\" cy=\"753.425\" r=\"14.4\" fill=\"#009af9\" fill-rule=\"evenodd\" fill-opacity=\"1\" stroke=\"#000000\" stroke-opacity=\"1\" stroke-width=\"3.2\"/>\n",
       "<circle clip-path=\"url(#clip002)\" cx=\"1378.97\" cy=\"733.389\" r=\"14.4\" fill=\"#009af9\" fill-rule=\"evenodd\" fill-opacity=\"1\" stroke=\"#000000\" stroke-opacity=\"1\" stroke-width=\"3.2\"/>\n",
       "<circle clip-path=\"url(#clip002)\" cx=\"983.851\" cy=\"667.34\" r=\"14.4\" fill=\"#009af9\" fill-rule=\"evenodd\" fill-opacity=\"1\" stroke=\"#000000\" stroke-opacity=\"1\" stroke-width=\"3.2\"/>\n",
       "<circle clip-path=\"url(#clip002)\" cx=\"594.361\" cy=\"731.8\" r=\"14.4\" fill=\"#009af9\" fill-rule=\"evenodd\" fill-opacity=\"1\" stroke=\"#000000\" stroke-opacity=\"1\" stroke-width=\"3.2\"/>\n",
       "<circle clip-path=\"url(#clip002)\" cx=\"1097.49\" cy=\"766.618\" r=\"14.4\" fill=\"#009af9\" fill-rule=\"evenodd\" fill-opacity=\"1\" stroke=\"#000000\" stroke-opacity=\"1\" stroke-width=\"3.2\"/>\n",
       "<circle clip-path=\"url(#clip002)\" cx=\"1215.06\" cy=\"741.858\" r=\"14.4\" fill=\"#009af9\" fill-rule=\"evenodd\" fill-opacity=\"1\" stroke=\"#000000\" stroke-opacity=\"1\" stroke-width=\"3.2\"/>\n",
       "<circle clip-path=\"url(#clip002)\" cx=\"1104.2\" cy=\"736.907\" r=\"14.4\" fill=\"#009af9\" fill-rule=\"evenodd\" fill-opacity=\"1\" stroke=\"#000000\" stroke-opacity=\"1\" stroke-width=\"3.2\"/>\n",
       "<circle clip-path=\"url(#clip002)\" cx=\"1041.25\" cy=\"752.832\" r=\"14.4\" fill=\"#009af9\" fill-rule=\"evenodd\" fill-opacity=\"1\" stroke=\"#000000\" stroke-opacity=\"1\" stroke-width=\"3.2\"/>\n",
       "<circle clip-path=\"url(#clip002)\" cx=\"1108.35\" cy=\"764.948\" r=\"14.4\" fill=\"#009af9\" fill-rule=\"evenodd\" fill-opacity=\"1\" stroke=\"#000000\" stroke-opacity=\"1\" stroke-width=\"3.2\"/>\n",
       "<circle clip-path=\"url(#clip002)\" cx=\"1997.83\" cy=\"1384.24\" r=\"14.4\" fill=\"#009af9\" fill-rule=\"evenodd\" fill-opacity=\"1\" stroke=\"#000000\" stroke-opacity=\"1\" stroke-width=\"3.2\"/>\n",
       "<circle clip-path=\"url(#clip002)\" cx=\"1209.74\" cy=\"801.803\" r=\"14.4\" fill=\"#009af9\" fill-rule=\"evenodd\" fill-opacity=\"1\" stroke=\"#000000\" stroke-opacity=\"1\" stroke-width=\"3.2\"/>\n",
       "<circle clip-path=\"url(#clip002)\" cx=\"1079.68\" cy=\"749.584\" r=\"14.4\" fill=\"#009af9\" fill-rule=\"evenodd\" fill-opacity=\"1\" stroke=\"#000000\" stroke-opacity=\"1\" stroke-width=\"3.2\"/>\n",
       "<circle clip-path=\"url(#clip002)\" cx=\"1112.35\" cy=\"747.572\" r=\"14.4\" fill=\"#009af9\" fill-rule=\"evenodd\" fill-opacity=\"1\" stroke=\"#000000\" stroke-opacity=\"1\" stroke-width=\"3.2\"/>\n",
       "<circle clip-path=\"url(#clip002)\" cx=\"273.033\" cy=\"115.804\" r=\"14.4\" fill=\"#009af9\" fill-rule=\"evenodd\" fill-opacity=\"1\" stroke=\"#000000\" stroke-opacity=\"1\" stroke-width=\"3.2\"/>\n",
       "<circle clip-path=\"url(#clip002)\" cx=\"1210.02\" cy=\"762.601\" r=\"14.4\" fill=\"#009af9\" fill-rule=\"evenodd\" fill-opacity=\"1\" stroke=\"#000000\" stroke-opacity=\"1\" stroke-width=\"3.2\"/>\n",
       "<circle clip-path=\"url(#clip002)\" cx=\"1113.77\" cy=\"741.746\" r=\"14.4\" fill=\"#009af9\" fill-rule=\"evenodd\" fill-opacity=\"1\" stroke=\"#000000\" stroke-opacity=\"1\" stroke-width=\"3.2\"/>\n",
       "<circle clip-path=\"url(#clip002)\" cx=\"1085.66\" cy=\"753.88\" r=\"14.4\" fill=\"#009af9\" fill-rule=\"evenodd\" fill-opacity=\"1\" stroke=\"#000000\" stroke-opacity=\"1\" stroke-width=\"3.2\"/>\n",
       "<circle clip-path=\"url(#clip002)\" cx=\"1184.29\" cy=\"838.415\" r=\"14.4\" fill=\"#009af9\" fill-rule=\"evenodd\" fill-opacity=\"1\" stroke=\"#000000\" stroke-opacity=\"1\" stroke-width=\"3.2\"/>\n",
       "<circle clip-path=\"url(#clip002)\" cx=\"1250.18\" cy=\"760.221\" r=\"14.4\" fill=\"#009af9\" fill-rule=\"evenodd\" fill-opacity=\"1\" stroke=\"#000000\" stroke-opacity=\"1\" stroke-width=\"3.2\"/>\n",
       "<circle clip-path=\"url(#clip002)\" cx=\"1021.27\" cy=\"742.878\" r=\"14.4\" fill=\"#009af9\" fill-rule=\"evenodd\" fill-opacity=\"1\" stroke=\"#000000\" stroke-opacity=\"1\" stroke-width=\"3.2\"/>\n",
       "<circle clip-path=\"url(#clip002)\" cx=\"1046.42\" cy=\"765.656\" r=\"14.4\" fill=\"#009af9\" fill-rule=\"evenodd\" fill-opacity=\"1\" stroke=\"#000000\" stroke-opacity=\"1\" stroke-width=\"3.2\"/>\n",
       "<circle clip-path=\"url(#clip002)\" cx=\"987.453\" cy=\"729.128\" r=\"14.4\" fill=\"#009af9\" fill-rule=\"evenodd\" fill-opacity=\"1\" stroke=\"#000000\" stroke-opacity=\"1\" stroke-width=\"3.2\"/>\n",
       "<circle clip-path=\"url(#clip002)\" cx=\"1204.64\" cy=\"730.12\" r=\"14.4\" fill=\"#009af9\" fill-rule=\"evenodd\" fill-opacity=\"1\" stroke=\"#000000\" stroke-opacity=\"1\" stroke-width=\"3.2\"/>\n",
       "<circle clip-path=\"url(#clip002)\" cx=\"1100.64\" cy=\"736.208\" r=\"14.4\" fill=\"#009af9\" fill-rule=\"evenodd\" fill-opacity=\"1\" stroke=\"#000000\" stroke-opacity=\"1\" stroke-width=\"3.2\"/>\n",
       "<circle clip-path=\"url(#clip002)\" cx=\"1053.54\" cy=\"746.897\" r=\"14.4\" fill=\"#009af9\" fill-rule=\"evenodd\" fill-opacity=\"1\" stroke=\"#000000\" stroke-opacity=\"1\" stroke-width=\"3.2\"/>\n",
       "<circle clip-path=\"url(#clip002)\" cx=\"1202.52\" cy=\"766.007\" r=\"14.4\" fill=\"#009af9\" fill-rule=\"evenodd\" fill-opacity=\"1\" stroke=\"#000000\" stroke-opacity=\"1\" stroke-width=\"3.2\"/>\n",
       "<circle clip-path=\"url(#clip002)\" cx=\"1222.69\" cy=\"733.03\" r=\"14.4\" fill=\"#009af9\" fill-rule=\"evenodd\" fill-opacity=\"1\" stroke=\"#000000\" stroke-opacity=\"1\" stroke-width=\"3.2\"/>\n",
       "<circle clip-path=\"url(#clip002)\" cx=\"1667.25\" cy=\"749.788\" r=\"14.4\" fill=\"#009af9\" fill-rule=\"evenodd\" fill-opacity=\"1\" stroke=\"#000000\" stroke-opacity=\"1\" stroke-width=\"3.2\"/>\n",
       "<circle clip-path=\"url(#clip002)\" cx=\"976.837\" cy=\"745.303\" r=\"14.4\" fill=\"#009af9\" fill-rule=\"evenodd\" fill-opacity=\"1\" stroke=\"#000000\" stroke-opacity=\"1\" stroke-width=\"3.2\"/>\n",
       "<circle clip-path=\"url(#clip002)\" cx=\"1189.28\" cy=\"756.965\" r=\"14.4\" fill=\"#009af9\" fill-rule=\"evenodd\" fill-opacity=\"1\" stroke=\"#000000\" stroke-opacity=\"1\" stroke-width=\"3.2\"/>\n",
       "<circle clip-path=\"url(#clip002)\" cx=\"1093.46\" cy=\"755.241\" r=\"14.4\" fill=\"#009af9\" fill-rule=\"evenodd\" fill-opacity=\"1\" stroke=\"#000000\" stroke-opacity=\"1\" stroke-width=\"3.2\"/>\n",
       "<circle clip-path=\"url(#clip002)\" cx=\"1134.38\" cy=\"754.662\" r=\"21.6\" fill=\"#000000\" fill-rule=\"evenodd\" fill-opacity=\"1\" stroke=\"none\"/>\n",
       "</svg>\n"
      ],
      "text/html": [
       "<?xml version=\"1.0\" encoding=\"utf-8\"?>\n",
       "<svg xmlns=\"http://www.w3.org/2000/svg\" xmlns:xlink=\"http://www.w3.org/1999/xlink\" width=\"600\" height=\"400\" viewBox=\"0 0 2400 1600\">\n",
       "<defs>\n",
       "  <clipPath id=\"clip050\">\n",
       "    <rect x=\"0\" y=\"0\" width=\"2400\" height=\"1600\"/>\n",
       "  </clipPath>\n",
       "</defs>\n",
       "<path clip-path=\"url(#clip050)\" d=\"M0 1600 L2400 1600 L2400 8.88178e-14 L0 8.88178e-14  Z\" fill=\"#ffffff\" fill-rule=\"evenodd\" fill-opacity=\"1\"/>\n",
       "<defs>\n",
       "  <clipPath id=\"clip051\">\n",
       "    <rect x=\"480\" y=\"0\" width=\"1681\" height=\"1600\"/>\n",
       "  </clipPath>\n",
       "</defs>\n",
       "<path clip-path=\"url(#clip050)\" d=\"M212.459 1423.18 L2352.76 1423.18 L2352.76 47.2441 L212.459 47.2441  Z\" fill=\"#ffffff\" fill-rule=\"evenodd\" fill-opacity=\"1\"/>\n",
       "<defs>\n",
       "  <clipPath id=\"clip052\">\n",
       "    <rect x=\"212\" y=\"47\" width=\"2141\" height=\"1377\"/>\n",
       "  </clipPath>\n",
       "</defs>\n",
       "<polyline clip-path=\"url(#clip052)\" style=\"stroke:#000000; stroke-linecap:round; stroke-linejoin:round; stroke-width:2; stroke-opacity:0.1; fill:none\" points=\"345.553,1423.18 345.553,47.2441 \"/>\n",
       "<polyline clip-path=\"url(#clip052)\" style=\"stroke:#000000; stroke-linecap:round; stroke-linejoin:round; stroke-width:2; stroke-opacity:0.1; fill:none\" points=\"736.644,1423.18 736.644,47.2441 \"/>\n",
       "<polyline clip-path=\"url(#clip052)\" style=\"stroke:#000000; stroke-linecap:round; stroke-linejoin:round; stroke-width:2; stroke-opacity:0.1; fill:none\" points=\"1127.73,1423.18 1127.73,47.2441 \"/>\n",
       "<polyline clip-path=\"url(#clip052)\" style=\"stroke:#000000; stroke-linecap:round; stroke-linejoin:round; stroke-width:2; stroke-opacity:0.1; fill:none\" points=\"1518.83,1423.18 1518.83,47.2441 \"/>\n",
       "<polyline clip-path=\"url(#clip052)\" style=\"stroke:#000000; stroke-linecap:round; stroke-linejoin:round; stroke-width:2; stroke-opacity:0.1; fill:none\" points=\"1909.92,1423.18 1909.92,47.2441 \"/>\n",
       "<polyline clip-path=\"url(#clip052)\" style=\"stroke:#000000; stroke-linecap:round; stroke-linejoin:round; stroke-width:2; stroke-opacity:0.1; fill:none\" points=\"2301.01,1423.18 2301.01,47.2441 \"/>\n",
       "<polyline clip-path=\"url(#clip052)\" style=\"stroke:#000000; stroke-linecap:round; stroke-linejoin:round; stroke-width:2; stroke-opacity:0.1; fill:none\" points=\"212.459,1290.44 2352.76,1290.44 \"/>\n",
       "<polyline clip-path=\"url(#clip052)\" style=\"stroke:#000000; stroke-linecap:round; stroke-linejoin:round; stroke-width:2; stroke-opacity:0.1; fill:none\" points=\"212.459,1110.03 2352.76,1110.03 \"/>\n",
       "<polyline clip-path=\"url(#clip052)\" style=\"stroke:#000000; stroke-linecap:round; stroke-linejoin:round; stroke-width:2; stroke-opacity:0.1; fill:none\" points=\"212.459,929.617 2352.76,929.617 \"/>\n",
       "<polyline clip-path=\"url(#clip052)\" style=\"stroke:#000000; stroke-linecap:round; stroke-linejoin:round; stroke-width:2; stroke-opacity:0.1; fill:none\" points=\"212.459,749.204 2352.76,749.204 \"/>\n",
       "<polyline clip-path=\"url(#clip052)\" style=\"stroke:#000000; stroke-linecap:round; stroke-linejoin:round; stroke-width:2; stroke-opacity:0.1; fill:none\" points=\"212.459,568.792 2352.76,568.792 \"/>\n",
       "<polyline clip-path=\"url(#clip052)\" style=\"stroke:#000000; stroke-linecap:round; stroke-linejoin:round; stroke-width:2; stroke-opacity:0.1; fill:none\" points=\"212.459,388.38 2352.76,388.38 \"/>\n",
       "<polyline clip-path=\"url(#clip052)\" style=\"stroke:#000000; stroke-linecap:round; stroke-linejoin:round; stroke-width:2; stroke-opacity:0.1; fill:none\" points=\"212.459,207.968 2352.76,207.968 \"/>\n",
       "<polyline clip-path=\"url(#clip050)\" style=\"stroke:#000000; stroke-linecap:round; stroke-linejoin:round; stroke-width:4; stroke-opacity:1; fill:none\" points=\"212.459,1423.18 2352.76,1423.18 \"/>\n",
       "<polyline clip-path=\"url(#clip050)\" style=\"stroke:#000000; stroke-linecap:round; stroke-linejoin:round; stroke-width:4; stroke-opacity:1; fill:none\" points=\"345.553,1423.18 345.553,1404.28 \"/>\n",
       "<polyline clip-path=\"url(#clip050)\" style=\"stroke:#000000; stroke-linecap:round; stroke-linejoin:round; stroke-width:4; stroke-opacity:1; fill:none\" points=\"736.644,1423.18 736.644,1404.28 \"/>\n",
       "<polyline clip-path=\"url(#clip050)\" style=\"stroke:#000000; stroke-linecap:round; stroke-linejoin:round; stroke-width:4; stroke-opacity:1; fill:none\" points=\"1127.73,1423.18 1127.73,1404.28 \"/>\n",
       "<polyline clip-path=\"url(#clip050)\" style=\"stroke:#000000; stroke-linecap:round; stroke-linejoin:round; stroke-width:4; stroke-opacity:1; fill:none\" points=\"1518.83,1423.18 1518.83,1404.28 \"/>\n",
       "<polyline clip-path=\"url(#clip050)\" style=\"stroke:#000000; stroke-linecap:round; stroke-linejoin:round; stroke-width:4; stroke-opacity:1; fill:none\" points=\"1909.92,1423.18 1909.92,1404.28 \"/>\n",
       "<polyline clip-path=\"url(#clip050)\" style=\"stroke:#000000; stroke-linecap:round; stroke-linejoin:round; stroke-width:4; stroke-opacity:1; fill:none\" points=\"2301.01,1423.18 2301.01,1404.28 \"/>\n",
       "<path clip-path=\"url(#clip050)\" d=\"M292.081 1468.75 L321.756 1468.75 L321.756 1472.69 L292.081 1472.69 L292.081 1468.75 Z\" fill=\"#000000\" fill-rule=\"nonzero\" fill-opacity=\"1\" /><path clip-path=\"url(#clip050)\" d=\"M332.659 1481.64 L340.298 1481.64 L340.298 1455.28 L331.988 1456.95 L331.988 1452.69 L340.252 1451.02 L344.928 1451.02 L344.928 1481.64 L352.566 1481.64 L352.566 1485.58 L332.659 1485.58 L332.659 1481.64 Z\" fill=\"#000000\" fill-rule=\"nonzero\" fill-opacity=\"1\" /><path clip-path=\"url(#clip050)\" d=\"M362.011 1479.7 L366.895 1479.7 L366.895 1485.58 L362.011 1485.58 L362.011 1479.7 Z\" fill=\"#000000\" fill-rule=\"nonzero\" fill-opacity=\"1\" /><path clip-path=\"url(#clip050)\" d=\"M387.08 1454.1 Q383.469 1454.1 381.64 1457.66 Q379.835 1461.2 379.835 1468.33 Q379.835 1475.44 381.64 1479.01 Q383.469 1482.55 387.08 1482.55 Q390.714 1482.55 392.52 1479.01 Q394.349 1475.44 394.349 1468.33 Q394.349 1461.2 392.52 1457.66 Q390.714 1454.1 387.08 1454.1 M387.08 1450.39 Q392.89 1450.39 395.946 1455 Q399.025 1459.58 399.025 1468.33 Q399.025 1477.06 395.946 1481.67 Q392.89 1486.25 387.08 1486.25 Q381.27 1486.25 378.191 1481.67 Q375.136 1477.06 375.136 1468.33 Q375.136 1459.58 378.191 1455 Q381.27 1450.39 387.08 1450.39 Z\" fill=\"#000000\" fill-rule=\"nonzero\" fill-opacity=\"1\" /><path clip-path=\"url(#clip050)\" d=\"M683.67 1468.75 L713.345 1468.75 L713.345 1472.69 L683.67 1472.69 L683.67 1468.75 Z\" fill=\"#000000\" fill-rule=\"nonzero\" fill-opacity=\"1\" /><path clip-path=\"url(#clip050)\" d=\"M733.438 1454.1 Q729.827 1454.1 727.998 1457.66 Q726.192 1461.2 726.192 1468.33 Q726.192 1475.44 727.998 1479.01 Q729.827 1482.55 733.438 1482.55 Q737.072 1482.55 738.878 1479.01 Q740.706 1475.44 740.706 1468.33 Q740.706 1461.2 738.878 1457.66 Q737.072 1454.1 733.438 1454.1 M733.438 1450.39 Q739.248 1450.39 742.304 1455 Q745.382 1459.58 745.382 1468.33 Q745.382 1477.06 742.304 1481.67 Q739.248 1486.25 733.438 1486.25 Q727.628 1486.25 724.549 1481.67 Q721.493 1477.06 721.493 1468.33 Q721.493 1459.58 724.549 1455 Q727.628 1450.39 733.438 1450.39 Z\" fill=\"#000000\" fill-rule=\"nonzero\" fill-opacity=\"1\" /><path clip-path=\"url(#clip050)\" d=\"M753.6 1479.7 L758.484 1479.7 L758.484 1485.58 L753.6 1485.58 L753.6 1479.7 Z\" fill=\"#000000\" fill-rule=\"nonzero\" fill-opacity=\"1\" /><path clip-path=\"url(#clip050)\" d=\"M768.715 1451.02 L787.072 1451.02 L787.072 1454.96 L772.998 1454.96 L772.998 1463.43 Q774.016 1463.08 775.035 1462.92 Q776.053 1462.73 777.072 1462.73 Q782.859 1462.73 786.238 1465.9 Q789.618 1469.08 789.618 1474.49 Q789.618 1480.07 786.146 1483.17 Q782.674 1486.25 776.354 1486.25 Q774.178 1486.25 771.91 1485.88 Q769.664 1485.51 767.257 1484.77 L767.257 1480.07 Q769.34 1481.2 771.563 1481.76 Q773.785 1482.32 776.262 1482.32 Q780.266 1482.32 782.604 1480.21 Q784.942 1478.1 784.942 1474.49 Q784.942 1470.88 782.604 1468.77 Q780.266 1466.67 776.262 1466.67 Q774.387 1466.67 772.512 1467.08 Q770.66 1467.5 768.715 1468.38 L768.715 1451.02 Z\" fill=\"#000000\" fill-rule=\"nonzero\" fill-opacity=\"1\" /><path clip-path=\"url(#clip050)\" d=\"M1105.12 1454.1 Q1101.51 1454.1 1099.68 1457.66 Q1097.87 1461.2 1097.87 1468.33 Q1097.87 1475.44 1099.68 1479.01 Q1101.51 1482.55 1105.12 1482.55 Q1108.75 1482.55 1110.56 1479.01 Q1112.39 1475.44 1112.39 1468.33 Q1112.39 1461.2 1110.56 1457.66 Q1108.75 1454.1 1105.12 1454.1 M1105.12 1450.39 Q1110.93 1450.39 1113.99 1455 Q1117.06 1459.58 1117.06 1468.33 Q1117.06 1477.06 1113.99 1481.67 Q1110.93 1486.25 1105.12 1486.25 Q1099.31 1486.25 1096.23 1481.67 Q1093.17 1477.06 1093.17 1468.33 Q1093.17 1459.58 1096.23 1455 Q1099.31 1450.39 1105.12 1450.39 Z\" fill=\"#000000\" fill-rule=\"nonzero\" fill-opacity=\"1\" /><path clip-path=\"url(#clip050)\" d=\"M1125.28 1479.7 L1130.17 1479.7 L1130.17 1485.58 L1125.28 1485.58 L1125.28 1479.7 Z\" fill=\"#000000\" fill-rule=\"nonzero\" fill-opacity=\"1\" /><path clip-path=\"url(#clip050)\" d=\"M1150.35 1454.1 Q1146.74 1454.1 1144.91 1457.66 Q1143.11 1461.2 1143.11 1468.33 Q1143.11 1475.44 1144.91 1479.01 Q1146.74 1482.55 1150.35 1482.55 Q1153.98 1482.55 1155.79 1479.01 Q1157.62 1475.44 1157.62 1468.33 Q1157.62 1461.2 1155.79 1457.66 Q1153.98 1454.1 1150.35 1454.1 M1150.35 1450.39 Q1156.16 1450.39 1159.22 1455 Q1162.29 1459.58 1162.29 1468.33 Q1162.29 1477.06 1159.22 1481.67 Q1156.16 1486.25 1150.35 1486.25 Q1144.54 1486.25 1141.46 1481.67 Q1138.41 1477.06 1138.41 1468.33 Q1138.41 1459.58 1141.46 1455 Q1144.54 1450.39 1150.35 1450.39 Z\" fill=\"#000000\" fill-rule=\"nonzero\" fill-opacity=\"1\" /><path clip-path=\"url(#clip050)\" d=\"M1496.71 1454.1 Q1493.1 1454.1 1491.27 1457.66 Q1489.46 1461.2 1489.46 1468.33 Q1489.46 1475.44 1491.27 1479.01 Q1493.1 1482.55 1496.71 1482.55 Q1500.34 1482.55 1502.15 1479.01 Q1503.98 1475.44 1503.98 1468.33 Q1503.98 1461.2 1502.15 1457.66 Q1500.34 1454.1 1496.71 1454.1 M1496.71 1450.39 Q1502.52 1450.39 1505.57 1455 Q1508.65 1459.58 1508.65 1468.33 Q1508.65 1477.06 1505.57 1481.67 Q1502.52 1486.25 1496.71 1486.25 Q1490.9 1486.25 1487.82 1481.67 Q1484.76 1477.06 1484.76 1468.33 Q1484.76 1459.58 1487.82 1455 Q1490.9 1450.39 1496.71 1450.39 Z\" fill=\"#000000\" fill-rule=\"nonzero\" fill-opacity=\"1\" /><path clip-path=\"url(#clip050)\" d=\"M1516.87 1479.7 L1521.75 1479.7 L1521.75 1485.58 L1516.87 1485.58 L1516.87 1479.7 Z\" fill=\"#000000\" fill-rule=\"nonzero\" fill-opacity=\"1\" /><path clip-path=\"url(#clip050)\" d=\"M1531.99 1451.02 L1550.34 1451.02 L1550.34 1454.96 L1536.27 1454.96 L1536.27 1463.43 Q1537.29 1463.08 1538.31 1462.92 Q1539.32 1462.73 1540.34 1462.73 Q1546.13 1462.73 1549.51 1465.9 Q1552.89 1469.08 1552.89 1474.49 Q1552.89 1480.07 1549.42 1483.17 Q1545.94 1486.25 1539.62 1486.25 Q1537.45 1486.25 1535.18 1485.88 Q1532.93 1485.51 1530.53 1484.77 L1530.53 1480.07 Q1532.61 1481.2 1534.83 1481.76 Q1537.06 1482.32 1539.53 1482.32 Q1543.54 1482.32 1545.87 1480.21 Q1548.21 1478.1 1548.21 1474.49 Q1548.21 1470.88 1545.87 1468.77 Q1543.54 1466.67 1539.53 1466.67 Q1537.66 1466.67 1535.78 1467.08 Q1533.93 1467.5 1531.99 1468.38 L1531.99 1451.02 Z\" fill=\"#000000\" fill-rule=\"nonzero\" fill-opacity=\"1\" /><path clip-path=\"url(#clip050)\" d=\"M1877.07 1481.64 L1884.71 1481.64 L1884.71 1455.28 L1876.4 1456.95 L1876.4 1452.69 L1884.66 1451.02 L1889.34 1451.02 L1889.34 1481.64 L1896.98 1481.64 L1896.98 1485.58 L1877.07 1485.58 L1877.07 1481.64 Z\" fill=\"#000000\" fill-rule=\"nonzero\" fill-opacity=\"1\" /><path clip-path=\"url(#clip050)\" d=\"M1906.42 1479.7 L1911.31 1479.7 L1911.31 1485.58 L1906.42 1485.58 L1906.42 1479.7 Z\" fill=\"#000000\" fill-rule=\"nonzero\" fill-opacity=\"1\" /><path clip-path=\"url(#clip050)\" d=\"M1931.49 1454.1 Q1927.88 1454.1 1926.05 1457.66 Q1924.25 1461.2 1924.25 1468.33 Q1924.25 1475.44 1926.05 1479.01 Q1927.88 1482.55 1931.49 1482.55 Q1935.13 1482.55 1936.93 1479.01 Q1938.76 1475.44 1938.76 1468.33 Q1938.76 1461.2 1936.93 1457.66 Q1935.13 1454.1 1931.49 1454.1 M1931.49 1450.39 Q1937.3 1450.39 1940.36 1455 Q1943.44 1459.58 1943.44 1468.33 Q1943.44 1477.06 1940.36 1481.67 Q1937.3 1486.25 1931.49 1486.25 Q1925.68 1486.25 1922.6 1481.67 Q1919.55 1477.06 1919.55 1468.33 Q1919.55 1459.58 1922.6 1455 Q1925.68 1450.39 1931.49 1450.39 Z\" fill=\"#000000\" fill-rule=\"nonzero\" fill-opacity=\"1\" /><path clip-path=\"url(#clip050)\" d=\"M2268.66 1481.64 L2276.3 1481.64 L2276.3 1455.28 L2267.99 1456.95 L2267.99 1452.69 L2276.25 1451.02 L2280.93 1451.02 L2280.93 1481.64 L2288.57 1481.64 L2288.57 1485.58 L2268.66 1485.58 L2268.66 1481.64 Z\" fill=\"#000000\" fill-rule=\"nonzero\" fill-opacity=\"1\" /><path clip-path=\"url(#clip050)\" d=\"M2298.01 1479.7 L2302.9 1479.7 L2302.9 1485.58 L2298.01 1485.58 L2298.01 1479.7 Z\" fill=\"#000000\" fill-rule=\"nonzero\" fill-opacity=\"1\" /><path clip-path=\"url(#clip050)\" d=\"M2313.13 1451.02 L2331.48 1451.02 L2331.48 1454.96 L2317.41 1454.96 L2317.41 1463.43 Q2318.43 1463.08 2319.45 1462.92 Q2320.46 1462.73 2321.48 1462.73 Q2327.27 1462.73 2330.65 1465.9 Q2334.03 1469.08 2334.03 1474.49 Q2334.03 1480.07 2330.56 1483.17 Q2327.08 1486.25 2320.77 1486.25 Q2318.59 1486.25 2316.32 1485.88 Q2314.08 1485.51 2311.67 1484.77 L2311.67 1480.07 Q2313.75 1481.2 2315.97 1481.76 Q2318.2 1482.32 2320.67 1482.32 Q2324.68 1482.32 2327.02 1480.21 Q2329.35 1478.1 2329.35 1474.49 Q2329.35 1470.88 2327.02 1468.77 Q2324.68 1466.67 2320.67 1466.67 Q2318.8 1466.67 2316.92 1467.08 Q2315.07 1467.5 2313.13 1468.38 L2313.13 1451.02 Z\" fill=\"#000000\" fill-rule=\"nonzero\" fill-opacity=\"1\" /><path clip-path=\"url(#clip050)\" d=\"M992.697 1524.18 L992.697 1530.96 Q989.451 1527.94 985.759 1526.44 Q982.098 1524.95 977.961 1524.95 Q969.812 1524.95 965.484 1529.95 Q961.155 1534.91 961.155 1544.33 Q961.155 1553.72 965.484 1558.72 Q969.812 1563.68 977.961 1563.68 Q982.098 1563.68 985.759 1562.19 Q989.451 1560.69 992.697 1557.67 L992.697 1564.38 Q989.323 1566.68 985.536 1567.82 Q981.78 1568.97 977.579 1568.97 Q966.789 1568.97 960.582 1562.38 Q954.376 1555.76 954.376 1544.33 Q954.376 1532.87 960.582 1526.28 Q966.789 1519.66 977.579 1519.66 Q981.844 1519.66 985.599 1520.81 Q989.387 1521.92 992.697 1524.18 Z\" fill=\"#000000\" fill-rule=\"nonzero\" fill-opacity=\"1\" /><path clip-path=\"url(#clip050)\" d=\"M1016.19 1536.5 Q1011.48 1536.5 1008.74 1540.19 Q1006 1543.85 1006 1550.25 Q1006 1556.65 1008.71 1560.34 Q1011.44 1564 1016.19 1564 Q1020.87 1564 1023.6 1560.31 Q1026.34 1556.62 1026.34 1550.25 Q1026.34 1543.92 1023.6 1540.23 Q1020.87 1536.5 1016.19 1536.5 M1016.19 1531.54 Q1023.83 1531.54 1028.19 1536.5 Q1032.55 1541.47 1032.55 1550.25 Q1032.55 1559 1028.19 1564 Q1023.83 1568.97 1016.19 1568.97 Q1008.52 1568.97 1004.16 1564 Q999.827 1559 999.827 1550.25 Q999.827 1541.47 1004.16 1536.5 Q1008.52 1531.54 1016.19 1531.54 Z\" fill=\"#000000\" fill-rule=\"nonzero\" fill-opacity=\"1\" /><path clip-path=\"url(#clip050)\" d=\"M1070.01 1539.24 Q1072.2 1535.29 1075.26 1533.41 Q1078.32 1531.54 1082.45 1531.54 Q1088.02 1531.54 1091.05 1535.45 Q1094.07 1539.33 1094.07 1546.53 L1094.07 1568.04 L1088.18 1568.04 L1088.18 1546.72 Q1088.18 1541.59 1086.37 1539.11 Q1084.55 1536.63 1080.83 1536.63 Q1076.28 1536.63 1073.64 1539.65 Q1071 1542.68 1071 1547.9 L1071 1568.04 L1065.11 1568.04 L1065.11 1546.72 Q1065.11 1541.56 1063.29 1539.11 Q1061.48 1536.63 1057.69 1536.63 Q1053.2 1536.63 1050.56 1539.68 Q1047.92 1542.71 1047.92 1547.9 L1047.92 1568.04 L1042.03 1568.04 L1042.03 1532.4 L1047.92 1532.4 L1047.92 1537.93 Q1049.92 1534.66 1052.73 1533.1 Q1055.53 1531.54 1059.38 1531.54 Q1063.26 1531.54 1065.97 1533.51 Q1068.7 1535.48 1070.01 1539.24 Z\" fill=\"#000000\" fill-rule=\"nonzero\" fill-opacity=\"1\" /><path clip-path=\"url(#clip050)\" d=\"M1111.42 1562.7 L1111.42 1581.6 L1105.53 1581.6 L1105.53 1532.4 L1111.42 1532.4 L1111.42 1537.81 Q1113.26 1534.62 1116.06 1533.1 Q1118.9 1531.54 1122.81 1531.54 Q1129.31 1531.54 1133.35 1536.69 Q1137.42 1541.85 1137.42 1550.25 Q1137.42 1558.65 1133.35 1563.81 Q1129.31 1568.97 1122.81 1568.97 Q1118.9 1568.97 1116.06 1567.44 Q1113.26 1565.88 1111.42 1562.7 M1131.34 1550.25 Q1131.34 1543.79 1128.67 1540.13 Q1126.03 1536.44 1121.38 1536.44 Q1116.73 1536.44 1114.06 1540.13 Q1111.42 1543.79 1111.42 1550.25 Q1111.42 1556.71 1114.06 1560.4 Q1116.73 1564.07 1121.38 1564.07 Q1126.03 1564.07 1128.67 1560.4 Q1131.34 1556.71 1131.34 1550.25 Z\" fill=\"#000000\" fill-rule=\"nonzero\" fill-opacity=\"1\" /><path clip-path=\"url(#clip050)\" d=\"M1160.94 1536.5 Q1156.23 1536.5 1153.49 1540.19 Q1150.76 1543.85 1150.76 1550.25 Q1150.76 1556.65 1153.46 1560.34 Q1156.2 1564 1160.94 1564 Q1165.62 1564 1168.36 1560.31 Q1171.1 1556.62 1171.1 1550.25 Q1171.1 1543.92 1168.36 1540.23 Q1165.62 1536.5 1160.94 1536.5 M1160.94 1531.54 Q1168.58 1531.54 1172.94 1536.5 Q1177.3 1541.47 1177.3 1550.25 Q1177.3 1559 1172.94 1564 Q1168.58 1568.97 1160.94 1568.97 Q1153.27 1568.97 1148.91 1564 Q1144.58 1559 1144.58 1550.25 Q1144.58 1541.47 1148.91 1536.5 Q1153.27 1531.54 1160.94 1531.54 Z\" fill=\"#000000\" fill-rule=\"nonzero\" fill-opacity=\"1\" /><path clip-path=\"url(#clip050)\" d=\"M1209.74 1533.45 L1209.74 1538.98 Q1207.25 1537.71 1204.58 1537.07 Q1201.91 1536.44 1199.04 1536.44 Q1194.68 1536.44 1192.48 1537.77 Q1190.32 1539.11 1190.32 1541.79 Q1190.32 1543.82 1191.88 1545 Q1193.44 1546.15 1198.15 1547.2 L1200.16 1547.64 Q1206.39 1548.98 1209 1551.43 Q1211.65 1553.85 1211.65 1558.21 Q1211.65 1563.17 1207.7 1566.07 Q1203.78 1568.97 1196.91 1568.97 Q1194.04 1568.97 1190.93 1568.39 Q1187.84 1567.85 1184.4 1566.74 L1184.4 1560.69 Q1187.65 1562.38 1190.8 1563.24 Q1193.95 1564.07 1197.04 1564.07 Q1201.17 1564.07 1203.4 1562.66 Q1205.63 1561.23 1205.63 1558.65 Q1205.63 1556.27 1204.01 1554.99 Q1202.42 1553.72 1196.97 1552.54 L1194.94 1552.07 Q1189.49 1550.92 1187.07 1548.56 Q1184.66 1546.18 1184.66 1542.04 Q1184.66 1537.01 1188.22 1534.27 Q1191.78 1531.54 1198.34 1531.54 Q1201.59 1531.54 1204.45 1532.01 Q1207.32 1532.49 1209.74 1533.45 Z\" fill=\"#000000\" fill-rule=\"nonzero\" fill-opacity=\"1\" /><path clip-path=\"url(#clip050)\" d=\"M1220.97 1532.4 L1226.83 1532.4 L1226.83 1568.04 L1220.97 1568.04 L1220.97 1532.4 M1220.97 1518.52 L1226.83 1518.52 L1226.83 1525.93 L1220.97 1525.93 L1220.97 1518.52 Z\" fill=\"#000000\" fill-rule=\"nonzero\" fill-opacity=\"1\" /><path clip-path=\"url(#clip050)\" d=\"M1244.87 1522.27 L1244.87 1532.4 L1256.94 1532.4 L1256.94 1536.95 L1244.87 1536.95 L1244.87 1556.3 Q1244.87 1560.66 1246.05 1561.9 Q1247.26 1563.14 1250.92 1563.14 L1256.94 1563.14 L1256.94 1568.04 L1250.92 1568.04 Q1244.14 1568.04 1241.56 1565.53 Q1238.99 1562.98 1238.99 1556.3 L1238.99 1536.95 L1234.69 1536.95 L1234.69 1532.4 L1238.99 1532.4 L1238.99 1522.27 L1244.87 1522.27 Z\" fill=\"#000000\" fill-rule=\"nonzero\" fill-opacity=\"1\" /><path clip-path=\"url(#clip050)\" d=\"M1295.13 1548.76 L1295.13 1551.62 L1268.2 1551.62 Q1268.59 1557.67 1271.83 1560.85 Q1275.11 1564 1280.94 1564 Q1284.31 1564 1287.46 1563.17 Q1290.64 1562.35 1293.76 1560.69 L1293.76 1566.23 Q1290.61 1567.57 1287.3 1568.27 Q1283.99 1568.97 1280.59 1568.97 Q1272.06 1568.97 1267.06 1564 Q1262.09 1559.04 1262.09 1550.57 Q1262.09 1541.82 1266.8 1536.69 Q1271.55 1531.54 1279.57 1531.54 Q1286.76 1531.54 1290.93 1536.18 Q1295.13 1540.8 1295.13 1548.76 M1289.28 1547.04 Q1289.21 1542.23 1286.57 1539.37 Q1283.96 1536.5 1279.63 1536.5 Q1274.73 1536.5 1271.77 1539.27 Q1268.84 1542.04 1268.4 1547.07 L1289.28 1547.04 Z\" fill=\"#000000\" fill-rule=\"nonzero\" fill-opacity=\"1\" /><path clip-path=\"url(#clip050)\" d=\"M1343.51 1518.52 L1343.51 1523.39 L1337.91 1523.39 Q1334.76 1523.39 1333.52 1524.66 Q1332.31 1525.93 1332.31 1529.24 L1332.31 1532.4 L1341.95 1532.4 L1341.95 1536.95 L1332.31 1536.95 L1332.31 1568.04 L1326.42 1568.04 L1326.42 1536.95 L1320.82 1536.95 L1320.82 1532.4 L1326.42 1532.4 L1326.42 1529.91 Q1326.42 1523.96 1329.19 1521.26 Q1331.96 1518.52 1337.97 1518.52 L1343.51 1518.52 Z\" fill=\"#000000\" fill-rule=\"nonzero\" fill-opacity=\"1\" /><path clip-path=\"url(#clip050)\" d=\"M1378.9 1548.76 L1378.9 1551.62 L1351.98 1551.62 Q1352.36 1557.67 1355.61 1560.85 Q1358.88 1564 1364.71 1564 Q1368.08 1564 1371.23 1563.17 Q1374.42 1562.35 1377.54 1560.69 L1377.54 1566.23 Q1374.38 1567.57 1371.07 1568.27 Q1367.76 1568.97 1364.36 1568.97 Q1355.83 1568.97 1350.83 1564 Q1345.87 1559.04 1345.87 1550.57 Q1345.87 1541.82 1350.58 1536.69 Q1355.32 1531.54 1363.34 1531.54 Q1370.53 1531.54 1374.7 1536.18 Q1378.9 1540.8 1378.9 1548.76 M1373.05 1547.04 Q1372.98 1542.23 1370.34 1539.37 Q1367.73 1536.5 1363.4 1536.5 Q1358.5 1536.5 1355.54 1539.27 Q1352.61 1542.04 1352.17 1547.07 L1373.05 1547.04 Z\" fill=\"#000000\" fill-rule=\"nonzero\" fill-opacity=\"1\" /><path clip-path=\"url(#clip050)\" d=\"M1404.72 1550.12 Q1397.62 1550.12 1394.88 1551.75 Q1392.15 1553.37 1392.15 1557.29 Q1392.15 1560.4 1394.18 1562.25 Q1396.25 1564.07 1399.78 1564.07 Q1404.65 1564.07 1407.58 1560.63 Q1410.54 1557.16 1410.54 1551.43 L1410.54 1550.12 L1404.72 1550.12 M1416.4 1547.71 L1416.4 1568.04 L1410.54 1568.04 L1410.54 1562.63 Q1408.54 1565.88 1405.55 1567.44 Q1402.55 1568.97 1398.22 1568.97 Q1392.75 1568.97 1389.5 1565.91 Q1386.29 1562.82 1386.29 1557.67 Q1386.29 1551.65 1390.3 1548.6 Q1394.34 1545.54 1402.33 1545.54 L1410.54 1545.54 L1410.54 1544.97 Q1410.54 1540.93 1407.87 1538.73 Q1405.23 1536.5 1400.42 1536.5 Q1397.37 1536.5 1394.47 1537.23 Q1391.57 1537.97 1388.9 1539.43 L1388.9 1534.02 Q1392.11 1532.78 1395.14 1532.17 Q1398.16 1531.54 1401.03 1531.54 Q1408.76 1531.54 1412.58 1535.55 Q1416.4 1539.56 1416.4 1547.71 Z\" fill=\"#000000\" fill-rule=\"nonzero\" fill-opacity=\"1\" /><path clip-path=\"url(#clip050)\" d=\"M1434.25 1522.27 L1434.25 1532.4 L1446.32 1532.4 L1446.32 1536.95 L1434.25 1536.95 L1434.25 1556.3 Q1434.25 1560.66 1435.43 1561.9 Q1436.64 1563.14 1440.3 1563.14 L1446.32 1563.14 L1446.32 1568.04 L1440.3 1568.04 Q1433.52 1568.04 1430.94 1565.53 Q1428.37 1562.98 1428.37 1556.3 L1428.37 1536.95 L1424.07 1536.95 L1424.07 1532.4 L1428.37 1532.4 L1428.37 1522.27 L1434.25 1522.27 Z\" fill=\"#000000\" fill-rule=\"nonzero\" fill-opacity=\"1\" /><path clip-path=\"url(#clip050)\" d=\"M1453.42 1553.98 L1453.42 1532.4 L1459.27 1532.4 L1459.27 1553.75 Q1459.27 1558.81 1461.25 1561.36 Q1463.22 1563.87 1467.17 1563.87 Q1471.91 1563.87 1474.64 1560.85 Q1477.41 1557.83 1477.41 1552.61 L1477.41 1532.4 L1483.27 1532.4 L1483.27 1568.04 L1477.41 1568.04 L1477.41 1562.57 Q1475.28 1565.82 1472.45 1567.41 Q1469.65 1568.97 1465.92 1568.97 Q1459.78 1568.97 1456.6 1565.15 Q1453.42 1561.33 1453.42 1553.98 M1468.15 1531.54 L1468.15 1531.54 Z\" fill=\"#000000\" fill-rule=\"nonzero\" fill-opacity=\"1\" /><path clip-path=\"url(#clip050)\" d=\"M1515.99 1537.87 Q1515 1537.3 1513.83 1537.04 Q1512.68 1536.76 1511.28 1536.76 Q1506.31 1536.76 1503.64 1540 Q1501 1543.22 1501 1549.27 L1501 1568.04 L1495.11 1568.04 L1495.11 1532.4 L1501 1532.4 L1501 1537.93 Q1502.84 1534.69 1505.8 1533.13 Q1508.77 1531.54 1513 1531.54 Q1513.6 1531.54 1514.34 1531.63 Q1515.07 1531.7 1515.96 1531.85 L1515.99 1537.87 Z\" fill=\"#000000\" fill-rule=\"nonzero\" fill-opacity=\"1\" /><path clip-path=\"url(#clip050)\" d=\"M1551.19 1548.76 L1551.19 1551.62 L1524.27 1551.62 Q1524.65 1557.67 1527.89 1560.85 Q1531.17 1564 1537 1564 Q1540.37 1564 1543.52 1563.17 Q1546.7 1562.35 1549.82 1560.69 L1549.82 1566.23 Q1546.67 1567.57 1543.36 1568.27 Q1540.05 1568.97 1536.65 1568.97 Q1528.12 1568.97 1523.12 1564 Q1518.15 1559.04 1518.15 1550.57 Q1518.15 1541.82 1522.87 1536.69 Q1527.61 1531.54 1535.63 1531.54 Q1542.82 1531.54 1546.99 1536.18 Q1551.19 1540.8 1551.19 1548.76 M1545.34 1547.04 Q1545.27 1542.23 1542.63 1539.37 Q1540.02 1536.5 1535.69 1536.5 Q1530.79 1536.5 1527.83 1539.27 Q1524.9 1542.04 1524.46 1547.07 L1545.34 1547.04 Z\" fill=\"#000000\" fill-rule=\"nonzero\" fill-opacity=\"1\" /><path clip-path=\"url(#clip050)\" d=\"M1583.47 1562.63 L1593.97 1562.63 L1593.97 1526.38 L1582.54 1528.67 L1582.54 1522.82 L1593.91 1520.52 L1600.34 1520.52 L1600.34 1562.63 L1610.84 1562.63 L1610.84 1568.04 L1583.47 1568.04 L1583.47 1562.63 Z\" fill=\"#000000\" fill-rule=\"nonzero\" fill-opacity=\"1\" /><polyline clip-path=\"url(#clip050)\" style=\"stroke:#000000; stroke-linecap:round; stroke-linejoin:round; stroke-width:4; stroke-opacity:1; fill:none\" points=\"212.459,1423.18 212.459,47.2441 \"/>\n",
       "<polyline clip-path=\"url(#clip050)\" style=\"stroke:#000000; stroke-linecap:round; stroke-linejoin:round; stroke-width:4; stroke-opacity:1; fill:none\" points=\"212.459,1290.44 231.357,1290.44 \"/>\n",
       "<polyline clip-path=\"url(#clip050)\" style=\"stroke:#000000; stroke-linecap:round; stroke-linejoin:round; stroke-width:4; stroke-opacity:1; fill:none\" points=\"212.459,1110.03 231.357,1110.03 \"/>\n",
       "<polyline clip-path=\"url(#clip050)\" style=\"stroke:#000000; stroke-linecap:round; stroke-linejoin:round; stroke-width:4; stroke-opacity:1; fill:none\" points=\"212.459,929.617 231.357,929.617 \"/>\n",
       "<polyline clip-path=\"url(#clip050)\" style=\"stroke:#000000; stroke-linecap:round; stroke-linejoin:round; stroke-width:4; stroke-opacity:1; fill:none\" points=\"212.459,749.204 231.357,749.204 \"/>\n",
       "<polyline clip-path=\"url(#clip050)\" style=\"stroke:#000000; stroke-linecap:round; stroke-linejoin:round; stroke-width:4; stroke-opacity:1; fill:none\" points=\"212.459,568.792 231.357,568.792 \"/>\n",
       "<polyline clip-path=\"url(#clip050)\" style=\"stroke:#000000; stroke-linecap:round; stroke-linejoin:round; stroke-width:4; stroke-opacity:1; fill:none\" points=\"212.459,388.38 231.357,388.38 \"/>\n",
       "<polyline clip-path=\"url(#clip050)\" style=\"stroke:#000000; stroke-linecap:round; stroke-linejoin:round; stroke-width:4; stroke-opacity:1; fill:none\" points=\"212.459,207.968 231.357,207.968 \"/>\n",
       "<path clip-path=\"url(#clip050)\" d=\"M114.584 1290.89 L144.26 1290.89 L144.26 1294.83 L114.584 1294.83 L114.584 1290.89 Z\" fill=\"#000000\" fill-rule=\"nonzero\" fill-opacity=\"1\" /><path clip-path=\"url(#clip050)\" d=\"M164.931 1288.58 Q161.783 1288.58 159.931 1290.73 Q158.103 1292.88 158.103 1296.63 Q158.103 1300.36 159.931 1302.54 Q161.783 1304.69 164.931 1304.69 Q168.079 1304.69 169.908 1302.54 Q171.76 1300.36 171.76 1296.63 Q171.76 1292.88 169.908 1290.73 Q168.079 1288.58 164.931 1288.58 M174.214 1273.93 L174.214 1278.18 Q172.454 1277.35 170.649 1276.91 Q168.866 1276.47 167.107 1276.47 Q162.477 1276.47 160.024 1279.6 Q157.593 1282.72 157.246 1289.04 Q158.612 1287.03 160.672 1285.96 Q162.732 1284.87 165.209 1284.87 Q170.417 1284.87 173.427 1288.05 Q176.459 1291.19 176.459 1296.63 Q176.459 1301.96 173.311 1305.18 Q170.163 1308.39 164.931 1308.39 Q158.936 1308.39 155.765 1303.81 Q152.593 1299.2 152.593 1290.48 Q152.593 1282.28 156.482 1277.42 Q160.371 1272.54 166.922 1272.54 Q168.681 1272.54 170.464 1272.88 Q172.269 1273.23 174.214 1273.93 Z\" fill=\"#000000\" fill-rule=\"nonzero\" fill-opacity=\"1\" /><path clip-path=\"url(#clip050)\" d=\"M114.26 1110.48 L143.936 1110.48 L143.936 1114.42 L114.26 1114.42 L114.26 1110.48 Z\" fill=\"#000000\" fill-rule=\"nonzero\" fill-opacity=\"1\" /><path clip-path=\"url(#clip050)\" d=\"M166.876 1096.82 L155.07 1115.27 L166.876 1115.27 L166.876 1096.82 M165.649 1092.75 L171.528 1092.75 L171.528 1115.27 L176.459 1115.27 L176.459 1119.16 L171.528 1119.16 L171.528 1127.31 L166.876 1127.31 L166.876 1119.16 L151.274 1119.16 L151.274 1114.65 L165.649 1092.75 Z\" fill=\"#000000\" fill-rule=\"nonzero\" fill-opacity=\"1\" /><path clip-path=\"url(#clip050)\" d=\"M116.343 930.068 L146.019 930.068 L146.019 934.003 L116.343 934.003 L116.343 930.068 Z\" fill=\"#000000\" fill-rule=\"nonzero\" fill-opacity=\"1\" /><path clip-path=\"url(#clip050)\" d=\"M160.14 942.962 L176.459 942.962 L176.459 946.897 L154.515 946.897 L154.515 942.962 Q157.177 940.207 161.76 935.577 Q166.366 930.925 167.547 929.582 Q169.792 927.059 170.672 925.323 Q171.575 923.564 171.575 921.874 Q171.575 919.119 169.63 917.383 Q167.709 915.647 164.607 915.647 Q162.408 915.647 159.954 916.411 Q157.524 917.175 154.746 918.726 L154.746 914.003 Q157.57 912.869 160.024 912.29 Q162.477 911.712 164.515 911.712 Q169.885 911.712 173.079 914.397 Q176.274 917.082 176.274 921.573 Q176.274 923.702 175.464 925.624 Q174.677 927.522 172.57 930.114 Q171.991 930.786 168.889 934.003 Q165.788 937.198 160.14 942.962 Z\" fill=\"#000000\" fill-rule=\"nonzero\" fill-opacity=\"1\" /><path clip-path=\"url(#clip050)\" d=\"M164.515 735.003 Q160.903 735.003 159.075 738.568 Q157.269 742.11 157.269 749.239 Q157.269 756.346 159.075 759.91 Q160.903 763.452 164.515 763.452 Q168.149 763.452 169.954 759.91 Q171.783 756.346 171.783 749.239 Q171.783 742.11 169.954 738.568 Q168.149 735.003 164.515 735.003 M164.515 731.299 Q170.325 731.299 173.38 735.906 Q176.459 740.489 176.459 749.239 Q176.459 757.966 173.38 762.572 Q170.325 767.156 164.515 767.156 Q158.704 767.156 155.626 762.572 Q152.57 757.966 152.57 749.239 Q152.57 740.489 155.626 735.906 Q158.704 731.299 164.515 731.299 Z\" fill=\"#000000\" fill-rule=\"nonzero\" fill-opacity=\"1\" /><path clip-path=\"url(#clip050)\" d=\"M160.14 582.137 L176.459 582.137 L176.459 586.072 L154.515 586.072 L154.515 582.137 Q157.177 579.382 161.76 574.753 Q166.366 570.1 167.547 568.757 Q169.792 566.234 170.672 564.498 Q171.575 562.739 171.575 561.049 Q171.575 558.295 169.63 556.558 Q167.709 554.822 164.607 554.822 Q162.408 554.822 159.954 555.586 Q157.524 556.35 154.746 557.901 L154.746 553.179 Q157.57 552.045 160.024 551.466 Q162.477 550.887 164.515 550.887 Q169.885 550.887 173.079 553.572 Q176.274 556.258 176.274 560.748 Q176.274 562.878 175.464 564.799 Q174.677 566.697 172.57 569.29 Q171.991 569.961 168.889 573.179 Q165.788 576.373 160.14 582.137 Z\" fill=\"#000000\" fill-rule=\"nonzero\" fill-opacity=\"1\" /><path clip-path=\"url(#clip050)\" d=\"M166.876 375.174 L155.07 393.623 L166.876 393.623 L166.876 375.174 M165.649 371.1 L171.528 371.1 L171.528 393.623 L176.459 393.623 L176.459 397.512 L171.528 397.512 L171.528 405.66 L166.876 405.66 L166.876 397.512 L151.274 397.512 L151.274 392.998 L165.649 371.1 Z\" fill=\"#000000\" fill-rule=\"nonzero\" fill-opacity=\"1\" /><path clip-path=\"url(#clip050)\" d=\"M164.931 206.104 Q161.783 206.104 159.931 208.257 Q158.103 210.41 158.103 214.16 Q158.103 217.886 159.931 220.062 Q161.783 222.215 164.931 222.215 Q168.079 222.215 169.908 220.062 Q171.76 217.886 171.76 214.16 Q171.76 210.41 169.908 208.257 Q168.079 206.104 164.931 206.104 M174.214 191.451 L174.214 195.711 Q172.454 194.877 170.649 194.438 Q168.866 193.998 167.107 193.998 Q162.477 193.998 160.024 197.123 Q157.593 200.248 157.246 206.567 Q158.612 204.553 160.672 203.488 Q162.732 202.4 165.209 202.4 Q170.417 202.4 173.427 205.572 Q176.459 208.72 176.459 214.16 Q176.459 219.484 173.311 222.701 Q170.163 225.919 164.931 225.919 Q158.936 225.919 155.765 221.336 Q152.593 216.729 152.593 208.002 Q152.593 199.808 156.482 194.947 Q160.371 190.063 166.922 190.063 Q168.681 190.063 170.464 190.41 Q172.269 190.757 174.214 191.451 Z\" fill=\"#000000\" fill-rule=\"nonzero\" fill-opacity=\"1\" /><path clip-path=\"url(#clip050)\" d=\"M20.1444 1024.87 L26.9239 1024.87 Q23.9002 1028.11 22.4043 1031.81 Q20.9083 1035.47 20.9083 1039.6 Q20.9083 1047.75 25.9054 1052.08 Q30.8707 1056.41 40.2919 1056.41 Q49.6813 1056.41 54.6784 1052.08 Q59.6436 1047.75 59.6436 1039.6 Q59.6436 1035.47 58.1477 1031.81 Q56.6518 1028.11 53.6281 1024.87 L60.3439 1024.87 Q62.6355 1028.24 63.7814 1032.03 Q64.9272 1035.78 64.9272 1039.99 Q64.9272 1050.78 58.3387 1056.98 Q51.7183 1063.19 40.2919 1063.19 Q28.8336 1063.19 22.2451 1056.98 Q15.6248 1050.78 15.6248 1039.99 Q15.6248 1035.72 16.7706 1031.97 Q17.8846 1028.18 20.1444 1024.87 Z\" fill=\"#000000\" fill-rule=\"nonzero\" fill-opacity=\"1\" /><path clip-path=\"url(#clip050)\" d=\"M32.4621 1001.38 Q32.4621 1006.09 36.1542 1008.83 Q39.8145 1011.56 46.212 1011.56 Q52.6095 1011.56 56.3017 1008.86 Q59.9619 1006.12 59.9619 1001.38 Q59.9619 996.699 56.2698 993.962 Q52.5777 991.225 46.212 991.225 Q39.8781 991.225 36.186 993.962 Q32.4621 996.699 32.4621 1001.38 M27.4968 1001.38 Q27.4968 993.739 32.4621 989.379 Q37.4273 985.018 46.212 985.018 Q54.9649 985.018 59.9619 989.379 Q64.9272 993.739 64.9272 1001.38 Q64.9272 1009.05 59.9619 1013.41 Q54.9649 1017.74 46.212 1017.74 Q37.4273 1017.74 32.4621 1013.41 Q27.4968 1009.05 27.4968 1001.38 Z\" fill=\"#000000\" fill-rule=\"nonzero\" fill-opacity=\"1\" /><path clip-path=\"url(#clip050)\" d=\"M35.1993 947.556 Q31.2526 945.36 29.3747 942.304 Q27.4968 939.249 27.4968 935.111 Q27.4968 929.541 31.4117 926.517 Q35.2948 923.494 42.4881 923.494 L64.0042 923.494 L64.0042 929.382 L42.679 929.382 Q37.5546 929.382 35.072 931.196 Q32.5894 933.01 32.5894 936.734 Q32.5894 941.286 35.6131 943.928 Q38.6368 946.569 43.8567 946.569 L64.0042 946.569 L64.0042 952.458 L42.679 952.458 Q37.5228 952.458 35.072 954.272 Q32.5894 956.086 32.5894 959.874 Q32.5894 964.361 35.6449 967.003 Q38.6686 969.645 43.8567 969.645 L64.0042 969.645 L64.0042 975.533 L28.3562 975.533 L28.3562 969.645 L33.8944 969.645 Q30.616 967.64 29.0564 964.839 Q27.4968 962.038 27.4968 958.187 Q27.4968 954.304 29.4702 951.598 Q31.4436 948.861 35.1993 947.556 Z\" fill=\"#000000\" fill-rule=\"nonzero\" fill-opacity=\"1\" /><path clip-path=\"url(#clip050)\" d=\"M58.657 906.147 L77.5631 906.147 L77.5631 912.035 L28.3562 912.035 L28.3562 906.147 L33.7671 906.147 Q30.5842 904.301 29.0564 901.5 Q27.4968 898.667 27.4968 894.752 Q27.4968 888.259 32.6531 884.217 Q37.8093 880.143 46.212 880.143 Q54.6147 880.143 59.771 884.217 Q64.9272 888.259 64.9272 894.752 Q64.9272 898.667 63.3994 901.5 Q61.8398 904.301 58.657 906.147 M46.212 886.222 Q39.7508 886.222 36.0905 888.896 Q32.3984 891.538 32.3984 896.185 Q32.3984 900.832 36.0905 903.505 Q39.7508 906.147 46.212 906.147 Q52.6732 906.147 56.3653 903.505 Q60.0256 900.832 60.0256 896.185 Q60.0256 891.538 56.3653 888.896 Q52.6732 886.222 46.212 886.222 Z\" fill=\"#000000\" fill-rule=\"nonzero\" fill-opacity=\"1\" /><path clip-path=\"url(#clip050)\" d=\"M32.4621 856.622 Q32.4621 861.333 36.1542 864.07 Q39.8145 866.807 46.212 866.807 Q52.6095 866.807 56.3017 864.102 Q59.9619 861.364 59.9619 856.622 Q59.9619 851.943 56.2698 849.206 Q52.5777 846.469 46.212 846.469 Q39.8781 846.469 36.186 849.206 Q32.4621 851.943 32.4621 856.622 M27.4968 856.622 Q27.4968 848.983 32.4621 844.623 Q37.4273 840.262 46.212 840.262 Q54.9649 840.262 59.9619 844.623 Q64.9272 848.983 64.9272 856.622 Q64.9272 864.293 59.9619 868.653 Q54.9649 872.982 46.212 872.982 Q37.4273 872.982 32.4621 868.653 Q27.4968 864.293 27.4968 856.622 Z\" fill=\"#000000\" fill-rule=\"nonzero\" fill-opacity=\"1\" /><path clip-path=\"url(#clip050)\" d=\"M29.4065 807.829 L34.9447 807.829 Q33.6716 810.311 33.035 812.985 Q32.3984 815.659 32.3984 818.523 Q32.3984 822.884 33.7352 825.08 Q35.072 827.244 37.7456 827.244 Q39.7826 827.244 40.9603 825.685 Q42.1061 824.125 43.1565 819.414 L43.6021 817.409 Q44.9389 811.171 47.3897 808.561 Q49.8086 805.919 54.1691 805.919 Q59.1344 805.919 62.0308 809.866 Q64.9272 813.781 64.9272 820.656 Q64.9272 823.52 64.3543 826.639 Q63.8132 829.727 62.6992 833.164 L56.6518 833.164 Q58.3387 829.918 59.198 826.767 Q60.0256 823.616 60.0256 820.528 Q60.0256 816.391 58.6251 814.163 Q57.1929 811.935 54.6147 811.935 Q52.2276 811.935 50.9545 813.558 Q49.6813 815.149 48.5037 820.592 L48.0262 822.629 Q46.8804 828.072 44.5251 830.491 Q42.138 832.91 38.0002 832.91 Q32.9713 832.91 30.2341 829.345 Q27.4968 825.78 27.4968 819.223 Q27.4968 815.977 27.9743 813.112 Q28.4517 810.248 29.4065 807.829 Z\" fill=\"#000000\" fill-rule=\"nonzero\" fill-opacity=\"1\" /><path clip-path=\"url(#clip050)\" d=\"M28.3562 796.593 L28.3562 790.737 L64.0042 790.737 L64.0042 796.593 L28.3562 796.593 M14.479 796.593 L14.479 790.737 L21.895 790.737 L21.895 796.593 L14.479 796.593 Z\" fill=\"#000000\" fill-rule=\"nonzero\" fill-opacity=\"1\" /><path clip-path=\"url(#clip050)\" d=\"M18.2347 772.69 L28.3562 772.69 L28.3562 760.627 L32.9077 760.627 L32.9077 772.69 L52.2594 772.69 Q56.6199 772.69 57.8613 771.512 Q59.1026 770.303 59.1026 766.643 L59.1026 760.627 L64.0042 760.627 L64.0042 766.643 Q64.0042 773.422 61.4897 776 Q58.9434 778.578 52.2594 778.578 L32.9077 778.578 L32.9077 782.875 L28.3562 782.875 L28.3562 778.578 L18.2347 778.578 L18.2347 772.69 Z\" fill=\"#000000\" fill-rule=\"nonzero\" fill-opacity=\"1\" /><path clip-path=\"url(#clip050)\" d=\"M44.7161 722.433 L47.5806 722.433 L47.5806 749.36 Q53.6281 748.978 56.8109 745.731 Q59.9619 742.453 59.9619 736.628 Q59.9619 733.255 59.1344 730.103 Q58.3069 726.921 56.6518 723.801 L62.1899 723.801 Q63.5267 726.952 64.227 730.263 Q64.9272 733.573 64.9272 736.978 Q64.9272 745.508 59.9619 750.506 Q54.9967 755.471 46.5303 755.471 Q37.7774 755.471 32.6531 750.76 Q27.4968 746.018 27.4968 737.997 Q27.4968 730.804 32.1438 726.634 Q36.7589 722.433 44.7161 722.433 M42.9973 728.289 Q38.1912 728.353 35.3266 730.995 Q32.4621 733.605 32.4621 737.933 Q32.4621 742.835 35.2312 745.795 Q38.0002 748.723 43.0292 749.169 L42.9973 728.289 Z\" fill=\"#000000\" fill-rule=\"nonzero\" fill-opacity=\"1\" /><path clip-path=\"url(#clip050)\" d=\"M14.479 674.053 L19.3487 674.053 L19.3487 679.655 Q19.3487 682.806 20.6219 684.048 Q21.895 685.257 25.2052 685.257 L28.3562 685.257 L28.3562 675.613 L32.9077 675.613 L32.9077 685.257 L64.0042 685.257 L64.0042 691.145 L32.9077 691.145 L32.9077 696.747 L28.3562 696.747 L28.3562 691.145 L25.8736 691.145 Q19.9216 691.145 17.2162 688.376 Q14.479 685.607 14.479 679.592 L14.479 674.053 Z\" fill=\"#000000\" fill-rule=\"nonzero\" fill-opacity=\"1\" /><path clip-path=\"url(#clip050)\" d=\"M44.7161 638.66 L47.5806 638.66 L47.5806 665.587 Q53.6281 665.205 56.8109 661.959 Q59.9619 658.68 59.9619 652.856 Q59.9619 649.482 59.1344 646.331 Q58.3069 643.148 56.6518 640.029 L62.1899 640.029 Q63.5267 643.18 64.227 646.49 Q64.9272 649.8 64.9272 653.206 Q64.9272 661.736 59.9619 666.733 Q54.9967 671.698 46.5303 671.698 Q37.7774 671.698 32.6531 666.988 Q27.4968 662.245 27.4968 654.224 Q27.4968 647.031 32.1438 642.861 Q36.7589 638.66 44.7161 638.66 M42.9973 644.517 Q38.1912 644.58 35.3266 647.222 Q32.4621 649.832 32.4621 654.161 Q32.4621 659.062 35.2312 662.022 Q38.0002 664.95 43.0292 665.396 L42.9973 644.517 Z\" fill=\"#000000\" fill-rule=\"nonzero\" fill-opacity=\"1\" /><path clip-path=\"url(#clip050)\" d=\"M46.0847 612.847 Q46.0847 619.945 47.7079 622.682 Q49.3312 625.419 53.2461 625.419 Q56.3653 625.419 58.2114 623.382 Q60.0256 621.314 60.0256 617.781 Q60.0256 612.911 56.5881 609.983 Q53.1188 607.023 47.3897 607.023 L46.0847 607.023 L46.0847 612.847 M43.6657 601.166 L64.0042 601.166 L64.0042 607.023 L58.5933 607.023 Q61.8398 609.028 63.3994 612.02 Q64.9272 615.012 64.9272 619.34 Q64.9272 624.815 61.8716 628.061 Q58.7843 631.276 53.6281 631.276 Q47.6125 631.276 44.5569 627.265 Q41.5014 623.223 41.5014 615.234 L41.5014 607.023 L40.9285 607.023 Q36.8862 607.023 34.6901 609.696 Q32.4621 612.338 32.4621 617.144 Q32.4621 620.2 33.1941 623.096 Q33.9262 625.992 35.3903 628.666 L29.9795 628.666 Q28.7381 625.451 28.1334 622.428 Q27.4968 619.404 27.4968 616.539 Q27.4968 608.805 31.5072 604.986 Q35.5176 601.166 43.6657 601.166 Z\" fill=\"#000000\" fill-rule=\"nonzero\" fill-opacity=\"1\" /><path clip-path=\"url(#clip050)\" d=\"M18.2347 583.31 L28.3562 583.31 L28.3562 571.247 L32.9077 571.247 L32.9077 583.31 L52.2594 583.31 Q56.6199 583.31 57.8613 582.133 Q59.1026 580.923 59.1026 577.263 L59.1026 571.247 L64.0042 571.247 L64.0042 577.263 Q64.0042 584.042 61.4897 586.62 Q58.9434 589.199 52.2594 589.199 L32.9077 589.199 L32.9077 593.495 L28.3562 593.495 L28.3562 589.199 L18.2347 589.199 L18.2347 583.31 Z\" fill=\"#000000\" fill-rule=\"nonzero\" fill-opacity=\"1\" /><path clip-path=\"url(#clip050)\" d=\"M49.9359 564.15 L28.3562 564.15 L28.3562 558.293 L49.7131 558.293 Q54.7739 558.293 57.3202 556.32 Q59.8346 554.346 59.8346 550.4 Q59.8346 545.657 56.8109 542.92 Q53.7872 540.151 48.5673 540.151 L28.3562 540.151 L28.3562 534.294 L64.0042 534.294 L64.0042 540.151 L58.5296 540.151 Q61.7762 542.283 63.3676 545.116 Q64.9272 547.917 64.9272 551.641 Q64.9272 557.784 61.1078 560.967 Q57.2883 564.15 49.9359 564.15 M27.4968 549.413 L27.4968 549.413 Z\" fill=\"#000000\" fill-rule=\"nonzero\" fill-opacity=\"1\" /><path clip-path=\"url(#clip050)\" d=\"M33.8307 501.575 Q33.2578 502.561 33.0032 503.739 Q32.7167 504.885 32.7167 506.285 Q32.7167 511.25 35.9632 513.924 Q39.1779 516.566 45.2253 516.566 L64.0042 516.566 L64.0042 522.454 L28.3562 522.454 L28.3562 516.566 L33.8944 516.566 Q30.6479 514.72 29.0883 511.76 Q27.4968 508.8 27.4968 504.567 Q27.4968 503.962 27.5923 503.23 Q27.656 502.498 27.8151 501.606 L33.8307 501.575 Z\" fill=\"#000000\" fill-rule=\"nonzero\" fill-opacity=\"1\" /><path clip-path=\"url(#clip050)\" d=\"M44.7161 466.372 L47.5806 466.372 L47.5806 493.299 Q53.6281 492.917 56.8109 489.671 Q59.9619 486.392 59.9619 480.568 Q59.9619 477.194 59.1344 474.043 Q58.3069 470.86 56.6518 467.741 L62.1899 467.741 Q63.5267 470.892 64.227 474.202 Q64.9272 477.512 64.9272 480.918 Q64.9272 489.448 59.9619 494.445 Q54.9967 499.41 46.5303 499.41 Q37.7774 499.41 32.6531 494.7 Q27.4968 489.957 27.4968 481.936 Q27.4968 474.743 32.1438 470.574 Q36.7589 466.372 44.7161 466.372 M42.9973 472.229 Q38.1912 472.292 35.3266 474.934 Q32.4621 477.544 32.4621 481.873 Q32.4621 486.774 35.2312 489.734 Q38.0002 492.663 43.0292 493.108 L42.9973 472.229 Z\" fill=\"#000000\" fill-rule=\"nonzero\" fill-opacity=\"1\" /><path clip-path=\"url(#clip050)\" d=\"M58.5933 429.674 L58.5933 407.235 L64.0042 407.235 L64.0042 437.408 L58.5933 437.408 Q54.8057 433.748 48.44 427.446 Q42.0425 421.112 40.1964 419.489 Q36.7271 416.401 34.34 415.192 Q31.921 413.951 29.5975 413.951 Q25.8099 413.951 23.4228 416.624 Q21.0356 419.266 21.0356 423.531 Q21.0356 426.555 22.086 429.929 Q23.1363 433.271 25.2688 437.09 L18.7758 437.09 Q17.2162 433.207 16.4205 429.833 Q15.6248 426.459 15.6248 423.658 Q15.6248 416.274 19.3169 411.882 Q23.009 407.489 29.1837 407.489 Q32.112 407.489 34.7537 408.603 Q37.3637 409.686 40.9285 412.582 Q41.8515 413.378 46.2757 417.643 Q50.668 421.908 58.5933 429.674 Z\" fill=\"#000000\" fill-rule=\"nonzero\" fill-opacity=\"1\" /><circle clip-path=\"url(#clip052)\" cx=\"1147.97\" cy=\"710.115\" r=\"14.4\" fill=\"#009af9\" fill-rule=\"evenodd\" fill-opacity=\"1\" stroke=\"#000000\" stroke-opacity=\"1\" stroke-width=\"3.2\"/>\n",
       "<circle clip-path=\"url(#clip052)\" cx=\"1121.14\" cy=\"733.031\" r=\"14.4\" fill=\"#009af9\" fill-rule=\"evenodd\" fill-opacity=\"1\" stroke=\"#000000\" stroke-opacity=\"1\" stroke-width=\"3.2\"/>\n",
       "<circle clip-path=\"url(#clip052)\" cx=\"1045.68\" cy=\"746.749\" r=\"14.4\" fill=\"#009af9\" fill-rule=\"evenodd\" fill-opacity=\"1\" stroke=\"#000000\" stroke-opacity=\"1\" stroke-width=\"3.2\"/>\n",
       "<circle clip-path=\"url(#clip052)\" cx=\"1062.64\" cy=\"738.285\" r=\"14.4\" fill=\"#009af9\" fill-rule=\"evenodd\" fill-opacity=\"1\" stroke=\"#000000\" stroke-opacity=\"1\" stroke-width=\"3.2\"/>\n",
       "<circle clip-path=\"url(#clip052)\" cx=\"1046.49\" cy=\"721.355\" r=\"14.4\" fill=\"#009af9\" fill-rule=\"evenodd\" fill-opacity=\"1\" stroke=\"#000000\" stroke-opacity=\"1\" stroke-width=\"3.2\"/>\n",
       "<circle clip-path=\"url(#clip052)\" cx=\"1129.96\" cy=\"739.336\" r=\"14.4\" fill=\"#009af9\" fill-rule=\"evenodd\" fill-opacity=\"1\" stroke=\"#000000\" stroke-opacity=\"1\" stroke-width=\"3.2\"/>\n",
       "<circle clip-path=\"url(#clip052)\" cx=\"316.614\" cy=\"86.1857\" r=\"14.4\" fill=\"#009af9\" fill-rule=\"evenodd\" fill-opacity=\"1\" stroke=\"#000000\" stroke-opacity=\"1\" stroke-width=\"3.2\"/>\n",
       "<circle clip-path=\"url(#clip052)\" cx=\"1141.24\" cy=\"748.378\" r=\"14.4\" fill=\"#009af9\" fill-rule=\"evenodd\" fill-opacity=\"1\" stroke=\"#000000\" stroke-opacity=\"1\" stroke-width=\"3.2\"/>\n",
       "<circle clip-path=\"url(#clip052)\" cx=\"2292.18\" cy=\"1286.78\" r=\"14.4\" fill=\"#009af9\" fill-rule=\"evenodd\" fill-opacity=\"1\" stroke=\"#000000\" stroke-opacity=\"1\" stroke-width=\"3.2\"/>\n",
       "<circle clip-path=\"url(#clip052)\" cx=\"613.675\" cy=\"771.54\" r=\"14.4\" fill=\"#009af9\" fill-rule=\"evenodd\" fill-opacity=\"1\" stroke=\"#000000\" stroke-opacity=\"1\" stroke-width=\"3.2\"/>\n",
       "<circle clip-path=\"url(#clip052)\" cx=\"1056.33\" cy=\"759.304\" r=\"14.4\" fill=\"#009af9\" fill-rule=\"evenodd\" fill-opacity=\"1\" stroke=\"#000000\" stroke-opacity=\"1\" stroke-width=\"3.2\"/>\n",
       "<circle clip-path=\"url(#clip052)\" cx=\"1126.98\" cy=\"734.98\" r=\"14.4\" fill=\"#009af9\" fill-rule=\"evenodd\" fill-opacity=\"1\" stroke=\"#000000\" stroke-opacity=\"1\" stroke-width=\"3.2\"/>\n",
       "<circle clip-path=\"url(#clip052)\" cx=\"1152.96\" cy=\"747.633\" r=\"14.4\" fill=\"#009af9\" fill-rule=\"evenodd\" fill-opacity=\"1\" stroke=\"#000000\" stroke-opacity=\"1\" stroke-width=\"3.2\"/>\n",
       "<circle clip-path=\"url(#clip052)\" cx=\"1155.97\" cy=\"778.771\" r=\"14.4\" fill=\"#009af9\" fill-rule=\"evenodd\" fill-opacity=\"1\" stroke=\"#000000\" stroke-opacity=\"1\" stroke-width=\"3.2\"/>\n",
       "<circle clip-path=\"url(#clip052)\" cx=\"1142.27\" cy=\"737.447\" r=\"14.4\" fill=\"#009af9\" fill-rule=\"evenodd\" fill-opacity=\"1\" stroke=\"#000000\" stroke-opacity=\"1\" stroke-width=\"3.2\"/>\n",
       "<circle clip-path=\"url(#clip052)\" cx=\"1059.06\" cy=\"783.479\" r=\"14.4\" fill=\"#009af9\" fill-rule=\"evenodd\" fill-opacity=\"1\" stroke=\"#000000\" stroke-opacity=\"1\" stroke-width=\"3.2\"/>\n",
       "<circle clip-path=\"url(#clip052)\" cx=\"1196.41\" cy=\"714.93\" r=\"14.4\" fill=\"#009af9\" fill-rule=\"evenodd\" fill-opacity=\"1\" stroke=\"#000000\" stroke-opacity=\"1\" stroke-width=\"3.2\"/>\n",
       "<circle clip-path=\"url(#clip052)\" cx=\"1297.79\" cy=\"879.294\" r=\"14.4\" fill=\"#009af9\" fill-rule=\"evenodd\" fill-opacity=\"1\" stroke=\"#000000\" stroke-opacity=\"1\" stroke-width=\"3.2\"/>\n",
       "<circle clip-path=\"url(#clip052)\" cx=\"957.683\" cy=\"619.115\" r=\"14.4\" fill=\"#009af9\" fill-rule=\"evenodd\" fill-opacity=\"1\" stroke=\"#000000\" stroke-opacity=\"1\" stroke-width=\"3.2\"/>\n",
       "<circle clip-path=\"url(#clip052)\" cx=\"1133.28\" cy=\"770.767\" r=\"14.4\" fill=\"#009af9\" fill-rule=\"evenodd\" fill-opacity=\"1\" stroke=\"#000000\" stroke-opacity=\"1\" stroke-width=\"3.2\"/>\n",
       "<circle clip-path=\"url(#clip052)\" cx=\"1203.54\" cy=\"740.227\" r=\"14.4\" fill=\"#009af9\" fill-rule=\"evenodd\" fill-opacity=\"1\" stroke=\"#000000\" stroke-opacity=\"1\" stroke-width=\"3.2\"/>\n",
       "<circle clip-path=\"url(#clip052)\" cx=\"1185.38\" cy=\"746.846\" r=\"14.4\" fill=\"#009af9\" fill-rule=\"evenodd\" fill-opacity=\"1\" stroke=\"#000000\" stroke-opacity=\"1\" stroke-width=\"3.2\"/>\n",
       "<circle clip-path=\"url(#clip052)\" cx=\"1131.42\" cy=\"767.343\" r=\"14.4\" fill=\"#009af9\" fill-rule=\"evenodd\" fill-opacity=\"1\" stroke=\"#000000\" stroke-opacity=\"1\" stroke-width=\"3.2\"/>\n",
       "<circle clip-path=\"url(#clip052)\" cx=\"1111.58\" cy=\"755.019\" r=\"14.4\" fill=\"#009af9\" fill-rule=\"evenodd\" fill-opacity=\"1\" stroke=\"#000000\" stroke-opacity=\"1\" stroke-width=\"3.2\"/>\n",
       "<circle clip-path=\"url(#clip052)\" cx=\"1151.11\" cy=\"728.689\" r=\"14.4\" fill=\"#009af9\" fill-rule=\"evenodd\" fill-opacity=\"1\" stroke=\"#000000\" stroke-opacity=\"1\" stroke-width=\"3.2\"/>\n",
       "<circle clip-path=\"url(#clip052)\" cx=\"1023.05\" cy=\"738.489\" r=\"14.4\" fill=\"#009af9\" fill-rule=\"evenodd\" fill-opacity=\"1\" stroke=\"#000000\" stroke-opacity=\"1\" stroke-width=\"3.2\"/>\n",
       "<circle clip-path=\"url(#clip052)\" cx=\"1220.88\" cy=\"706.785\" r=\"14.4\" fill=\"#009af9\" fill-rule=\"evenodd\" fill-opacity=\"1\" stroke=\"#000000\" stroke-opacity=\"1\" stroke-width=\"3.2\"/>\n",
       "<circle clip-path=\"url(#clip052)\" cx=\"955.093\" cy=\"751.152\" r=\"14.4\" fill=\"#009af9\" fill-rule=\"evenodd\" fill-opacity=\"1\" stroke=\"#000000\" stroke-opacity=\"1\" stroke-width=\"3.2\"/>\n",
       "<circle clip-path=\"url(#clip052)\" cx=\"1002.78\" cy=\"753.659\" r=\"14.4\" fill=\"#009af9\" fill-rule=\"evenodd\" fill-opacity=\"1\" stroke=\"#000000\" stroke-opacity=\"1\" stroke-width=\"3.2\"/>\n",
       "<circle clip-path=\"url(#clip052)\" cx=\"2174.24\" cy=\"1370.67\" r=\"14.4\" fill=\"#009af9\" fill-rule=\"evenodd\" fill-opacity=\"1\" stroke=\"#000000\" stroke-opacity=\"1\" stroke-width=\"3.2\"/>\n",
       "<circle clip-path=\"url(#clip052)\" cx=\"1261.93\" cy=\"738.778\" r=\"14.4\" fill=\"#009af9\" fill-rule=\"evenodd\" fill-opacity=\"1\" stroke=\"#000000\" stroke-opacity=\"1\" stroke-width=\"3.2\"/>\n",
       "<circle clip-path=\"url(#clip052)\" cx=\"1000.74\" cy=\"745.975\" r=\"14.4\" fill=\"#009af9\" fill-rule=\"evenodd\" fill-opacity=\"1\" stroke=\"#000000\" stroke-opacity=\"1\" stroke-width=\"3.2\"/>\n",
       "<circle clip-path=\"url(#clip052)\" cx=\"1172.29\" cy=\"735.034\" r=\"14.4\" fill=\"#009af9\" fill-rule=\"evenodd\" fill-opacity=\"1\" stroke=\"#000000\" stroke-opacity=\"1\" stroke-width=\"3.2\"/>\n",
       "<circle clip-path=\"url(#clip052)\" cx=\"1240.53\" cy=\"717.143\" r=\"14.4\" fill=\"#009af9\" fill-rule=\"evenodd\" fill-opacity=\"1\" stroke=\"#000000\" stroke-opacity=\"1\" stroke-width=\"3.2\"/>\n",
       "<circle clip-path=\"url(#clip052)\" cx=\"1147.32\" cy=\"745.183\" r=\"14.4\" fill=\"#009af9\" fill-rule=\"evenodd\" fill-opacity=\"1\" stroke=\"#000000\" stroke-opacity=\"1\" stroke-width=\"3.2\"/>\n",
       "<circle clip-path=\"url(#clip052)\" cx=\"544.452\" cy=\"745.041\" r=\"14.4\" fill=\"#009af9\" fill-rule=\"evenodd\" fill-opacity=\"1\" stroke=\"#000000\" stroke-opacity=\"1\" stroke-width=\"3.2\"/>\n",
       "<circle clip-path=\"url(#clip052)\" cx=\"1711.02\" cy=\"753.368\" r=\"14.4\" fill=\"#009af9\" fill-rule=\"evenodd\" fill-opacity=\"1\" stroke=\"#000000\" stroke-opacity=\"1\" stroke-width=\"3.2\"/>\n",
       "<circle clip-path=\"url(#clip052)\" cx=\"1114.5\" cy=\"739.804\" r=\"14.4\" fill=\"#009af9\" fill-rule=\"evenodd\" fill-opacity=\"1\" stroke=\"#000000\" stroke-opacity=\"1\" stroke-width=\"3.2\"/>\n",
       "<circle clip-path=\"url(#clip052)\" cx=\"1119.29\" cy=\"763.623\" r=\"14.4\" fill=\"#009af9\" fill-rule=\"evenodd\" fill-opacity=\"1\" stroke=\"#000000\" stroke-opacity=\"1\" stroke-width=\"3.2\"/>\n",
       "<circle clip-path=\"url(#clip052)\" cx=\"1013.19\" cy=\"742.434\" r=\"14.4\" fill=\"#009af9\" fill-rule=\"evenodd\" fill-opacity=\"1\" stroke=\"#000000\" stroke-opacity=\"1\" stroke-width=\"3.2\"/>\n",
       "<circle clip-path=\"url(#clip052)\" cx=\"1066.2\" cy=\"780.716\" r=\"14.4\" fill=\"#009af9\" fill-rule=\"evenodd\" fill-opacity=\"1\" stroke=\"#000000\" stroke-opacity=\"1\" stroke-width=\"3.2\"/>\n",
       "<circle clip-path=\"url(#clip052)\" cx=\"1122.26\" cy=\"753.425\" r=\"14.4\" fill=\"#009af9\" fill-rule=\"evenodd\" fill-opacity=\"1\" stroke=\"#000000\" stroke-opacity=\"1\" stroke-width=\"3.2\"/>\n",
       "<circle clip-path=\"url(#clip052)\" cx=\"1378.97\" cy=\"733.389\" r=\"14.4\" fill=\"#009af9\" fill-rule=\"evenodd\" fill-opacity=\"1\" stroke=\"#000000\" stroke-opacity=\"1\" stroke-width=\"3.2\"/>\n",
       "<circle clip-path=\"url(#clip052)\" cx=\"983.851\" cy=\"667.34\" r=\"14.4\" fill=\"#009af9\" fill-rule=\"evenodd\" fill-opacity=\"1\" stroke=\"#000000\" stroke-opacity=\"1\" stroke-width=\"3.2\"/>\n",
       "<circle clip-path=\"url(#clip052)\" cx=\"594.361\" cy=\"731.8\" r=\"14.4\" fill=\"#009af9\" fill-rule=\"evenodd\" fill-opacity=\"1\" stroke=\"#000000\" stroke-opacity=\"1\" stroke-width=\"3.2\"/>\n",
       "<circle clip-path=\"url(#clip052)\" cx=\"1097.49\" cy=\"766.618\" r=\"14.4\" fill=\"#009af9\" fill-rule=\"evenodd\" fill-opacity=\"1\" stroke=\"#000000\" stroke-opacity=\"1\" stroke-width=\"3.2\"/>\n",
       "<circle clip-path=\"url(#clip052)\" cx=\"1215.06\" cy=\"741.858\" r=\"14.4\" fill=\"#009af9\" fill-rule=\"evenodd\" fill-opacity=\"1\" stroke=\"#000000\" stroke-opacity=\"1\" stroke-width=\"3.2\"/>\n",
       "<circle clip-path=\"url(#clip052)\" cx=\"1104.2\" cy=\"736.907\" r=\"14.4\" fill=\"#009af9\" fill-rule=\"evenodd\" fill-opacity=\"1\" stroke=\"#000000\" stroke-opacity=\"1\" stroke-width=\"3.2\"/>\n",
       "<circle clip-path=\"url(#clip052)\" cx=\"1041.25\" cy=\"752.832\" r=\"14.4\" fill=\"#009af9\" fill-rule=\"evenodd\" fill-opacity=\"1\" stroke=\"#000000\" stroke-opacity=\"1\" stroke-width=\"3.2\"/>\n",
       "<circle clip-path=\"url(#clip052)\" cx=\"1108.35\" cy=\"764.948\" r=\"14.4\" fill=\"#009af9\" fill-rule=\"evenodd\" fill-opacity=\"1\" stroke=\"#000000\" stroke-opacity=\"1\" stroke-width=\"3.2\"/>\n",
       "<circle clip-path=\"url(#clip052)\" cx=\"1997.83\" cy=\"1384.24\" r=\"14.4\" fill=\"#009af9\" fill-rule=\"evenodd\" fill-opacity=\"1\" stroke=\"#000000\" stroke-opacity=\"1\" stroke-width=\"3.2\"/>\n",
       "<circle clip-path=\"url(#clip052)\" cx=\"1209.74\" cy=\"801.803\" r=\"14.4\" fill=\"#009af9\" fill-rule=\"evenodd\" fill-opacity=\"1\" stroke=\"#000000\" stroke-opacity=\"1\" stroke-width=\"3.2\"/>\n",
       "<circle clip-path=\"url(#clip052)\" cx=\"1079.68\" cy=\"749.584\" r=\"14.4\" fill=\"#009af9\" fill-rule=\"evenodd\" fill-opacity=\"1\" stroke=\"#000000\" stroke-opacity=\"1\" stroke-width=\"3.2\"/>\n",
       "<circle clip-path=\"url(#clip052)\" cx=\"1112.35\" cy=\"747.572\" r=\"14.4\" fill=\"#009af9\" fill-rule=\"evenodd\" fill-opacity=\"1\" stroke=\"#000000\" stroke-opacity=\"1\" stroke-width=\"3.2\"/>\n",
       "<circle clip-path=\"url(#clip052)\" cx=\"273.033\" cy=\"115.804\" r=\"14.4\" fill=\"#009af9\" fill-rule=\"evenodd\" fill-opacity=\"1\" stroke=\"#000000\" stroke-opacity=\"1\" stroke-width=\"3.2\"/>\n",
       "<circle clip-path=\"url(#clip052)\" cx=\"1210.02\" cy=\"762.601\" r=\"14.4\" fill=\"#009af9\" fill-rule=\"evenodd\" fill-opacity=\"1\" stroke=\"#000000\" stroke-opacity=\"1\" stroke-width=\"3.2\"/>\n",
       "<circle clip-path=\"url(#clip052)\" cx=\"1113.77\" cy=\"741.746\" r=\"14.4\" fill=\"#009af9\" fill-rule=\"evenodd\" fill-opacity=\"1\" stroke=\"#000000\" stroke-opacity=\"1\" stroke-width=\"3.2\"/>\n",
       "<circle clip-path=\"url(#clip052)\" cx=\"1085.66\" cy=\"753.88\" r=\"14.4\" fill=\"#009af9\" fill-rule=\"evenodd\" fill-opacity=\"1\" stroke=\"#000000\" stroke-opacity=\"1\" stroke-width=\"3.2\"/>\n",
       "<circle clip-path=\"url(#clip052)\" cx=\"1184.29\" cy=\"838.415\" r=\"14.4\" fill=\"#009af9\" fill-rule=\"evenodd\" fill-opacity=\"1\" stroke=\"#000000\" stroke-opacity=\"1\" stroke-width=\"3.2\"/>\n",
       "<circle clip-path=\"url(#clip052)\" cx=\"1250.18\" cy=\"760.221\" r=\"14.4\" fill=\"#009af9\" fill-rule=\"evenodd\" fill-opacity=\"1\" stroke=\"#000000\" stroke-opacity=\"1\" stroke-width=\"3.2\"/>\n",
       "<circle clip-path=\"url(#clip052)\" cx=\"1021.27\" cy=\"742.878\" r=\"14.4\" fill=\"#009af9\" fill-rule=\"evenodd\" fill-opacity=\"1\" stroke=\"#000000\" stroke-opacity=\"1\" stroke-width=\"3.2\"/>\n",
       "<circle clip-path=\"url(#clip052)\" cx=\"1046.42\" cy=\"765.656\" r=\"14.4\" fill=\"#009af9\" fill-rule=\"evenodd\" fill-opacity=\"1\" stroke=\"#000000\" stroke-opacity=\"1\" stroke-width=\"3.2\"/>\n",
       "<circle clip-path=\"url(#clip052)\" cx=\"987.453\" cy=\"729.128\" r=\"14.4\" fill=\"#009af9\" fill-rule=\"evenodd\" fill-opacity=\"1\" stroke=\"#000000\" stroke-opacity=\"1\" stroke-width=\"3.2\"/>\n",
       "<circle clip-path=\"url(#clip052)\" cx=\"1204.64\" cy=\"730.12\" r=\"14.4\" fill=\"#009af9\" fill-rule=\"evenodd\" fill-opacity=\"1\" stroke=\"#000000\" stroke-opacity=\"1\" stroke-width=\"3.2\"/>\n",
       "<circle clip-path=\"url(#clip052)\" cx=\"1100.64\" cy=\"736.208\" r=\"14.4\" fill=\"#009af9\" fill-rule=\"evenodd\" fill-opacity=\"1\" stroke=\"#000000\" stroke-opacity=\"1\" stroke-width=\"3.2\"/>\n",
       "<circle clip-path=\"url(#clip052)\" cx=\"1053.54\" cy=\"746.897\" r=\"14.4\" fill=\"#009af9\" fill-rule=\"evenodd\" fill-opacity=\"1\" stroke=\"#000000\" stroke-opacity=\"1\" stroke-width=\"3.2\"/>\n",
       "<circle clip-path=\"url(#clip052)\" cx=\"1202.52\" cy=\"766.007\" r=\"14.4\" fill=\"#009af9\" fill-rule=\"evenodd\" fill-opacity=\"1\" stroke=\"#000000\" stroke-opacity=\"1\" stroke-width=\"3.2\"/>\n",
       "<circle clip-path=\"url(#clip052)\" cx=\"1222.69\" cy=\"733.03\" r=\"14.4\" fill=\"#009af9\" fill-rule=\"evenodd\" fill-opacity=\"1\" stroke=\"#000000\" stroke-opacity=\"1\" stroke-width=\"3.2\"/>\n",
       "<circle clip-path=\"url(#clip052)\" cx=\"1667.25\" cy=\"749.788\" r=\"14.4\" fill=\"#009af9\" fill-rule=\"evenodd\" fill-opacity=\"1\" stroke=\"#000000\" stroke-opacity=\"1\" stroke-width=\"3.2\"/>\n",
       "<circle clip-path=\"url(#clip052)\" cx=\"976.837\" cy=\"745.303\" r=\"14.4\" fill=\"#009af9\" fill-rule=\"evenodd\" fill-opacity=\"1\" stroke=\"#000000\" stroke-opacity=\"1\" stroke-width=\"3.2\"/>\n",
       "<circle clip-path=\"url(#clip052)\" cx=\"1189.28\" cy=\"756.965\" r=\"14.4\" fill=\"#009af9\" fill-rule=\"evenodd\" fill-opacity=\"1\" stroke=\"#000000\" stroke-opacity=\"1\" stroke-width=\"3.2\"/>\n",
       "<circle clip-path=\"url(#clip052)\" cx=\"1093.46\" cy=\"755.241\" r=\"14.4\" fill=\"#009af9\" fill-rule=\"evenodd\" fill-opacity=\"1\" stroke=\"#000000\" stroke-opacity=\"1\" stroke-width=\"3.2\"/>\n",
       "<circle clip-path=\"url(#clip052)\" cx=\"1134.38\" cy=\"754.662\" r=\"21.6\" fill=\"#000000\" fill-rule=\"evenodd\" fill-opacity=\"1\" stroke=\"none\"/>\n",
       "</svg>\n"
      ]
     },
     "execution_count": 287,
     "metadata": {},
     "output_type": "execute_result"
    }
   ],
   "source": [
    "let\n",
    "    c = mean(y,dims=1); # compute the centroid -\n",
    "    scatter(y[:,1], y[:,2], label=\"\")\n",
    "    scatter!([c[1]],[c[2]],ms=6,mc=:black, label=\"\")\n",
    "    xlabel!(\"Composite feature 1\", fontsize=18)\n",
    "    ylabel!(\"Composite feature 2\", fontsize=18)\n",
    "end"
   ]
  },
  {
   "cell_type": "code",
   "execution_count": 288,
   "id": "8d06572f-3196-4ed1-aa26-74d77f4987f8",
   "metadata": {},
   "outputs": [],
   "source": [
    "î, distance_array = let\n",
    "\n",
    "    # initialize -\n",
    "    c = mean(y,dims=1); # compute the centroid\n",
    "    d = Euclidean(); # distance metric\n",
    "    number_of_rows = size(y,1); # number of rows \n",
    "    distance_array = Array{Float64,1}(undef, number_of_rows); # storage\n",
    "\n",
    "    # let's process each row, and compute its distance from the centroid\n",
    "    for i ∈ 1:number_of_rows\n",
    "        distance_array[i] = d(y[i,:],c)^2; # how far away of the point from the centroid?\n",
    "    end\n",
    "\n",
    "    # let's sort this from largest to smallest distance\n",
    "    î = sortperm(distance_array, rev=true); # what does rev=true do?\n",
    "    \n",
    "    # return to caller\n",
    "    î, distance_array\n",
    "end;"
   ]
  },
  {
   "cell_type": "code",
   "execution_count": 289,
   "id": "1066a81b-8a65-4f18-bc2b-74f7ca16a4c4",
   "metadata": {},
   "outputs": [
    {
     "data": {
      "text/html": [
       "<div><div style = \"float: left;\"><span>10×5 DataFrame</span></div><div style = \"clear: both;\"></div></div><div class = \"data-frame\" style = \"overflow-x: scroll;\"><table class = \"data-frame\" style = \"margin-bottom: 6px;\"><thead><tr class = \"header\"><th class = \"rowNumber\" style = \"font-weight: bold; text-align: right;\">Row</th><th style = \"text-align: left;\">i</th><th style = \"text-align: left;\">id</th><th style = \"text-align: left;\">name</th><th style = \"text-align: left;\">connections</th><th style = \"text-align: left;\">score</th></tr><tr class = \"subheader headerLastRow\"><th class = \"rowNumber\" style = \"font-weight: bold; text-align: right;\"></th><th title = \"Int64\" style = \"text-align: left;\">Int64</th><th title = \"String\" style = \"text-align: left;\">String</th><th title = \"String\" style = \"text-align: left;\">String</th><th title = \"Int64\" style = \"text-align: left;\">Int64</th><th title = \"Float64\" style = \"text-align: left;\">Float64</th></tr></thead><tbody><tr><td class = \"rowNumber\" style = \"font-weight: bold; text-align: right;\">1</td><td style = \"text-align: right;\">7</td><td style = \"text-align: left;\">h2o_c</td><td style = \"text-align: left;\">H2O H2O</td><td style = \"text-align: right;\">18</td><td style = \"text-align: right;\">1.74826</td></tr><tr><td class = \"rowNumber\" style = \"font-weight: bold; text-align: right;\">2</td><td style = \"text-align: right;\">55</td><td style = \"text-align: left;\">atp_c</td><td style = \"text-align: left;\">ATP C10H12N5O13P3</td><td style = \"text-align: right;\">13</td><td style = \"text-align: right;\">1.71071</td></tr><tr><td class = \"rowNumber\" style = \"font-weight: bold; text-align: right;\">3</td><td style = \"text-align: right;\">51</td><td style = \"text-align: left;\">adp_c</td><td style = \"text-align: left;\">ADP C10H12N5O10P2</td><td style = \"text-align: right;\">12</td><td style = \"text-align: right;\">1.69836</td></tr><tr><td class = \"rowNumber\" style = \"font-weight: bold; text-align: right;\">4</td><td style = \"text-align: right;\">30</td><td style = \"text-align: left;\">pi_c</td><td style = \"text-align: left;\">Phosphate</td><td style = \"text-align: right;\">12</td><td style = \"text-align: right;\">1.68486</td></tr><tr><td class = \"rowNumber\" style = \"font-weight: bold; text-align: right;\">5</td><td style = \"text-align: right;\">9</td><td style = \"text-align: left;\">h_c</td><td style = \"text-align: left;\">H+</td><td style = \"text-align: right;\">35</td><td style = \"text-align: right;\">1.56807</td></tr><tr><td class = \"rowNumber\" style = \"font-weight: bold; text-align: right;\">6</td><td style = \"text-align: right;\">19</td><td style = \"text-align: left;\">nadph_c</td><td style = \"text-align: left;\">Nicotinamide adenine dinucleotide phosphate - reduced</td><td style = \"text-align: right;\">9</td><td style = \"text-align: right;\">0.363415</td></tr><tr><td class = \"rowNumber\" style = \"font-weight: bold; text-align: right;\">7</td><td style = \"text-align: right;\">18</td><td style = \"text-align: left;\">nadp_c</td><td style = \"text-align: left;\">Nicotinamide adenine dinucleotide phosphate</td><td style = \"text-align: right;\">9</td><td style = \"text-align: right;\">0.290607</td></tr><tr><td class = \"rowNumber\" style = \"font-weight: bold; text-align: right;\">8</td><td style = \"text-align: right;\">44</td><td style = \"text-align: left;\">accoa_c</td><td style = \"text-align: left;\">Acetyl-CoA</td><td style = \"text-align: right;\">7</td><td style = \"text-align: right;\">-0.0113937</td></tr><tr><td class = \"rowNumber\" style = \"font-weight: bold; text-align: right;\">9</td><td style = \"text-align: right;\">59</td><td style = \"text-align: left;\">coa_c</td><td style = \"text-align: left;\">Coenzyme A</td><td style = \"text-align: right;\">9</td><td style = \"text-align: right;\">-0.0624204</td></tr><tr><td class = \"rowNumber\" style = \"font-weight: bold; text-align: right;\">10</td><td style = \"text-align: right;\">36</td><td style = \"text-align: left;\">q8_c</td><td style = \"text-align: left;\">Ubiquinone-8</td><td style = \"text-align: right;\">4</td><td style = \"text-align: right;\">-0.236422</td></tr></tbody></table></div>"
      ],
      "text/latex": [
       "\\begin{tabular}{r|ccccc}\n",
       "\t& i & id & name & connections & \\\\\n",
       "\t\\hline\n",
       "\t& Int64 & String & String & Int64 & \\\\\n",
       "\t\\hline\n",
       "\t1 & 7 & h2o\\_c & H2O H2O & 18 & $\\dots$ \\\\\n",
       "\t2 & 55 & atp\\_c & ATP C10H12N5O13P3 & 13 & $\\dots$ \\\\\n",
       "\t3 & 51 & adp\\_c & ADP C10H12N5O10P2 & 12 & $\\dots$ \\\\\n",
       "\t4 & 30 & pi\\_c & Phosphate & 12 & $\\dots$ \\\\\n",
       "\t5 & 9 & h\\_c & H+ & 35 & $\\dots$ \\\\\n",
       "\t6 & 19 & nadph\\_c & Nicotinamide adenine dinucleotide phosphate - reduced & 9 & $\\dots$ \\\\\n",
       "\t7 & 18 & nadp\\_c & Nicotinamide adenine dinucleotide phosphate & 9 & $\\dots$ \\\\\n",
       "\t8 & 44 & accoa\\_c & Acetyl-CoA & 7 & $\\dots$ \\\\\n",
       "\t9 & 59 & coa\\_c & Coenzyme A & 9 & $\\dots$ \\\\\n",
       "\t10 & 36 & q8\\_c & Ubiquinone-8 & 4 & $\\dots$ \\\\\n",
       "\\end{tabular}\n"
      ],
      "text/plain": [
       "\u001b[1m10×5 DataFrame\u001b[0m\n",
       "\u001b[1m Row \u001b[0m│\u001b[1m i     \u001b[0m\u001b[1m id      \u001b[0m\u001b[1m name                              \u001b[0m\u001b[1m connections \u001b[0m\u001b[1m score  \u001b[0m ⋯\n",
       "     │\u001b[90m Int64 \u001b[0m\u001b[90m String  \u001b[0m\u001b[90m String                            \u001b[0m\u001b[90m Int64       \u001b[0m\u001b[90m Float64\u001b[0m ⋯\n",
       "─────┼──────────────────────────────────────────────────────────────────────────\n",
       "   1 │     7  h2o_c    H2O H2O                                     18   1.7482 ⋯\n",
       "   2 │    55  atp_c    ATP C10H12N5O13P3                           13   1.7107\n",
       "   3 │    51  adp_c    ADP C10H12N5O10P2                           12   1.6983\n",
       "   4 │    30  pi_c     Phosphate                                   12   1.6848\n",
       "   5 │     9  h_c      H+                                          35   1.5680 ⋯\n",
       "   6 │    19  nadph_c  Nicotinamide adenine dinucleotid…            9   0.3634\n",
       "   7 │    18  nadp_c   Nicotinamide adenine dinucleotid…            9   0.2906\n",
       "   8 │    44  accoa_c  Acetyl-CoA                                   7  -0.0113\n",
       "   9 │    59  coa_c    Coenzyme A                                   9  -0.0624 ⋯\n",
       "  10 │    36  q8_c     Ubiquinone-8                                 4  -0.2364\n",
       "\u001b[36m                                                                1 column omitted\u001b[0m"
      ]
     },
     "execution_count": 289,
     "metadata": {},
     "output_type": "execute_result"
    }
   ],
   "source": [
    "let\n",
    "    number_of_rows_we_want_to_see = 10;\n",
    "    df = DataFrame();\n",
    "\n",
    "    for j ∈ 1:number_of_rows_we_want_to_see\n",
    "\n",
    "        k = î[j]; # index of metabolite\n",
    "        name = model[\"metabolites\"][k][\"name\"]; # name symbol of that metabolite\n",
    "        id = model[\"metabolites\"][k][\"id\"]; # id symbol of that metabolite\n",
    "        connections = findall(σᵢ -> σᵢ ≠ 0.0, S[k, :]) |> length; # how many connections?\n",
    "        \n",
    "\n",
    "        row_df = (\n",
    "            i = k,\n",
    "            id = id,\n",
    "            name = name,\n",
    "            connections = connections, \n",
    "            score = log10(distance_array[k])\n",
    "        );\n",
    "        push!(df, row_df);\n",
    "    end\n",
    "    df\n",
    "end"
   ]
  }
 ],
 "metadata": {
  "kernelspec": {
   "display_name": "Julia 1.11.3",
   "language": "julia",
   "name": "julia-1.11"
  },
  "language_info": {
   "file_extension": ".jl",
   "mimetype": "application/julia",
   "name": "julia",
   "version": "1.11.3"
  }
 },
 "nbformat": 4,
 "nbformat_minor": 5
}
