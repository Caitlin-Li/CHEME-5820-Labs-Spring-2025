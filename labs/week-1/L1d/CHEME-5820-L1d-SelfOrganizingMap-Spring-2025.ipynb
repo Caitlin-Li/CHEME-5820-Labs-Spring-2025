{
 "cells": [
  {
   "cell_type": "markdown",
   "id": "6505195b-3bf2-4e28-8d00-dfa6472e0eb7",
   "metadata": {},
   "source": [
    "# Lab 1d: Let's build a Self Organizing Map (SOM) for Synthetic Coagulation Data\n",
    "A self-organizing map (SOM) is an unsupervised machine learning technique used to produce a low-dimensional, e.g., two-dimensional representation of high-dimension data while preserving the topological structure of the data. For example, a data set with $p$-variables with $n$-observations\n",
    "could be represented as clusters of observations with similar values for the variables. \n",
    "* These clusters could then be visualized as a two-dimensional map such that observations in proximal clusters have more similar values than in distal clusters. This can make high-dimensional data easier to visualize and analyze."
   ]
  },
  {
   "cell_type": "markdown",
   "id": "9902235d-7327-423f-8025-e5ca0e9bfb7e",
   "metadata": {},
   "source": [
    "## Setup\n",
    "We set up the computational environment by including the `Include.jl` file. The `Include.jl` file loads external packages, various functions that we will use in the exercise, and custom types to model the components of our lab problem."
   ]
  },
  {
   "cell_type": "code",
   "execution_count": 3,
   "id": "50f68dab-396d-465f-81e9-a6fad6abd2ba",
   "metadata": {},
   "outputs": [],
   "source": [
    "include(\"Include.jl\")"
   ]
  },
  {
   "cell_type": "markdown",
   "id": "4aa75619-e700-469d-b92e-e9dbe9d49a30",
   "metadata": {},
   "source": [
    "## Prerequisites: Constants and measurement data\n",
    "Fill me in"
   ]
  },
  {
   "cell_type": "code",
   "execution_count": 11,
   "id": "a230999c-5e54-4d9a-815c-025c1459c622",
   "metadata": {},
   "outputs": [],
   "source": [
    "dataset = MySyntheticDataset() |> d-> d[\"ensemble\"]; # optional keyword arg visit::Int where visit = {1 | 2 | 3}"
   ]
  },
  {
   "cell_type": "markdown",
   "id": "f3965b57-55d8-4057-8721-aa6620683b34",
   "metadata": {},
   "source": [
    "## Task 1: Setup the SOM model instance\n",
    "Fill me in"
   ]
  },
  {
   "cell_type": "markdown",
   "id": "f8fdd095-1de1-4b27-8555-f6b9134d4851",
   "metadata": {},
   "source": [
    "## Task 2: Learn the SOM weight parameters\n",
    "Fill me in"
   ]
  },
  {
   "cell_type": "code",
   "execution_count": null,
   "id": "7f2f8687-e2a3-41e6-978c-da1bebdfb827",
   "metadata": {},
   "outputs": [],
   "source": []
  }
 ],
 "metadata": {
  "kernelspec": {
   "display_name": "Julia 1.11.2",
   "language": "julia",
   "name": "julia-1.11"
  },
  "language_info": {
   "file_extension": ".jl",
   "mimetype": "application/julia",
   "name": "julia",
   "version": "1.11.2"
  }
 },
 "nbformat": 4,
 "nbformat_minor": 5
}
