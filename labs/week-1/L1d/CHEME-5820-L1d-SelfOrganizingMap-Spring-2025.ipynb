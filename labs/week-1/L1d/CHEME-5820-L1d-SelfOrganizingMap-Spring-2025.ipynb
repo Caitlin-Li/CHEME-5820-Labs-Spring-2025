{
 "cells": [
  {
   "cell_type": "markdown",
   "id": "6505195b-3bf2-4e28-8d00-dfa6472e0eb7",
   "metadata": {},
   "source": [
    "# Lab 1d: Let's build a Self Organizing Map (SOM) for Synthetic Coagulation Data\n",
    "A self-organizing map (SOM) is an unsupervised machine learning technique used to produce a low-dimensional, e.g., two-dimensional representation of high-dimension data while preserving the topological structure of the data. For example, a data set with $p$-variables with $n$-observations\n",
    "could be represented as clusters of observations with similar values for the variables. \n",
    "* These clusters could then be visualized as a two-dimensional map such that observations in proximal clusters have more similar values than in distal clusters. This can make high-dimensional data easier to visualize and analyze."
   ]
  },
  {
   "cell_type": "markdown",
   "id": "9902235d-7327-423f-8025-e5ca0e9bfb7e",
   "metadata": {},
   "source": [
    "## Setup\n",
    "We set up the computational environment by including the `Include.jl` file. The `Include.jl` file loads external packages, various functions that we will use in the exercise, and custom types to model the components of our lab problem."
   ]
  },
  {
   "cell_type": "code",
   "execution_count": 3,
   "id": "50f68dab-396d-465f-81e9-a6fad6abd2ba",
   "metadata": {},
   "outputs": [
    {
     "data": {
      "text/plain": [
       "learn (generic function with 1 method)"
      ]
     },
     "execution_count": 3,
     "metadata": {},
     "output_type": "execute_result"
    }
   ],
   "source": [
    "include(\"Include.jl\");"
   ]
  },
  {
   "cell_type": "markdown",
   "id": "4aa75619-e700-469d-b92e-e9dbe9d49a30",
   "metadata": {},
   "source": [
    "## Prerequisites: Constants and measurement data\n",
    "Fill me in"
   ]
  },
  {
   "cell_type": "code",
   "execution_count": 5,
   "id": "a230999c-5e54-4d9a-815c-025c1459c622",
   "metadata": {},
   "outputs": [],
   "source": [
    "dataset = MySyntheticDataset() |> d-> d[\"ensemble\"]; # optional keyword arg visit::Int where visit = {1 | 2 | 3}"
   ]
  },
  {
   "cell_type": "markdown",
   "id": "7a2b5c8a-0ee7-4680-8ff3-e5bf92d13d40",
   "metadata": {},
   "source": [
    "The keys of the dataset dictionary are the `actual` patient indexes. These keys point to `synthetic` patient measurement vectors constructed by building a model of the original data distribution. To explore this data, specify an original patient index (one of the keys of the original dictionary) in the `original_patient_index::Int` variable:"
   ]
  },
  {
   "cell_type": "code",
   "execution_count": 27,
   "id": "e7d699e9-ebdf-4ad1-a214-d28d596c363f",
   "metadata": {},
   "outputs": [],
   "source": [
    "original_patient_index = 5; # i ∈ {keys}"
   ]
  },
  {
   "cell_type": "markdown",
   "id": "30ca0530-39b8-4cc4-b3c3-d34c4a356058",
   "metadata": {},
   "source": [
    "Next, we'll build a data matrix with the `synthetic` measurement vectors for the specified original patient index. We'll store this in the `D::Array{<:Number, 1}` matrix."
   ]
  },
  {
   "cell_type": "code",
   "execution_count": 78,
   "id": "89ffa0c2-ef05-4168-8a33-bb8296e9bbb3",
   "metadata": {
    "jupyter": {
     "source_hidden": true
    }
   },
   "outputs": [
    {
     "data": {
      "text/plain": [
       "101×33 Matrix{Float64}:\n",
       " 1.0       3.11674  1.2722     …  27.3417  100.0     44.1833  1476.5\n",
       " 0.907661  1.34553  0.0467624     26.8426  100.123   41.236   1298.9\n",
       " 0.914448  1.42047  3.24366       36.7955  100.119   54.2847  1436.83\n",
       " 0.9014    2.04816  2.75776       45.0829   99.9167  62.6917  1651.85\n",
       " 0.90399   1.34557  2.17829       25.1745  100.027   32.6987  1716.12\n",
       " 0.901527  1.80023  2.70127    …  28.6956   99.8424  41.7497  1720.1\n",
       " 0.901474  1.87665  0.561092      17.8382   99.9466  28.0801  1707.69\n",
       " 0.912968  1.75272  1.68913       16.0171   99.5636  33.9347  1309.5\n",
       " 0.903468  1.74534  0.79968       30.9937   99.8898  47.095   1563.59\n",
       " 0.904401  1.69023  1.24625       40.9327   99.4321  58.1156  1461.08\n",
       " 0.906582  1.51657  1.64198    …  24.3037   99.769   39.5752  1612.7\n",
       " 0.91318   1.58922  0.332276      22.7526  100.095   33.2077  1514.16\n",
       " 0.915021  1.76303  0.359262      32.9741   99.9894  56.474   1519.62\n",
       " ⋮                             ⋱             ⋮                \n",
       " 0.914561  2.47906  3.15141       13.1117  100.461   25.1224  1421.46\n",
       " 0.903008  1.87453  3.02386    …  24.5916  100.054   32.8732  1641.98\n",
       " 0.915244  1.46565  1.23617       11.6047   99.8432  25.4788  1405.05\n",
       " 0.903744  2.01083  1.13111       12.7892  100.298   20.7475  1293.2\n",
       " 0.913324  1.70493  1.63894       26.3587  100.401   45.6806  1249.47\n",
       " 0.90161   1.45464  0.450304      43.0936   99.8484  60.9128  1490.51\n",
       " 0.920608  1.6829   0.554033   …  28.7924   99.9656  49.8041  1761.98\n",
       " 0.900333  1.83489  0.608754      40.552    99.5374  58.246   1649.01\n",
       " 0.924766  1.98034  0.107498      12.1983   99.6172  23.8469  1166.14\n",
       " 0.938115  1.73228  1.09673       18.5533   99.7615  27.5306  1352.26\n",
       " 0.910605  1.62569  1.05873       18.9802  100.048   27.3224  1533.01\n",
       " 0.921133  1.85543  0.996433   …  38.3374   99.9216  58.6367  1560.78"
      ]
     },
     "execution_count": 78,
     "metadata": {},
     "output_type": "execute_result"
    }
   ],
   "source": [
    "D = let\n",
    "\n",
    "    M = dataset[original_patient_index];\n",
    "    number_of_rows = length(M); # number of synthetic patients\n",
    "    number_of_cols = length(M[1]); # number of measurements (features)\n",
    "    D = Array{Float64,2}(undef, number_of_rows, number_of_cols);\n",
    "\n",
    "    for i ∈ 0:(number_of_rows - 1)\n",
    "        for j ∈ 1:number_of_cols\n",
    "            D[i+1,j] = M[i][j];\n",
    "        end\n",
    "    end\n",
    "    \n",
    "    D;\n",
    "end"
   ]
  },
  {
   "cell_type": "markdown",
   "id": "bf15b96c-a2c2-4186-905a-3ad3ccc919c8",
   "metadata": {},
   "source": [
    "Finally, let's setup some constants that we'll use later."
   ]
  },
  {
   "cell_type": "code",
   "execution_count": 84,
   "id": "774403e5-ee68-4a4c-a39b-007b834f594a",
   "metadata": {},
   "outputs": [],
   "source": [
    "number_of_neurons = 100; # how many neurons are we going to use?\n",
    "number_of_examples = size(D,1); # number of synthetic patients\n",
    "number_of_features = size(D,2); # number of features (measurements)"
   ]
  },
  {
   "cell_type": "markdown",
   "id": "f3965b57-55d8-4057-8721-aa6620683b34",
   "metadata": {},
   "source": [
    "## Task 1: Setup the SOM model instance\n",
    "Fill me in"
   ]
  },
  {
   "cell_type": "code",
   "execution_count": null,
   "id": "4653cb0b-a38f-4749-9415-20cd7dec0b24",
   "metadata": {},
   "outputs": [],
   "source": [
    "model = let\n",
    "\n",
    "    model = build(MySimpleSelfOrganizingMapModel, (\n",
    "        number_of_neurons = number_of_neurons,\n",
    "        number_of_features = number_of_features,\n",
    "        α = (t::Int) -> 0.1, # constant learning rate function\n",
    "        σ = (t::Int, radius::Float64) -> 0.99*radius, # neighborhood radius function\n",
    "        \n",
    "    ));\n",
    "\n",
    "\n",
    "end"
   ]
  },
  {
   "cell_type": "markdown",
   "id": "f8fdd095-1de1-4b27-8555-f6b9134d4851",
   "metadata": {},
   "source": [
    "## Task 2: Learn the SOM weight parameters\n",
    "Fill me in"
   ]
  },
  {
   "cell_type": "code",
   "execution_count": null,
   "id": "7f2f8687-e2a3-41e6-978c-da1bebdfb827",
   "metadata": {},
   "outputs": [],
   "source": []
  }
 ],
 "metadata": {
  "kernelspec": {
   "display_name": "Julia 1.11.2",
   "language": "julia",
   "name": "julia-1.11"
  },
  "language_info": {
   "file_extension": ".jl",
   "mimetype": "application/julia",
   "name": "julia",
   "version": "1.11.2"
  }
 },
 "nbformat": 4,
 "nbformat_minor": 5
}
