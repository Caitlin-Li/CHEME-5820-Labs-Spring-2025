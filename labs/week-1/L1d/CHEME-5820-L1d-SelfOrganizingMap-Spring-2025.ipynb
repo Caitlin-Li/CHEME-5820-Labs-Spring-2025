{
 "cells": [
  {
   "cell_type": "markdown",
   "id": "6505195b-3bf2-4e28-8d00-dfa6472e0eb7",
   "metadata": {},
   "source": [
    "# Lab 1d: Let's build a Self Organizing Map (SOM) for Synthetic Coagulation Data\n",
    "A self-organizing map (SOM) is an unsupervised machine learning technique used to produce a low-dimensional, e.g., two-dimensional representation of high-dimension data while preserving the topological structure of the data. For example, a data set with $p$-variables with $n$-observations\n",
    "could be represented as clusters of observations with similar values for the variables. \n",
    "* These clusters could then be visualized as a two-dimensional map such that observations in proximal clusters have more similar values than in distal clusters. This can make high-dimensional data easier to visualize and analyze."
   ]
  },
  {
   "cell_type": "markdown",
   "id": "9902235d-7327-423f-8025-e5ca0e9bfb7e",
   "metadata": {},
   "source": [
    "## Setup\n",
    "We set up the computational environment by including the `Include.jl` file. The `Include.jl` file loads external packages, various functions that we will use in the exercise, and custom types to model the components of our lab problem."
   ]
  },
  {
   "cell_type": "code",
   "execution_count": 3,
   "id": "50f68dab-396d-465f-81e9-a6fad6abd2ba",
   "metadata": {},
   "outputs": [],
   "source": [
    "include(\"Include.jl\");"
   ]
  },
  {
   "cell_type": "markdown",
   "id": "4aa75619-e700-469d-b92e-e9dbe9d49a30",
   "metadata": {},
   "source": [
    "## Prerequisites: Constants and measurement data\n",
    "Fill me in"
   ]
  },
  {
   "cell_type": "code",
   "execution_count": 5,
   "id": "a230999c-5e54-4d9a-815c-025c1459c622",
   "metadata": {},
   "outputs": [],
   "source": [
    "dataset = MySyntheticDataset() |> d-> d[\"ensemble\"]; # optional keyword arg visit::Int where visit = {1 | 2 | 3}"
   ]
  },
  {
   "cell_type": "markdown",
   "id": "7a2b5c8a-0ee7-4680-8ff3-e5bf92d13d40",
   "metadata": {},
   "source": [
    "The keys of the dataset dictionary are the `actual` patient indexes. These keys point to `synthetic` patient measurement vectors constructed by building a model of the original data distribution. To explore this data, specify an original patient index (one of the keys of the original dictionary) in the `original_patient_index::Int` variable:"
   ]
  },
  {
   "cell_type": "code",
   "execution_count": 7,
   "id": "e7d699e9-ebdf-4ad1-a214-d28d596c363f",
   "metadata": {},
   "outputs": [],
   "source": [
    "original_patient_index = 5; # i ∈ {keys}"
   ]
  },
  {
   "cell_type": "markdown",
   "id": "30ca0530-39b8-4cc4-b3c3-d34c4a356058",
   "metadata": {},
   "source": [
    "Next, we'll build a data matrix with the `synthetic` measurement vectors for the specified original patient index. We'll store this in the `D::Array{<:Number, 1}` matrix. This data will be [z-score transformed](https://en.wikipedia.org/wiki/Standard_score), i.e., we center the data and normalize it by the standard deviation. Thus, all features will be on the same scale."
   ]
  },
  {
   "cell_type": "code",
   "execution_count": 9,
   "id": "89ffa0c2-ef05-4168-8a33-bb8296e9bbb3",
   "metadata": {},
   "outputs": [
    {
     "data": {
      "text/plain": [
       "101×33 Matrix{Float64}:\n",
       "  7.08039     3.9274     -0.295529   …  -0.0242932   0.178453    -0.158596\n",
       " -0.315218   -1.30783    -1.47031        0.415144   -0.00362048  -1.17389\n",
       "  0.228354   -1.0863      1.59444        0.399039    0.802471    -0.385412\n",
       " -0.816669    0.768979    1.12862       -0.321638    1.32182      0.843835\n",
       " -0.609244   -1.30771     0.573103       0.0724211  -0.531018     1.21127\n",
       " -0.80657     0.0361524   1.07447    …  -0.586895    0.0281126    1.23406\n",
       " -0.810755    0.26205    -0.977241      -0.215019   -0.81634      1.16312\n",
       "  0.109794   -0.104268    0.104168      -1.58241    -0.454667    -1.1133\n",
       " -0.651089   -0.126094   -0.748516      -0.417613    0.358321     0.339289\n",
       " -0.576326   -0.288959   -0.320409      -2.05204     1.03913     -0.246732\n",
       " -0.401706   -0.802253    0.0589632  …  -0.848943   -0.106217     0.620042\n",
       "  0.126811   -0.587533   -1.1966         0.316439   -0.499579     0.0567096\n",
       "  0.27421    -0.0737874  -1.17073       -0.0622585   0.937717     0.0879358\n",
       "  ⋮                                  ⋱   ⋮                       \n",
       "  0.237413    2.04261     1.506          1.62228    -0.999055    -0.473255\n",
       " -0.687932    0.255781    1.38372    …   0.170229   -0.520241     0.787437\n",
       "  0.29213    -0.952767   -0.330065      -0.584107   -0.977038    -0.567041\n",
       " -0.62895     0.658634   -0.430782       1.03847    -1.26932     -1.20648\n",
       "  0.138334   -0.245517    0.0560527      1.40875     0.270948    -1.45647\n",
       " -0.799913   -0.985304   -1.08345       -0.56563     1.21193     -0.078497\n",
       "  0.721742   -0.310648   -0.984008   …  -0.147071    0.525683     1.47344\n",
       " -0.902125    0.138612   -0.931549      -1.67585     1.04719      0.827636\n",
       "  1.05472     0.568516   -1.41209       -1.39116    -1.07785     -1.93291\n",
       "  2.12392    -0.164691   -0.463748      -0.87576    -0.850284    -0.86888\n",
       " -0.0794675  -0.479737   -0.500173       0.14795    -0.863145     0.16449\n",
       "  0.763768    0.199306   -0.559896   …  -0.304103    1.07132      0.323215"
      ]
     },
     "execution_count": 9,
     "metadata": {},
     "output_type": "execute_result"
    }
   ],
   "source": [
    "D = let\n",
    "\n",
    "    M = dataset[original_patient_index];\n",
    "    number_of_rows = length(M); # number of synthetic patients\n",
    "    number_of_cols = length(M[1]); # number of measurements (features)\n",
    "    D = Array{Float64,2}(undef, number_of_rows, number_of_cols);\n",
    "\n",
    "    for i ∈ 0:(number_of_rows - 1)\n",
    "        for j ∈ 1:number_of_cols\n",
    "            D[i+1,j] = M[i][j];\n",
    "        end\n",
    "    end\n",
    "\n",
    "    D̂ = copy(D);\n",
    "    for j ∈ 1:number_of_cols\n",
    "        sample_vector = D[:,j]; \n",
    "        μ = mean(sample_vector);\n",
    "        σ = std(sample_vector);\n",
    "\n",
    "        for i ∈ 1:number_of_rows\n",
    "            D̂[i,j] = (sample_vector[i] - μ)/σ;\n",
    "        end\n",
    "    end\n",
    "    \n",
    "    D̂\n",
    "end"
   ]
  },
  {
   "cell_type": "markdown",
   "id": "96eb6e20-5489-4e1f-9263-5d1ae4594235",
   "metadata": {},
   "source": [
    "Fill me in"
   ]
  },
  {
   "cell_type": "code",
   "execution_count": 11,
   "id": "4a10690d-ba16-41b2-bec6-30aea38b4f59",
   "metadata": {},
   "outputs": [
    {
     "data": {
      "image/png": "[encoded data removed]",
      "image/svg+xml": [
       "<?xml version=\"1.0\" encoding=\"utf-8\"?>\n",
       "<svg xmlns=\"http://www.w3.org/2000/svg\" xmlns:xlink=\"http://www.w3.org/1999/xlink\" width=\"600\" height=\"400\" viewBox=\"0 0 2400 1600\">\n",
       "<defs>\n",
       "  <clipPath id=\"clip690\">\n",
       "    <rect x=\"0\" y=\"0\" width=\"2400\" height=\"1600\"/>\n",
       "  </clipPath>\n",
       "</defs>\n",
       "<path clip-path=\"url(#clip690)\" d=\"M0 1600 L2400 1600 L2400 8.88178e-14 L0 8.88178e-14  Z\" fill=\"#ffffff\" fill-rule=\"evenodd\" fill-opacity=\"1\"/>\n",
       "<defs>\n",
       "  <clipPath id=\"clip691\">\n",
       "    <rect x=\"480\" y=\"0\" width=\"1681\" height=\"1600\"/>\n",
       "  </clipPath>\n",
       "</defs>\n",
       "<path clip-path=\"url(#clip690)\" d=\"M156.598 1486.45 L2352.76 1486.45 L2352.76 47.2441 L156.598 47.2441  Z\" fill=\"#ffffff\" fill-rule=\"evenodd\" fill-opacity=\"1\"/>\n",
       "<defs>\n",
       "  <clipPath id=\"clip692\">\n",
       "    <rect x=\"156\" y=\"47\" width=\"2197\" height=\"1440\"/>\n",
       "  </clipPath>\n",
       "</defs>\n",
       "<polyline clip-path=\"url(#clip692)\" style=\"stroke:#000000; stroke-linecap:round; stroke-linejoin:round; stroke-width:2; stroke-opacity:0.1; fill:none\" points=\"621.179,1486.45 621.179,47.2441 \"/>\n",
       "<polyline clip-path=\"url(#clip692)\" style=\"stroke:#000000; stroke-linecap:round; stroke-linejoin:round; stroke-width:2; stroke-opacity:0.1; fill:none\" points=\"1135.19,1486.45 1135.19,47.2441 \"/>\n",
       "<polyline clip-path=\"url(#clip692)\" style=\"stroke:#000000; stroke-linecap:round; stroke-linejoin:round; stroke-width:2; stroke-opacity:0.1; fill:none\" points=\"1649.2,1486.45 1649.2,47.2441 \"/>\n",
       "<polyline clip-path=\"url(#clip692)\" style=\"stroke:#000000; stroke-linecap:round; stroke-linejoin:round; stroke-width:2; stroke-opacity:0.1; fill:none\" points=\"2163.22,1486.45 2163.22,47.2441 \"/>\n",
       "<polyline clip-path=\"url(#clip692)\" style=\"stroke:#000000; stroke-linecap:round; stroke-linejoin:round; stroke-width:2; stroke-opacity:0.1; fill:none\" points=\"156.598,1445.72 2352.76,1445.72 \"/>\n",
       "<polyline clip-path=\"url(#clip692)\" style=\"stroke:#000000; stroke-linecap:round; stroke-linejoin:round; stroke-width:2; stroke-opacity:0.1; fill:none\" points=\"156.598,1217.78 2352.76,1217.78 \"/>\n",
       "<polyline clip-path=\"url(#clip692)\" style=\"stroke:#000000; stroke-linecap:round; stroke-linejoin:round; stroke-width:2; stroke-opacity:0.1; fill:none\" points=\"156.598,989.853 2352.76,989.853 \"/>\n",
       "<polyline clip-path=\"url(#clip692)\" style=\"stroke:#000000; stroke-linecap:round; stroke-linejoin:round; stroke-width:2; stroke-opacity:0.1; fill:none\" points=\"156.598,761.921 2352.76,761.921 \"/>\n",
       "<polyline clip-path=\"url(#clip692)\" style=\"stroke:#000000; stroke-linecap:round; stroke-linejoin:round; stroke-width:2; stroke-opacity:0.1; fill:none\" points=\"156.598,533.99 2352.76,533.99 \"/>\n",
       "<polyline clip-path=\"url(#clip692)\" style=\"stroke:#000000; stroke-linecap:round; stroke-linejoin:round; stroke-width:2; stroke-opacity:0.1; fill:none\" points=\"156.598,306.058 2352.76,306.058 \"/>\n",
       "<polyline clip-path=\"url(#clip692)\" style=\"stroke:#000000; stroke-linecap:round; stroke-linejoin:round; stroke-width:2; stroke-opacity:0.1; fill:none\" points=\"156.598,78.127 2352.76,78.127 \"/>\n",
       "<polyline clip-path=\"url(#clip690)\" style=\"stroke:#000000; stroke-linecap:round; stroke-linejoin:round; stroke-width:4; stroke-opacity:1; fill:none\" points=\"156.598,1486.45 2352.76,1486.45 \"/>\n",
       "<polyline clip-path=\"url(#clip690)\" style=\"stroke:#000000; stroke-linecap:round; stroke-linejoin:round; stroke-width:4; stroke-opacity:1; fill:none\" points=\"621.179,1486.45 621.179,1467.55 \"/>\n",
       "<polyline clip-path=\"url(#clip690)\" style=\"stroke:#000000; stroke-linecap:round; stroke-linejoin:round; stroke-width:4; stroke-opacity:1; fill:none\" points=\"1135.19,1486.45 1135.19,1467.55 \"/>\n",
       "<polyline clip-path=\"url(#clip690)\" style=\"stroke:#000000; stroke-linecap:round; stroke-linejoin:round; stroke-width:4; stroke-opacity:1; fill:none\" points=\"1649.2,1486.45 1649.2,1467.55 \"/>\n",
       "<polyline clip-path=\"url(#clip690)\" style=\"stroke:#000000; stroke-linecap:round; stroke-linejoin:round; stroke-width:4; stroke-opacity:1; fill:none\" points=\"2163.22,1486.45 2163.22,1467.55 \"/>\n",
       "<path clip-path=\"url(#clip690)\" d=\"M598.563 1517.37 Q594.952 1517.37 593.123 1520.93 Q591.318 1524.47 591.318 1531.6 Q591.318 1538.71 593.123 1542.27 Q594.952 1545.82 598.563 1545.82 Q602.197 1545.82 604.003 1542.27 Q605.831 1538.71 605.831 1531.6 Q605.831 1524.47 604.003 1520.93 Q602.197 1517.37 598.563 1517.37 M598.563 1513.66 Q604.373 1513.66 607.429 1518.27 Q610.507 1522.85 610.507 1531.6 Q610.507 1540.33 607.429 1544.94 Q604.373 1549.52 598.563 1549.52 Q592.753 1549.52 589.674 1544.94 Q586.619 1540.33 586.619 1531.6 Q586.619 1522.85 589.674 1518.27 Q592.753 1513.66 598.563 1513.66 Z\" fill=\"#000000\" fill-rule=\"nonzero\" fill-opacity=\"1\" /><path clip-path=\"url(#clip690)\" d=\"M618.725 1542.97 L623.609 1542.97 L623.609 1548.85 L618.725 1548.85 L618.725 1542.97 Z\" fill=\"#000000\" fill-rule=\"nonzero\" fill-opacity=\"1\" /><path clip-path=\"url(#clip690)\" d=\"M643.794 1517.37 Q640.183 1517.37 638.354 1520.93 Q636.549 1524.47 636.549 1531.6 Q636.549 1538.71 638.354 1542.27 Q640.183 1545.82 643.794 1545.82 Q647.428 1545.82 649.234 1542.27 Q651.063 1538.71 651.063 1531.6 Q651.063 1524.47 649.234 1520.93 Q647.428 1517.37 643.794 1517.37 M643.794 1513.66 Q649.604 1513.66 652.66 1518.27 Q655.739 1522.85 655.739 1531.6 Q655.739 1540.33 652.66 1544.94 Q649.604 1549.52 643.794 1549.52 Q637.984 1549.52 634.905 1544.94 Q631.85 1540.33 631.85 1531.6 Q631.85 1522.85 634.905 1518.27 Q637.984 1513.66 643.794 1513.66 Z\" fill=\"#000000\" fill-rule=\"nonzero\" fill-opacity=\"1\" /><path clip-path=\"url(#clip690)\" d=\"M1106.93 1544.91 L1123.25 1544.91 L1123.25 1548.85 L1101.3 1548.85 L1101.3 1544.91 Q1103.96 1542.16 1108.55 1537.53 Q1113.15 1532.88 1114.33 1531.53 Q1116.58 1529.01 1117.46 1527.27 Q1118.36 1525.51 1118.36 1523.82 Q1118.36 1521.07 1116.42 1519.33 Q1114.5 1517.6 1111.39 1517.6 Q1109.2 1517.6 1106.74 1518.36 Q1104.31 1519.13 1101.53 1520.68 L1101.53 1515.95 Q1104.36 1514.82 1106.81 1514.24 Q1109.27 1513.66 1111.3 1513.66 Q1116.67 1513.66 1119.87 1516.35 Q1123.06 1519.03 1123.06 1523.52 Q1123.06 1525.65 1122.25 1527.57 Q1121.46 1529.47 1119.36 1532.07 Q1118.78 1532.74 1115.68 1535.95 Q1112.58 1539.15 1106.93 1544.91 Z\" fill=\"#000000\" fill-rule=\"nonzero\" fill-opacity=\"1\" /><path clip-path=\"url(#clip690)\" d=\"M1133.06 1542.97 L1137.95 1542.97 L1137.95 1548.85 L1133.06 1548.85 L1133.06 1542.97 Z\" fill=\"#000000\" fill-rule=\"nonzero\" fill-opacity=\"1\" /><path clip-path=\"url(#clip690)\" d=\"M1148.18 1514.29 L1166.53 1514.29 L1166.53 1518.22 L1152.46 1518.22 L1152.46 1526.7 Q1153.48 1526.35 1154.5 1526.19 Q1155.52 1526 1156.53 1526 Q1162.32 1526 1165.7 1529.17 Q1169.08 1532.34 1169.08 1537.76 Q1169.08 1543.34 1165.61 1546.44 Q1162.14 1549.52 1155.82 1549.52 Q1153.64 1549.52 1151.37 1549.15 Q1149.13 1548.78 1146.72 1548.04 L1146.72 1543.34 Q1148.8 1544.47 1151.02 1545.03 Q1153.25 1545.58 1155.72 1545.58 Q1159.73 1545.58 1162.07 1543.48 Q1164.4 1541.37 1164.4 1537.76 Q1164.4 1534.15 1162.07 1532.04 Q1159.73 1529.94 1155.72 1529.94 Q1153.85 1529.94 1151.97 1530.35 Q1150.12 1530.77 1148.18 1531.65 L1148.18 1514.29 Z\" fill=\"#000000\" fill-rule=\"nonzero\" fill-opacity=\"1\" /><path clip-path=\"url(#clip690)\" d=\"M1616.37 1514.29 L1634.72 1514.29 L1634.72 1518.22 L1620.65 1518.22 L1620.65 1526.7 Q1621.67 1526.35 1622.69 1526.19 Q1623.71 1526 1624.72 1526 Q1630.51 1526 1633.89 1529.17 Q1637.27 1532.34 1637.27 1537.76 Q1637.27 1543.34 1633.8 1546.44 Q1630.33 1549.52 1624.01 1549.52 Q1621.83 1549.52 1619.56 1549.15 Q1617.32 1548.78 1614.91 1548.04 L1614.91 1543.34 Q1616.99 1544.47 1619.22 1545.03 Q1621.44 1545.58 1623.91 1545.58 Q1627.92 1545.58 1630.26 1543.48 Q1632.59 1541.37 1632.59 1537.76 Q1632.59 1534.15 1630.26 1532.04 Q1627.92 1529.94 1623.91 1529.94 Q1622.04 1529.94 1620.16 1530.35 Q1618.31 1530.77 1616.37 1531.65 L1616.37 1514.29 Z\" fill=\"#000000\" fill-rule=\"nonzero\" fill-opacity=\"1\" /><path clip-path=\"url(#clip690)\" d=\"M1646.48 1542.97 L1651.37 1542.97 L1651.37 1548.85 L1646.48 1548.85 L1646.48 1542.97 Z\" fill=\"#000000\" fill-rule=\"nonzero\" fill-opacity=\"1\" /><path clip-path=\"url(#clip690)\" d=\"M1671.55 1517.37 Q1667.94 1517.37 1666.11 1520.93 Q1664.31 1524.47 1664.31 1531.6 Q1664.31 1538.71 1666.11 1542.27 Q1667.94 1545.82 1671.55 1545.82 Q1675.19 1545.82 1676.99 1542.27 Q1678.82 1538.71 1678.82 1531.6 Q1678.82 1524.47 1676.99 1520.93 Q1675.19 1517.37 1671.55 1517.37 M1671.55 1513.66 Q1677.36 1513.66 1680.42 1518.27 Q1683.5 1522.85 1683.5 1531.6 Q1683.5 1540.33 1680.42 1544.94 Q1677.36 1549.52 1671.55 1549.52 Q1665.74 1549.52 1662.66 1544.94 Q1659.61 1540.33 1659.61 1531.6 Q1659.61 1522.85 1662.66 1518.27 Q1665.74 1513.66 1671.55 1513.66 Z\" fill=\"#000000\" fill-rule=\"nonzero\" fill-opacity=\"1\" /><path clip-path=\"url(#clip690)\" d=\"M2129.54 1514.29 L2151.76 1514.29 L2151.76 1516.28 L2139.21 1548.85 L2134.33 1548.85 L2146.13 1518.22 L2129.54 1518.22 L2129.54 1514.29 Z\" fill=\"#000000\" fill-rule=\"nonzero\" fill-opacity=\"1\" /><path clip-path=\"url(#clip690)\" d=\"M2160.88 1542.97 L2165.76 1542.97 L2165.76 1548.85 L2160.88 1548.85 L2160.88 1542.97 Z\" fill=\"#000000\" fill-rule=\"nonzero\" fill-opacity=\"1\" /><path clip-path=\"url(#clip690)\" d=\"M2175.99 1514.29 L2194.35 1514.29 L2194.35 1518.22 L2180.28 1518.22 L2180.28 1526.7 Q2181.29 1526.35 2182.31 1526.19 Q2183.33 1526 2184.35 1526 Q2190.14 1526 2193.52 1529.17 Q2196.9 1532.34 2196.9 1537.76 Q2196.9 1543.34 2193.42 1546.44 Q2189.95 1549.52 2183.63 1549.52 Q2181.46 1549.52 2179.19 1549.15 Q2176.94 1548.78 2174.54 1548.04 L2174.54 1543.34 Q2176.62 1544.47 2178.84 1545.03 Q2181.06 1545.58 2183.54 1545.58 Q2187.54 1545.58 2189.88 1543.48 Q2192.22 1541.37 2192.22 1537.76 Q2192.22 1534.15 2189.88 1532.04 Q2187.54 1529.94 2183.54 1529.94 Q2181.67 1529.94 2179.79 1530.35 Q2177.94 1530.77 2175.99 1531.65 L2175.99 1514.29 Z\" fill=\"#000000\" fill-rule=\"nonzero\" fill-opacity=\"1\" /><polyline clip-path=\"url(#clip690)\" style=\"stroke:#000000; stroke-linecap:round; stroke-linejoin:round; stroke-width:4; stroke-opacity:1; fill:none\" points=\"156.598,1486.45 156.598,47.2441 \"/>\n",
       "<polyline clip-path=\"url(#clip690)\" style=\"stroke:#000000; stroke-linecap:round; stroke-linejoin:round; stroke-width:4; stroke-opacity:1; fill:none\" points=\"156.598,1445.72 175.496,1445.72 \"/>\n",
       "<polyline clip-path=\"url(#clip690)\" style=\"stroke:#000000; stroke-linecap:round; stroke-linejoin:round; stroke-width:4; stroke-opacity:1; fill:none\" points=\"156.598,1217.78 175.496,1217.78 \"/>\n",
       "<polyline clip-path=\"url(#clip690)\" style=\"stroke:#000000; stroke-linecap:round; stroke-linejoin:round; stroke-width:4; stroke-opacity:1; fill:none\" points=\"156.598,989.853 175.496,989.853 \"/>\n",
       "<polyline clip-path=\"url(#clip690)\" style=\"stroke:#000000; stroke-linecap:round; stroke-linejoin:round; stroke-width:4; stroke-opacity:1; fill:none\" points=\"156.598,761.921 175.496,761.921 \"/>\n",
       "<polyline clip-path=\"url(#clip690)\" style=\"stroke:#000000; stroke-linecap:round; stroke-linejoin:round; stroke-width:4; stroke-opacity:1; fill:none\" points=\"156.598,533.99 175.496,533.99 \"/>\n",
       "<polyline clip-path=\"url(#clip690)\" style=\"stroke:#000000; stroke-linecap:round; stroke-linejoin:round; stroke-width:4; stroke-opacity:1; fill:none\" points=\"156.598,306.058 175.496,306.058 \"/>\n",
       "<polyline clip-path=\"url(#clip690)\" style=\"stroke:#000000; stroke-linecap:round; stroke-linejoin:round; stroke-width:4; stroke-opacity:1; fill:none\" points=\"156.598,78.127 175.496,78.127 \"/>\n",
       "<path clip-path=\"url(#clip690)\" d=\"M63.4226 1431.51 Q59.8115 1431.51 57.9828 1435.08 Q56.1773 1438.62 56.1773 1445.75 Q56.1773 1452.86 57.9828 1456.42 Q59.8115 1459.96 63.4226 1459.96 Q67.0569 1459.96 68.8624 1456.42 Q70.6911 1452.86 70.6911 1445.75 Q70.6911 1438.62 68.8624 1435.08 Q67.0569 1431.51 63.4226 1431.51 M63.4226 1427.81 Q69.2328 1427.81 72.2883 1432.42 Q75.367 1437 75.367 1445.75 Q75.367 1454.48 72.2883 1459.08 Q69.2328 1463.67 63.4226 1463.67 Q57.6125 1463.67 54.5338 1459.08 Q51.4782 1454.48 51.4782 1445.75 Q51.4782 1437 54.5338 1432.42 Q57.6125 1427.81 63.4226 1427.81 Z\" fill=\"#000000\" fill-rule=\"nonzero\" fill-opacity=\"1\" /><path clip-path=\"url(#clip690)\" d=\"M83.5845 1457.12 L88.4688 1457.12 L88.4688 1463 L83.5845 1463 L83.5845 1457.12 Z\" fill=\"#000000\" fill-rule=\"nonzero\" fill-opacity=\"1\" /><path clip-path=\"url(#clip690)\" d=\"M108.654 1431.51 Q105.043 1431.51 103.214 1435.08 Q101.409 1438.62 101.409 1445.75 Q101.409 1452.86 103.214 1456.42 Q105.043 1459.96 108.654 1459.96 Q112.288 1459.96 114.094 1456.42 Q115.922 1452.86 115.922 1445.75 Q115.922 1438.62 114.094 1435.08 Q112.288 1431.51 108.654 1431.51 M108.654 1427.81 Q114.464 1427.81 117.52 1432.42 Q120.598 1437 120.598 1445.75 Q120.598 1454.48 117.52 1459.08 Q114.464 1463.67 108.654 1463.67 Q102.844 1463.67 99.765 1459.08 Q96.7095 1454.48 96.7095 1445.75 Q96.7095 1437 99.765 1432.42 Q102.844 1427.81 108.654 1427.81 Z\" fill=\"#000000\" fill-rule=\"nonzero\" fill-opacity=\"1\" /><path clip-path=\"url(#clip690)\" d=\"M64.6495 1203.58 Q61.0384 1203.58 59.2097 1207.15 Q57.4041 1210.69 57.4041 1217.82 Q57.4041 1224.93 59.2097 1228.49 Q61.0384 1232.03 64.6495 1232.03 Q68.2837 1232.03 70.0892 1228.49 Q71.9179 1224.93 71.9179 1217.82 Q71.9179 1210.69 70.0892 1207.15 Q68.2837 1203.58 64.6495 1203.58 M64.6495 1199.88 Q70.4596 1199.88 73.5152 1204.49 Q76.5938 1209.07 76.5938 1217.82 Q76.5938 1226.55 73.5152 1231.15 Q70.4596 1235.74 64.6495 1235.74 Q58.8393 1235.74 55.7606 1231.15 Q52.7051 1226.55 52.7051 1217.82 Q52.7051 1209.07 55.7606 1204.49 Q58.8393 1199.88 64.6495 1199.88 Z\" fill=\"#000000\" fill-rule=\"nonzero\" fill-opacity=\"1\" /><path clip-path=\"url(#clip690)\" d=\"M84.8114 1229.18 L89.6956 1229.18 L89.6956 1235.06 L84.8114 1235.06 L84.8114 1229.18 Z\" fill=\"#000000\" fill-rule=\"nonzero\" fill-opacity=\"1\" /><path clip-path=\"url(#clip690)\" d=\"M100.691 1231.13 L108.33 1231.13 L108.33 1204.76 L100.02 1206.43 L100.02 1202.17 L108.283 1200.5 L112.959 1200.5 L112.959 1231.13 L120.598 1231.13 L120.598 1235.06 L100.691 1235.06 L100.691 1231.13 Z\" fill=\"#000000\" fill-rule=\"nonzero\" fill-opacity=\"1\" /><path clip-path=\"url(#clip690)\" d=\"M65.0198 975.651 Q61.4087 975.651 59.58 979.216 Q57.7745 982.758 57.7745 989.888 Q57.7745 996.994 59.58 1000.56 Q61.4087 1004.1 65.0198 1004.1 Q68.6541 1004.1 70.4596 1000.56 Q72.2883 996.994 72.2883 989.888 Q72.2883 982.758 70.4596 979.216 Q68.6541 975.651 65.0198 975.651 M65.0198 971.948 Q70.83 971.948 73.8855 976.554 Q76.9642 981.138 76.9642 989.888 Q76.9642 998.614 73.8855 1003.22 Q70.83 1007.8 65.0198 1007.8 Q59.2097 1007.8 56.131 1003.22 Q53.0754 998.614 53.0754 989.888 Q53.0754 981.138 56.131 976.554 Q59.2097 971.948 65.0198 971.948 Z\" fill=\"#000000\" fill-rule=\"nonzero\" fill-opacity=\"1\" /><path clip-path=\"url(#clip690)\" d=\"M85.1818 1001.25 L90.066 1001.25 L90.066 1007.13 L85.1818 1007.13 L85.1818 1001.25 Z\" fill=\"#000000\" fill-rule=\"nonzero\" fill-opacity=\"1\" /><path clip-path=\"url(#clip690)\" d=\"M104.279 1003.2 L120.598 1003.2 L120.598 1007.13 L98.6539 1007.13 L98.6539 1003.2 Q101.316 1000.44 105.899 995.813 Q110.506 991.161 111.686 989.818 Q113.932 987.295 114.811 985.559 Q115.714 983.8 115.714 982.11 Q115.714 979.355 113.77 977.619 Q111.848 975.883 108.746 975.883 Q106.547 975.883 104.094 976.647 Q101.663 977.411 98.8854 978.962 L98.8854 974.239 Q101.709 973.105 104.163 972.526 Q106.617 971.948 108.654 971.948 Q114.024 971.948 117.219 974.633 Q120.413 977.318 120.413 981.809 Q120.413 983.938 119.603 985.86 Q118.816 987.758 116.709 990.35 Q116.131 991.022 113.029 994.239 Q109.927 997.434 104.279 1003.2 Z\" fill=\"#000000\" fill-rule=\"nonzero\" fill-opacity=\"1\" /><path clip-path=\"url(#clip690)\" d=\"M64.0708 747.72 Q60.4597 747.72 58.631 751.285 Q56.8254 754.826 56.8254 761.956 Q56.8254 769.063 58.631 772.627 Q60.4597 776.169 64.0708 776.169 Q67.705 776.169 69.5105 772.627 Q71.3392 769.063 71.3392 761.956 Q71.3392 754.826 69.5105 751.285 Q67.705 747.72 64.0708 747.72 M64.0708 744.016 Q69.8809 744.016 72.9365 748.623 Q76.0151 753.206 76.0151 761.956 Q76.0151 770.683 72.9365 775.289 Q69.8809 779.873 64.0708 779.873 Q58.2606 779.873 55.1819 775.289 Q52.1264 770.683 52.1264 761.956 Q52.1264 753.206 55.1819 748.623 Q58.2606 744.016 64.0708 744.016 Z\" fill=\"#000000\" fill-rule=\"nonzero\" fill-opacity=\"1\" /><path clip-path=\"url(#clip690)\" d=\"M84.2327 773.322 L89.1169 773.322 L89.1169 779.201 L84.2327 779.201 L84.2327 773.322 Z\" fill=\"#000000\" fill-rule=\"nonzero\" fill-opacity=\"1\" /><path clip-path=\"url(#clip690)\" d=\"M113.469 760.567 Q116.825 761.285 118.7 763.553 Q120.598 765.822 120.598 769.155 Q120.598 774.271 117.08 777.072 Q113.561 779.873 107.08 779.873 Q104.904 779.873 102.589 779.433 Q100.297 779.016 97.8437 778.16 L97.8437 773.646 Q99.7882 774.78 102.103 775.359 Q104.418 775.937 106.941 775.937 Q111.339 775.937 113.631 774.201 Q115.945 772.465 115.945 769.155 Q115.945 766.1 113.793 764.387 Q111.663 762.651 107.844 762.651 L103.816 762.651 L103.816 758.808 L108.029 758.808 Q111.478 758.808 113.307 757.442 Q115.135 756.053 115.135 753.461 Q115.135 750.799 113.237 749.387 Q111.362 747.952 107.844 747.952 Q105.922 747.952 103.723 748.368 Q101.524 748.785 98.8854 749.664 L98.8854 745.498 Q101.547 744.757 103.862 744.387 Q106.2 744.016 108.26 744.016 Q113.584 744.016 116.686 746.447 Q119.788 748.854 119.788 752.975 Q119.788 755.845 118.145 757.836 Q116.501 759.803 113.469 760.567 Z\" fill=\"#000000\" fill-rule=\"nonzero\" fill-opacity=\"1\" /><path clip-path=\"url(#clip690)\" d=\"M62.9365 519.789 Q59.3254 519.789 57.4967 523.353 Q55.6912 526.895 55.6912 534.025 Q55.6912 541.131 57.4967 544.696 Q59.3254 548.237 62.9365 548.237 Q66.5707 548.237 68.3763 544.696 Q70.205 541.131 70.205 534.025 Q70.205 526.895 68.3763 523.353 Q66.5707 519.789 62.9365 519.789 M62.9365 516.085 Q68.7467 516.085 71.8022 520.691 Q74.8809 525.275 74.8809 534.025 Q74.8809 542.751 71.8022 547.358 Q68.7467 551.941 62.9365 551.941 Q57.1264 551.941 54.0477 547.358 Q50.9921 542.751 50.9921 534.025 Q50.9921 525.275 54.0477 520.691 Q57.1264 516.085 62.9365 516.085 Z\" fill=\"#000000\" fill-rule=\"nonzero\" fill-opacity=\"1\" /><path clip-path=\"url(#clip690)\" d=\"M83.0984 545.39 L87.9827 545.39 L87.9827 551.27 L83.0984 551.27 L83.0984 545.39 Z\" fill=\"#000000\" fill-rule=\"nonzero\" fill-opacity=\"1\" /><path clip-path=\"url(#clip690)\" d=\"M111.015 520.784 L99.2095 539.233 L111.015 539.233 L111.015 520.784 M109.788 516.71 L115.668 516.71 L115.668 539.233 L120.598 539.233 L120.598 543.122 L115.668 543.122 L115.668 551.27 L111.015 551.27 L111.015 543.122 L95.4132 543.122 L95.4132 538.608 L109.788 516.71 Z\" fill=\"#000000\" fill-rule=\"nonzero\" fill-opacity=\"1\" /><path clip-path=\"url(#clip690)\" d=\"M64.418 291.857 Q60.8069 291.857 58.9782 295.422 Q57.1726 298.964 57.1726 306.093 Q57.1726 313.2 58.9782 316.764 Q60.8069 320.306 64.418 320.306 Q68.0522 320.306 69.8578 316.764 Q71.6865 313.2 71.6865 306.093 Q71.6865 298.964 69.8578 295.422 Q68.0522 291.857 64.418 291.857 M64.418 288.153 Q70.2281 288.153 73.2837 292.76 Q76.3624 297.343 76.3624 306.093 Q76.3624 314.82 73.2837 319.426 Q70.2281 324.01 64.418 324.01 Q58.6078 324.01 55.5291 319.426 Q52.4736 314.82 52.4736 306.093 Q52.4736 297.343 55.5291 292.76 Q58.6078 288.153 64.418 288.153 Z\" fill=\"#000000\" fill-rule=\"nonzero\" fill-opacity=\"1\" /><path clip-path=\"url(#clip690)\" d=\"M84.5799 317.459 L89.4641 317.459 L89.4641 323.338 L84.5799 323.338 L84.5799 317.459 Z\" fill=\"#000000\" fill-rule=\"nonzero\" fill-opacity=\"1\" /><path clip-path=\"url(#clip690)\" d=\"M99.6956 288.778 L118.052 288.778 L118.052 292.714 L103.978 292.714 L103.978 301.186 Q104.996 300.839 106.015 300.677 Q107.033 300.491 108.052 300.491 Q113.839 300.491 117.219 303.663 Q120.598 306.834 120.598 312.251 Q120.598 317.829 117.126 320.931 Q113.654 324.01 107.334 324.01 Q105.159 324.01 102.89 323.639 Q100.645 323.269 98.2372 322.528 L98.2372 317.829 Q100.321 318.963 102.543 319.519 Q104.765 320.075 107.242 320.075 Q111.246 320.075 113.584 317.968 Q115.922 315.862 115.922 312.251 Q115.922 308.639 113.584 306.533 Q111.246 304.426 107.242 304.426 Q105.367 304.426 103.492 304.843 Q101.64 305.26 99.6956 306.139 L99.6956 288.778 Z\" fill=\"#000000\" fill-rule=\"nonzero\" fill-opacity=\"1\" /><path clip-path=\"url(#clip690)\" d=\"M63.2606 63.9257 Q59.6495 63.9257 57.8208 67.4905 Q56.0152 71.0321 56.0152 78.1617 Q56.0152 85.2681 57.8208 88.8329 Q59.6495 92.3746 63.2606 92.3746 Q66.8948 92.3746 68.7004 88.8329 Q70.5291 85.2681 70.5291 78.1617 Q70.5291 71.0321 68.7004 67.4905 Q66.8948 63.9257 63.2606 63.9257 M63.2606 60.222 Q69.0707 60.222 72.1263 64.8284 Q75.205 69.4118 75.205 78.1617 Q75.205 86.8885 72.1263 91.495 Q69.0707 96.0783 63.2606 96.0783 Q57.4504 96.0783 54.3717 91.495 Q51.3162 86.8885 51.3162 78.1617 Q51.3162 69.4118 54.3717 64.8284 Q57.4504 60.222 63.2606 60.222 Z\" fill=\"#000000\" fill-rule=\"nonzero\" fill-opacity=\"1\" /><path clip-path=\"url(#clip690)\" d=\"M83.4225 89.5274 L88.3067 89.5274 L88.3067 95.407 L83.4225 95.407 L83.4225 89.5274 Z\" fill=\"#000000\" fill-rule=\"nonzero\" fill-opacity=\"1\" /><path clip-path=\"url(#clip690)\" d=\"M109.071 76.2636 Q105.922 76.2636 104.071 78.4163 Q102.242 80.5691 102.242 84.3191 Q102.242 88.0459 104.071 90.2218 Q105.922 92.3746 109.071 92.3746 Q112.219 92.3746 114.047 90.2218 Q115.899 88.0459 115.899 84.3191 Q115.899 80.5691 114.047 78.4163 Q112.219 76.2636 109.071 76.2636 M118.353 61.6109 L118.353 65.8701 Q116.594 65.0368 114.788 64.597 Q113.006 64.1572 111.246 64.1572 Q106.617 64.1572 104.163 67.2821 Q101.733 70.4071 101.385 76.7265 Q102.751 74.7127 104.811 73.6478 Q106.871 72.5599 109.348 72.5599 Q114.557 72.5599 117.566 75.7312 Q120.598 78.8793 120.598 84.3191 Q120.598 89.6431 117.45 92.8607 Q114.302 96.0783 109.071 96.0783 Q103.075 96.0783 99.9039 91.495 Q96.7326 86.8885 96.7326 78.1617 Q96.7326 69.9673 100.621 65.1062 Q104.51 60.222 111.061 60.222 Q112.82 60.222 114.603 60.5692 Q116.408 60.9164 118.353 61.6109 Z\" fill=\"#000000\" fill-rule=\"nonzero\" fill-opacity=\"1\" /><polyline clip-path=\"url(#clip692)\" style=\"stroke:#009af9; stroke-linecap:round; stroke-linejoin:round; stroke-width:4; stroke-opacity:1; fill:none\" points=\"218.754,1445.62 229.165,1445.52 239.576,1445.3 249.988,1444.87 260.399,1444.03 270.81,1442.48 281.221,1439.73 291.633,1435.01 302.044,1427.24 312.455,1414.92 322.867,1396.15 333.278,1368.65 343.689,1329.94 354.1,1277.6 364.512,1209.67 374.923,1125.1 385.334,1024.22 395.746,909.036 406.157,783.375 416.568,652.677 426.979,523.49 437.391,402.708 447.802,296.674 458.213,210.345 468.625,146.68 479.036,106.373 489.447,87.9763 499.858,88.3573 510.27,103.36 520.681,128.509 531.092,159.618 541.504,193.199 551.915,226.652 562.326,258.274 572.738,287.158 583.149,313.044 593.56,336.195 603.971,357.293 614.383,377.358 624.794,397.636 635.205,419.461 645.617,444.071 656.028,472.41 666.439,504.967 676.85,541.691 687.262,582.017 697.673,624.987 708.084,669.456 718.496,714.306 728.907,758.627 739.318,801.816 749.729,843.587 760.141,883.889 770.552,922.789 780.963,960.348 791.375,996.525 801.786,1031.16 812.197,1063.97 822.609,1094.68 833.02,1123.03 843.431,1148.9 853.842,1172.35 864.254,1193.58 874.665,1212.91 885.076,1230.7 895.488,1247.29 905.899,1262.91 916.31,1277.62 926.721,1291.37 937.133,1303.94 947.544,1315.09 957.955,1324.56 968.367,1332.18 978.778,1337.93 989.189,1341.97 999.6,1344.65 1010.01,1346.47 1020.42,1348.04 1030.83,1349.99 1041.25,1352.88 1051.66,1357.12 1062.07,1362.91 1072.48,1370.21 1082.89,1378.73 1093.3,1388.03 1103.71,1397.59 1114.12,1406.87 1124.54,1415.4 1134.95,1422.87 1145.36,1429.1 1155.77,1434.06 1166.18,1437.82 1176.59,1440.57 1187,1442.48 1197.41,1443.75 1207.83,1444.57 1218.24,1445.07 1228.65,1445.37 1239.06,1445.53 1249.47,1445.62 1259.88,1445.67 1270.29,1445.69 1280.71,1445.71 1291.12,1445.71 1301.53,1445.71 1311.94,1445.72 1322.35,1445.72 1332.76,1445.72 1343.17,1445.72 1353.58,1445.72 1364,1445.72 1374.41,1445.72 1384.82,1445.72 1395.23,1445.72 1405.64,1445.72 1416.05,1445.72 1426.46,1445.72 1436.87,1445.72 1447.29,1445.72 1457.7,1445.72 1468.11,1445.72 1478.52,1445.72 1488.93,1445.72 1499.34,1445.72 1509.75,1445.72 1520.16,1445.72 1530.58,1445.72 1540.99,1445.72 1551.4,1445.72 1561.81,1445.72 1572.22,1445.72 1582.63,1445.72 1593.04,1445.72 1603.46,1445.72 1613.87,1445.72 1624.28,1445.72 1634.69,1445.72 1645.1,1445.72 1655.51,1445.72 1665.92,1445.72 1676.33,1445.72 1686.75,1445.72 1697.16,1445.72 1707.57,1445.72 1717.98,1445.72 1728.39,1445.72 1738.8,1445.72 1749.21,1445.72 1759.62,1445.72 1770.04,1445.72 1780.45,1445.72 1790.86,1445.72 1801.27,1445.72 1811.68,1445.72 1822.09,1445.72 1832.5,1445.71 1842.91,1445.71 1853.33,1445.71 1863.74,1445.7 1874.15,1445.69 1884.56,1445.66 1894.97,1445.61 1905.38,1445.51 1915.79,1445.34 1926.21,1445.05 1936.62,1444.59 1947.03,1443.87 1957.44,1442.82 1967.85,1441.35 1978.26,1439.35 1988.67,1436.8 1999.08,1433.67 2009.5,1430.06 2019.91,1426.11 2030.32,1422.07 2040.73,1418.25 2051.14,1414.99 2061.55,1412.61 2071.96,1411.37 2082.37,1411.4 2092.79,1412.7 2103.2,1415.11 2113.61,1418.4 2124.02,1422.24 2134.43,1426.28 2144.84,1430.22 2155.25,1433.82 2165.67,1436.92 2176.08,1439.45 2186.49,1441.42 2196.9,1442.88 2207.31,1443.91 2217.72,1444.61 2228.13,1445.06 2238.54,1445.34 2248.96,1445.51 2259.37,1445.61 2269.78,1445.66 2280.19,1445.67 2290.6,1445.67 \"/>\n",
       "<path clip-path=\"url(#clip690)\" d=\"M2007.5 198.898 L2279.55 198.898 L2279.55 95.2176 L2007.5 95.2176  Z\" fill=\"#ffffff\" fill-rule=\"evenodd\" fill-opacity=\"1\"/>\n",
       "<polyline clip-path=\"url(#clip690)\" style=\"stroke:#000000; stroke-linecap:round; stroke-linejoin:round; stroke-width:4; stroke-opacity:1; fill:none\" points=\"2007.5,198.898 2279.55,198.898 2279.55,95.2176 2007.5,95.2176 2007.5,198.898 \"/>\n",
       "<polyline clip-path=\"url(#clip690)\" style=\"stroke:#009af9; stroke-linecap:round; stroke-linejoin:round; stroke-width:4; stroke-opacity:1; fill:none\" points=\"2031.91,147.058 2178.32,147.058 \"/>\n",
       "<path clip-path=\"url(#clip690)\" d=\"M2216.56 166.745 Q2214.76 171.375 2213.04 172.787 Q2211.33 174.199 2208.46 174.199 L2205.06 174.199 L2205.06 170.634 L2207.56 170.634 Q2209.32 170.634 2210.29 169.8 Q2211.26 168.967 2212.44 165.865 L2213.2 163.921 L2202.72 138.412 L2207.23 138.412 L2215.33 158.689 L2223.44 138.412 L2227.95 138.412 L2216.56 166.745 Z\" fill=\"#000000\" fill-rule=\"nonzero\" fill-opacity=\"1\" /><path clip-path=\"url(#clip690)\" d=\"M2235.24 160.402 L2242.88 160.402 L2242.88 134.037 L2234.57 135.703 L2234.57 131.444 L2242.83 129.778 L2247.51 129.778 L2247.51 160.402 L2255.15 160.402 L2255.15 164.338 L2235.24 164.338 L2235.24 160.402 Z\" fill=\"#000000\" fill-rule=\"nonzero\" fill-opacity=\"1\" /></svg>\n"
      ],
      "text/html": [
       "<?xml version=\"1.0\" encoding=\"utf-8\"?>\n",
       "<svg xmlns=\"http://www.w3.org/2000/svg\" xmlns:xlink=\"http://www.w3.org/1999/xlink\" width=\"600\" height=\"400\" viewBox=\"0 0 2400 1600\">\n",
       "<defs>\n",
       "  <clipPath id=\"clip740\">\n",
       "    <rect x=\"0\" y=\"0\" width=\"2400\" height=\"1600\"/>\n",
       "  </clipPath>\n",
       "</defs>\n",
       "<path clip-path=\"url(#clip740)\" d=\"M0 1600 L2400 1600 L2400 8.88178e-14 L0 8.88178e-14  Z\" fill=\"#ffffff\" fill-rule=\"evenodd\" fill-opacity=\"1\"/>\n",
       "<defs>\n",
       "  <clipPath id=\"clip741\">\n",
       "    <rect x=\"480\" y=\"0\" width=\"1681\" height=\"1600\"/>\n",
       "  </clipPath>\n",
       "</defs>\n",
       "<path clip-path=\"url(#clip740)\" d=\"M156.598 1486.45 L2352.76 1486.45 L2352.76 47.2441 L156.598 47.2441  Z\" fill=\"#ffffff\" fill-rule=\"evenodd\" fill-opacity=\"1\"/>\n",
       "<defs>\n",
       "  <clipPath id=\"clip742\">\n",
       "    <rect x=\"156\" y=\"47\" width=\"2197\" height=\"1440\"/>\n",
       "  </clipPath>\n",
       "</defs>\n",
       "<polyline clip-path=\"url(#clip742)\" style=\"stroke:#000000; stroke-linecap:round; stroke-linejoin:round; stroke-width:2; stroke-opacity:0.1; fill:none\" points=\"621.179,1486.45 621.179,47.2441 \"/>\n",
       "<polyline clip-path=\"url(#clip742)\" style=\"stroke:#000000; stroke-linecap:round; stroke-linejoin:round; stroke-width:2; stroke-opacity:0.1; fill:none\" points=\"1135.19,1486.45 1135.19,47.2441 \"/>\n",
       "<polyline clip-path=\"url(#clip742)\" style=\"stroke:#000000; stroke-linecap:round; stroke-linejoin:round; stroke-width:2; stroke-opacity:0.1; fill:none\" points=\"1649.2,1486.45 1649.2,47.2441 \"/>\n",
       "<polyline clip-path=\"url(#clip742)\" style=\"stroke:#000000; stroke-linecap:round; stroke-linejoin:round; stroke-width:2; stroke-opacity:0.1; fill:none\" points=\"2163.22,1486.45 2163.22,47.2441 \"/>\n",
       "<polyline clip-path=\"url(#clip742)\" style=\"stroke:#000000; stroke-linecap:round; stroke-linejoin:round; stroke-width:2; stroke-opacity:0.1; fill:none\" points=\"156.598,1445.72 2352.76,1445.72 \"/>\n",
       "<polyline clip-path=\"url(#clip742)\" style=\"stroke:#000000; stroke-linecap:round; stroke-linejoin:round; stroke-width:2; stroke-opacity:0.1; fill:none\" points=\"156.598,1217.78 2352.76,1217.78 \"/>\n",
       "<polyline clip-path=\"url(#clip742)\" style=\"stroke:#000000; stroke-linecap:round; stroke-linejoin:round; stroke-width:2; stroke-opacity:0.1; fill:none\" points=\"156.598,989.853 2352.76,989.853 \"/>\n",
       "<polyline clip-path=\"url(#clip742)\" style=\"stroke:#000000; stroke-linecap:round; stroke-linejoin:round; stroke-width:2; stroke-opacity:0.1; fill:none\" points=\"156.598,761.921 2352.76,761.921 \"/>\n",
       "<polyline clip-path=\"url(#clip742)\" style=\"stroke:#000000; stroke-linecap:round; stroke-linejoin:round; stroke-width:2; stroke-opacity:0.1; fill:none\" points=\"156.598,533.99 2352.76,533.99 \"/>\n",
       "<polyline clip-path=\"url(#clip742)\" style=\"stroke:#000000; stroke-linecap:round; stroke-linejoin:round; stroke-width:2; stroke-opacity:0.1; fill:none\" points=\"156.598,306.058 2352.76,306.058 \"/>\n",
       "<polyline clip-path=\"url(#clip742)\" style=\"stroke:#000000; stroke-linecap:round; stroke-linejoin:round; stroke-width:2; stroke-opacity:0.1; fill:none\" points=\"156.598,78.127 2352.76,78.127 \"/>\n",
       "<polyline clip-path=\"url(#clip740)\" style=\"stroke:#000000; stroke-linecap:round; stroke-linejoin:round; stroke-width:4; stroke-opacity:1; fill:none\" points=\"156.598,1486.45 2352.76,1486.45 \"/>\n",
       "<polyline clip-path=\"url(#clip740)\" style=\"stroke:#000000; stroke-linecap:round; stroke-linejoin:round; stroke-width:4; stroke-opacity:1; fill:none\" points=\"621.179,1486.45 621.179,1467.55 \"/>\n",
       "<polyline clip-path=\"url(#clip740)\" style=\"stroke:#000000; stroke-linecap:round; stroke-linejoin:round; stroke-width:4; stroke-opacity:1; fill:none\" points=\"1135.19,1486.45 1135.19,1467.55 \"/>\n",
       "<polyline clip-path=\"url(#clip740)\" style=\"stroke:#000000; stroke-linecap:round; stroke-linejoin:round; stroke-width:4; stroke-opacity:1; fill:none\" points=\"1649.2,1486.45 1649.2,1467.55 \"/>\n",
       "<polyline clip-path=\"url(#clip740)\" style=\"stroke:#000000; stroke-linecap:round; stroke-linejoin:round; stroke-width:4; stroke-opacity:1; fill:none\" points=\"2163.22,1486.45 2163.22,1467.55 \"/>\n",
       "<path clip-path=\"url(#clip740)\" d=\"M598.563 1517.37 Q594.952 1517.37 593.123 1520.93 Q591.318 1524.47 591.318 1531.6 Q591.318 1538.71 593.123 1542.27 Q594.952 1545.82 598.563 1545.82 Q602.197 1545.82 604.003 1542.27 Q605.831 1538.71 605.831 1531.6 Q605.831 1524.47 604.003 1520.93 Q602.197 1517.37 598.563 1517.37 M598.563 1513.66 Q604.373 1513.66 607.429 1518.27 Q610.507 1522.85 610.507 1531.6 Q610.507 1540.33 607.429 1544.94 Q604.373 1549.52 598.563 1549.52 Q592.753 1549.52 589.674 1544.94 Q586.619 1540.33 586.619 1531.6 Q586.619 1522.85 589.674 1518.27 Q592.753 1513.66 598.563 1513.66 Z\" fill=\"#000000\" fill-rule=\"nonzero\" fill-opacity=\"1\" /><path clip-path=\"url(#clip740)\" d=\"M618.725 1542.97 L623.609 1542.97 L623.609 1548.85 L618.725 1548.85 L618.725 1542.97 Z\" fill=\"#000000\" fill-rule=\"nonzero\" fill-opacity=\"1\" /><path clip-path=\"url(#clip740)\" d=\"M643.794 1517.37 Q640.183 1517.37 638.354 1520.93 Q636.549 1524.47 636.549 1531.6 Q636.549 1538.71 638.354 1542.27 Q640.183 1545.82 643.794 1545.82 Q647.428 1545.82 649.234 1542.27 Q651.063 1538.71 651.063 1531.6 Q651.063 1524.47 649.234 1520.93 Q647.428 1517.37 643.794 1517.37 M643.794 1513.66 Q649.604 1513.66 652.66 1518.27 Q655.739 1522.85 655.739 1531.6 Q655.739 1540.33 652.66 1544.94 Q649.604 1549.52 643.794 1549.52 Q637.984 1549.52 634.905 1544.94 Q631.85 1540.33 631.85 1531.6 Q631.85 1522.85 634.905 1518.27 Q637.984 1513.66 643.794 1513.66 Z\" fill=\"#000000\" fill-rule=\"nonzero\" fill-opacity=\"1\" /><path clip-path=\"url(#clip740)\" d=\"M1106.93 1544.91 L1123.25 1544.91 L1123.25 1548.85 L1101.3 1548.85 L1101.3 1544.91 Q1103.96 1542.16 1108.55 1537.53 Q1113.15 1532.88 1114.33 1531.53 Q1116.58 1529.01 1117.46 1527.27 Q1118.36 1525.51 1118.36 1523.82 Q1118.36 1521.07 1116.42 1519.33 Q1114.5 1517.6 1111.39 1517.6 Q1109.2 1517.6 1106.74 1518.36 Q1104.31 1519.13 1101.53 1520.68 L1101.53 1515.95 Q1104.36 1514.82 1106.81 1514.24 Q1109.27 1513.66 1111.3 1513.66 Q1116.67 1513.66 1119.87 1516.35 Q1123.06 1519.03 1123.06 1523.52 Q1123.06 1525.65 1122.25 1527.57 Q1121.46 1529.47 1119.36 1532.07 Q1118.78 1532.74 1115.68 1535.95 Q1112.58 1539.15 1106.93 1544.91 Z\" fill=\"#000000\" fill-rule=\"nonzero\" fill-opacity=\"1\" /><path clip-path=\"url(#clip740)\" d=\"M1133.06 1542.97 L1137.95 1542.97 L1137.95 1548.85 L1133.06 1548.85 L1133.06 1542.97 Z\" fill=\"#000000\" fill-rule=\"nonzero\" fill-opacity=\"1\" /><path clip-path=\"url(#clip740)\" d=\"M1148.18 1514.29 L1166.53 1514.29 L1166.53 1518.22 L1152.46 1518.22 L1152.46 1526.7 Q1153.48 1526.35 1154.5 1526.19 Q1155.52 1526 1156.53 1526 Q1162.32 1526 1165.7 1529.17 Q1169.08 1532.34 1169.08 1537.76 Q1169.08 1543.34 1165.61 1546.44 Q1162.14 1549.52 1155.82 1549.52 Q1153.64 1549.52 1151.37 1549.15 Q1149.13 1548.78 1146.72 1548.04 L1146.72 1543.34 Q1148.8 1544.47 1151.02 1545.03 Q1153.25 1545.58 1155.72 1545.58 Q1159.73 1545.58 1162.07 1543.48 Q1164.4 1541.37 1164.4 1537.76 Q1164.4 1534.15 1162.07 1532.04 Q1159.73 1529.94 1155.72 1529.94 Q1153.85 1529.94 1151.97 1530.35 Q1150.12 1530.77 1148.18 1531.65 L1148.18 1514.29 Z\" fill=\"#000000\" fill-rule=\"nonzero\" fill-opacity=\"1\" /><path clip-path=\"url(#clip740)\" d=\"M1616.37 1514.29 L1634.72 1514.29 L1634.72 1518.22 L1620.65 1518.22 L1620.65 1526.7 Q1621.67 1526.35 1622.69 1526.19 Q1623.71 1526 1624.72 1526 Q1630.51 1526 1633.89 1529.17 Q1637.27 1532.34 1637.27 1537.76 Q1637.27 1543.34 1633.8 1546.44 Q1630.33 1549.52 1624.01 1549.52 Q1621.83 1549.52 1619.56 1549.15 Q1617.32 1548.78 1614.91 1548.04 L1614.91 1543.34 Q1616.99 1544.47 1619.22 1545.03 Q1621.44 1545.58 1623.91 1545.58 Q1627.92 1545.58 1630.26 1543.48 Q1632.59 1541.37 1632.59 1537.76 Q1632.59 1534.15 1630.26 1532.04 Q1627.92 1529.94 1623.91 1529.94 Q1622.04 1529.94 1620.16 1530.35 Q1618.31 1530.77 1616.37 1531.65 L1616.37 1514.29 Z\" fill=\"#000000\" fill-rule=\"nonzero\" fill-opacity=\"1\" /><path clip-path=\"url(#clip740)\" d=\"M1646.48 1542.97 L1651.37 1542.97 L1651.37 1548.85 L1646.48 1548.85 L1646.48 1542.97 Z\" fill=\"#000000\" fill-rule=\"nonzero\" fill-opacity=\"1\" /><path clip-path=\"url(#clip740)\" d=\"M1671.55 1517.37 Q1667.94 1517.37 1666.11 1520.93 Q1664.31 1524.47 1664.31 1531.6 Q1664.31 1538.71 1666.11 1542.27 Q1667.94 1545.82 1671.55 1545.82 Q1675.19 1545.82 1676.99 1542.27 Q1678.82 1538.71 1678.82 1531.6 Q1678.82 1524.47 1676.99 1520.93 Q1675.19 1517.37 1671.55 1517.37 M1671.55 1513.66 Q1677.36 1513.66 1680.42 1518.27 Q1683.5 1522.85 1683.5 1531.6 Q1683.5 1540.33 1680.42 1544.94 Q1677.36 1549.52 1671.55 1549.52 Q1665.74 1549.52 1662.66 1544.94 Q1659.61 1540.33 1659.61 1531.6 Q1659.61 1522.85 1662.66 1518.27 Q1665.74 1513.66 1671.55 1513.66 Z\" fill=\"#000000\" fill-rule=\"nonzero\" fill-opacity=\"1\" /><path clip-path=\"url(#clip740)\" d=\"M2129.54 1514.29 L2151.76 1514.29 L2151.76 1516.28 L2139.21 1548.85 L2134.33 1548.85 L2146.13 1518.22 L2129.54 1518.22 L2129.54 1514.29 Z\" fill=\"#000000\" fill-rule=\"nonzero\" fill-opacity=\"1\" /><path clip-path=\"url(#clip740)\" d=\"M2160.88 1542.97 L2165.76 1542.97 L2165.76 1548.85 L2160.88 1548.85 L2160.88 1542.97 Z\" fill=\"#000000\" fill-rule=\"nonzero\" fill-opacity=\"1\" /><path clip-path=\"url(#clip740)\" d=\"M2175.99 1514.29 L2194.35 1514.29 L2194.35 1518.22 L2180.28 1518.22 L2180.28 1526.7 Q2181.29 1526.35 2182.31 1526.19 Q2183.33 1526 2184.35 1526 Q2190.14 1526 2193.52 1529.17 Q2196.9 1532.34 2196.9 1537.76 Q2196.9 1543.34 2193.42 1546.44 Q2189.95 1549.52 2183.63 1549.52 Q2181.46 1549.52 2179.19 1549.15 Q2176.94 1548.78 2174.54 1548.04 L2174.54 1543.34 Q2176.62 1544.47 2178.84 1545.03 Q2181.06 1545.58 2183.54 1545.58 Q2187.54 1545.58 2189.88 1543.48 Q2192.22 1541.37 2192.22 1537.76 Q2192.22 1534.15 2189.88 1532.04 Q2187.54 1529.94 2183.54 1529.94 Q2181.67 1529.94 2179.79 1530.35 Q2177.94 1530.77 2175.99 1531.65 L2175.99 1514.29 Z\" fill=\"#000000\" fill-rule=\"nonzero\" fill-opacity=\"1\" /><polyline clip-path=\"url(#clip740)\" style=\"stroke:#000000; stroke-linecap:round; stroke-linejoin:round; stroke-width:4; stroke-opacity:1; fill:none\" points=\"156.598,1486.45 156.598,47.2441 \"/>\n",
       "<polyline clip-path=\"url(#clip740)\" style=\"stroke:#000000; stroke-linecap:round; stroke-linejoin:round; stroke-width:4; stroke-opacity:1; fill:none\" points=\"156.598,1445.72 175.496,1445.72 \"/>\n",
       "<polyline clip-path=\"url(#clip740)\" style=\"stroke:#000000; stroke-linecap:round; stroke-linejoin:round; stroke-width:4; stroke-opacity:1; fill:none\" points=\"156.598,1217.78 175.496,1217.78 \"/>\n",
       "<polyline clip-path=\"url(#clip740)\" style=\"stroke:#000000; stroke-linecap:round; stroke-linejoin:round; stroke-width:4; stroke-opacity:1; fill:none\" points=\"156.598,989.853 175.496,989.853 \"/>\n",
       "<polyline clip-path=\"url(#clip740)\" style=\"stroke:#000000; stroke-linecap:round; stroke-linejoin:round; stroke-width:4; stroke-opacity:1; fill:none\" points=\"156.598,761.921 175.496,761.921 \"/>\n",
       "<polyline clip-path=\"url(#clip740)\" style=\"stroke:#000000; stroke-linecap:round; stroke-linejoin:round; stroke-width:4; stroke-opacity:1; fill:none\" points=\"156.598,533.99 175.496,533.99 \"/>\n",
       "<polyline clip-path=\"url(#clip740)\" style=\"stroke:#000000; stroke-linecap:round; stroke-linejoin:round; stroke-width:4; stroke-opacity:1; fill:none\" points=\"156.598,306.058 175.496,306.058 \"/>\n",
       "<polyline clip-path=\"url(#clip740)\" style=\"stroke:#000000; stroke-linecap:round; stroke-linejoin:round; stroke-width:4; stroke-opacity:1; fill:none\" points=\"156.598,78.127 175.496,78.127 \"/>\n",
       "<path clip-path=\"url(#clip740)\" d=\"M63.4226 1431.51 Q59.8115 1431.51 57.9828 1435.08 Q56.1773 1438.62 56.1773 1445.75 Q56.1773 1452.86 57.9828 1456.42 Q59.8115 1459.96 63.4226 1459.96 Q67.0569 1459.96 68.8624 1456.42 Q70.6911 1452.86 70.6911 1445.75 Q70.6911 1438.62 68.8624 1435.08 Q67.0569 1431.51 63.4226 1431.51 M63.4226 1427.81 Q69.2328 1427.81 72.2883 1432.42 Q75.367 1437 75.367 1445.75 Q75.367 1454.48 72.2883 1459.08 Q69.2328 1463.67 63.4226 1463.67 Q57.6125 1463.67 54.5338 1459.08 Q51.4782 1454.48 51.4782 1445.75 Q51.4782 1437 54.5338 1432.42 Q57.6125 1427.81 63.4226 1427.81 Z\" fill=\"#000000\" fill-rule=\"nonzero\" fill-opacity=\"1\" /><path clip-path=\"url(#clip740)\" d=\"M83.5845 1457.12 L88.4688 1457.12 L88.4688 1463 L83.5845 1463 L83.5845 1457.12 Z\" fill=\"#000000\" fill-rule=\"nonzero\" fill-opacity=\"1\" /><path clip-path=\"url(#clip740)\" d=\"M108.654 1431.51 Q105.043 1431.51 103.214 1435.08 Q101.409 1438.62 101.409 1445.75 Q101.409 1452.86 103.214 1456.42 Q105.043 1459.96 108.654 1459.96 Q112.288 1459.96 114.094 1456.42 Q115.922 1452.86 115.922 1445.75 Q115.922 1438.62 114.094 1435.08 Q112.288 1431.51 108.654 1431.51 M108.654 1427.81 Q114.464 1427.81 117.52 1432.42 Q120.598 1437 120.598 1445.75 Q120.598 1454.48 117.52 1459.08 Q114.464 1463.67 108.654 1463.67 Q102.844 1463.67 99.765 1459.08 Q96.7095 1454.48 96.7095 1445.75 Q96.7095 1437 99.765 1432.42 Q102.844 1427.81 108.654 1427.81 Z\" fill=\"#000000\" fill-rule=\"nonzero\" fill-opacity=\"1\" /><path clip-path=\"url(#clip740)\" d=\"M64.6495 1203.58 Q61.0384 1203.58 59.2097 1207.15 Q57.4041 1210.69 57.4041 1217.82 Q57.4041 1224.93 59.2097 1228.49 Q61.0384 1232.03 64.6495 1232.03 Q68.2837 1232.03 70.0892 1228.49 Q71.9179 1224.93 71.9179 1217.82 Q71.9179 1210.69 70.0892 1207.15 Q68.2837 1203.58 64.6495 1203.58 M64.6495 1199.88 Q70.4596 1199.88 73.5152 1204.49 Q76.5938 1209.07 76.5938 1217.82 Q76.5938 1226.55 73.5152 1231.15 Q70.4596 1235.74 64.6495 1235.74 Q58.8393 1235.74 55.7606 1231.15 Q52.7051 1226.55 52.7051 1217.82 Q52.7051 1209.07 55.7606 1204.49 Q58.8393 1199.88 64.6495 1199.88 Z\" fill=\"#000000\" fill-rule=\"nonzero\" fill-opacity=\"1\" /><path clip-path=\"url(#clip740)\" d=\"M84.8114 1229.18 L89.6956 1229.18 L89.6956 1235.06 L84.8114 1235.06 L84.8114 1229.18 Z\" fill=\"#000000\" fill-rule=\"nonzero\" fill-opacity=\"1\" /><path clip-path=\"url(#clip740)\" d=\"M100.691 1231.13 L108.33 1231.13 L108.33 1204.76 L100.02 1206.43 L100.02 1202.17 L108.283 1200.5 L112.959 1200.5 L112.959 1231.13 L120.598 1231.13 L120.598 1235.06 L100.691 1235.06 L100.691 1231.13 Z\" fill=\"#000000\" fill-rule=\"nonzero\" fill-opacity=\"1\" /><path clip-path=\"url(#clip740)\" d=\"M65.0198 975.651 Q61.4087 975.651 59.58 979.216 Q57.7745 982.758 57.7745 989.888 Q57.7745 996.994 59.58 1000.56 Q61.4087 1004.1 65.0198 1004.1 Q68.6541 1004.1 70.4596 1000.56 Q72.2883 996.994 72.2883 989.888 Q72.2883 982.758 70.4596 979.216 Q68.6541 975.651 65.0198 975.651 M65.0198 971.948 Q70.83 971.948 73.8855 976.554 Q76.9642 981.138 76.9642 989.888 Q76.9642 998.614 73.8855 1003.22 Q70.83 1007.8 65.0198 1007.8 Q59.2097 1007.8 56.131 1003.22 Q53.0754 998.614 53.0754 989.888 Q53.0754 981.138 56.131 976.554 Q59.2097 971.948 65.0198 971.948 Z\" fill=\"#000000\" fill-rule=\"nonzero\" fill-opacity=\"1\" /><path clip-path=\"url(#clip740)\" d=\"M85.1818 1001.25 L90.066 1001.25 L90.066 1007.13 L85.1818 1007.13 L85.1818 1001.25 Z\" fill=\"#000000\" fill-rule=\"nonzero\" fill-opacity=\"1\" /><path clip-path=\"url(#clip740)\" d=\"M104.279 1003.2 L120.598 1003.2 L120.598 1007.13 L98.6539 1007.13 L98.6539 1003.2 Q101.316 1000.44 105.899 995.813 Q110.506 991.161 111.686 989.818 Q113.932 987.295 114.811 985.559 Q115.714 983.8 115.714 982.11 Q115.714 979.355 113.77 977.619 Q111.848 975.883 108.746 975.883 Q106.547 975.883 104.094 976.647 Q101.663 977.411 98.8854 978.962 L98.8854 974.239 Q101.709 973.105 104.163 972.526 Q106.617 971.948 108.654 971.948 Q114.024 971.948 117.219 974.633 Q120.413 977.318 120.413 981.809 Q120.413 983.938 119.603 985.86 Q118.816 987.758 116.709 990.35 Q116.131 991.022 113.029 994.239 Q109.927 997.434 104.279 1003.2 Z\" fill=\"#000000\" fill-rule=\"nonzero\" fill-opacity=\"1\" /><path clip-path=\"url(#clip740)\" d=\"M64.0708 747.72 Q60.4597 747.72 58.631 751.285 Q56.8254 754.826 56.8254 761.956 Q56.8254 769.063 58.631 772.627 Q60.4597 776.169 64.0708 776.169 Q67.705 776.169 69.5105 772.627 Q71.3392 769.063 71.3392 761.956 Q71.3392 754.826 69.5105 751.285 Q67.705 747.72 64.0708 747.72 M64.0708 744.016 Q69.8809 744.016 72.9365 748.623 Q76.0151 753.206 76.0151 761.956 Q76.0151 770.683 72.9365 775.289 Q69.8809 779.873 64.0708 779.873 Q58.2606 779.873 55.1819 775.289 Q52.1264 770.683 52.1264 761.956 Q52.1264 753.206 55.1819 748.623 Q58.2606 744.016 64.0708 744.016 Z\" fill=\"#000000\" fill-rule=\"nonzero\" fill-opacity=\"1\" /><path clip-path=\"url(#clip740)\" d=\"M84.2327 773.322 L89.1169 773.322 L89.1169 779.201 L84.2327 779.201 L84.2327 773.322 Z\" fill=\"#000000\" fill-rule=\"nonzero\" fill-opacity=\"1\" /><path clip-path=\"url(#clip740)\" d=\"M113.469 760.567 Q116.825 761.285 118.7 763.553 Q120.598 765.822 120.598 769.155 Q120.598 774.271 117.08 777.072 Q113.561 779.873 107.08 779.873 Q104.904 779.873 102.589 779.433 Q100.297 779.016 97.8437 778.16 L97.8437 773.646 Q99.7882 774.78 102.103 775.359 Q104.418 775.937 106.941 775.937 Q111.339 775.937 113.631 774.201 Q115.945 772.465 115.945 769.155 Q115.945 766.1 113.793 764.387 Q111.663 762.651 107.844 762.651 L103.816 762.651 L103.816 758.808 L108.029 758.808 Q111.478 758.808 113.307 757.442 Q115.135 756.053 115.135 753.461 Q115.135 750.799 113.237 749.387 Q111.362 747.952 107.844 747.952 Q105.922 747.952 103.723 748.368 Q101.524 748.785 98.8854 749.664 L98.8854 745.498 Q101.547 744.757 103.862 744.387 Q106.2 744.016 108.26 744.016 Q113.584 744.016 116.686 746.447 Q119.788 748.854 119.788 752.975 Q119.788 755.845 118.145 757.836 Q116.501 759.803 113.469 760.567 Z\" fill=\"#000000\" fill-rule=\"nonzero\" fill-opacity=\"1\" /><path clip-path=\"url(#clip740)\" d=\"M62.9365 519.789 Q59.3254 519.789 57.4967 523.353 Q55.6912 526.895 55.6912 534.025 Q55.6912 541.131 57.4967 544.696 Q59.3254 548.237 62.9365 548.237 Q66.5707 548.237 68.3763 544.696 Q70.205 541.131 70.205 534.025 Q70.205 526.895 68.3763 523.353 Q66.5707 519.789 62.9365 519.789 M62.9365 516.085 Q68.7467 516.085 71.8022 520.691 Q74.8809 525.275 74.8809 534.025 Q74.8809 542.751 71.8022 547.358 Q68.7467 551.941 62.9365 551.941 Q57.1264 551.941 54.0477 547.358 Q50.9921 542.751 50.9921 534.025 Q50.9921 525.275 54.0477 520.691 Q57.1264 516.085 62.9365 516.085 Z\" fill=\"#000000\" fill-rule=\"nonzero\" fill-opacity=\"1\" /><path clip-path=\"url(#clip740)\" d=\"M83.0984 545.39 L87.9827 545.39 L87.9827 551.27 L83.0984 551.27 L83.0984 545.39 Z\" fill=\"#000000\" fill-rule=\"nonzero\" fill-opacity=\"1\" /><path clip-path=\"url(#clip740)\" d=\"M111.015 520.784 L99.2095 539.233 L111.015 539.233 L111.015 520.784 M109.788 516.71 L115.668 516.71 L115.668 539.233 L120.598 539.233 L120.598 543.122 L115.668 543.122 L115.668 551.27 L111.015 551.27 L111.015 543.122 L95.4132 543.122 L95.4132 538.608 L109.788 516.71 Z\" fill=\"#000000\" fill-rule=\"nonzero\" fill-opacity=\"1\" /><path clip-path=\"url(#clip740)\" d=\"M64.418 291.857 Q60.8069 291.857 58.9782 295.422 Q57.1726 298.964 57.1726 306.093 Q57.1726 313.2 58.9782 316.764 Q60.8069 320.306 64.418 320.306 Q68.0522 320.306 69.8578 316.764 Q71.6865 313.2 71.6865 306.093 Q71.6865 298.964 69.8578 295.422 Q68.0522 291.857 64.418 291.857 M64.418 288.153 Q70.2281 288.153 73.2837 292.76 Q76.3624 297.343 76.3624 306.093 Q76.3624 314.82 73.2837 319.426 Q70.2281 324.01 64.418 324.01 Q58.6078 324.01 55.5291 319.426 Q52.4736 314.82 52.4736 306.093 Q52.4736 297.343 55.5291 292.76 Q58.6078 288.153 64.418 288.153 Z\" fill=\"#000000\" fill-rule=\"nonzero\" fill-opacity=\"1\" /><path clip-path=\"url(#clip740)\" d=\"M84.5799 317.459 L89.4641 317.459 L89.4641 323.338 L84.5799 323.338 L84.5799 317.459 Z\" fill=\"#000000\" fill-rule=\"nonzero\" fill-opacity=\"1\" /><path clip-path=\"url(#clip740)\" d=\"M99.6956 288.778 L118.052 288.778 L118.052 292.714 L103.978 292.714 L103.978 301.186 Q104.996 300.839 106.015 300.677 Q107.033 300.491 108.052 300.491 Q113.839 300.491 117.219 303.663 Q120.598 306.834 120.598 312.251 Q120.598 317.829 117.126 320.931 Q113.654 324.01 107.334 324.01 Q105.159 324.01 102.89 323.639 Q100.645 323.269 98.2372 322.528 L98.2372 317.829 Q100.321 318.963 102.543 319.519 Q104.765 320.075 107.242 320.075 Q111.246 320.075 113.584 317.968 Q115.922 315.862 115.922 312.251 Q115.922 308.639 113.584 306.533 Q111.246 304.426 107.242 304.426 Q105.367 304.426 103.492 304.843 Q101.64 305.26 99.6956 306.139 L99.6956 288.778 Z\" fill=\"#000000\" fill-rule=\"nonzero\" fill-opacity=\"1\" /><path clip-path=\"url(#clip740)\" d=\"M63.2606 63.9257 Q59.6495 63.9257 57.8208 67.4905 Q56.0152 71.0321 56.0152 78.1617 Q56.0152 85.2681 57.8208 88.8329 Q59.6495 92.3746 63.2606 92.3746 Q66.8948 92.3746 68.7004 88.8329 Q70.5291 85.2681 70.5291 78.1617 Q70.5291 71.0321 68.7004 67.4905 Q66.8948 63.9257 63.2606 63.9257 M63.2606 60.222 Q69.0707 60.222 72.1263 64.8284 Q75.205 69.4118 75.205 78.1617 Q75.205 86.8885 72.1263 91.495 Q69.0707 96.0783 63.2606 96.0783 Q57.4504 96.0783 54.3717 91.495 Q51.3162 86.8885 51.3162 78.1617 Q51.3162 69.4118 54.3717 64.8284 Q57.4504 60.222 63.2606 60.222 Z\" fill=\"#000000\" fill-rule=\"nonzero\" fill-opacity=\"1\" /><path clip-path=\"url(#clip740)\" d=\"M83.4225 89.5274 L88.3067 89.5274 L88.3067 95.407 L83.4225 95.407 L83.4225 89.5274 Z\" fill=\"#000000\" fill-rule=\"nonzero\" fill-opacity=\"1\" /><path clip-path=\"url(#clip740)\" d=\"M109.071 76.2636 Q105.922 76.2636 104.071 78.4163 Q102.242 80.5691 102.242 84.3191 Q102.242 88.0459 104.071 90.2218 Q105.922 92.3746 109.071 92.3746 Q112.219 92.3746 114.047 90.2218 Q115.899 88.0459 115.899 84.3191 Q115.899 80.5691 114.047 78.4163 Q112.219 76.2636 109.071 76.2636 M118.353 61.6109 L118.353 65.8701 Q116.594 65.0368 114.788 64.597 Q113.006 64.1572 111.246 64.1572 Q106.617 64.1572 104.163 67.2821 Q101.733 70.4071 101.385 76.7265 Q102.751 74.7127 104.811 73.6478 Q106.871 72.5599 109.348 72.5599 Q114.557 72.5599 117.566 75.7312 Q120.598 78.8793 120.598 84.3191 Q120.598 89.6431 117.45 92.8607 Q114.302 96.0783 109.071 96.0783 Q103.075 96.0783 99.9039 91.495 Q96.7326 86.8885 96.7326 78.1617 Q96.7326 69.9673 100.621 65.1062 Q104.51 60.222 111.061 60.222 Q112.82 60.222 114.603 60.5692 Q116.408 60.9164 118.353 61.6109 Z\" fill=\"#000000\" fill-rule=\"nonzero\" fill-opacity=\"1\" /><polyline clip-path=\"url(#clip742)\" style=\"stroke:#009af9; stroke-linecap:round; stroke-linejoin:round; stroke-width:4; stroke-opacity:1; fill:none\" points=\"218.754,1445.62 229.165,1445.52 239.576,1445.3 249.988,1444.87 260.399,1444.03 270.81,1442.48 281.221,1439.73 291.633,1435.01 302.044,1427.24 312.455,1414.92 322.867,1396.15 333.278,1368.65 343.689,1329.94 354.1,1277.6 364.512,1209.67 374.923,1125.1 385.334,1024.22 395.746,909.036 406.157,783.375 416.568,652.677 426.979,523.49 437.391,402.708 447.802,296.674 458.213,210.345 468.625,146.68 479.036,106.373 489.447,87.9763 499.858,88.3573 510.27,103.36 520.681,128.509 531.092,159.618 541.504,193.199 551.915,226.652 562.326,258.274 572.738,287.158 583.149,313.044 593.56,336.195 603.971,357.293 614.383,377.358 624.794,397.636 635.205,419.461 645.617,444.071 656.028,472.41 666.439,504.967 676.85,541.691 687.262,582.017 697.673,624.987 708.084,669.456 718.496,714.306 728.907,758.627 739.318,801.816 749.729,843.587 760.141,883.889 770.552,922.789 780.963,960.348 791.375,996.525 801.786,1031.16 812.197,1063.97 822.609,1094.68 833.02,1123.03 843.431,1148.9 853.842,1172.35 864.254,1193.58 874.665,1212.91 885.076,1230.7 895.488,1247.29 905.899,1262.91 916.31,1277.62 926.721,1291.37 937.133,1303.94 947.544,1315.09 957.955,1324.56 968.367,1332.18 978.778,1337.93 989.189,1341.97 999.6,1344.65 1010.01,1346.47 1020.42,1348.04 1030.83,1349.99 1041.25,1352.88 1051.66,1357.12 1062.07,1362.91 1072.48,1370.21 1082.89,1378.73 1093.3,1388.03 1103.71,1397.59 1114.12,1406.87 1124.54,1415.4 1134.95,1422.87 1145.36,1429.1 1155.77,1434.06 1166.18,1437.82 1176.59,1440.57 1187,1442.48 1197.41,1443.75 1207.83,1444.57 1218.24,1445.07 1228.65,1445.37 1239.06,1445.53 1249.47,1445.62 1259.88,1445.67 1270.29,1445.69 1280.71,1445.71 1291.12,1445.71 1301.53,1445.71 1311.94,1445.72 1322.35,1445.72 1332.76,1445.72 1343.17,1445.72 1353.58,1445.72 1364,1445.72 1374.41,1445.72 1384.82,1445.72 1395.23,1445.72 1405.64,1445.72 1416.05,1445.72 1426.46,1445.72 1436.87,1445.72 1447.29,1445.72 1457.7,1445.72 1468.11,1445.72 1478.52,1445.72 1488.93,1445.72 1499.34,1445.72 1509.75,1445.72 1520.16,1445.72 1530.58,1445.72 1540.99,1445.72 1551.4,1445.72 1561.81,1445.72 1572.22,1445.72 1582.63,1445.72 1593.04,1445.72 1603.46,1445.72 1613.87,1445.72 1624.28,1445.72 1634.69,1445.72 1645.1,1445.72 1655.51,1445.72 1665.92,1445.72 1676.33,1445.72 1686.75,1445.72 1697.16,1445.72 1707.57,1445.72 1717.98,1445.72 1728.39,1445.72 1738.8,1445.72 1749.21,1445.72 1759.62,1445.72 1770.04,1445.72 1780.45,1445.72 1790.86,1445.72 1801.27,1445.72 1811.68,1445.72 1822.09,1445.72 1832.5,1445.71 1842.91,1445.71 1853.33,1445.71 1863.74,1445.7 1874.15,1445.69 1884.56,1445.66 1894.97,1445.61 1905.38,1445.51 1915.79,1445.34 1926.21,1445.05 1936.62,1444.59 1947.03,1443.87 1957.44,1442.82 1967.85,1441.35 1978.26,1439.35 1988.67,1436.8 1999.08,1433.67 2009.5,1430.06 2019.91,1426.11 2030.32,1422.07 2040.73,1418.25 2051.14,1414.99 2061.55,1412.61 2071.96,1411.37 2082.37,1411.4 2092.79,1412.7 2103.2,1415.11 2113.61,1418.4 2124.02,1422.24 2134.43,1426.28 2144.84,1430.22 2155.25,1433.82 2165.67,1436.92 2176.08,1439.45 2186.49,1441.42 2196.9,1442.88 2207.31,1443.91 2217.72,1444.61 2228.13,1445.06 2238.54,1445.34 2248.96,1445.51 2259.37,1445.61 2269.78,1445.66 2280.19,1445.67 2290.6,1445.67 \"/>\n",
       "<path clip-path=\"url(#clip740)\" d=\"M2007.5 198.898 L2279.55 198.898 L2279.55 95.2176 L2007.5 95.2176  Z\" fill=\"#ffffff\" fill-rule=\"evenodd\" fill-opacity=\"1\"/>\n",
       "<polyline clip-path=\"url(#clip740)\" style=\"stroke:#000000; stroke-linecap:round; stroke-linejoin:round; stroke-width:4; stroke-opacity:1; fill:none\" points=\"2007.5,198.898 2279.55,198.898 2279.55,95.2176 2007.5,95.2176 2007.5,198.898 \"/>\n",
       "<polyline clip-path=\"url(#clip740)\" style=\"stroke:#009af9; stroke-linecap:round; stroke-linejoin:round; stroke-width:4; stroke-opacity:1; fill:none\" points=\"2031.91,147.058 2178.32,147.058 \"/>\n",
       "<path clip-path=\"url(#clip740)\" d=\"M2216.56 166.745 Q2214.76 171.375 2213.04 172.787 Q2211.33 174.199 2208.46 174.199 L2205.06 174.199 L2205.06 170.634 L2207.56 170.634 Q2209.32 170.634 2210.29 169.8 Q2211.26 168.967 2212.44 165.865 L2213.2 163.921 L2202.72 138.412 L2207.23 138.412 L2215.33 158.689 L2223.44 138.412 L2227.95 138.412 L2216.56 166.745 Z\" fill=\"#000000\" fill-rule=\"nonzero\" fill-opacity=\"1\" /><path clip-path=\"url(#clip740)\" d=\"M2235.24 160.402 L2242.88 160.402 L2242.88 134.037 L2234.57 135.703 L2234.57 131.444 L2242.83 129.778 L2247.51 129.778 L2247.51 160.402 L2255.15 160.402 L2255.15 164.338 L2235.24 164.338 L2235.24 160.402 Z\" fill=\"#000000\" fill-rule=\"nonzero\" fill-opacity=\"1\" /></svg>\n"
      ]
     },
     "execution_count": 11,
     "metadata": {},
     "output_type": "execute_result"
    }
   ],
   "source": [
    "density(D[:,1])"
   ]
  },
  {
   "cell_type": "markdown",
   "id": "bf15b96c-a2c2-4186-905a-3ad3ccc919c8",
   "metadata": {},
   "source": [
    "Finally, let's setup some constants that we'll use later."
   ]
  },
  {
   "cell_type": "code",
   "execution_count": 13,
   "id": "774403e5-ee68-4a4c-a39b-007b834f594a",
   "metadata": {},
   "outputs": [],
   "source": [
    "number_of_neuron_rows = 10; \n",
    "number_of_neuron_cols = 10;\n",
    "number_of_neurons = (number_of_neuron_rows)*(number_of_neuron_cols); # how many neurons are we going to use?\n",
    "number_of_examples = size(D,1); # number of synthetic patients\n",
    "number_of_features = size(D,2); # number of features (measurements)\n",
    "maxiter = 25000; # maximum number of iterations\n",
    "ϵ = 0.00001; # stopping criteria"
   ]
  },
  {
   "cell_type": "code",
   "execution_count": 14,
   "id": "077191b7-8455-4549-966d-9473329b1615",
   "metadata": {},
   "outputs": [
    {
     "data": {
      "text/plain": [
       "100"
      ]
     },
     "execution_count": 14,
     "metadata": {},
     "output_type": "execute_result"
    }
   ],
   "source": [
    "number_of_neurons"
   ]
  },
  {
   "cell_type": "markdown",
   "id": "f3965b57-55d8-4057-8721-aa6620683b34",
   "metadata": {},
   "source": [
    "## Task 1: Setup the SOM model instance\n",
    "Fill me in"
   ]
  },
  {
   "cell_type": "code",
   "execution_count": 16,
   "id": "4653cb0b-a38f-4749-9415-20cd7dec0b24",
   "metadata": {},
   "outputs": [],
   "source": [
    "model = build(MySimpleRectangularSelfOrganizingMapModel, (\n",
    "    number_of_neurons = number_of_neurons,\n",
    "    number_of_features = number_of_features,\n",
    "    α = (t::Int) -> 1.0 - t/maxiter, # learning rate function\n",
    "    σ = (t::Int, radius::Float64) -> 0.99*radius, # neighborhood radius function\n",
    "    h = (distance::Float64,r::Float64) -> exp(-(distance^2)/(2.0*r^2)), # neighborhood function\n",
    "));"
   ]
  },
  {
   "cell_type": "markdown",
   "id": "f8fdd095-1de1-4b27-8555-f6b9134d4851",
   "metadata": {},
   "source": [
    "## Task 2: Learn the SOM weight parameters\n",
    "Fill me in"
   ]
  },
  {
   "cell_type": "code",
   "execution_count": 18,
   "id": "7f2f8687-e2a3-41e6-978c-da1bebdfb827",
   "metadata": {},
   "outputs": [
    {
     "name": "stdout",
     "output_type": "stream",
     "text": [
      "Stopping at iteration: 263\n"
     ]
    }
   ],
   "source": [
    "W = learn(model, D, maxiter = maxiter, ϵ = ϵ);"
   ]
  },
  {
   "cell_type": "code",
   "execution_count": 19,
   "id": "f5b50828-28e5-4f41-84f1-2b18a1b3b9ba",
   "metadata": {},
   "outputs": [
    {
     "data": {
      "text/plain": [
       "100×33 Matrix{Float64}:\n",
       " -0.274081   0.794929    0.684411   …   1.99502     0.324958  -0.369197\n",
       " -0.274081   0.794929    0.684411       1.99502     0.324958  -0.369197\n",
       " -0.274081   0.794929    0.684411       1.99502     0.324958  -0.369197\n",
       " -0.274081   0.794929    0.684411       1.99502     0.324958  -0.369197\n",
       " -0.274081   0.794929    0.684411       1.99502     0.324958  -0.369197\n",
       " -0.274081   0.794929    0.684411   …   1.99502     0.324958  -0.369197\n",
       " -0.274081   0.794929    0.684411       1.99502     0.324958  -0.369197\n",
       " -0.274081   0.794929    0.684411       1.99502     0.324958  -0.369197\n",
       " -0.274081   0.794929    0.684411       1.99502     0.324958  -0.369197\n",
       " -0.274081   0.794929    0.684411       1.99502     0.324958  -0.369197\n",
       " -0.274081   0.794929    0.684411   …   1.99502     0.324958  -0.369197\n",
       " -0.274081   0.794929    0.684411       1.99502     0.324958  -0.369197\n",
       " -0.274081   0.794929    0.684411       1.99502     0.324958  -0.369197\n",
       "  ⋮                                 ⋱   ⋮                     \n",
       " -0.584539   0.412053   -1.1493        -0.611234    1.02351    1.3046\n",
       "  0.256969  -0.0781261  -1.14723       -0.0686402   0.927912   0.0933778\n",
       "  0.233987   2.04288     1.51424    …   1.62257    -0.997151  -0.459217\n",
       " -0.428888   0.539133   -1.3391         0.564603    0.435813   0.246363\n",
       " -0.537118  -0.372794    0.673025      -0.0673702  -0.612872   1.7911\n",
       " -0.52734    0.70966     0.643201       0.979891   -0.699494  -1.67234\n",
       " -0.749134   0.588762    0.0601624     -0.991019    0.443052   2.07904\n",
       " -0.901171   0.125207   -0.929054   …  -1.66727     1.04601    0.830617\n",
       " -0.806569   0.036152    1.07447       -0.586895    0.028113   1.23406\n",
       " -0.315314   1.83535     0.29995        0.700848    2.51396    0.0732324\n",
       " -0.428486  -0.762619   -1.18067       -1.47503    -1.4271    -1.46809\n",
       " -0.68382   -1.4813     -0.846072       1.42534     0.282903  -0.568163"
      ]
     },
     "execution_count": 19,
     "metadata": {},
     "output_type": "execute_result"
    }
   ],
   "source": [
    "W"
   ]
  },
  {
   "cell_type": "markdown",
   "id": "af982817-e75c-4d32-84ad-b98f3c4f84fc",
   "metadata": {},
   "source": [
    "Compute the array of best matching units and the worst matching units for each example in the scaled dataset"
   ]
  },
  {
   "cell_type": "code",
   "execution_count": 114,
   "id": "b8eb154a-d232-42e9-9c8b-83f83009d385",
   "metadata": {},
   "outputs": [],
   "source": [
    "matching_array = let\n",
    "\n",
    "    M = number_of_examples;\n",
    "    error = Array{Float64,1}(undef, M);\n",
    "    bmu = Array{Int,2}(undef, M,2);\n",
    "    \n",
    "    d = Euclidean(); # distance metric \n",
    "    \n",
    "    \n",
    "    for i ∈ 1:M\n",
    "        X = D[i,:]; # data\n",
    "        j = argmin([d(X, W[i,:]) for i ∈ 1:number_of_neurons]); # index of the best node for this measurement\n",
    "        k = argmax([d(X, W[i,:]) for i ∈ 1:number_of_neurons]); # index of the worst node for this measurement\n",
    "        error[i] = sum((X .- W[j,:]).^2);\n",
    "\n",
    "        bmu[i,1] = j;\n",
    "        bmu[i,2] = k;\n",
    "    end\n",
    "    \n",
    "   bmu\n",
    "end;"
   ]
  },
  {
   "cell_type": "code",
   "execution_count": 116,
   "id": "ca81e65a-a4d3-4b04-95cc-ebff4aac473d",
   "metadata": {},
   "outputs": [
    {
     "data": {
      "text/plain": [
       "101×2 Matrix{Int64}:\n",
       " 68  80\n",
       " 78  98\n",
       " 79  68\n",
       " 84  71\n",
       " 93  67\n",
       " 97  98\n",
       " 93  68\n",
       " 69  97\n",
       " 74  67\n",
       " 76  67\n",
       " 79  67\n",
       " 82  67\n",
       " 90  71\n",
       "  ⋮  \n",
       " 91  96\n",
       " 77  68\n",
       " 77  84\n",
       " 81  95\n",
       " 75  97\n",
       " 73  68\n",
       " 77  81\n",
       " 96  69\n",
       " 66  84\n",
       " 82  86\n",
       " 93  98\n",
       " 74  86"
      ]
     },
     "execution_count": 116,
     "metadata": {},
     "output_type": "execute_result"
    }
   ],
   "source": [
    "matching_array"
   ]
  },
  {
   "cell_type": "markdown",
   "id": "d415f70d-8727-47d4-9a14-46bf1b305abc",
   "metadata": {},
   "source": [
    "Fill me in"
   ]
  },
  {
   "cell_type": "code",
   "execution_count": 119,
   "id": "673dd037-cdfd-4575-afc6-4d26e475db98",
   "metadata": {},
   "outputs": [
    {
     "data": {
      "text/plain": [
       "101×2 Matrix{Float64}:\n",
       " 4.10642e-5  1.07555\n",
       " 0.00652373  1.48334\n",
       " 0.640282    1.0965\n",
       " 0.00673396  1.18534\n",
       " 0.460561    1.47931\n",
       " 1.10438e-6  1.30765\n",
       " 0.680241    1.29307\n",
       " 0.454233    1.37036\n",
       " 0.00650227  1.44871\n",
       " 0.00561083  1.19124\n",
       " 0.641358    1.1174\n",
       " 0.032002    0.973022\n",
       " 0.0237166   1.47459\n",
       " ⋮           \n",
       " 0.0045183   1.48323\n",
       " 0.757881    1.33347\n",
       " 0.822405    1.76015\n",
       " 7.06696e-7  1.51773\n",
       " 0.475028    1.62326\n",
       " 0.648285    1.3278\n",
       " 0.552379    1.82362\n",
       " 0.0048676   1.72411\n",
       " 0.756675    1.62304\n",
       " 0.429522    1.55619\n",
       " 0.65514     1.68108\n",
       " 0.417486    1.27436"
      ]
     },
     "execution_count": 119,
     "metadata": {},
     "output_type": "execute_result"
    }
   ],
   "source": [
    "error_bounds_array = let\n",
    "\n",
    "    M = number_of_examples;\n",
    "    error_bounds_array = Array{Float64,2}(undef, M, 2);\n",
    "    for i ∈ 1:M\n",
    "\n",
    "        b = matching_array[i,1];\n",
    "        w = matching_array[i,2];\n",
    "        SF = dot(D[i,:],D[i,:]);\n",
    "        error_bounds_array[i,1] = 1 - (1/SF)*dot(W[b,:],D[i,:]); \n",
    "        error_bounds_array[i,2] = 1 - (1/SF)*dot(W[w,:],D[i,:]);\n",
    "    end\n",
    "    error_bounds_array\n",
    "end"
   ]
  },
  {
   "cell_type": "markdown",
   "id": "7e074ffe-f48f-4234-86b5-f6c44efa501a",
   "metadata": {},
   "source": [
    "## Task 3: Visualize the SOM performance\n",
    "Fill me in"
   ]
  },
  {
   "cell_type": "code",
   "execution_count": null,
   "id": "7cf9fc6b-9b65-4df1-8461-5be7525f2a82",
   "metadata": {},
   "outputs": [],
   "source": [
    "scatter!"
   ]
  }
 ],
 "metadata": {
  "kernelspec": {
   "display_name": "Julia 1.11.2",
   "language": "julia",
   "name": "julia-1.11"
  },
  "language_info": {
   "file_extension": ".jl",
   "mimetype": "application/julia",
   "name": "julia",
   "version": "1.11.2"
  }
 },
 "nbformat": 4,
 "nbformat_minor": 5
}
