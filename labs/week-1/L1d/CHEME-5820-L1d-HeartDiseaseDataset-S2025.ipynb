{
 "cells": [
  {
   "cell_type": "markdown",
   "id": "c695f5e9-6b72-4869-972f-1f48e03fe7e5",
   "metadata": {},
   "source": [
    "# L1c: k-Means Clustering Analysis of a Heart Failure Clinical Dataset\n",
    "Fill me in"
   ]
  },
  {
   "cell_type": "markdown",
   "id": "c0afa002-b0cc-44b2-92e7-8c7229d22a3a",
   "metadata": {},
   "source": [
    "## Setup, Data, and Prerequisites\n",
    "We set up the computational environment by including the `Include.jl` file. The `Include.jl` file loads external packages, various functions that we will use in the exercise, and custom types to model the components of our lab problem."
   ]
  },
  {
   "cell_type": "code",
   "execution_count": 3,
   "id": "791e8a3f-3718-4848-ad53-93bd5827d2ed",
   "metadata": {},
   "outputs": [],
   "source": [
    "include(\"Include.jl\");"
   ]
  },
  {
   "cell_type": "markdown",
   "id": "829d7d60-1c00-406a-aedf-87037918dd6e",
   "metadata": {},
   "source": [
    "Next, let's load up the data set that we will explore. This data was taken from the publication:\n",
    "* [Davide Chicco, Giuseppe Jurman: \"Machine learning can predict survival of patients with heart failure from serum creatinine and ejection fraction alone.\" BMC Medical Informatics and Decision Making 20, 16 (2020). https://doi.org/10.1186/s12911-020-1023-5](https://pubmed.ncbi.nlm.nih.gov/32013925/)\n",
    "\n",
    "In this paper, the authors analyzed a dataset of 299 heart failure patients collected in 2015. The patients comprised 105 women and 194 men, aged between 40 and 95 years old. The dataset contains 13 features (a mixture of continuous and categorical data), which report clinical, body, and lifestyle information:\n",
    "* Some features are binary: anemia, high blood pressure, diabetes, sex, and smoking status.\n",
    "* The remaining features were continuous biochemical measurements, such as the Level of the Creatinine phosphokinase (CPK) enzyme in the blood, the number of platelets, etc.\n",
    "* The class (target) variable is encoded as a binary (boolean) death event: `1` if the patient died during the follow-up period, `0` otherwise.\n",
    "\n",
    "We'll load this data as a [DataFrame instance](https://dataframes.juliadata.org/stable/) and store it in the `originaldataset::DataFrame` variable:"
   ]
  },
  {
   "cell_type": "code",
   "execution_count": 5,
   "id": "656d5710-9346-40b5-a3ba-74df8a44b85a",
   "metadata": {},
   "outputs": [
    {
     "data": {
      "text/html": [
       "<div><div style = \"float: left;\"><span>299×13 DataFrame</span></div><div style = \"float: right;\"><span style = \"font-style: italic;\">274 rows omitted</span></div><div style = \"clear: both;\"></div></div><div class = \"data-frame\" style = \"overflow-x: scroll;\"><table class = \"data-frame\" style = \"margin-bottom: 6px;\"><thead><tr class = \"header\"><th class = \"rowNumber\" style = \"font-weight: bold; text-align: right;\">Row</th><th style = \"text-align: left;\">age</th><th style = \"text-align: left;\">anaemia</th><th style = \"text-align: left;\">creatinine_phosphokinase</th><th style = \"text-align: left;\">diabetes</th><th style = \"text-align: left;\">ejection_fraction</th><th style = \"text-align: left;\">high_blood_pressure</th><th style = \"text-align: left;\">platelets</th><th style = \"text-align: left;\">serum_creatinine</th><th style = \"text-align: left;\">serum_sodium</th><th style = \"text-align: left;\">sex</th><th style = \"text-align: left;\">smoking</th><th style = \"text-align: left;\">time</th><th style = \"text-align: left;\">death_event</th></tr><tr class = \"subheader headerLastRow\"><th class = \"rowNumber\" style = \"font-weight: bold; text-align: right;\"></th><th title = \"Float64\" style = \"text-align: left;\">Float64</th><th title = \"Int64\" style = \"text-align: left;\">Int64</th><th title = \"Int64\" style = \"text-align: left;\">Int64</th><th title = \"Int64\" style = \"text-align: left;\">Int64</th><th title = \"Int64\" style = \"text-align: left;\">Int64</th><th title = \"Int64\" style = \"text-align: left;\">Int64</th><th title = \"Float64\" style = \"text-align: left;\">Float64</th><th title = \"Float64\" style = \"text-align: left;\">Float64</th><th title = \"Int64\" style = \"text-align: left;\">Int64</th><th title = \"Int64\" style = \"text-align: left;\">Int64</th><th title = \"Int64\" style = \"text-align: left;\">Int64</th><th title = \"Int64\" style = \"text-align: left;\">Int64</th><th title = \"Int64\" style = \"text-align: left;\">Int64</th></tr></thead><tbody><tr><td class = \"rowNumber\" style = \"font-weight: bold; text-align: right;\">1</td><td style = \"text-align: right;\">75.0</td><td style = \"text-align: right;\">0</td><td style = \"text-align: right;\">582</td><td style = \"text-align: right;\">0</td><td style = \"text-align: right;\">20</td><td style = \"text-align: right;\">1</td><td style = \"text-align: right;\">265000.0</td><td style = \"text-align: right;\">1.9</td><td style = \"text-align: right;\">130</td><td style = \"text-align: right;\">1</td><td style = \"text-align: right;\">0</td><td style = \"text-align: right;\">4</td><td style = \"text-align: right;\">1</td></tr><tr><td class = \"rowNumber\" style = \"font-weight: bold; text-align: right;\">2</td><td style = \"text-align: right;\">55.0</td><td style = \"text-align: right;\">0</td><td style = \"text-align: right;\">7861</td><td style = \"text-align: right;\">0</td><td style = \"text-align: right;\">38</td><td style = \"text-align: right;\">0</td><td style = \"text-align: right;\">263358.0</td><td style = \"text-align: right;\">1.1</td><td style = \"text-align: right;\">136</td><td style = \"text-align: right;\">1</td><td style = \"text-align: right;\">0</td><td style = \"text-align: right;\">6</td><td style = \"text-align: right;\">1</td></tr><tr><td class = \"rowNumber\" style = \"font-weight: bold; text-align: right;\">3</td><td style = \"text-align: right;\">65.0</td><td style = \"text-align: right;\">0</td><td style = \"text-align: right;\">146</td><td style = \"text-align: right;\">0</td><td style = \"text-align: right;\">20</td><td style = \"text-align: right;\">0</td><td style = \"text-align: right;\">162000.0</td><td style = \"text-align: right;\">1.3</td><td style = \"text-align: right;\">129</td><td style = \"text-align: right;\">1</td><td style = \"text-align: right;\">1</td><td style = \"text-align: right;\">7</td><td style = \"text-align: right;\">1</td></tr><tr><td class = \"rowNumber\" style = \"font-weight: bold; text-align: right;\">4</td><td style = \"text-align: right;\">50.0</td><td style = \"text-align: right;\">1</td><td style = \"text-align: right;\">111</td><td style = \"text-align: right;\">0</td><td style = \"text-align: right;\">20</td><td style = \"text-align: right;\">0</td><td style = \"text-align: right;\">210000.0</td><td style = \"text-align: right;\">1.9</td><td style = \"text-align: right;\">137</td><td style = \"text-align: right;\">1</td><td style = \"text-align: right;\">0</td><td style = \"text-align: right;\">7</td><td style = \"text-align: right;\">1</td></tr><tr><td class = \"rowNumber\" style = \"font-weight: bold; text-align: right;\">5</td><td style = \"text-align: right;\">65.0</td><td style = \"text-align: right;\">1</td><td style = \"text-align: right;\">160</td><td style = \"text-align: right;\">1</td><td style = \"text-align: right;\">20</td><td style = \"text-align: right;\">0</td><td style = \"text-align: right;\">327000.0</td><td style = \"text-align: right;\">2.7</td><td style = \"text-align: right;\">116</td><td style = \"text-align: right;\">0</td><td style = \"text-align: right;\">0</td><td style = \"text-align: right;\">8</td><td style = \"text-align: right;\">1</td></tr><tr><td class = \"rowNumber\" style = \"font-weight: bold; text-align: right;\">6</td><td style = \"text-align: right;\">90.0</td><td style = \"text-align: right;\">1</td><td style = \"text-align: right;\">47</td><td style = \"text-align: right;\">0</td><td style = \"text-align: right;\">40</td><td style = \"text-align: right;\">1</td><td style = \"text-align: right;\">204000.0</td><td style = \"text-align: right;\">2.1</td><td style = \"text-align: right;\">132</td><td style = \"text-align: right;\">1</td><td style = \"text-align: right;\">1</td><td style = \"text-align: right;\">8</td><td style = \"text-align: right;\">1</td></tr><tr><td class = \"rowNumber\" style = \"font-weight: bold; text-align: right;\">7</td><td style = \"text-align: right;\">75.0</td><td style = \"text-align: right;\">1</td><td style = \"text-align: right;\">246</td><td style = \"text-align: right;\">0</td><td style = \"text-align: right;\">15</td><td style = \"text-align: right;\">0</td><td style = \"text-align: right;\">127000.0</td><td style = \"text-align: right;\">1.2</td><td style = \"text-align: right;\">137</td><td style = \"text-align: right;\">1</td><td style = \"text-align: right;\">0</td><td style = \"text-align: right;\">10</td><td style = \"text-align: right;\">1</td></tr><tr><td class = \"rowNumber\" style = \"font-weight: bold; text-align: right;\">8</td><td style = \"text-align: right;\">60.0</td><td style = \"text-align: right;\">1</td><td style = \"text-align: right;\">315</td><td style = \"text-align: right;\">1</td><td style = \"text-align: right;\">60</td><td style = \"text-align: right;\">0</td><td style = \"text-align: right;\">454000.0</td><td style = \"text-align: right;\">1.1</td><td style = \"text-align: right;\">131</td><td style = \"text-align: right;\">1</td><td style = \"text-align: right;\">1</td><td style = \"text-align: right;\">10</td><td style = \"text-align: right;\">1</td></tr><tr><td class = \"rowNumber\" style = \"font-weight: bold; text-align: right;\">9</td><td style = \"text-align: right;\">65.0</td><td style = \"text-align: right;\">0</td><td style = \"text-align: right;\">157</td><td style = \"text-align: right;\">0</td><td style = \"text-align: right;\">65</td><td style = \"text-align: right;\">0</td><td style = \"text-align: right;\">263358.0</td><td style = \"text-align: right;\">1.5</td><td style = \"text-align: right;\">138</td><td style = \"text-align: right;\">0</td><td style = \"text-align: right;\">0</td><td style = \"text-align: right;\">10</td><td style = \"text-align: right;\">1</td></tr><tr><td class = \"rowNumber\" style = \"font-weight: bold; text-align: right;\">10</td><td style = \"text-align: right;\">80.0</td><td style = \"text-align: right;\">1</td><td style = \"text-align: right;\">123</td><td style = \"text-align: right;\">0</td><td style = \"text-align: right;\">35</td><td style = \"text-align: right;\">1</td><td style = \"text-align: right;\">388000.0</td><td style = \"text-align: right;\">9.4</td><td style = \"text-align: right;\">133</td><td style = \"text-align: right;\">1</td><td style = \"text-align: right;\">1</td><td style = \"text-align: right;\">10</td><td style = \"text-align: right;\">1</td></tr><tr><td class = \"rowNumber\" style = \"font-weight: bold; text-align: right;\">11</td><td style = \"text-align: right;\">75.0</td><td style = \"text-align: right;\">1</td><td style = \"text-align: right;\">81</td><td style = \"text-align: right;\">0</td><td style = \"text-align: right;\">38</td><td style = \"text-align: right;\">1</td><td style = \"text-align: right;\">368000.0</td><td style = \"text-align: right;\">4.0</td><td style = \"text-align: right;\">131</td><td style = \"text-align: right;\">1</td><td style = \"text-align: right;\">1</td><td style = \"text-align: right;\">10</td><td style = \"text-align: right;\">1</td></tr><tr><td class = \"rowNumber\" style = \"font-weight: bold; text-align: right;\">12</td><td style = \"text-align: right;\">62.0</td><td style = \"text-align: right;\">0</td><td style = \"text-align: right;\">231</td><td style = \"text-align: right;\">0</td><td style = \"text-align: right;\">25</td><td style = \"text-align: right;\">1</td><td style = \"text-align: right;\">253000.0</td><td style = \"text-align: right;\">0.9</td><td style = \"text-align: right;\">140</td><td style = \"text-align: right;\">1</td><td style = \"text-align: right;\">1</td><td style = \"text-align: right;\">10</td><td style = \"text-align: right;\">1</td></tr><tr><td class = \"rowNumber\" style = \"font-weight: bold; text-align: right;\">13</td><td style = \"text-align: right;\">45.0</td><td style = \"text-align: right;\">1</td><td style = \"text-align: right;\">981</td><td style = \"text-align: right;\">0</td><td style = \"text-align: right;\">30</td><td style = \"text-align: right;\">0</td><td style = \"text-align: right;\">136000.0</td><td style = \"text-align: right;\">1.1</td><td style = \"text-align: right;\">137</td><td style = \"text-align: right;\">1</td><td style = \"text-align: right;\">0</td><td style = \"text-align: right;\">11</td><td style = \"text-align: right;\">1</td></tr><tr><td style = \"text-align: right;\">&vellip;</td><td style = \"text-align: right;\">&vellip;</td><td style = \"text-align: right;\">&vellip;</td><td style = \"text-align: right;\">&vellip;</td><td style = \"text-align: right;\">&vellip;</td><td style = \"text-align: right;\">&vellip;</td><td style = \"text-align: right;\">&vellip;</td><td style = \"text-align: right;\">&vellip;</td><td style = \"text-align: right;\">&vellip;</td><td style = \"text-align: right;\">&vellip;</td><td style = \"text-align: right;\">&vellip;</td><td style = \"text-align: right;\">&vellip;</td><td style = \"text-align: right;\">&vellip;</td><td style = \"text-align: right;\">&vellip;</td></tr><tr><td class = \"rowNumber\" style = \"font-weight: bold; text-align: right;\">288</td><td style = \"text-align: right;\">45.0</td><td style = \"text-align: right;\">0</td><td style = \"text-align: right;\">582</td><td style = \"text-align: right;\">1</td><td style = \"text-align: right;\">55</td><td style = \"text-align: right;\">0</td><td style = \"text-align: right;\">543000.0</td><td style = \"text-align: right;\">1.0</td><td style = \"text-align: right;\">132</td><td style = \"text-align: right;\">0</td><td style = \"text-align: right;\">0</td><td style = \"text-align: right;\">250</td><td style = \"text-align: right;\">0</td></tr><tr><td class = \"rowNumber\" style = \"font-weight: bold; text-align: right;\">289</td><td style = \"text-align: right;\">65.0</td><td style = \"text-align: right;\">0</td><td style = \"text-align: right;\">892</td><td style = \"text-align: right;\">1</td><td style = \"text-align: right;\">35</td><td style = \"text-align: right;\">0</td><td style = \"text-align: right;\">263358.0</td><td style = \"text-align: right;\">1.1</td><td style = \"text-align: right;\">142</td><td style = \"text-align: right;\">0</td><td style = \"text-align: right;\">0</td><td style = \"text-align: right;\">256</td><td style = \"text-align: right;\">0</td></tr><tr><td class = \"rowNumber\" style = \"font-weight: bold; text-align: right;\">290</td><td style = \"text-align: right;\">90.0</td><td style = \"text-align: right;\">1</td><td style = \"text-align: right;\">337</td><td style = \"text-align: right;\">0</td><td style = \"text-align: right;\">38</td><td style = \"text-align: right;\">0</td><td style = \"text-align: right;\">390000.0</td><td style = \"text-align: right;\">0.9</td><td style = \"text-align: right;\">144</td><td style = \"text-align: right;\">0</td><td style = \"text-align: right;\">0</td><td style = \"text-align: right;\">256</td><td style = \"text-align: right;\">0</td></tr><tr><td class = \"rowNumber\" style = \"font-weight: bold; text-align: right;\">291</td><td style = \"text-align: right;\">45.0</td><td style = \"text-align: right;\">0</td><td style = \"text-align: right;\">615</td><td style = \"text-align: right;\">1</td><td style = \"text-align: right;\">55</td><td style = \"text-align: right;\">0</td><td style = \"text-align: right;\">222000.0</td><td style = \"text-align: right;\">0.8</td><td style = \"text-align: right;\">141</td><td style = \"text-align: right;\">0</td><td style = \"text-align: right;\">0</td><td style = \"text-align: right;\">257</td><td style = \"text-align: right;\">0</td></tr><tr><td class = \"rowNumber\" style = \"font-weight: bold; text-align: right;\">292</td><td style = \"text-align: right;\">60.0</td><td style = \"text-align: right;\">0</td><td style = \"text-align: right;\">320</td><td style = \"text-align: right;\">0</td><td style = \"text-align: right;\">35</td><td style = \"text-align: right;\">0</td><td style = \"text-align: right;\">133000.0</td><td style = \"text-align: right;\">1.4</td><td style = \"text-align: right;\">139</td><td style = \"text-align: right;\">1</td><td style = \"text-align: right;\">0</td><td style = \"text-align: right;\">258</td><td style = \"text-align: right;\">0</td></tr><tr><td class = \"rowNumber\" style = \"font-weight: bold; text-align: right;\">293</td><td style = \"text-align: right;\">52.0</td><td style = \"text-align: right;\">0</td><td style = \"text-align: right;\">190</td><td style = \"text-align: right;\">1</td><td style = \"text-align: right;\">38</td><td style = \"text-align: right;\">0</td><td style = \"text-align: right;\">382000.0</td><td style = \"text-align: right;\">1.0</td><td style = \"text-align: right;\">140</td><td style = \"text-align: right;\">1</td><td style = \"text-align: right;\">1</td><td style = \"text-align: right;\">258</td><td style = \"text-align: right;\">0</td></tr><tr><td class = \"rowNumber\" style = \"font-weight: bold; text-align: right;\">294</td><td style = \"text-align: right;\">63.0</td><td style = \"text-align: right;\">1</td><td style = \"text-align: right;\">103</td><td style = \"text-align: right;\">1</td><td style = \"text-align: right;\">35</td><td style = \"text-align: right;\">0</td><td style = \"text-align: right;\">179000.0</td><td style = \"text-align: right;\">0.9</td><td style = \"text-align: right;\">136</td><td style = \"text-align: right;\">1</td><td style = \"text-align: right;\">1</td><td style = \"text-align: right;\">270</td><td style = \"text-align: right;\">0</td></tr><tr><td class = \"rowNumber\" style = \"font-weight: bold; text-align: right;\">295</td><td style = \"text-align: right;\">62.0</td><td style = \"text-align: right;\">0</td><td style = \"text-align: right;\">61</td><td style = \"text-align: right;\">1</td><td style = \"text-align: right;\">38</td><td style = \"text-align: right;\">1</td><td style = \"text-align: right;\">155000.0</td><td style = \"text-align: right;\">1.1</td><td style = \"text-align: right;\">143</td><td style = \"text-align: right;\">1</td><td style = \"text-align: right;\">1</td><td style = \"text-align: right;\">270</td><td style = \"text-align: right;\">0</td></tr><tr><td class = \"rowNumber\" style = \"font-weight: bold; text-align: right;\">296</td><td style = \"text-align: right;\">55.0</td><td style = \"text-align: right;\">0</td><td style = \"text-align: right;\">1820</td><td style = \"text-align: right;\">0</td><td style = \"text-align: right;\">38</td><td style = \"text-align: right;\">0</td><td style = \"text-align: right;\">270000.0</td><td style = \"text-align: right;\">1.2</td><td style = \"text-align: right;\">139</td><td style = \"text-align: right;\">0</td><td style = \"text-align: right;\">0</td><td style = \"text-align: right;\">271</td><td style = \"text-align: right;\">0</td></tr><tr><td class = \"rowNumber\" style = \"font-weight: bold; text-align: right;\">297</td><td style = \"text-align: right;\">45.0</td><td style = \"text-align: right;\">0</td><td style = \"text-align: right;\">2060</td><td style = \"text-align: right;\">1</td><td style = \"text-align: right;\">60</td><td style = \"text-align: right;\">0</td><td style = \"text-align: right;\">742000.0</td><td style = \"text-align: right;\">0.8</td><td style = \"text-align: right;\">138</td><td style = \"text-align: right;\">0</td><td style = \"text-align: right;\">0</td><td style = \"text-align: right;\">278</td><td style = \"text-align: right;\">0</td></tr><tr><td class = \"rowNumber\" style = \"font-weight: bold; text-align: right;\">298</td><td style = \"text-align: right;\">45.0</td><td style = \"text-align: right;\">0</td><td style = \"text-align: right;\">2413</td><td style = \"text-align: right;\">0</td><td style = \"text-align: right;\">38</td><td style = \"text-align: right;\">0</td><td style = \"text-align: right;\">140000.0</td><td style = \"text-align: right;\">1.4</td><td style = \"text-align: right;\">140</td><td style = \"text-align: right;\">1</td><td style = \"text-align: right;\">1</td><td style = \"text-align: right;\">280</td><td style = \"text-align: right;\">0</td></tr><tr><td class = \"rowNumber\" style = \"font-weight: bold; text-align: right;\">299</td><td style = \"text-align: right;\">50.0</td><td style = \"text-align: right;\">0</td><td style = \"text-align: right;\">196</td><td style = \"text-align: right;\">0</td><td style = \"text-align: right;\">45</td><td style = \"text-align: right;\">0</td><td style = \"text-align: right;\">395000.0</td><td style = \"text-align: right;\">1.6</td><td style = \"text-align: right;\">136</td><td style = \"text-align: right;\">1</td><td style = \"text-align: right;\">1</td><td style = \"text-align: right;\">285</td><td style = \"text-align: right;\">0</td></tr></tbody></table></div>"
      ],
      "text/latex": [
       "\\begin{tabular}{r|ccccccc}\n",
       "\t& age & anaemia & creatinine\\_phosphokinase & diabetes & ejection\\_fraction & high\\_blood\\_pressure & \\\\\n",
       "\t\\hline\n",
       "\t& Float64 & Int64 & Int64 & Int64 & Int64 & Int64 & \\\\\n",
       "\t\\hline\n",
       "\t1 & 75.0 & 0 & 582 & 0 & 20 & 1 & $\\dots$ \\\\\n",
       "\t2 & 55.0 & 0 & 7861 & 0 & 38 & 0 & $\\dots$ \\\\\n",
       "\t3 & 65.0 & 0 & 146 & 0 & 20 & 0 & $\\dots$ \\\\\n",
       "\t4 & 50.0 & 1 & 111 & 0 & 20 & 0 & $\\dots$ \\\\\n",
       "\t5 & 65.0 & 1 & 160 & 1 & 20 & 0 & $\\dots$ \\\\\n",
       "\t6 & 90.0 & 1 & 47 & 0 & 40 & 1 & $\\dots$ \\\\\n",
       "\t7 & 75.0 & 1 & 246 & 0 & 15 & 0 & $\\dots$ \\\\\n",
       "\t8 & 60.0 & 1 & 315 & 1 & 60 & 0 & $\\dots$ \\\\\n",
       "\t9 & 65.0 & 0 & 157 & 0 & 65 & 0 & $\\dots$ \\\\\n",
       "\t10 & 80.0 & 1 & 123 & 0 & 35 & 1 & $\\dots$ \\\\\n",
       "\t11 & 75.0 & 1 & 81 & 0 & 38 & 1 & $\\dots$ \\\\\n",
       "\t12 & 62.0 & 0 & 231 & 0 & 25 & 1 & $\\dots$ \\\\\n",
       "\t13 & 45.0 & 1 & 981 & 0 & 30 & 0 & $\\dots$ \\\\\n",
       "\t14 & 50.0 & 1 & 168 & 0 & 38 & 1 & $\\dots$ \\\\\n",
       "\t15 & 49.0 & 1 & 80 & 0 & 30 & 1 & $\\dots$ \\\\\n",
       "\t16 & 82.0 & 1 & 379 & 0 & 50 & 0 & $\\dots$ \\\\\n",
       "\t17 & 87.0 & 1 & 149 & 0 & 38 & 0 & $\\dots$ \\\\\n",
       "\t18 & 45.0 & 0 & 582 & 0 & 14 & 0 & $\\dots$ \\\\\n",
       "\t19 & 70.0 & 1 & 125 & 0 & 25 & 1 & $\\dots$ \\\\\n",
       "\t20 & 48.0 & 1 & 582 & 1 & 55 & 0 & $\\dots$ \\\\\n",
       "\t21 & 65.0 & 1 & 52 & 0 & 25 & 1 & $\\dots$ \\\\\n",
       "\t22 & 65.0 & 1 & 128 & 1 & 30 & 1 & $\\dots$ \\\\\n",
       "\t23 & 68.0 & 1 & 220 & 0 & 35 & 1 & $\\dots$ \\\\\n",
       "\t24 & 53.0 & 0 & 63 & 1 & 60 & 0 & $\\dots$ \\\\\n",
       "\t25 & 75.0 & 0 & 582 & 1 & 30 & 1 & $\\dots$ \\\\\n",
       "\t26 & 80.0 & 0 & 148 & 1 & 38 & 0 & $\\dots$ \\\\\n",
       "\t27 & 95.0 & 1 & 112 & 0 & 40 & 1 & $\\dots$ \\\\\n",
       "\t28 & 70.0 & 0 & 122 & 1 & 45 & 1 & $\\dots$ \\\\\n",
       "\t29 & 58.0 & 1 & 60 & 0 & 38 & 0 & $\\dots$ \\\\\n",
       "\t30 & 82.0 & 0 & 70 & 1 & 30 & 0 & $\\dots$ \\\\\n",
       "\t$\\dots$ & $\\dots$ & $\\dots$ & $\\dots$ & $\\dots$ & $\\dots$ & $\\dots$ &  \\\\\n",
       "\\end{tabular}\n"
      ],
      "text/plain": [
       "\u001b[1m299×13 DataFrame\u001b[0m\n",
       "\u001b[1m Row \u001b[0m│\u001b[1m age     \u001b[0m\u001b[1m anaemia \u001b[0m\u001b[1m creatinine_phosphokinase \u001b[0m\u001b[1m diabetes \u001b[0m\u001b[1m ejection_fraction\u001b[0m ⋯\n",
       "     │\u001b[90m Float64 \u001b[0m\u001b[90m Int64   \u001b[0m\u001b[90m Int64                    \u001b[0m\u001b[90m Int64    \u001b[0m\u001b[90m Int64            \u001b[0m ⋯\n",
       "─────┼──────────────────────────────────────────────────────────────────────────\n",
       "   1 │    75.0        0                       582         0                 20 ⋯\n",
       "   2 │    55.0        0                      7861         0                 38\n",
       "   3 │    65.0        0                       146         0                 20\n",
       "   4 │    50.0        1                       111         0                 20\n",
       "   5 │    65.0        1                       160         1                 20 ⋯\n",
       "   6 │    90.0        1                        47         0                 40\n",
       "   7 │    75.0        1                       246         0                 15\n",
       "   8 │    60.0        1                       315         1                 60\n",
       "   9 │    65.0        0                       157         0                 65 ⋯\n",
       "  10 │    80.0        1                       123         0                 35\n",
       "  11 │    75.0        1                        81         0                 38\n",
       "  ⋮  │    ⋮        ⋮                ⋮                 ⋮              ⋮         ⋱\n",
       " 290 │    90.0        1                       337         0                 38\n",
       " 291 │    45.0        0                       615         1                 55 ⋯\n",
       " 292 │    60.0        0                       320         0                 35\n",
       " 293 │    52.0        0                       190         1                 38\n",
       " 294 │    63.0        1                       103         1                 35\n",
       " 295 │    62.0        0                        61         1                 38 ⋯\n",
       " 296 │    55.0        0                      1820         0                 38\n",
       " 297 │    45.0        0                      2060         1                 60\n",
       " 298 │    45.0        0                      2413         0                 38\n",
       " 299 │    50.0        0                       196         0                 45 ⋯\n",
       "\u001b[36m                                                  8 columns and 278 rows omitted\u001b[0m"
      ]
     },
     "execution_count": 5,
     "metadata": {},
     "output_type": "execute_result"
    }
   ],
   "source": [
    "originaldataset = CSV.read(joinpath(_PATH_TO_DATA, \"heart_failure_clinical_records_dataset.csv\"), DataFrame)"
   ]
  },
  {
   "cell_type": "code",
   "execution_count": 6,
   "id": "7031d366-1274-45f5-ba01-1629622056b4",
   "metadata": {},
   "outputs": [],
   "source": [
    "D = let\n",
    "\n",
    "    # convert 0,1 into -1,1\n",
    "    treated_dataset = copy(originaldataset);\n",
    "    transform!(treated_dataset, :anaemia => ByRow(x -> (x==0 ? -1 : 1)) => :anaemia); # maps anaemia to -1,1\n",
    "    transform!(treated_dataset, :diabetes => ByRow(x -> (x==0 ? -1 : 1)) => :diabetes); # maps diabetes to -1,1\n",
    "    transform!(treated_dataset, :high_blood_pressure => ByRow(x -> (x==0 ? -1 : 1)) => :high_blood_pressure); # maps high_blood_pressure to -1,1\n",
    "    transform!(treated_dataset, :sex => ByRow(x -> (x==0 ? -1 : 1)) => :sex); # maps sex to -1,1\n",
    "    transform!(treated_dataset, :smoking => ByRow(x -> (x==0 ? -1 : 1)) => :smoking); # maps smoking to -1,1\n",
    "    transform!(treated_dataset, :death_event => ByRow(x -> (x==0 ? -1 : 1)) => :death_event); # maps death_event to -1,1\n",
    "    \n",
    "    D = treated_dataset[:,1:end] |> Matrix; # build a data matrix\n",
    "    (number_of_examples, number_of_features) = size(D);\n",
    "\n",
    "    # Which cols do we want to rescale?\n",
    "    index_to_scale = [\n",
    "        1 ; # 1 age\n",
    "        3 ; # 2 creatinine_phosphokinase\n",
    "        5 ; # 3 ejection_fraction\n",
    "        7 ; # 4 platelets\n",
    "        8 ; # 5 serum_creatinine\n",
    "        9 ; # 6 serum_sodium\n",
    "        12 ; # 7 time\n",
    "    ];\n",
    "\n",
    "    D̂ = copy(D);\n",
    "    for i ∈ eachindex(index_to_scale)\n",
    "        j = index_to_scale[i];\n",
    "        μ = mean(D[:,j]); # compute the mean\n",
    "        σ = std(D[:,j]); # compute std\n",
    "\n",
    "        # rescale -\n",
    "        for k ∈ 1:number_of_examples\n",
    "            D̂[k,j] = (D[k,j] - μ)/σ;\n",
    "        end\n",
    "    end\n",
    "\n",
    "    # remove categorical cols -\n",
    "    D̂₂ = D̂[:,index_to_scale];\n",
    "    #D̂₂ = D̂;\n",
    "    \n",
    "    D̂₂\n",
    "end;"
   ]
  },
  {
   "cell_type": "code",
   "execution_count": 7,
   "id": "8a4435f4-e93f-4d4e-a59b-3607b6940fb8",
   "metadata": {},
   "outputs": [
    {
     "data": {
      "text/plain": [
       "299×7 Matrix{Float64}:\n",
       "  1.19095     0.000165451  -1.528       …   0.489237    -1.50152    -1.62678\n",
       " -0.490457    7.50206      -0.00706491     -0.284076    -0.141739   -1.60101\n",
       "  0.350246   -0.449186     -1.528          -0.0907479   -1.72815    -1.58812\n",
       " -0.910808   -0.485257     -1.528           0.489237     0.0848915  -1.58812\n",
       "  0.350246   -0.434757     -1.528           1.26255     -4.67434    -1.57524\n",
       "  2.452      -0.551217      0.161928    …   0.682565    -1.04826    -1.57524\n",
       "  1.19095    -0.346124     -1.95048        -0.187412     0.0848915  -1.54947\n",
       " -0.0701056  -0.275011      1.85185        -0.284076    -1.27489    -1.54947\n",
       "  0.350246   -0.437849      2.27433         0.10258      0.311522   -1.54947\n",
       "  1.6113     -0.47289      -0.260554        7.73905     -0.821629   -1.54947\n",
       "  1.19095    -0.516176     -0.00706491  …   2.51918     -1.27489    -1.54947\n",
       "  0.098035   -0.361583     -1.10552        -0.477404     0.764782   -1.54947\n",
       " -1.33116     0.411384     -0.683035       -0.284076     0.0848915  -1.53659\n",
       "  ⋮                                     ⋱                ⋮          \n",
       " -1.33116     0.000165451   1.42937        -0.38074     -1.04826     1.54275\n",
       "  0.350246    0.319658     -0.260554       -0.284076     1.21804     1.62005\n",
       "  2.452      -0.252337     -0.00706491     -0.477404     1.6713      1.62005\n",
       " -1.33116     0.034176      1.42937     …  -0.574068     0.991412    1.63294\n",
       " -0.0701056  -0.269858     -0.260554        0.00591623   0.538152    1.64582\n",
       " -0.742668   -0.403838     -0.00706491     -0.38074      0.764782    1.64582\n",
       "  0.182105   -0.493502     -0.260554       -0.477404    -0.141739    1.80043\n",
       "  0.098035   -0.536789     -0.00706491     -0.284076     1.44467     1.80043\n",
       " -0.490457    1.27608      -0.00706491  …  -0.187412     0.538152    1.81332\n",
       " -1.33116     1.52342       1.85185        -0.574068     0.311522    1.90351\n",
       " -1.33116     1.88723      -0.00706491      0.00591623   0.764782    1.92927\n",
       " -0.910808   -0.397655      0.584409        0.199244    -0.141739    1.9937"
      ]
     },
     "execution_count": 7,
     "metadata": {},
     "output_type": "execute_result"
    }
   ],
   "source": [
    "D"
   ]
  },
  {
   "cell_type": "markdown",
   "id": "d84792cd-8632-4c74-ac2e-47826e779af0",
   "metadata": {},
   "source": [
    "Let's set some constants that we'll need in the examples below. See the comment next to the constant for a description of what it is, it's permissible values, etc."
   ]
  },
  {
   "cell_type": "code",
   "execution_count": 9,
   "id": "1c6ac207-c756-4f20-b3e8-d8e019c9028b",
   "metadata": {},
   "outputs": [],
   "source": [
    "n = nrow(originaldataset); # how many example data points do we have?\n",
    "m = size(D,2); # number of features (number of cols)\n",
    "maxiter = 10000; # maximum iterations\n",
    "K = 2; # number of clusters. What number should we pick?\n",
    "ϵ = 1e-6; # tolerance for termination. We can set this to whatever we want"
   ]
  },
  {
   "cell_type": "markdown",
   "id": "f1a43c53-12b1-457a-b53f-6cac8298b2b4",
   "metadata": {},
   "source": [
    "Finally, let's set up the color dictionary for the visualizations in the lecture. The keys of the `my_color_dictionary::Dict{Int64,RGB}` dictionary are the cluster indexes, while the values are the colors mapped to that index."
   ]
  },
  {
   "cell_type": "code",
   "execution_count": 11,
   "id": "440e48b5-e728-40c8-8370-0cb06e408004",
   "metadata": {},
   "outputs": [],
   "source": [
    "my_color_dictionary = Dict{Int64,RGB}();\n",
    "my_color_dictionary[1] = colorant\"#03045e\";\n",
    "my_color_dictionary[2] = colorant\"#0077b6\";\n",
    "my_color_dictionary[3] = colorant\"#00b4d8\";\n",
    "my_color_dictionary[4] = colorant\"#ffc300\";\n",
    "my_color_dictionary[5] = colorant\"#e36414\";"
   ]
  },
  {
   "cell_type": "markdown",
   "id": "930e6ac3-c305-479a-b6d6-e9d513aae614",
   "metadata": {},
   "source": [
    "## Task 1: Build the k-means model and cluster the data\n",
    "We've developed an [initial k-means implementation](src/Cluster.jl) based on [our pseudo-code](figs/pcode-kmeans.pdf). Let's explore how this implementation performs on our sample dataset. \n",
    "* Build [a `MyNaiveKMeansClusteringAlgorithm` instance](src/Types.jl), which holds information about the clustering, i.e., the number of clusters `K::Int,` information about the dataset such as the number of features `m::Int,` and the number of points `n::Int,` and stopping criteria information such as the maximum number of iterations `maxiter::Int` and tolerance `ϵ::Float64`. We'll store this model in the `model::MyNaiveKMeansClusteringAlgorithm` variable.\n",
    "* This is an example of [a factory type pattern](https://en.wikipedia.org/wiki/Factory_method_pattern), which uses [a `build(...)` method](src/Factory.jl) to construct and configure a complex object, i.e., set values for the properties on the model that must be computed. The [`build(...)` method](src/Factory.jl) takes the type of thing we want to build as the first argument, and the data required to construct the object (encoded [in a `NamedTupe` type](https://docs.julialang.org/en/v1/base/base/#Core.NamedTuple)) as the second argument."
   ]
  },
  {
   "cell_type": "code",
   "execution_count": 13,
   "id": "4f0de927-6c68-4ca0-addb-0b665ead7d16",
   "metadata": {},
   "outputs": [],
   "source": [
    "model = build(MyNaiveKMeansClusteringAlgorithm, (\n",
    "        maxiter = maxiter,\n",
    "        dimension = m,\n",
    "        number_of_points = n,\n",
    "        K = K,\n",
    "        ϵ = ϵ,\n",
    "        scale_factor = 1.0, # scale of the data\n",
    "));"
   ]
  },
  {
   "cell_type": "code",
   "execution_count": 14,
   "id": "8465ffad-4dcf-4802-a56c-6ad319fc35b7",
   "metadata": {},
   "outputs": [
    {
     "data": {
      "text/plain": [
       "Dict{Int64, Vector{Float64}} with 2 entries:\n",
       "  2 => [0.291817, 0.450308, 0.30335, 0.425007, 0.845734, 0.218181, 0.39318]\n",
       "  1 => [0.590409, 0.0367457, 0.0257898, 0.0605897, 0.139897, 0.987525, 0.902779]"
      ]
     },
     "execution_count": 14,
     "metadata": {},
     "output_type": "execute_result"
    }
   ],
   "source": [
    "model.centroids"
   ]
  },
  {
   "cell_type": "markdown",
   "id": "fc4c8883-9372-4134-bddc-8c9fde2bf664",
   "metadata": {},
   "source": [
    "The `model::MyNaiveKMeansClusteringAlgorithm` contains the data that we passed in and two derived fields that we computed in [the `build(...)` method](src/Factory.jl):\n",
    "* The `centroids::Dict{Int64, Vector{Float64}}` dictionary holds the centroid values $\\mu_{1},\\dots,\\mu_{K}$ for each cluster. The dictionary's keys are the cluster index, while the values are the `m`-dimensional centroids (means) of the data points in that cluster. We initialize the centroids randomly.\n",
    "* The `assignments::Vector{Int64}` field is an `n`-dimensional vector holding the cluster index that each data point is assigned to. We initialize the assignments randomly."
   ]
  },
  {
   "cell_type": "code",
   "execution_count": 16,
   "id": "cc308bed-e6fa-478f-8f6b-56d3289eced1",
   "metadata": {},
   "outputs": [
    {
     "data": {
      "text/plain": [
       "Dict{Int64, Vector{Float64}} with 2 entries:\n",
       "  2 => [0.291817, 0.450308, 0.30335, 0.425007, 0.845734, 0.218181, 0.39318]\n",
       "  1 => [0.590409, 0.0367457, 0.0257898, 0.0605897, 0.139897, 0.987525, 0.902779]"
      ]
     },
     "execution_count": 16,
     "metadata": {},
     "output_type": "execute_result"
    }
   ],
   "source": [
    "model.centroids"
   ]
  },
  {
   "cell_type": "markdown",
   "id": "7bfb9469-f3b5-4257-b3b8-f32d60061182",
   "metadata": {},
   "source": [
    "### Execute the clustering\n",
    "We call [the `cluster(...)` method](src/Cluster.jl) to refine our initial random cluster assignments and centroid values. The [`cluster(...)` method](src/Cluster.jl) takes a few arguments:\n",
    "\n",
    "* `D::Array{<:Number, 2}`: The first argument is the data matrix `D::Array{<:Number,2}` which we want to cluster. The data matrix has the features along the columns, and each row is a data (feature) vector $\\mathbf{x}$. Its values can be any type that is a subtype [of Number](https://docs.julialang.org/en/v1/base/numbers/#Core.Number). \n",
    "* `model::<: MyAbstractUnsupervisedClusteringAlgorithm`: The second argument is the cluster model instance, in this case, the `model::MyNaiveKMeansClusteringAlgorithm` instance that we built above. However, this can be any subtype of ` MyAbstractUnsupervisedClusteringAlgorithm.`\n",
    "    * __Why?__ Suppose we have different k-means implementations or different clustering logic altogether. In that case, we can take advantage of Julia's multiple dispatch functionality by passing in a different clustering model. This provides a single method for a user to call, which calls a different implementation.\n",
    "* `verbose::Bool`: The `verbose::Bool` argument tells our implementation whether to save data from each algorithm iteration. The default value is `false`. However, if the value is set to `true,` a save file holding the assignments, centroids, and loop index is written at each iteration.\n",
    "* `d::Any`. The optional distance argument can change how the similarity between feature vectors $\\mathbf{x}\\in\\mathcal{D}$ is calculated. We can use [any metrics exported by the `Distances.jl` package](https://github.com/JuliaStats/Distances.jl); by default, we [use the Euclidian distance](https://en.wikipedia.org/wiki/Euclidean_distance). \n",
    "\n",
    "The [`cluster(...)` method](src/Cluster.jl) returns cluster centroids, the assignments, and the number of iterations that it took to reach the final assignment in the `results::NamedTuple.`"
   ]
  },
  {
   "cell_type": "code",
   "execution_count": 18,
   "id": "830db8db-e689-4569-a8ef-caad986c7c8f",
   "metadata": {},
   "outputs": [],
   "source": [
    "result = cluster(D, model, verbose = false); # cluster the data"
   ]
  },
  {
   "cell_type": "code",
   "execution_count": 19,
   "id": "21cb3d0b-4df6-4237-8035-aad07b7bdbb5",
   "metadata": {},
   "outputs": [
    {
     "data": {
      "text/plain": [
       "299-element Vector{Int64}:\n",
       " 2\n",
       " 2\n",
       " 2\n",
       " 2\n",
       " 2\n",
       " 2\n",
       " 2\n",
       " 2\n",
       " 2\n",
       " 2\n",
       " 2\n",
       " 2\n",
       " 2\n",
       " ⋮\n",
       " 1\n",
       " 1\n",
       " 1\n",
       " 1\n",
       " 1\n",
       " 1\n",
       " 1\n",
       " 1\n",
       " 1\n",
       " 1\n",
       " 1\n",
       " 1"
      ]
     },
     "execution_count": 19,
     "metadata": {},
     "output_type": "execute_result"
    }
   ],
   "source": [
    "result.assignments"
   ]
  },
  {
   "cell_type": "code",
   "execution_count": 20,
   "id": "8988047b-f9d1-4089-88cc-e88e0d4781f4",
   "metadata": {},
   "outputs": [
    {
     "data": {
      "text/plain": [
       "Dict{Int64, Vector{Float64}} with 2 entries:\n",
       "  2 => [0.5345, -0.0412656, -0.207744, -0.0470591, 0.420203, -0.428803, -0.8105…\n",
       "  1 => [-0.358324, 0.0276641, 0.139269, 0.031548, -0.2817, 0.287466, 0.543391]"
      ]
     },
     "execution_count": 20,
     "metadata": {},
     "output_type": "execute_result"
    }
   ],
   "source": [
    "result.centroids"
   ]
  },
  {
   "cell_type": "code",
   "execution_count": 24,
   "id": "91f8472c-9cb2-4ad1-ba23-e685b65fd579",
   "metadata": {},
   "outputs": [
    {
     "data": {
      "text/plain": [
       "7×299 transpose(::Matrix{Float64}) with eltype Float64:\n",
       "  1.19095      -0.490457     0.350246   …  -1.33116   -1.33116     -0.910808\n",
       "  0.000165451   7.50206     -0.449186       1.52342    1.88723     -0.397655\n",
       " -1.528        -0.00706491  -1.528          1.85185   -0.00706491   0.584409\n",
       "  0.0167883     7.52305e-9  -1.03634        4.89388   -1.26127      1.34597\n",
       "  0.489237     -0.284076    -0.0907479     -0.574068   0.00591623   0.199244\n",
       " -1.50152      -0.141739    -1.72815    …   0.311522   0.764782    -0.141739\n",
       " -1.62678      -1.60101     -1.58812        1.90351    1.92927      1.9937"
      ]
     },
     "execution_count": 24,
     "metadata": {},
     "output_type": "execute_result"
    }
   ],
   "source": [
    "transpose(D)"
   ]
  },
  {
   "cell_type": "markdown",
   "id": "862f3287-3f0b-4931-94f2-b78e377e55d5",
   "metadata": {},
   "source": [
    "## Task 2: Compute the Calinski–Harabasz index (CHI)\n",
    "One of the issues with k-means clustering is the choice of the number of clusters. The [Calinski–Harabasz index (CHI)](https://en.wikipedia.org/wiki/Calinski%E2%80%93Harabasz_index), also known as the Variance Ratio Criterion, is a widely used metric for assessing the quality of clustering algorithms. Introduced by [Tadeusz Caliński and Jerzy Harabasz in 1974](https://www.tandfonline.com/doi/abs/10.1080/03610927408827101), it evaluates the clustering performance by comparing the ratio of between-cluster variance to within-cluster variance, with higher values indicating better-defined clusters.\n",
    "\n",
    "To compute the CHI, we first need to perform clustering for different values of k. Then, we compute the CH index for each clustering result. Finally, the value of k that yields the maximum CH index is chosen as the optimal number of clusters. The CH index is defined as:\n",
    "$$\n",
    "\\begin{equation*}\n",
    "\\text{CHI} = \\left(\\frac{n-k}{k-1}\\right)\\cdot\\left(\\frac{\\sum_{i=1}^{k}n_{i}\\lVert{\\mathbf{c}_{i}-\\mathbf{c}}\\rVert^{2}}{\\sum_{k=1}^{k}\\sum_{\\mathbf{x}\\in{C_{i}}}\\lVert{\\mathbf{x}-\\mathbf{c}_{i}}\\rVert^{2}}\\right)\n",
    "\\end{equation*}\n",
    "$$\n",
    "where $n$ denotes the number of feature vectors $\\mathbf{x}_{i}$ that we are clustering, $k$ denotes the number of clusters, $n_{i}$ denotes the number of points in cluster $i$, $\\mathbf{c}_{i}$ denotes the centroid for cluster $i$ and $\\mathbf{c}$ denotes the overall centroid of the data. The numerator measures how well the clusters are separated from each other (the higher, the better), while the denominator measures the compactness or cohesiveness of the clusters (the smaller, the better)."
   ]
  },
  {
   "cell_type": "code",
   "execution_count": 26,
   "id": "c5870872-dd52-4ea1-b75b-7a15e3c5ba97",
   "metadata": {},
   "outputs": [
    {
     "data": {
      "text/plain": [
       "9×2 Matrix{Float64}:\n",
       "  2.0  44.7609\n",
       "  3.0  38.6876\n",
       "  4.0  36.9626\n",
       "  5.0  43.9454\n",
       "  6.0  42.0\n",
       "  7.0  43.3016\n",
       "  8.0  35.3911\n",
       "  9.0  41.6617\n",
       " 10.0  40.0594"
      ]
     },
     "execution_count": 26,
     "metadata": {},
     "output_type": "execute_result"
    }
   ],
   "source": [
    "performance_array = let\n",
    "\n",
    "    α = 100.0; # penalty of a cluster -\n",
    "    number_of_samples = size(D,1);\n",
    "    number_of_features = size(D,2);\n",
    "    number_of_clusters_to_explore = 10;\n",
    "    KA = range(2,stop=number_of_clusters_to_explore, step=1) |> collect;\n",
    "    M = deepcopy(model);\n",
    "    tmp = Array{Float64,2}(undef, number_of_clusters_to_explore-1, 2);\n",
    "\n",
    "    for i ∈ eachindex(KA)\n",
    "\n",
    "        K = KA[i]; # how many clusters?\n",
    "        R = kmeans(transpose(D), K; maxiter=5000, display=:none)\n",
    "        M = R.centers # get the cluster centers\n",
    "        a = assignments(R) # get the assignments of points to clusters\n",
    "        value = clustering_quality(transpose(D), M, a; quality_index = :calinski_harabasz)\n",
    "        \n",
    "        tmp[i,1] = K;\n",
    "        tmp[i,2] = value;\n",
    "    end\n",
    "    tmp\n",
    "end"
   ]
  },
  {
   "cell_type": "code",
   "execution_count": 27,
   "id": "47642c17-de97-45fb-958a-5fb8c825a7b6",
   "metadata": {},
   "outputs": [
    {
     "data": {
      "image/png": "[encoded data removed]",
      "image/svg+xml": [
       "<?xml version=\"1.0\" encoding=\"utf-8\"?>\n",
       "<svg xmlns=\"http://www.w3.org/2000/svg\" xmlns:xlink=\"http://www.w3.org/1999/xlink\" width=\"600\" height=\"400\" viewBox=\"0 0 2400 1600\">\n",
       "<defs>\n",
       "  <clipPath id=\"clip400\">\n",
       "    <rect x=\"0\" y=\"0\" width=\"2400\" height=\"1600\"/>\n",
       "  </clipPath>\n",
       "</defs>\n",
       "<path clip-path=\"url(#clip400)\" d=\"M0 1600 L2400 1600 L2400 8.88178e-14 L0 8.88178e-14  Z\" fill=\"#ffffff\" fill-rule=\"evenodd\" fill-opacity=\"1\"/>\n",
       "<defs>\n",
       "  <clipPath id=\"clip401\">\n",
       "    <rect x=\"480\" y=\"0\" width=\"1681\" height=\"1600\"/>\n",
       "  </clipPath>\n",
       "</defs>\n",
       "<path clip-path=\"url(#clip400)\" d=\"M142.339 1486.45 L2352.76 1486.45 L2352.76 47.2441 L142.339 47.2441  Z\" fill=\"#ffffff\" fill-rule=\"evenodd\" fill-opacity=\"1\"/>\n",
       "<defs>\n",
       "  <clipPath id=\"clip402\">\n",
       "    <rect x=\"142\" y=\"47\" width=\"2211\" height=\"1440\"/>\n",
       "  </clipPath>\n",
       "</defs>\n",
       "<polyline clip-path=\"url(#clip402)\" style=\"stroke:#000000; stroke-linecap:round; stroke-linejoin:round; stroke-width:2; stroke-opacity:0.1; fill:none\" points=\"204.898,1486.45 204.898,47.2441 \"/>\n",
       "<polyline clip-path=\"url(#clip402)\" style=\"stroke:#000000; stroke-linecap:round; stroke-linejoin:round; stroke-width:2; stroke-opacity:0.1; fill:none\" points=\"726.223,1486.45 726.223,47.2441 \"/>\n",
       "<polyline clip-path=\"url(#clip402)\" style=\"stroke:#000000; stroke-linecap:round; stroke-linejoin:round; stroke-width:2; stroke-opacity:0.1; fill:none\" points=\"1247.55,1486.45 1247.55,47.2441 \"/>\n",
       "<polyline clip-path=\"url(#clip402)\" style=\"stroke:#000000; stroke-linecap:round; stroke-linejoin:round; stroke-width:2; stroke-opacity:0.1; fill:none\" points=\"1768.87,1486.45 1768.87,47.2441 \"/>\n",
       "<polyline clip-path=\"url(#clip402)\" style=\"stroke:#000000; stroke-linecap:round; stroke-linejoin:round; stroke-width:2; stroke-opacity:0.1; fill:none\" points=\"2290.2,1486.45 2290.2,47.2441 \"/>\n",
       "<polyline clip-path=\"url(#clip402)\" style=\"stroke:#000000; stroke-linecap:round; stroke-linejoin:round; stroke-width:2; stroke-opacity:0.1; fill:none\" points=\"142.339,1357.48 2352.76,1357.48 \"/>\n",
       "<polyline clip-path=\"url(#clip402)\" style=\"stroke:#000000; stroke-linecap:round; stroke-linejoin:round; stroke-width:2; stroke-opacity:0.1; fill:none\" points=\"142.339,1067.67 2352.76,1067.67 \"/>\n",
       "<polyline clip-path=\"url(#clip402)\" style=\"stroke:#000000; stroke-linecap:round; stroke-linejoin:round; stroke-width:2; stroke-opacity:0.1; fill:none\" points=\"142.339,777.857 2352.76,777.857 \"/>\n",
       "<polyline clip-path=\"url(#clip402)\" style=\"stroke:#000000; stroke-linecap:round; stroke-linejoin:round; stroke-width:2; stroke-opacity:0.1; fill:none\" points=\"142.339,488.045 2352.76,488.045 \"/>\n",
       "<polyline clip-path=\"url(#clip402)\" style=\"stroke:#000000; stroke-linecap:round; stroke-linejoin:round; stroke-width:2; stroke-opacity:0.1; fill:none\" points=\"142.339,198.232 2352.76,198.232 \"/>\n",
       "<polyline clip-path=\"url(#clip400)\" style=\"stroke:#000000; stroke-linecap:round; stroke-linejoin:round; stroke-width:4; stroke-opacity:1; fill:none\" points=\"142.339,1486.45 2352.76,1486.45 \"/>\n",
       "<polyline clip-path=\"url(#clip400)\" style=\"stroke:#000000; stroke-linecap:round; stroke-linejoin:round; stroke-width:4; stroke-opacity:1; fill:none\" points=\"204.898,1486.45 204.898,1467.55 \"/>\n",
       "<polyline clip-path=\"url(#clip400)\" style=\"stroke:#000000; stroke-linecap:round; stroke-linejoin:round; stroke-width:4; stroke-opacity:1; fill:none\" points=\"726.223,1486.45 726.223,1467.55 \"/>\n",
       "<polyline clip-path=\"url(#clip400)\" style=\"stroke:#000000; stroke-linecap:round; stroke-linejoin:round; stroke-width:4; stroke-opacity:1; fill:none\" points=\"1247.55,1486.45 1247.55,1467.55 \"/>\n",
       "<polyline clip-path=\"url(#clip400)\" style=\"stroke:#000000; stroke-linecap:round; stroke-linejoin:round; stroke-width:4; stroke-opacity:1; fill:none\" points=\"1768.87,1486.45 1768.87,1467.55 \"/>\n",
       "<polyline clip-path=\"url(#clip400)\" style=\"stroke:#000000; stroke-linecap:round; stroke-linejoin:round; stroke-width:4; stroke-opacity:1; fill:none\" points=\"2290.2,1486.45 2290.2,1467.55 \"/>\n",
       "<path clip-path=\"url(#clip400)\" d=\"M199.551 1544.91 L215.87 1544.91 L215.87 1548.85 L193.926 1548.85 L193.926 1544.91 Q196.588 1542.16 201.171 1537.53 Q205.778 1532.88 206.958 1531.53 Q209.204 1529.01 210.083 1527.27 Q210.986 1525.51 210.986 1523.82 Q210.986 1521.07 209.042 1519.33 Q207.12 1517.6 204.018 1517.6 Q201.819 1517.6 199.366 1518.36 Q196.935 1519.13 194.157 1520.68 L194.157 1515.95 Q196.981 1514.82 199.435 1514.24 Q201.889 1513.66 203.926 1513.66 Q209.296 1513.66 212.491 1516.35 Q215.685 1519.03 215.685 1523.52 Q215.685 1525.65 214.875 1527.57 Q214.088 1529.47 211.981 1532.07 Q211.403 1532.74 208.301 1535.95 Q205.199 1539.15 199.551 1544.91 Z\" fill=\"#000000\" fill-rule=\"nonzero\" fill-opacity=\"1\" /><path clip-path=\"url(#clip400)\" d=\"M729.232 1518.36 L717.426 1536.81 L729.232 1536.81 L729.232 1518.36 M728.005 1514.29 L733.885 1514.29 L733.885 1536.81 L738.815 1536.81 L738.815 1540.7 L733.885 1540.7 L733.885 1548.85 L729.232 1548.85 L729.232 1540.7 L713.63 1540.7 L713.63 1536.19 L728.005 1514.29 Z\" fill=\"#000000\" fill-rule=\"nonzero\" fill-opacity=\"1\" /><path clip-path=\"url(#clip400)\" d=\"M1247.95 1529.7 Q1244.8 1529.7 1242.95 1531.86 Q1241.12 1534.01 1241.12 1537.76 Q1241.12 1541.49 1242.95 1543.66 Q1244.8 1545.82 1247.95 1545.82 Q1251.1 1545.82 1252.93 1543.66 Q1254.78 1541.49 1254.78 1537.76 Q1254.78 1534.01 1252.93 1531.86 Q1251.1 1529.7 1247.95 1529.7 M1257.23 1515.05 L1257.23 1519.31 Q1255.48 1518.48 1253.67 1518.04 Q1251.89 1517.6 1250.13 1517.6 Q1245.5 1517.6 1243.05 1520.72 Q1240.61 1523.85 1240.27 1530.17 Q1241.63 1528.15 1243.69 1527.09 Q1245.75 1526 1248.23 1526 Q1253.44 1526 1256.45 1529.17 Q1259.48 1532.32 1259.48 1537.76 Q1259.48 1543.08 1256.33 1546.3 Q1253.18 1549.52 1247.95 1549.52 Q1241.96 1549.52 1238.79 1544.94 Q1235.61 1540.33 1235.61 1531.6 Q1235.61 1523.41 1239.5 1518.55 Q1243.39 1513.66 1249.94 1513.66 Q1251.7 1513.66 1253.48 1514.01 Q1255.29 1514.36 1257.23 1515.05 Z\" fill=\"#000000\" fill-rule=\"nonzero\" fill-opacity=\"1\" /><path clip-path=\"url(#clip400)\" d=\"M1768.87 1532.44 Q1765.54 1532.44 1763.62 1534.22 Q1761.72 1536 1761.72 1539.13 Q1761.72 1542.25 1763.62 1544.03 Q1765.54 1545.82 1768.87 1545.82 Q1772.21 1545.82 1774.13 1544.03 Q1776.05 1542.23 1776.05 1539.13 Q1776.05 1536 1774.13 1534.22 Q1772.23 1532.44 1768.87 1532.44 M1764.2 1530.45 Q1761.19 1529.7 1759.5 1527.64 Q1757.83 1525.58 1757.83 1522.62 Q1757.83 1518.48 1760.77 1516.07 Q1763.73 1513.66 1768.87 1513.66 Q1774.03 1513.66 1776.97 1516.07 Q1779.91 1518.48 1779.91 1522.62 Q1779.91 1525.58 1778.22 1527.64 Q1776.56 1529.7 1773.57 1530.45 Q1776.95 1531.23 1778.83 1533.52 Q1780.72 1535.82 1780.72 1539.13 Q1780.72 1544.15 1777.65 1546.83 Q1774.59 1549.52 1768.87 1549.52 Q1763.15 1549.52 1760.08 1546.83 Q1757.02 1544.15 1757.02 1539.13 Q1757.02 1535.82 1758.92 1533.52 Q1760.82 1531.23 1764.2 1530.45 M1762.48 1523.06 Q1762.48 1525.75 1764.15 1527.25 Q1765.84 1528.76 1768.87 1528.76 Q1771.88 1528.76 1773.57 1527.25 Q1775.28 1525.75 1775.28 1523.06 Q1775.28 1520.38 1773.57 1518.87 Q1771.88 1517.37 1768.87 1517.37 Q1765.84 1517.37 1764.15 1518.87 Q1762.48 1520.38 1762.48 1523.06 Z\" fill=\"#000000\" fill-rule=\"nonzero\" fill-opacity=\"1\" /><path clip-path=\"url(#clip400)\" d=\"M2264.88 1544.91 L2272.52 1544.91 L2272.52 1518.55 L2264.21 1520.21 L2264.21 1515.95 L2272.48 1514.29 L2277.15 1514.29 L2277.15 1544.91 L2284.79 1544.91 L2284.79 1548.85 L2264.88 1548.85 L2264.88 1544.91 Z\" fill=\"#000000\" fill-rule=\"nonzero\" fill-opacity=\"1\" /><path clip-path=\"url(#clip400)\" d=\"M2304.24 1517.37 Q2300.63 1517.37 2298.8 1520.93 Q2296.99 1524.47 2296.99 1531.6 Q2296.99 1538.71 2298.8 1542.27 Q2300.63 1545.82 2304.24 1545.82 Q2307.87 1545.82 2309.68 1542.27 Q2311.5 1538.71 2311.5 1531.6 Q2311.5 1524.47 2309.68 1520.93 Q2307.87 1517.37 2304.24 1517.37 M2304.24 1513.66 Q2310.05 1513.66 2313.1 1518.27 Q2316.18 1522.85 2316.18 1531.6 Q2316.18 1540.33 2313.1 1544.94 Q2310.05 1549.52 2304.24 1549.52 Q2298.43 1549.52 2295.35 1544.94 Q2292.29 1540.33 2292.29 1531.6 Q2292.29 1522.85 2295.35 1518.27 Q2298.43 1513.66 2304.24 1513.66 Z\" fill=\"#000000\" fill-rule=\"nonzero\" fill-opacity=\"1\" /><polyline clip-path=\"url(#clip400)\" style=\"stroke:#000000; stroke-linecap:round; stroke-linejoin:round; stroke-width:4; stroke-opacity:1; fill:none\" points=\"142.339,1486.45 142.339,47.2441 \"/>\n",
       "<polyline clip-path=\"url(#clip400)\" style=\"stroke:#000000; stroke-linecap:round; stroke-linejoin:round; stroke-width:4; stroke-opacity:1; fill:none\" points=\"142.339,1357.48 161.237,1357.48 \"/>\n",
       "<polyline clip-path=\"url(#clip400)\" style=\"stroke:#000000; stroke-linecap:round; stroke-linejoin:round; stroke-width:4; stroke-opacity:1; fill:none\" points=\"142.339,1067.67 161.237,1067.67 \"/>\n",
       "<polyline clip-path=\"url(#clip400)\" style=\"stroke:#000000; stroke-linecap:round; stroke-linejoin:round; stroke-width:4; stroke-opacity:1; fill:none\" points=\"142.339,777.857 161.237,777.857 \"/>\n",
       "<polyline clip-path=\"url(#clip400)\" style=\"stroke:#000000; stroke-linecap:round; stroke-linejoin:round; stroke-width:4; stroke-opacity:1; fill:none\" points=\"142.339,488.045 161.237,488.045 \"/>\n",
       "<polyline clip-path=\"url(#clip400)\" style=\"stroke:#000000; stroke-linecap:round; stroke-linejoin:round; stroke-width:4; stroke-opacity:1; fill:none\" points=\"142.339,198.232 161.237,198.232 \"/>\n",
       "<path clip-path=\"url(#clip400)\" d=\"M68.2374 1356.13 Q71.5939 1356.85 73.4689 1359.11 Q75.367 1361.38 75.367 1364.72 Q75.367 1369.83 71.8485 1372.63 Q68.33 1375.43 61.8485 1375.43 Q59.6726 1375.43 57.3578 1374.99 Q55.0662 1374.58 52.6125 1373.72 L52.6125 1369.21 Q54.5569 1370.34 56.8717 1370.92 Q59.1865 1371.5 61.7097 1371.5 Q66.1078 1371.5 68.3994 1369.76 Q70.7142 1368.03 70.7142 1364.72 Q70.7142 1361.66 68.5615 1359.95 Q66.4319 1358.21 62.6124 1358.21 L58.5847 1358.21 L58.5847 1354.37 L62.7976 1354.37 Q66.2467 1354.37 68.0754 1353 Q69.9041 1351.61 69.9041 1349.02 Q69.9041 1346.36 68.0059 1344.95 Q66.1309 1343.51 62.6124 1343.51 Q60.6911 1343.51 58.4921 1343.93 Q56.293 1344.35 53.6541 1345.23 L53.6541 1341.06 Q56.3162 1340.32 58.631 1339.95 Q60.9689 1339.58 63.0291 1339.58 Q68.3531 1339.58 71.455 1342.01 Q74.5568 1344.42 74.5568 1348.54 Q74.5568 1351.41 72.9133 1353.4 Q71.2698 1355.36 68.2374 1356.13 Z\" fill=\"#000000\" fill-rule=\"nonzero\" fill-opacity=\"1\" /><path clip-path=\"url(#clip400)\" d=\"M94.8113 1355.62 Q91.6632 1355.62 89.8114 1357.77 Q87.9827 1359.92 87.9827 1363.67 Q87.9827 1367.4 89.8114 1369.58 Q91.6632 1371.73 94.8113 1371.73 Q97.9595 1371.73 99.7882 1369.58 Q101.64 1367.4 101.64 1363.67 Q101.64 1359.92 99.7882 1357.77 Q97.9595 1355.62 94.8113 1355.62 M104.094 1340.97 L104.094 1345.23 Q102.334 1344.39 100.529 1343.95 Q98.7465 1343.51 96.9872 1343.51 Q92.3576 1343.51 89.904 1346.64 Q87.4734 1349.76 87.1262 1356.08 Q88.4919 1354.07 90.5521 1353 Q92.6123 1351.92 95.0891 1351.92 Q100.297 1351.92 103.307 1355.09 Q106.339 1358.23 106.339 1363.67 Q106.339 1369 103.191 1372.22 Q100.043 1375.43 94.8113 1375.43 Q88.816 1375.43 85.6447 1370.85 Q82.4734 1366.24 82.4734 1357.52 Q82.4734 1349.32 86.3623 1344.46 Q90.2512 1339.58 96.8021 1339.58 Q98.5613 1339.58 100.344 1339.92 Q102.149 1340.27 104.094 1340.97 Z\" fill=\"#000000\" fill-rule=\"nonzero\" fill-opacity=\"1\" /><path clip-path=\"url(#clip400)\" d=\"M68.492 1066.32 Q71.8485 1067.03 73.7235 1069.3 Q75.6216 1071.57 75.6216 1074.9 Q75.6216 1080.02 72.1031 1082.82 Q68.5846 1085.62 62.1032 1085.62 Q59.9273 1085.62 57.6125 1085.18 Q55.3208 1084.76 52.8671 1083.91 L52.8671 1079.39 Q54.8115 1080.53 57.1264 1081.11 Q59.4412 1081.69 61.9643 1081.69 Q66.3624 1081.69 68.6541 1079.95 Q70.9689 1078.21 70.9689 1074.9 Q70.9689 1071.85 68.8161 1070.14 Q66.6865 1068.4 62.8671 1068.4 L58.8393 1068.4 L58.8393 1064.56 L63.0522 1064.56 Q66.5013 1064.56 68.33 1063.19 Q70.1587 1061.8 70.1587 1059.21 Q70.1587 1056.55 68.2606 1055.14 Q66.3856 1053.7 62.8671 1053.7 Q60.9458 1053.7 58.7467 1054.12 Q56.5477 1054.53 53.9088 1055.41 L53.9088 1051.25 Q56.5708 1050.51 58.8856 1050.14 Q61.2236 1049.76 63.2837 1049.76 Q68.6078 1049.76 71.7096 1052.2 Q74.8114 1054.6 74.8114 1058.72 Q74.8114 1061.59 73.1679 1063.58 Q71.5244 1065.55 68.492 1066.32 Z\" fill=\"#000000\" fill-rule=\"nonzero\" fill-opacity=\"1\" /><path clip-path=\"url(#clip400)\" d=\"M94.4873 1068.54 Q91.1539 1068.54 89.2327 1070.32 Q87.3345 1072.1 87.3345 1075.23 Q87.3345 1078.35 89.2327 1080.14 Q91.1539 1081.92 94.4873 1081.92 Q97.8206 1081.92 99.7419 1080.14 Q101.663 1078.33 101.663 1075.23 Q101.663 1072.1 99.7419 1070.32 Q97.8437 1068.54 94.4873 1068.54 M89.8114 1066.55 Q86.8021 1065.81 85.1123 1063.75 Q83.4457 1061.69 83.4457 1058.72 Q83.4457 1054.58 86.3855 1052.17 Q89.3484 1049.76 94.4873 1049.76 Q99.6493 1049.76 102.589 1052.17 Q105.529 1054.58 105.529 1058.72 Q105.529 1061.69 103.839 1063.75 Q102.172 1065.81 99.1863 1066.55 Q102.566 1067.33 104.441 1069.63 Q106.339 1071.92 106.339 1075.23 Q106.339 1080.25 103.26 1082.94 Q100.205 1085.62 94.4873 1085.62 Q88.7697 1085.62 85.691 1082.94 Q82.6355 1080.25 82.6355 1075.23 Q82.6355 1071.92 84.5336 1069.63 Q86.4318 1067.33 89.8114 1066.55 M88.0984 1059.16 Q88.0984 1061.85 89.7651 1063.35 Q91.4549 1064.86 94.4873 1064.86 Q97.4965 1064.86 99.1863 1063.35 Q100.899 1061.85 100.899 1059.16 Q100.899 1056.48 99.1863 1054.97 Q97.4965 1053.47 94.4873 1053.47 Q91.4549 1053.47 89.7651 1054.97 Q88.0984 1056.48 88.0984 1059.16 Z\" fill=\"#000000\" fill-rule=\"nonzero\" fill-opacity=\"1\" /><path clip-path=\"url(#clip400)\" d=\"M67.08 764.651 L55.2745 783.1 L67.08 783.1 L67.08 764.651 M65.8532 760.577 L71.7328 760.577 L71.7328 783.1 L76.6633 783.1 L76.6633 786.989 L71.7328 786.989 L71.7328 795.137 L67.08 795.137 L67.08 786.989 L51.4782 786.989 L51.4782 782.475 L65.8532 760.577 Z\" fill=\"#000000\" fill-rule=\"nonzero\" fill-opacity=\"1\" /><path clip-path=\"url(#clip400)\" d=\"M94.3947 763.656 Q90.7836 763.656 88.9549 767.221 Q87.1493 770.763 87.1493 777.892 Q87.1493 784.999 88.9549 788.563 Q90.7836 792.105 94.3947 792.105 Q98.0289 792.105 99.8345 788.563 Q101.663 784.999 101.663 777.892 Q101.663 770.763 99.8345 767.221 Q98.0289 763.656 94.3947 763.656 M94.3947 759.952 Q100.205 759.952 103.26 764.559 Q106.339 769.142 106.339 777.892 Q106.339 786.619 103.26 791.225 Q100.205 795.809 94.3947 795.809 Q88.5845 795.809 85.5058 791.225 Q82.4503 786.619 82.4503 777.892 Q82.4503 769.142 85.5058 764.559 Q88.5845 759.952 94.3947 759.952 Z\" fill=\"#000000\" fill-rule=\"nonzero\" fill-opacity=\"1\" /><path clip-path=\"url(#clip400)\" d=\"M68.6772 474.839 L56.8717 493.288 L68.6772 493.288 L68.6772 474.839 M67.4504 470.765 L73.33 470.765 L73.33 493.288 L78.2605 493.288 L78.2605 497.177 L73.33 497.177 L73.33 505.325 L68.6772 505.325 L68.6772 497.177 L53.0754 497.177 L53.0754 492.663 L67.4504 470.765 Z\" fill=\"#000000\" fill-rule=\"nonzero\" fill-opacity=\"1\" /><path clip-path=\"url(#clip400)\" d=\"M90.0197 501.39 L106.339 501.39 L106.339 505.325 L84.3947 505.325 L84.3947 501.39 Q87.0567 498.635 91.6401 494.005 Q96.2465 489.353 97.4271 488.01 Q99.6724 485.487 100.552 483.751 Q101.455 481.992 101.455 480.302 Q101.455 477.547 99.5104 475.811 Q97.5891 474.075 94.4873 474.075 Q92.2882 474.075 89.8345 474.839 Q87.404 475.603 84.6262 477.154 L84.6262 472.431 Q87.4503 471.297 89.904 470.718 Q92.3576 470.14 94.3947 470.14 Q99.765 470.14 102.959 472.825 Q106.154 475.51 106.154 480.001 Q106.154 482.13 105.344 484.052 Q104.557 485.95 102.45 488.542 Q101.871 489.214 98.7696 492.431 Q95.6678 495.626 90.0197 501.39 Z\" fill=\"#000000\" fill-rule=\"nonzero\" fill-opacity=\"1\" /><path clip-path=\"url(#clip400)\" d=\"M66.5939 185.026 L54.7884 203.475 L66.5939 203.475 L66.5939 185.026 M65.367 180.952 L71.2466 180.952 L71.2466 203.475 L76.1772 203.475 L76.1772 207.364 L71.2466 207.364 L71.2466 215.512 L66.5939 215.512 L66.5939 207.364 L50.9921 207.364 L50.9921 202.85 L65.367 180.952 Z\" fill=\"#000000\" fill-rule=\"nonzero\" fill-opacity=\"1\" /><path clip-path=\"url(#clip400)\" d=\"M96.7558 185.026 L84.9503 203.475 L96.7558 203.475 L96.7558 185.026 M95.5289 180.952 L101.409 180.952 L101.409 203.475 L106.339 203.475 L106.339 207.364 L101.409 207.364 L101.409 215.512 L96.7558 215.512 L96.7558 207.364 L81.154 207.364 L81.154 202.85 L95.5289 180.952 Z\" fill=\"#000000\" fill-rule=\"nonzero\" fill-opacity=\"1\" /><polyline clip-path=\"url(#clip402)\" style=\"stroke:#009af9; stroke-linecap:round; stroke-linejoin:round; stroke-width:8; stroke-opacity:1; fill:none\" points=\"204.898,87.9763 465.56,968.027 726.223,1217.99 986.885,206.142 1247.55,488.041 1508.21,299.432 1768.87,1445.72 2029.53,537.067 2290.2,769.247 \"/>\n",
       "<circle clip-path=\"url(#clip402)\" cx=\"204.898\" cy=\"87.9763\" r=\"14.4\" fill=\"#000080\" fill-rule=\"evenodd\" fill-opacity=\"1\" stroke=\"#000000\" stroke-opacity=\"1\" stroke-width=\"3.2\"/>\n",
       "<circle clip-path=\"url(#clip402)\" cx=\"465.56\" cy=\"968.027\" r=\"14.4\" fill=\"#000080\" fill-rule=\"evenodd\" fill-opacity=\"1\" stroke=\"#000000\" stroke-opacity=\"1\" stroke-width=\"3.2\"/>\n",
       "<circle clip-path=\"url(#clip402)\" cx=\"726.223\" cy=\"1217.99\" r=\"14.4\" fill=\"#000080\" fill-rule=\"evenodd\" fill-opacity=\"1\" stroke=\"#000000\" stroke-opacity=\"1\" stroke-width=\"3.2\"/>\n",
       "<circle clip-path=\"url(#clip402)\" cx=\"986.885\" cy=\"206.142\" r=\"14.4\" fill=\"#000080\" fill-rule=\"evenodd\" fill-opacity=\"1\" stroke=\"#000000\" stroke-opacity=\"1\" stroke-width=\"3.2\"/>\n",
       "<circle clip-path=\"url(#clip402)\" cx=\"1247.55\" cy=\"488.041\" r=\"14.4\" fill=\"#000080\" fill-rule=\"evenodd\" fill-opacity=\"1\" stroke=\"#000000\" stroke-opacity=\"1\" stroke-width=\"3.2\"/>\n",
       "<circle clip-path=\"url(#clip402)\" cx=\"1508.21\" cy=\"299.432\" r=\"14.4\" fill=\"#000080\" fill-rule=\"evenodd\" fill-opacity=\"1\" stroke=\"#000000\" stroke-opacity=\"1\" stroke-width=\"3.2\"/>\n",
       "<circle clip-path=\"url(#clip402)\" cx=\"1768.87\" cy=\"1445.72\" r=\"14.4\" fill=\"#000080\" fill-rule=\"evenodd\" fill-opacity=\"1\" stroke=\"#000000\" stroke-opacity=\"1\" stroke-width=\"3.2\"/>\n",
       "<circle clip-path=\"url(#clip402)\" cx=\"2029.53\" cy=\"537.067\" r=\"14.4\" fill=\"#000080\" fill-rule=\"evenodd\" fill-opacity=\"1\" stroke=\"#000000\" stroke-opacity=\"1\" stroke-width=\"3.2\"/>\n",
       "<circle clip-path=\"url(#clip402)\" cx=\"2290.2\" cy=\"769.247\" r=\"14.4\" fill=\"#000080\" fill-rule=\"evenodd\" fill-opacity=\"1\" stroke=\"#000000\" stroke-opacity=\"1\" stroke-width=\"3.2\"/>\n",
       "<path clip-path=\"url(#clip400)\" d=\"M2005.6 250.738 L2279.08 250.738 L2279.08 95.2176 L2005.6 95.2176  Z\" fill=\"#ffffff\" fill-rule=\"evenodd\" fill-opacity=\"1\"/>\n",
       "<polyline clip-path=\"url(#clip400)\" style=\"stroke:#000000; stroke-linecap:round; stroke-linejoin:round; stroke-width:4; stroke-opacity:1; fill:none\" points=\"2005.6,250.738 2279.08,250.738 2279.08,95.2176 2005.6,95.2176 2005.6,250.738 \"/>\n",
       "<polyline clip-path=\"url(#clip400)\" style=\"stroke:#009af9; stroke-linecap:round; stroke-linejoin:round; stroke-width:8; stroke-opacity:1; fill:none\" points=\"2030.16,147.058 2177.52,147.058 \"/>\n",
       "<path clip-path=\"url(#clip400)\" d=\"M2215.93 166.745 Q2214.12 171.375 2212.41 172.787 Q2210.7 174.199 2207.83 174.199 L2204.42 174.199 L2204.42 170.634 L2206.92 170.634 Q2208.68 170.634 2209.65 169.8 Q2210.63 168.967 2211.81 165.865 L2212.57 163.921 L2202.08 138.412 L2206.6 138.412 L2214.7 158.689 L2222.8 138.412 L2227.32 138.412 L2215.93 166.745 Z\" fill=\"#000000\" fill-rule=\"nonzero\" fill-opacity=\"1\" /><path clip-path=\"url(#clip400)\" d=\"M2234.61 160.402 L2242.25 160.402 L2242.25 134.037 L2233.94 135.703 L2233.94 131.444 L2242.2 129.778 L2246.88 129.778 L2246.88 160.402 L2254.52 160.402 L2254.52 164.338 L2234.61 164.338 L2234.61 160.402 Z\" fill=\"#000000\" fill-rule=\"nonzero\" fill-opacity=\"1\" /><circle clip-path=\"url(#clip400)\" cx=\"2103.84\" cy=\"198.898\" r=\"20.48\" fill=\"#000080\" fill-rule=\"evenodd\" fill-opacity=\"1\" stroke=\"#000000\" stroke-opacity=\"1\" stroke-width=\"4.55111\"/>\n",
       "<path clip-path=\"url(#clip400)\" d=\"M2215.93 218.585 Q2214.12 223.215 2212.41 224.627 Q2210.7 226.039 2207.83 226.039 L2204.42 226.039 L2204.42 222.474 L2206.92 222.474 Q2208.68 222.474 2209.65 221.64 Q2210.63 220.807 2211.81 217.705 L2212.57 215.761 L2202.08 190.252 L2206.6 190.252 L2214.7 210.529 L2222.8 190.252 L2227.32 190.252 L2215.93 218.585 Z\" fill=\"#000000\" fill-rule=\"nonzero\" fill-opacity=\"1\" /><path clip-path=\"url(#clip400)\" d=\"M2237.83 212.242 L2254.14 212.242 L2254.14 216.178 L2232.2 216.178 L2232.2 212.242 Q2234.86 209.488 2239.45 204.858 Q2244.05 200.205 2245.23 198.863 Q2247.48 196.34 2248.36 194.604 Q2249.26 192.844 2249.26 191.155 Q2249.26 188.4 2247.32 186.664 Q2245.39 184.928 2242.29 184.928 Q2240.09 184.928 2237.64 185.692 Q2235.21 186.455 2232.43 188.006 L2232.43 183.284 Q2235.26 182.15 2237.71 181.571 Q2240.16 180.993 2242.2 180.993 Q2247.57 180.993 2250.77 183.678 Q2253.96 186.363 2253.96 190.854 Q2253.96 192.983 2253.15 194.905 Q2252.36 196.803 2250.26 199.395 Q2249.68 200.067 2246.58 203.284 Q2243.47 206.479 2237.83 212.242 Z\" fill=\"#000000\" fill-rule=\"nonzero\" fill-opacity=\"1\" /></svg>\n"
      ],
      "text/html": [
       "<?xml version=\"1.0\" encoding=\"utf-8\"?>\n",
       "<svg xmlns=\"http://www.w3.org/2000/svg\" xmlns:xlink=\"http://www.w3.org/1999/xlink\" width=\"600\" height=\"400\" viewBox=\"0 0 2400 1600\">\n",
       "<defs>\n",
       "  <clipPath id=\"clip450\">\n",
       "    <rect x=\"0\" y=\"0\" width=\"2400\" height=\"1600\"/>\n",
       "  </clipPath>\n",
       "</defs>\n",
       "<path clip-path=\"url(#clip450)\" d=\"M0 1600 L2400 1600 L2400 8.88178e-14 L0 8.88178e-14  Z\" fill=\"#ffffff\" fill-rule=\"evenodd\" fill-opacity=\"1\"/>\n",
       "<defs>\n",
       "  <clipPath id=\"clip451\">\n",
       "    <rect x=\"480\" y=\"0\" width=\"1681\" height=\"1600\"/>\n",
       "  </clipPath>\n",
       "</defs>\n",
       "<path clip-path=\"url(#clip450)\" d=\"M142.339 1486.45 L2352.76 1486.45 L2352.76 47.2441 L142.339 47.2441  Z\" fill=\"#ffffff\" fill-rule=\"evenodd\" fill-opacity=\"1\"/>\n",
       "<defs>\n",
       "  <clipPath id=\"clip452\">\n",
       "    <rect x=\"142\" y=\"47\" width=\"2211\" height=\"1440\"/>\n",
       "  </clipPath>\n",
       "</defs>\n",
       "<polyline clip-path=\"url(#clip452)\" style=\"stroke:#000000; stroke-linecap:round; stroke-linejoin:round; stroke-width:2; stroke-opacity:0.1; fill:none\" points=\"204.898,1486.45 204.898,47.2441 \"/>\n",
       "<polyline clip-path=\"url(#clip452)\" style=\"stroke:#000000; stroke-linecap:round; stroke-linejoin:round; stroke-width:2; stroke-opacity:0.1; fill:none\" points=\"726.223,1486.45 726.223,47.2441 \"/>\n",
       "<polyline clip-path=\"url(#clip452)\" style=\"stroke:#000000; stroke-linecap:round; stroke-linejoin:round; stroke-width:2; stroke-opacity:0.1; fill:none\" points=\"1247.55,1486.45 1247.55,47.2441 \"/>\n",
       "<polyline clip-path=\"url(#clip452)\" style=\"stroke:#000000; stroke-linecap:round; stroke-linejoin:round; stroke-width:2; stroke-opacity:0.1; fill:none\" points=\"1768.87,1486.45 1768.87,47.2441 \"/>\n",
       "<polyline clip-path=\"url(#clip452)\" style=\"stroke:#000000; stroke-linecap:round; stroke-linejoin:round; stroke-width:2; stroke-opacity:0.1; fill:none\" points=\"2290.2,1486.45 2290.2,47.2441 \"/>\n",
       "<polyline clip-path=\"url(#clip452)\" style=\"stroke:#000000; stroke-linecap:round; stroke-linejoin:round; stroke-width:2; stroke-opacity:0.1; fill:none\" points=\"142.339,1357.48 2352.76,1357.48 \"/>\n",
       "<polyline clip-path=\"url(#clip452)\" style=\"stroke:#000000; stroke-linecap:round; stroke-linejoin:round; stroke-width:2; stroke-opacity:0.1; fill:none\" points=\"142.339,1067.67 2352.76,1067.67 \"/>\n",
       "<polyline clip-path=\"url(#clip452)\" style=\"stroke:#000000; stroke-linecap:round; stroke-linejoin:round; stroke-width:2; stroke-opacity:0.1; fill:none\" points=\"142.339,777.857 2352.76,777.857 \"/>\n",
       "<polyline clip-path=\"url(#clip452)\" style=\"stroke:#000000; stroke-linecap:round; stroke-linejoin:round; stroke-width:2; stroke-opacity:0.1; fill:none\" points=\"142.339,488.045 2352.76,488.045 \"/>\n",
       "<polyline clip-path=\"url(#clip452)\" style=\"stroke:#000000; stroke-linecap:round; stroke-linejoin:round; stroke-width:2; stroke-opacity:0.1; fill:none\" points=\"142.339,198.232 2352.76,198.232 \"/>\n",
       "<polyline clip-path=\"url(#clip450)\" style=\"stroke:#000000; stroke-linecap:round; stroke-linejoin:round; stroke-width:4; stroke-opacity:1; fill:none\" points=\"142.339,1486.45 2352.76,1486.45 \"/>\n",
       "<polyline clip-path=\"url(#clip450)\" style=\"stroke:#000000; stroke-linecap:round; stroke-linejoin:round; stroke-width:4; stroke-opacity:1; fill:none\" points=\"204.898,1486.45 204.898,1467.55 \"/>\n",
       "<polyline clip-path=\"url(#clip450)\" style=\"stroke:#000000; stroke-linecap:round; stroke-linejoin:round; stroke-width:4; stroke-opacity:1; fill:none\" points=\"726.223,1486.45 726.223,1467.55 \"/>\n",
       "<polyline clip-path=\"url(#clip450)\" style=\"stroke:#000000; stroke-linecap:round; stroke-linejoin:round; stroke-width:4; stroke-opacity:1; fill:none\" points=\"1247.55,1486.45 1247.55,1467.55 \"/>\n",
       "<polyline clip-path=\"url(#clip450)\" style=\"stroke:#000000; stroke-linecap:round; stroke-linejoin:round; stroke-width:4; stroke-opacity:1; fill:none\" points=\"1768.87,1486.45 1768.87,1467.55 \"/>\n",
       "<polyline clip-path=\"url(#clip450)\" style=\"stroke:#000000; stroke-linecap:round; stroke-linejoin:round; stroke-width:4; stroke-opacity:1; fill:none\" points=\"2290.2,1486.45 2290.2,1467.55 \"/>\n",
       "<path clip-path=\"url(#clip450)\" d=\"M199.551 1544.91 L215.87 1544.91 L215.87 1548.85 L193.926 1548.85 L193.926 1544.91 Q196.588 1542.16 201.171 1537.53 Q205.778 1532.88 206.958 1531.53 Q209.204 1529.01 210.083 1527.27 Q210.986 1525.51 210.986 1523.82 Q210.986 1521.07 209.042 1519.33 Q207.12 1517.6 204.018 1517.6 Q201.819 1517.6 199.366 1518.36 Q196.935 1519.13 194.157 1520.68 L194.157 1515.95 Q196.981 1514.82 199.435 1514.24 Q201.889 1513.66 203.926 1513.66 Q209.296 1513.66 212.491 1516.35 Q215.685 1519.03 215.685 1523.52 Q215.685 1525.65 214.875 1527.57 Q214.088 1529.47 211.981 1532.07 Q211.403 1532.74 208.301 1535.95 Q205.199 1539.15 199.551 1544.91 Z\" fill=\"#000000\" fill-rule=\"nonzero\" fill-opacity=\"1\" /><path clip-path=\"url(#clip450)\" d=\"M729.232 1518.36 L717.426 1536.81 L729.232 1536.81 L729.232 1518.36 M728.005 1514.29 L733.885 1514.29 L733.885 1536.81 L738.815 1536.81 L738.815 1540.7 L733.885 1540.7 L733.885 1548.85 L729.232 1548.85 L729.232 1540.7 L713.63 1540.7 L713.63 1536.19 L728.005 1514.29 Z\" fill=\"#000000\" fill-rule=\"nonzero\" fill-opacity=\"1\" /><path clip-path=\"url(#clip450)\" d=\"M1247.95 1529.7 Q1244.8 1529.7 1242.95 1531.86 Q1241.12 1534.01 1241.12 1537.76 Q1241.12 1541.49 1242.95 1543.66 Q1244.8 1545.82 1247.95 1545.82 Q1251.1 1545.82 1252.93 1543.66 Q1254.78 1541.49 1254.78 1537.76 Q1254.78 1534.01 1252.93 1531.86 Q1251.1 1529.7 1247.95 1529.7 M1257.23 1515.05 L1257.23 1519.31 Q1255.48 1518.48 1253.67 1518.04 Q1251.89 1517.6 1250.13 1517.6 Q1245.5 1517.6 1243.05 1520.72 Q1240.61 1523.85 1240.27 1530.17 Q1241.63 1528.15 1243.69 1527.09 Q1245.75 1526 1248.23 1526 Q1253.44 1526 1256.45 1529.17 Q1259.48 1532.32 1259.48 1537.76 Q1259.48 1543.08 1256.33 1546.3 Q1253.18 1549.52 1247.95 1549.52 Q1241.96 1549.52 1238.79 1544.94 Q1235.61 1540.33 1235.61 1531.6 Q1235.61 1523.41 1239.5 1518.55 Q1243.39 1513.66 1249.94 1513.66 Q1251.7 1513.66 1253.48 1514.01 Q1255.29 1514.36 1257.23 1515.05 Z\" fill=\"#000000\" fill-rule=\"nonzero\" fill-opacity=\"1\" /><path clip-path=\"url(#clip450)\" d=\"M1768.87 1532.44 Q1765.54 1532.44 1763.62 1534.22 Q1761.72 1536 1761.72 1539.13 Q1761.72 1542.25 1763.62 1544.03 Q1765.54 1545.82 1768.87 1545.82 Q1772.21 1545.82 1774.13 1544.03 Q1776.05 1542.23 1776.05 1539.13 Q1776.05 1536 1774.13 1534.22 Q1772.23 1532.44 1768.87 1532.44 M1764.2 1530.45 Q1761.19 1529.7 1759.5 1527.64 Q1757.83 1525.58 1757.83 1522.62 Q1757.83 1518.48 1760.77 1516.07 Q1763.73 1513.66 1768.87 1513.66 Q1774.03 1513.66 1776.97 1516.07 Q1779.91 1518.48 1779.91 1522.62 Q1779.91 1525.58 1778.22 1527.64 Q1776.56 1529.7 1773.57 1530.45 Q1776.95 1531.23 1778.83 1533.52 Q1780.72 1535.82 1780.72 1539.13 Q1780.72 1544.15 1777.65 1546.83 Q1774.59 1549.52 1768.87 1549.52 Q1763.15 1549.52 1760.08 1546.83 Q1757.02 1544.15 1757.02 1539.13 Q1757.02 1535.82 1758.92 1533.52 Q1760.82 1531.23 1764.2 1530.45 M1762.48 1523.06 Q1762.48 1525.75 1764.15 1527.25 Q1765.84 1528.76 1768.87 1528.76 Q1771.88 1528.76 1773.57 1527.25 Q1775.28 1525.75 1775.28 1523.06 Q1775.28 1520.38 1773.57 1518.87 Q1771.88 1517.37 1768.87 1517.37 Q1765.84 1517.37 1764.15 1518.87 Q1762.48 1520.38 1762.48 1523.06 Z\" fill=\"#000000\" fill-rule=\"nonzero\" fill-opacity=\"1\" /><path clip-path=\"url(#clip450)\" d=\"M2264.88 1544.91 L2272.52 1544.91 L2272.52 1518.55 L2264.21 1520.21 L2264.21 1515.95 L2272.48 1514.29 L2277.15 1514.29 L2277.15 1544.91 L2284.79 1544.91 L2284.79 1548.85 L2264.88 1548.85 L2264.88 1544.91 Z\" fill=\"#000000\" fill-rule=\"nonzero\" fill-opacity=\"1\" /><path clip-path=\"url(#clip450)\" d=\"M2304.24 1517.37 Q2300.63 1517.37 2298.8 1520.93 Q2296.99 1524.47 2296.99 1531.6 Q2296.99 1538.71 2298.8 1542.27 Q2300.63 1545.82 2304.24 1545.82 Q2307.87 1545.82 2309.68 1542.27 Q2311.5 1538.71 2311.5 1531.6 Q2311.5 1524.47 2309.68 1520.93 Q2307.87 1517.37 2304.24 1517.37 M2304.24 1513.66 Q2310.05 1513.66 2313.1 1518.27 Q2316.18 1522.85 2316.18 1531.6 Q2316.18 1540.33 2313.1 1544.94 Q2310.05 1549.52 2304.24 1549.52 Q2298.43 1549.52 2295.35 1544.94 Q2292.29 1540.33 2292.29 1531.6 Q2292.29 1522.85 2295.35 1518.27 Q2298.43 1513.66 2304.24 1513.66 Z\" fill=\"#000000\" fill-rule=\"nonzero\" fill-opacity=\"1\" /><polyline clip-path=\"url(#clip450)\" style=\"stroke:#000000; stroke-linecap:round; stroke-linejoin:round; stroke-width:4; stroke-opacity:1; fill:none\" points=\"142.339,1486.45 142.339,47.2441 \"/>\n",
       "<polyline clip-path=\"url(#clip450)\" style=\"stroke:#000000; stroke-linecap:round; stroke-linejoin:round; stroke-width:4; stroke-opacity:1; fill:none\" points=\"142.339,1357.48 161.237,1357.48 \"/>\n",
       "<polyline clip-path=\"url(#clip450)\" style=\"stroke:#000000; stroke-linecap:round; stroke-linejoin:round; stroke-width:4; stroke-opacity:1; fill:none\" points=\"142.339,1067.67 161.237,1067.67 \"/>\n",
       "<polyline clip-path=\"url(#clip450)\" style=\"stroke:#000000; stroke-linecap:round; stroke-linejoin:round; stroke-width:4; stroke-opacity:1; fill:none\" points=\"142.339,777.857 161.237,777.857 \"/>\n",
       "<polyline clip-path=\"url(#clip450)\" style=\"stroke:#000000; stroke-linecap:round; stroke-linejoin:round; stroke-width:4; stroke-opacity:1; fill:none\" points=\"142.339,488.045 161.237,488.045 \"/>\n",
       "<polyline clip-path=\"url(#clip450)\" style=\"stroke:#000000; stroke-linecap:round; stroke-linejoin:round; stroke-width:4; stroke-opacity:1; fill:none\" points=\"142.339,198.232 161.237,198.232 \"/>\n",
       "<path clip-path=\"url(#clip450)\" d=\"M68.2374 1356.13 Q71.5939 1356.85 73.4689 1359.11 Q75.367 1361.38 75.367 1364.72 Q75.367 1369.83 71.8485 1372.63 Q68.33 1375.43 61.8485 1375.43 Q59.6726 1375.43 57.3578 1374.99 Q55.0662 1374.58 52.6125 1373.72 L52.6125 1369.21 Q54.5569 1370.34 56.8717 1370.92 Q59.1865 1371.5 61.7097 1371.5 Q66.1078 1371.5 68.3994 1369.76 Q70.7142 1368.03 70.7142 1364.72 Q70.7142 1361.66 68.5615 1359.95 Q66.4319 1358.21 62.6124 1358.21 L58.5847 1358.21 L58.5847 1354.37 L62.7976 1354.37 Q66.2467 1354.37 68.0754 1353 Q69.9041 1351.61 69.9041 1349.02 Q69.9041 1346.36 68.0059 1344.95 Q66.1309 1343.51 62.6124 1343.51 Q60.6911 1343.51 58.4921 1343.93 Q56.293 1344.35 53.6541 1345.23 L53.6541 1341.06 Q56.3162 1340.32 58.631 1339.95 Q60.9689 1339.58 63.0291 1339.58 Q68.3531 1339.58 71.455 1342.01 Q74.5568 1344.42 74.5568 1348.54 Q74.5568 1351.41 72.9133 1353.4 Q71.2698 1355.36 68.2374 1356.13 Z\" fill=\"#000000\" fill-rule=\"nonzero\" fill-opacity=\"1\" /><path clip-path=\"url(#clip450)\" d=\"M94.8113 1355.62 Q91.6632 1355.62 89.8114 1357.77 Q87.9827 1359.92 87.9827 1363.67 Q87.9827 1367.4 89.8114 1369.58 Q91.6632 1371.73 94.8113 1371.73 Q97.9595 1371.73 99.7882 1369.58 Q101.64 1367.4 101.64 1363.67 Q101.64 1359.92 99.7882 1357.77 Q97.9595 1355.62 94.8113 1355.62 M104.094 1340.97 L104.094 1345.23 Q102.334 1344.39 100.529 1343.95 Q98.7465 1343.51 96.9872 1343.51 Q92.3576 1343.51 89.904 1346.64 Q87.4734 1349.76 87.1262 1356.08 Q88.4919 1354.07 90.5521 1353 Q92.6123 1351.92 95.0891 1351.92 Q100.297 1351.92 103.307 1355.09 Q106.339 1358.23 106.339 1363.67 Q106.339 1369 103.191 1372.22 Q100.043 1375.43 94.8113 1375.43 Q88.816 1375.43 85.6447 1370.85 Q82.4734 1366.24 82.4734 1357.52 Q82.4734 1349.32 86.3623 1344.46 Q90.2512 1339.58 96.8021 1339.58 Q98.5613 1339.58 100.344 1339.92 Q102.149 1340.27 104.094 1340.97 Z\" fill=\"#000000\" fill-rule=\"nonzero\" fill-opacity=\"1\" /><path clip-path=\"url(#clip450)\" d=\"M68.492 1066.32 Q71.8485 1067.03 73.7235 1069.3 Q75.6216 1071.57 75.6216 1074.9 Q75.6216 1080.02 72.1031 1082.82 Q68.5846 1085.62 62.1032 1085.62 Q59.9273 1085.62 57.6125 1085.18 Q55.3208 1084.76 52.8671 1083.91 L52.8671 1079.39 Q54.8115 1080.53 57.1264 1081.11 Q59.4412 1081.69 61.9643 1081.69 Q66.3624 1081.69 68.6541 1079.95 Q70.9689 1078.21 70.9689 1074.9 Q70.9689 1071.85 68.8161 1070.14 Q66.6865 1068.4 62.8671 1068.4 L58.8393 1068.4 L58.8393 1064.56 L63.0522 1064.56 Q66.5013 1064.56 68.33 1063.19 Q70.1587 1061.8 70.1587 1059.21 Q70.1587 1056.55 68.2606 1055.14 Q66.3856 1053.7 62.8671 1053.7 Q60.9458 1053.7 58.7467 1054.12 Q56.5477 1054.53 53.9088 1055.41 L53.9088 1051.25 Q56.5708 1050.51 58.8856 1050.14 Q61.2236 1049.76 63.2837 1049.76 Q68.6078 1049.76 71.7096 1052.2 Q74.8114 1054.6 74.8114 1058.72 Q74.8114 1061.59 73.1679 1063.58 Q71.5244 1065.55 68.492 1066.32 Z\" fill=\"#000000\" fill-rule=\"nonzero\" fill-opacity=\"1\" /><path clip-path=\"url(#clip450)\" d=\"M94.4873 1068.54 Q91.1539 1068.54 89.2327 1070.32 Q87.3345 1072.1 87.3345 1075.23 Q87.3345 1078.35 89.2327 1080.14 Q91.1539 1081.92 94.4873 1081.92 Q97.8206 1081.92 99.7419 1080.14 Q101.663 1078.33 101.663 1075.23 Q101.663 1072.1 99.7419 1070.32 Q97.8437 1068.54 94.4873 1068.54 M89.8114 1066.55 Q86.8021 1065.81 85.1123 1063.75 Q83.4457 1061.69 83.4457 1058.72 Q83.4457 1054.58 86.3855 1052.17 Q89.3484 1049.76 94.4873 1049.76 Q99.6493 1049.76 102.589 1052.17 Q105.529 1054.58 105.529 1058.72 Q105.529 1061.69 103.839 1063.75 Q102.172 1065.81 99.1863 1066.55 Q102.566 1067.33 104.441 1069.63 Q106.339 1071.92 106.339 1075.23 Q106.339 1080.25 103.26 1082.94 Q100.205 1085.62 94.4873 1085.62 Q88.7697 1085.62 85.691 1082.94 Q82.6355 1080.25 82.6355 1075.23 Q82.6355 1071.92 84.5336 1069.63 Q86.4318 1067.33 89.8114 1066.55 M88.0984 1059.16 Q88.0984 1061.85 89.7651 1063.35 Q91.4549 1064.86 94.4873 1064.86 Q97.4965 1064.86 99.1863 1063.35 Q100.899 1061.85 100.899 1059.16 Q100.899 1056.48 99.1863 1054.97 Q97.4965 1053.47 94.4873 1053.47 Q91.4549 1053.47 89.7651 1054.97 Q88.0984 1056.48 88.0984 1059.16 Z\" fill=\"#000000\" fill-rule=\"nonzero\" fill-opacity=\"1\" /><path clip-path=\"url(#clip450)\" d=\"M67.08 764.651 L55.2745 783.1 L67.08 783.1 L67.08 764.651 M65.8532 760.577 L71.7328 760.577 L71.7328 783.1 L76.6633 783.1 L76.6633 786.989 L71.7328 786.989 L71.7328 795.137 L67.08 795.137 L67.08 786.989 L51.4782 786.989 L51.4782 782.475 L65.8532 760.577 Z\" fill=\"#000000\" fill-rule=\"nonzero\" fill-opacity=\"1\" /><path clip-path=\"url(#clip450)\" d=\"M94.3947 763.656 Q90.7836 763.656 88.9549 767.221 Q87.1493 770.763 87.1493 777.892 Q87.1493 784.999 88.9549 788.563 Q90.7836 792.105 94.3947 792.105 Q98.0289 792.105 99.8345 788.563 Q101.663 784.999 101.663 777.892 Q101.663 770.763 99.8345 767.221 Q98.0289 763.656 94.3947 763.656 M94.3947 759.952 Q100.205 759.952 103.26 764.559 Q106.339 769.142 106.339 777.892 Q106.339 786.619 103.26 791.225 Q100.205 795.809 94.3947 795.809 Q88.5845 795.809 85.5058 791.225 Q82.4503 786.619 82.4503 777.892 Q82.4503 769.142 85.5058 764.559 Q88.5845 759.952 94.3947 759.952 Z\" fill=\"#000000\" fill-rule=\"nonzero\" fill-opacity=\"1\" /><path clip-path=\"url(#clip450)\" d=\"M68.6772 474.839 L56.8717 493.288 L68.6772 493.288 L68.6772 474.839 M67.4504 470.765 L73.33 470.765 L73.33 493.288 L78.2605 493.288 L78.2605 497.177 L73.33 497.177 L73.33 505.325 L68.6772 505.325 L68.6772 497.177 L53.0754 497.177 L53.0754 492.663 L67.4504 470.765 Z\" fill=\"#000000\" fill-rule=\"nonzero\" fill-opacity=\"1\" /><path clip-path=\"url(#clip450)\" d=\"M90.0197 501.39 L106.339 501.39 L106.339 505.325 L84.3947 505.325 L84.3947 501.39 Q87.0567 498.635 91.6401 494.005 Q96.2465 489.353 97.4271 488.01 Q99.6724 485.487 100.552 483.751 Q101.455 481.992 101.455 480.302 Q101.455 477.547 99.5104 475.811 Q97.5891 474.075 94.4873 474.075 Q92.2882 474.075 89.8345 474.839 Q87.404 475.603 84.6262 477.154 L84.6262 472.431 Q87.4503 471.297 89.904 470.718 Q92.3576 470.14 94.3947 470.14 Q99.765 470.14 102.959 472.825 Q106.154 475.51 106.154 480.001 Q106.154 482.13 105.344 484.052 Q104.557 485.95 102.45 488.542 Q101.871 489.214 98.7696 492.431 Q95.6678 495.626 90.0197 501.39 Z\" fill=\"#000000\" fill-rule=\"nonzero\" fill-opacity=\"1\" /><path clip-path=\"url(#clip450)\" d=\"M66.5939 185.026 L54.7884 203.475 L66.5939 203.475 L66.5939 185.026 M65.367 180.952 L71.2466 180.952 L71.2466 203.475 L76.1772 203.475 L76.1772 207.364 L71.2466 207.364 L71.2466 215.512 L66.5939 215.512 L66.5939 207.364 L50.9921 207.364 L50.9921 202.85 L65.367 180.952 Z\" fill=\"#000000\" fill-rule=\"nonzero\" fill-opacity=\"1\" /><path clip-path=\"url(#clip450)\" d=\"M96.7558 185.026 L84.9503 203.475 L96.7558 203.475 L96.7558 185.026 M95.5289 180.952 L101.409 180.952 L101.409 203.475 L106.339 203.475 L106.339 207.364 L101.409 207.364 L101.409 215.512 L96.7558 215.512 L96.7558 207.364 L81.154 207.364 L81.154 202.85 L95.5289 180.952 Z\" fill=\"#000000\" fill-rule=\"nonzero\" fill-opacity=\"1\" /><polyline clip-path=\"url(#clip452)\" style=\"stroke:#009af9; stroke-linecap:round; stroke-linejoin:round; stroke-width:8; stroke-opacity:1; fill:none\" points=\"204.898,87.9763 465.56,968.027 726.223,1217.99 986.885,206.142 1247.55,488.041 1508.21,299.432 1768.87,1445.72 2029.53,537.067 2290.2,769.247 \"/>\n",
       "<circle clip-path=\"url(#clip452)\" cx=\"204.898\" cy=\"87.9763\" r=\"14.4\" fill=\"#000080\" fill-rule=\"evenodd\" fill-opacity=\"1\" stroke=\"#000000\" stroke-opacity=\"1\" stroke-width=\"3.2\"/>\n",
       "<circle clip-path=\"url(#clip452)\" cx=\"465.56\" cy=\"968.027\" r=\"14.4\" fill=\"#000080\" fill-rule=\"evenodd\" fill-opacity=\"1\" stroke=\"#000000\" stroke-opacity=\"1\" stroke-width=\"3.2\"/>\n",
       "<circle clip-path=\"url(#clip452)\" cx=\"726.223\" cy=\"1217.99\" r=\"14.4\" fill=\"#000080\" fill-rule=\"evenodd\" fill-opacity=\"1\" stroke=\"#000000\" stroke-opacity=\"1\" stroke-width=\"3.2\"/>\n",
       "<circle clip-path=\"url(#clip452)\" cx=\"986.885\" cy=\"206.142\" r=\"14.4\" fill=\"#000080\" fill-rule=\"evenodd\" fill-opacity=\"1\" stroke=\"#000000\" stroke-opacity=\"1\" stroke-width=\"3.2\"/>\n",
       "<circle clip-path=\"url(#clip452)\" cx=\"1247.55\" cy=\"488.041\" r=\"14.4\" fill=\"#000080\" fill-rule=\"evenodd\" fill-opacity=\"1\" stroke=\"#000000\" stroke-opacity=\"1\" stroke-width=\"3.2\"/>\n",
       "<circle clip-path=\"url(#clip452)\" cx=\"1508.21\" cy=\"299.432\" r=\"14.4\" fill=\"#000080\" fill-rule=\"evenodd\" fill-opacity=\"1\" stroke=\"#000000\" stroke-opacity=\"1\" stroke-width=\"3.2\"/>\n",
       "<circle clip-path=\"url(#clip452)\" cx=\"1768.87\" cy=\"1445.72\" r=\"14.4\" fill=\"#000080\" fill-rule=\"evenodd\" fill-opacity=\"1\" stroke=\"#000000\" stroke-opacity=\"1\" stroke-width=\"3.2\"/>\n",
       "<circle clip-path=\"url(#clip452)\" cx=\"2029.53\" cy=\"537.067\" r=\"14.4\" fill=\"#000080\" fill-rule=\"evenodd\" fill-opacity=\"1\" stroke=\"#000000\" stroke-opacity=\"1\" stroke-width=\"3.2\"/>\n",
       "<circle clip-path=\"url(#clip452)\" cx=\"2290.2\" cy=\"769.247\" r=\"14.4\" fill=\"#000080\" fill-rule=\"evenodd\" fill-opacity=\"1\" stroke=\"#000000\" stroke-opacity=\"1\" stroke-width=\"3.2\"/>\n",
       "<path clip-path=\"url(#clip450)\" d=\"M2005.6 250.738 L2279.08 250.738 L2279.08 95.2176 L2005.6 95.2176  Z\" fill=\"#ffffff\" fill-rule=\"evenodd\" fill-opacity=\"1\"/>\n",
       "<polyline clip-path=\"url(#clip450)\" style=\"stroke:#000000; stroke-linecap:round; stroke-linejoin:round; stroke-width:4; stroke-opacity:1; fill:none\" points=\"2005.6,250.738 2279.08,250.738 2279.08,95.2176 2005.6,95.2176 2005.6,250.738 \"/>\n",
       "<polyline clip-path=\"url(#clip450)\" style=\"stroke:#009af9; stroke-linecap:round; stroke-linejoin:round; stroke-width:8; stroke-opacity:1; fill:none\" points=\"2030.16,147.058 2177.52,147.058 \"/>\n",
       "<path clip-path=\"url(#clip450)\" d=\"M2215.93 166.745 Q2214.12 171.375 2212.41 172.787 Q2210.7 174.199 2207.83 174.199 L2204.42 174.199 L2204.42 170.634 L2206.92 170.634 Q2208.68 170.634 2209.65 169.8 Q2210.63 168.967 2211.81 165.865 L2212.57 163.921 L2202.08 138.412 L2206.6 138.412 L2214.7 158.689 L2222.8 138.412 L2227.32 138.412 L2215.93 166.745 Z\" fill=\"#000000\" fill-rule=\"nonzero\" fill-opacity=\"1\" /><path clip-path=\"url(#clip450)\" d=\"M2234.61 160.402 L2242.25 160.402 L2242.25 134.037 L2233.94 135.703 L2233.94 131.444 L2242.2 129.778 L2246.88 129.778 L2246.88 160.402 L2254.52 160.402 L2254.52 164.338 L2234.61 164.338 L2234.61 160.402 Z\" fill=\"#000000\" fill-rule=\"nonzero\" fill-opacity=\"1\" /><circle clip-path=\"url(#clip450)\" cx=\"2103.84\" cy=\"198.898\" r=\"20.48\" fill=\"#000080\" fill-rule=\"evenodd\" fill-opacity=\"1\" stroke=\"#000000\" stroke-opacity=\"1\" stroke-width=\"4.55111\"/>\n",
       "<path clip-path=\"url(#clip450)\" d=\"M2215.93 218.585 Q2214.12 223.215 2212.41 224.627 Q2210.7 226.039 2207.83 226.039 L2204.42 226.039 L2204.42 222.474 L2206.92 222.474 Q2208.68 222.474 2209.65 221.64 Q2210.63 220.807 2211.81 217.705 L2212.57 215.761 L2202.08 190.252 L2206.6 190.252 L2214.7 210.529 L2222.8 190.252 L2227.32 190.252 L2215.93 218.585 Z\" fill=\"#000000\" fill-rule=\"nonzero\" fill-opacity=\"1\" /><path clip-path=\"url(#clip450)\" d=\"M2237.83 212.242 L2254.14 212.242 L2254.14 216.178 L2232.2 216.178 L2232.2 212.242 Q2234.86 209.488 2239.45 204.858 Q2244.05 200.205 2245.23 198.863 Q2247.48 196.34 2248.36 194.604 Q2249.26 192.844 2249.26 191.155 Q2249.26 188.4 2247.32 186.664 Q2245.39 184.928 2242.29 184.928 Q2240.09 184.928 2237.64 185.692 Q2235.21 186.455 2232.43 188.006 L2232.43 183.284 Q2235.26 182.15 2237.71 181.571 Q2240.16 180.993 2242.2 180.993 Q2247.57 180.993 2250.77 183.678 Q2253.96 186.363 2253.96 190.854 Q2253.96 192.983 2253.15 194.905 Q2252.36 196.803 2250.26 199.395 Q2249.68 200.067 2246.58 203.284 Q2243.47 206.479 2237.83 212.242 Z\" fill=\"#000000\" fill-rule=\"nonzero\" fill-opacity=\"1\" /></svg>\n"
      ]
     },
     "execution_count": 27,
     "metadata": {},
     "output_type": "execute_result"
    }
   ],
   "source": [
    "plot(performance_array[:,1], performance_array[:,2], lw=2)\n",
    "scatter!(performance_array[:,1], performance_array[:,2], lw=2, c=:navy)"
   ]
  }
 ],
 "metadata": {
  "kernelspec": {
   "display_name": "Julia 1.11.2",
   "language": "julia",
   "name": "julia-1.11"
  },
  "language_info": {
   "file_extension": ".jl",
   "mimetype": "application/julia",
   "name": "julia",
   "version": "1.11.2"
  }
 },
 "nbformat": 4,
 "nbformat_minor": 5
}
