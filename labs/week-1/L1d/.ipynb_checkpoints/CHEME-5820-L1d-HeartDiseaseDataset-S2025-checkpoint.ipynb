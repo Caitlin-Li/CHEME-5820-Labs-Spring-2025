{
 "cells": [
  {
   "cell_type": "markdown",
   "id": "c695f5e9-6b72-4869-972f-1f48e03fe7e5",
   "metadata": {},
   "source": [
    "# Lab 1d: K-Means Clustering Analysis of a Heart Failure Clinical Dataset\n",
    "In this lab, we will cluster a dataset describing the clinical risk factors linked with death from heart disease using [the K-means clustering algorithm](https://en.wikipedia.org/wiki/K-means_clustering). In this dataset, several risk factors (features) are measured per patient (some of these features are continuous, some are categorical), along with the binary clinical outcome (target variable) `{death | not death}.` \n",
    "\n",
    "Before we start, divide into teams and familiarize yourself with the lab. Then, execute the `Run All Cells` command to check if you (or your neighbor) have any code or setup issues. Code issues, then raise your hands - and let's get those fixed!\n",
    "\n",
    "### Tasks\n",
    "* __Setup, Data, Constants (10 min)__: Let's take 10 minutes to review the dataset we'll explore today and set up some values we'll use in the other tasks. We'll load the data and do some initial _data munging_ (also called [data wrangling](https://en.wikipedia.org/wiki/Data_wrangling)) to get the clinical dataset in a form that we'll use in our analysis.\n",
    "* __Task 1: Cluster (20 min)__: In this task, you will set up the clustering problem and execute the clustering algorithm on our dataset using a default value for parameters (such as the number of clusters $K$). We'll check that the _energy_ of the system decreases to a minimum.\n",
    "* __Task 2: Analysis of clustering results (20 min)__: Now that we have clustered the data (using the specified number of clusters that we computed), let's take some time to explore what's in each cluster and what the clinical data says about heart disease and heart disease risk factors."
   ]
  },
  {
   "cell_type": "markdown",
   "id": "c0afa002-b0cc-44b2-92e7-8c7229d22a3a",
   "metadata": {},
   "source": [
    "## Setup, Data, and Prerequisites\n",
    "We set up the computational environment by including the `Include.jl` file. The `Include.jl` file loads external packages, various functions that we will use in the exercise, and custom types to model the components of our lab problem."
   ]
  },
  {
   "cell_type": "code",
   "execution_count": 3,
   "id": "791e8a3f-3718-4848-ad53-93bd5827d2ed",
   "metadata": {},
   "outputs": [],
   "source": [
    "include(\"Include.jl\"); # this executes the Include.jl file - what does that do?"
   ]
  },
  {
   "cell_type": "markdown",
   "id": "829d7d60-1c00-406a-aedf-87037918dd6e",
   "metadata": {},
   "source": [
    "### Data\n",
    "Next, let's load up the dataset that we will explore. The data for this lab was taken from this `2020` publication:\n",
    "* [Davide Chicco, Giuseppe Jurman: \"Machine learning can predict survival of patients with heart failure from serum creatinine and ejection fraction alone.\" BMC Medical Informatics and Decision Making 20, 16 (2020). https://doi.org/10.1186/s12911-020-1023-5](https://pubmed.ncbi.nlm.nih.gov/32013925/)\n",
    "\n",
    "In this paper, the authors analyzed a dataset of 299 heart failure patients collected in 2015. The patients comprised 105 women and 194 men, aged between 40 and 95 years old. The dataset contains 13 features (a mixture of continuous and categorical data), which report clinical, body, and lifestyle information:\n",
    "* Some features are binary: anemia, high blood pressure, diabetes, sex, and smoking status.\n",
    "* The remaining features were continuous biochemical measurements, such as the Level of the Creatinine phosphokinase (CPK) enzyme in the blood, the number of platelets, etc.\n",
    "* The class (target) variable is encoded as a binary (boolean) death event: `1` if the patient died during the follow-up period, `0` otherwise.\n",
    "\n",
    "We'll load this data as a [DataFrame instance](https://dataframes.juliadata.org/stable/) and store it in the `originaldataset::DataFrame` variable:"
   ]
  },
  {
   "cell_type": "code",
   "execution_count": 5,
   "id": "656d5710-9346-40b5-a3ba-74df8a44b85a",
   "metadata": {},
   "outputs": [
    {
     "data": {
      "text/html": [
       "<div><div style = \"float: left;\"><span>299×13 DataFrame</span></div><div style = \"float: right;\"><span style = \"font-style: italic;\">274 rows omitted</span></div><div style = \"clear: both;\"></div></div><div class = \"data-frame\" style = \"overflow-x: scroll;\"><table class = \"data-frame\" style = \"margin-bottom: 6px;\"><thead><tr class = \"header\"><th class = \"rowNumber\" style = \"font-weight: bold; text-align: right;\">Row</th><th style = \"text-align: left;\">age</th><th style = \"text-align: left;\">anaemia</th><th style = \"text-align: left;\">creatinine_phosphokinase</th><th style = \"text-align: left;\">diabetes</th><th style = \"text-align: left;\">ejection_fraction</th><th style = \"text-align: left;\">high_blood_pressure</th><th style = \"text-align: left;\">platelets</th><th style = \"text-align: left;\">serum_creatinine</th><th style = \"text-align: left;\">serum_sodium</th><th style = \"text-align: left;\">sex</th><th style = \"text-align: left;\">smoking</th><th style = \"text-align: left;\">time</th><th style = \"text-align: left;\">death_event</th></tr><tr class = \"subheader headerLastRow\"><th class = \"rowNumber\" style = \"font-weight: bold; text-align: right;\"></th><th title = \"Float64\" style = \"text-align: left;\">Float64</th><th title = \"Int64\" style = \"text-align: left;\">Int64</th><th title = \"Int64\" style = \"text-align: left;\">Int64</th><th title = \"Int64\" style = \"text-align: left;\">Int64</th><th title = \"Int64\" style = \"text-align: left;\">Int64</th><th title = \"Int64\" style = \"text-align: left;\">Int64</th><th title = \"Float64\" style = \"text-align: left;\">Float64</th><th title = \"Float64\" style = \"text-align: left;\">Float64</th><th title = \"Int64\" style = \"text-align: left;\">Int64</th><th title = \"Int64\" style = \"text-align: left;\">Int64</th><th title = \"Int64\" style = \"text-align: left;\">Int64</th><th title = \"Int64\" style = \"text-align: left;\">Int64</th><th title = \"Int64\" style = \"text-align: left;\">Int64</th></tr></thead><tbody><tr><td class = \"rowNumber\" style = \"font-weight: bold; text-align: right;\">1</td><td style = \"text-align: right;\">75.0</td><td style = \"text-align: right;\">0</td><td style = \"text-align: right;\">582</td><td style = \"text-align: right;\">0</td><td style = \"text-align: right;\">20</td><td style = \"text-align: right;\">1</td><td style = \"text-align: right;\">265000.0</td><td style = \"text-align: right;\">1.9</td><td style = \"text-align: right;\">130</td><td style = \"text-align: right;\">1</td><td style = \"text-align: right;\">0</td><td style = \"text-align: right;\">4</td><td style = \"text-align: right;\">1</td></tr><tr><td class = \"rowNumber\" style = \"font-weight: bold; text-align: right;\">2</td><td style = \"text-align: right;\">55.0</td><td style = \"text-align: right;\">0</td><td style = \"text-align: right;\">7861</td><td style = \"text-align: right;\">0</td><td style = \"text-align: right;\">38</td><td style = \"text-align: right;\">0</td><td style = \"text-align: right;\">263358.0</td><td style = \"text-align: right;\">1.1</td><td style = \"text-align: right;\">136</td><td style = \"text-align: right;\">1</td><td style = \"text-align: right;\">0</td><td style = \"text-align: right;\">6</td><td style = \"text-align: right;\">1</td></tr><tr><td class = \"rowNumber\" style = \"font-weight: bold; text-align: right;\">3</td><td style = \"text-align: right;\">65.0</td><td style = \"text-align: right;\">0</td><td style = \"text-align: right;\">146</td><td style = \"text-align: right;\">0</td><td style = \"text-align: right;\">20</td><td style = \"text-align: right;\">0</td><td style = \"text-align: right;\">162000.0</td><td style = \"text-align: right;\">1.3</td><td style = \"text-align: right;\">129</td><td style = \"text-align: right;\">1</td><td style = \"text-align: right;\">1</td><td style = \"text-align: right;\">7</td><td style = \"text-align: right;\">1</td></tr><tr><td class = \"rowNumber\" style = \"font-weight: bold; text-align: right;\">4</td><td style = \"text-align: right;\">50.0</td><td style = \"text-align: right;\">1</td><td style = \"text-align: right;\">111</td><td style = \"text-align: right;\">0</td><td style = \"text-align: right;\">20</td><td style = \"text-align: right;\">0</td><td style = \"text-align: right;\">210000.0</td><td style = \"text-align: right;\">1.9</td><td style = \"text-align: right;\">137</td><td style = \"text-align: right;\">1</td><td style = \"text-align: right;\">0</td><td style = \"text-align: right;\">7</td><td style = \"text-align: right;\">1</td></tr><tr><td class = \"rowNumber\" style = \"font-weight: bold; text-align: right;\">5</td><td style = \"text-align: right;\">65.0</td><td style = \"text-align: right;\">1</td><td style = \"text-align: right;\">160</td><td style = \"text-align: right;\">1</td><td style = \"text-align: right;\">20</td><td style = \"text-align: right;\">0</td><td style = \"text-align: right;\">327000.0</td><td style = \"text-align: right;\">2.7</td><td style = \"text-align: right;\">116</td><td style = \"text-align: right;\">0</td><td style = \"text-align: right;\">0</td><td style = \"text-align: right;\">8</td><td style = \"text-align: right;\">1</td></tr><tr><td class = \"rowNumber\" style = \"font-weight: bold; text-align: right;\">6</td><td style = \"text-align: right;\">90.0</td><td style = \"text-align: right;\">1</td><td style = \"text-align: right;\">47</td><td style = \"text-align: right;\">0</td><td style = \"text-align: right;\">40</td><td style = \"text-align: right;\">1</td><td style = \"text-align: right;\">204000.0</td><td style = \"text-align: right;\">2.1</td><td style = \"text-align: right;\">132</td><td style = \"text-align: right;\">1</td><td style = \"text-align: right;\">1</td><td style = \"text-align: right;\">8</td><td style = \"text-align: right;\">1</td></tr><tr><td class = \"rowNumber\" style = \"font-weight: bold; text-align: right;\">7</td><td style = \"text-align: right;\">75.0</td><td style = \"text-align: right;\">1</td><td style = \"text-align: right;\">246</td><td style = \"text-align: right;\">0</td><td style = \"text-align: right;\">15</td><td style = \"text-align: right;\">0</td><td style = \"text-align: right;\">127000.0</td><td style = \"text-align: right;\">1.2</td><td style = \"text-align: right;\">137</td><td style = \"text-align: right;\">1</td><td style = \"text-align: right;\">0</td><td style = \"text-align: right;\">10</td><td style = \"text-align: right;\">1</td></tr><tr><td class = \"rowNumber\" style = \"font-weight: bold; text-align: right;\">8</td><td style = \"text-align: right;\">60.0</td><td style = \"text-align: right;\">1</td><td style = \"text-align: right;\">315</td><td style = \"text-align: right;\">1</td><td style = \"text-align: right;\">60</td><td style = \"text-align: right;\">0</td><td style = \"text-align: right;\">454000.0</td><td style = \"text-align: right;\">1.1</td><td style = \"text-align: right;\">131</td><td style = \"text-align: right;\">1</td><td style = \"text-align: right;\">1</td><td style = \"text-align: right;\">10</td><td style = \"text-align: right;\">1</td></tr><tr><td class = \"rowNumber\" style = \"font-weight: bold; text-align: right;\">9</td><td style = \"text-align: right;\">65.0</td><td style = \"text-align: right;\">0</td><td style = \"text-align: right;\">157</td><td style = \"text-align: right;\">0</td><td style = \"text-align: right;\">65</td><td style = \"text-align: right;\">0</td><td style = \"text-align: right;\">263358.0</td><td style = \"text-align: right;\">1.5</td><td style = \"text-align: right;\">138</td><td style = \"text-align: right;\">0</td><td style = \"text-align: right;\">0</td><td style = \"text-align: right;\">10</td><td style = \"text-align: right;\">1</td></tr><tr><td class = \"rowNumber\" style = \"font-weight: bold; text-align: right;\">10</td><td style = \"text-align: right;\">80.0</td><td style = \"text-align: right;\">1</td><td style = \"text-align: right;\">123</td><td style = \"text-align: right;\">0</td><td style = \"text-align: right;\">35</td><td style = \"text-align: right;\">1</td><td style = \"text-align: right;\">388000.0</td><td style = \"text-align: right;\">9.4</td><td style = \"text-align: right;\">133</td><td style = \"text-align: right;\">1</td><td style = \"text-align: right;\">1</td><td style = \"text-align: right;\">10</td><td style = \"text-align: right;\">1</td></tr><tr><td class = \"rowNumber\" style = \"font-weight: bold; text-align: right;\">11</td><td style = \"text-align: right;\">75.0</td><td style = \"text-align: right;\">1</td><td style = \"text-align: right;\">81</td><td style = \"text-align: right;\">0</td><td style = \"text-align: right;\">38</td><td style = \"text-align: right;\">1</td><td style = \"text-align: right;\">368000.0</td><td style = \"text-align: right;\">4.0</td><td style = \"text-align: right;\">131</td><td style = \"text-align: right;\">1</td><td style = \"text-align: right;\">1</td><td style = \"text-align: right;\">10</td><td style = \"text-align: right;\">1</td></tr><tr><td class = \"rowNumber\" style = \"font-weight: bold; text-align: right;\">12</td><td style = \"text-align: right;\">62.0</td><td style = \"text-align: right;\">0</td><td style = \"text-align: right;\">231</td><td style = \"text-align: right;\">0</td><td style = \"text-align: right;\">25</td><td style = \"text-align: right;\">1</td><td style = \"text-align: right;\">253000.0</td><td style = \"text-align: right;\">0.9</td><td style = \"text-align: right;\">140</td><td style = \"text-align: right;\">1</td><td style = \"text-align: right;\">1</td><td style = \"text-align: right;\">10</td><td style = \"text-align: right;\">1</td></tr><tr><td class = \"rowNumber\" style = \"font-weight: bold; text-align: right;\">13</td><td style = \"text-align: right;\">45.0</td><td style = \"text-align: right;\">1</td><td style = \"text-align: right;\">981</td><td style = \"text-align: right;\">0</td><td style = \"text-align: right;\">30</td><td style = \"text-align: right;\">0</td><td style = \"text-align: right;\">136000.0</td><td style = \"text-align: right;\">1.1</td><td style = \"text-align: right;\">137</td><td style = \"text-align: right;\">1</td><td style = \"text-align: right;\">0</td><td style = \"text-align: right;\">11</td><td style = \"text-align: right;\">1</td></tr><tr><td style = \"text-align: right;\">&vellip;</td><td style = \"text-align: right;\">&vellip;</td><td style = \"text-align: right;\">&vellip;</td><td style = \"text-align: right;\">&vellip;</td><td style = \"text-align: right;\">&vellip;</td><td style = \"text-align: right;\">&vellip;</td><td style = \"text-align: right;\">&vellip;</td><td style = \"text-align: right;\">&vellip;</td><td style = \"text-align: right;\">&vellip;</td><td style = \"text-align: right;\">&vellip;</td><td style = \"text-align: right;\">&vellip;</td><td style = \"text-align: right;\">&vellip;</td><td style = \"text-align: right;\">&vellip;</td><td style = \"text-align: right;\">&vellip;</td></tr><tr><td class = \"rowNumber\" style = \"font-weight: bold; text-align: right;\">288</td><td style = \"text-align: right;\">45.0</td><td style = \"text-align: right;\">0</td><td style = \"text-align: right;\">582</td><td style = \"text-align: right;\">1</td><td style = \"text-align: right;\">55</td><td style = \"text-align: right;\">0</td><td style = \"text-align: right;\">543000.0</td><td style = \"text-align: right;\">1.0</td><td style = \"text-align: right;\">132</td><td style = \"text-align: right;\">0</td><td style = \"text-align: right;\">0</td><td style = \"text-align: right;\">250</td><td style = \"text-align: right;\">0</td></tr><tr><td class = \"rowNumber\" style = \"font-weight: bold; text-align: right;\">289</td><td style = \"text-align: right;\">65.0</td><td style = \"text-align: right;\">0</td><td style = \"text-align: right;\">892</td><td style = \"text-align: right;\">1</td><td style = \"text-align: right;\">35</td><td style = \"text-align: right;\">0</td><td style = \"text-align: right;\">263358.0</td><td style = \"text-align: right;\">1.1</td><td style = \"text-align: right;\">142</td><td style = \"text-align: right;\">0</td><td style = \"text-align: right;\">0</td><td style = \"text-align: right;\">256</td><td style = \"text-align: right;\">0</td></tr><tr><td class = \"rowNumber\" style = \"font-weight: bold; text-align: right;\">290</td><td style = \"text-align: right;\">90.0</td><td style = \"text-align: right;\">1</td><td style = \"text-align: right;\">337</td><td style = \"text-align: right;\">0</td><td style = \"text-align: right;\">38</td><td style = \"text-align: right;\">0</td><td style = \"text-align: right;\">390000.0</td><td style = \"text-align: right;\">0.9</td><td style = \"text-align: right;\">144</td><td style = \"text-align: right;\">0</td><td style = \"text-align: right;\">0</td><td style = \"text-align: right;\">256</td><td style = \"text-align: right;\">0</td></tr><tr><td class = \"rowNumber\" style = \"font-weight: bold; text-align: right;\">291</td><td style = \"text-align: right;\">45.0</td><td style = \"text-align: right;\">0</td><td style = \"text-align: right;\">615</td><td style = \"text-align: right;\">1</td><td style = \"text-align: right;\">55</td><td style = \"text-align: right;\">0</td><td style = \"text-align: right;\">222000.0</td><td style = \"text-align: right;\">0.8</td><td style = \"text-align: right;\">141</td><td style = \"text-align: right;\">0</td><td style = \"text-align: right;\">0</td><td style = \"text-align: right;\">257</td><td style = \"text-align: right;\">0</td></tr><tr><td class = \"rowNumber\" style = \"font-weight: bold; text-align: right;\">292</td><td style = \"text-align: right;\">60.0</td><td style = \"text-align: right;\">0</td><td style = \"text-align: right;\">320</td><td style = \"text-align: right;\">0</td><td style = \"text-align: right;\">35</td><td style = \"text-align: right;\">0</td><td style = \"text-align: right;\">133000.0</td><td style = \"text-align: right;\">1.4</td><td style = \"text-align: right;\">139</td><td style = \"text-align: right;\">1</td><td style = \"text-align: right;\">0</td><td style = \"text-align: right;\">258</td><td style = \"text-align: right;\">0</td></tr><tr><td class = \"rowNumber\" style = \"font-weight: bold; text-align: right;\">293</td><td style = \"text-align: right;\">52.0</td><td style = \"text-align: right;\">0</td><td style = \"text-align: right;\">190</td><td style = \"text-align: right;\">1</td><td style = \"text-align: right;\">38</td><td style = \"text-align: right;\">0</td><td style = \"text-align: right;\">382000.0</td><td style = \"text-align: right;\">1.0</td><td style = \"text-align: right;\">140</td><td style = \"text-align: right;\">1</td><td style = \"text-align: right;\">1</td><td style = \"text-align: right;\">258</td><td style = \"text-align: right;\">0</td></tr><tr><td class = \"rowNumber\" style = \"font-weight: bold; text-align: right;\">294</td><td style = \"text-align: right;\">63.0</td><td style = \"text-align: right;\">1</td><td style = \"text-align: right;\">103</td><td style = \"text-align: right;\">1</td><td style = \"text-align: right;\">35</td><td style = \"text-align: right;\">0</td><td style = \"text-align: right;\">179000.0</td><td style = \"text-align: right;\">0.9</td><td style = \"text-align: right;\">136</td><td style = \"text-align: right;\">1</td><td style = \"text-align: right;\">1</td><td style = \"text-align: right;\">270</td><td style = \"text-align: right;\">0</td></tr><tr><td class = \"rowNumber\" style = \"font-weight: bold; text-align: right;\">295</td><td style = \"text-align: right;\">62.0</td><td style = \"text-align: right;\">0</td><td style = \"text-align: right;\">61</td><td style = \"text-align: right;\">1</td><td style = \"text-align: right;\">38</td><td style = \"text-align: right;\">1</td><td style = \"text-align: right;\">155000.0</td><td style = \"text-align: right;\">1.1</td><td style = \"text-align: right;\">143</td><td style = \"text-align: right;\">1</td><td style = \"text-align: right;\">1</td><td style = \"text-align: right;\">270</td><td style = \"text-align: right;\">0</td></tr><tr><td class = \"rowNumber\" style = \"font-weight: bold; text-align: right;\">296</td><td style = \"text-align: right;\">55.0</td><td style = \"text-align: right;\">0</td><td style = \"text-align: right;\">1820</td><td style = \"text-align: right;\">0</td><td style = \"text-align: right;\">38</td><td style = \"text-align: right;\">0</td><td style = \"text-align: right;\">270000.0</td><td style = \"text-align: right;\">1.2</td><td style = \"text-align: right;\">139</td><td style = \"text-align: right;\">0</td><td style = \"text-align: right;\">0</td><td style = \"text-align: right;\">271</td><td style = \"text-align: right;\">0</td></tr><tr><td class = \"rowNumber\" style = \"font-weight: bold; text-align: right;\">297</td><td style = \"text-align: right;\">45.0</td><td style = \"text-align: right;\">0</td><td style = \"text-align: right;\">2060</td><td style = \"text-align: right;\">1</td><td style = \"text-align: right;\">60</td><td style = \"text-align: right;\">0</td><td style = \"text-align: right;\">742000.0</td><td style = \"text-align: right;\">0.8</td><td style = \"text-align: right;\">138</td><td style = \"text-align: right;\">0</td><td style = \"text-align: right;\">0</td><td style = \"text-align: right;\">278</td><td style = \"text-align: right;\">0</td></tr><tr><td class = \"rowNumber\" style = \"font-weight: bold; text-align: right;\">298</td><td style = \"text-align: right;\">45.0</td><td style = \"text-align: right;\">0</td><td style = \"text-align: right;\">2413</td><td style = \"text-align: right;\">0</td><td style = \"text-align: right;\">38</td><td style = \"text-align: right;\">0</td><td style = \"text-align: right;\">140000.0</td><td style = \"text-align: right;\">1.4</td><td style = \"text-align: right;\">140</td><td style = \"text-align: right;\">1</td><td style = \"text-align: right;\">1</td><td style = \"text-align: right;\">280</td><td style = \"text-align: right;\">0</td></tr><tr><td class = \"rowNumber\" style = \"font-weight: bold; text-align: right;\">299</td><td style = \"text-align: right;\">50.0</td><td style = \"text-align: right;\">0</td><td style = \"text-align: right;\">196</td><td style = \"text-align: right;\">0</td><td style = \"text-align: right;\">45</td><td style = \"text-align: right;\">0</td><td style = \"text-align: right;\">395000.0</td><td style = \"text-align: right;\">1.6</td><td style = \"text-align: right;\">136</td><td style = \"text-align: right;\">1</td><td style = \"text-align: right;\">1</td><td style = \"text-align: right;\">285</td><td style = \"text-align: right;\">0</td></tr></tbody></table></div>"
      ],
      "text/latex": [
       "\\begin{tabular}{r|ccccccc}\n",
       "\t& age & anaemia & creatinine\\_phosphokinase & diabetes & ejection\\_fraction & high\\_blood\\_pressure & \\\\\n",
       "\t\\hline\n",
       "\t& Float64 & Int64 & Int64 & Int64 & Int64 & Int64 & \\\\\n",
       "\t\\hline\n",
       "\t1 & 75.0 & 0 & 582 & 0 & 20 & 1 & $\\dots$ \\\\\n",
       "\t2 & 55.0 & 0 & 7861 & 0 & 38 & 0 & $\\dots$ \\\\\n",
       "\t3 & 65.0 & 0 & 146 & 0 & 20 & 0 & $\\dots$ \\\\\n",
       "\t4 & 50.0 & 1 & 111 & 0 & 20 & 0 & $\\dots$ \\\\\n",
       "\t5 & 65.0 & 1 & 160 & 1 & 20 & 0 & $\\dots$ \\\\\n",
       "\t6 & 90.0 & 1 & 47 & 0 & 40 & 1 & $\\dots$ \\\\\n",
       "\t7 & 75.0 & 1 & 246 & 0 & 15 & 0 & $\\dots$ \\\\\n",
       "\t8 & 60.0 & 1 & 315 & 1 & 60 & 0 & $\\dots$ \\\\\n",
       "\t9 & 65.0 & 0 & 157 & 0 & 65 & 0 & $\\dots$ \\\\\n",
       "\t10 & 80.0 & 1 & 123 & 0 & 35 & 1 & $\\dots$ \\\\\n",
       "\t11 & 75.0 & 1 & 81 & 0 & 38 & 1 & $\\dots$ \\\\\n",
       "\t12 & 62.0 & 0 & 231 & 0 & 25 & 1 & $\\dots$ \\\\\n",
       "\t13 & 45.0 & 1 & 981 & 0 & 30 & 0 & $\\dots$ \\\\\n",
       "\t14 & 50.0 & 1 & 168 & 0 & 38 & 1 & $\\dots$ \\\\\n",
       "\t15 & 49.0 & 1 & 80 & 0 & 30 & 1 & $\\dots$ \\\\\n",
       "\t16 & 82.0 & 1 & 379 & 0 & 50 & 0 & $\\dots$ \\\\\n",
       "\t17 & 87.0 & 1 & 149 & 0 & 38 & 0 & $\\dots$ \\\\\n",
       "\t18 & 45.0 & 0 & 582 & 0 & 14 & 0 & $\\dots$ \\\\\n",
       "\t19 & 70.0 & 1 & 125 & 0 & 25 & 1 & $\\dots$ \\\\\n",
       "\t20 & 48.0 & 1 & 582 & 1 & 55 & 0 & $\\dots$ \\\\\n",
       "\t21 & 65.0 & 1 & 52 & 0 & 25 & 1 & $\\dots$ \\\\\n",
       "\t22 & 65.0 & 1 & 128 & 1 & 30 & 1 & $\\dots$ \\\\\n",
       "\t23 & 68.0 & 1 & 220 & 0 & 35 & 1 & $\\dots$ \\\\\n",
       "\t24 & 53.0 & 0 & 63 & 1 & 60 & 0 & $\\dots$ \\\\\n",
       "\t25 & 75.0 & 0 & 582 & 1 & 30 & 1 & $\\dots$ \\\\\n",
       "\t26 & 80.0 & 0 & 148 & 1 & 38 & 0 & $\\dots$ \\\\\n",
       "\t27 & 95.0 & 1 & 112 & 0 & 40 & 1 & $\\dots$ \\\\\n",
       "\t28 & 70.0 & 0 & 122 & 1 & 45 & 1 & $\\dots$ \\\\\n",
       "\t29 & 58.0 & 1 & 60 & 0 & 38 & 0 & $\\dots$ \\\\\n",
       "\t30 & 82.0 & 0 & 70 & 1 & 30 & 0 & $\\dots$ \\\\\n",
       "\t$\\dots$ & $\\dots$ & $\\dots$ & $\\dots$ & $\\dots$ & $\\dots$ & $\\dots$ &  \\\\\n",
       "\\end{tabular}\n"
      ],
      "text/plain": [
       "\u001b[1m299×13 DataFrame\u001b[0m\n",
       "\u001b[1m Row \u001b[0m│\u001b[1m age     \u001b[0m\u001b[1m anaemia \u001b[0m\u001b[1m creatinine_phosphokinase \u001b[0m\u001b[1m diabetes \u001b[0m\u001b[1m ejection_fraction\u001b[0m ⋯\n",
       "     │\u001b[90m Float64 \u001b[0m\u001b[90m Int64   \u001b[0m\u001b[90m Int64                    \u001b[0m\u001b[90m Int64    \u001b[0m\u001b[90m Int64            \u001b[0m ⋯\n",
       "─────┼──────────────────────────────────────────────────────────────────────────\n",
       "   1 │    75.0        0                       582         0                 20 ⋯\n",
       "   2 │    55.0        0                      7861         0                 38\n",
       "   3 │    65.0        0                       146         0                 20\n",
       "   4 │    50.0        1                       111         0                 20\n",
       "   5 │    65.0        1                       160         1                 20 ⋯\n",
       "   6 │    90.0        1                        47         0                 40\n",
       "   7 │    75.0        1                       246         0                 15\n",
       "   8 │    60.0        1                       315         1                 60\n",
       "   9 │    65.0        0                       157         0                 65 ⋯\n",
       "  10 │    80.0        1                       123         0                 35\n",
       "  11 │    75.0        1                        81         0                 38\n",
       "  ⋮  │    ⋮        ⋮                ⋮                 ⋮              ⋮         ⋱\n",
       " 290 │    90.0        1                       337         0                 38\n",
       " 291 │    45.0        0                       615         1                 55 ⋯\n",
       " 292 │    60.0        0                       320         0                 35\n",
       " 293 │    52.0        0                       190         1                 38\n",
       " 294 │    63.0        1                       103         1                 35\n",
       " 295 │    62.0        0                        61         1                 38 ⋯\n",
       " 296 │    55.0        0                      1820         0                 38\n",
       " 297 │    45.0        0                      2060         1                 60\n",
       " 298 │    45.0        0                      2413         0                 38\n",
       " 299 │    50.0        0                       196         0                 45 ⋯\n",
       "\u001b[36m                                                  8 columns and 278 rows omitted\u001b[0m"
      ]
     },
     "execution_count": 5,
     "metadata": {},
     "output_type": "execute_result"
    }
   ],
   "source": [
    "originaldataset = CSV.read(joinpath(_PATH_TO_DATA, \"heart_failure_clinical_records_dataset.csv\"), DataFrame)"
   ]
  },
  {
   "cell_type": "markdown",
   "id": "bc960b2d-1c40-4dad-9a0f-665687ce0e55",
   "metadata": {},
   "source": [
    "We know from lecture that [the K-means approach](https://en.wikipedia.org/wiki/K-means_clustering) works on [an instance of a `Matrix`](https://docs.julialang.org/en/v1/base/arrays/#Base.Matrix-Tuple{UndefInitializer,%20Any,%20Any}) and not [a `DataFrame` instance](https://dataframes.juliadata.org/stable/). Thus, we need to convert the data to [a `Matrix`](https://docs.julialang.org/en/v1/base/arrays/#Base.Matrix-Tuple{UndefInitializer,%20Any,%20Any}). In addition, there are several ways we can pretreat the data to make the clustering easier."
   ]
  },
  {
   "cell_type": "code",
   "execution_count": 7,
   "id": "7031d366-1274-45f5-ba01-1629622056b4",
   "metadata": {},
   "outputs": [],
   "source": [
    "(D, dataset) = let\n",
    "\n",
    "    # convert 0,1 into -1,1\n",
    "    treated_dataset = copy(originaldataset);\n",
    "    transform!(treated_dataset, :anaemia => ByRow(x -> (x==0 ? -1 : 1)) => :anaemia); # maps anaemia to -1,1\n",
    "    transform!(treated_dataset, :diabetes => ByRow(x -> (x==0 ? -1 : 1)) => :diabetes); # maps diabetes to -1,1\n",
    "    transform!(treated_dataset, :high_blood_pressure => ByRow(x -> (x==0 ? -1 : 1)) => :high_blood_pressure); # maps high_blood_pressure to -1,1\n",
    "    transform!(treated_dataset, :sex => ByRow(x -> (x==0 ? -1 : 1)) => :sex); # maps sex to -1,1\n",
    "    transform!(treated_dataset, :smoking => ByRow(x -> (x==0 ? -1 : 1)) => :smoking); # maps smoking to -1,1\n",
    "    transform!(treated_dataset, :death_event => ByRow(x -> (x==0 ? -1 : 1)) => :death_event); # maps death_event to -1,1\n",
    "    \n",
    "    D = treated_dataset[:,1:end] |> Matrix; # build a data matrix from the DataFrame\n",
    "    (number_of_examples, number_of_features) = size(D);\n",
    "\n",
    "    # Which cols do we want to rescale?\n",
    "    index_to_z_scale = [\n",
    "        1 ; # 1 age\n",
    "        3 ; # 2 creatinine_phosphokinase\n",
    "        5 ; # 3 ejection_fraction\n",
    "        7 ; # 4 platelets\n",
    "        8 ; # 5 serum_creatinine\n",
    "        9 ; # 6 serum_sodium\n",
    "        12 ; # 7 time\n",
    "    ];\n",
    "\n",
    "    D̂ = copy(D);\n",
    "    for i ∈ eachindex(index_to_z_scale)\n",
    "        j = index_to_z_scale[i];\n",
    "        μ = mean(D[:,j]); # compute the mean\n",
    "        σ = std(D[:,j]); # compute std\n",
    "\n",
    "        # rescale -\n",
    "        for k ∈ 1:number_of_examples\n",
    "            D̂[k,j] = (D[k,j] - μ)/σ;\n",
    "        end\n",
    "    end\n",
    "\n",
    "    # remove categorical cols -\n",
    "    # D̂₂ = D̂[:,index_to_z_scale]; # z-scaled data, no label, no categorical\n",
    "    D̂₂ = D̂[:,1:end-1]; # z-scaled data, no label, with unscaled categorical\n",
    "    #D̂₂ = D̂[:,1:end-1]; # raw (unscaled) data, no label\n",
    "    \n",
    "    D̂₂, treated_dataset\n",
    "end;"
   ]
  },
  {
   "cell_type": "code",
   "execution_count": 8,
   "id": "8a4435f4-e93f-4d4e-a59b-3607b6940fb8",
   "metadata": {},
   "outputs": [
    {
     "data": {
      "text/plain": [
       "299×12 Matrix{Float64}:\n",
       "  1.19095    -1.0   0.000165451  -1.0  …  -1.50152     1.0  -1.0  -1.62678\n",
       " -0.490457   -1.0   7.50206      -1.0     -0.141739    1.0  -1.0  -1.60101\n",
       "  0.350246   -1.0  -0.449186     -1.0     -1.72815     1.0   1.0  -1.58812\n",
       " -0.910808    1.0  -0.485257     -1.0      0.0848915   1.0  -1.0  -1.58812\n",
       "  0.350246    1.0  -0.434757      1.0     -4.67434    -1.0  -1.0  -1.57524\n",
       "  2.452       1.0  -0.551217     -1.0  …  -1.04826     1.0   1.0  -1.57524\n",
       "  1.19095     1.0  -0.346124     -1.0      0.0848915   1.0  -1.0  -1.54947\n",
       " -0.0701056   1.0  -0.275011      1.0     -1.27489     1.0   1.0  -1.54947\n",
       "  0.350246   -1.0  -0.437849     -1.0      0.311522   -1.0  -1.0  -1.54947\n",
       "  1.6113      1.0  -0.47289      -1.0     -0.821629    1.0   1.0  -1.54947\n",
       "  1.19095     1.0  -0.516176     -1.0  …  -1.27489     1.0   1.0  -1.54947\n",
       "  0.098035   -1.0  -0.361583     -1.0      0.764782    1.0   1.0  -1.54947\n",
       " -1.33116     1.0   0.411384     -1.0      0.0848915   1.0  -1.0  -1.53659\n",
       "  ⋮                                    ⋱                     ⋮    \n",
       " -1.33116    -1.0   0.000165451   1.0     -1.04826    -1.0  -1.0   1.54275\n",
       "  0.350246   -1.0   0.319658      1.0      1.21804    -1.0  -1.0   1.62005\n",
       "  2.452       1.0  -0.252337     -1.0      1.6713     -1.0  -1.0   1.62005\n",
       " -1.33116    -1.0   0.034176      1.0  …   0.991412   -1.0  -1.0   1.63294\n",
       " -0.0701056  -1.0  -0.269858     -1.0      0.538152    1.0  -1.0   1.64582\n",
       " -0.742668   -1.0  -0.403838      1.0      0.764782    1.0   1.0   1.64582\n",
       "  0.182105    1.0  -0.493502      1.0     -0.141739    1.0   1.0   1.80043\n",
       "  0.098035   -1.0  -0.536789      1.0      1.44467     1.0   1.0   1.80043\n",
       " -0.490457   -1.0   1.27608      -1.0  …   0.538152   -1.0  -1.0   1.81332\n",
       " -1.33116    -1.0   1.52342       1.0      0.311522   -1.0  -1.0   1.90351\n",
       " -1.33116    -1.0   1.88723      -1.0      0.764782    1.0   1.0   1.92927\n",
       " -0.910808   -1.0  -0.397655     -1.0     -0.141739    1.0   1.0   1.9937"
      ]
     },
     "execution_count": 8,
     "metadata": {},
     "output_type": "execute_result"
    }
   ],
   "source": [
    "D"
   ]
  },
  {
   "cell_type": "markdown",
   "id": "d84792cd-8632-4c74-ac2e-47826e779af0",
   "metadata": {},
   "source": [
    "Let's set some constants that we'll need in the examples below. See the comment next to the constant for a description of what it is, it's permissible values, etc."
   ]
  },
  {
   "cell_type": "code",
   "execution_count": 10,
   "id": "1c6ac207-c756-4f20-b3e8-d8e019c9028b",
   "metadata": {},
   "outputs": [],
   "source": [
    "n = nrow(originaldataset); # how many example data points do we have?\n",
    "m = size(D,2); # number of features (number of cols)\n",
    "maxiter = 100000; # maximum iterations\n",
    "K = 3; # number of clusters. What number should we pick?\n",
    "ϵ = 1e-6; # tolerance for termination. We can set this to whatever we want"
   ]
  },
  {
   "cell_type": "markdown",
   "id": "f1a43c53-12b1-457a-b53f-6cac8298b2b4",
   "metadata": {},
   "source": [
    "Finally, let's set up the color dictionary for the visualizations in the lecture. The keys of the `my_color_dictionary::Dict{Int64,RGB}` dictionary are the cluster indexes, while the values are the colors mapped to that index."
   ]
  },
  {
   "cell_type": "code",
   "execution_count": 12,
   "id": "440e48b5-e728-40c8-8370-0cb06e408004",
   "metadata": {},
   "outputs": [],
   "source": [
    "my_color_dictionary = Dict{Int64,RGB}();\n",
    "my_color_dictionary[1] = colorant\"#03045e\";\n",
    "my_color_dictionary[2] = colorant\"#0077b6\";\n",
    "my_color_dictionary[3] = colorant\"#00b4d8\";\n",
    "my_color_dictionary[4] = colorant\"#ffc300\";\n",
    "my_color_dictionary[5] = colorant\"#e36414\";"
   ]
  },
  {
   "cell_type": "markdown",
   "id": "930e6ac3-c305-479a-b6d6-e9d513aae614",
   "metadata": {},
   "source": [
    "## Task 1: Build a K-means model and cluster the data\n",
    "We've developed an [initial K-means implementation](src/Cluster.jl) based on [our pseudo-code](https://github.com/varnerlab/CHEME-5820-Lectures-Spring-2025/blob/main/lectures/week-1/L1c/docs/L1c-5820-S2025.pdf). Let's explore how this implementation performs on our sample dataset. There is [already a good clustering package `Clustering.jl` that is available](https://github.com/JuliaStats/Clustering.jl) that exports [a `K-means` function](https://juliastats.org/Clustering.jl/stable/kmeans.html). However, in this demo, we'll use our implementation.\n",
    "* __Problem model__: Build [a `MyNaiveKMeansClusteringAlgorithm` instance](src/Types.jl), which holds information about the clustering, i.e., the number of clusters `K::Int,` information about the dataset such as the number of features `m::Int,` and the number of points `n::Int,` and stopping criteria information such as the maximum number of iterations `maxiter::Int` and tolerance `ϵ::Float64`. We'll store this model in the `model::MyNaiveKMeansClusteringAlgorithm` variable.\n",
    "\n",
    "This is an example of [a factory type pattern](https://en.wikipedia.org/wiki/Factory_method_pattern), which uses [a `build(...)` method](src/Factory.jl) to construct and configure a complex object, i.e., set values for the properties on the model that must be computed. The [`build(...)` method](src/Factory.jl) takes the type of thing we want to build as the first argument, and the data required to construct the object (encoded [in a `NamedTupe` type](https://docs.julialang.org/en/v1/base/base/#Core.NamedTuple)) as the second argument."
   ]
  },
  {
   "cell_type": "code",
   "execution_count": 14,
   "id": "4f0de927-6c68-4ca0-addb-0b665ead7d16",
   "metadata": {},
   "outputs": [],
   "source": [
    "model = build(MyNaiveKMeansClusteringAlgorithm, (\n",
    "        maxiter = maxiter,\n",
    "        dimension = m,\n",
    "        number_of_points = n,\n",
    "        K = K,\n",
    "        ϵ = ϵ,\n",
    "        scale_factor = 1.0, # scale of the data\n",
    "));"
   ]
  },
  {
   "cell_type": "markdown",
   "id": "fc4c8883-9372-4134-bddc-8c9fde2bf664",
   "metadata": {},
   "source": [
    "### Initial clustering values\n",
    "The `model::MyNaiveKMeansClusteringAlgorithm` contains the data that we passed in, as well as two derived fields that we computed in [the `build(...)` method](src/Factory.jl), the centroids and initial assignments: \n",
    "* The `centroids::Dict{Int64, Vector{Float64}}` dictionary holds the centroid values $\\mu_1, \\dots, \\mu_K$ for each cluster. The dictionary's keys are the cluster index, while the values are the `m`-dimensional centroids (means) of the data points in that cluster. We initialize the centroids randomly.\n",
    "* The `assignments::Vector{Int64}` field is an `n`-dimensional vector holding the clustered index that each data point is assigned to. We initialize the assignments randomly.\n",
    "\n",
    "What is in the `centroids` and `assignments` fields of your model?"
   ]
  },
  {
   "cell_type": "code",
   "execution_count": 16,
   "id": "cc308bed-e6fa-478f-8f6b-56d3289eced1",
   "metadata": {},
   "outputs": [
    {
     "data": {
      "text/plain": [
       "Dict{Int64, Vector{Float64}} with 3 entries:\n",
       "  2 => [0.727262, 0.802287, 0.3704, 0.140803, 0.638992, 0.895341, 0.21445, 0.77…\n",
       "  3 => [0.607172, 0.402183, 0.228962, 0.970985, 0.094042, 0.983039, 0.80588, 0.…\n",
       "  1 => [0.377299, 0.635057, 0.239079, 0.188218, 0.416734, 0.517969, 0.862806, 0…"
      ]
     },
     "execution_count": 16,
     "metadata": {},
     "output_type": "execute_result"
    }
   ],
   "source": [
    "model.centroids"
   ]
  },
  {
   "cell_type": "markdown",
   "id": "7bfb9469-f3b5-4257-b3b8-f32d60061182",
   "metadata": {},
   "source": [
    "### Execute the Clustering\n",
    "We'll call [the `cluster(...)` method](src/Cluster.jl) to refine our initial random cluster assignments and centroid values. The [`cluster(...)` method](src/Cluster.jl) takes a few arguments (and returns the clustering results):\n",
    "\n",
    "* __Data__: `D::Array{<:Number, 2}`: The first argument is the data matrix `D::Array{<:Number,2}` which we want to cluster. The data matrix has the feature vectors $\\mathbf{x}\\in\\mathbb{R}^{m}$ as columns. Its values can be any subtype [of Number](https://docs.julialang.org/en/v1/base/numbers/#Core.Number). \n",
    "* __Model__: `model::<: MyAbstractUnsupervisedClusteringAlgorithm`: The second argument is the cluster model instance, i.e.,  the `model::MyNaiveKMeansClusteringAlgorithm` instance that we built above. However, the model can be any subtype of ` MyAbstractUnsupervisedClusteringAlgorithm.`\n",
    "    * __Why an abstract generic type?__ Suppose we have different K-means implementations or different clustering logic altogether. In that case, we can take advantage of Julia's multiple dispatch functionality by passing in a different clustering model. This provides a single method for a user to call, which calls a different implementation.\n",
    "* __Verbose (optional)__: `verbose::Bool`: The `verbose::Bool` argument tells our implementation whether to save data from each algorithm iteration. The default value is `false`. However, if the value is set to `true,` a save file holding the assignments, centroids, and loop index is written at each iteration.\n",
    "* __Measure (optional)__:`d::Any`. The optional distance argument is the $d(p,q)$ function and can be used to change how the similarity between feature vectors $\\mathbf{x}\\in\\mathcal{D}$ is calculated. We can use [any metrics exported by the `Distances.jl` package](https://github.com/JuliaStats/Distances.jl); by default, we [use the Euclidian distance](https://en.wikipedia.org/wiki/Euclidean_distance). \n",
    "\n",
    "The [`cluster(...)` method](src/Cluster.jl) returns cluster centroids, the assignments, and the number of iterations that it took to reach the final assignment in the `results::NamedTuple.`"
   ]
  },
  {
   "cell_type": "code",
   "execution_count": 18,
   "id": "830db8db-e689-4569-a8ef-caad986c7c8f",
   "metadata": {},
   "outputs": [],
   "source": [
    "result = cluster(D, model, verbose = true); # cluster the data, save each stage to disk in the tmp folder (verbose = true)"
   ]
  },
  {
   "cell_type": "code",
   "execution_count": 19,
   "id": "21cb3d0b-4df6-4237-8035-aad07b7bdbb5",
   "metadata": {},
   "outputs": [
    {
     "data": {
      "text/plain": [
       "299-element Vector{Int64}:\n",
       " 2\n",
       " 1\n",
       " 1\n",
       " 1\n",
       " 3\n",
       " 2\n",
       " 1\n",
       " 2\n",
       " 2\n",
       " 2\n",
       " 2\n",
       " 1\n",
       " 1\n",
       " ⋮\n",
       " 3\n",
       " 3\n",
       " 2\n",
       " 3\n",
       " 1\n",
       " 1\n",
       " 1\n",
       " 1\n",
       " 3\n",
       " 3\n",
       " 1\n",
       " 1"
      ]
     },
     "execution_count": 19,
     "metadata": {},
     "output_type": "execute_result"
    }
   ],
   "source": [
    "result.assignments"
   ]
  },
  {
   "cell_type": "code",
   "execution_count": 20,
   "id": "8988047b-f9d1-4089-88cc-e88e0d4781f4",
   "metadata": {},
   "outputs": [
    {
     "data": {
      "text/plain": [
       "Dict{Int64, Vector{Float64}} with 3 entries:\n",
       "  2 => [0.757987, 0.35, -0.209991, -0.5, 0.704816, 0.275, 0.0500827, 0.407676, …\n",
       "  3 => [-0.421476, -0.134615, -0.0270866, 0.480769, -0.128122, -0.384615, 0.249…\n",
       "  1 => [-0.146134, -0.478261, 0.170577, -0.513043, -0.37444, -0.617391, -0.2600…"
      ]
     },
     "execution_count": 20,
     "metadata": {},
     "output_type": "execute_result"
    }
   ],
   "source": [
    "result.centroids"
   ]
  },
  {
   "cell_type": "markdown",
   "id": "be54a97e-9264-4d85-b078-a09b7ffd729b",
   "metadata": {},
   "source": [
    "Finally, how balanced are the clusters? Let's compute the fraction of our patient population in each cluster, and display this information in a table [using the `pretty_table(...)` function exported by the `PrettyTables.jl` package](https://github.com/ronisbr/PrettyTables.jl)"
   ]
  },
  {
   "cell_type": "code",
   "execution_count": 22,
   "id": "1b35f283-a24f-4aae-a891-70b4796ad6bd",
   "metadata": {
    "jupyter": {
     "source_hidden": true
    }
   },
   "outputs": [
    {
     "name": "stdout",
     "output_type": "stream",
     "text": [
      "========== ===========\n",
      " \u001b[1m cluster \u001b[0m \u001b[1m fraction \u001b[0m\n",
      " \u001b[90m   Int64 \u001b[0m \u001b[90m  Float64 \u001b[0m\n",
      "========== ===========\n",
      "        1   0.384615\n",
      "        2   0.267559\n",
      "        3   0.347826\n",
      "========== ===========\n"
     ]
    }
   ],
   "source": [
    "let\n",
    "\n",
    "    df = DataFrame(); # container for the fraction data\n",
    "    \n",
    "    for k ∈ 1:K # iterate over the number of clusters\n",
    "        Nᵢ = findall(x-> x == k, result.assignments) |> length;\n",
    "        row_df = (\n",
    "            cluster = k,\n",
    "            fraction = (Nᵢ/n)\n",
    "        );\n",
    "        push!(df, row_df)\n",
    "    end\n",
    "\n",
    "    pretty_table(df, tf=tf_simple)\n",
    "end"
   ]
  },
  {
   "cell_type": "markdown",
   "id": "81a49ead-3743-4900-95a5-40093f73c5dd",
   "metadata": {},
   "source": [
    "### Check: Energy decrease?\n",
    "The problem of K-means clustering can be formulated as an optimization problem, \n",
    "where the objective is to minimize the sum of squared distances between each data point and its assigned cluster centroid. If we think about this objective in terms of a pseudo-energy $E(c_{1},\\dots,c_{K})$, then we are looking for the cluster assignments that minimize the energy:\n",
    "$$\n",
    "\\begin{equation}\n",
    "\\min_{c_{1},\\dots,c_{K}} E\\left(c_{1},\\dots,c_{K}\\right)= \\sum_{j=1}^{K}\\sum_{\\mathbf{x}\\in c_{j}}d(\\mathbf{x},\\mu_{j})^{2}\\quad\\text{where}\\,\\mu_{j} = |c_{j}|^{-1}\\cdot\\sum_{\\mathbf{x}\\in{c_{j}}}\\mathbf{x}\n",
    "\\end{equation}\n",
    "$$\n",
    "where $d(\\mathbf{x},\\mu_{j})$ denotes the distance (similarity) between two vectors (in this case, a feature vector and the cluster centroid), \n",
    "and $|c_{\\star}|$ denotes the number of elements in cluster $\\star$. By default, we [use the Euclidian distance](https://en.wikipedia.org/wiki/Euclidean_distance) as our similarity measure. The K-means algorithm aims to find the optimal cluster assignments $\\mathcal{C}$ and cluster centroids $\\mu$ that minimize this objective function."
   ]
  },
  {
   "cell_type": "code",
   "execution_count": 24,
   "id": "08a1ace0-d606-415b-88d0-677882fab0f0",
   "metadata": {},
   "outputs": [
    {
     "data": {
      "text/plain": [
       "Dict{String, Any} with 3 entries:\n",
       "  \"centroids\"   => Dict(2=>[0.727262, 0.802287, 0.3704, 0.140803, 0.638992, 0.8…\n",
       "  \"loopcount\"   => 1\n",
       "  \"assignments\" => [1, 2, 3, 2, 3, 2, 2, 2, 2, 2  …  3, 1, 1, 2, 1, 3, 2, 3, 1,…"
      ]
     },
     "execution_count": 24,
     "metadata": {},
     "output_type": "execute_result"
    }
   ],
   "source": [
    "tmp = load(joinpath(_PATH_TO_TMP, \"data-1.jld2\"))"
   ]
  },
  {
   "cell_type": "code",
   "execution_count": 25,
   "id": "4be8c799-5868-4199-bcc1-941b46adae38",
   "metadata": {},
   "outputs": [],
   "source": [
    "energy_array = let\n",
    "\n",
    "    number_of_iterations = result.loopcount; # how many iterations did we take to converge?\n",
    "    energy_array = Array{Float64,1}(undef, number_of_iterations);\n",
    "    \n",
    "\n",
    "    for i ∈ 1:number_of_iterations\n",
    "        tmp = load(joinpath(_PATH_TO_TMP, \"data-$(i).jld2\")); # returns a dictionary\n",
    "        a = tmp[\"assignments\"]; # get the assignment vector for this iteration\n",
    "        μ = tmp[\"centroids\"]; # get the cluster centroids for this iteration\n",
    "        energy_array[i] = configurationenergy(D, a, μ);\n",
    "    end\n",
    "\n",
    "    # 0,1 scale the energy\n",
    "    L = minimum(energy_array); # low value\n",
    "    H = maximum(energy_array); # high value\n",
    "    scaled_energy_array = Array{Float64,1}(undef, number_of_iterations);\n",
    "    for i ∈ 1:number_of_iterations\n",
    "       scaled_energy_array[i] = (energy_array[i] - L)/(H - L);\n",
    "    end\n",
    "    \n",
    "    scaled_energy_array\n",
    "end;"
   ]
  },
  {
   "cell_type": "markdown",
   "id": "b6a2aacd-2514-41bb-9fd8-93af3836ef11",
   "metadata": {},
   "source": [
    "#### Visualize\n",
    "`Unhide` the code block below to see how we plotted the scaled energy as a function of the number of iterations of our K-means implementation."
   ]
  },
  {
   "cell_type": "code",
   "execution_count": 27,
   "id": "7c719a45-389f-4773-a2b7-e67053c53540",
   "metadata": {},
   "outputs": [
    {
     "data": {
      "image/png": "[encoded data removed]",
      "image/svg+xml": [
       "<?xml version=\"1.0\" encoding=\"utf-8\"?>\n",
       "<svg xmlns=\"http://www.w3.org/2000/svg\" xmlns:xlink=\"http://www.w3.org/1999/xlink\" width=\"600\" height=\"400\" viewBox=\"0 0 2400 1600\">\n",
       "<defs>\n",
       "  <clipPath id=\"clip360\">\n",
       "    <rect x=\"0\" y=\"0\" width=\"2400\" height=\"1600\"/>\n",
       "  </clipPath>\n",
       "</defs>\n",
       "<path clip-path=\"url(#clip360)\" d=\"M0 1600 L2400 1600 L2400 0 L0 0  Z\" fill=\"#ffffff\" fill-rule=\"evenodd\" fill-opacity=\"1\"/>\n",
       "<defs>\n",
       "  <clipPath id=\"clip361\">\n",
       "    <rect x=\"480\" y=\"0\" width=\"1681\" height=\"1600\"/>\n",
       "  </clipPath>\n",
       "</defs>\n",
       "<path clip-path=\"url(#clip360)\" d=\"M249.542 1423.18 L2352.76 1423.18 L2352.76 47.2441 L249.542 47.2441  Z\" fill=\"#ffffff\" fill-rule=\"evenodd\" fill-opacity=\"1\"/>\n",
       "<defs>\n",
       "  <clipPath id=\"clip362\">\n",
       "    <rect x=\"249\" y=\"47\" width=\"2104\" height=\"1377\"/>\n",
       "  </clipPath>\n",
       "</defs>\n",
       "<polyline clip-path=\"url(#clip362)\" style=\"stroke:#000000; stroke-linecap:round; stroke-linejoin:round; stroke-width:2; stroke-opacity:0.1; fill:none\" points=\"557.087,1423.18 557.087,47.2441 \"/>\n",
       "<polyline clip-path=\"url(#clip362)\" style=\"stroke:#000000; stroke-linecap:round; stroke-linejoin:round; stroke-width:2; stroke-opacity:0.1; fill:none\" points=\"970.455,1423.18 970.455,47.2441 \"/>\n",
       "<polyline clip-path=\"url(#clip362)\" style=\"stroke:#000000; stroke-linecap:round; stroke-linejoin:round; stroke-width:2; stroke-opacity:0.1; fill:none\" points=\"1383.82,1423.18 1383.82,47.2441 \"/>\n",
       "<polyline clip-path=\"url(#clip362)\" style=\"stroke:#000000; stroke-linecap:round; stroke-linejoin:round; stroke-width:2; stroke-opacity:0.1; fill:none\" points=\"1797.19,1423.18 1797.19,47.2441 \"/>\n",
       "<polyline clip-path=\"url(#clip362)\" style=\"stroke:#000000; stroke-linecap:round; stroke-linejoin:round; stroke-width:2; stroke-opacity:0.1; fill:none\" points=\"2210.56,1423.18 2210.56,47.2441 \"/>\n",
       "<polyline clip-path=\"url(#clip362)\" style=\"stroke:#000000; stroke-linecap:round; stroke-linejoin:round; stroke-width:2; stroke-opacity:0.1; fill:none\" points=\"249.542,1384.24 2352.76,1384.24 \"/>\n",
       "<polyline clip-path=\"url(#clip362)\" style=\"stroke:#000000; stroke-linecap:round; stroke-linejoin:round; stroke-width:2; stroke-opacity:0.1; fill:none\" points=\"249.542,1059.73 2352.76,1059.73 \"/>\n",
       "<polyline clip-path=\"url(#clip362)\" style=\"stroke:#000000; stroke-linecap:round; stroke-linejoin:round; stroke-width:2; stroke-opacity:0.1; fill:none\" points=\"249.542,735.212 2352.76,735.212 \"/>\n",
       "<polyline clip-path=\"url(#clip362)\" style=\"stroke:#000000; stroke-linecap:round; stroke-linejoin:round; stroke-width:2; stroke-opacity:0.1; fill:none\" points=\"249.542,410.699 2352.76,410.699 \"/>\n",
       "<polyline clip-path=\"url(#clip362)\" style=\"stroke:#000000; stroke-linecap:round; stroke-linejoin:round; stroke-width:2; stroke-opacity:0.1; fill:none\" points=\"249.542,86.1857 2352.76,86.1857 \"/>\n",
       "<polyline clip-path=\"url(#clip360)\" style=\"stroke:#000000; stroke-linecap:round; stroke-linejoin:round; stroke-width:4; stroke-opacity:1; fill:none\" points=\"249.542,1423.18 2352.76,1423.18 \"/>\n",
       "<polyline clip-path=\"url(#clip360)\" style=\"stroke:#000000; stroke-linecap:round; stroke-linejoin:round; stroke-width:4; stroke-opacity:1; fill:none\" points=\"557.087,1423.18 557.087,1404.28 \"/>\n",
       "<polyline clip-path=\"url(#clip360)\" style=\"stroke:#000000; stroke-linecap:round; stroke-linejoin:round; stroke-width:4; stroke-opacity:1; fill:none\" points=\"970.455,1423.18 970.455,1404.28 \"/>\n",
       "<polyline clip-path=\"url(#clip360)\" style=\"stroke:#000000; stroke-linecap:round; stroke-linejoin:round; stroke-width:4; stroke-opacity:1; fill:none\" points=\"1383.82,1423.18 1383.82,1404.28 \"/>\n",
       "<polyline clip-path=\"url(#clip360)\" style=\"stroke:#000000; stroke-linecap:round; stroke-linejoin:round; stroke-width:4; stroke-opacity:1; fill:none\" points=\"1797.19,1423.18 1797.19,1404.28 \"/>\n",
       "<polyline clip-path=\"url(#clip360)\" style=\"stroke:#000000; stroke-linecap:round; stroke-linejoin:round; stroke-width:4; stroke-opacity:1; fill:none\" points=\"2210.56,1423.18 2210.56,1404.28 \"/>\n",
       "<path clip-path=\"url(#clip360)\" d=\"M528.824 1481.64 L545.143 1481.64 L545.143 1485.58 L523.199 1485.58 L523.199 1481.64 Q525.861 1478.89 530.444 1474.26 Q535.051 1469.61 536.231 1468.27 Q538.476 1465.74 539.356 1464.01 Q540.259 1462.25 540.259 1460.56 Q540.259 1457.8 538.314 1456.07 Q536.393 1454.33 533.291 1454.33 Q531.092 1454.33 528.639 1455.09 Q526.208 1455.86 523.43 1457.41 L523.43 1452.69 Q526.254 1451.55 528.708 1450.97 Q531.162 1450.39 533.199 1450.39 Q538.569 1450.39 541.763 1453.08 Q544.958 1455.77 544.958 1460.26 Q544.958 1462.39 544.148 1464.31 Q543.361 1466.2 541.254 1468.8 Q540.676 1469.47 537.574 1472.69 Q534.472 1475.88 528.824 1481.64 Z\" fill=\"#000000\" fill-rule=\"nonzero\" fill-opacity=\"1\" /><path clip-path=\"url(#clip360)\" d=\"M554.958 1479.7 L559.842 1479.7 L559.842 1485.58 L554.958 1485.58 L554.958 1479.7 Z\" fill=\"#000000\" fill-rule=\"nonzero\" fill-opacity=\"1\" /><path clip-path=\"url(#clip360)\" d=\"M570.073 1451.02 L588.43 1451.02 L588.43 1454.96 L574.356 1454.96 L574.356 1463.43 Q575.374 1463.08 576.393 1462.92 Q577.411 1462.73 578.43 1462.73 Q584.217 1462.73 587.597 1465.9 Q590.976 1469.08 590.976 1474.49 Q590.976 1480.07 587.504 1483.17 Q584.032 1486.25 577.712 1486.25 Q575.536 1486.25 573.268 1485.88 Q571.023 1485.51 568.615 1484.77 L568.615 1480.07 Q570.698 1481.2 572.921 1481.76 Q575.143 1482.32 577.62 1482.32 Q581.624 1482.32 583.962 1480.21 Q586.3 1478.1 586.3 1474.49 Q586.3 1470.88 583.962 1468.77 Q581.624 1466.67 577.62 1466.67 Q575.745 1466.67 573.87 1467.08 Q572.018 1467.5 570.073 1468.38 L570.073 1451.02 Z\" fill=\"#000000\" fill-rule=\"nonzero\" fill-opacity=\"1\" /><path clip-path=\"url(#clip360)\" d=\"M937.619 1451.02 L955.976 1451.02 L955.976 1454.96 L941.902 1454.96 L941.902 1463.43 Q942.92 1463.08 943.939 1462.92 Q944.957 1462.73 945.976 1462.73 Q951.763 1462.73 955.143 1465.9 Q958.522 1469.08 958.522 1474.49 Q958.522 1480.07 955.05 1483.17 Q951.578 1486.25 945.258 1486.25 Q943.082 1486.25 940.814 1485.88 Q938.569 1485.51 936.161 1484.77 L936.161 1480.07 Q938.244 1481.2 940.467 1481.76 Q942.689 1482.32 945.166 1482.32 Q949.17 1482.32 951.508 1480.21 Q953.846 1478.1 953.846 1474.49 Q953.846 1470.88 951.508 1468.77 Q949.17 1466.67 945.166 1466.67 Q943.291 1466.67 941.416 1467.08 Q939.564 1467.5 937.619 1468.38 L937.619 1451.02 Z\" fill=\"#000000\" fill-rule=\"nonzero\" fill-opacity=\"1\" /><path clip-path=\"url(#clip360)\" d=\"M967.735 1479.7 L972.619 1479.7 L972.619 1485.58 L967.735 1485.58 L967.735 1479.7 Z\" fill=\"#000000\" fill-rule=\"nonzero\" fill-opacity=\"1\" /><path clip-path=\"url(#clip360)\" d=\"M992.804 1454.1 Q989.193 1454.1 987.365 1457.66 Q985.559 1461.2 985.559 1468.33 Q985.559 1475.44 987.365 1479.01 Q989.193 1482.55 992.804 1482.55 Q996.439 1482.55 998.244 1479.01 Q1000.07 1475.44 1000.07 1468.33 Q1000.07 1461.2 998.244 1457.66 Q996.439 1454.1 992.804 1454.1 M992.804 1450.39 Q998.615 1450.39 1001.67 1455 Q1004.75 1459.58 1004.75 1468.33 Q1004.75 1477.06 1001.67 1481.67 Q998.615 1486.25 992.804 1486.25 Q986.994 1486.25 983.916 1481.67 Q980.86 1477.06 980.86 1468.33 Q980.86 1459.58 983.916 1455 Q986.994 1450.39 992.804 1450.39 Z\" fill=\"#000000\" fill-rule=\"nonzero\" fill-opacity=\"1\" /><path clip-path=\"url(#clip360)\" d=\"M1350.14 1451.02 L1372.36 1451.02 L1372.36 1453.01 L1359.82 1485.58 L1354.93 1485.58 L1366.74 1454.96 L1350.14 1454.96 L1350.14 1451.02 Z\" fill=\"#000000\" fill-rule=\"nonzero\" fill-opacity=\"1\" /><path clip-path=\"url(#clip360)\" d=\"M1381.48 1479.7 L1386.37 1479.7 L1386.37 1485.58 L1381.48 1485.58 L1381.48 1479.7 Z\" fill=\"#000000\" fill-rule=\"nonzero\" fill-opacity=\"1\" /><path clip-path=\"url(#clip360)\" d=\"M1396.6 1451.02 L1414.96 1451.02 L1414.96 1454.96 L1400.88 1454.96 L1400.88 1463.43 Q1401.9 1463.08 1402.92 1462.92 Q1403.94 1462.73 1404.96 1462.73 Q1410.74 1462.73 1414.12 1465.9 Q1417.5 1469.08 1417.5 1474.49 Q1417.5 1480.07 1414.03 1483.17 Q1410.56 1486.25 1404.24 1486.25 Q1402.06 1486.25 1399.79 1485.88 Q1397.55 1485.51 1395.14 1484.77 L1395.14 1480.07 Q1397.23 1481.2 1399.45 1481.76 Q1401.67 1482.32 1404.15 1482.32 Q1408.15 1482.32 1410.49 1480.21 Q1412.83 1478.1 1412.83 1474.49 Q1412.83 1470.88 1410.49 1468.77 Q1408.15 1466.67 1404.15 1466.67 Q1402.27 1466.67 1400.4 1467.08 Q1398.54 1467.5 1396.6 1468.38 L1396.6 1451.02 Z\" fill=\"#000000\" fill-rule=\"nonzero\" fill-opacity=\"1\" /><path clip-path=\"url(#clip360)\" d=\"M1749.26 1481.64 L1756.9 1481.64 L1756.9 1455.28 L1748.59 1456.95 L1748.59 1452.69 L1756.85 1451.02 L1761.53 1451.02 L1761.53 1481.64 L1769.17 1481.64 L1769.17 1485.58 L1749.26 1485.58 L1749.26 1481.64 Z\" fill=\"#000000\" fill-rule=\"nonzero\" fill-opacity=\"1\" /><path clip-path=\"url(#clip360)\" d=\"M1788.61 1454.1 Q1785 1454.1 1783.17 1457.66 Q1781.37 1461.2 1781.37 1468.33 Q1781.37 1475.44 1783.17 1479.01 Q1785 1482.55 1788.61 1482.55 Q1792.25 1482.55 1794.05 1479.01 Q1795.88 1475.44 1795.88 1468.33 Q1795.88 1461.2 1794.05 1457.66 Q1792.25 1454.1 1788.61 1454.1 M1788.61 1450.39 Q1794.42 1450.39 1797.48 1455 Q1800.56 1459.58 1800.56 1468.33 Q1800.56 1477.06 1797.48 1481.67 Q1794.42 1486.25 1788.61 1486.25 Q1782.8 1486.25 1779.72 1481.67 Q1776.67 1477.06 1776.67 1468.33 Q1776.67 1459.58 1779.72 1455 Q1782.8 1450.39 1788.61 1450.39 Z\" fill=\"#000000\" fill-rule=\"nonzero\" fill-opacity=\"1\" /><path clip-path=\"url(#clip360)\" d=\"M1808.78 1479.7 L1813.66 1479.7 L1813.66 1485.58 L1808.78 1485.58 L1808.78 1479.7 Z\" fill=\"#000000\" fill-rule=\"nonzero\" fill-opacity=\"1\" /><path clip-path=\"url(#clip360)\" d=\"M1833.84 1454.1 Q1830.23 1454.1 1828.41 1457.66 Q1826.6 1461.2 1826.6 1468.33 Q1826.6 1475.44 1828.41 1479.01 Q1830.23 1482.55 1833.84 1482.55 Q1837.48 1482.55 1839.28 1479.01 Q1841.11 1475.44 1841.11 1468.33 Q1841.11 1461.2 1839.28 1457.66 Q1837.48 1454.1 1833.84 1454.1 M1833.84 1450.39 Q1839.66 1450.39 1842.71 1455 Q1845.79 1459.58 1845.79 1468.33 Q1845.79 1477.06 1842.71 1481.67 Q1839.66 1486.25 1833.84 1486.25 Q1828.03 1486.25 1824.96 1481.67 Q1821.9 1477.06 1821.9 1468.33 Q1821.9 1459.58 1824.96 1455 Q1828.03 1450.39 1833.84 1450.39 Z\" fill=\"#000000\" fill-rule=\"nonzero\" fill-opacity=\"1\" /><path clip-path=\"url(#clip360)\" d=\"M2163.13 1481.64 L2170.77 1481.64 L2170.77 1455.28 L2162.46 1456.95 L2162.46 1452.69 L2170.72 1451.02 L2175.4 1451.02 L2175.4 1481.64 L2183.03 1481.64 L2183.03 1485.58 L2163.13 1485.58 L2163.13 1481.64 Z\" fill=\"#000000\" fill-rule=\"nonzero\" fill-opacity=\"1\" /><path clip-path=\"url(#clip360)\" d=\"M2196.51 1481.64 L2212.83 1481.64 L2212.83 1485.58 L2190.88 1485.58 L2190.88 1481.64 Q2193.54 1478.89 2198.13 1474.26 Q2202.73 1469.61 2203.91 1468.27 Q2206.16 1465.74 2207.04 1464.01 Q2207.94 1462.25 2207.94 1460.56 Q2207.94 1457.8 2206 1456.07 Q2204.08 1454.33 2200.97 1454.33 Q2198.78 1454.33 2196.32 1455.09 Q2193.89 1455.86 2191.11 1457.41 L2191.11 1452.69 Q2193.94 1451.55 2196.39 1450.97 Q2198.84 1450.39 2200.88 1450.39 Q2206.25 1450.39 2209.45 1453.08 Q2212.64 1455.77 2212.64 1460.26 Q2212.64 1462.39 2211.83 1464.31 Q2211.04 1466.2 2208.94 1468.8 Q2208.36 1469.47 2205.26 1472.69 Q2202.15 1475.88 2196.51 1481.64 Z\" fill=\"#000000\" fill-rule=\"nonzero\" fill-opacity=\"1\" /><path clip-path=\"url(#clip360)\" d=\"M2222.64 1479.7 L2227.52 1479.7 L2227.52 1485.58 L2222.64 1485.58 L2222.64 1479.7 Z\" fill=\"#000000\" fill-rule=\"nonzero\" fill-opacity=\"1\" /><path clip-path=\"url(#clip360)\" d=\"M2237.76 1451.02 L2256.11 1451.02 L2256.11 1454.96 L2242.04 1454.96 L2242.04 1463.43 Q2243.06 1463.08 2244.08 1462.92 Q2245.09 1462.73 2246.11 1462.73 Q2251.9 1462.73 2255.28 1465.9 Q2258.66 1469.08 2258.66 1474.49 Q2258.66 1480.07 2255.19 1483.17 Q2251.71 1486.25 2245.4 1486.25 Q2243.22 1486.25 2240.95 1485.88 Q2238.71 1485.51 2236.3 1484.77 L2236.3 1480.07 Q2238.38 1481.2 2240.6 1481.76 Q2242.83 1482.32 2245.3 1482.32 Q2249.31 1482.32 2251.65 1480.21 Q2253.98 1478.1 2253.98 1474.49 Q2253.98 1470.88 2251.65 1468.77 Q2249.31 1466.67 2245.3 1466.67 Q2243.43 1466.67 2241.55 1467.08 Q2239.7 1467.5 2237.76 1468.38 L2237.76 1451.02 Z\" fill=\"#000000\" fill-rule=\"nonzero\" fill-opacity=\"1\" /><path clip-path=\"url(#clip360)\" d=\"M970.451 1520.52 L976.88 1520.52 L976.88 1568.04 L970.451 1568.04 L970.451 1520.52 Z\" fill=\"#000000\" fill-rule=\"nonzero\" fill-opacity=\"1\" /><path clip-path=\"url(#clip360)\" d=\"M995.213 1522.27 L995.213 1532.4 L1007.28 1532.4 L1007.28 1536.95 L995.213 1536.95 L995.213 1556.3 Q995.213 1560.66 996.391 1561.9 Q997.6 1563.14 1001.26 1563.14 L1007.28 1563.14 L1007.28 1568.04 L1001.26 1568.04 Q994.481 1568.04 991.903 1565.53 Q989.325 1562.98 989.325 1556.3 L989.325 1536.95 L985.028 1536.95 L985.028 1532.4 L989.325 1532.4 L989.325 1522.27 L995.213 1522.27 Z\" fill=\"#000000\" fill-rule=\"nonzero\" fill-opacity=\"1\" /><path clip-path=\"url(#clip360)\" d=\"M1045.47 1548.76 L1045.47 1551.62 L1018.54 1551.62 Q1018.93 1557.67 1022.17 1560.85 Q1025.45 1564 1031.27 1564 Q1034.65 1564 1037.8 1563.17 Q1040.98 1562.35 1044.1 1560.69 L1044.1 1566.23 Q1040.95 1567.57 1037.64 1568.27 Q1034.33 1568.97 1030.92 1568.97 Q1022.39 1568.97 1017.4 1564 Q1012.43 1559.04 1012.43 1550.57 Q1012.43 1541.82 1017.14 1536.69 Q1021.89 1531.54 1029.91 1531.54 Q1037.1 1531.54 1041.27 1536.18 Q1045.47 1540.8 1045.47 1548.76 M1039.61 1547.04 Q1039.55 1542.23 1036.91 1539.37 Q1034.3 1536.5 1029.97 1536.5 Q1025.07 1536.5 1022.11 1539.27 Q1019.18 1542.04 1018.73 1547.07 L1039.61 1547.04 Z\" fill=\"#000000\" fill-rule=\"nonzero\" fill-opacity=\"1\" /><path clip-path=\"url(#clip360)\" d=\"M1075.74 1537.87 Q1074.75 1537.3 1073.57 1537.04 Q1072.43 1536.76 1071.03 1536.76 Q1066.06 1536.76 1063.39 1540 Q1060.75 1543.22 1060.75 1549.27 L1060.75 1568.04 L1054.86 1568.04 L1054.86 1532.4 L1060.75 1532.4 L1060.75 1537.93 Q1062.59 1534.69 1065.55 1533.13 Q1068.51 1531.54 1072.75 1531.54 Q1073.35 1531.54 1074.08 1531.63 Q1074.82 1531.7 1075.71 1531.85 L1075.74 1537.87 Z\" fill=\"#000000\" fill-rule=\"nonzero\" fill-opacity=\"1\" /><path clip-path=\"url(#clip360)\" d=\"M1098.08 1550.12 Q1090.99 1550.12 1088.25 1551.75 Q1085.51 1553.37 1085.51 1557.29 Q1085.51 1560.4 1087.55 1562.25 Q1089.62 1564.07 1093.15 1564.07 Q1098.02 1564.07 1100.95 1560.63 Q1103.91 1557.16 1103.91 1551.43 L1103.91 1550.12 L1098.08 1550.12 M1109.76 1547.71 L1109.76 1568.04 L1103.91 1568.04 L1103.91 1562.63 Q1101.9 1565.88 1098.91 1567.44 Q1095.92 1568.97 1091.59 1568.97 Q1086.12 1568.97 1082.87 1565.91 Q1079.65 1562.82 1079.65 1557.67 Q1079.65 1551.65 1083.66 1548.6 Q1087.71 1545.54 1095.7 1545.54 L1103.91 1545.54 L1103.91 1544.97 Q1103.91 1540.93 1101.23 1538.73 Q1098.59 1536.5 1093.79 1536.5 Q1090.73 1536.5 1087.83 1537.23 Q1084.94 1537.97 1082.26 1539.43 L1082.26 1534.02 Q1085.48 1532.78 1088.5 1532.17 Q1091.53 1531.54 1094.39 1531.54 Q1102.13 1531.54 1105.94 1535.55 Q1109.76 1539.56 1109.76 1547.71 Z\" fill=\"#000000\" fill-rule=\"nonzero\" fill-opacity=\"1\" /><path clip-path=\"url(#clip360)\" d=\"M1127.62 1522.27 L1127.62 1532.4 L1139.68 1532.4 L1139.68 1536.95 L1127.62 1536.95 L1127.62 1556.3 Q1127.62 1560.66 1128.8 1561.9 Q1130.01 1563.14 1133.67 1563.14 L1139.68 1563.14 L1139.68 1568.04 L1133.67 1568.04 Q1126.89 1568.04 1124.31 1565.53 Q1121.73 1562.98 1121.73 1556.3 L1121.73 1536.95 L1117.43 1536.95 L1117.43 1532.4 L1121.73 1532.4 L1121.73 1522.27 L1127.62 1522.27 Z\" fill=\"#000000\" fill-rule=\"nonzero\" fill-opacity=\"1\" /><path clip-path=\"url(#clip360)\" d=\"M1147.39 1532.4 L1153.24 1532.4 L1153.24 1568.04 L1147.39 1568.04 L1147.39 1532.4 M1147.39 1518.52 L1153.24 1518.52 L1153.24 1525.93 L1147.39 1525.93 L1147.39 1518.52 Z\" fill=\"#000000\" fill-rule=\"nonzero\" fill-opacity=\"1\" /><path clip-path=\"url(#clip360)\" d=\"M1179.31 1536.5 Q1174.6 1536.5 1171.86 1540.19 Q1169.12 1543.85 1169.12 1550.25 Q1169.12 1556.65 1171.83 1560.34 Q1174.57 1564 1179.31 1564 Q1183.99 1564 1186.73 1560.31 Q1189.46 1556.62 1189.46 1550.25 Q1189.46 1543.92 1186.73 1540.23 Q1183.99 1536.5 1179.31 1536.5 M1179.31 1531.54 Q1186.95 1531.54 1191.31 1536.5 Q1195.67 1541.47 1195.67 1550.25 Q1195.67 1559 1191.31 1564 Q1186.95 1568.97 1179.31 1568.97 Q1171.64 1568.97 1167.28 1564 Q1162.95 1559 1162.95 1550.25 Q1162.95 1541.47 1167.28 1536.5 Q1171.64 1531.54 1179.31 1531.54 Z\" fill=\"#000000\" fill-rule=\"nonzero\" fill-opacity=\"1\" /><path clip-path=\"url(#clip360)\" d=\"M1235.01 1546.53 L1235.01 1568.04 L1229.15 1568.04 L1229.15 1546.72 Q1229.15 1541.66 1227.18 1539.14 Q1225.21 1536.63 1221.26 1536.63 Q1216.52 1536.63 1213.78 1539.65 Q1211.04 1542.68 1211.04 1547.9 L1211.04 1568.04 L1205.15 1568.04 L1205.15 1532.4 L1211.04 1532.4 L1211.04 1537.93 Q1213.14 1534.72 1215.98 1533.13 Q1218.84 1531.54 1222.56 1531.54 Q1228.71 1531.54 1231.86 1535.36 Q1235.01 1539.14 1235.01 1546.53 Z\" fill=\"#000000\" fill-rule=\"nonzero\" fill-opacity=\"1\" /><path clip-path=\"url(#clip360)\" d=\"M1269.42 1533.45 L1269.42 1538.98 Q1266.93 1537.71 1264.26 1537.07 Q1261.59 1536.44 1258.72 1536.44 Q1254.36 1536.44 1252.16 1537.77 Q1250 1539.11 1250 1541.79 Q1250 1543.82 1251.56 1545 Q1253.12 1546.15 1257.83 1547.2 L1259.84 1547.64 Q1266.07 1548.98 1268.68 1551.43 Q1271.33 1553.85 1271.33 1558.21 Q1271.33 1563.17 1267.38 1566.07 Q1263.46 1568.97 1256.59 1568.97 Q1253.72 1568.97 1250.61 1568.39 Q1247.52 1567.85 1244.08 1566.74 L1244.08 1560.69 Q1247.33 1562.38 1250.48 1563.24 Q1253.63 1564.07 1256.72 1564.07 Q1260.85 1564.07 1263.08 1562.66 Q1265.31 1561.23 1265.31 1558.65 Q1265.31 1556.27 1263.69 1554.99 Q1262.1 1553.72 1256.65 1552.54 L1254.62 1552.07 Q1249.17 1550.92 1246.75 1548.56 Q1244.34 1546.18 1244.34 1542.04 Q1244.34 1537.01 1247.9 1534.27 Q1251.46 1531.54 1258.02 1531.54 Q1261.27 1531.54 1264.13 1532.01 Q1267 1532.49 1269.42 1533.45 Z\" fill=\"#000000\" fill-rule=\"nonzero\" fill-opacity=\"1\" /><path clip-path=\"url(#clip360)\" d=\"M1301.37 1532.4 L1307.23 1532.4 L1307.23 1568.04 L1301.37 1568.04 L1301.37 1532.4 M1301.37 1518.52 L1307.23 1518.52 L1307.23 1525.93 L1301.37 1525.93 L1301.37 1518.52 Z\" fill=\"#000000\" fill-rule=\"nonzero\" fill-opacity=\"1\" /><path clip-path=\"url(#clip360)\" d=\"M1349.11 1546.53 L1349.11 1568.04 L1343.26 1568.04 L1343.26 1546.72 Q1343.26 1541.66 1341.28 1539.14 Q1339.31 1536.63 1335.36 1536.63 Q1330.62 1536.63 1327.88 1539.65 Q1325.15 1542.68 1325.15 1547.9 L1325.15 1568.04 L1319.26 1568.04 L1319.26 1532.4 L1325.15 1532.4 L1325.15 1537.93 Q1327.25 1534.72 1330.08 1533.13 Q1332.95 1531.54 1336.67 1531.54 Q1342.81 1531.54 1345.96 1535.36 Q1349.11 1539.14 1349.11 1546.53 Z\" fill=\"#000000\" fill-rule=\"nonzero\" fill-opacity=\"1\" /><path clip-path=\"url(#clip360)\" d=\"M1384.25 1537.81 L1384.25 1518.52 L1390.11 1518.52 L1390.11 1568.04 L1384.25 1568.04 L1384.25 1562.7 Q1382.41 1565.88 1379.57 1567.44 Q1376.77 1568.97 1372.83 1568.97 Q1366.37 1568.97 1362.29 1563.81 Q1358.25 1558.65 1358.25 1550.25 Q1358.25 1541.85 1362.29 1536.69 Q1366.37 1531.54 1372.83 1531.54 Q1376.77 1531.54 1379.57 1533.1 Q1382.41 1534.62 1384.25 1537.81 M1364.3 1550.25 Q1364.3 1556.71 1366.94 1560.4 Q1369.61 1564.07 1374.26 1564.07 Q1378.91 1564.07 1381.58 1560.4 Q1384.25 1556.71 1384.25 1550.25 Q1384.25 1543.79 1381.58 1540.13 Q1378.91 1536.44 1374.26 1536.44 Q1369.61 1536.44 1366.94 1540.13 Q1364.3 1543.79 1364.3 1550.25 Z\" fill=\"#000000\" fill-rule=\"nonzero\" fill-opacity=\"1\" /><path clip-path=\"url(#clip360)\" d=\"M1432.66 1548.76 L1432.66 1551.62 L1405.74 1551.62 Q1406.12 1557.67 1409.37 1560.85 Q1412.64 1564 1418.47 1564 Q1421.84 1564 1424.99 1563.17 Q1428.18 1562.35 1431.3 1560.69 L1431.3 1566.23 Q1428.14 1567.57 1424.83 1568.27 Q1421.52 1568.97 1418.12 1568.97 Q1409.59 1568.97 1404.59 1564 Q1399.63 1559.04 1399.63 1550.57 Q1399.63 1541.82 1404.34 1536.69 Q1409.08 1531.54 1417.1 1531.54 Q1424.29 1531.54 1428.46 1536.18 Q1432.66 1540.8 1432.66 1548.76 M1426.81 1547.04 Q1426.74 1542.23 1424.1 1539.37 Q1421.49 1536.5 1417.16 1536.5 Q1412.26 1536.5 1409.3 1539.27 Q1406.37 1542.04 1405.93 1547.07 L1426.81 1547.04 Z\" fill=\"#000000\" fill-rule=\"nonzero\" fill-opacity=\"1\" /><path clip-path=\"url(#clip360)\" d=\"M1470.76 1532.4 L1457.87 1549.74 L1471.43 1568.04 L1464.52 1568.04 L1454.15 1554.04 L1443.77 1568.04 L1436.87 1568.04 L1450.71 1549.39 L1438.04 1532.4 L1444.95 1532.4 L1454.4 1545.1 L1463.86 1532.4 L1470.76 1532.4 Z\" fill=\"#000000\" fill-rule=\"nonzero\" fill-opacity=\"1\" /><path clip-path=\"url(#clip360)\" d=\"M1514.5 1518.58 Q1510.23 1525.9 1508.16 1533.06 Q1506.09 1540.23 1506.09 1547.58 Q1506.09 1554.93 1508.16 1562.16 Q1510.26 1569.35 1514.5 1576.64 L1509.4 1576.64 Q1504.63 1569.16 1502.24 1561.93 Q1499.89 1554.71 1499.89 1547.58 Q1499.89 1540.48 1502.24 1533.29 Q1504.6 1526.09 1509.4 1518.58 L1514.5 1518.58 Z\" fill=\"#000000\" fill-rule=\"nonzero\" fill-opacity=\"1\" /><path clip-path=\"url(#clip360)\" d=\"M1542 1526.86 L1533.27 1550.51 L1550.75 1550.51 L1542 1526.86 M1538.37 1520.52 L1545.66 1520.52 L1563.77 1568.04 L1557.08 1568.04 L1552.75 1555.85 L1531.33 1555.85 L1527 1568.04 L1520.22 1568.04 L1538.37 1520.52 Z\" fill=\"#000000\" fill-rule=\"nonzero\" fill-opacity=\"1\" /><path clip-path=\"url(#clip360)\" d=\"M1569.97 1520.52 L1576.43 1520.52 L1576.43 1549.39 Q1576.43 1557.03 1579.2 1560.4 Q1581.97 1563.75 1588.18 1563.75 Q1594.35 1563.75 1597.12 1560.4 Q1599.89 1557.03 1599.89 1549.39 L1599.89 1520.52 L1606.35 1520.52 L1606.35 1550.19 Q1606.35 1559.48 1601.74 1564.22 Q1597.15 1568.97 1588.18 1568.97 Q1579.17 1568.97 1574.56 1564.22 Q1569.97 1559.48 1569.97 1550.19 L1569.97 1520.52 Z\" fill=\"#000000\" fill-rule=\"nonzero\" fill-opacity=\"1\" /><path clip-path=\"url(#clip360)\" d=\"M1617.24 1518.58 L1622.33 1518.58 Q1627.1 1526.09 1629.46 1533.29 Q1631.85 1540.48 1631.85 1547.58 Q1631.85 1554.71 1629.46 1561.93 Q1627.1 1569.16 1622.33 1576.64 L1617.24 1576.64 Q1621.47 1569.35 1623.54 1562.16 Q1625.64 1554.93 1625.64 1547.58 Q1625.64 1540.23 1623.54 1533.06 Q1621.47 1525.9 1617.24 1518.58 Z\" fill=\"#000000\" fill-rule=\"nonzero\" fill-opacity=\"1\" /><polyline clip-path=\"url(#clip360)\" style=\"stroke:#000000; stroke-linecap:round; stroke-linejoin:round; stroke-width:4; stroke-opacity:1; fill:none\" points=\"249.542,1423.18 249.542,47.2441 \"/>\n",
       "<polyline clip-path=\"url(#clip360)\" style=\"stroke:#000000; stroke-linecap:round; stroke-linejoin:round; stroke-width:4; stroke-opacity:1; fill:none\" points=\"249.542,1384.24 268.44,1384.24 \"/>\n",
       "<polyline clip-path=\"url(#clip360)\" style=\"stroke:#000000; stroke-linecap:round; stroke-linejoin:round; stroke-width:4; stroke-opacity:1; fill:none\" points=\"249.542,1059.73 268.44,1059.73 \"/>\n",
       "<polyline clip-path=\"url(#clip360)\" style=\"stroke:#000000; stroke-linecap:round; stroke-linejoin:round; stroke-width:4; stroke-opacity:1; fill:none\" points=\"249.542,735.212 268.44,735.212 \"/>\n",
       "<polyline clip-path=\"url(#clip360)\" style=\"stroke:#000000; stroke-linecap:round; stroke-linejoin:round; stroke-width:4; stroke-opacity:1; fill:none\" points=\"249.542,410.699 268.44,410.699 \"/>\n",
       "<polyline clip-path=\"url(#clip360)\" style=\"stroke:#000000; stroke-linecap:round; stroke-linejoin:round; stroke-width:4; stroke-opacity:1; fill:none\" points=\"249.542,86.1857 268.44,86.1857 \"/>\n",
       "<path clip-path=\"url(#clip360)\" d=\"M126.205 1370.04 Q122.593 1370.04 120.765 1373.6 Q118.959 1377.14 118.959 1384.27 Q118.959 1391.38 120.765 1394.94 Q122.593 1398.49 126.205 1398.49 Q129.839 1398.49 131.644 1394.94 Q133.473 1391.38 133.473 1384.27 Q133.473 1377.14 131.644 1373.6 Q129.839 1370.04 126.205 1370.04 M126.205 1366.33 Q132.015 1366.33 135.07 1370.94 Q138.149 1375.52 138.149 1384.27 Q138.149 1393 135.07 1397.61 Q132.015 1402.19 126.205 1402.19 Q120.394 1402.19 117.316 1397.61 Q114.26 1393 114.26 1384.27 Q114.26 1375.52 117.316 1370.94 Q120.394 1366.33 126.205 1366.33 Z\" fill=\"#000000\" fill-rule=\"nonzero\" fill-opacity=\"1\" /><path clip-path=\"url(#clip360)\" d=\"M146.366 1395.64 L151.251 1395.64 L151.251 1401.52 L146.366 1401.52 L146.366 1395.64 Z\" fill=\"#000000\" fill-rule=\"nonzero\" fill-opacity=\"1\" /><path clip-path=\"url(#clip360)\" d=\"M171.436 1370.04 Q167.825 1370.04 165.996 1373.6 Q164.19 1377.14 164.19 1384.27 Q164.19 1391.38 165.996 1394.94 Q167.825 1398.49 171.436 1398.49 Q175.07 1398.49 176.876 1394.94 Q178.704 1391.38 178.704 1384.27 Q178.704 1377.14 176.876 1373.6 Q175.07 1370.04 171.436 1370.04 M171.436 1366.33 Q177.246 1366.33 180.301 1370.94 Q183.38 1375.52 183.38 1384.27 Q183.38 1393 180.301 1397.61 Q177.246 1402.19 171.436 1402.19 Q165.626 1402.19 162.547 1397.61 Q159.491 1393 159.491 1384.27 Q159.491 1375.52 162.547 1370.94 Q165.626 1366.33 171.436 1366.33 Z\" fill=\"#000000\" fill-rule=\"nonzero\" fill-opacity=\"1\" /><path clip-path=\"url(#clip360)\" d=\"M201.598 1370.04 Q197.987 1370.04 196.158 1373.6 Q194.352 1377.14 194.352 1384.27 Q194.352 1391.38 196.158 1394.94 Q197.987 1398.49 201.598 1398.49 Q205.232 1398.49 207.037 1394.94 Q208.866 1391.38 208.866 1384.27 Q208.866 1377.14 207.037 1373.6 Q205.232 1370.04 201.598 1370.04 M201.598 1366.33 Q207.408 1366.33 210.463 1370.94 Q213.542 1375.52 213.542 1384.27 Q213.542 1393 210.463 1397.61 Q207.408 1402.19 201.598 1402.19 Q195.787 1402.19 192.709 1397.61 Q189.653 1393 189.653 1384.27 Q189.653 1375.52 192.709 1370.94 Q195.787 1366.33 201.598 1366.33 Z\" fill=\"#000000\" fill-rule=\"nonzero\" fill-opacity=\"1\" /><path clip-path=\"url(#clip360)\" d=\"M127.2 1045.52 Q123.589 1045.52 121.76 1049.09 Q119.955 1052.63 119.955 1059.76 Q119.955 1066.87 121.76 1070.43 Q123.589 1073.97 127.2 1073.97 Q130.834 1073.97 132.64 1070.43 Q134.468 1066.87 134.468 1059.76 Q134.468 1052.63 132.64 1049.09 Q130.834 1045.52 127.2 1045.52 M127.2 1041.82 Q133.01 1041.82 136.066 1046.43 Q139.144 1051.01 139.144 1059.76 Q139.144 1068.49 136.066 1073.09 Q133.01 1077.68 127.2 1077.68 Q121.39 1077.68 118.311 1073.09 Q115.256 1068.49 115.256 1059.76 Q115.256 1051.01 118.311 1046.43 Q121.39 1041.82 127.2 1041.82 Z\" fill=\"#000000\" fill-rule=\"nonzero\" fill-opacity=\"1\" /><path clip-path=\"url(#clip360)\" d=\"M147.362 1071.13 L152.246 1071.13 L152.246 1077.01 L147.362 1077.01 L147.362 1071.13 Z\" fill=\"#000000\" fill-rule=\"nonzero\" fill-opacity=\"1\" /><path clip-path=\"url(#clip360)\" d=\"M166.459 1073.07 L182.778 1073.07 L182.778 1077.01 L160.834 1077.01 L160.834 1073.07 Q163.496 1070.32 168.079 1065.69 Q172.686 1061.03 173.866 1059.69 Q176.112 1057.17 176.991 1055.43 Q177.894 1053.67 177.894 1051.98 Q177.894 1049.23 175.95 1047.49 Q174.028 1045.76 170.927 1045.76 Q168.727 1045.76 166.274 1046.52 Q163.843 1047.28 161.065 1048.83 L161.065 1044.11 Q163.89 1042.98 166.343 1042.4 Q168.797 1041.82 170.834 1041.82 Q176.204 1041.82 179.399 1044.51 Q182.593 1047.19 182.593 1051.68 Q182.593 1053.81 181.783 1055.73 Q180.996 1057.63 178.889 1060.22 Q178.311 1060.89 175.209 1064.11 Q172.107 1067.31 166.459 1073.07 Z\" fill=\"#000000\" fill-rule=\"nonzero\" fill-opacity=\"1\" /><path clip-path=\"url(#clip360)\" d=\"M192.639 1042.45 L210.996 1042.45 L210.996 1046.38 L196.922 1046.38 L196.922 1054.85 Q197.94 1054.51 198.959 1054.34 Q199.977 1054.16 200.996 1054.16 Q206.783 1054.16 210.162 1057.33 Q213.542 1060.5 213.542 1065.92 Q213.542 1071.5 210.07 1074.6 Q206.598 1077.68 200.278 1077.68 Q198.102 1077.68 195.834 1077.31 Q193.588 1076.94 191.181 1076.19 L191.181 1071.5 Q193.264 1072.63 195.487 1073.19 Q197.709 1073.74 200.186 1073.74 Q204.19 1073.74 206.528 1071.63 Q208.866 1069.53 208.866 1065.92 Q208.866 1062.31 206.528 1060.2 Q204.19 1058.09 200.186 1058.09 Q198.311 1058.09 196.436 1058.51 Q194.584 1058.93 192.639 1059.81 L192.639 1042.45 Z\" fill=\"#000000\" fill-rule=\"nonzero\" fill-opacity=\"1\" /><path clip-path=\"url(#clip360)\" d=\"M126.205 721.011 Q122.593 721.011 120.765 724.575 Q118.959 728.117 118.959 735.247 Q118.959 742.353 120.765 745.918 Q122.593 749.46 126.205 749.46 Q129.839 749.46 131.644 745.918 Q133.473 742.353 133.473 735.247 Q133.473 728.117 131.644 724.575 Q129.839 721.011 126.205 721.011 M126.205 717.307 Q132.015 717.307 135.07 721.913 Q138.149 726.497 138.149 735.247 Q138.149 743.973 135.07 748.58 Q132.015 753.163 126.205 753.163 Q120.394 753.163 117.316 748.58 Q114.26 743.973 114.26 735.247 Q114.26 726.497 117.316 721.913 Q120.394 717.307 126.205 717.307 Z\" fill=\"#000000\" fill-rule=\"nonzero\" fill-opacity=\"1\" /><path clip-path=\"url(#clip360)\" d=\"M146.366 746.612 L151.251 746.612 L151.251 752.492 L146.366 752.492 L146.366 746.612 Z\" fill=\"#000000\" fill-rule=\"nonzero\" fill-opacity=\"1\" /><path clip-path=\"url(#clip360)\" d=\"M161.482 717.932 L179.839 717.932 L179.839 721.867 L165.765 721.867 L165.765 730.339 Q166.783 729.992 167.802 729.83 Q168.82 729.645 169.839 729.645 Q175.626 729.645 179.005 732.816 Q182.385 735.987 182.385 741.404 Q182.385 746.983 178.913 750.085 Q175.44 753.163 169.121 753.163 Q166.945 753.163 164.677 752.793 Q162.431 752.423 160.024 751.682 L160.024 746.983 Q162.107 748.117 164.329 748.673 Q166.552 749.228 169.028 749.228 Q173.033 749.228 175.371 747.122 Q177.709 745.015 177.709 741.404 Q177.709 737.793 175.371 735.687 Q173.033 733.58 169.028 733.58 Q167.153 733.58 165.278 733.997 Q163.427 734.413 161.482 735.293 L161.482 717.932 Z\" fill=\"#000000\" fill-rule=\"nonzero\" fill-opacity=\"1\" /><path clip-path=\"url(#clip360)\" d=\"M201.598 721.011 Q197.987 721.011 196.158 724.575 Q194.352 728.117 194.352 735.247 Q194.352 742.353 196.158 745.918 Q197.987 749.46 201.598 749.46 Q205.232 749.46 207.037 745.918 Q208.866 742.353 208.866 735.247 Q208.866 728.117 207.037 724.575 Q205.232 721.011 201.598 721.011 M201.598 717.307 Q207.408 717.307 210.463 721.913 Q213.542 726.497 213.542 735.247 Q213.542 743.973 210.463 748.58 Q207.408 753.163 201.598 753.163 Q195.787 753.163 192.709 748.58 Q189.653 743.973 189.653 735.247 Q189.653 726.497 192.709 721.913 Q195.787 717.307 201.598 717.307 Z\" fill=\"#000000\" fill-rule=\"nonzero\" fill-opacity=\"1\" /><path clip-path=\"url(#clip360)\" d=\"M127.2 396.498 Q123.589 396.498 121.76 400.062 Q119.955 403.604 119.955 410.734 Q119.955 417.84 121.76 421.405 Q123.589 424.946 127.2 424.946 Q130.834 424.946 132.64 421.405 Q134.468 417.84 134.468 410.734 Q134.468 403.604 132.64 400.062 Q130.834 396.498 127.2 396.498 M127.2 392.794 Q133.01 392.794 136.066 397.4 Q139.144 401.984 139.144 410.734 Q139.144 419.46 136.066 424.067 Q133.01 428.65 127.2 428.65 Q121.39 428.65 118.311 424.067 Q115.256 419.46 115.256 410.734 Q115.256 401.984 118.311 397.4 Q121.39 392.794 127.2 392.794 Z\" fill=\"#000000\" fill-rule=\"nonzero\" fill-opacity=\"1\" /><path clip-path=\"url(#clip360)\" d=\"M147.362 422.099 L152.246 422.099 L152.246 427.979 L147.362 427.979 L147.362 422.099 Z\" fill=\"#000000\" fill-rule=\"nonzero\" fill-opacity=\"1\" /><path clip-path=\"url(#clip360)\" d=\"M161.251 393.419 L183.473 393.419 L183.473 395.41 L170.927 427.979 L166.042 427.979 L177.848 397.354 L161.251 397.354 L161.251 393.419 Z\" fill=\"#000000\" fill-rule=\"nonzero\" fill-opacity=\"1\" /><path clip-path=\"url(#clip360)\" d=\"M192.639 393.419 L210.996 393.419 L210.996 397.354 L196.922 397.354 L196.922 405.826 Q197.94 405.479 198.959 405.317 Q199.977 405.132 200.996 405.132 Q206.783 405.132 210.162 408.303 Q213.542 411.474 213.542 416.891 Q213.542 422.47 210.07 425.571 Q206.598 428.65 200.278 428.65 Q198.102 428.65 195.834 428.28 Q193.588 427.909 191.181 427.169 L191.181 422.47 Q193.264 423.604 195.487 424.159 Q197.709 424.715 200.186 424.715 Q204.19 424.715 206.528 422.608 Q208.866 420.502 208.866 416.891 Q208.866 413.28 206.528 411.173 Q204.19 409.067 200.186 409.067 Q198.311 409.067 196.436 409.484 Q194.584 409.9 192.639 410.78 L192.639 393.419 Z\" fill=\"#000000\" fill-rule=\"nonzero\" fill-opacity=\"1\" /><path clip-path=\"url(#clip360)\" d=\"M117.015 99.5305 L124.654 99.5305 L124.654 73.1649 L116.343 74.8316 L116.343 70.5723 L124.607 68.9057 L129.283 68.9057 L129.283 99.5305 L136.922 99.5305 L136.922 103.466 L117.015 103.466 L117.015 99.5305 Z\" fill=\"#000000\" fill-rule=\"nonzero\" fill-opacity=\"1\" /><path clip-path=\"url(#clip360)\" d=\"M146.366 97.5861 L151.251 97.5861 L151.251 103.466 L146.366 103.466 L146.366 97.5861 Z\" fill=\"#000000\" fill-rule=\"nonzero\" fill-opacity=\"1\" /><path clip-path=\"url(#clip360)\" d=\"M171.436 71.9844 Q167.825 71.9844 165.996 75.5492 Q164.19 79.0908 164.19 86.2204 Q164.19 93.3268 165.996 96.8916 Q167.825 100.433 171.436 100.433 Q175.07 100.433 176.876 96.8916 Q178.704 93.3268 178.704 86.2204 Q178.704 79.0908 176.876 75.5492 Q175.07 71.9844 171.436 71.9844 M171.436 68.2807 Q177.246 68.2807 180.301 72.8871 Q183.38 77.4704 183.38 86.2204 Q183.38 94.9472 180.301 99.5537 Q177.246 104.137 171.436 104.137 Q165.626 104.137 162.547 99.5537 Q159.491 94.9472 159.491 86.2204 Q159.491 77.4704 162.547 72.8871 Q165.626 68.2807 171.436 68.2807 Z\" fill=\"#000000\" fill-rule=\"nonzero\" fill-opacity=\"1\" /><path clip-path=\"url(#clip360)\" d=\"M201.598 71.9844 Q197.987 71.9844 196.158 75.5492 Q194.352 79.0908 194.352 86.2204 Q194.352 93.3268 196.158 96.8916 Q197.987 100.433 201.598 100.433 Q205.232 100.433 207.037 96.8916 Q208.866 93.3268 208.866 86.2204 Q208.866 79.0908 207.037 75.5492 Q205.232 71.9844 201.598 71.9844 M201.598 68.2807 Q207.408 68.2807 210.463 72.8871 Q213.542 77.4704 213.542 86.2204 Q213.542 94.9472 210.463 99.5537 Q207.408 104.137 201.598 104.137 Q195.787 104.137 192.709 99.5537 Q189.653 94.9472 189.653 86.2204 Q189.653 77.4704 192.709 72.8871 Q195.787 68.2807 201.598 68.2807 Z\" fill=\"#000000\" fill-rule=\"nonzero\" fill-opacity=\"1\" /><path clip-path=\"url(#clip360)\" d=\"M20.7174 1219.98 Q20.7174 1224.94 25.6189 1227.46 Q30.4887 1229.94 40.2919 1229.94 Q50.0633 1229.94 54.9649 1227.46 Q59.8346 1224.94 59.8346 1219.98 Q59.8346 1214.98 54.9649 1212.5 Q50.0633 1209.98 40.2919 1209.98 Q30.4887 1209.98 25.6189 1212.5 Q20.7174 1214.98 20.7174 1219.98 M15.6248 1219.98 Q15.6248 1211.99 21.9587 1207.79 Q28.2607 1203.55 40.2919 1203.55 Q52.2913 1203.55 58.6251 1207.79 Q64.9272 1211.99 64.9272 1219.98 Q64.9272 1227.97 58.6251 1232.2 Q52.2913 1236.4 40.2919 1236.4 Q28.2607 1236.4 21.9587 1232.2 Q15.6248 1227.97 15.6248 1219.98 Z\" fill=\"#000000\" fill-rule=\"nonzero\" fill-opacity=\"1\" /><path clip-path=\"url(#clip360)\" d=\"M55.9197 1191.59 L55.9197 1184.87 L61.3942 1184.87 L71.5793 1190.09 L71.5793 1194.2 L61.3942 1191.59 L55.9197 1191.59 Z\" fill=\"#000000\" fill-rule=\"nonzero\" fill-opacity=\"1\" /><path clip-path=\"url(#clip360)\" d=\"M58.5933 1170.42 L58.5933 1159.92 L22.3406 1159.92 L24.6323 1171.34 L18.7758 1171.34 L16.4842 1159.98 L16.4842 1153.55 L58.5933 1153.55 L58.5933 1143.05 L64.0042 1143.05 L64.0042 1170.42 L58.5933 1170.42 Z\" fill=\"#000000\" fill-rule=\"nonzero\" fill-opacity=\"1\" /><path clip-path=\"url(#clip360)\" d=\"M43.5384 1133.85 L43.5384 1116.69 L48.7583 1116.69 L48.7583 1133.85 L43.5384 1133.85 Z\" fill=\"#000000\" fill-rule=\"nonzero\" fill-opacity=\"1\" /><path clip-path=\"url(#clip360)\" d=\"M18.0438 1078.63 L24.314 1078.63 Q22.5634 1082.29 21.704 1085.53 Q20.8447 1088.78 20.8447 1091.8 Q20.8447 1097.05 22.8817 1099.92 Q24.9187 1102.75 28.6745 1102.75 Q31.8255 1102.75 33.4488 1100.87 Q35.0402 1098.96 36.0269 1093.68 L36.8226 1089.8 Q38.1912 1082.6 41.6605 1079.2 Q45.098 1075.76 50.8908 1075.76 Q57.7976 1075.76 61.3624 1080.41 Q64.9272 1085.02 64.9272 1093.97 Q64.9272 1097.34 64.1633 1101.16 Q63.3994 1104.95 61.9035 1109.02 L55.2831 1109.02 Q57.4793 1105.11 58.5933 1101.35 Q59.7073 1097.6 59.7073 1093.97 Q59.7073 1088.46 57.543 1085.47 Q55.3786 1082.48 51.3682 1082.48 Q47.8671 1082.48 45.8937 1084.64 Q43.9204 1086.77 42.9337 1091.68 L42.1698 1095.59 Q40.7375 1102.78 37.682 1106 Q34.6264 1109.21 29.1837 1109.21 Q22.8817 1109.21 19.2532 1104.79 Q15.6248 1100.33 15.6248 1092.53 Q15.6248 1089.19 16.2295 1085.72 Q16.8343 1082.25 18.0438 1078.63 Z\" fill=\"#000000\" fill-rule=\"nonzero\" fill-opacity=\"1\" /><path clip-path=\"url(#clip360)\" d=\"M29.7248 1040.34 L35.1993 1040.34 Q33.8307 1042.82 33.1623 1045.33 Q32.4621 1047.82 32.4621 1050.36 Q32.4621 1056.06 36.0905 1059.21 Q39.6872 1062.36 46.212 1062.36 Q52.7369 1062.36 56.3653 1059.21 Q59.9619 1056.06 59.9619 1050.36 Q59.9619 1047.82 59.2935 1045.33 Q58.5933 1042.82 57.2247 1040.34 L62.6355 1040.34 Q63.7814 1042.79 64.3543 1045.43 Q64.9272 1048.04 64.9272 1051 Q64.9272 1059.05 59.8664 1063.79 Q54.8057 1068.54 46.212 1068.54 Q37.491 1068.54 32.4939 1063.76 Q27.4968 1058.96 27.4968 1050.62 Q27.4968 1047.91 28.0697 1045.33 Q28.6108 1042.76 29.7248 1040.34 Z\" fill=\"#000000\" fill-rule=\"nonzero\" fill-opacity=\"1\" /><path clip-path=\"url(#clip360)\" d=\"M46.0847 1013.95 Q46.0847 1021.05 47.7079 1023.79 Q49.3312 1026.52 53.2461 1026.52 Q56.3653 1026.52 58.2114 1024.49 Q60.0256 1022.42 60.0256 1018.88 Q60.0256 1014.01 56.5881 1011.09 Q53.1188 1008.13 47.3897 1008.13 L46.0847 1008.13 L46.0847 1013.95 M43.6657 1002.27 L64.0042 1002.27 L64.0042 1008.13 L58.5933 1008.13 Q61.8398 1010.13 63.3994 1013.12 Q64.9272 1016.11 64.9272 1020.44 Q64.9272 1025.92 61.8716 1029.16 Q58.7843 1032.38 53.6281 1032.38 Q47.6125 1032.38 44.5569 1028.37 Q41.5014 1024.33 41.5014 1016.34 L41.5014 1008.13 L40.9285 1008.13 Q36.8862 1008.13 34.6901 1010.8 Q32.4621 1013.44 32.4621 1018.25 Q32.4621 1021.3 33.1941 1024.2 Q33.9262 1027.1 35.3903 1029.77 L29.9795 1029.77 Q28.7381 1026.55 28.1334 1023.53 Q27.4968 1020.51 27.4968 1017.64 Q27.4968 1009.91 31.5072 1006.09 Q35.5176 1002.27 43.6657 1002.27 Z\" fill=\"#000000\" fill-rule=\"nonzero\" fill-opacity=\"1\" /><path clip-path=\"url(#clip360)\" d=\"M14.479 990.206 L14.479 984.35 L64.0042 984.35 L64.0042 990.206 L14.479 990.206 Z\" fill=\"#000000\" fill-rule=\"nonzero\" fill-opacity=\"1\" /><path clip-path=\"url(#clip360)\" d=\"M44.7161 941.604 L47.5806 941.604 L47.5806 968.531 Q53.6281 968.149 56.8109 964.903 Q59.9619 961.624 59.9619 955.8 Q59.9619 952.426 59.1344 949.275 Q58.3069 946.092 56.6518 942.973 L62.1899 942.973 Q63.5267 946.124 64.227 949.434 Q64.9272 952.744 64.9272 956.15 Q64.9272 964.68 59.9619 969.677 Q54.9967 974.642 46.5303 974.642 Q37.7774 974.642 32.6531 969.931 Q27.4968 965.189 27.4968 957.168 Q27.4968 949.975 32.1438 945.805 Q36.7589 941.604 44.7161 941.604 M42.9973 947.461 Q38.1912 947.524 35.3266 950.166 Q32.4621 952.776 32.4621 957.105 Q32.4621 962.006 35.2312 964.966 Q38.0002 967.894 43.0292 968.34 L42.9973 947.461 Z\" fill=\"#000000\" fill-rule=\"nonzero\" fill-opacity=\"1\" /><path clip-path=\"url(#clip360)\" d=\"M33.7671 908.534 L14.479 908.534 L14.479 902.678 L64.0042 902.678 L64.0042 908.534 L58.657 908.534 Q61.8398 910.38 63.3994 913.213 Q64.9272 916.014 64.9272 919.961 Q64.9272 926.422 59.771 930.496 Q54.6147 934.538 46.212 934.538 Q37.8093 934.538 32.6531 930.496 Q27.4968 926.422 27.4968 919.961 Q27.4968 916.014 29.0564 913.213 Q30.5842 910.38 33.7671 908.534 M46.212 928.491 Q52.6732 928.491 56.3653 925.849 Q60.0256 923.175 60.0256 918.528 Q60.0256 913.881 56.3653 911.208 Q52.6732 908.534 46.212 908.534 Q39.7508 908.534 36.0905 911.208 Q32.3984 913.881 32.3984 918.528 Q32.3984 923.175 36.0905 925.849 Q39.7508 928.491 46.212 928.491 Z\" fill=\"#000000\" fill-rule=\"nonzero\" fill-opacity=\"1\" /><path clip-path=\"url(#clip360)\" d=\"M21.7677 863.21 L39.6235 863.21 L39.6235 855.126 Q39.6235 850.638 37.3 848.187 Q34.9765 845.737 30.6797 845.737 Q26.4147 845.737 24.0912 848.187 Q21.7677 850.638 21.7677 855.126 L21.7677 863.21 M16.4842 869.64 L16.4842 855.126 Q16.4842 847.137 20.1126 843.063 Q23.7092 838.957 30.6797 838.957 Q37.7138 838.957 41.3104 843.063 Q44.907 847.137 44.907 855.126 L44.907 863.21 L64.0042 863.21 L64.0042 869.64 L16.4842 869.64 Z\" fill=\"#000000\" fill-rule=\"nonzero\" fill-opacity=\"1\" /><path clip-path=\"url(#clip360)\" d=\"M29.4065 809.006 L34.9447 809.006 Q33.6716 811.489 33.035 814.163 Q32.3984 816.836 32.3984 819.701 Q32.3984 824.061 33.7352 826.257 Q35.072 828.422 37.7456 828.422 Q39.7826 828.422 40.9603 826.862 Q42.1061 825.303 43.1565 820.592 L43.6021 818.587 Q44.9389 812.348 47.3897 809.738 Q49.8086 807.097 54.1691 807.097 Q59.1344 807.097 62.0308 811.043 Q64.9272 814.958 64.9272 821.833 Q64.9272 824.698 64.3543 827.817 Q63.8132 830.904 62.6992 834.342 L56.6518 834.342 Q58.3387 831.095 59.198 827.944 Q60.0256 824.793 60.0256 821.706 Q60.0256 817.568 58.6251 815.34 Q57.1929 813.112 54.6147 813.112 Q52.2276 813.112 50.9545 814.736 Q49.6813 816.327 48.5037 821.77 L48.0262 823.807 Q46.8804 829.249 44.5251 831.668 Q42.138 834.087 38.0002 834.087 Q32.9713 834.087 30.2341 830.523 Q27.4968 826.958 27.4968 820.401 Q27.4968 817.155 27.9743 814.29 Q28.4517 811.425 29.4065 809.006 Z\" fill=\"#000000\" fill-rule=\"nonzero\" fill-opacity=\"1\" /><path clip-path=\"url(#clip360)\" d=\"M44.7161 767.279 L47.5806 767.279 L47.5806 794.206 Q53.6281 793.824 56.8109 790.578 Q59.9619 787.299 59.9619 781.475 Q59.9619 778.101 59.1344 774.95 Q58.3069 771.767 56.6518 768.648 L62.1899 768.648 Q63.5267 771.799 64.227 775.109 Q64.9272 778.419 64.9272 781.825 Q64.9272 790.355 59.9619 795.352 Q54.9967 800.317 46.5303 800.317 Q37.7774 800.317 32.6531 795.607 Q27.4968 790.864 27.4968 782.843 Q27.4968 775.65 32.1438 771.481 Q36.7589 767.279 44.7161 767.279 M42.9973 773.136 Q38.1912 773.199 35.3266 775.841 Q32.4621 778.451 32.4621 782.78 Q32.4621 787.681 35.2312 790.641 Q38.0002 793.57 43.0292 794.015 L42.9973 773.136 Z\" fill=\"#000000\" fill-rule=\"nonzero\" fill-opacity=\"1\" /><path clip-path=\"url(#clip360)\" d=\"M49.9359 758.272 L28.3562 758.272 L28.3562 752.415 L49.7131 752.415 Q54.7739 752.415 57.3202 750.442 Q59.8346 748.469 59.8346 744.522 Q59.8346 739.779 56.8109 737.042 Q53.7872 734.273 48.5673 734.273 L28.3562 734.273 L28.3562 728.417 L64.0042 728.417 L64.0042 734.273 L58.5296 734.273 Q61.7762 736.406 63.3676 739.238 Q64.9272 742.039 64.9272 745.763 Q64.9272 751.906 61.1078 755.089 Q57.2883 758.272 49.9359 758.272 M27.4968 743.535 L27.4968 743.535 Z\" fill=\"#000000\" fill-rule=\"nonzero\" fill-opacity=\"1\" /><path clip-path=\"url(#clip360)\" d=\"M33.7671 692.896 L14.479 692.896 L14.479 687.039 L64.0042 687.039 L64.0042 692.896 L58.657 692.896 Q61.8398 694.742 63.3994 697.575 Q64.9272 700.376 64.9272 704.322 Q64.9272 710.784 59.771 714.858 Q54.6147 718.9 46.212 718.9 Q37.8093 718.9 32.6531 714.858 Q27.4968 710.784 27.4968 704.322 Q27.4968 700.376 29.0564 697.575 Q30.5842 694.742 33.7671 692.896 M46.212 712.852 Q52.6732 712.852 56.3653 710.211 Q60.0256 707.537 60.0256 702.89 Q60.0256 698.243 56.3653 695.57 Q52.6732 692.896 46.212 692.896 Q39.7508 692.896 36.0905 695.57 Q32.3984 698.243 32.3984 702.89 Q32.3984 707.537 36.0905 710.211 Q39.7508 712.852 46.212 712.852 Z\" fill=\"#000000\" fill-rule=\"nonzero\" fill-opacity=\"1\" /><path clip-path=\"url(#clip360)\" d=\"M32.4621 661.163 Q32.4621 665.874 36.1542 668.611 Q39.8145 671.348 46.212 671.348 Q52.6095 671.348 56.3017 668.643 Q59.9619 665.905 59.9619 661.163 Q59.9619 656.484 56.2698 653.747 Q52.5777 651.01 46.212 651.01 Q39.8781 651.01 36.186 653.747 Q32.4621 656.484 32.4621 661.163 M27.4968 661.163 Q27.4968 653.524 32.4621 649.164 Q37.4273 644.803 46.212 644.803 Q54.9649 644.803 59.9619 649.164 Q64.9272 653.524 64.9272 661.163 Q64.9272 668.834 59.9619 673.194 Q54.9649 677.523 46.212 677.523 Q37.4273 677.523 32.4621 673.194 Q27.4968 668.834 27.4968 661.163 Z\" fill=\"#000000\" fill-rule=\"nonzero\" fill-opacity=\"1\" /><path clip-path=\"url(#clip360)\" d=\"M16.4842 614.12 L16.4842 584.074 L21.895 584.074 L21.895 607.691 L35.9632 607.691 L35.9632 585.061 L41.3741 585.061 L41.3741 607.691 L58.5933 607.691 L58.5933 583.501 L64.0042 583.501 L64.0042 614.12 L16.4842 614.12 Z\" fill=\"#000000\" fill-rule=\"nonzero\" fill-opacity=\"1\" /><path clip-path=\"url(#clip360)\" d=\"M42.4881 543.556 L64.0042 543.556 L64.0042 549.413 L42.679 549.413 Q37.6183 549.413 35.1038 551.386 Q32.5894 553.36 32.5894 557.306 Q32.5894 562.049 35.6131 564.786 Q38.6368 567.523 43.8567 567.523 L64.0042 567.523 L64.0042 573.412 L28.3562 573.412 L28.3562 567.523 L33.8944 567.523 Q30.6797 565.423 29.0883 562.59 Q27.4968 559.725 27.4968 556.001 Q27.4968 549.859 31.3163 546.707 Q35.1038 543.556 42.4881 543.556 Z\" fill=\"#000000\" fill-rule=\"nonzero\" fill-opacity=\"1\" /><path clip-path=\"url(#clip360)\" d=\"M44.7161 501.384 L47.5806 501.384 L47.5806 528.311 Q53.6281 527.929 56.8109 524.682 Q59.9619 521.404 59.9619 515.579 Q59.9619 512.205 59.1344 509.054 Q58.3069 505.871 56.6518 502.752 L62.1899 502.752 Q63.5267 505.903 64.227 509.213 Q64.9272 512.524 64.9272 515.929 Q64.9272 524.459 59.9619 529.456 Q54.9967 534.422 46.5303 534.422 Q37.7774 534.422 32.6531 529.711 Q27.4968 524.969 27.4968 516.948 Q27.4968 509.755 32.1438 505.585 Q36.7589 501.384 44.7161 501.384 M42.9973 507.24 Q38.1912 507.304 35.3266 509.946 Q32.4621 512.555 32.4621 516.884 Q32.4621 521.786 35.2312 524.746 Q38.0002 527.674 43.0292 528.12 L42.9973 507.24 Z\" fill=\"#000000\" fill-rule=\"nonzero\" fill-opacity=\"1\" /><path clip-path=\"url(#clip360)\" d=\"M33.8307 471.115 Q33.2578 472.101 33.0032 473.279 Q32.7167 474.425 32.7167 475.825 Q32.7167 480.791 35.9632 483.464 Q39.1779 486.106 45.2253 486.106 L64.0042 486.106 L64.0042 491.994 L28.3562 491.994 L28.3562 486.106 L33.8944 486.106 Q30.6479 484.26 29.0883 481.3 Q27.4968 478.34 27.4968 474.107 Q27.4968 473.502 27.5923 472.77 Q27.656 472.038 27.8151 471.147 L33.8307 471.115 Z\" fill=\"#000000\" fill-rule=\"nonzero\" fill-opacity=\"1\" /><path clip-path=\"url(#clip360)\" d=\"M45.7664 442.66 Q39.4007 442.66 35.8996 445.302 Q32.3984 447.912 32.3984 452.654 Q32.3984 457.365 35.8996 460.007 Q39.4007 462.616 45.7664 462.616 Q52.1003 462.616 55.6014 460.007 Q59.1026 457.365 59.1026 452.654 Q59.1026 447.912 55.6014 445.302 Q52.1003 442.66 45.7664 442.66 M59.58 436.804 Q68.683 436.804 73.1071 440.846 Q77.5631 444.888 77.5631 453.227 Q77.5631 456.314 77.0857 459.052 Q76.6401 461.789 75.6852 464.367 L69.9879 464.367 Q71.3884 461.789 72.0568 459.275 Q72.7252 456.76 72.7252 454.15 Q72.7252 448.389 69.7015 445.525 Q66.7096 442.66 60.6303 442.66 L57.7339 442.66 Q60.885 444.474 62.4446 447.307 Q64.0042 450.14 64.0042 454.086 Q64.0042 460.643 59.0071 464.654 Q54.01 468.664 45.7664 468.664 Q37.491 468.664 32.4939 464.654 Q27.4968 460.643 27.4968 454.086 Q27.4968 450.14 29.0564 447.307 Q30.616 444.474 33.7671 442.66 L28.3562 442.66 L28.3562 436.804 L59.58 436.804 Z\" fill=\"#000000\" fill-rule=\"nonzero\" fill-opacity=\"1\" /><path clip-path=\"url(#clip360)\" d=\"M67.3143 409.908 Q73.68 412.391 75.6216 414.746 Q77.5631 417.102 77.5631 421.048 L77.5631 425.727 L72.6615 425.727 L72.6615 422.29 Q72.6615 419.871 71.5157 418.534 Q70.3699 417.197 66.1048 415.574 L63.4312 414.524 L28.3562 428.942 L28.3562 422.735 L56.238 411.595 L28.3562 400.455 L28.3562 394.249 L67.3143 409.908 Z\" fill=\"#000000\" fill-rule=\"nonzero\" fill-opacity=\"1\" /><path clip-path=\"url(#clip360)\" d=\"M14.5426 351.376 Q21.8632 355.641 29.0246 357.71 Q36.186 359.779 43.5384 359.779 Q50.8908 359.779 58.1159 357.71 Q65.3091 355.609 72.5979 351.376 L72.5979 356.468 Q65.1182 361.243 57.8931 363.63 Q50.668 365.985 43.5384 365.985 Q36.4406 365.985 29.2474 363.63 Q22.0542 361.274 14.5426 356.468 L14.5426 351.376 Z\" fill=\"#000000\" fill-rule=\"nonzero\" fill-opacity=\"1\" /><path clip-path=\"url(#clip360)\" d=\"M22.818 323.876 L46.4666 332.597 L46.4666 315.123 L22.818 323.876 M16.4842 327.504 L16.4842 320.216 L64.0042 302.105 L64.0042 308.789 L51.8138 313.118 L51.8138 334.538 L64.0042 338.867 L64.0042 345.647 L16.4842 327.504 Z\" fill=\"#000000\" fill-rule=\"nonzero\" fill-opacity=\"1\" /><path clip-path=\"url(#clip360)\" d=\"M16.4842 295.899 L16.4842 289.437 L45.3526 289.437 Q52.9915 289.437 56.3653 286.668 Q59.7073 283.899 59.7073 277.693 Q59.7073 271.518 56.3653 268.749 Q52.9915 265.98 45.3526 265.98 L16.4842 265.98 L16.4842 259.519 L46.1484 259.519 Q55.4423 259.519 60.1847 264.134 Q64.9272 268.717 64.9272 277.693 Q64.9272 286.7 60.1847 291.315 Q55.4423 295.899 46.1484 295.899 L16.4842 295.899 Z\" fill=\"#000000\" fill-rule=\"nonzero\" fill-opacity=\"1\" /><path clip-path=\"url(#clip360)\" d=\"M14.5426 248.633 L14.5426 243.541 Q22.0542 238.766 29.2474 236.411 Q36.4406 234.024 43.5384 234.024 Q50.668 234.024 57.8931 236.411 Q65.1182 238.766 72.5979 243.541 L72.5979 248.633 Q65.3091 244.4 58.1159 242.331 Q50.8908 240.231 43.5384 240.231 Q36.186 240.231 29.0246 242.331 Q21.8632 244.4 14.5426 248.633 Z\" fill=\"#000000\" fill-rule=\"nonzero\" fill-opacity=\"1\" /><polyline clip-path=\"url(#clip362)\" style=\"stroke:#000080; stroke-linecap:round; stroke-linejoin:round; stroke-width:8; stroke-opacity:1; fill:none\" points=\"309.067,86.1857 474.414,1238.74 639.761,1304.46 805.108,1336.32 970.455,1358.85 1135.8,1369.93 1301.15,1376.54 1466.5,1379.61 1631.84,1380.59 1797.19,1381.69 1962.54,1382.86 2127.88,1384.03 2293.23,1384.24 \"/>\n",
       "<circle clip-path=\"url(#clip362)\" cx=\"309.067\" cy=\"86.1857\" r=\"14.4\" fill=\"#000080\" fill-rule=\"evenodd\" fill-opacity=\"1\" stroke=\"#000000\" stroke-opacity=\"1\" stroke-width=\"3.2\"/>\n",
       "<circle clip-path=\"url(#clip362)\" cx=\"474.414\" cy=\"1238.74\" r=\"14.4\" fill=\"#000080\" fill-rule=\"evenodd\" fill-opacity=\"1\" stroke=\"#000000\" stroke-opacity=\"1\" stroke-width=\"3.2\"/>\n",
       "<circle clip-path=\"url(#clip362)\" cx=\"639.761\" cy=\"1304.46\" r=\"14.4\" fill=\"#000080\" fill-rule=\"evenodd\" fill-opacity=\"1\" stroke=\"#000000\" stroke-opacity=\"1\" stroke-width=\"3.2\"/>\n",
       "<circle clip-path=\"url(#clip362)\" cx=\"805.108\" cy=\"1336.32\" r=\"14.4\" fill=\"#000080\" fill-rule=\"evenodd\" fill-opacity=\"1\" stroke=\"#000000\" stroke-opacity=\"1\" stroke-width=\"3.2\"/>\n",
       "<circle clip-path=\"url(#clip362)\" cx=\"970.455\" cy=\"1358.85\" r=\"14.4\" fill=\"#000080\" fill-rule=\"evenodd\" fill-opacity=\"1\" stroke=\"#000000\" stroke-opacity=\"1\" stroke-width=\"3.2\"/>\n",
       "<circle clip-path=\"url(#clip362)\" cx=\"1135.8\" cy=\"1369.93\" r=\"14.4\" fill=\"#000080\" fill-rule=\"evenodd\" fill-opacity=\"1\" stroke=\"#000000\" stroke-opacity=\"1\" stroke-width=\"3.2\"/>\n",
       "<circle clip-path=\"url(#clip362)\" cx=\"1301.15\" cy=\"1376.54\" r=\"14.4\" fill=\"#000080\" fill-rule=\"evenodd\" fill-opacity=\"1\" stroke=\"#000000\" stroke-opacity=\"1\" stroke-width=\"3.2\"/>\n",
       "<circle clip-path=\"url(#clip362)\" cx=\"1466.5\" cy=\"1379.61\" r=\"14.4\" fill=\"#000080\" fill-rule=\"evenodd\" fill-opacity=\"1\" stroke=\"#000000\" stroke-opacity=\"1\" stroke-width=\"3.2\"/>\n",
       "<circle clip-path=\"url(#clip362)\" cx=\"1631.84\" cy=\"1380.59\" r=\"14.4\" fill=\"#000080\" fill-rule=\"evenodd\" fill-opacity=\"1\" stroke=\"#000000\" stroke-opacity=\"1\" stroke-width=\"3.2\"/>\n",
       "<circle clip-path=\"url(#clip362)\" cx=\"1797.19\" cy=\"1381.69\" r=\"14.4\" fill=\"#000080\" fill-rule=\"evenodd\" fill-opacity=\"1\" stroke=\"#000000\" stroke-opacity=\"1\" stroke-width=\"3.2\"/>\n",
       "<circle clip-path=\"url(#clip362)\" cx=\"1962.54\" cy=\"1382.86\" r=\"14.4\" fill=\"#000080\" fill-rule=\"evenodd\" fill-opacity=\"1\" stroke=\"#000000\" stroke-opacity=\"1\" stroke-width=\"3.2\"/>\n",
       "<circle clip-path=\"url(#clip362)\" cx=\"2127.88\" cy=\"1384.03\" r=\"14.4\" fill=\"#000080\" fill-rule=\"evenodd\" fill-opacity=\"1\" stroke=\"#000000\" stroke-opacity=\"1\" stroke-width=\"3.2\"/>\n",
       "<circle clip-path=\"url(#clip362)\" cx=\"2293.23\" cy=\"1384.24\" r=\"14.4\" fill=\"#000080\" fill-rule=\"evenodd\" fill-opacity=\"1\" stroke=\"#000000\" stroke-opacity=\"1\" stroke-width=\"3.2\"/>\n",
       "</svg>\n"
      ],
      "text/html": [
       "<?xml version=\"1.0\" encoding=\"utf-8\"?>\n",
       "<svg xmlns=\"http://www.w3.org/2000/svg\" xmlns:xlink=\"http://www.w3.org/1999/xlink\" width=\"600\" height=\"400\" viewBox=\"0 0 2400 1600\">\n",
       "<defs>\n",
       "  <clipPath id=\"clip410\">\n",
       "    <rect x=\"0\" y=\"0\" width=\"2400\" height=\"1600\"/>\n",
       "  </clipPath>\n",
       "</defs>\n",
       "<path clip-path=\"url(#clip410)\" d=\"M0 1600 L2400 1600 L2400 0 L0 0  Z\" fill=\"#ffffff\" fill-rule=\"evenodd\" fill-opacity=\"1\"/>\n",
       "<defs>\n",
       "  <clipPath id=\"clip411\">\n",
       "    <rect x=\"480\" y=\"0\" width=\"1681\" height=\"1600\"/>\n",
       "  </clipPath>\n",
       "</defs>\n",
       "<path clip-path=\"url(#clip410)\" d=\"M249.542 1423.18 L2352.76 1423.18 L2352.76 47.2441 L249.542 47.2441  Z\" fill=\"#ffffff\" fill-rule=\"evenodd\" fill-opacity=\"1\"/>\n",
       "<defs>\n",
       "  <clipPath id=\"clip412\">\n",
       "    <rect x=\"249\" y=\"47\" width=\"2104\" height=\"1377\"/>\n",
       "  </clipPath>\n",
       "</defs>\n",
       "<polyline clip-path=\"url(#clip412)\" style=\"stroke:#000000; stroke-linecap:round; stroke-linejoin:round; stroke-width:2; stroke-opacity:0.1; fill:none\" points=\"557.087,1423.18 557.087,47.2441 \"/>\n",
       "<polyline clip-path=\"url(#clip412)\" style=\"stroke:#000000; stroke-linecap:round; stroke-linejoin:round; stroke-width:2; stroke-opacity:0.1; fill:none\" points=\"970.455,1423.18 970.455,47.2441 \"/>\n",
       "<polyline clip-path=\"url(#clip412)\" style=\"stroke:#000000; stroke-linecap:round; stroke-linejoin:round; stroke-width:2; stroke-opacity:0.1; fill:none\" points=\"1383.82,1423.18 1383.82,47.2441 \"/>\n",
       "<polyline clip-path=\"url(#clip412)\" style=\"stroke:#000000; stroke-linecap:round; stroke-linejoin:round; stroke-width:2; stroke-opacity:0.1; fill:none\" points=\"1797.19,1423.18 1797.19,47.2441 \"/>\n",
       "<polyline clip-path=\"url(#clip412)\" style=\"stroke:#000000; stroke-linecap:round; stroke-linejoin:round; stroke-width:2; stroke-opacity:0.1; fill:none\" points=\"2210.56,1423.18 2210.56,47.2441 \"/>\n",
       "<polyline clip-path=\"url(#clip412)\" style=\"stroke:#000000; stroke-linecap:round; stroke-linejoin:round; stroke-width:2; stroke-opacity:0.1; fill:none\" points=\"249.542,1384.24 2352.76,1384.24 \"/>\n",
       "<polyline clip-path=\"url(#clip412)\" style=\"stroke:#000000; stroke-linecap:round; stroke-linejoin:round; stroke-width:2; stroke-opacity:0.1; fill:none\" points=\"249.542,1059.73 2352.76,1059.73 \"/>\n",
       "<polyline clip-path=\"url(#clip412)\" style=\"stroke:#000000; stroke-linecap:round; stroke-linejoin:round; stroke-width:2; stroke-opacity:0.1; fill:none\" points=\"249.542,735.212 2352.76,735.212 \"/>\n",
       "<polyline clip-path=\"url(#clip412)\" style=\"stroke:#000000; stroke-linecap:round; stroke-linejoin:round; stroke-width:2; stroke-opacity:0.1; fill:none\" points=\"249.542,410.699 2352.76,410.699 \"/>\n",
       "<polyline clip-path=\"url(#clip412)\" style=\"stroke:#000000; stroke-linecap:round; stroke-linejoin:round; stroke-width:2; stroke-opacity:0.1; fill:none\" points=\"249.542,86.1857 2352.76,86.1857 \"/>\n",
       "<polyline clip-path=\"url(#clip410)\" style=\"stroke:#000000; stroke-linecap:round; stroke-linejoin:round; stroke-width:4; stroke-opacity:1; fill:none\" points=\"249.542,1423.18 2352.76,1423.18 \"/>\n",
       "<polyline clip-path=\"url(#clip410)\" style=\"stroke:#000000; stroke-linecap:round; stroke-linejoin:round; stroke-width:4; stroke-opacity:1; fill:none\" points=\"557.087,1423.18 557.087,1404.28 \"/>\n",
       "<polyline clip-path=\"url(#clip410)\" style=\"stroke:#000000; stroke-linecap:round; stroke-linejoin:round; stroke-width:4; stroke-opacity:1; fill:none\" points=\"970.455,1423.18 970.455,1404.28 \"/>\n",
       "<polyline clip-path=\"url(#clip410)\" style=\"stroke:#000000; stroke-linecap:round; stroke-linejoin:round; stroke-width:4; stroke-opacity:1; fill:none\" points=\"1383.82,1423.18 1383.82,1404.28 \"/>\n",
       "<polyline clip-path=\"url(#clip410)\" style=\"stroke:#000000; stroke-linecap:round; stroke-linejoin:round; stroke-width:4; stroke-opacity:1; fill:none\" points=\"1797.19,1423.18 1797.19,1404.28 \"/>\n",
       "<polyline clip-path=\"url(#clip410)\" style=\"stroke:#000000; stroke-linecap:round; stroke-linejoin:round; stroke-width:4; stroke-opacity:1; fill:none\" points=\"2210.56,1423.18 2210.56,1404.28 \"/>\n",
       "<path clip-path=\"url(#clip410)\" d=\"M528.824 1481.64 L545.143 1481.64 L545.143 1485.58 L523.199 1485.58 L523.199 1481.64 Q525.861 1478.89 530.444 1474.26 Q535.051 1469.61 536.231 1468.27 Q538.476 1465.74 539.356 1464.01 Q540.259 1462.25 540.259 1460.56 Q540.259 1457.8 538.314 1456.07 Q536.393 1454.33 533.291 1454.33 Q531.092 1454.33 528.639 1455.09 Q526.208 1455.86 523.43 1457.41 L523.43 1452.69 Q526.254 1451.55 528.708 1450.97 Q531.162 1450.39 533.199 1450.39 Q538.569 1450.39 541.763 1453.08 Q544.958 1455.77 544.958 1460.26 Q544.958 1462.39 544.148 1464.31 Q543.361 1466.2 541.254 1468.8 Q540.676 1469.47 537.574 1472.69 Q534.472 1475.88 528.824 1481.64 Z\" fill=\"#000000\" fill-rule=\"nonzero\" fill-opacity=\"1\" /><path clip-path=\"url(#clip410)\" d=\"M554.958 1479.7 L559.842 1479.7 L559.842 1485.58 L554.958 1485.58 L554.958 1479.7 Z\" fill=\"#000000\" fill-rule=\"nonzero\" fill-opacity=\"1\" /><path clip-path=\"url(#clip410)\" d=\"M570.073 1451.02 L588.43 1451.02 L588.43 1454.96 L574.356 1454.96 L574.356 1463.43 Q575.374 1463.08 576.393 1462.92 Q577.411 1462.73 578.43 1462.73 Q584.217 1462.73 587.597 1465.9 Q590.976 1469.08 590.976 1474.49 Q590.976 1480.07 587.504 1483.17 Q584.032 1486.25 577.712 1486.25 Q575.536 1486.25 573.268 1485.88 Q571.023 1485.51 568.615 1484.77 L568.615 1480.07 Q570.698 1481.2 572.921 1481.76 Q575.143 1482.32 577.62 1482.32 Q581.624 1482.32 583.962 1480.21 Q586.3 1478.1 586.3 1474.49 Q586.3 1470.88 583.962 1468.77 Q581.624 1466.67 577.62 1466.67 Q575.745 1466.67 573.87 1467.08 Q572.018 1467.5 570.073 1468.38 L570.073 1451.02 Z\" fill=\"#000000\" fill-rule=\"nonzero\" fill-opacity=\"1\" /><path clip-path=\"url(#clip410)\" d=\"M937.619 1451.02 L955.976 1451.02 L955.976 1454.96 L941.902 1454.96 L941.902 1463.43 Q942.92 1463.08 943.939 1462.92 Q944.957 1462.73 945.976 1462.73 Q951.763 1462.73 955.143 1465.9 Q958.522 1469.08 958.522 1474.49 Q958.522 1480.07 955.05 1483.17 Q951.578 1486.25 945.258 1486.25 Q943.082 1486.25 940.814 1485.88 Q938.569 1485.51 936.161 1484.77 L936.161 1480.07 Q938.244 1481.2 940.467 1481.76 Q942.689 1482.32 945.166 1482.32 Q949.17 1482.32 951.508 1480.21 Q953.846 1478.1 953.846 1474.49 Q953.846 1470.88 951.508 1468.77 Q949.17 1466.67 945.166 1466.67 Q943.291 1466.67 941.416 1467.08 Q939.564 1467.5 937.619 1468.38 L937.619 1451.02 Z\" fill=\"#000000\" fill-rule=\"nonzero\" fill-opacity=\"1\" /><path clip-path=\"url(#clip410)\" d=\"M967.735 1479.7 L972.619 1479.7 L972.619 1485.58 L967.735 1485.58 L967.735 1479.7 Z\" fill=\"#000000\" fill-rule=\"nonzero\" fill-opacity=\"1\" /><path clip-path=\"url(#clip410)\" d=\"M992.804 1454.1 Q989.193 1454.1 987.365 1457.66 Q985.559 1461.2 985.559 1468.33 Q985.559 1475.44 987.365 1479.01 Q989.193 1482.55 992.804 1482.55 Q996.439 1482.55 998.244 1479.01 Q1000.07 1475.44 1000.07 1468.33 Q1000.07 1461.2 998.244 1457.66 Q996.439 1454.1 992.804 1454.1 M992.804 1450.39 Q998.615 1450.39 1001.67 1455 Q1004.75 1459.58 1004.75 1468.33 Q1004.75 1477.06 1001.67 1481.67 Q998.615 1486.25 992.804 1486.25 Q986.994 1486.25 983.916 1481.67 Q980.86 1477.06 980.86 1468.33 Q980.86 1459.58 983.916 1455 Q986.994 1450.39 992.804 1450.39 Z\" fill=\"#000000\" fill-rule=\"nonzero\" fill-opacity=\"1\" /><path clip-path=\"url(#clip410)\" d=\"M1350.14 1451.02 L1372.36 1451.02 L1372.36 1453.01 L1359.82 1485.58 L1354.93 1485.58 L1366.74 1454.96 L1350.14 1454.96 L1350.14 1451.02 Z\" fill=\"#000000\" fill-rule=\"nonzero\" fill-opacity=\"1\" /><path clip-path=\"url(#clip410)\" d=\"M1381.48 1479.7 L1386.37 1479.7 L1386.37 1485.58 L1381.48 1485.58 L1381.48 1479.7 Z\" fill=\"#000000\" fill-rule=\"nonzero\" fill-opacity=\"1\" /><path clip-path=\"url(#clip410)\" d=\"M1396.6 1451.02 L1414.96 1451.02 L1414.96 1454.96 L1400.88 1454.96 L1400.88 1463.43 Q1401.9 1463.08 1402.92 1462.92 Q1403.94 1462.73 1404.96 1462.73 Q1410.74 1462.73 1414.12 1465.9 Q1417.5 1469.08 1417.5 1474.49 Q1417.5 1480.07 1414.03 1483.17 Q1410.56 1486.25 1404.24 1486.25 Q1402.06 1486.25 1399.79 1485.88 Q1397.55 1485.51 1395.14 1484.77 L1395.14 1480.07 Q1397.23 1481.2 1399.45 1481.76 Q1401.67 1482.32 1404.15 1482.32 Q1408.15 1482.32 1410.49 1480.21 Q1412.83 1478.1 1412.83 1474.49 Q1412.83 1470.88 1410.49 1468.77 Q1408.15 1466.67 1404.15 1466.67 Q1402.27 1466.67 1400.4 1467.08 Q1398.54 1467.5 1396.6 1468.38 L1396.6 1451.02 Z\" fill=\"#000000\" fill-rule=\"nonzero\" fill-opacity=\"1\" /><path clip-path=\"url(#clip410)\" d=\"M1749.26 1481.64 L1756.9 1481.64 L1756.9 1455.28 L1748.59 1456.95 L1748.59 1452.69 L1756.85 1451.02 L1761.53 1451.02 L1761.53 1481.64 L1769.17 1481.64 L1769.17 1485.58 L1749.26 1485.58 L1749.26 1481.64 Z\" fill=\"#000000\" fill-rule=\"nonzero\" fill-opacity=\"1\" /><path clip-path=\"url(#clip410)\" d=\"M1788.61 1454.1 Q1785 1454.1 1783.17 1457.66 Q1781.37 1461.2 1781.37 1468.33 Q1781.37 1475.44 1783.17 1479.01 Q1785 1482.55 1788.61 1482.55 Q1792.25 1482.55 1794.05 1479.01 Q1795.88 1475.44 1795.88 1468.33 Q1795.88 1461.2 1794.05 1457.66 Q1792.25 1454.1 1788.61 1454.1 M1788.61 1450.39 Q1794.42 1450.39 1797.48 1455 Q1800.56 1459.58 1800.56 1468.33 Q1800.56 1477.06 1797.48 1481.67 Q1794.42 1486.25 1788.61 1486.25 Q1782.8 1486.25 1779.72 1481.67 Q1776.67 1477.06 1776.67 1468.33 Q1776.67 1459.58 1779.72 1455 Q1782.8 1450.39 1788.61 1450.39 Z\" fill=\"#000000\" fill-rule=\"nonzero\" fill-opacity=\"1\" /><path clip-path=\"url(#clip410)\" d=\"M1808.78 1479.7 L1813.66 1479.7 L1813.66 1485.58 L1808.78 1485.58 L1808.78 1479.7 Z\" fill=\"#000000\" fill-rule=\"nonzero\" fill-opacity=\"1\" /><path clip-path=\"url(#clip410)\" d=\"M1833.84 1454.1 Q1830.23 1454.1 1828.41 1457.66 Q1826.6 1461.2 1826.6 1468.33 Q1826.6 1475.44 1828.41 1479.01 Q1830.23 1482.55 1833.84 1482.55 Q1837.48 1482.55 1839.28 1479.01 Q1841.11 1475.44 1841.11 1468.33 Q1841.11 1461.2 1839.28 1457.66 Q1837.48 1454.1 1833.84 1454.1 M1833.84 1450.39 Q1839.66 1450.39 1842.71 1455 Q1845.79 1459.58 1845.79 1468.33 Q1845.79 1477.06 1842.71 1481.67 Q1839.66 1486.25 1833.84 1486.25 Q1828.03 1486.25 1824.96 1481.67 Q1821.9 1477.06 1821.9 1468.33 Q1821.9 1459.58 1824.96 1455 Q1828.03 1450.39 1833.84 1450.39 Z\" fill=\"#000000\" fill-rule=\"nonzero\" fill-opacity=\"1\" /><path clip-path=\"url(#clip410)\" d=\"M2163.13 1481.64 L2170.77 1481.64 L2170.77 1455.28 L2162.46 1456.95 L2162.46 1452.69 L2170.72 1451.02 L2175.4 1451.02 L2175.4 1481.64 L2183.03 1481.64 L2183.03 1485.58 L2163.13 1485.58 L2163.13 1481.64 Z\" fill=\"#000000\" fill-rule=\"nonzero\" fill-opacity=\"1\" /><path clip-path=\"url(#clip410)\" d=\"M2196.51 1481.64 L2212.83 1481.64 L2212.83 1485.58 L2190.88 1485.58 L2190.88 1481.64 Q2193.54 1478.89 2198.13 1474.26 Q2202.73 1469.61 2203.91 1468.27 Q2206.16 1465.74 2207.04 1464.01 Q2207.94 1462.25 2207.94 1460.56 Q2207.94 1457.8 2206 1456.07 Q2204.08 1454.33 2200.97 1454.33 Q2198.78 1454.33 2196.32 1455.09 Q2193.89 1455.86 2191.11 1457.41 L2191.11 1452.69 Q2193.94 1451.55 2196.39 1450.97 Q2198.84 1450.39 2200.88 1450.39 Q2206.25 1450.39 2209.45 1453.08 Q2212.64 1455.77 2212.64 1460.26 Q2212.64 1462.39 2211.83 1464.31 Q2211.04 1466.2 2208.94 1468.8 Q2208.36 1469.47 2205.26 1472.69 Q2202.15 1475.88 2196.51 1481.64 Z\" fill=\"#000000\" fill-rule=\"nonzero\" fill-opacity=\"1\" /><path clip-path=\"url(#clip410)\" d=\"M2222.64 1479.7 L2227.52 1479.7 L2227.52 1485.58 L2222.64 1485.58 L2222.64 1479.7 Z\" fill=\"#000000\" fill-rule=\"nonzero\" fill-opacity=\"1\" /><path clip-path=\"url(#clip410)\" d=\"M2237.76 1451.02 L2256.11 1451.02 L2256.11 1454.96 L2242.04 1454.96 L2242.04 1463.43 Q2243.06 1463.08 2244.08 1462.92 Q2245.09 1462.73 2246.11 1462.73 Q2251.9 1462.73 2255.28 1465.9 Q2258.66 1469.08 2258.66 1474.49 Q2258.66 1480.07 2255.19 1483.17 Q2251.71 1486.25 2245.4 1486.25 Q2243.22 1486.25 2240.95 1485.88 Q2238.71 1485.51 2236.3 1484.77 L2236.3 1480.07 Q2238.38 1481.2 2240.6 1481.76 Q2242.83 1482.32 2245.3 1482.32 Q2249.31 1482.32 2251.65 1480.21 Q2253.98 1478.1 2253.98 1474.49 Q2253.98 1470.88 2251.65 1468.77 Q2249.31 1466.67 2245.3 1466.67 Q2243.43 1466.67 2241.55 1467.08 Q2239.7 1467.5 2237.76 1468.38 L2237.76 1451.02 Z\" fill=\"#000000\" fill-rule=\"nonzero\" fill-opacity=\"1\" /><path clip-path=\"url(#clip410)\" d=\"M970.451 1520.52 L976.88 1520.52 L976.88 1568.04 L970.451 1568.04 L970.451 1520.52 Z\" fill=\"#000000\" fill-rule=\"nonzero\" fill-opacity=\"1\" /><path clip-path=\"url(#clip410)\" d=\"M995.213 1522.27 L995.213 1532.4 L1007.28 1532.4 L1007.28 1536.95 L995.213 1536.95 L995.213 1556.3 Q995.213 1560.66 996.391 1561.9 Q997.6 1563.14 1001.26 1563.14 L1007.28 1563.14 L1007.28 1568.04 L1001.26 1568.04 Q994.481 1568.04 991.903 1565.53 Q989.325 1562.98 989.325 1556.3 L989.325 1536.95 L985.028 1536.95 L985.028 1532.4 L989.325 1532.4 L989.325 1522.27 L995.213 1522.27 Z\" fill=\"#000000\" fill-rule=\"nonzero\" fill-opacity=\"1\" /><path clip-path=\"url(#clip410)\" d=\"M1045.47 1548.76 L1045.47 1551.62 L1018.54 1551.62 Q1018.93 1557.67 1022.17 1560.85 Q1025.45 1564 1031.27 1564 Q1034.65 1564 1037.8 1563.17 Q1040.98 1562.35 1044.1 1560.69 L1044.1 1566.23 Q1040.95 1567.57 1037.64 1568.27 Q1034.33 1568.97 1030.92 1568.97 Q1022.39 1568.97 1017.4 1564 Q1012.43 1559.04 1012.43 1550.57 Q1012.43 1541.82 1017.14 1536.69 Q1021.89 1531.54 1029.91 1531.54 Q1037.1 1531.54 1041.27 1536.18 Q1045.47 1540.8 1045.47 1548.76 M1039.61 1547.04 Q1039.55 1542.23 1036.91 1539.37 Q1034.3 1536.5 1029.97 1536.5 Q1025.07 1536.5 1022.11 1539.27 Q1019.18 1542.04 1018.73 1547.07 L1039.61 1547.04 Z\" fill=\"#000000\" fill-rule=\"nonzero\" fill-opacity=\"1\" /><path clip-path=\"url(#clip410)\" d=\"M1075.74 1537.87 Q1074.75 1537.3 1073.57 1537.04 Q1072.43 1536.76 1071.03 1536.76 Q1066.06 1536.76 1063.39 1540 Q1060.75 1543.22 1060.75 1549.27 L1060.75 1568.04 L1054.86 1568.04 L1054.86 1532.4 L1060.75 1532.4 L1060.75 1537.93 Q1062.59 1534.69 1065.55 1533.13 Q1068.51 1531.54 1072.75 1531.54 Q1073.35 1531.54 1074.08 1531.63 Q1074.82 1531.7 1075.71 1531.85 L1075.74 1537.87 Z\" fill=\"#000000\" fill-rule=\"nonzero\" fill-opacity=\"1\" /><path clip-path=\"url(#clip410)\" d=\"M1098.08 1550.12 Q1090.99 1550.12 1088.25 1551.75 Q1085.51 1553.37 1085.51 1557.29 Q1085.51 1560.4 1087.55 1562.25 Q1089.62 1564.07 1093.15 1564.07 Q1098.02 1564.07 1100.95 1560.63 Q1103.91 1557.16 1103.91 1551.43 L1103.91 1550.12 L1098.08 1550.12 M1109.76 1547.71 L1109.76 1568.04 L1103.91 1568.04 L1103.91 1562.63 Q1101.9 1565.88 1098.91 1567.44 Q1095.92 1568.97 1091.59 1568.97 Q1086.12 1568.97 1082.87 1565.91 Q1079.65 1562.82 1079.65 1557.67 Q1079.65 1551.65 1083.66 1548.6 Q1087.71 1545.54 1095.7 1545.54 L1103.91 1545.54 L1103.91 1544.97 Q1103.91 1540.93 1101.23 1538.73 Q1098.59 1536.5 1093.79 1536.5 Q1090.73 1536.5 1087.83 1537.23 Q1084.94 1537.97 1082.26 1539.43 L1082.26 1534.02 Q1085.48 1532.78 1088.5 1532.17 Q1091.53 1531.54 1094.39 1531.54 Q1102.13 1531.54 1105.94 1535.55 Q1109.76 1539.56 1109.76 1547.71 Z\" fill=\"#000000\" fill-rule=\"nonzero\" fill-opacity=\"1\" /><path clip-path=\"url(#clip410)\" d=\"M1127.62 1522.27 L1127.62 1532.4 L1139.68 1532.4 L1139.68 1536.95 L1127.62 1536.95 L1127.62 1556.3 Q1127.62 1560.66 1128.8 1561.9 Q1130.01 1563.14 1133.67 1563.14 L1139.68 1563.14 L1139.68 1568.04 L1133.67 1568.04 Q1126.89 1568.04 1124.31 1565.53 Q1121.73 1562.98 1121.73 1556.3 L1121.73 1536.95 L1117.43 1536.95 L1117.43 1532.4 L1121.73 1532.4 L1121.73 1522.27 L1127.62 1522.27 Z\" fill=\"#000000\" fill-rule=\"nonzero\" fill-opacity=\"1\" /><path clip-path=\"url(#clip410)\" d=\"M1147.39 1532.4 L1153.24 1532.4 L1153.24 1568.04 L1147.39 1568.04 L1147.39 1532.4 M1147.39 1518.52 L1153.24 1518.52 L1153.24 1525.93 L1147.39 1525.93 L1147.39 1518.52 Z\" fill=\"#000000\" fill-rule=\"nonzero\" fill-opacity=\"1\" /><path clip-path=\"url(#clip410)\" d=\"M1179.31 1536.5 Q1174.6 1536.5 1171.86 1540.19 Q1169.12 1543.85 1169.12 1550.25 Q1169.12 1556.65 1171.83 1560.34 Q1174.57 1564 1179.31 1564 Q1183.99 1564 1186.73 1560.31 Q1189.46 1556.62 1189.46 1550.25 Q1189.46 1543.92 1186.73 1540.23 Q1183.99 1536.5 1179.31 1536.5 M1179.31 1531.54 Q1186.95 1531.54 1191.31 1536.5 Q1195.67 1541.47 1195.67 1550.25 Q1195.67 1559 1191.31 1564 Q1186.95 1568.97 1179.31 1568.97 Q1171.64 1568.97 1167.28 1564 Q1162.95 1559 1162.95 1550.25 Q1162.95 1541.47 1167.28 1536.5 Q1171.64 1531.54 1179.31 1531.54 Z\" fill=\"#000000\" fill-rule=\"nonzero\" fill-opacity=\"1\" /><path clip-path=\"url(#clip410)\" d=\"M1235.01 1546.53 L1235.01 1568.04 L1229.15 1568.04 L1229.15 1546.72 Q1229.15 1541.66 1227.18 1539.14 Q1225.21 1536.63 1221.26 1536.63 Q1216.52 1536.63 1213.78 1539.65 Q1211.04 1542.68 1211.04 1547.9 L1211.04 1568.04 L1205.15 1568.04 L1205.15 1532.4 L1211.04 1532.4 L1211.04 1537.93 Q1213.14 1534.72 1215.98 1533.13 Q1218.84 1531.54 1222.56 1531.54 Q1228.71 1531.54 1231.86 1535.36 Q1235.01 1539.14 1235.01 1546.53 Z\" fill=\"#000000\" fill-rule=\"nonzero\" fill-opacity=\"1\" /><path clip-path=\"url(#clip410)\" d=\"M1269.42 1533.45 L1269.42 1538.98 Q1266.93 1537.71 1264.26 1537.07 Q1261.59 1536.44 1258.72 1536.44 Q1254.36 1536.44 1252.16 1537.77 Q1250 1539.11 1250 1541.79 Q1250 1543.82 1251.56 1545 Q1253.12 1546.15 1257.83 1547.2 L1259.84 1547.64 Q1266.07 1548.98 1268.68 1551.43 Q1271.33 1553.85 1271.33 1558.21 Q1271.33 1563.17 1267.38 1566.07 Q1263.46 1568.97 1256.59 1568.97 Q1253.72 1568.97 1250.61 1568.39 Q1247.52 1567.85 1244.08 1566.74 L1244.08 1560.69 Q1247.33 1562.38 1250.48 1563.24 Q1253.63 1564.07 1256.72 1564.07 Q1260.85 1564.07 1263.08 1562.66 Q1265.31 1561.23 1265.31 1558.65 Q1265.31 1556.27 1263.69 1554.99 Q1262.1 1553.72 1256.65 1552.54 L1254.62 1552.07 Q1249.17 1550.92 1246.75 1548.56 Q1244.34 1546.18 1244.34 1542.04 Q1244.34 1537.01 1247.9 1534.27 Q1251.46 1531.54 1258.02 1531.54 Q1261.27 1531.54 1264.13 1532.01 Q1267 1532.49 1269.42 1533.45 Z\" fill=\"#000000\" fill-rule=\"nonzero\" fill-opacity=\"1\" /><path clip-path=\"url(#clip410)\" d=\"M1301.37 1532.4 L1307.23 1532.4 L1307.23 1568.04 L1301.37 1568.04 L1301.37 1532.4 M1301.37 1518.52 L1307.23 1518.52 L1307.23 1525.93 L1301.37 1525.93 L1301.37 1518.52 Z\" fill=\"#000000\" fill-rule=\"nonzero\" fill-opacity=\"1\" /><path clip-path=\"url(#clip410)\" d=\"M1349.11 1546.53 L1349.11 1568.04 L1343.26 1568.04 L1343.26 1546.72 Q1343.26 1541.66 1341.28 1539.14 Q1339.31 1536.63 1335.36 1536.63 Q1330.62 1536.63 1327.88 1539.65 Q1325.15 1542.68 1325.15 1547.9 L1325.15 1568.04 L1319.26 1568.04 L1319.26 1532.4 L1325.15 1532.4 L1325.15 1537.93 Q1327.25 1534.72 1330.08 1533.13 Q1332.95 1531.54 1336.67 1531.54 Q1342.81 1531.54 1345.96 1535.36 Q1349.11 1539.14 1349.11 1546.53 Z\" fill=\"#000000\" fill-rule=\"nonzero\" fill-opacity=\"1\" /><path clip-path=\"url(#clip410)\" d=\"M1384.25 1537.81 L1384.25 1518.52 L1390.11 1518.52 L1390.11 1568.04 L1384.25 1568.04 L1384.25 1562.7 Q1382.41 1565.88 1379.57 1567.44 Q1376.77 1568.97 1372.83 1568.97 Q1366.37 1568.97 1362.29 1563.81 Q1358.25 1558.65 1358.25 1550.25 Q1358.25 1541.85 1362.29 1536.69 Q1366.37 1531.54 1372.83 1531.54 Q1376.77 1531.54 1379.57 1533.1 Q1382.41 1534.62 1384.25 1537.81 M1364.3 1550.25 Q1364.3 1556.71 1366.94 1560.4 Q1369.61 1564.07 1374.26 1564.07 Q1378.91 1564.07 1381.58 1560.4 Q1384.25 1556.71 1384.25 1550.25 Q1384.25 1543.79 1381.58 1540.13 Q1378.91 1536.44 1374.26 1536.44 Q1369.61 1536.44 1366.94 1540.13 Q1364.3 1543.79 1364.3 1550.25 Z\" fill=\"#000000\" fill-rule=\"nonzero\" fill-opacity=\"1\" /><path clip-path=\"url(#clip410)\" d=\"M1432.66 1548.76 L1432.66 1551.62 L1405.74 1551.62 Q1406.12 1557.67 1409.37 1560.85 Q1412.64 1564 1418.47 1564 Q1421.84 1564 1424.99 1563.17 Q1428.18 1562.35 1431.3 1560.69 L1431.3 1566.23 Q1428.14 1567.57 1424.83 1568.27 Q1421.52 1568.97 1418.12 1568.97 Q1409.59 1568.97 1404.59 1564 Q1399.63 1559.04 1399.63 1550.57 Q1399.63 1541.82 1404.34 1536.69 Q1409.08 1531.54 1417.1 1531.54 Q1424.29 1531.54 1428.46 1536.18 Q1432.66 1540.8 1432.66 1548.76 M1426.81 1547.04 Q1426.74 1542.23 1424.1 1539.37 Q1421.49 1536.5 1417.16 1536.5 Q1412.26 1536.5 1409.3 1539.27 Q1406.37 1542.04 1405.93 1547.07 L1426.81 1547.04 Z\" fill=\"#000000\" fill-rule=\"nonzero\" fill-opacity=\"1\" /><path clip-path=\"url(#clip410)\" d=\"M1470.76 1532.4 L1457.87 1549.74 L1471.43 1568.04 L1464.52 1568.04 L1454.15 1554.04 L1443.77 1568.04 L1436.87 1568.04 L1450.71 1549.39 L1438.04 1532.4 L1444.95 1532.4 L1454.4 1545.1 L1463.86 1532.4 L1470.76 1532.4 Z\" fill=\"#000000\" fill-rule=\"nonzero\" fill-opacity=\"1\" /><path clip-path=\"url(#clip410)\" d=\"M1514.5 1518.58 Q1510.23 1525.9 1508.16 1533.06 Q1506.09 1540.23 1506.09 1547.58 Q1506.09 1554.93 1508.16 1562.16 Q1510.26 1569.35 1514.5 1576.64 L1509.4 1576.64 Q1504.63 1569.16 1502.24 1561.93 Q1499.89 1554.71 1499.89 1547.58 Q1499.89 1540.48 1502.24 1533.29 Q1504.6 1526.09 1509.4 1518.58 L1514.5 1518.58 Z\" fill=\"#000000\" fill-rule=\"nonzero\" fill-opacity=\"1\" /><path clip-path=\"url(#clip410)\" d=\"M1542 1526.86 L1533.27 1550.51 L1550.75 1550.51 L1542 1526.86 M1538.37 1520.52 L1545.66 1520.52 L1563.77 1568.04 L1557.08 1568.04 L1552.75 1555.85 L1531.33 1555.85 L1527 1568.04 L1520.22 1568.04 L1538.37 1520.52 Z\" fill=\"#000000\" fill-rule=\"nonzero\" fill-opacity=\"1\" /><path clip-path=\"url(#clip410)\" d=\"M1569.97 1520.52 L1576.43 1520.52 L1576.43 1549.39 Q1576.43 1557.03 1579.2 1560.4 Q1581.97 1563.75 1588.18 1563.75 Q1594.35 1563.75 1597.12 1560.4 Q1599.89 1557.03 1599.89 1549.39 L1599.89 1520.52 L1606.35 1520.52 L1606.35 1550.19 Q1606.35 1559.48 1601.74 1564.22 Q1597.15 1568.97 1588.18 1568.97 Q1579.17 1568.97 1574.56 1564.22 Q1569.97 1559.48 1569.97 1550.19 L1569.97 1520.52 Z\" fill=\"#000000\" fill-rule=\"nonzero\" fill-opacity=\"1\" /><path clip-path=\"url(#clip410)\" d=\"M1617.24 1518.58 L1622.33 1518.58 Q1627.1 1526.09 1629.46 1533.29 Q1631.85 1540.48 1631.85 1547.58 Q1631.85 1554.71 1629.46 1561.93 Q1627.1 1569.16 1622.33 1576.64 L1617.24 1576.64 Q1621.47 1569.35 1623.54 1562.16 Q1625.64 1554.93 1625.64 1547.58 Q1625.64 1540.23 1623.54 1533.06 Q1621.47 1525.9 1617.24 1518.58 Z\" fill=\"#000000\" fill-rule=\"nonzero\" fill-opacity=\"1\" /><polyline clip-path=\"url(#clip410)\" style=\"stroke:#000000; stroke-linecap:round; stroke-linejoin:round; stroke-width:4; stroke-opacity:1; fill:none\" points=\"249.542,1423.18 249.542,47.2441 \"/>\n",
       "<polyline clip-path=\"url(#clip410)\" style=\"stroke:#000000; stroke-linecap:round; stroke-linejoin:round; stroke-width:4; stroke-opacity:1; fill:none\" points=\"249.542,1384.24 268.44,1384.24 \"/>\n",
       "<polyline clip-path=\"url(#clip410)\" style=\"stroke:#000000; stroke-linecap:round; stroke-linejoin:round; stroke-width:4; stroke-opacity:1; fill:none\" points=\"249.542,1059.73 268.44,1059.73 \"/>\n",
       "<polyline clip-path=\"url(#clip410)\" style=\"stroke:#000000; stroke-linecap:round; stroke-linejoin:round; stroke-width:4; stroke-opacity:1; fill:none\" points=\"249.542,735.212 268.44,735.212 \"/>\n",
       "<polyline clip-path=\"url(#clip410)\" style=\"stroke:#000000; stroke-linecap:round; stroke-linejoin:round; stroke-width:4; stroke-opacity:1; fill:none\" points=\"249.542,410.699 268.44,410.699 \"/>\n",
       "<polyline clip-path=\"url(#clip410)\" style=\"stroke:#000000; stroke-linecap:round; stroke-linejoin:round; stroke-width:4; stroke-opacity:1; fill:none\" points=\"249.542,86.1857 268.44,86.1857 \"/>\n",
       "<path clip-path=\"url(#clip410)\" d=\"M126.205 1370.04 Q122.593 1370.04 120.765 1373.6 Q118.959 1377.14 118.959 1384.27 Q118.959 1391.38 120.765 1394.94 Q122.593 1398.49 126.205 1398.49 Q129.839 1398.49 131.644 1394.94 Q133.473 1391.38 133.473 1384.27 Q133.473 1377.14 131.644 1373.6 Q129.839 1370.04 126.205 1370.04 M126.205 1366.33 Q132.015 1366.33 135.07 1370.94 Q138.149 1375.52 138.149 1384.27 Q138.149 1393 135.07 1397.61 Q132.015 1402.19 126.205 1402.19 Q120.394 1402.19 117.316 1397.61 Q114.26 1393 114.26 1384.27 Q114.26 1375.52 117.316 1370.94 Q120.394 1366.33 126.205 1366.33 Z\" fill=\"#000000\" fill-rule=\"nonzero\" fill-opacity=\"1\" /><path clip-path=\"url(#clip410)\" d=\"M146.366 1395.64 L151.251 1395.64 L151.251 1401.52 L146.366 1401.52 L146.366 1395.64 Z\" fill=\"#000000\" fill-rule=\"nonzero\" fill-opacity=\"1\" /><path clip-path=\"url(#clip410)\" d=\"M171.436 1370.04 Q167.825 1370.04 165.996 1373.6 Q164.19 1377.14 164.19 1384.27 Q164.19 1391.38 165.996 1394.94 Q167.825 1398.49 171.436 1398.49 Q175.07 1398.49 176.876 1394.94 Q178.704 1391.38 178.704 1384.27 Q178.704 1377.14 176.876 1373.6 Q175.07 1370.04 171.436 1370.04 M171.436 1366.33 Q177.246 1366.33 180.301 1370.94 Q183.38 1375.52 183.38 1384.27 Q183.38 1393 180.301 1397.61 Q177.246 1402.19 171.436 1402.19 Q165.626 1402.19 162.547 1397.61 Q159.491 1393 159.491 1384.27 Q159.491 1375.52 162.547 1370.94 Q165.626 1366.33 171.436 1366.33 Z\" fill=\"#000000\" fill-rule=\"nonzero\" fill-opacity=\"1\" /><path clip-path=\"url(#clip410)\" d=\"M201.598 1370.04 Q197.987 1370.04 196.158 1373.6 Q194.352 1377.14 194.352 1384.27 Q194.352 1391.38 196.158 1394.94 Q197.987 1398.49 201.598 1398.49 Q205.232 1398.49 207.037 1394.94 Q208.866 1391.38 208.866 1384.27 Q208.866 1377.14 207.037 1373.6 Q205.232 1370.04 201.598 1370.04 M201.598 1366.33 Q207.408 1366.33 210.463 1370.94 Q213.542 1375.52 213.542 1384.27 Q213.542 1393 210.463 1397.61 Q207.408 1402.19 201.598 1402.19 Q195.787 1402.19 192.709 1397.61 Q189.653 1393 189.653 1384.27 Q189.653 1375.52 192.709 1370.94 Q195.787 1366.33 201.598 1366.33 Z\" fill=\"#000000\" fill-rule=\"nonzero\" fill-opacity=\"1\" /><path clip-path=\"url(#clip410)\" d=\"M127.2 1045.52 Q123.589 1045.52 121.76 1049.09 Q119.955 1052.63 119.955 1059.76 Q119.955 1066.87 121.76 1070.43 Q123.589 1073.97 127.2 1073.97 Q130.834 1073.97 132.64 1070.43 Q134.468 1066.87 134.468 1059.76 Q134.468 1052.63 132.64 1049.09 Q130.834 1045.52 127.2 1045.52 M127.2 1041.82 Q133.01 1041.82 136.066 1046.43 Q139.144 1051.01 139.144 1059.76 Q139.144 1068.49 136.066 1073.09 Q133.01 1077.68 127.2 1077.68 Q121.39 1077.68 118.311 1073.09 Q115.256 1068.49 115.256 1059.76 Q115.256 1051.01 118.311 1046.43 Q121.39 1041.82 127.2 1041.82 Z\" fill=\"#000000\" fill-rule=\"nonzero\" fill-opacity=\"1\" /><path clip-path=\"url(#clip410)\" d=\"M147.362 1071.13 L152.246 1071.13 L152.246 1077.01 L147.362 1077.01 L147.362 1071.13 Z\" fill=\"#000000\" fill-rule=\"nonzero\" fill-opacity=\"1\" /><path clip-path=\"url(#clip410)\" d=\"M166.459 1073.07 L182.778 1073.07 L182.778 1077.01 L160.834 1077.01 L160.834 1073.07 Q163.496 1070.32 168.079 1065.69 Q172.686 1061.03 173.866 1059.69 Q176.112 1057.17 176.991 1055.43 Q177.894 1053.67 177.894 1051.98 Q177.894 1049.23 175.95 1047.49 Q174.028 1045.76 170.927 1045.76 Q168.727 1045.76 166.274 1046.52 Q163.843 1047.28 161.065 1048.83 L161.065 1044.11 Q163.89 1042.98 166.343 1042.4 Q168.797 1041.82 170.834 1041.82 Q176.204 1041.82 179.399 1044.51 Q182.593 1047.19 182.593 1051.68 Q182.593 1053.81 181.783 1055.73 Q180.996 1057.63 178.889 1060.22 Q178.311 1060.89 175.209 1064.11 Q172.107 1067.31 166.459 1073.07 Z\" fill=\"#000000\" fill-rule=\"nonzero\" fill-opacity=\"1\" /><path clip-path=\"url(#clip410)\" d=\"M192.639 1042.45 L210.996 1042.45 L210.996 1046.38 L196.922 1046.38 L196.922 1054.85 Q197.94 1054.51 198.959 1054.34 Q199.977 1054.16 200.996 1054.16 Q206.783 1054.16 210.162 1057.33 Q213.542 1060.5 213.542 1065.92 Q213.542 1071.5 210.07 1074.6 Q206.598 1077.68 200.278 1077.68 Q198.102 1077.68 195.834 1077.31 Q193.588 1076.94 191.181 1076.19 L191.181 1071.5 Q193.264 1072.63 195.487 1073.19 Q197.709 1073.74 200.186 1073.74 Q204.19 1073.74 206.528 1071.63 Q208.866 1069.53 208.866 1065.92 Q208.866 1062.31 206.528 1060.2 Q204.19 1058.09 200.186 1058.09 Q198.311 1058.09 196.436 1058.51 Q194.584 1058.93 192.639 1059.81 L192.639 1042.45 Z\" fill=\"#000000\" fill-rule=\"nonzero\" fill-opacity=\"1\" /><path clip-path=\"url(#clip410)\" d=\"M126.205 721.011 Q122.593 721.011 120.765 724.575 Q118.959 728.117 118.959 735.247 Q118.959 742.353 120.765 745.918 Q122.593 749.46 126.205 749.46 Q129.839 749.46 131.644 745.918 Q133.473 742.353 133.473 735.247 Q133.473 728.117 131.644 724.575 Q129.839 721.011 126.205 721.011 M126.205 717.307 Q132.015 717.307 135.07 721.913 Q138.149 726.497 138.149 735.247 Q138.149 743.973 135.07 748.58 Q132.015 753.163 126.205 753.163 Q120.394 753.163 117.316 748.58 Q114.26 743.973 114.26 735.247 Q114.26 726.497 117.316 721.913 Q120.394 717.307 126.205 717.307 Z\" fill=\"#000000\" fill-rule=\"nonzero\" fill-opacity=\"1\" /><path clip-path=\"url(#clip410)\" d=\"M146.366 746.612 L151.251 746.612 L151.251 752.492 L146.366 752.492 L146.366 746.612 Z\" fill=\"#000000\" fill-rule=\"nonzero\" fill-opacity=\"1\" /><path clip-path=\"url(#clip410)\" d=\"M161.482 717.932 L179.839 717.932 L179.839 721.867 L165.765 721.867 L165.765 730.339 Q166.783 729.992 167.802 729.83 Q168.82 729.645 169.839 729.645 Q175.626 729.645 179.005 732.816 Q182.385 735.987 182.385 741.404 Q182.385 746.983 178.913 750.085 Q175.44 753.163 169.121 753.163 Q166.945 753.163 164.677 752.793 Q162.431 752.423 160.024 751.682 L160.024 746.983 Q162.107 748.117 164.329 748.673 Q166.552 749.228 169.028 749.228 Q173.033 749.228 175.371 747.122 Q177.709 745.015 177.709 741.404 Q177.709 737.793 175.371 735.687 Q173.033 733.58 169.028 733.58 Q167.153 733.58 165.278 733.997 Q163.427 734.413 161.482 735.293 L161.482 717.932 Z\" fill=\"#000000\" fill-rule=\"nonzero\" fill-opacity=\"1\" /><path clip-path=\"url(#clip410)\" d=\"M201.598 721.011 Q197.987 721.011 196.158 724.575 Q194.352 728.117 194.352 735.247 Q194.352 742.353 196.158 745.918 Q197.987 749.46 201.598 749.46 Q205.232 749.46 207.037 745.918 Q208.866 742.353 208.866 735.247 Q208.866 728.117 207.037 724.575 Q205.232 721.011 201.598 721.011 M201.598 717.307 Q207.408 717.307 210.463 721.913 Q213.542 726.497 213.542 735.247 Q213.542 743.973 210.463 748.58 Q207.408 753.163 201.598 753.163 Q195.787 753.163 192.709 748.58 Q189.653 743.973 189.653 735.247 Q189.653 726.497 192.709 721.913 Q195.787 717.307 201.598 717.307 Z\" fill=\"#000000\" fill-rule=\"nonzero\" fill-opacity=\"1\" /><path clip-path=\"url(#clip410)\" d=\"M127.2 396.498 Q123.589 396.498 121.76 400.062 Q119.955 403.604 119.955 410.734 Q119.955 417.84 121.76 421.405 Q123.589 424.946 127.2 424.946 Q130.834 424.946 132.64 421.405 Q134.468 417.84 134.468 410.734 Q134.468 403.604 132.64 400.062 Q130.834 396.498 127.2 396.498 M127.2 392.794 Q133.01 392.794 136.066 397.4 Q139.144 401.984 139.144 410.734 Q139.144 419.46 136.066 424.067 Q133.01 428.65 127.2 428.65 Q121.39 428.65 118.311 424.067 Q115.256 419.46 115.256 410.734 Q115.256 401.984 118.311 397.4 Q121.39 392.794 127.2 392.794 Z\" fill=\"#000000\" fill-rule=\"nonzero\" fill-opacity=\"1\" /><path clip-path=\"url(#clip410)\" d=\"M147.362 422.099 L152.246 422.099 L152.246 427.979 L147.362 427.979 L147.362 422.099 Z\" fill=\"#000000\" fill-rule=\"nonzero\" fill-opacity=\"1\" /><path clip-path=\"url(#clip410)\" d=\"M161.251 393.419 L183.473 393.419 L183.473 395.41 L170.927 427.979 L166.042 427.979 L177.848 397.354 L161.251 397.354 L161.251 393.419 Z\" fill=\"#000000\" fill-rule=\"nonzero\" fill-opacity=\"1\" /><path clip-path=\"url(#clip410)\" d=\"M192.639 393.419 L210.996 393.419 L210.996 397.354 L196.922 397.354 L196.922 405.826 Q197.94 405.479 198.959 405.317 Q199.977 405.132 200.996 405.132 Q206.783 405.132 210.162 408.303 Q213.542 411.474 213.542 416.891 Q213.542 422.47 210.07 425.571 Q206.598 428.65 200.278 428.65 Q198.102 428.65 195.834 428.28 Q193.588 427.909 191.181 427.169 L191.181 422.47 Q193.264 423.604 195.487 424.159 Q197.709 424.715 200.186 424.715 Q204.19 424.715 206.528 422.608 Q208.866 420.502 208.866 416.891 Q208.866 413.28 206.528 411.173 Q204.19 409.067 200.186 409.067 Q198.311 409.067 196.436 409.484 Q194.584 409.9 192.639 410.78 L192.639 393.419 Z\" fill=\"#000000\" fill-rule=\"nonzero\" fill-opacity=\"1\" /><path clip-path=\"url(#clip410)\" d=\"M117.015 99.5305 L124.654 99.5305 L124.654 73.1649 L116.343 74.8316 L116.343 70.5723 L124.607 68.9057 L129.283 68.9057 L129.283 99.5305 L136.922 99.5305 L136.922 103.466 L117.015 103.466 L117.015 99.5305 Z\" fill=\"#000000\" fill-rule=\"nonzero\" fill-opacity=\"1\" /><path clip-path=\"url(#clip410)\" d=\"M146.366 97.5861 L151.251 97.5861 L151.251 103.466 L146.366 103.466 L146.366 97.5861 Z\" fill=\"#000000\" fill-rule=\"nonzero\" fill-opacity=\"1\" /><path clip-path=\"url(#clip410)\" d=\"M171.436 71.9844 Q167.825 71.9844 165.996 75.5492 Q164.19 79.0908 164.19 86.2204 Q164.19 93.3268 165.996 96.8916 Q167.825 100.433 171.436 100.433 Q175.07 100.433 176.876 96.8916 Q178.704 93.3268 178.704 86.2204 Q178.704 79.0908 176.876 75.5492 Q175.07 71.9844 171.436 71.9844 M171.436 68.2807 Q177.246 68.2807 180.301 72.8871 Q183.38 77.4704 183.38 86.2204 Q183.38 94.9472 180.301 99.5537 Q177.246 104.137 171.436 104.137 Q165.626 104.137 162.547 99.5537 Q159.491 94.9472 159.491 86.2204 Q159.491 77.4704 162.547 72.8871 Q165.626 68.2807 171.436 68.2807 Z\" fill=\"#000000\" fill-rule=\"nonzero\" fill-opacity=\"1\" /><path clip-path=\"url(#clip410)\" d=\"M201.598 71.9844 Q197.987 71.9844 196.158 75.5492 Q194.352 79.0908 194.352 86.2204 Q194.352 93.3268 196.158 96.8916 Q197.987 100.433 201.598 100.433 Q205.232 100.433 207.037 96.8916 Q208.866 93.3268 208.866 86.2204 Q208.866 79.0908 207.037 75.5492 Q205.232 71.9844 201.598 71.9844 M201.598 68.2807 Q207.408 68.2807 210.463 72.8871 Q213.542 77.4704 213.542 86.2204 Q213.542 94.9472 210.463 99.5537 Q207.408 104.137 201.598 104.137 Q195.787 104.137 192.709 99.5537 Q189.653 94.9472 189.653 86.2204 Q189.653 77.4704 192.709 72.8871 Q195.787 68.2807 201.598 68.2807 Z\" fill=\"#000000\" fill-rule=\"nonzero\" fill-opacity=\"1\" /><path clip-path=\"url(#clip410)\" d=\"M20.7174 1219.98 Q20.7174 1224.94 25.6189 1227.46 Q30.4887 1229.94 40.2919 1229.94 Q50.0633 1229.94 54.9649 1227.46 Q59.8346 1224.94 59.8346 1219.98 Q59.8346 1214.98 54.9649 1212.5 Q50.0633 1209.98 40.2919 1209.98 Q30.4887 1209.98 25.6189 1212.5 Q20.7174 1214.98 20.7174 1219.98 M15.6248 1219.98 Q15.6248 1211.99 21.9587 1207.79 Q28.2607 1203.55 40.2919 1203.55 Q52.2913 1203.55 58.6251 1207.79 Q64.9272 1211.99 64.9272 1219.98 Q64.9272 1227.97 58.6251 1232.2 Q52.2913 1236.4 40.2919 1236.4 Q28.2607 1236.4 21.9587 1232.2 Q15.6248 1227.97 15.6248 1219.98 Z\" fill=\"#000000\" fill-rule=\"nonzero\" fill-opacity=\"1\" /><path clip-path=\"url(#clip410)\" d=\"M55.9197 1191.59 L55.9197 1184.87 L61.3942 1184.87 L71.5793 1190.09 L71.5793 1194.2 L61.3942 1191.59 L55.9197 1191.59 Z\" fill=\"#000000\" fill-rule=\"nonzero\" fill-opacity=\"1\" /><path clip-path=\"url(#clip410)\" d=\"M58.5933 1170.42 L58.5933 1159.92 L22.3406 1159.92 L24.6323 1171.34 L18.7758 1171.34 L16.4842 1159.98 L16.4842 1153.55 L58.5933 1153.55 L58.5933 1143.05 L64.0042 1143.05 L64.0042 1170.42 L58.5933 1170.42 Z\" fill=\"#000000\" fill-rule=\"nonzero\" fill-opacity=\"1\" /><path clip-path=\"url(#clip410)\" d=\"M43.5384 1133.85 L43.5384 1116.69 L48.7583 1116.69 L48.7583 1133.85 L43.5384 1133.85 Z\" fill=\"#000000\" fill-rule=\"nonzero\" fill-opacity=\"1\" /><path clip-path=\"url(#clip410)\" d=\"M18.0438 1078.63 L24.314 1078.63 Q22.5634 1082.29 21.704 1085.53 Q20.8447 1088.78 20.8447 1091.8 Q20.8447 1097.05 22.8817 1099.92 Q24.9187 1102.75 28.6745 1102.75 Q31.8255 1102.75 33.4488 1100.87 Q35.0402 1098.96 36.0269 1093.68 L36.8226 1089.8 Q38.1912 1082.6 41.6605 1079.2 Q45.098 1075.76 50.8908 1075.76 Q57.7976 1075.76 61.3624 1080.41 Q64.9272 1085.02 64.9272 1093.97 Q64.9272 1097.34 64.1633 1101.16 Q63.3994 1104.95 61.9035 1109.02 L55.2831 1109.02 Q57.4793 1105.11 58.5933 1101.35 Q59.7073 1097.6 59.7073 1093.97 Q59.7073 1088.46 57.543 1085.47 Q55.3786 1082.48 51.3682 1082.48 Q47.8671 1082.48 45.8937 1084.64 Q43.9204 1086.77 42.9337 1091.68 L42.1698 1095.59 Q40.7375 1102.78 37.682 1106 Q34.6264 1109.21 29.1837 1109.21 Q22.8817 1109.21 19.2532 1104.79 Q15.6248 1100.33 15.6248 1092.53 Q15.6248 1089.19 16.2295 1085.72 Q16.8343 1082.25 18.0438 1078.63 Z\" fill=\"#000000\" fill-rule=\"nonzero\" fill-opacity=\"1\" /><path clip-path=\"url(#clip410)\" d=\"M29.7248 1040.34 L35.1993 1040.34 Q33.8307 1042.82 33.1623 1045.33 Q32.4621 1047.82 32.4621 1050.36 Q32.4621 1056.06 36.0905 1059.21 Q39.6872 1062.36 46.212 1062.36 Q52.7369 1062.36 56.3653 1059.21 Q59.9619 1056.06 59.9619 1050.36 Q59.9619 1047.82 59.2935 1045.33 Q58.5933 1042.82 57.2247 1040.34 L62.6355 1040.34 Q63.7814 1042.79 64.3543 1045.43 Q64.9272 1048.04 64.9272 1051 Q64.9272 1059.05 59.8664 1063.79 Q54.8057 1068.54 46.212 1068.54 Q37.491 1068.54 32.4939 1063.76 Q27.4968 1058.96 27.4968 1050.62 Q27.4968 1047.91 28.0697 1045.33 Q28.6108 1042.76 29.7248 1040.34 Z\" fill=\"#000000\" fill-rule=\"nonzero\" fill-opacity=\"1\" /><path clip-path=\"url(#clip410)\" d=\"M46.0847 1013.95 Q46.0847 1021.05 47.7079 1023.79 Q49.3312 1026.52 53.2461 1026.52 Q56.3653 1026.52 58.2114 1024.49 Q60.0256 1022.42 60.0256 1018.88 Q60.0256 1014.01 56.5881 1011.09 Q53.1188 1008.13 47.3897 1008.13 L46.0847 1008.13 L46.0847 1013.95 M43.6657 1002.27 L64.0042 1002.27 L64.0042 1008.13 L58.5933 1008.13 Q61.8398 1010.13 63.3994 1013.12 Q64.9272 1016.11 64.9272 1020.44 Q64.9272 1025.92 61.8716 1029.16 Q58.7843 1032.38 53.6281 1032.38 Q47.6125 1032.38 44.5569 1028.37 Q41.5014 1024.33 41.5014 1016.34 L41.5014 1008.13 L40.9285 1008.13 Q36.8862 1008.13 34.6901 1010.8 Q32.4621 1013.44 32.4621 1018.25 Q32.4621 1021.3 33.1941 1024.2 Q33.9262 1027.1 35.3903 1029.77 L29.9795 1029.77 Q28.7381 1026.55 28.1334 1023.53 Q27.4968 1020.51 27.4968 1017.64 Q27.4968 1009.91 31.5072 1006.09 Q35.5176 1002.27 43.6657 1002.27 Z\" fill=\"#000000\" fill-rule=\"nonzero\" fill-opacity=\"1\" /><path clip-path=\"url(#clip410)\" d=\"M14.479 990.206 L14.479 984.35 L64.0042 984.35 L64.0042 990.206 L14.479 990.206 Z\" fill=\"#000000\" fill-rule=\"nonzero\" fill-opacity=\"1\" /><path clip-path=\"url(#clip410)\" d=\"M44.7161 941.604 L47.5806 941.604 L47.5806 968.531 Q53.6281 968.149 56.8109 964.903 Q59.9619 961.624 59.9619 955.8 Q59.9619 952.426 59.1344 949.275 Q58.3069 946.092 56.6518 942.973 L62.1899 942.973 Q63.5267 946.124 64.227 949.434 Q64.9272 952.744 64.9272 956.15 Q64.9272 964.68 59.9619 969.677 Q54.9967 974.642 46.5303 974.642 Q37.7774 974.642 32.6531 969.931 Q27.4968 965.189 27.4968 957.168 Q27.4968 949.975 32.1438 945.805 Q36.7589 941.604 44.7161 941.604 M42.9973 947.461 Q38.1912 947.524 35.3266 950.166 Q32.4621 952.776 32.4621 957.105 Q32.4621 962.006 35.2312 964.966 Q38.0002 967.894 43.0292 968.34 L42.9973 947.461 Z\" fill=\"#000000\" fill-rule=\"nonzero\" fill-opacity=\"1\" /><path clip-path=\"url(#clip410)\" d=\"M33.7671 908.534 L14.479 908.534 L14.479 902.678 L64.0042 902.678 L64.0042 908.534 L58.657 908.534 Q61.8398 910.38 63.3994 913.213 Q64.9272 916.014 64.9272 919.961 Q64.9272 926.422 59.771 930.496 Q54.6147 934.538 46.212 934.538 Q37.8093 934.538 32.6531 930.496 Q27.4968 926.422 27.4968 919.961 Q27.4968 916.014 29.0564 913.213 Q30.5842 910.38 33.7671 908.534 M46.212 928.491 Q52.6732 928.491 56.3653 925.849 Q60.0256 923.175 60.0256 918.528 Q60.0256 913.881 56.3653 911.208 Q52.6732 908.534 46.212 908.534 Q39.7508 908.534 36.0905 911.208 Q32.3984 913.881 32.3984 918.528 Q32.3984 923.175 36.0905 925.849 Q39.7508 928.491 46.212 928.491 Z\" fill=\"#000000\" fill-rule=\"nonzero\" fill-opacity=\"1\" /><path clip-path=\"url(#clip410)\" d=\"M21.7677 863.21 L39.6235 863.21 L39.6235 855.126 Q39.6235 850.638 37.3 848.187 Q34.9765 845.737 30.6797 845.737 Q26.4147 845.737 24.0912 848.187 Q21.7677 850.638 21.7677 855.126 L21.7677 863.21 M16.4842 869.64 L16.4842 855.126 Q16.4842 847.137 20.1126 843.063 Q23.7092 838.957 30.6797 838.957 Q37.7138 838.957 41.3104 843.063 Q44.907 847.137 44.907 855.126 L44.907 863.21 L64.0042 863.21 L64.0042 869.64 L16.4842 869.64 Z\" fill=\"#000000\" fill-rule=\"nonzero\" fill-opacity=\"1\" /><path clip-path=\"url(#clip410)\" d=\"M29.4065 809.006 L34.9447 809.006 Q33.6716 811.489 33.035 814.163 Q32.3984 816.836 32.3984 819.701 Q32.3984 824.061 33.7352 826.257 Q35.072 828.422 37.7456 828.422 Q39.7826 828.422 40.9603 826.862 Q42.1061 825.303 43.1565 820.592 L43.6021 818.587 Q44.9389 812.348 47.3897 809.738 Q49.8086 807.097 54.1691 807.097 Q59.1344 807.097 62.0308 811.043 Q64.9272 814.958 64.9272 821.833 Q64.9272 824.698 64.3543 827.817 Q63.8132 830.904 62.6992 834.342 L56.6518 834.342 Q58.3387 831.095 59.198 827.944 Q60.0256 824.793 60.0256 821.706 Q60.0256 817.568 58.6251 815.34 Q57.1929 813.112 54.6147 813.112 Q52.2276 813.112 50.9545 814.736 Q49.6813 816.327 48.5037 821.77 L48.0262 823.807 Q46.8804 829.249 44.5251 831.668 Q42.138 834.087 38.0002 834.087 Q32.9713 834.087 30.2341 830.523 Q27.4968 826.958 27.4968 820.401 Q27.4968 817.155 27.9743 814.29 Q28.4517 811.425 29.4065 809.006 Z\" fill=\"#000000\" fill-rule=\"nonzero\" fill-opacity=\"1\" /><path clip-path=\"url(#clip410)\" d=\"M44.7161 767.279 L47.5806 767.279 L47.5806 794.206 Q53.6281 793.824 56.8109 790.578 Q59.9619 787.299 59.9619 781.475 Q59.9619 778.101 59.1344 774.95 Q58.3069 771.767 56.6518 768.648 L62.1899 768.648 Q63.5267 771.799 64.227 775.109 Q64.9272 778.419 64.9272 781.825 Q64.9272 790.355 59.9619 795.352 Q54.9967 800.317 46.5303 800.317 Q37.7774 800.317 32.6531 795.607 Q27.4968 790.864 27.4968 782.843 Q27.4968 775.65 32.1438 771.481 Q36.7589 767.279 44.7161 767.279 M42.9973 773.136 Q38.1912 773.199 35.3266 775.841 Q32.4621 778.451 32.4621 782.78 Q32.4621 787.681 35.2312 790.641 Q38.0002 793.57 43.0292 794.015 L42.9973 773.136 Z\" fill=\"#000000\" fill-rule=\"nonzero\" fill-opacity=\"1\" /><path clip-path=\"url(#clip410)\" d=\"M49.9359 758.272 L28.3562 758.272 L28.3562 752.415 L49.7131 752.415 Q54.7739 752.415 57.3202 750.442 Q59.8346 748.469 59.8346 744.522 Q59.8346 739.779 56.8109 737.042 Q53.7872 734.273 48.5673 734.273 L28.3562 734.273 L28.3562 728.417 L64.0042 728.417 L64.0042 734.273 L58.5296 734.273 Q61.7762 736.406 63.3676 739.238 Q64.9272 742.039 64.9272 745.763 Q64.9272 751.906 61.1078 755.089 Q57.2883 758.272 49.9359 758.272 M27.4968 743.535 L27.4968 743.535 Z\" fill=\"#000000\" fill-rule=\"nonzero\" fill-opacity=\"1\" /><path clip-path=\"url(#clip410)\" d=\"M33.7671 692.896 L14.479 692.896 L14.479 687.039 L64.0042 687.039 L64.0042 692.896 L58.657 692.896 Q61.8398 694.742 63.3994 697.575 Q64.9272 700.376 64.9272 704.322 Q64.9272 710.784 59.771 714.858 Q54.6147 718.9 46.212 718.9 Q37.8093 718.9 32.6531 714.858 Q27.4968 710.784 27.4968 704.322 Q27.4968 700.376 29.0564 697.575 Q30.5842 694.742 33.7671 692.896 M46.212 712.852 Q52.6732 712.852 56.3653 710.211 Q60.0256 707.537 60.0256 702.89 Q60.0256 698.243 56.3653 695.57 Q52.6732 692.896 46.212 692.896 Q39.7508 692.896 36.0905 695.57 Q32.3984 698.243 32.3984 702.89 Q32.3984 707.537 36.0905 710.211 Q39.7508 712.852 46.212 712.852 Z\" fill=\"#000000\" fill-rule=\"nonzero\" fill-opacity=\"1\" /><path clip-path=\"url(#clip410)\" d=\"M32.4621 661.163 Q32.4621 665.874 36.1542 668.611 Q39.8145 671.348 46.212 671.348 Q52.6095 671.348 56.3017 668.643 Q59.9619 665.905 59.9619 661.163 Q59.9619 656.484 56.2698 653.747 Q52.5777 651.01 46.212 651.01 Q39.8781 651.01 36.186 653.747 Q32.4621 656.484 32.4621 661.163 M27.4968 661.163 Q27.4968 653.524 32.4621 649.164 Q37.4273 644.803 46.212 644.803 Q54.9649 644.803 59.9619 649.164 Q64.9272 653.524 64.9272 661.163 Q64.9272 668.834 59.9619 673.194 Q54.9649 677.523 46.212 677.523 Q37.4273 677.523 32.4621 673.194 Q27.4968 668.834 27.4968 661.163 Z\" fill=\"#000000\" fill-rule=\"nonzero\" fill-opacity=\"1\" /><path clip-path=\"url(#clip410)\" d=\"M16.4842 614.12 L16.4842 584.074 L21.895 584.074 L21.895 607.691 L35.9632 607.691 L35.9632 585.061 L41.3741 585.061 L41.3741 607.691 L58.5933 607.691 L58.5933 583.501 L64.0042 583.501 L64.0042 614.12 L16.4842 614.12 Z\" fill=\"#000000\" fill-rule=\"nonzero\" fill-opacity=\"1\" /><path clip-path=\"url(#clip410)\" d=\"M42.4881 543.556 L64.0042 543.556 L64.0042 549.413 L42.679 549.413 Q37.6183 549.413 35.1038 551.386 Q32.5894 553.36 32.5894 557.306 Q32.5894 562.049 35.6131 564.786 Q38.6368 567.523 43.8567 567.523 L64.0042 567.523 L64.0042 573.412 L28.3562 573.412 L28.3562 567.523 L33.8944 567.523 Q30.6797 565.423 29.0883 562.59 Q27.4968 559.725 27.4968 556.001 Q27.4968 549.859 31.3163 546.707 Q35.1038 543.556 42.4881 543.556 Z\" fill=\"#000000\" fill-rule=\"nonzero\" fill-opacity=\"1\" /><path clip-path=\"url(#clip410)\" d=\"M44.7161 501.384 L47.5806 501.384 L47.5806 528.311 Q53.6281 527.929 56.8109 524.682 Q59.9619 521.404 59.9619 515.579 Q59.9619 512.205 59.1344 509.054 Q58.3069 505.871 56.6518 502.752 L62.1899 502.752 Q63.5267 505.903 64.227 509.213 Q64.9272 512.524 64.9272 515.929 Q64.9272 524.459 59.9619 529.456 Q54.9967 534.422 46.5303 534.422 Q37.7774 534.422 32.6531 529.711 Q27.4968 524.969 27.4968 516.948 Q27.4968 509.755 32.1438 505.585 Q36.7589 501.384 44.7161 501.384 M42.9973 507.24 Q38.1912 507.304 35.3266 509.946 Q32.4621 512.555 32.4621 516.884 Q32.4621 521.786 35.2312 524.746 Q38.0002 527.674 43.0292 528.12 L42.9973 507.24 Z\" fill=\"#000000\" fill-rule=\"nonzero\" fill-opacity=\"1\" /><path clip-path=\"url(#clip410)\" d=\"M33.8307 471.115 Q33.2578 472.101 33.0032 473.279 Q32.7167 474.425 32.7167 475.825 Q32.7167 480.791 35.9632 483.464 Q39.1779 486.106 45.2253 486.106 L64.0042 486.106 L64.0042 491.994 L28.3562 491.994 L28.3562 486.106 L33.8944 486.106 Q30.6479 484.26 29.0883 481.3 Q27.4968 478.34 27.4968 474.107 Q27.4968 473.502 27.5923 472.77 Q27.656 472.038 27.8151 471.147 L33.8307 471.115 Z\" fill=\"#000000\" fill-rule=\"nonzero\" fill-opacity=\"1\" /><path clip-path=\"url(#clip410)\" d=\"M45.7664 442.66 Q39.4007 442.66 35.8996 445.302 Q32.3984 447.912 32.3984 452.654 Q32.3984 457.365 35.8996 460.007 Q39.4007 462.616 45.7664 462.616 Q52.1003 462.616 55.6014 460.007 Q59.1026 457.365 59.1026 452.654 Q59.1026 447.912 55.6014 445.302 Q52.1003 442.66 45.7664 442.66 M59.58 436.804 Q68.683 436.804 73.1071 440.846 Q77.5631 444.888 77.5631 453.227 Q77.5631 456.314 77.0857 459.052 Q76.6401 461.789 75.6852 464.367 L69.9879 464.367 Q71.3884 461.789 72.0568 459.275 Q72.7252 456.76 72.7252 454.15 Q72.7252 448.389 69.7015 445.525 Q66.7096 442.66 60.6303 442.66 L57.7339 442.66 Q60.885 444.474 62.4446 447.307 Q64.0042 450.14 64.0042 454.086 Q64.0042 460.643 59.0071 464.654 Q54.01 468.664 45.7664 468.664 Q37.491 468.664 32.4939 464.654 Q27.4968 460.643 27.4968 454.086 Q27.4968 450.14 29.0564 447.307 Q30.616 444.474 33.7671 442.66 L28.3562 442.66 L28.3562 436.804 L59.58 436.804 Z\" fill=\"#000000\" fill-rule=\"nonzero\" fill-opacity=\"1\" /><path clip-path=\"url(#clip410)\" d=\"M67.3143 409.908 Q73.68 412.391 75.6216 414.746 Q77.5631 417.102 77.5631 421.048 L77.5631 425.727 L72.6615 425.727 L72.6615 422.29 Q72.6615 419.871 71.5157 418.534 Q70.3699 417.197 66.1048 415.574 L63.4312 414.524 L28.3562 428.942 L28.3562 422.735 L56.238 411.595 L28.3562 400.455 L28.3562 394.249 L67.3143 409.908 Z\" fill=\"#000000\" fill-rule=\"nonzero\" fill-opacity=\"1\" /><path clip-path=\"url(#clip410)\" d=\"M14.5426 351.376 Q21.8632 355.641 29.0246 357.71 Q36.186 359.779 43.5384 359.779 Q50.8908 359.779 58.1159 357.71 Q65.3091 355.609 72.5979 351.376 L72.5979 356.468 Q65.1182 361.243 57.8931 363.63 Q50.668 365.985 43.5384 365.985 Q36.4406 365.985 29.2474 363.63 Q22.0542 361.274 14.5426 356.468 L14.5426 351.376 Z\" fill=\"#000000\" fill-rule=\"nonzero\" fill-opacity=\"1\" /><path clip-path=\"url(#clip410)\" d=\"M22.818 323.876 L46.4666 332.597 L46.4666 315.123 L22.818 323.876 M16.4842 327.504 L16.4842 320.216 L64.0042 302.105 L64.0042 308.789 L51.8138 313.118 L51.8138 334.538 L64.0042 338.867 L64.0042 345.647 L16.4842 327.504 Z\" fill=\"#000000\" fill-rule=\"nonzero\" fill-opacity=\"1\" /><path clip-path=\"url(#clip410)\" d=\"M16.4842 295.899 L16.4842 289.437 L45.3526 289.437 Q52.9915 289.437 56.3653 286.668 Q59.7073 283.899 59.7073 277.693 Q59.7073 271.518 56.3653 268.749 Q52.9915 265.98 45.3526 265.98 L16.4842 265.98 L16.4842 259.519 L46.1484 259.519 Q55.4423 259.519 60.1847 264.134 Q64.9272 268.717 64.9272 277.693 Q64.9272 286.7 60.1847 291.315 Q55.4423 295.899 46.1484 295.899 L16.4842 295.899 Z\" fill=\"#000000\" fill-rule=\"nonzero\" fill-opacity=\"1\" /><path clip-path=\"url(#clip410)\" d=\"M14.5426 248.633 L14.5426 243.541 Q22.0542 238.766 29.2474 236.411 Q36.4406 234.024 43.5384 234.024 Q50.668 234.024 57.8931 236.411 Q65.1182 238.766 72.5979 243.541 L72.5979 248.633 Q65.3091 244.4 58.1159 242.331 Q50.8908 240.231 43.5384 240.231 Q36.186 240.231 29.0246 242.331 Q21.8632 244.4 14.5426 248.633 Z\" fill=\"#000000\" fill-rule=\"nonzero\" fill-opacity=\"1\" /><polyline clip-path=\"url(#clip412)\" style=\"stroke:#000080; stroke-linecap:round; stroke-linejoin:round; stroke-width:8; stroke-opacity:1; fill:none\" points=\"309.067,86.1857 474.414,1238.74 639.761,1304.46 805.108,1336.32 970.455,1358.85 1135.8,1369.93 1301.15,1376.54 1466.5,1379.61 1631.84,1380.59 1797.19,1381.69 1962.54,1382.86 2127.88,1384.03 2293.23,1384.24 \"/>\n",
       "<circle clip-path=\"url(#clip412)\" cx=\"309.067\" cy=\"86.1857\" r=\"14.4\" fill=\"#000080\" fill-rule=\"evenodd\" fill-opacity=\"1\" stroke=\"#000000\" stroke-opacity=\"1\" stroke-width=\"3.2\"/>\n",
       "<circle clip-path=\"url(#clip412)\" cx=\"474.414\" cy=\"1238.74\" r=\"14.4\" fill=\"#000080\" fill-rule=\"evenodd\" fill-opacity=\"1\" stroke=\"#000000\" stroke-opacity=\"1\" stroke-width=\"3.2\"/>\n",
       "<circle clip-path=\"url(#clip412)\" cx=\"639.761\" cy=\"1304.46\" r=\"14.4\" fill=\"#000080\" fill-rule=\"evenodd\" fill-opacity=\"1\" stroke=\"#000000\" stroke-opacity=\"1\" stroke-width=\"3.2\"/>\n",
       "<circle clip-path=\"url(#clip412)\" cx=\"805.108\" cy=\"1336.32\" r=\"14.4\" fill=\"#000080\" fill-rule=\"evenodd\" fill-opacity=\"1\" stroke=\"#000000\" stroke-opacity=\"1\" stroke-width=\"3.2\"/>\n",
       "<circle clip-path=\"url(#clip412)\" cx=\"970.455\" cy=\"1358.85\" r=\"14.4\" fill=\"#000080\" fill-rule=\"evenodd\" fill-opacity=\"1\" stroke=\"#000000\" stroke-opacity=\"1\" stroke-width=\"3.2\"/>\n",
       "<circle clip-path=\"url(#clip412)\" cx=\"1135.8\" cy=\"1369.93\" r=\"14.4\" fill=\"#000080\" fill-rule=\"evenodd\" fill-opacity=\"1\" stroke=\"#000000\" stroke-opacity=\"1\" stroke-width=\"3.2\"/>\n",
       "<circle clip-path=\"url(#clip412)\" cx=\"1301.15\" cy=\"1376.54\" r=\"14.4\" fill=\"#000080\" fill-rule=\"evenodd\" fill-opacity=\"1\" stroke=\"#000000\" stroke-opacity=\"1\" stroke-width=\"3.2\"/>\n",
       "<circle clip-path=\"url(#clip412)\" cx=\"1466.5\" cy=\"1379.61\" r=\"14.4\" fill=\"#000080\" fill-rule=\"evenodd\" fill-opacity=\"1\" stroke=\"#000000\" stroke-opacity=\"1\" stroke-width=\"3.2\"/>\n",
       "<circle clip-path=\"url(#clip412)\" cx=\"1631.84\" cy=\"1380.59\" r=\"14.4\" fill=\"#000080\" fill-rule=\"evenodd\" fill-opacity=\"1\" stroke=\"#000000\" stroke-opacity=\"1\" stroke-width=\"3.2\"/>\n",
       "<circle clip-path=\"url(#clip412)\" cx=\"1797.19\" cy=\"1381.69\" r=\"14.4\" fill=\"#000080\" fill-rule=\"evenodd\" fill-opacity=\"1\" stroke=\"#000000\" stroke-opacity=\"1\" stroke-width=\"3.2\"/>\n",
       "<circle clip-path=\"url(#clip412)\" cx=\"1962.54\" cy=\"1382.86\" r=\"14.4\" fill=\"#000080\" fill-rule=\"evenodd\" fill-opacity=\"1\" stroke=\"#000000\" stroke-opacity=\"1\" stroke-width=\"3.2\"/>\n",
       "<circle clip-path=\"url(#clip412)\" cx=\"2127.88\" cy=\"1384.03\" r=\"14.4\" fill=\"#000080\" fill-rule=\"evenodd\" fill-opacity=\"1\" stroke=\"#000000\" stroke-opacity=\"1\" stroke-width=\"3.2\"/>\n",
       "<circle clip-path=\"url(#clip412)\" cx=\"2293.23\" cy=\"1384.24\" r=\"14.4\" fill=\"#000080\" fill-rule=\"evenodd\" fill-opacity=\"1\" stroke=\"#000000\" stroke-opacity=\"1\" stroke-width=\"3.2\"/>\n",
       "</svg>\n"
      ]
     },
     "execution_count": 27,
     "metadata": {},
     "output_type": "execute_result"
    }
   ],
   "source": [
    "let\n",
    "\n",
    "    iterations = range(1,stop=result.loopcount,step=1) |> collect; # iteration count vector\n",
    "    plot(iterations,energy_array, lw=2, c=:navy, label=\"\") \n",
    "    scatter!(iterations, energy_array, c=:navy, label=\"\")\n",
    "    xlabel!(\"Iterations index (AU)\", fontsize=18)\n",
    "    ylabel!(\"0,1-Scaled Pseudo Energy (AU)\", fontsize=18)\n",
    "end"
   ]
  },
  {
   "cell_type": "markdown",
   "id": "ab4aa663-dd7d-44a4-8ede-1df146b83860",
   "metadata": {
    "jp-MarkdownHeadingCollapsed": true
   },
   "source": [
    "### Method 1: Silhouette method\n",
    "The silhouette method evaluates data consistency in clusters. The score ranges from -1 to 1; a high score means a data point fits well in its cluster but not in neighboring ones. The number of clusters $K$ is likely correct if most points score high. Conversely, many low scores suggest there may be too many or too few clusters. \n",
    "* The silhouette method is exported by [the `Clustering.jl` package](https://github.com/JuliaStats/Clustering.jl), so let's choose the buy side of the buy versus bill trade and use the prebuilt implementation of clustering and evaluation of the performance of the clustering. "
   ]
  },
  {
   "cell_type": "code",
   "execution_count": 30,
   "id": "86339d26-b85c-4fa1-973f-2ab636bbbe7f",
   "metadata": {},
   "outputs": [],
   "source": [
    "performance_array_silhouette = let\n",
    "\n",
    "    number_of_clusters_to_explore = 10;\n",
    "    KA = range(2,stop=number_of_clusters_to_explore, step=1) |> collect;\n",
    "    tmp = Array{Float64,2}(undef, length(KA), 2);\n",
    "\n",
    "    for i ∈ eachindex(KA)\n",
    "\n",
    "        Kᵢ = KA[i]; # how many clusters?\n",
    "        R = kmeans(transpose(D),  Kᵢ; maxiter=maxiter, display=:none) # sensitive to the choice of maxiter. # Clustering.jl use the transpose of our method\n",
    "        M = R.centers # get the cluster centers\n",
    "        a = assignments(R) # get the assignments of points to clusters\n",
    "        value = clustering_quality(transpose(D), a; quality_index = :silhouettes)\n",
    "        \n",
    "        tmp[i,1] = Kᵢ;\n",
    "        tmp[i,2] = value;\n",
    "    end\n",
    "    tmp\n",
    "end;"
   ]
  },
  {
   "cell_type": "code",
   "execution_count": 31,
   "id": "71e402f5-e271-40ce-aad3-72f0ca494ff9",
   "metadata": {},
   "outputs": [
    {
     "data": {
      "text/plain": [
       "9×2 Matrix{Float64}:\n",
       "  2.0  0.17751\n",
       "  3.0  0.168409\n",
       "  4.0  0.12616\n",
       "  5.0  0.145365\n",
       "  6.0  0.14271\n",
       "  7.0  0.158538\n",
       "  8.0  0.125832\n",
       "  9.0  0.14831\n",
       " 10.0  0.177445"
      ]
     },
     "execution_count": 31,
     "metadata": {},
     "output_type": "execute_result"
    }
   ],
   "source": [
    "performance_array_silhouette"
   ]
  },
  {
   "cell_type": "code",
   "execution_count": 32,
   "id": "2c8a0b1a-5993-42bd-84fb-10a15fd3fcbe",
   "metadata": {},
   "outputs": [
    {
     "name": "stdout",
     "output_type": "stream",
     "text": [
      "Predicted number of clusters by the silhouette method : 2.0\n"
     ]
    }
   ],
   "source": [
    "k₁ = let\n",
    "    kopt = argmax(performance_array_silhouette[:,2]) |> j -> performance_array_silhouette[j,1]\n",
    "    println(\"Predicted number of clusters by the silhouette method : $(kopt)\")\n",
    "    kopt;\n",
    "end;"
   ]
  },
  {
   "cell_type": "markdown",
   "id": "862f3287-3f0b-4931-94f2-b78e377e55d5",
   "metadata": {},
   "source": [
    "### Method 2: Calinski–Harabasz index (CHI)\n",
    "The [Calinski–Harabasz index (CHI)](https://en.wikipedia.org/wiki/Calinski%E2%80%93Harabasz_index), also known as the Variance Ratio Criterion, is a widely used metric for assessing the quality of clustering algorithms. Introduced by [Tadeusz Caliński and Jerzy Harabasz in 1974](https://www.tandfonline.com/doi/abs/10.1080/03610927408827101), it evaluates the clustering performance by comparing the ratio of between-cluster variance to within-cluster variance, with higher values indicating better-defined clusters\n",
    "* The CHI method is exported by [the `Clustering.jl` package](https://github.com/JuliaStats/Clustering.jl), so let's choose the buy side of the buy versus bill trade and use the prebuilt implementation of clustering and evaluation of the performance of the clustering. "
   ]
  },
  {
   "cell_type": "code",
   "execution_count": 34,
   "id": "c5870872-dd52-4ea1-b75b-7a15e3c5ba97",
   "metadata": {},
   "outputs": [],
   "source": [
    "performance_array_CHI = let\n",
    "\n",
    "    number_of_samples = size(D,1);\n",
    "    number_of_features = size(D,2);\n",
    "    number_of_clusters_to_explore = 10;\n",
    "    KA = range(2,stop=number_of_clusters_to_explore, step=1) |> collect;\n",
    "    tmp = Array{Float64,2}(undef, number_of_clusters_to_explore-1, 2);\n",
    "\n",
    "    for i ∈ eachindex(KA)\n",
    "\n",
    "        Kᵢ = KA[i]; # how many clusters?\n",
    "        R = kmeans(transpose(D), Kᵢ; maxiter=maxiter, display=:none); # Clustering.jl use the transpose of our method\n",
    "        M = R.centers # get the cluster centers\n",
    "        a = assignments(R) # get the assignments of points to clusters\n",
    "        value = clustering_quality(transpose(D), M, a; quality_index = :calinski_harabasz)\n",
    "        \n",
    "        tmp[i,1] = Kᵢ;\n",
    "        tmp[i,2] = value;\n",
    "    end\n",
    "    tmp\n",
    "end;"
   ]
  },
  {
   "cell_type": "code",
   "execution_count": 35,
   "id": "47642c17-de97-45fb-958a-5fb8c825a7b6",
   "metadata": {},
   "outputs": [
    {
     "name": "stdout",
     "output_type": "stream",
     "text": [
      "Predicted number of clusters by CHI: 2.0\n"
     ]
    }
   ],
   "source": [
    "k₂ = let\n",
    "    kopt = argmax(performance_array_CHI[:,2]) |> j -> performance_array_CHI[j,1]\n",
    "    println(\"Predicted number of clusters by CHI: $(kopt)\")\n",
    "    kopt;\n",
    "end;"
   ]
  },
  {
   "cell_type": "markdown",
   "id": "6e974678-cc11-45d9-a135-5e0a9ffde961",
   "metadata": {},
   "source": [
    "### Method 3: Xie Beni index (XBI)\n",
    "The Xie-Beni index measures the ratio between the summed inertia of clusters and the minimum distance between cluster centers. See: \n",
    "\n",
    "* [M. Muranishi, K. Honda and A. Notsu, \"Application of xie-beni-type validity index to fuzzy co-clustering models based on cluster aggregation and pseudo-cluster-center estimation,\" 2014 14th International Conference on Intelligent Systems Design and Applications, Okinawa, Japan, 2014, pp. 34-38, doi: 10.1109/ISDA.2014.7066274.](https://ieeexplore.ieee.org/document/7066274)\n",
    "* The Xie-Beni method is exported by [the `Clustering.jl` package](https://github.com/JuliaStats/Clustering.jl), so let's choose the buy side of the buy versus bill trade and use the prebuilt implementation of clustering and evaluation of the performance of the clustering. "
   ]
  },
  {
   "cell_type": "code",
   "execution_count": 37,
   "id": "a8c382d3-2f66-4c94-b2b1-7925090dfb0a",
   "metadata": {
    "jupyter": {
     "source_hidden": true
    }
   },
   "outputs": [],
   "source": [
    "performance_array_xie_beni = let\n",
    "\n",
    "    number_of_samples = size(D,1);\n",
    "    number_of_features = size(D,2);\n",
    "    number_of_clusters_to_explore = 10;\n",
    "    KA = range(2,stop=number_of_clusters_to_explore, step=1) |> collect;\n",
    "    tmp = Array{Float64,2}(undef, number_of_clusters_to_explore-1, 2);\n",
    "\n",
    "    for i ∈ eachindex(KA)\n",
    "\n",
    "        Kᵢ = KA[i]; # how many clusters?\n",
    "        R = kmeans(transpose(D), Kᵢ; maxiter=maxiter, display=:none); # Clustering.jl use the transpose of our method\n",
    "        M = R.centers # get the cluster centers\n",
    "        a = assignments(R) # get the assignments of points to clusters\n",
    "        value = clustering_quality(transpose(D), M, a; quality_index = :xie_beni)\n",
    "        \n",
    "        tmp[i,1] = Kᵢ;\n",
    "        tmp[i,2] = value;\n",
    "    end\n",
    "    tmp\n",
    "end;"
   ]
  },
  {
   "cell_type": "code",
   "execution_count": 38,
   "id": "dfadf518-cff2-4a8d-b49f-b71654d2f6a4",
   "metadata": {},
   "outputs": [
    {
     "name": "stdout",
     "output_type": "stream",
     "text": [
      "Predicted number of clusters by XBI: 10.0\n"
     ]
    }
   ],
   "source": [
    "k₃ = let\n",
    "    kopt = argmin(performance_array_xie_beni[:,2]) |> j -> performance_array_xie_beni[j,1]\n",
    "    println(\"Predicted number of clusters by XBI: $(kopt)\")\n",
    "    kopt;\n",
    "end;"
   ]
  },
  {
   "cell_type": "markdown",
   "id": "24894224-bde2-4e5b-a5df-3f9012a91b38",
   "metadata": {},
   "source": [
    "Finally, let's compute $K^{\\star}$ (the number of clusters we should choose):"
   ]
  },
  {
   "cell_type": "code",
   "execution_count": 40,
   "id": "fbb7a8b4-9c10-49a9-89ca-cf5c240bfffd",
   "metadata": {},
   "outputs": [
    {
     "data": {
      "text/plain": [
       "2.0"
      ]
     },
     "execution_count": 40,
     "metadata": {},
     "output_type": "execute_result"
    }
   ],
   "source": [
    "K = minimum([k₁,k₂,k₃])"
   ]
  },
  {
   "cell_type": "markdown",
   "id": "f6f08ec4-7eb8-4af5-800f-4066decfb26c",
   "metadata": {},
   "source": [
    "## Task 2: Interpretation of the clusters\n",
    "We've run the clustering algorithm on the clinical dataset. Now, let's figure out what is in each cluster. In particular, specify which cluster we want to analyze in the `my_cluster_index::Int64` variable, where `my_cluster_index` $\\in\\left\\{1,2,\\dots,K\\right\\}$."
   ]
  },
  {
   "cell_type": "code",
   "execution_count": 83,
   "id": "1f5b214f-6485-4e28-93fb-a06037ade9c8",
   "metadata": {},
   "outputs": [],
   "source": [
    "my_cluster_index = 2; # i ∈ {1,2,...,K}"
   ]
  },
  {
   "cell_type": "markdown",
   "id": "ae8e075f-0da8-461a-a403-3c3f49d1f9c1",
   "metadata": {},
   "source": [
    "Next, let's make a table [using the `pretty_table(...)` function exported by the `PrettyTables.jl` package](https://github.com/ronisbr/PrettyTables.jl) which displays the raw data associated with `my_cluster_index::Int64`. This table will display the raw (scaled) data from `D::Array{Float64,2}`. "
   ]
  },
  {
   "cell_type": "code",
   "execution_count": 85,
   "id": "ed5b8c9c-7f97-413d-adce-9d931bccb0b5",
   "metadata": {},
   "outputs": [
    {
     "name": "stdout",
     "output_type": "stream",
     "text": [
      "======== ======= ============ ========= ===================== ============== ========= ========\n",
      " \u001b[1m     c \u001b[0m \u001b[1m    id \u001b[0m \u001b[1m        age \u001b[0m \u001b[1m  gender \u001b[0m \u001b[1m high_blood_pressure \u001b[0m \u001b[1m serum_sodium \u001b[0m \u001b[1m smoking \u001b[0m \u001b[1m death \u001b[0m\n",
      " \u001b[90m Int64 \u001b[0m \u001b[90m Int64 \u001b[0m \u001b[90m    Float64 \u001b[0m \u001b[90m Float64 \u001b[0m \u001b[90m             Float64 \u001b[0m \u001b[90m      Float64 \u001b[0m \u001b[90m Float64 \u001b[0m \u001b[90m Int64 \u001b[0m\n",
      "======== ======= ============ ========= ===================== ============== ========= ========\n",
      "      2       1      1.19095       1.0                   1.0       -1.50152      -1.0       1\n",
      "      2       6        2.452       1.0                   1.0       -1.04826       1.0       1\n",
      "      2       8   -0.0701056       1.0                  -1.0       -1.27489       1.0       1\n",
      "      2       9     0.350246      -1.0                  -1.0       0.311522      -1.0       1\n",
      "      2      10       1.6113       1.0                   1.0      -0.821629       1.0       1\n",
      "      2      11      1.19095       1.0                   1.0       -1.27489       1.0       1\n",
      "      2      14    -0.910808       1.0                   1.0      0.0848915      -1.0       1\n",
      "      2      16      1.77944       1.0                  -1.0      -0.141739      -1.0       1\n",
      "      2      17      2.19979       1.0                  -1.0       0.764782      -1.0       1\n",
      "      2      19     0.770597      -1.0                   1.0       0.764782      -1.0       1\n",
      "      2      21     0.350246      -1.0                   1.0      0.0848915      -1.0      -1\n",
      "      2      23     0.602457       1.0                   1.0       0.764782       1.0       1\n",
      "      2      27      2.87235      -1.0                   1.0       0.311522      -1.0       1\n",
      "      2      28     0.770597       1.0                   1.0      -0.141739       1.0       1\n",
      "      2      29    -0.238246       1.0                  -1.0      -0.594999      -1.0       1\n",
      "      2      31      2.78828       1.0                   1.0      -0.594999      -1.0       1\n",
      "      2      32      2.03165       1.0                  -1.0       -1.04826      -1.0       1\n",
      "      2      35     0.350246       1.0                   1.0       0.764782      -1.0       1\n",
      "      2      36     0.686527       1.0                  -1.0      -0.594999      -1.0       1\n",
      "      2      37        2.452       1.0                  -1.0      -0.594999      -1.0       1\n",
      "      2      38      1.77944      -1.0                   1.0        1.89793      -1.0       1\n",
      "      2      43     0.770597       1.0                   1.0       0.538152       1.0       1\n",
      "      2      44     0.938738       1.0                   1.0      -0.594999      -1.0      -1\n",
      "      2      45   -0.0701056      -1.0                  -1.0        1.21804      -1.0       1\n",
      "      2      49       1.6113       1.0                   1.0      -0.821629      -1.0       1\n",
      "      2      51     0.602457       1.0                   1.0       0.311522      -1.0       1\n",
      "      2      53   -0.0701056      -1.0                  -1.0        2.12456      -1.0       1\n",
      "      2      54     0.770597      -1.0                   1.0      -0.594999      -1.0       1\n",
      "      2      56      2.87235       1.0                  -1.0       -1.04826      -1.0       1\n",
      "      2      57     0.770597       1.0                  -1.0       0.311522       1.0      -1\n",
      "      2      65     -1.33116      -1.0                  -1.0      0.0848915      -1.0      -1\n",
      "      2      77     0.770597      -1.0                   1.0       0.764782       1.0      -1\n",
      "      2      79      1.19095       1.0                   1.0       -1.27489       1.0      -1\n",
      "      2      80    -0.490457      -1.0                   1.0       0.764782      -1.0      -1\n",
      "      2      81     0.770597      -1.0                  -1.0      -0.141739      -1.0      -1\n",
      "      2      84      1.52723       1.0                   1.0      -0.821629      -1.0      -1\n",
      "      2      88     0.350246       1.0                   1.0       0.764782      -1.0      -1\n",
      "      2      90    -0.322316       1.0                   1.0         1.6713      -1.0      -1\n",
      "      2      96    -0.238246       1.0                   1.0       0.991412      -1.0      -1\n",
      "      2      98     0.770597      -1.0                  -1.0      -0.141739      -1.0      -1\n",
      "      2     102      1.19095       1.0                   1.0      0.0848915      -1.0      -1\n",
      "      2     105   -0.0701056      -1.0                   1.0        1.44467      -1.0      -1\n",
      "      2     106     0.938738      -1.0                   1.0       0.311522       1.0       1\n",
      "      2     111      2.03165       1.0                  -1.0       -1.04826       1.0       1\n",
      "      2     114     0.770597      -1.0                  -1.0      0.0848915      -1.0       1\n",
      "      2     117   -0.0701056      -1.0                   1.0      -0.141739      -1.0      -1\n",
      "      2     118      2.03165      -1.0                  -1.0       0.311522      -1.0      -1\n",
      "      2     119     0.350246      -1.0                   1.0       0.764782      -1.0      -1\n",
      "      2     120      2.11572      -1.0                  -1.0      -0.594999      -1.0       1\n",
      "      2     121   -0.0701056       1.0                   1.0      -0.368369       1.0      -1\n",
      "      2     124   -0.0701056      -1.0                   1.0        1.89793      -1.0      -1\n",
      "      2     130    -0.658598       1.0                  -1.0        1.89793      -1.0      -1\n",
      "      2     131    -0.658598       1.0                   1.0       0.311522       1.0      -1\n",
      "      2     132   -0.0701056       1.0                  -1.0       -1.27489      -1.0      -1\n",
      "      2     134     0.182105       1.0                   1.0        1.89793       1.0      -1\n",
      "      2     144    0.0139647      -1.0                   1.0       0.991412      -1.0      -1\n",
      "      2     145     0.938738       1.0                   1.0       0.538152       1.0       1\n",
      "      2     148     0.266176       1.0                  -1.0      0.0848915      -1.0      -1\n",
      "      2     149      1.19095       1.0                  -1.0      -0.594999      -1.0       1\n",
      "      2     151     0.938738      -1.0                   1.0      -0.368369      -1.0       1\n",
      "      2     152     0.098035       1.0                   1.0       0.538152      -1.0      -1\n",
      "      2     155     0.350246      -1.0                   1.0      -0.141739      -1.0      -1\n",
      "      2     159      2.03165       1.0                  -1.0      -0.594999      -1.0      -1\n",
      "      2     160    -0.154176       1.0                   1.0       0.538152       1.0      -1\n",
      "      2     161     0.434316       1.0                   1.0      -0.594999      -1.0      -1\n",
      "      2     173     0.770597       1.0                   1.0        1.89793       1.0      -1\n",
      "      2     176   -0.0701056       1.0                  -1.0       0.311522       1.0      -1\n",
      "      2     179     0.182105       1.0                  -1.0        1.89793      -1.0      -1\n",
      "      2     184      1.19095       1.0                   1.0      -0.594999      -1.0       1\n",
      "      2     192     0.266176      -1.0                  -1.0      -0.368369      -1.0      -1\n",
      "      2     196      1.35909       1.0                  -1.0        1.89793      -1.0       1\n",
      "      2     203     0.770597       1.0                   1.0       0.311522      -1.0      -1\n",
      "      2     215     0.350246       1.0                   1.0      -0.594999      -1.0      -1\n",
      "      2     217     0.770597      -1.0                   1.0       0.991412      -1.0      -1\n",
      "      2     218    -0.574527      -1.0                   1.0      0.0848915      -1.0       1\n",
      "      2     236      1.35909       1.0                   1.0      0.0848915      -1.0      -1\n",
      "      2     237      1.19095       1.0                   1.0        2.57782      -1.0      -1\n",
      "      2     244      1.02281      -1.0                   1.0       0.991412      -1.0      -1\n",
      "      2     255    -0.658598       1.0                   1.0       0.538152      -1.0      -1\n",
      "      2     290        2.452      -1.0                  -1.0         1.6713      -1.0      -1\n",
      "======== ======= ============ ========= ===================== ============== ========= ========\n"
     ]
    }
   ],
   "source": [
    "let\n",
    "\n",
    "    # names - \n",
    "    names_dictionary = Dict{String,Int}();\n",
    "    loopcounter = 1;\n",
    "    for name ∈ names(dataset)\n",
    "        names_dictionary[name] = loopcounter;\n",
    "        loopcounter += 1;\n",
    "    end\n",
    "\n",
    "    df = DataFrame(); \n",
    "    assignment = result.assignments;\n",
    "    index_array = findall(a -> a == my_cluster_index, assignment);\n",
    "\n",
    "    for i ∈ eachindex(index_array)\n",
    "        a = index_array[i]; # what is the assignment\n",
    "        row_df = (\n",
    "            c = my_cluster_index,\n",
    "            id = a, # proxy for patient id?\n",
    "            age = D[a,names_dictionary[\"age\"]],\n",
    "            gender = D[a,names_dictionary[\"sex\"]],\n",
    "            high_blood_pressure = D[a,names_dictionary[\"high_blood_pressure\"]],\n",
    "            serum_sodium = D[a,names_dictionary[\"serum_sodium\"]],\n",
    "            smoking = D[a,names_dictionary[\"smoking\"]],\n",
    "            death = dataset[a, :death_event]\n",
    "        );\n",
    "        push!(df, row_df);\n",
    "    end\n",
    "    pretty_table(df, tf = tf_simple)\n",
    "end"
   ]
  },
  {
   "cell_type": "markdown",
   "id": "6f69cb97-cf17-45fb-96f1-1ecebf1e8749",
   "metadata": {},
   "source": [
    "We can see the averages, i.e., the centroids of each feature in the `my_cluster_index::Int` by looking at the centroids dictionary. This will give us a representation of the data in this cluster."
   ]
  },
  {
   "cell_type": "code",
   "execution_count": 87,
   "id": "a69e3349-23a1-40d8-8c0e-19ed9c08eb06",
   "metadata": {
    "jupyter": {
     "source_hidden": true
    }
   },
   "outputs": [
    {
     "name": "stdout",
     "output_type": "stream",
     "text": [
      "======== ========== ========= ===================== ============== ========= ==========\n",
      " \u001b[1m     c \u001b[0m \u001b[1m      age \u001b[0m \u001b[1m  gender \u001b[0m \u001b[1m high_blood_pressure \u001b[0m \u001b[1m serum_sodium \u001b[0m \u001b[1m smoking \u001b[0m \u001b[1m   death \u001b[0m\n",
      " \u001b[90m Int64 \u001b[0m \u001b[90m  Float64 \u001b[0m \u001b[90m Float64 \u001b[0m \u001b[90m             Float64 \u001b[0m \u001b[90m      Float64 \u001b[0m \u001b[90m Float64 \u001b[0m \u001b[90m Float64 \u001b[0m\n",
      "======== ========== ========= ===================== ============== ========= ==========\n",
      "      2   0.757987     0.275                 0.275       0.223702    -0.525    -0.075\n",
      "======== ========== ========= ===================== ============== ========= ==========\n"
     ]
    }
   ],
   "source": [
    "let\n",
    "\n",
    "    # names - \n",
    "    names_dictionary = Dict{String,Int}();\n",
    "    loopcounter = 1;\n",
    "    for name ∈ names(dataset)\n",
    "        names_dictionary[name] = loopcounter;\n",
    "        loopcounter += 1;\n",
    "    end\n",
    "\n",
    "    # for this cluster configuration, what is the death centroid?\n",
    "    tmp = 0.0;\n",
    "    idx_cluster = findall(x-> x == my_cluster_index, result.assignments);\n",
    "    N = length(idx_cluster);\n",
    "    for i ∈ idx_cluster\n",
    "        tmp += dataset[i,:death_event];\n",
    "    end\n",
    "    death_centroid = (1/N)*tmp;\n",
    "    \n",
    "    μ = result.centroids[my_cluster_index]\n",
    "    df = DataFrame();\n",
    "    row_df = (\n",
    "        c = my_cluster_index,\n",
    "        age = μ[names_dictionary[\"age\"]],\n",
    "        gender = μ[names_dictionary[\"sex\"]],\n",
    "        high_blood_pressure = μ[names_dictionary[\"high_blood_pressure\"]],\n",
    "        serum_sodium = μ[names_dictionary[\"serum_sodium\"]],\n",
    "        smoking = μ[names_dictionary[\"smoking\"]],\n",
    "        death = death_centroid,\n",
    "    );\n",
    "    push!(df, row_df);\n",
    "    pretty_table(df, tf=tf_simple)\n",
    "end"
   ]
  },
  {
   "cell_type": "code",
   "execution_count": null,
   "id": "4813da0e-4b55-404d-840e-70db66be20b6",
   "metadata": {},
   "outputs": [],
   "source": []
  }
 ],
 "metadata": {
  "kernelspec": {
   "display_name": "Julia 1.11.2",
   "language": "julia",
   "name": "julia-1.11"
  },
  "language_info": {
   "file_extension": ".jl",
   "mimetype": "application/julia",
   "name": "julia",
   "version": "1.11.2"
  }
 },
 "nbformat": 4,
 "nbformat_minor": 5
}
