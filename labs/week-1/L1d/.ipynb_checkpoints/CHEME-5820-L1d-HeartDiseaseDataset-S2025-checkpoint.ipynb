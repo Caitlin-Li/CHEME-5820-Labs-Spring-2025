{
 "cells": [
  {
   "cell_type": "markdown",
   "id": "c695f5e9-6b72-4869-972f-1f48e03fe7e5",
   "metadata": {},
   "source": [
    "# Lab 1d: K-Means Clustering Analysis of a Heart Failure Clinical Dataset\n",
    "In this lab, we will cluster a dataset describing the clinical risk factors linked with death from heart disease using [the K-means clustering algorithm](https://en.wikipedia.org/wiki/K-means_clustering). In this dataset, several risk factors (features) are measured per patient (some of these features are continuous, some are categorical), along with the binary clinical outcome (target variable) `{death | not death}.` \n",
    "\n",
    "Before we start, divide into teams and familiarize yourself with the components and underlying codes we'll use in the lab. Then, execute the `Run All Cells` command to check if you (or your neighbor) have any code or setup issues. Code issues, then raise your hands - and let's get those fixed!\n",
    "\n",
    "### Tasks\n",
    "* __Setup, data, constants (10 min)__: Let's take 10 minutes to review the dataset we'll explore today and set up some values we'll use in the other tasks. We'll load the data, and do some initial _data munging_ (also called [data wrangling](https://en.wikipedia.org/wiki/Data_wrangling)) to get the clinical dataset in a form that we'll use in our analysis.\n",
    "* __Task 1: Cluster (10 min)__: In this task, you will set up the clustering problem and execute the clustering algorithm on our dataset using a default value for parameters (such as the number of clusters $K$).\n",
    "* __Task 2: Determine the _best_ number of clusters (10 min)__: You'll explore how many clusters we should have used in our clustering analysis using several approaches. Once we have arrived at a consensus answer (using some heuristic) for the _best(?)_ number of clusters $K^{\\star}$, then re-run the clustering analysis of our dataset, i.e., update the $K = K^{\\star}$ value and execute the `Run All Cells` command.\n",
    "* __Task 3: Analysis (20 min)__: Now that we have clustered the data (using the specified number of clusters that we computed), let's take some time to explore what's in each cluster and what the clinical data says about heart disease and heart disease risk factors."
   ]
  },
  {
   "cell_type": "markdown",
   "id": "c0afa002-b0cc-44b2-92e7-8c7229d22a3a",
   "metadata": {},
   "source": [
    "## Setup, Data, and Prerequisites\n",
    "We set up the computational environment by including the `Include.jl` file. The `Include.jl` file loads external packages, various functions that we will use in the exercise, and custom types to model the components of our lab problem."
   ]
  },
  {
   "cell_type": "code",
   "execution_count": 3,
   "id": "791e8a3f-3718-4848-ad53-93bd5827d2ed",
   "metadata": {},
   "outputs": [],
   "source": [
    "include(\"Include.jl\"); # what "
   ]
  },
  {
   "cell_type": "markdown",
   "id": "829d7d60-1c00-406a-aedf-87037918dd6e",
   "metadata": {},
   "source": [
    "### Data\n",
    "Next, let's load up the dataset that we will explore. The data for this lab was taken from this `2020` publication:\n",
    "* [Davide Chicco, Giuseppe Jurman: \"Machine learning can predict survival of patients with heart failure from serum creatinine and ejection fraction alone.\" BMC Medical Informatics and Decision Making 20, 16 (2020). https://doi.org/10.1186/s12911-020-1023-5](https://pubmed.ncbi.nlm.nih.gov/32013925/)\n",
    "\n",
    "In this paper, the authors analyzed a dataset of 299 heart failure patients collected in 2015. The patients comprised 105 women and 194 men, aged between 40 and 95 years old. The dataset contains 13 features (a mixture of continuous and categorical data), which report clinical, body, and lifestyle information:\n",
    "* Some features are binary: anemia, high blood pressure, diabetes, sex, and smoking status.\n",
    "* The remaining features were continuous biochemical measurements, such as the Level of the Creatinine phosphokinase (CPK) enzyme in the blood, the number of platelets, etc.\n",
    "* The class (target) variable is encoded as a binary (boolean) death event: `1` if the patient died during the follow-up period, `0` otherwise.\n",
    "\n",
    "We'll load this data as a [DataFrame instance](https://dataframes.juliadata.org/stable/) and store it in the `originaldataset::DataFrame` variable:"
   ]
  },
  {
   "cell_type": "code",
   "execution_count": 5,
   "id": "656d5710-9346-40b5-a3ba-74df8a44b85a",
   "metadata": {},
   "outputs": [
    {
     "data": {
      "text/html": [
       "<div><div style = \"float: left;\"><span>299×13 DataFrame</span></div><div style = \"float: right;\"><span style = \"font-style: italic;\">274 rows omitted</span></div><div style = \"clear: both;\"></div></div><div class = \"data-frame\" style = \"overflow-x: scroll;\"><table class = \"data-frame\" style = \"margin-bottom: 6px;\"><thead><tr class = \"header\"><th class = \"rowNumber\" style = \"font-weight: bold; text-align: right;\">Row</th><th style = \"text-align: left;\">age</th><th style = \"text-align: left;\">anaemia</th><th style = \"text-align: left;\">creatinine_phosphokinase</th><th style = \"text-align: left;\">diabetes</th><th style = \"text-align: left;\">ejection_fraction</th><th style = \"text-align: left;\">high_blood_pressure</th><th style = \"text-align: left;\">platelets</th><th style = \"text-align: left;\">serum_creatinine</th><th style = \"text-align: left;\">serum_sodium</th><th style = \"text-align: left;\">sex</th><th style = \"text-align: left;\">smoking</th><th style = \"text-align: left;\">time</th><th style = \"text-align: left;\">death_event</th></tr><tr class = \"subheader headerLastRow\"><th class = \"rowNumber\" style = \"font-weight: bold; text-align: right;\"></th><th title = \"Float64\" style = \"text-align: left;\">Float64</th><th title = \"Int64\" style = \"text-align: left;\">Int64</th><th title = \"Int64\" style = \"text-align: left;\">Int64</th><th title = \"Int64\" style = \"text-align: left;\">Int64</th><th title = \"Int64\" style = \"text-align: left;\">Int64</th><th title = \"Int64\" style = \"text-align: left;\">Int64</th><th title = \"Float64\" style = \"text-align: left;\">Float64</th><th title = \"Float64\" style = \"text-align: left;\">Float64</th><th title = \"Int64\" style = \"text-align: left;\">Int64</th><th title = \"Int64\" style = \"text-align: left;\">Int64</th><th title = \"Int64\" style = \"text-align: left;\">Int64</th><th title = \"Int64\" style = \"text-align: left;\">Int64</th><th title = \"Int64\" style = \"text-align: left;\">Int64</th></tr></thead><tbody><tr><td class = \"rowNumber\" style = \"font-weight: bold; text-align: right;\">1</td><td style = \"text-align: right;\">75.0</td><td style = \"text-align: right;\">0</td><td style = \"text-align: right;\">582</td><td style = \"text-align: right;\">0</td><td style = \"text-align: right;\">20</td><td style = \"text-align: right;\">1</td><td style = \"text-align: right;\">265000.0</td><td style = \"text-align: right;\">1.9</td><td style = \"text-align: right;\">130</td><td style = \"text-align: right;\">1</td><td style = \"text-align: right;\">0</td><td style = \"text-align: right;\">4</td><td style = \"text-align: right;\">1</td></tr><tr><td class = \"rowNumber\" style = \"font-weight: bold; text-align: right;\">2</td><td style = \"text-align: right;\">55.0</td><td style = \"text-align: right;\">0</td><td style = \"text-align: right;\">7861</td><td style = \"text-align: right;\">0</td><td style = \"text-align: right;\">38</td><td style = \"text-align: right;\">0</td><td style = \"text-align: right;\">263358.0</td><td style = \"text-align: right;\">1.1</td><td style = \"text-align: right;\">136</td><td style = \"text-align: right;\">1</td><td style = \"text-align: right;\">0</td><td style = \"text-align: right;\">6</td><td style = \"text-align: right;\">1</td></tr><tr><td class = \"rowNumber\" style = \"font-weight: bold; text-align: right;\">3</td><td style = \"text-align: right;\">65.0</td><td style = \"text-align: right;\">0</td><td style = \"text-align: right;\">146</td><td style = \"text-align: right;\">0</td><td style = \"text-align: right;\">20</td><td style = \"text-align: right;\">0</td><td style = \"text-align: right;\">162000.0</td><td style = \"text-align: right;\">1.3</td><td style = \"text-align: right;\">129</td><td style = \"text-align: right;\">1</td><td style = \"text-align: right;\">1</td><td style = \"text-align: right;\">7</td><td style = \"text-align: right;\">1</td></tr><tr><td class = \"rowNumber\" style = \"font-weight: bold; text-align: right;\">4</td><td style = \"text-align: right;\">50.0</td><td style = \"text-align: right;\">1</td><td style = \"text-align: right;\">111</td><td style = \"text-align: right;\">0</td><td style = \"text-align: right;\">20</td><td style = \"text-align: right;\">0</td><td style = \"text-align: right;\">210000.0</td><td style = \"text-align: right;\">1.9</td><td style = \"text-align: right;\">137</td><td style = \"text-align: right;\">1</td><td style = \"text-align: right;\">0</td><td style = \"text-align: right;\">7</td><td style = \"text-align: right;\">1</td></tr><tr><td class = \"rowNumber\" style = \"font-weight: bold; text-align: right;\">5</td><td style = \"text-align: right;\">65.0</td><td style = \"text-align: right;\">1</td><td style = \"text-align: right;\">160</td><td style = \"text-align: right;\">1</td><td style = \"text-align: right;\">20</td><td style = \"text-align: right;\">0</td><td style = \"text-align: right;\">327000.0</td><td style = \"text-align: right;\">2.7</td><td style = \"text-align: right;\">116</td><td style = \"text-align: right;\">0</td><td style = \"text-align: right;\">0</td><td style = \"text-align: right;\">8</td><td style = \"text-align: right;\">1</td></tr><tr><td class = \"rowNumber\" style = \"font-weight: bold; text-align: right;\">6</td><td style = \"text-align: right;\">90.0</td><td style = \"text-align: right;\">1</td><td style = \"text-align: right;\">47</td><td style = \"text-align: right;\">0</td><td style = \"text-align: right;\">40</td><td style = \"text-align: right;\">1</td><td style = \"text-align: right;\">204000.0</td><td style = \"text-align: right;\">2.1</td><td style = \"text-align: right;\">132</td><td style = \"text-align: right;\">1</td><td style = \"text-align: right;\">1</td><td style = \"text-align: right;\">8</td><td style = \"text-align: right;\">1</td></tr><tr><td class = \"rowNumber\" style = \"font-weight: bold; text-align: right;\">7</td><td style = \"text-align: right;\">75.0</td><td style = \"text-align: right;\">1</td><td style = \"text-align: right;\">246</td><td style = \"text-align: right;\">0</td><td style = \"text-align: right;\">15</td><td style = \"text-align: right;\">0</td><td style = \"text-align: right;\">127000.0</td><td style = \"text-align: right;\">1.2</td><td style = \"text-align: right;\">137</td><td style = \"text-align: right;\">1</td><td style = \"text-align: right;\">0</td><td style = \"text-align: right;\">10</td><td style = \"text-align: right;\">1</td></tr><tr><td class = \"rowNumber\" style = \"font-weight: bold; text-align: right;\">8</td><td style = \"text-align: right;\">60.0</td><td style = \"text-align: right;\">1</td><td style = \"text-align: right;\">315</td><td style = \"text-align: right;\">1</td><td style = \"text-align: right;\">60</td><td style = \"text-align: right;\">0</td><td style = \"text-align: right;\">454000.0</td><td style = \"text-align: right;\">1.1</td><td style = \"text-align: right;\">131</td><td style = \"text-align: right;\">1</td><td style = \"text-align: right;\">1</td><td style = \"text-align: right;\">10</td><td style = \"text-align: right;\">1</td></tr><tr><td class = \"rowNumber\" style = \"font-weight: bold; text-align: right;\">9</td><td style = \"text-align: right;\">65.0</td><td style = \"text-align: right;\">0</td><td style = \"text-align: right;\">157</td><td style = \"text-align: right;\">0</td><td style = \"text-align: right;\">65</td><td style = \"text-align: right;\">0</td><td style = \"text-align: right;\">263358.0</td><td style = \"text-align: right;\">1.5</td><td style = \"text-align: right;\">138</td><td style = \"text-align: right;\">0</td><td style = \"text-align: right;\">0</td><td style = \"text-align: right;\">10</td><td style = \"text-align: right;\">1</td></tr><tr><td class = \"rowNumber\" style = \"font-weight: bold; text-align: right;\">10</td><td style = \"text-align: right;\">80.0</td><td style = \"text-align: right;\">1</td><td style = \"text-align: right;\">123</td><td style = \"text-align: right;\">0</td><td style = \"text-align: right;\">35</td><td style = \"text-align: right;\">1</td><td style = \"text-align: right;\">388000.0</td><td style = \"text-align: right;\">9.4</td><td style = \"text-align: right;\">133</td><td style = \"text-align: right;\">1</td><td style = \"text-align: right;\">1</td><td style = \"text-align: right;\">10</td><td style = \"text-align: right;\">1</td></tr><tr><td class = \"rowNumber\" style = \"font-weight: bold; text-align: right;\">11</td><td style = \"text-align: right;\">75.0</td><td style = \"text-align: right;\">1</td><td style = \"text-align: right;\">81</td><td style = \"text-align: right;\">0</td><td style = \"text-align: right;\">38</td><td style = \"text-align: right;\">1</td><td style = \"text-align: right;\">368000.0</td><td style = \"text-align: right;\">4.0</td><td style = \"text-align: right;\">131</td><td style = \"text-align: right;\">1</td><td style = \"text-align: right;\">1</td><td style = \"text-align: right;\">10</td><td style = \"text-align: right;\">1</td></tr><tr><td class = \"rowNumber\" style = \"font-weight: bold; text-align: right;\">12</td><td style = \"text-align: right;\">62.0</td><td style = \"text-align: right;\">0</td><td style = \"text-align: right;\">231</td><td style = \"text-align: right;\">0</td><td style = \"text-align: right;\">25</td><td style = \"text-align: right;\">1</td><td style = \"text-align: right;\">253000.0</td><td style = \"text-align: right;\">0.9</td><td style = \"text-align: right;\">140</td><td style = \"text-align: right;\">1</td><td style = \"text-align: right;\">1</td><td style = \"text-align: right;\">10</td><td style = \"text-align: right;\">1</td></tr><tr><td class = \"rowNumber\" style = \"font-weight: bold; text-align: right;\">13</td><td style = \"text-align: right;\">45.0</td><td style = \"text-align: right;\">1</td><td style = \"text-align: right;\">981</td><td style = \"text-align: right;\">0</td><td style = \"text-align: right;\">30</td><td style = \"text-align: right;\">0</td><td style = \"text-align: right;\">136000.0</td><td style = \"text-align: right;\">1.1</td><td style = \"text-align: right;\">137</td><td style = \"text-align: right;\">1</td><td style = \"text-align: right;\">0</td><td style = \"text-align: right;\">11</td><td style = \"text-align: right;\">1</td></tr><tr><td style = \"text-align: right;\">&vellip;</td><td style = \"text-align: right;\">&vellip;</td><td style = \"text-align: right;\">&vellip;</td><td style = \"text-align: right;\">&vellip;</td><td style = \"text-align: right;\">&vellip;</td><td style = \"text-align: right;\">&vellip;</td><td style = \"text-align: right;\">&vellip;</td><td style = \"text-align: right;\">&vellip;</td><td style = \"text-align: right;\">&vellip;</td><td style = \"text-align: right;\">&vellip;</td><td style = \"text-align: right;\">&vellip;</td><td style = \"text-align: right;\">&vellip;</td><td style = \"text-align: right;\">&vellip;</td><td style = \"text-align: right;\">&vellip;</td></tr><tr><td class = \"rowNumber\" style = \"font-weight: bold; text-align: right;\">288</td><td style = \"text-align: right;\">45.0</td><td style = \"text-align: right;\">0</td><td style = \"text-align: right;\">582</td><td style = \"text-align: right;\">1</td><td style = \"text-align: right;\">55</td><td style = \"text-align: right;\">0</td><td style = \"text-align: right;\">543000.0</td><td style = \"text-align: right;\">1.0</td><td style = \"text-align: right;\">132</td><td style = \"text-align: right;\">0</td><td style = \"text-align: right;\">0</td><td style = \"text-align: right;\">250</td><td style = \"text-align: right;\">0</td></tr><tr><td class = \"rowNumber\" style = \"font-weight: bold; text-align: right;\">289</td><td style = \"text-align: right;\">65.0</td><td style = \"text-align: right;\">0</td><td style = \"text-align: right;\">892</td><td style = \"text-align: right;\">1</td><td style = \"text-align: right;\">35</td><td style = \"text-align: right;\">0</td><td style = \"text-align: right;\">263358.0</td><td style = \"text-align: right;\">1.1</td><td style = \"text-align: right;\">142</td><td style = \"text-align: right;\">0</td><td style = \"text-align: right;\">0</td><td style = \"text-align: right;\">256</td><td style = \"text-align: right;\">0</td></tr><tr><td class = \"rowNumber\" style = \"font-weight: bold; text-align: right;\">290</td><td style = \"text-align: right;\">90.0</td><td style = \"text-align: right;\">1</td><td style = \"text-align: right;\">337</td><td style = \"text-align: right;\">0</td><td style = \"text-align: right;\">38</td><td style = \"text-align: right;\">0</td><td style = \"text-align: right;\">390000.0</td><td style = \"text-align: right;\">0.9</td><td style = \"text-align: right;\">144</td><td style = \"text-align: right;\">0</td><td style = \"text-align: right;\">0</td><td style = \"text-align: right;\">256</td><td style = \"text-align: right;\">0</td></tr><tr><td class = \"rowNumber\" style = \"font-weight: bold; text-align: right;\">291</td><td style = \"text-align: right;\">45.0</td><td style = \"text-align: right;\">0</td><td style = \"text-align: right;\">615</td><td style = \"text-align: right;\">1</td><td style = \"text-align: right;\">55</td><td style = \"text-align: right;\">0</td><td style = \"text-align: right;\">222000.0</td><td style = \"text-align: right;\">0.8</td><td style = \"text-align: right;\">141</td><td style = \"text-align: right;\">0</td><td style = \"text-align: right;\">0</td><td style = \"text-align: right;\">257</td><td style = \"text-align: right;\">0</td></tr><tr><td class = \"rowNumber\" style = \"font-weight: bold; text-align: right;\">292</td><td style = \"text-align: right;\">60.0</td><td style = \"text-align: right;\">0</td><td style = \"text-align: right;\">320</td><td style = \"text-align: right;\">0</td><td style = \"text-align: right;\">35</td><td style = \"text-align: right;\">0</td><td style = \"text-align: right;\">133000.0</td><td style = \"text-align: right;\">1.4</td><td style = \"text-align: right;\">139</td><td style = \"text-align: right;\">1</td><td style = \"text-align: right;\">0</td><td style = \"text-align: right;\">258</td><td style = \"text-align: right;\">0</td></tr><tr><td class = \"rowNumber\" style = \"font-weight: bold; text-align: right;\">293</td><td style = \"text-align: right;\">52.0</td><td style = \"text-align: right;\">0</td><td style = \"text-align: right;\">190</td><td style = \"text-align: right;\">1</td><td style = \"text-align: right;\">38</td><td style = \"text-align: right;\">0</td><td style = \"text-align: right;\">382000.0</td><td style = \"text-align: right;\">1.0</td><td style = \"text-align: right;\">140</td><td style = \"text-align: right;\">1</td><td style = \"text-align: right;\">1</td><td style = \"text-align: right;\">258</td><td style = \"text-align: right;\">0</td></tr><tr><td class = \"rowNumber\" style = \"font-weight: bold; text-align: right;\">294</td><td style = \"text-align: right;\">63.0</td><td style = \"text-align: right;\">1</td><td style = \"text-align: right;\">103</td><td style = \"text-align: right;\">1</td><td style = \"text-align: right;\">35</td><td style = \"text-align: right;\">0</td><td style = \"text-align: right;\">179000.0</td><td style = \"text-align: right;\">0.9</td><td style = \"text-align: right;\">136</td><td style = \"text-align: right;\">1</td><td style = \"text-align: right;\">1</td><td style = \"text-align: right;\">270</td><td style = \"text-align: right;\">0</td></tr><tr><td class = \"rowNumber\" style = \"font-weight: bold; text-align: right;\">295</td><td style = \"text-align: right;\">62.0</td><td style = \"text-align: right;\">0</td><td style = \"text-align: right;\">61</td><td style = \"text-align: right;\">1</td><td style = \"text-align: right;\">38</td><td style = \"text-align: right;\">1</td><td style = \"text-align: right;\">155000.0</td><td style = \"text-align: right;\">1.1</td><td style = \"text-align: right;\">143</td><td style = \"text-align: right;\">1</td><td style = \"text-align: right;\">1</td><td style = \"text-align: right;\">270</td><td style = \"text-align: right;\">0</td></tr><tr><td class = \"rowNumber\" style = \"font-weight: bold; text-align: right;\">296</td><td style = \"text-align: right;\">55.0</td><td style = \"text-align: right;\">0</td><td style = \"text-align: right;\">1820</td><td style = \"text-align: right;\">0</td><td style = \"text-align: right;\">38</td><td style = \"text-align: right;\">0</td><td style = \"text-align: right;\">270000.0</td><td style = \"text-align: right;\">1.2</td><td style = \"text-align: right;\">139</td><td style = \"text-align: right;\">0</td><td style = \"text-align: right;\">0</td><td style = \"text-align: right;\">271</td><td style = \"text-align: right;\">0</td></tr><tr><td class = \"rowNumber\" style = \"font-weight: bold; text-align: right;\">297</td><td style = \"text-align: right;\">45.0</td><td style = \"text-align: right;\">0</td><td style = \"text-align: right;\">2060</td><td style = \"text-align: right;\">1</td><td style = \"text-align: right;\">60</td><td style = \"text-align: right;\">0</td><td style = \"text-align: right;\">742000.0</td><td style = \"text-align: right;\">0.8</td><td style = \"text-align: right;\">138</td><td style = \"text-align: right;\">0</td><td style = \"text-align: right;\">0</td><td style = \"text-align: right;\">278</td><td style = \"text-align: right;\">0</td></tr><tr><td class = \"rowNumber\" style = \"font-weight: bold; text-align: right;\">298</td><td style = \"text-align: right;\">45.0</td><td style = \"text-align: right;\">0</td><td style = \"text-align: right;\">2413</td><td style = \"text-align: right;\">0</td><td style = \"text-align: right;\">38</td><td style = \"text-align: right;\">0</td><td style = \"text-align: right;\">140000.0</td><td style = \"text-align: right;\">1.4</td><td style = \"text-align: right;\">140</td><td style = \"text-align: right;\">1</td><td style = \"text-align: right;\">1</td><td style = \"text-align: right;\">280</td><td style = \"text-align: right;\">0</td></tr><tr><td class = \"rowNumber\" style = \"font-weight: bold; text-align: right;\">299</td><td style = \"text-align: right;\">50.0</td><td style = \"text-align: right;\">0</td><td style = \"text-align: right;\">196</td><td style = \"text-align: right;\">0</td><td style = \"text-align: right;\">45</td><td style = \"text-align: right;\">0</td><td style = \"text-align: right;\">395000.0</td><td style = \"text-align: right;\">1.6</td><td style = \"text-align: right;\">136</td><td style = \"text-align: right;\">1</td><td style = \"text-align: right;\">1</td><td style = \"text-align: right;\">285</td><td style = \"text-align: right;\">0</td></tr></tbody></table></div>"
      ],
      "text/latex": [
       "\\begin{tabular}{r|ccccccc}\n",
       "\t& age & anaemia & creatinine\\_phosphokinase & diabetes & ejection\\_fraction & high\\_blood\\_pressure & \\\\\n",
       "\t\\hline\n",
       "\t& Float64 & Int64 & Int64 & Int64 & Int64 & Int64 & \\\\\n",
       "\t\\hline\n",
       "\t1 & 75.0 & 0 & 582 & 0 & 20 & 1 & $\\dots$ \\\\\n",
       "\t2 & 55.0 & 0 & 7861 & 0 & 38 & 0 & $\\dots$ \\\\\n",
       "\t3 & 65.0 & 0 & 146 & 0 & 20 & 0 & $\\dots$ \\\\\n",
       "\t4 & 50.0 & 1 & 111 & 0 & 20 & 0 & $\\dots$ \\\\\n",
       "\t5 & 65.0 & 1 & 160 & 1 & 20 & 0 & $\\dots$ \\\\\n",
       "\t6 & 90.0 & 1 & 47 & 0 & 40 & 1 & $\\dots$ \\\\\n",
       "\t7 & 75.0 & 1 & 246 & 0 & 15 & 0 & $\\dots$ \\\\\n",
       "\t8 & 60.0 & 1 & 315 & 1 & 60 & 0 & $\\dots$ \\\\\n",
       "\t9 & 65.0 & 0 & 157 & 0 & 65 & 0 & $\\dots$ \\\\\n",
       "\t10 & 80.0 & 1 & 123 & 0 & 35 & 1 & $\\dots$ \\\\\n",
       "\t11 & 75.0 & 1 & 81 & 0 & 38 & 1 & $\\dots$ \\\\\n",
       "\t12 & 62.0 & 0 & 231 & 0 & 25 & 1 & $\\dots$ \\\\\n",
       "\t13 & 45.0 & 1 & 981 & 0 & 30 & 0 & $\\dots$ \\\\\n",
       "\t14 & 50.0 & 1 & 168 & 0 & 38 & 1 & $\\dots$ \\\\\n",
       "\t15 & 49.0 & 1 & 80 & 0 & 30 & 1 & $\\dots$ \\\\\n",
       "\t16 & 82.0 & 1 & 379 & 0 & 50 & 0 & $\\dots$ \\\\\n",
       "\t17 & 87.0 & 1 & 149 & 0 & 38 & 0 & $\\dots$ \\\\\n",
       "\t18 & 45.0 & 0 & 582 & 0 & 14 & 0 & $\\dots$ \\\\\n",
       "\t19 & 70.0 & 1 & 125 & 0 & 25 & 1 & $\\dots$ \\\\\n",
       "\t20 & 48.0 & 1 & 582 & 1 & 55 & 0 & $\\dots$ \\\\\n",
       "\t21 & 65.0 & 1 & 52 & 0 & 25 & 1 & $\\dots$ \\\\\n",
       "\t22 & 65.0 & 1 & 128 & 1 & 30 & 1 & $\\dots$ \\\\\n",
       "\t23 & 68.0 & 1 & 220 & 0 & 35 & 1 & $\\dots$ \\\\\n",
       "\t24 & 53.0 & 0 & 63 & 1 & 60 & 0 & $\\dots$ \\\\\n",
       "\t25 & 75.0 & 0 & 582 & 1 & 30 & 1 & $\\dots$ \\\\\n",
       "\t26 & 80.0 & 0 & 148 & 1 & 38 & 0 & $\\dots$ \\\\\n",
       "\t27 & 95.0 & 1 & 112 & 0 & 40 & 1 & $\\dots$ \\\\\n",
       "\t28 & 70.0 & 0 & 122 & 1 & 45 & 1 & $\\dots$ \\\\\n",
       "\t29 & 58.0 & 1 & 60 & 0 & 38 & 0 & $\\dots$ \\\\\n",
       "\t30 & 82.0 & 0 & 70 & 1 & 30 & 0 & $\\dots$ \\\\\n",
       "\t$\\dots$ & $\\dots$ & $\\dots$ & $\\dots$ & $\\dots$ & $\\dots$ & $\\dots$ &  \\\\\n",
       "\\end{tabular}\n"
      ],
      "text/plain": [
       "\u001b[1m299×13 DataFrame\u001b[0m\n",
       "\u001b[1m Row \u001b[0m│\u001b[1m age     \u001b[0m\u001b[1m anaemia \u001b[0m\u001b[1m creatinine_phosphokinase \u001b[0m\u001b[1m diabetes \u001b[0m\u001b[1m ejection_fraction\u001b[0m ⋯\n",
       "     │\u001b[90m Float64 \u001b[0m\u001b[90m Int64   \u001b[0m\u001b[90m Int64                    \u001b[0m\u001b[90m Int64    \u001b[0m\u001b[90m Int64            \u001b[0m ⋯\n",
       "─────┼──────────────────────────────────────────────────────────────────────────\n",
       "   1 │    75.0        0                       582         0                 20 ⋯\n",
       "   2 │    55.0        0                      7861         0                 38\n",
       "   3 │    65.0        0                       146         0                 20\n",
       "   4 │    50.0        1                       111         0                 20\n",
       "   5 │    65.0        1                       160         1                 20 ⋯\n",
       "   6 │    90.0        1                        47         0                 40\n",
       "   7 │    75.0        1                       246         0                 15\n",
       "   8 │    60.0        1                       315         1                 60\n",
       "   9 │    65.0        0                       157         0                 65 ⋯\n",
       "  10 │    80.0        1                       123         0                 35\n",
       "  11 │    75.0        1                        81         0                 38\n",
       "  ⋮  │    ⋮        ⋮                ⋮                 ⋮              ⋮         ⋱\n",
       " 290 │    90.0        1                       337         0                 38\n",
       " 291 │    45.0        0                       615         1                 55 ⋯\n",
       " 292 │    60.0        0                       320         0                 35\n",
       " 293 │    52.0        0                       190         1                 38\n",
       " 294 │    63.0        1                       103         1                 35\n",
       " 295 │    62.0        0                        61         1                 38 ⋯\n",
       " 296 │    55.0        0                      1820         0                 38\n",
       " 297 │    45.0        0                      2060         1                 60\n",
       " 298 │    45.0        0                      2413         0                 38\n",
       " 299 │    50.0        0                       196         0                 45 ⋯\n",
       "\u001b[36m                                                  8 columns and 278 rows omitted\u001b[0m"
      ]
     },
     "execution_count": 5,
     "metadata": {},
     "output_type": "execute_result"
    }
   ],
   "source": [
    "originaldataset = CSV.read(joinpath(_PATH_TO_DATA, \"heart_failure_clinical_records_dataset.csv\"), DataFrame)"
   ]
  },
  {
   "cell_type": "markdown",
   "id": "bc960b2d-1c40-4dad-9a0f-665687ce0e55",
   "metadata": {},
   "source": [
    "We know from lecture that [the K-means approach](https://en.wikipedia.org/wiki/K-means_clustering) works on [an instance of a `Matrix`](https://docs.julialang.org/en/v1/base/arrays/#Base.Matrix-Tuple{UndefInitializer,%20Any,%20Any}) and not [a `DataFrame` instance](https://dataframes.juliadata.org/stable/). Thus, we need to convert the data to [a `Matrix`](https://docs.julialang.org/en/v1/base/arrays/#Base.Matrix-Tuple{UndefInitializer,%20Any,%20Any}). In addition, there are several ways we can pretreat the data to make the clustering easier."
   ]
  },
  {
   "cell_type": "code",
   "execution_count": 7,
   "id": "7031d366-1274-45f5-ba01-1629622056b4",
   "metadata": {},
   "outputs": [],
   "source": [
    "(D, dataset) = let\n",
    "\n",
    "    # convert 0,1 into -1,1\n",
    "    treated_dataset = copy(originaldataset);\n",
    "    transform!(treated_dataset, :anaemia => ByRow(x -> (x==0 ? -1 : 1)) => :anaemia); # maps anaemia to -1,1\n",
    "    transform!(treated_dataset, :diabetes => ByRow(x -> (x==0 ? -1 : 1)) => :diabetes); # maps diabetes to -1,1\n",
    "    transform!(treated_dataset, :high_blood_pressure => ByRow(x -> (x==0 ? -1 : 1)) => :high_blood_pressure); # maps high_blood_pressure to -1,1\n",
    "    transform!(treated_dataset, :sex => ByRow(x -> (x==0 ? -1 : 1)) => :sex); # maps sex to -1,1\n",
    "    transform!(treated_dataset, :smoking => ByRow(x -> (x==0 ? -1 : 1)) => :smoking); # maps smoking to -1,1\n",
    "    transform!(treated_dataset, :death_event => ByRow(x -> (x==0 ? -1 : 1)) => :death_event); # maps death_event to -1,1\n",
    "    \n",
    "    D = treated_dataset[:,1:end] |> Matrix; # build a data matrix from the DataFrame\n",
    "    (number_of_examples, number_of_features) = size(D);\n",
    "\n",
    "    # Which cols do we want to rescale?\n",
    "    index_to_scale = [\n",
    "        1 ; # 1 age\n",
    "        3 ; # 2 creatinine_phosphokinase\n",
    "        5 ; # 3 ejection_fraction\n",
    "        7 ; # 4 platelets\n",
    "        8 ; # 5 serum_creatinine\n",
    "        9 ; # 6 serum_sodium\n",
    "        12 ; # 7 time\n",
    "    ];\n",
    "\n",
    "    D̂ = copy(D);\n",
    "    for i ∈ eachindex(index_to_scale)\n",
    "        j = index_to_scale[i];\n",
    "        μ = mean(D[:,j]); # compute the mean\n",
    "        σ = std(D[:,j]); # compute std\n",
    "\n",
    "        # rescale -\n",
    "        for k ∈ 1:number_of_examples\n",
    "            D̂[k,j] = (D[k,j] - μ)/σ;\n",
    "        end\n",
    "    end\n",
    "\n",
    "    # remove categorical cols -\n",
    "    #D̂₂ = D̂[:,index_to_scale];\n",
    "    D̂₂ = D̂;\n",
    "    \n",
    "    D̂₂, treated_dataset\n",
    "end;"
   ]
  },
  {
   "cell_type": "code",
   "execution_count": 8,
   "id": "8a4435f4-e93f-4d4e-a59b-3607b6940fb8",
   "metadata": {},
   "outputs": [
    {
     "data": {
      "text/plain": [
       "299×13 Matrix{Float64}:\n",
       "  1.19095    -1.0   0.000165451  -1.0  …   1.0  -1.0  -1.62678   1.0\n",
       " -0.490457   -1.0   7.50206      -1.0      1.0  -1.0  -1.60101   1.0\n",
       "  0.350246   -1.0  -0.449186     -1.0      1.0   1.0  -1.58812   1.0\n",
       " -0.910808    1.0  -0.485257     -1.0      1.0  -1.0  -1.58812   1.0\n",
       "  0.350246    1.0  -0.434757      1.0     -1.0  -1.0  -1.57524   1.0\n",
       "  2.452       1.0  -0.551217     -1.0  …   1.0   1.0  -1.57524   1.0\n",
       "  1.19095     1.0  -0.346124     -1.0      1.0  -1.0  -1.54947   1.0\n",
       " -0.0701056   1.0  -0.275011      1.0      1.0   1.0  -1.54947   1.0\n",
       "  0.350246   -1.0  -0.437849     -1.0     -1.0  -1.0  -1.54947   1.0\n",
       "  1.6113      1.0  -0.47289      -1.0      1.0   1.0  -1.54947   1.0\n",
       "  1.19095     1.0  -0.516176     -1.0  …   1.0   1.0  -1.54947   1.0\n",
       "  0.098035   -1.0  -0.361583     -1.0      1.0   1.0  -1.54947   1.0\n",
       " -1.33116     1.0   0.411384     -1.0      1.0  -1.0  -1.53659   1.0\n",
       "  ⋮                                    ⋱         ⋮              \n",
       " -1.33116    -1.0   0.000165451   1.0     -1.0  -1.0   1.54275  -1.0\n",
       "  0.350246   -1.0   0.319658      1.0     -1.0  -1.0   1.62005  -1.0\n",
       "  2.452       1.0  -0.252337     -1.0     -1.0  -1.0   1.62005  -1.0\n",
       " -1.33116    -1.0   0.034176      1.0  …  -1.0  -1.0   1.63294  -1.0\n",
       " -0.0701056  -1.0  -0.269858     -1.0      1.0  -1.0   1.64582  -1.0\n",
       " -0.742668   -1.0  -0.403838      1.0      1.0   1.0   1.64582  -1.0\n",
       "  0.182105    1.0  -0.493502      1.0      1.0   1.0   1.80043  -1.0\n",
       "  0.098035   -1.0  -0.536789      1.0      1.0   1.0   1.80043  -1.0\n",
       " -0.490457   -1.0   1.27608      -1.0  …  -1.0  -1.0   1.81332  -1.0\n",
       " -1.33116    -1.0   1.52342       1.0     -1.0  -1.0   1.90351  -1.0\n",
       " -1.33116    -1.0   1.88723      -1.0      1.0   1.0   1.92927  -1.0\n",
       " -0.910808   -1.0  -0.397655     -1.0      1.0   1.0   1.9937   -1.0"
      ]
     },
     "execution_count": 8,
     "metadata": {},
     "output_type": "execute_result"
    }
   ],
   "source": [
    "D"
   ]
  },
  {
   "cell_type": "markdown",
   "id": "d84792cd-8632-4c74-ac2e-47826e779af0",
   "metadata": {},
   "source": [
    "Let's set some constants that we'll need in the examples below. See the comment next to the constant for a description of what it is, it's permissible values, etc."
   ]
  },
  {
   "cell_type": "code",
   "execution_count": 10,
   "id": "1c6ac207-c756-4f20-b3e8-d8e019c9028b",
   "metadata": {},
   "outputs": [],
   "source": [
    "n = nrow(originaldataset); # how many example data points do we have?\n",
    "m = size(D,2); # number of features (number of cols)\n",
    "maxiter = 100000; # maximum iterations\n",
    "K = 3; # number of clusters. What number should we pick?\n",
    "ϵ = 1e-6; # tolerance for termination. We can set this to whatever we want"
   ]
  },
  {
   "cell_type": "markdown",
   "id": "f1a43c53-12b1-457a-b53f-6cac8298b2b4",
   "metadata": {},
   "source": [
    "Finally, let's set up the color dictionary for the visualizations in the lecture. The keys of the `my_color_dictionary::Dict{Int64,RGB}` dictionary are the cluster indexes, while the values are the colors mapped to that index."
   ]
  },
  {
   "cell_type": "code",
   "execution_count": 12,
   "id": "440e48b5-e728-40c8-8370-0cb06e408004",
   "metadata": {},
   "outputs": [],
   "source": [
    "my_color_dictionary = Dict{Int64,RGB}();\n",
    "my_color_dictionary[1] = colorant\"#03045e\";\n",
    "my_color_dictionary[2] = colorant\"#0077b6\";\n",
    "my_color_dictionary[3] = colorant\"#00b4d8\";\n",
    "my_color_dictionary[4] = colorant\"#ffc300\";\n",
    "my_color_dictionary[5] = colorant\"#e36414\";"
   ]
  },
  {
   "cell_type": "markdown",
   "id": "930e6ac3-c305-479a-b6d6-e9d513aae614",
   "metadata": {},
   "source": [
    "## Task 1: Build a K-means model and cluster the data\n",
    "Based on the [lecture notes](https://github.com/varnerlab/CHEME-5820-Lectures-Spring-2025/blob/main/lectures/week-1/L1c/docs/Notes.pdf), we've developed an [initial K-means implementation](src/Cluster.jl). Let's explore how this implementation performs on our sample clinical dataset. \n",
    "* Build [a `MyNaiveKMeansClusteringAlgorithm` instance](src/Types.jl), which holds information about the clustering, i.e., the number of clusters `K::Int,` information about the dataset such as the number of features `m::Int,` and the number of points `n::Int,` and stopping criteria information such as the maximum number of iterations `maxiter::Int` and tolerance `ϵ::Float64`. We'll store this model in the `model::MyNaiveKMeansClusteringAlgorithm` variable.\n",
    "* This is an example of [a factory type pattern](https://en.wikipedia.org/wiki/Factory_method_pattern), which uses [a `build(...)` method](src/Factory.jl) to construct and configure a complex object, i.e., set values for the properties on the model that must be computed. The [`build(...)` method](src/Factory.jl) takes the type of thing we want to build as the first argument, and the data required to construct the object (encoded [in a `NamedTupe` type](https://docs.julialang.org/en/v1/base/base/#Core.NamedTuple)) as the second argument."
   ]
  },
  {
   "cell_type": "code",
   "execution_count": 14,
   "id": "4f0de927-6c68-4ca0-addb-0b665ead7d16",
   "metadata": {},
   "outputs": [],
   "source": [
    "model = build(MyNaiveKMeansClusteringAlgorithm, (\n",
    "        maxiter = maxiter,\n",
    "        dimension = m,\n",
    "        number_of_points = n,\n",
    "        K = K,\n",
    "        ϵ = ϵ,\n",
    "        scale_factor = 1.0, # scale of the data\n",
    "));"
   ]
  },
  {
   "cell_type": "markdown",
   "id": "fc4c8883-9372-4134-bddc-8c9fde2bf664",
   "metadata": {},
   "source": [
    "### Initial clustering values\n",
    "The `model::MyNaiveKMeansClusteringAlgorithm` contains the data that we passed in, as well as two derived fields that we computed in [the `build(...)` method](src/Factory.jl), the centroids and initial assignments: \n",
    "* The `centroids::Dict{Int64, Vector{Float64}}` dictionary holds the centroid values $\\mu_1, \\dots, \\mu_K$ for each cluster. The dictionary's keys are the cluster index, while the values are the `m`-dimensional centroids (means) of the data points in that cluster. We initialize the centroids randomly.\n",
    "* The `assignments::Vector{Int64}` field is an `n`-dimensional vector holding the clustered index that each data point is assigned to. We initialize the assignments randomly.\n",
    "\n",
    "What is in the `centroids` and `assignments` fields of your model?"
   ]
  },
  {
   "cell_type": "code",
   "execution_count": 16,
   "id": "cc308bed-e6fa-478f-8f6b-56d3289eced1",
   "metadata": {},
   "outputs": [
    {
     "data": {
      "text/plain": [
       "Dict{Int64, Vector{Float64}} with 3 entries:\n",
       "  2 => [0.0329206, 0.0514251, 0.0673781, 0.611732, 0.97196, 0.00661736, 0.48513…\n",
       "  3 => [0.47667, 0.204957, 0.727464, 0.0553144, 0.985399, 0.994552, 0.674892, 0…\n",
       "  1 => [0.725998, 0.958233, 0.110244, 0.827162, 0.00502242, 0.763321, 0.656501,…"
      ]
     },
     "execution_count": 16,
     "metadata": {},
     "output_type": "execute_result"
    }
   ],
   "source": [
    "model.centroids"
   ]
  },
  {
   "cell_type": "markdown",
   "id": "7bfb9469-f3b5-4257-b3b8-f32d60061182",
   "metadata": {},
   "source": [
    "### Execute the clustering\n",
    "We call [the `cluster(...)` method](src/Cluster.jl) to refine our initial random cluster assignments and centroid values. The [`cluster(...)` method](src/Cluster.jl) takes a few arguments:\n",
    "\n",
    "* `D::Array{<:Number, 2}`: The first argument is the data matrix `D::Array{<:Number,2}` which we want to cluster. The data matrix has the features along the columns, and each row is a data (feature) vector $\\mathbf{x}$. Its values can be any type that is a subtype [of Number](https://docs.julialang.org/en/v1/base/numbers/#Core.Number). \n",
    "* `model::<: MyAbstractUnsupervisedClusteringAlgorithm`: The second argument is the cluster model instance, in this case, the `model::MyNaiveKMeansClusteringAlgorithm` instance that we built above. However, this can be any subtype of ` MyAbstractUnsupervisedClusteringAlgorithm.`\n",
    "    * __Why?__ Suppose we have different k-means implementations or different clustering logic altogether. In that case, we can take advantage of Julia's multiple dispatch functionality by passing in a different clustering model. This provides a single method for a user to call, which calls a different implementation.\n",
    "* `verbose::Bool`: The `verbose::Bool` argument tells our implementation whether to save data from each algorithm iteration. The default value is `false`. However, if the value is set to `true,` a save file holding the assignments, centroids, and loop index is written at each iteration.\n",
    "* `d::Any`. The optional distance argument can change how the similarity between feature vectors $\\mathbf{x}\\in\\mathcal{D}$ is calculated. We can use [any metrics exported by the `Distances.jl` package](https://github.com/JuliaStats/Distances.jl); by default, we [use the Euclidian distance](https://en.wikipedia.org/wiki/Euclidean_distance). \n",
    "\n",
    "The [`cluster(...)` method](src/Cluster.jl) returns cluster centroids, the assignments, and the number of iterations that it took to reach the final assignment in the `results::NamedTuple.`"
   ]
  },
  {
   "cell_type": "code",
   "execution_count": 18,
   "id": "830db8db-e689-4569-a8ef-caad986c7c8f",
   "metadata": {},
   "outputs": [],
   "source": [
    "result = cluster(D, model, verbose = false); # cluster the data"
   ]
  },
  {
   "cell_type": "code",
   "execution_count": 19,
   "id": "21cb3d0b-4df6-4237-8035-aad07b7bdbb5",
   "metadata": {},
   "outputs": [
    {
     "data": {
      "text/plain": [
       "299-element Vector{Int64}:\n",
       " 1\n",
       " 1\n",
       " 1\n",
       " 1\n",
       " 1\n",
       " 1\n",
       " 1\n",
       " 1\n",
       " 3\n",
       " 1\n",
       " 1\n",
       " 1\n",
       " 1\n",
       " ⋮\n",
       " 2\n",
       " 2\n",
       " 3\n",
       " 2\n",
       " 2\n",
       " 2\n",
       " 2\n",
       " 2\n",
       " 2\n",
       " 2\n",
       " 2\n",
       " 2"
      ]
     },
     "execution_count": 19,
     "metadata": {},
     "output_type": "execute_result"
    }
   ],
   "source": [
    "result.assignments"
   ]
  },
  {
   "cell_type": "code",
   "execution_count": 20,
   "id": "8988047b-f9d1-4089-88cc-e88e0d4781f4",
   "metadata": {},
   "outputs": [
    {
     "data": {
      "text/plain": [
       "Dict{Int64, Vector{Float64}} with 3 entries:\n",
       "  2 => [-0.339002, -0.572519, 0.0795391, -0.0229008, -0.160577, -0.648855, 0.07…\n",
       "  3 => [0.0780186, 0.376623, -0.186002, -0.454545, 0.832411, 0.0649351, -0.0173…\n",
       "  1 => [0.421998, 0.0549451, 0.0428853, -0.120879, -0.473187, -0.0989011, -0.09…"
      ]
     },
     "execution_count": 20,
     "metadata": {},
     "output_type": "execute_result"
    }
   ],
   "source": [
    "result.centroids"
   ]
  },
  {
   "cell_type": "markdown",
   "id": "be54a97e-9264-4d85-b078-a09b7ffd729b",
   "metadata": {},
   "source": [
    "Finally, how balanced are the clusters? Let's compute the fraction of our patient population in each cluster, and display this information in a table [using the `pretty_table(...)` function exported by the `PrettyTables.jl` package](https://github.com/ronisbr/PrettyTables.jl)"
   ]
  },
  {
   "cell_type": "code",
   "execution_count": 158,
   "id": "1b35f283-a24f-4aae-a891-70b4796ad6bd",
   "metadata": {
    "jupyter": {
     "source_hidden": true
    }
   },
   "outputs": [
    {
     "name": "stdout",
     "output_type": "stream",
     "text": [
      "========== ===========\n",
      " \u001b[1m cluster \u001b[0m \u001b[1m fraction \u001b[0m\n",
      " \u001b[90m   Int64 \u001b[0m \u001b[90m  Float64 \u001b[0m\n",
      "========== ===========\n",
      "        1   0.304348\n",
      "        2   0.438127\n",
      "        3   0.257525\n",
      "========== ===========\n"
     ]
    }
   ],
   "source": [
    "let\n",
    "\n",
    "    df = DataFrame(); # container for the fraction data\n",
    "    \n",
    "    for k ∈ 1:K # iterate over the number of clusters\n",
    "        Nᵢ = findall(x-> x == k, result.assignments) |> length;\n",
    "        row_df = (\n",
    "            cluster = k,\n",
    "            fraction = (Nᵢ/n)\n",
    "        );\n",
    "        push!(df, row_df)\n",
    "    end\n",
    "\n",
    "    pretty_table(df, tf=tf_simple)\n",
    "end"
   ]
  },
  {
   "cell_type": "markdown",
   "id": "1d0bb5d6-a623-4941-b359-cc4473a049bd",
   "metadata": {},
   "source": [
    "## Task 2: How many clusters should we choose?\n",
    "Of K-means' shortcomings, the need to specify the number of clusters $K$ in advance can be addressed with several heuristic methods. \n",
    "There are several methods to estimate the number of clusters; here, we'll explore three: the [silhouette method](https://en.wikipedia.org/wiki/Silhouette_(clustering)), the [Calinski-Harabasz index](https://en.wikipedia.org/wiki/Calinski%E2%80%93Harabasz_index) and [the Xie-Beni method](https://ieeexplore.ieee.org/document/7066274).\n",
    "\n",
    "* __Strategy__: the lecture showed that these methods could give different answers, and the answers depended on the initialization and the solution reached by the K-means code. Thus, we'll use a simple heuretic to decide how many clusters to use: we'll use the consensus minimum number of clusters. Suppose we use method $m_{1},m_{2},\\dots,m_{M}$ to determine the number of clusers. Then, let $K^{\\star} = \\min\\left\\{m_{1},m_{2},\\dots,m_{M}\\right\\}$."
   ]
  },
  {
   "cell_type": "markdown",
   "id": "ab4aa663-dd7d-44a4-8ede-1df146b83860",
   "metadata": {},
   "source": [
    "### Method 1: Silhouette method\n",
    "The silhouette method evaluates data consistency in clusters. The score ranges from -1 to 1; a high score means a data point fits well in its cluster but not in neighboring ones. The number of clusters $K$ is likely correct if most points score high. Conversely, many low scores suggest there may be too many or too few clusters. \n",
    "* The silhouette method is exported by [the `Clustering.jl` package](https://github.com/JuliaStats/Clustering.jl), so let's choose the buy side of the buy versus bill trade and use the prebuilt implementation of clustering and evaluation of the performance of the clustering. "
   ]
  },
  {
   "cell_type": "code",
   "execution_count": 23,
   "id": "86339d26-b85c-4fa1-973f-2ab636bbbe7f",
   "metadata": {},
   "outputs": [],
   "source": [
    "performance_array_silhouette = let\n",
    "\n",
    "    number_of_clusters_to_explore = 10;\n",
    "    KA = range(2,stop=number_of_clusters_to_explore, step=1) |> collect;\n",
    "    tmp = Array{Float64,2}(undef, length(KA), 2);\n",
    "\n",
    "    for i ∈ eachindex(KA)\n",
    "\n",
    "        Kᵢ = KA[i]; # how many clusters?\n",
    "        R = kmeans(transpose(D),  Kᵢ; maxiter=maxiter, display=:none) # sensitive to the choice of maxiter. # Clustering.jl use the transpose of our method\n",
    "        M = R.centers # get the cluster centers\n",
    "        a = assignments(R) # get the assignments of points to clusters\n",
    "        value = clustering_quality(transpose(D), a; quality_index = :silhouettes)\n",
    "        \n",
    "        tmp[i,1] = Kᵢ;\n",
    "        tmp[i,2] = value;\n",
    "    end\n",
    "    tmp\n",
    "end;"
   ]
  },
  {
   "cell_type": "code",
   "execution_count": 24,
   "id": "71e402f5-e271-40ce-aad3-72f0ca494ff9",
   "metadata": {},
   "outputs": [
    {
     "data": {
      "text/plain": [
       "9×2 Matrix{Float64}:\n",
       "  2.0  0.253674\n",
       "  3.0  0.156472\n",
       "  4.0  0.157629\n",
       "  5.0  0.0954838\n",
       "  6.0  0.158075\n",
       "  7.0  0.162528\n",
       "  8.0  0.159886\n",
       "  9.0  0.14845\n",
       " 10.0  0.160525"
      ]
     },
     "execution_count": 24,
     "metadata": {},
     "output_type": "execute_result"
    }
   ],
   "source": [
    "performance_array_silhouette"
   ]
  },
  {
   "cell_type": "code",
   "execution_count": 167,
   "id": "2c8a0b1a-5993-42bd-84fb-10a15fd3fcbe",
   "metadata": {},
   "outputs": [
    {
     "name": "stdout",
     "output_type": "stream",
     "text": [
      "Predicted number of clusters by the silhouette method : 2.0\n"
     ]
    }
   ],
   "source": [
    "k₁ = let\n",
    "    kopt = argmax(performance_array_silhouette[:,2]) |> j -> performance_array_silhouette[j,1]\n",
    "    println(\"Predicted number of clusters by the silhouette method : $(kopt)\")\n",
    "    kopt;\n",
    "end;"
   ]
  },
  {
   "cell_type": "markdown",
   "id": "862f3287-3f0b-4931-94f2-b78e377e55d5",
   "metadata": {},
   "source": [
    "### Method 2: Calinski–Harabasz index (CHI)\n",
    "The [Calinski–Harabasz index (CHI)](https://en.wikipedia.org/wiki/Calinski%E2%80%93Harabasz_index), also known as the Variance Ratio Criterion, is a widely used metric for assessing the quality of clustering algorithms. Introduced by [Tadeusz Caliński and Jerzy Harabasz in 1974](https://www.tandfonline.com/doi/abs/10.1080/03610927408827101), it evaluates the clustering performance by comparing the ratio of between-cluster variance to within-cluster variance, with higher values indicating better-defined clusters\n",
    "* The CHI method is exported by [the `Clustering.jl` package](https://github.com/JuliaStats/Clustering.jl), so let's choose the buy side of the buy versus bill trade and use the prebuilt implementation of clustering and evaluation of the performance of the clustering. "
   ]
  },
  {
   "cell_type": "code",
   "execution_count": 27,
   "id": "c5870872-dd52-4ea1-b75b-7a15e3c5ba97",
   "metadata": {},
   "outputs": [],
   "source": [
    "performance_array_CHI = let\n",
    "\n",
    "    number_of_samples = size(D,1);\n",
    "    number_of_features = size(D,2);\n",
    "    number_of_clusters_to_explore = 10;\n",
    "    KA = range(2,stop=number_of_clusters_to_explore, step=1) |> collect;\n",
    "    tmp = Array{Float64,2}(undef, number_of_clusters_to_explore-1, 2);\n",
    "\n",
    "    for i ∈ eachindex(KA)\n",
    "\n",
    "        Kᵢ = KA[i]; # how many clusters?\n",
    "        R = kmeans(transpose(D), Kᵢ; maxiter=maxiter, display=:none); # Clustering.jl use the transpose of our method\n",
    "        M = R.centers # get the cluster centers\n",
    "        a = assignments(R) # get the assignments of points to clusters\n",
    "        value = clustering_quality(transpose(D), M, a; quality_index = :calinski_harabasz)\n",
    "        \n",
    "        tmp[i,1] = Kᵢ;\n",
    "        tmp[i,2] = value;\n",
    "    end\n",
    "    tmp\n",
    "end;"
   ]
  },
  {
   "cell_type": "code",
   "execution_count": 169,
   "id": "47642c17-de97-45fb-958a-5fb8c825a7b6",
   "metadata": {},
   "outputs": [
    {
     "name": "stdout",
     "output_type": "stream",
     "text": [
      "Predicted number of clusters by CHI: 2.0\n"
     ]
    }
   ],
   "source": [
    "k₂ = let\n",
    "    kopt = argmax(performance_array_CHI[:,2]) |> j -> performance_array_CHI[j,1]\n",
    "    println(\"Predicted number of clusters by CHI: $(kopt)\")\n",
    "    kopt;\n",
    "end;"
   ]
  },
  {
   "cell_type": "markdown",
   "id": "6e974678-cc11-45d9-a135-5e0a9ffde961",
   "metadata": {},
   "source": [
    "### Method 3: Xie Beni index (XBI)\n",
    "The Xie-Beni index measures the ratio between the summed inertia of clusters and the minimum distance between cluster centers. See: \n",
    "\n",
    "* [M. Muranishi, K. Honda and A. Notsu, \"Application of xie-beni-type validity index to fuzzy co-clustering models based on cluster aggregation and pseudo-cluster-center estimation,\" 2014 14th International Conference on Intelligent Systems Design and Applications, Okinawa, Japan, 2014, pp. 34-38, doi: 10.1109/ISDA.2014.7066274.](https://ieeexplore.ieee.org/document/7066274)\n",
    "* The Xie-Beni method is exported by [the `Clustering.jl` package](https://github.com/JuliaStats/Clustering.jl), so let's choose the buy side of the buy versus bill trade and use the prebuilt implementation of clustering and evaluation of the performance of the clustering. "
   ]
  },
  {
   "cell_type": "code",
   "execution_count": 30,
   "id": "a8c382d3-2f66-4c94-b2b1-7925090dfb0a",
   "metadata": {},
   "outputs": [],
   "source": [
    "performance_array_xie_beni = let\n",
    "\n",
    "    number_of_samples = size(D,1);\n",
    "    number_of_features = size(D,2);\n",
    "    number_of_clusters_to_explore = 10;\n",
    "    KA = range(2,stop=number_of_clusters_to_explore, step=1) |> collect;\n",
    "    tmp = Array{Float64,2}(undef, number_of_clusters_to_explore-1, 2);\n",
    "\n",
    "    for i ∈ eachindex(KA)\n",
    "\n",
    "        Kᵢ = KA[i]; # how many clusters?\n",
    "        R = kmeans(transpose(D), Kᵢ; maxiter=maxiter, display=:none); # Clustering.jl use the transpose of our method\n",
    "        M = R.centers # get the cluster centers\n",
    "        a = assignments(R) # get the assignments of points to clusters\n",
    "        value = clustering_quality(transpose(D), M, a; quality_index = :xie_beni)\n",
    "        \n",
    "        tmp[i,1] = Kᵢ;\n",
    "        tmp[i,2] = value;\n",
    "    end\n",
    "    tmp\n",
    "end;"
   ]
  },
  {
   "cell_type": "code",
   "execution_count": 173,
   "id": "dfadf518-cff2-4a8d-b49f-b71654d2f6a4",
   "metadata": {},
   "outputs": [
    {
     "name": "stdout",
     "output_type": "stream",
     "text": [
      "Predicted number of clusters by XBI: 10.0\n"
     ]
    }
   ],
   "source": [
    "k₃ = let\n",
    "    kopt = argmin(performance_array_xie_beni[:,2]) |> j -> performance_array_xie_beni[j,1]\n",
    "    println(\"Predicted number of clusters by XBI: $(kopt)\")\n",
    "    kopt;\n",
    "end;"
   ]
  },
  {
   "cell_type": "markdown",
   "id": "24894224-bde2-4e5b-a5df-3f9012a91b38",
   "metadata": {},
   "source": [
    "Finally, let's compute $K^{\\star}$:"
   ]
  },
  {
   "cell_type": "code",
   "execution_count": 178,
   "id": "fbb7a8b4-9c10-49a9-89ca-cf5c240bfffd",
   "metadata": {},
   "outputs": [
    {
     "data": {
      "text/plain": [
       "2.0"
      ]
     },
     "execution_count": 178,
     "metadata": {},
     "output_type": "execute_result"
    }
   ],
   "source": [
    "K = minimum([k₁,k₂,k₃])"
   ]
  },
  {
   "cell_type": "markdown",
   "id": "f6f08ec4-7eb8-4af5-800f-4066decfb26c",
   "metadata": {},
   "source": [
    "## Task 3: Interpretation of the clusters\n",
    "We've run the clustering algorithm on the clinical dataset. Now, let's figure out what is in each cluster. In particular, specify which cluster we want to analyze in the `my_cluster_index::Int64` variable, where `my_cluster_index` $\\in\\left\\{1,2,\\dots,K\\right\\}$."
   ]
  },
  {
   "cell_type": "code",
   "execution_count": 97,
   "id": "1f5b214f-6485-4e28-93fb-a06037ade9c8",
   "metadata": {},
   "outputs": [],
   "source": [
    "my_cluster_index = 2; # i ∈ {1,2,...,K}"
   ]
  },
  {
   "cell_type": "markdown",
   "id": "ae8e075f-0da8-461a-a403-3c3f49d1f9c1",
   "metadata": {},
   "source": [
    "Next, let's make a table [using the `pretty_table(...)` function exported by the `PrettyTables.jl` package](https://github.com/ronisbr/PrettyTables.jl) which displays the raw data associated with `my_cluster_index::Int64`. This table will display the raw (scaled) data from `D::Array{Float64,2}`. "
   ]
  },
  {
   "cell_type": "code",
   "execution_count": 148,
   "id": "ed5b8c9c-7f97-413d-adce-9d931bccb0b5",
   "metadata": {},
   "outputs": [
    {
     "name": "stdout",
     "output_type": "stream",
     "text": [
      "======== ======= ============ ========= ===================== ============== ========= ==========\n",
      " \u001b[1m     c \u001b[0m \u001b[1m    id \u001b[0m \u001b[1m        age \u001b[0m \u001b[1m  gender \u001b[0m \u001b[1m high_blood_pressure \u001b[0m \u001b[1m serum_sodium \u001b[0m \u001b[1m smoking \u001b[0m \u001b[1m   death \u001b[0m\n",
      " \u001b[90m Int64 \u001b[0m \u001b[90m Int64 \u001b[0m \u001b[90m    Float64 \u001b[0m \u001b[90m Float64 \u001b[0m \u001b[90m             Float64 \u001b[0m \u001b[90m      Float64 \u001b[0m \u001b[90m Float64 \u001b[0m \u001b[90m Float64 \u001b[0m\n",
      "======== ======= ============ ========= ===================== ============== ========= ==========\n",
      "      2      39   -0.0701056       1.0                  -1.0      0.0848915      -1.0      -1.0\n",
      "      2      63    -0.490457       1.0                  -1.0       0.538152       1.0      -1.0\n",
      "      2      64     -1.33116       1.0                  -1.0        1.89793      -1.0       1.0\n",
      "      2      71     -1.66744       1.0                  -1.0       0.764782       1.0      -1.0\n",
      "      2      72    -0.238246       1.0                  -1.0       0.538152       1.0      -1.0\n",
      "      2      74     0.350246       1.0                  -1.0      0.0848915       1.0      -1.0\n",
      "      2      78     -1.58337       1.0                  -1.0       0.764782      -1.0      -1.0\n",
      "      2      82     0.518386       1.0                  -1.0      0.0848915       1.0      -1.0\n",
      "      2      89     -1.41523       1.0                   1.0       0.538152      -1.0      -1.0\n",
      "      2      91     0.770597       1.0                  -1.0      -0.141739       1.0      -1.0\n",
      "      2      92   -0.0701056       1.0                  -1.0      -0.821629      -1.0      -1.0\n",
      "      2     103       1.6113       1.0                  -1.0         1.6713       1.0      -1.0\n",
      "      2     104     -1.58337       1.0                  -1.0       0.764782       1.0      -1.0\n",
      "      2     107    -0.490457       1.0                  -1.0      0.0848915      -1.0      -1.0\n",
      "      2     108     -1.33116       1.0                  -1.0       0.311522      -1.0      -1.0\n",
      "      2     109     0.182105       1.0                  -1.0      -0.821629       1.0      -1.0\n",
      "      2     110     -1.33116       1.0                  -1.0        1.21804       1.0      -1.0\n",
      "      2     112    -0.490457       1.0                  -1.0      -0.368369       1.0      -1.0\n",
      "      2     113    -0.910808       1.0                  -1.0      -0.141739      -1.0      -1.0\n",
      "      2     123   -0.0701056      -1.0                  -1.0       0.764782      -1.0      -1.0\n",
      "      2     129    0.0139647       1.0                   1.0      -0.141739       1.0      -1.0\n",
      "      2     130    -0.658598       1.0                  -1.0        1.89793      -1.0      -1.0\n",
      "      2     135      1.69537       1.0                  -1.0      0.0848915       1.0      -1.0\n",
      "      2     136      1.19095       1.0                  -1.0      0.0848915      -1.0      -1.0\n",
      "      2     139     0.098035      -1.0                  -1.0      -0.141739      -1.0      -1.0\n",
      "      2     140    -0.910808       1.0                   1.0       0.311522      -1.0      -1.0\n",
      "      2     143    -0.910808      -1.0                  -1.0       -1.04826      -1.0      -1.0\n",
      "      2     146    -0.910808       1.0                  -1.0       0.991412       1.0      -1.0\n",
      "      2     147    -0.742668       1.0                  -1.0      -0.141739       1.0      -1.0\n",
      "      2     150   -0.0701056       1.0                   1.0      -0.141739      -1.0      -1.0\n",
      "      2     153    -0.910808       1.0                   1.0      -0.594999       1.0      -1.0\n",
      "      2     154    -0.910808       1.0                  -1.0      0.0848915       1.0      -1.0\n",
      "      2     156   -0.0701056       1.0                  -1.0       0.764782      -1.0      -1.0\n",
      "      2     158    -0.910808       1.0                  -1.0      -0.141739       1.0      -1.0\n",
      "      2     162     -1.33116       1.0                  -1.0       0.538152       1.0      -1.0\n",
      "      2     163     0.182105       1.0                  -1.0      0.0848915       1.0      -1.0\n",
      "      2     165     -1.33116       1.0                  -1.0       0.538152      -1.0       1.0\n",
      "      2     167    -0.658598       1.0                  -1.0      -0.821629       1.0      -1.0\n",
      "      2     169     0.350246      -1.0                  -1.0       0.311522      -1.0      -1.0\n",
      "      2     171    -0.826738       1.0                  -1.0      -0.141739       1.0      -1.0\n",
      "      2     172    -0.742668       1.0                  -1.0       0.764782       1.0      -1.0\n",
      "      2     174    -0.910808       1.0                  -1.0       0.538152      -1.0      -1.0\n",
      "      2     175     0.350246       1.0                   1.0      0.0848915       1.0      -1.0\n",
      "      2     177     0.686527       1.0                  -1.0      -0.368369       1.0      -1.0\n",
      "      2     180    -0.490457       1.0                  -1.0       0.764782       1.0      -1.0\n",
      "      2     181     -1.75151       1.0                  -1.0      -0.141739      -1.0      -1.0\n",
      "      2     188   -0.0701056      -1.0                  -1.0         1.6713      -1.0       1.0\n",
      "      2     191       1.6113       1.0                  -1.0      -0.594999      -1.0      -1.0\n",
      "      2     193    -0.910808       1.0                  -1.0       -1.50152      -1.0      -1.0\n",
      "      2     194      1.02281       1.0                  -1.0        1.21804       1.0      -1.0\n",
      "      2     197     -1.33116      -1.0                   1.0      0.0848915      -1.0      -1.0\n",
      "      2     198     0.350246      -1.0                  -1.0       0.311522      -1.0      -1.0\n",
      "      2     199    -0.910808      -1.0                   1.0      -0.594999      -1.0      -1.0\n",
      "      2     200   -0.0701056       1.0                  -1.0       -5.35423       1.0      -1.0\n",
      "      2     202     -1.33116       1.0                   1.0      -0.141739      -1.0      -1.0\n",
      "      2     204   -0.0701056       1.0                   1.0      -0.141739       1.0      -1.0\n",
      "      2     205      1.44316       1.0                  -1.0      0.0848915       1.0      -1.0\n",
      "      2     208      2.03165       1.0                  -1.0      -0.141739      -1.0      -1.0\n",
      "      2     210    -0.994879      -1.0                   1.0       -1.50152      -1.0      -1.0\n",
      "      2     211     0.770597       1.0                   1.0      -0.141739       1.0      -1.0\n",
      "      2     213      1.44316       1.0                  -1.0       0.311522       1.0      -1.0\n",
      "      2     216      1.02281       1.0                   1.0      -0.594999      -1.0      -1.0\n",
      "      2     219     0.602457       1.0                  -1.0      -0.594999      -1.0      -1.0\n",
      "      2     220    -0.490457      -1.0                   1.0       0.764782      -1.0      -1.0\n",
      "      2     222     0.350246       1.0                  -1.0        1.89793       1.0      -1.0\n",
      "      2     223     -1.58337       1.0                  -1.0       0.538152       1.0      -1.0\n",
      "      2     224     -1.16302       1.0                  -1.0      -0.594999      -1.0      -1.0\n",
      "      2     225    -0.238246       1.0                  -1.0       0.311522      -1.0      -1.0\n",
      "      2     226      1.19095      -1.0                  -1.0       -2.63467      -1.0      -1.0\n",
      "      2     227    -0.238246       1.0                  -1.0       -1.04826       1.0      -1.0\n",
      "      2     229     0.350246      -1.0                  -1.0       -1.50152      -1.0      -1.0\n",
      "      2     230     0.938738      -1.0                  -1.0      -0.594999      -1.0      -1.0\n",
      "      2     232     0.770597       1.0                  -1.0      -0.594999       1.0      -1.0\n",
      "      2     233     -1.75151       1.0                  -1.0      0.0848915      -1.0      -1.0\n",
      "      2     234    -0.658598       1.0                  -1.0      0.0848915       1.0      -1.0\n",
      "      2     235    -0.658598       1.0                  -1.0      0.0848915       1.0      -1.0\n",
      "      2     238     0.770597       1.0                  -1.0       -1.04826      -1.0      -1.0\n",
      "      2     240    -0.490457       1.0                  -1.0      0.0848915       1.0      -1.0\n",
      "      2     241     0.770597      -1.0                   1.0       0.538152      -1.0      -1.0\n",
      "      2     242     0.350246       1.0                  -1.0      -0.141739       1.0      -1.0\n",
      "      2     243     -1.75151       1.0                  -1.0      -0.141739       1.0      -1.0\n",
      "      2     245    -0.574527       1.0                  -1.0      -0.594999      -1.0      -1.0\n",
      "      2     246    0.0139647       1.0                  -1.0      0.0848915      -1.0      -1.0\n",
      "      2     247    -0.490457       1.0                  -1.0       0.311522      -1.0       1.0\n",
      "      2     248     0.266176       1.0                  -1.0      -0.368369      -1.0      -1.0\n",
      "      2     249     -1.75151       1.0                  -1.0        1.21804       1.0      -1.0\n",
      "      2     250    -0.658598      -1.0                  -1.0       -1.50152      -1.0      -1.0\n",
      "      2     251    -0.910808      -1.0                   1.0       0.538152      -1.0      -1.0\n",
      "      2     252    -0.490457      -1.0                  -1.0        1.44467      -1.0      -1.0\n",
      "      2     253    -0.910808       1.0                   1.0      -0.821629      -1.0      -1.0\n",
      "      2     254     0.770597      -1.0                   1.0       -1.04826      -1.0      -1.0\n",
      "      2     256    -0.742668       1.0                   1.0        1.21804       1.0      -1.0\n",
      "      2     257     0.350246      -1.0                  -1.0       0.538152      -1.0      -1.0\n",
      "      2     258    -0.238246       1.0                   1.0       0.538152      -1.0      -1.0\n",
      "      2     259     -1.33116       1.0                  -1.0      -0.368369      -1.0      -1.0\n",
      "      2     260    -0.658598       1.0                  -1.0      -0.368369       1.0      -1.0\n",
      "      2     261    -0.490457       1.0                  -1.0       0.311522      -1.0      -1.0\n",
      "      2     265    0.0139647       1.0                  -1.0       0.991412      -1.0      -1.0\n",
      "      2     266    -0.910808       1.0                  -1.0       0.764782       1.0      -1.0\n",
      "      2     267    -0.490457       1.0                  -1.0      -0.594999       1.0       1.0\n",
      "      2     268    -0.406387       1.0                  -1.0       0.764782      -1.0      -1.0\n",
      "      2     269     -1.33116      -1.0                  -1.0       0.764782      -1.0      -1.0\n",
      "      2     270     -1.75151       1.0                  -1.0       -1.04826      -1.0      -1.0\n",
      "      2     271     -1.41523       1.0                   1.0       -1.50152       1.0      -1.0\n",
      "      2     272    -0.826738      -1.0                  -1.0      -0.594999      -1.0      -1.0\n",
      "      2     273     0.518386      -1.0                  -1.0      -0.821629      -1.0      -1.0\n",
      "      2     274     -1.58337       1.0                  -1.0       0.764782      -1.0      -1.0\n",
      "      2     275   -0.0701056       1.0                  -1.0      0.0848915       1.0      -1.0\n",
      "      2     276     -1.33116      -1.0                   1.0      0.0848915      -1.0      -1.0\n",
      "      2     277     0.770597      -1.0                  -1.0        1.21804      -1.0      -1.0\n",
      "      2     278     0.770597       1.0                  -1.0       0.764782      -1.0      -1.0\n",
      "      2     279    -0.910808      -1.0                  -1.0      -0.141739      -1.0      -1.0\n",
      "      2     280    -0.490457      -1.0                  -1.0      -0.141739      -1.0      -1.0\n",
      "      2     281     0.770597       1.0                  -1.0      0.0848915      -1.0      -1.0\n",
      "      2     282     0.770597       1.0                  -1.0      -0.141739       1.0      -1.0\n",
      "      2     283     -1.58337       1.0                  -1.0       -1.95478       1.0      -1.0\n",
      "      2     284     0.350246       1.0                  -1.0       0.311522       1.0      -1.0\n",
      "      2     285    -0.910808       1.0                  -1.0       0.991412      -1.0      -1.0\n",
      "      2     286    -0.490457       1.0                  -1.0      -0.368369      -1.0      -1.0\n",
      "      2     287   -0.0701056       1.0                  -1.0       0.764782      -1.0      -1.0\n",
      "      2     288     -1.33116      -1.0                  -1.0       -1.04826      -1.0      -1.0\n",
      "      2     289     0.350246      -1.0                  -1.0        1.21804      -1.0      -1.0\n",
      "      2     291     -1.33116      -1.0                  -1.0       0.991412      -1.0      -1.0\n",
      "      2     292   -0.0701056       1.0                  -1.0       0.538152      -1.0      -1.0\n",
      "      2     293    -0.742668       1.0                  -1.0       0.764782       1.0      -1.0\n",
      "      2     294     0.182105       1.0                  -1.0      -0.141739       1.0      -1.0\n",
      "      2     295     0.098035       1.0                   1.0        1.44467       1.0      -1.0\n",
      "      2     296    -0.490457      -1.0                  -1.0       0.538152      -1.0      -1.0\n",
      "      2     297     -1.33116      -1.0                  -1.0       0.311522      -1.0      -1.0\n",
      "      2     298     -1.33116       1.0                  -1.0       0.764782       1.0      -1.0\n",
      "      2     299    -0.910808       1.0                  -1.0      -0.141739       1.0      -1.0\n",
      "======== ======= ============ ========= ===================== ============== ========= ==========\n"
     ]
    }
   ],
   "source": [
    "let\n",
    "\n",
    "    # names - \n",
    "    names_dictionary = Dict{String,Int}();\n",
    "    loopcounter = 1;\n",
    "    for name ∈ names(dataset)\n",
    "        names_dictionary[name] = loopcounter;\n",
    "        loopcounter += 1;\n",
    "    end\n",
    "\n",
    "    df = DataFrame(); \n",
    "    assignment = result.assignments;\n",
    "    index_array = findall(a -> a == my_cluster_index, assignment);\n",
    "\n",
    "    for i ∈ eachindex(index_array)\n",
    "        a = index_array[i]; # what is the assignment\n",
    "        row_df = (\n",
    "            c = my_cluster_index,\n",
    "            id = a, # proxy for patient id?\n",
    "            age = D[a,names_dictionary[\"age\"]],\n",
    "            gender = D[a,names_dictionary[\"sex\"]],\n",
    "            high_blood_pressure = D[a,names_dictionary[\"high_blood_pressure\"]],\n",
    "            serum_sodium = D[a,names_dictionary[\"serum_sodium\"]],\n",
    "            smoking = D[a,names_dictionary[\"smoking\"]],\n",
    "            death = D[a, names_dictionary[\"death_event\"]]\n",
    "        );\n",
    "        push!(df, row_df);\n",
    "    end\n",
    "    pretty_table(df, tf = tf_simple)\n",
    "end"
   ]
  },
  {
   "cell_type": "markdown",
   "id": "6f69cb97-cf17-45fb-96f1-1ecebf1e8749",
   "metadata": {},
   "source": [
    "We can see the averages, i.e., the centroids of each feature in the `my_cluster_index::Int` by looking at the centroids dictionary. This will "
   ]
  },
  {
   "cell_type": "code",
   "execution_count": 142,
   "id": "a69e3349-23a1-40d8-8c0e-19ed9c08eb06",
   "metadata": {
    "jupyter": {
     "source_hidden": true
    }
   },
   "outputs": [
    {
     "name": "stdout",
     "output_type": "stream",
     "text": [
      "======== =========== ========== ===================== ============== =========== ============\n",
      " \u001b[1m     c \u001b[0m \u001b[1m       age \u001b[0m \u001b[1m   gender \u001b[0m \u001b[1m high_blood_pressure \u001b[0m \u001b[1m serum_sodium \u001b[0m \u001b[1m   smoking \u001b[0m \u001b[1m     death \u001b[0m\n",
      " \u001b[90m Int64 \u001b[0m \u001b[90m   Float64 \u001b[0m \u001b[90m  Float64 \u001b[0m \u001b[90m             Float64 \u001b[0m \u001b[90m      Float64 \u001b[0m \u001b[90m   Float64 \u001b[0m \u001b[90m   Float64 \u001b[0m\n",
      "======== =========== ========== ===================== ============== =========== ============\n",
      "      2   -0.339002   0.526718             -0.648855      0.0589415   -0.145038   -0.923664\n",
      "======== =========== ========== ===================== ============== =========== ============\n"
     ]
    }
   ],
   "source": [
    "let\n",
    "\n",
    "    # names - \n",
    "    names_dictionary = Dict{String,Int}();\n",
    "    loopcounter = 1;\n",
    "    for name ∈ names(dataset)\n",
    "        names_dictionary[name] = loopcounter;\n",
    "        loopcounter += 1;\n",
    "    end\n",
    "    \n",
    "    μ = result.centroids[my_cluster_index]\n",
    "    df = DataFrame();\n",
    "    row_df = (\n",
    "        c = my_cluster_index,\n",
    "        age = μ[names_dictionary[\"age\"]],\n",
    "        gender = μ[names_dictionary[\"sex\"]],\n",
    "        high_blood_pressure = μ[names_dictionary[\"high_blood_pressure\"]],\n",
    "        serum_sodium = μ[names_dictionary[\"serum_sodium\"]],\n",
    "        smoking = μ[names_dictionary[\"smoking\"]],\n",
    "        death = μ[names_dictionary[\"death_event\"]],\n",
    "    );\n",
    "    push!(df, row_df);\n",
    "    pretty_table(df, tf=tf_simple)\n",
    "end"
   ]
  },
  {
   "cell_type": "code",
   "execution_count": null,
   "id": "4813da0e-4b55-404d-840e-70db66be20b6",
   "metadata": {},
   "outputs": [],
   "source": []
  }
 ],
 "metadata": {
  "kernelspec": {
   "display_name": "Julia 1.11.2",
   "language": "julia",
   "name": "julia-1.11"
  },
  "language_info": {
   "file_extension": ".jl",
   "mimetype": "application/julia",
   "name": "julia",
   "version": "1.11.2"
  }
 },
 "nbformat": 4,
 "nbformat_minor": 5
}
